{
 "cells": [
  {
   "cell_type": "markdown",
   "metadata": {},
   "source": [
    "## Draw Sankey of UK Energy System"
   ]
  },
  {
   "cell_type": "markdown",
   "metadata": {},
   "source": [
    "The first step involves importing all the necessary packages to crete the Sankey"
   ]
  },
  {
   "cell_type": "code",
   "execution_count": null,
   "metadata": {
    "collapsed": true
   },
   "outputs": [],
   "source": [
    "import pandas as pd\n",
    "from sankeyview import *\n",
    "from sankeyview.jupyter import show_sankey"
   ]
  },
  {
   "cell_type": "markdown",
   "metadata": {},
   "source": [
    "Then we proceed to load the data that we want to draw. In one worksheet we have all the flows, while in the other worksheet we have information about each process in the diagram."
   ]
  },
  {
   "cell_type": "code",
   "execution_count": null,
   "metadata": {
    "collapsed": true
   },
   "outputs": [],
   "source": [
    "FILENAME = './UK_Energy_Sankey_data.xlsx'\n",
    "processes = pd.read_excel(FILENAME, sheetname='Processes', index_col=0)\n",
    "flows = pd.read_excel(FILENAME, sheetname='Flows')"
   ]
  },
  {
   "cell_type": "markdown",
   "metadata": {},
   "source": [
    "We need to make sure that there is no repetition of flows in the data. Therefore we group and sum all flows."
   ]
  },
  {
   "cell_type": "code",
   "execution_count": null,
   "metadata": {
    "collapsed": true
   },
   "outputs": [],
   "source": [
    "flows = flows.groupby(['source', 'target', 'type'], as_index=False).sum()"
   ]
  },
  {
   "cell_type": "markdown",
   "metadata": {},
   "source": [
    "We now create the variable which will be used to plot the diagram"
   ]
  },
  {
   "cell_type": "code",
   "execution_count": null,
   "metadata": {
    "collapsed": true
   },
   "outputs": [],
   "source": [
    "dataset = Dataset(flows, dim_process=processes)"
   ]
  },
  {
   "cell_type": "markdown",
   "metadata": {},
   "source": [
    "Here we should write down how we want to group each layer of the diagram. This is important also to establish in which order do we the flows to appear. The source grouping is already written down. Try to write one for the end-uses"
   ]
  },
  {
   "cell_type": "code",
   "execution_count": null,
   "metadata": {
    "collapsed": true
   },
   "outputs": [],
   "source": [
    "source_grouping = Partition.Simple(\n",
    "    'process',\n",
    "    ['Gas',\n",
    "    'Liquid fuel',\n",
    "    'Coal',\n",
    "    'Nuclear',\n",
    "    'Solid biomass & Waste',\n",
    "    'Renewable',\n",
    "    'Primary Electricity',\n",
    "    'Heat',\n",
    "    'Electricity'\n",
    "])\n",
    "\n"
   ]
  },
  {
   "cell_type": "code",
   "execution_count": null,
   "metadata": {
    "collapsed": true
   },
   "outputs": [],
   "source": [
    "processes.index.values"
   ]
  },
  {
   "cell_type": "markdown",
   "metadata": {},
   "source": [
    "Here is where we define the nodes and the bundles of the diagram. Essentially we tell the program the names of the nodes, then we tell it in what order they should come (from left to right), then we tell the program from where to where the flows should go.\n",
    "\n",
    "The information about the \"Level\" is contained in the processes worksheet. "
   ]
  },
  {
   "cell_type": "code",
   "execution_count": null,
   "metadata": {
    "collapsed": true
   },
   "outputs": [],
   "source": [
    "default_grouping =  Partition.Simple('process', processes.index.values)\n",
    "\n",
    "nodes = {\n",
    "    'inputs':           ProcessGroup(selection=\"Level == 1\", partition=source_grouping),\n",
    "    'Power Plants':     ProcessGroup(selection=\"Level == 11\",partition=default_grouping),\n",
    "    'Devices':          ProcessGroup(selection='Level == 2', partition=default_grouping),\n",
    "    'Useful':           ProcessGroup(selection='Level == 3', partition=default_grouping) \n",
    "}\n",
    "# Nota Bene\n",
    "# You sould change the default grouping option once you \n",
    "# have written out the grouping options for each layer!\n",
    "\n",
    "order = [\n",
    "    ['inputs'],\n",
    "    ['Power Plants'],\n",
    "    ['Devices'],\n",
    "    ['Useful']\n",
    "]\n",
    "\n",
    "bundles = [\n",
    "    Bundle('inputs', 'Devices'),\n",
    "    Bundle('inputs', 'Power Plants'),\n",
    "    Bundle('Power Plants', 'Devices'),\n",
    "    Bundle('Power Plants', 'Useful'),\n",
    "    Bundle('Devices','Useful')\n",
    "]"
   ]
  },
  {
   "cell_type": "markdown",
   "metadata": {},
   "source": [
    "Once all this information is provided, we can compile the variable which generates the structure of the Sankey."
   ]
  },
  {
   "cell_type": "code",
   "execution_count": null,
   "metadata": {
    "collapsed": true
   },
   "outputs": [],
   "source": [
    "vd = SankeyDefinition(nodes, bundles, order, flow_partition=dataset.partition('type'))"
   ]
  },
  {
   "cell_type": "markdown",
   "metadata": {},
   "source": [
    "Before we draw the sankey, we need to tell it what colours we want each flow to be. That can be done by defining a Palette. A fwe colours are determined aleady. Add a few more to make the Sankey more interesting."
   ]
  },
  {
   "cell_type": "code",
   "execution_count": null,
   "metadata": {
    "collapsed": true
   },
   "outputs": [],
   "source": [
    "from collections import defaultdict\n",
    "palette = defaultdict(lambda: '#999')\n",
    "palette['Coal'] = 'black'\n",
    "palette['Electricity'] = 'yellow'"
   ]
  },
  {
   "cell_type": "markdown",
   "metadata": {},
   "source": [
    "Now we are ready to plot the sankey."
   ]
  },
  {
   "cell_type": "code",
   "execution_count": null,
   "metadata": {
    "collapsed": true
   },
   "outputs": [],
   "source": [
    "show_sankey(vd, dataset, palette=palette)\n",
    "# If you want to save the Sankey to the local directory, \n",
    "# just add the \"auto_save_png\" as shown below."
   ]
  },
  {
   "cell_type": "markdown",
   "metadata": {},
   "source": [
    "You can adjust the size and shape of the diagram by definining a height and width ( in pixels)"
   ]
  },
  {
   "cell_type": "code",
   "execution_count": null,
   "metadata": {
    "collapsed": true
   },
   "outputs": [],
   "source": [
    "show_sankey(vd, dataset, width=900, height=600, palette=palette)"
   ]
  },
  {
   "cell_type": "markdown",
   "metadata": {},
   "source": [
    "If you want to add save the Sankey to the local directory, you can, using the code below. The Sankey can be saved in .svg and .png format."
   ]
  },
  {
   "cell_type": "code",
   "execution_count": null,
   "metadata": {
    "collapsed": true
   },
   "outputs": [],
   "source": [
    "show_sankey(vd, dataset, width=900, height=600, palette=palette).auto_save_svg('UK_Sankey.svg')\n",
    "show_sankey(vd, dataset, width=900, height=600, palette=palette).auto_save_png('UK_Sankey.png')"
   ]
  }
 ],
 "metadata": {
  "kernelspec": {
   "display_name": "Python 3",
   "language": "python",
   "name": "python3"
  },
  "language_info": {
   "codemirror_mode": {
    "name": "ipython",
    "version": 3
   },
   "file_extension": ".py",
   "mimetype": "text/x-python",
   "name": "python",
   "nbconvert_exporter": "python",
   "pygments_lexer": "ipython3",
   "version": "3.6.3"
  },
  "widgets": {
   "application/vnd.jupyter.widget-state+json": {
    "state": {
     "11f23497ff7d4ef49c8ba30593126937": {
      "model_module": "@jupyter-widgets/base",
      "model_module_version": "1.0.0",
      "model_name": "LayoutModel",
      "state": {
       "height": "600",
       "width": "900"
      }
     },
     "225e59d8c53347fba802e927d87c3013": {
      "model_module": "jupyter-sankey-widget",
      "model_module_version": "^0.2.3",
      "model_name": "SankeyModel",
      "state": {
       "_model_module_version": "^0.2.3",
       "_view_module_version": "^0.2.3",
       "groups": [
        {
         "id": "inputs",
         "nodes": [
          "inputs^Gas",
          "inputs^Liquid fuel",
          "inputs^Coal",
          "inputs^Nuclear",
          "inputs^Solid biomass & Waste",
          "inputs^Primary Electricity"
         ],
         "title": "",
         "type": "process"
        },
        {
         "id": "Power Plants",
         "nodes": [
          "Power Plants^Power Plant",
          "Power Plants^Transformation"
         ],
         "title": "",
         "type": "process"
        },
        {
         "id": "Devices",
         "nodes": [
          "Devices^Boiler",
          "Devices^Burner",
          "Devices^Cooler",
          "Devices^Diesel Engine",
          "Devices^Electric Heater",
          "Devices^Electric Motor",
          "Devices^Electronics",
          "Devices^Gas Turbine",
          "Devices^Light Device",
          "Devices^Spark Ignition Engine"
         ],
         "title": "",
         "type": "process"
        },
        {
         "id": "__Power Plants_Useful_2",
         "nodes": [
          "__Power Plants_Useful_2^*"
         ],
         "title": "",
         "type": "group"
        },
        {
         "id": "Useful",
         "nodes": [
          "Useful^Cool",
          "Useful^Heating",
          "Useful^Illumination",
          "Useful^Information",
          "Useful^Loss",
          "Useful^Motion"
         ],
         "title": "",
         "type": "process"
        }
       ],
       "layout": "IPY_MODEL_d974d210444d466492e7cffac0295206",
       "links": [
        {
         "bundles": [
          "1"
         ],
         "color": "#999",
         "opacity": 1,
         "source": "inputs^Gas",
         "target": "Power Plants^Power Plant",
         "time": "*",
         "title": "Gas",
         "type": "Gas",
         "value": 21310.72381413523
        },
        {
         "bundles": [
          "1"
         ],
         "color": "#999",
         "opacity": 1,
         "source": "inputs^Gas",
         "target": "Power Plants^Transformation",
         "time": "*",
         "title": "Gas",
         "type": "Gas",
         "value": 45788.872801736856
        },
        {
         "bundles": [
          "1"
         ],
         "color": "#999",
         "opacity": 1,
         "source": "inputs^Liquid fuel",
         "target": "Power Plants^Power Plant",
         "time": "*",
         "title": "Liquid fuel",
         "type": "Liquid fuel",
         "value": 359.3
        },
        {
         "bundles": [
          "1"
         ],
         "color": "#999",
         "opacity": 1,
         "source": "inputs^Liquid fuel",
         "target": "Power Plants^Transformation",
         "time": "*",
         "title": "Liquid fuel",
         "type": "Liquid fuel",
         "value": 66569.68042792918
        },
        {
         "bundles": [
          "1"
         ],
         "color": "black",
         "opacity": 1,
         "source": "inputs^Coal",
         "target": "Power Plants^Power Plant",
         "time": "*",
         "title": "Coal",
         "type": "Coal",
         "value": 30064.95053004109
        },
        {
         "bundles": [
          "1"
         ],
         "color": "black",
         "opacity": 1,
         "source": "inputs^Coal",
         "target": "Power Plants^Transformation",
         "time": "*",
         "title": "Coal",
         "type": "Coal",
         "value": 4138.482374951184
        },
        {
         "bundles": [
          "1"
         ],
         "color": "#999",
         "opacity": 1,
         "source": "inputs^Nuclear",
         "target": "Power Plants^Power Plant",
         "time": "*",
         "title": "Nuclear",
         "type": "Nuclear",
         "value": 18213.3
        },
        {
         "bundles": [
          "1"
         ],
         "color": "#999",
         "opacity": 1,
         "source": "inputs^Solid biomass & Waste",
         "target": "Power Plants^Power Plant",
         "time": "*",
         "title": "Solid biomass & Waste",
         "type": "Solid biomass & Waste",
         "value": 2831.9
        },
        {
         "bundles": [
          "1"
         ],
         "color": "#999",
         "opacity": 1,
         "source": "inputs^Solid biomass & Waste",
         "target": "Power Plants^Transformation",
         "time": "*",
         "title": "Solid biomass & Waste",
         "type": "Solid biomass & Waste",
         "value": 2290.2000000000003
        },
        {
         "bundles": [
          "1"
         ],
         "color": "yellow",
         "opacity": 1,
         "source": "inputs^Primary Electricity",
         "target": "Power Plants^Power Plant",
         "time": "*",
         "title": "Electricity",
         "type": "Electricity",
         "value": 1240.8
        },
        {
         "bundles": [
          "1"
         ],
         "color": "#999",
         "opacity": 1,
         "source": "inputs^Primary Electricity",
         "target": "Power Plants^Power Plant",
         "time": "*",
         "title": "Primary Electricity",
         "type": "Primary Electricity",
         "value": 3019.2999999999997
        },
        {
         "bundles": [
          "2"
         ],
         "color": "#999",
         "opacity": 1,
         "source": "Power Plants^Power Plant",
         "target": "Devices^Boiler",
         "time": "*",
         "title": "Heat",
         "type": "Heat",
         "value": 936.377573284864
        },
        {
         "bundles": [
          "2"
         ],
         "color": "#999",
         "opacity": 1,
         "source": "Power Plants^Power Plant",
         "target": "Devices^Burner",
         "time": "*",
         "title": "Heat",
         "type": "Heat",
         "value": 250.65878170699347
        },
        {
         "bundles": [
          "2"
         ],
         "color": "yellow",
         "opacity": 1,
         "source": "Power Plants^Power Plant",
         "target": "Devices^Cooler",
         "time": "*",
         "title": "Electricity",
         "type": "Electricity",
         "value": 3271.542495873238
        },
        {
         "bundles": [
          "2"
         ],
         "color": "#999",
         "opacity": 1,
         "source": "Power Plants^Power Plant",
         "target": "Devices^Cooler",
         "time": "*",
         "title": "Heat",
         "type": "Heat",
         "value": 0.0127290016285136
        },
        {
         "bundles": [
          "2"
         ],
         "color": "yellow",
         "opacity": 1,
         "source": "Power Plants^Power Plant",
         "target": "Devices^Electric Heater",
         "time": "*",
         "title": "Electricity",
         "type": "Electricity",
         "value": 9831.216030221975
        },
        {
         "bundles": [
          "2"
         ],
         "color": "yellow",
         "opacity": 1,
         "source": "Power Plants^Power Plant",
         "target": "Devices^Electric Motor",
         "time": "*",
         "title": "Electricity",
         "type": "Electricity",
         "value": 6276.20410235272
        },
        {
         "bundles": [
          "2"
         ],
         "color": "yellow",
         "opacity": 1,
         "source": "Power Plants^Power Plant",
         "target": "Devices^Electronics",
         "time": "*",
         "title": "Electricity",
         "type": "Electricity",
         "value": 4038.5619975182944
        },
        {
         "bundles": [
          "2"
         ],
         "color": "yellow",
         "opacity": 1,
         "source": "Power Plants^Power Plant",
         "target": "Devices^Light Device",
         "time": "*",
         "title": "Electricity",
         "type": "Electricity",
         "value": 3796.3302740337726
        },
        {
         "bundles": [
          "3"
         ],
         "color": "#999",
         "opacity": 1,
         "source": "Power Plants^Power Plant",
         "target": "__Power Plants_Useful_2^*",
         "time": "*",
         "title": "Loss",
         "type": "Loss",
         "value": 48639.370360182824
        },
        {
         "bundles": [
          "2"
         ],
         "color": "black",
         "opacity": 1,
         "source": "Power Plants^Transformation",
         "target": "Devices^Boiler",
         "time": "*",
         "title": "Coal",
         "type": "Coal",
         "value": 1978.1780395905128
        },
        {
         "bundles": [
          "2"
         ],
         "color": "#999",
         "opacity": 1,
         "source": "Power Plants^Transformation",
         "target": "Devices^Boiler",
         "time": "*",
         "title": "Gas",
         "type": "Gas",
         "value": 39901.466761063035
        },
        {
         "bundles": [
          "2"
         ],
         "color": "#999",
         "opacity": 1,
         "source": "Power Plants^Transformation",
         "target": "Devices^Boiler",
         "time": "*",
         "title": "Liquid fuel",
         "type": "Liquid fuel",
         "value": 6046.859631007696
        },
        {
         "bundles": [
          "2"
         ],
         "color": "#999",
         "opacity": 1,
         "source": "Power Plants^Transformation",
         "target": "Devices^Boiler",
         "time": "*",
         "title": "Solid biomass & Waste",
         "type": "Solid biomass & Waste",
         "value": 1966.6666107851959
        },
        {
         "bundles": [
          "2"
         ],
         "color": "black",
         "opacity": 1,
         "source": "Power Plants^Transformation",
         "target": "Devices^Burner",
         "time": "*",
         "title": "Coal",
         "type": "Coal",
         "value": 1758.5219604094877
        },
        {
         "bundles": [
          "2"
         ],
         "color": "#999",
         "opacity": 1,
         "source": "Power Plants^Transformation",
         "target": "Devices^Burner",
         "time": "*",
         "title": "Gas",
         "type": "Gas",
         "value": 2986.5601727579638
        },
        {
         "bundles": [
          "2"
         ],
         "color": "#999",
         "opacity": 1,
         "source": "Power Plants^Transformation",
         "target": "Devices^Burner",
         "time": "*",
         "title": "Liquid fuel",
         "type": "Liquid fuel",
         "value": 1067.0030664292601
        },
        {
         "bundles": [
          "2"
         ],
         "color": "#999",
         "opacity": 1,
         "source": "Power Plants^Transformation",
         "target": "Devices^Burner",
         "time": "*",
         "title": "Solid biomass & Waste",
         "type": "Solid biomass & Waste",
         "value": 323.5333892148041
        },
        {
         "bundles": [
          "2"
         ],
         "color": "#999",
         "opacity": 1,
         "source": "Power Plants^Transformation",
         "target": "Devices^Cooler",
         "time": "*",
         "title": "Gas",
         "type": "Gas",
         "value": 0.49877917704728364
        },
        {
         "bundles": [
          "2"
         ],
         "color": "#999",
         "opacity": 1,
         "source": "Power Plants^Transformation",
         "target": "Devices^Cooler",
         "time": "*",
         "title": "Liquid fuel",
         "type": "Liquid fuel",
         "value": 2.0381221587569742
        },
        {
         "bundles": [
          "2"
         ],
         "color": "#999",
         "opacity": 1,
         "source": "Power Plants^Transformation",
         "target": "Devices^Diesel Engine",
         "time": "*",
         "title": "Liquid fuel",
         "type": "Liquid fuel",
         "value": 27829.60356363927
        },
        {
         "bundles": [
          "2"
         ],
         "color": "#999",
         "opacity": 1,
         "source": "Power Plants^Transformation",
         "target": "Devices^Gas Turbine",
         "time": "*",
         "title": "Gas",
         "type": "Gas",
         "value": 226.03958514688117
        },
        {
         "bundles": [
          "2"
         ],
         "color": "#999",
         "opacity": 1,
         "source": "Power Plants^Transformation",
         "target": "Devices^Gas Turbine",
         "time": "*",
         "title": "Liquid fuel",
         "type": "Liquid fuel",
         "value": 11868.033702847286
        },
        {
         "bundles": [
          "2"
         ],
         "color": "#999",
         "opacity": 1,
         "source": "Power Plants^Transformation",
         "target": "Devices^Spark Ignition Engine",
         "time": "*",
         "title": "Gas",
         "type": "Gas",
         "value": 228.0347018550703
        },
        {
         "bundles": [
          "2"
         ],
         "color": "#999",
         "opacity": 1,
         "source": "Power Plants^Transformation",
         "target": "Devices^Spark Ignition Engine",
         "time": "*",
         "title": "Liquid fuel",
         "type": "Liquid fuel",
         "value": 13780.4241471648
        },
        {
         "bundles": [
          "3"
         ],
         "color": "#999",
         "opacity": 1,
         "source": "Power Plants^Transformation",
         "target": "__Power Plants_Useful_2^*",
         "time": "*",
         "title": "Loss",
         "type": "Loss",
         "value": 8823.773371370184
        },
        {
         "bundles": [
          "4"
         ],
         "color": "black",
         "opacity": 1,
         "source": "Devices^Boiler",
         "target": "Useful^Heating",
         "time": "*",
         "title": "Coal",
         "type": "Coal",
         "value": 1692.0611950275118
        },
        {
         "bundles": [
          "4"
         ],
         "color": "#999",
         "opacity": 1,
         "source": "Devices^Boiler",
         "target": "Useful^Heating",
         "time": "*",
         "title": "Gas",
         "type": "Gas",
         "value": 34992.4698378906
        },
        {
         "bundles": [
          "4"
         ],
         "color": "#999",
         "opacity": 1,
         "source": "Devices^Boiler",
         "target": "Useful^Heating",
         "time": "*",
         "title": "Heat",
         "type": "Heat",
         "value": 936.377573284864
        },
        {
         "bundles": [
          "4"
         ],
         "color": "#999",
         "opacity": 1,
         "source": "Devices^Boiler",
         "target": "Useful^Heating",
         "time": "*",
         "title": "Liquid fuel",
         "type": "Liquid fuel",
         "value": 5284.291626036086
        },
        {
         "bundles": [
          "4"
         ],
         "color": "#999",
         "opacity": 1,
         "source": "Devices^Boiler",
         "target": "Useful^Heating",
         "time": "*",
         "title": "Solid biomass & Waste",
         "type": "Solid biomass & Waste",
         "value": 1457.024903908887
        },
        {
         "bundles": [
          "4"
         ],
         "color": "#999",
         "opacity": 1,
         "source": "Devices^Boiler",
         "target": "Useful^Loss",
         "time": "*",
         "title": "Loss",
         "type": "Loss",
         "value": 6467.32347958336
        },
        {
         "bundles": [
          "4"
         ],
         "color": "black",
         "opacity": 1,
         "source": "Devices^Burner",
         "target": "Useful^Heating",
         "time": "*",
         "title": "Coal",
         "type": "Coal",
         "value": 1758.5219604094877
        },
        {
         "bundles": [
          "4"
         ],
         "color": "#999",
         "opacity": 1,
         "source": "Devices^Burner",
         "target": "Useful^Heating",
         "time": "*",
         "title": "Gas",
         "type": "Gas",
         "value": 2986.5601727579638
        },
        {
         "bundles": [
          "4"
         ],
         "color": "#999",
         "opacity": 1,
         "source": "Devices^Burner",
         "target": "Useful^Heating",
         "time": "*",
         "title": "Heat",
         "type": "Heat",
         "value": 250.65878170699347
        },
        {
         "bundles": [
          "4"
         ],
         "color": "#999",
         "opacity": 1,
         "source": "Devices^Burner",
         "target": "Useful^Heating",
         "time": "*",
         "title": "Liquid fuel",
         "type": "Liquid fuel",
         "value": 1067.0030664292601
        },
        {
         "bundles": [
          "4"
         ],
         "color": "#999",
         "opacity": 1,
         "source": "Devices^Burner",
         "target": "Useful^Heating",
         "time": "*",
         "title": "Solid biomass & Waste",
         "type": "Solid biomass & Waste",
         "value": 323.5333892148041
        },
        {
         "bundles": [
          "4"
         ],
         "color": "yellow",
         "opacity": 1,
         "source": "Devices^Cooler",
         "target": "Useful^Cool",
         "time": "*",
         "title": "Electricity",
         "type": "Electricity",
         "value": 8720.971749351173
        },
        {
         "bundles": [
          "4"
         ],
         "color": "#999",
         "opacity": 1,
         "source": "Devices^Cooler",
         "target": "Useful^Cool",
         "time": "*",
         "title": "Gas",
         "type": "Gas",
         "value": 0.7481687655709255
        },
        {
         "bundles": [
          "4"
         ],
         "color": "#999",
         "opacity": 1,
         "source": "Devices^Cooler",
         "target": "Useful^Cool",
         "time": "*",
         "title": "Heat",
         "type": "Heat",
         "value": 0.019093502442770402
        },
        {
         "bundles": [
          "4"
         ],
         "color": "#999",
         "opacity": 1,
         "source": "Devices^Cooler",
         "target": "Useful^Cool",
         "time": "*",
         "title": "Liquid fuel",
         "type": "Liquid fuel",
         "value": 3.0571832381354613
        },
        {
         "bundles": [
          "4"
         ],
         "color": "#999",
         "opacity": 1,
         "source": "Devices^Diesel Engine",
         "target": "Useful^Loss",
         "time": "*",
         "title": "Loss",
         "type": "Loss",
         "value": 19754.351257108527
        },
        {
         "bundles": [
          "4"
         ],
         "color": "#999",
         "opacity": 1,
         "source": "Devices^Diesel Engine",
         "target": "Useful^Motion",
         "time": "*",
         "title": "Liquid fuel",
         "type": "Liquid fuel",
         "value": 8075.252306530737
        },
        {
         "bundles": [
          "4"
         ],
         "color": "yellow",
         "opacity": 1,
         "source": "Devices^Electric Heater",
         "target": "Useful^Heating",
         "time": "*",
         "title": "Electricity",
         "type": "Electricity",
         "value": 9831.216030221975
        },
        {
         "bundles": [
          "4"
         ],
         "color": "#999",
         "opacity": 1,
         "source": "Devices^Electric Motor",
         "target": "Useful^Loss",
         "time": "*",
         "title": "Loss",
         "type": "Loss",
         "value": 835.7536688390624
        },
        {
         "bundles": [
          "4"
         ],
         "color": "yellow",
         "opacity": 1,
         "source": "Devices^Electric Motor",
         "target": "Useful^Motion",
         "time": "*",
         "title": "Electricity",
         "type": "Electricity",
         "value": 5440.450433513658
        },
        {
         "bundles": [
          "4"
         ],
         "color": "yellow",
         "opacity": 1,
         "source": "Devices^Electronics",
         "target": "Useful^Information",
         "time": "*",
         "title": "Electricity",
         "type": "Electricity",
         "value": 3432.7776978905504
        },
        {
         "bundles": [
          "4"
         ],
         "color": "#999",
         "opacity": 1,
         "source": "Devices^Electronics",
         "target": "Useful^Loss",
         "time": "*",
         "title": "Loss",
         "type": "Loss",
         "value": 605.7842996277443
        },
        {
         "bundles": [
          "4"
         ],
         "color": "#999",
         "opacity": 1,
         "source": "Devices^Gas Turbine",
         "target": "Useful^Loss",
         "time": "*",
         "title": "Loss",
         "type": "Loss",
         "value": 7507.124015196207
        },
        {
         "bundles": [
          "4"
         ],
         "color": "#999",
         "opacity": 1,
         "source": "Devices^Gas Turbine",
         "target": "Useful^Motion",
         "time": "*",
         "title": "Gas",
         "type": "Gas",
         "value": 79.11385480140841
        },
        {
         "bundles": [
          "4"
         ],
         "color": "#999",
         "opacity": 1,
         "source": "Devices^Gas Turbine",
         "target": "Useful^Motion",
         "time": "*",
         "title": "Liquid fuel",
         "type": "Liquid fuel",
         "value": 4507.83541799655
        },
        {
         "bundles": [
          "4"
         ],
         "color": "yellow",
         "opacity": 1,
         "source": "Devices^Light Device",
         "target": "Useful^Illumination",
         "time": "*",
         "title": "Electricity",
         "type": "Electricity",
         "value": 283.679148102733
        },
        {
         "bundles": [
          "4"
         ],
         "color": "#999",
         "opacity": 1,
         "source": "Devices^Light Device",
         "target": "Useful^Loss",
         "time": "*",
         "title": "Loss",
         "type": "Loss",
         "value": 3512.6511259310396
        },
        {
         "bundles": [
          "4"
         ],
         "color": "#999",
         "opacity": 1,
         "source": "Devices^Spark Ignition Engine",
         "target": "Useful^Loss",
         "time": "*",
         "title": "Loss",
         "type": "Loss",
         "value": 11068.294844187425
        },
        {
         "bundles": [
          "4"
         ],
         "color": "#999",
         "opacity": 1,
         "source": "Devices^Spark Ignition Engine",
         "target": "Useful^Motion",
         "time": "*",
         "title": "Gas",
         "type": "Gas",
         "value": 45.60694037101406
        },
        {
         "bundles": [
          "4"
         ],
         "color": "#999",
         "opacity": 1,
         "source": "Devices^Spark Ignition Engine",
         "target": "Useful^Motion",
         "time": "*",
         "title": "Liquid fuel",
         "type": "Liquid fuel",
         "value": 2894.5570644614327
        },
        {
         "bundles": [
          "3"
         ],
         "color": "#999",
         "opacity": 1,
         "source": "__Power Plants_Useful_2^*",
         "target": "Useful^Loss",
         "time": "*",
         "title": "Loss",
         "type": "Loss",
         "value": 57463.143731553006
        }
       ],
       "margins": {
        "bottom": 10,
        "left": 130,
        "right": 130,
        "top": 25
       },
       "nodes": [
        {
         "direction": "r",
         "id": "inputs^Gas",
         "style": "process",
         "title": "Gas",
         "visibility": "visible"
        },
        {
         "direction": "r",
         "id": "inputs^Liquid fuel",
         "style": "process",
         "title": "Liquid fuel",
         "visibility": "visible"
        },
        {
         "direction": "r",
         "id": "inputs^Coal",
         "style": "process",
         "title": "Coal",
         "visibility": "visible"
        },
        {
         "direction": "r",
         "id": "inputs^Nuclear",
         "style": "process",
         "title": "Nuclear",
         "visibility": "visible"
        },
        {
         "direction": "r",
         "id": "inputs^Solid biomass & Waste",
         "style": "process",
         "title": "Solid biomass & Waste",
         "visibility": "visible"
        },
        {
         "direction": "r",
         "id": "inputs^Primary Electricity",
         "style": "process",
         "title": "Primary Electricity",
         "visibility": "visible"
        },
        {
         "direction": "r",
         "id": "Power Plants^Power Plant",
         "style": "process",
         "title": "Power Plant",
         "visibility": "visible"
        },
        {
         "direction": "r",
         "id": "Power Plants^Transformation",
         "style": "process",
         "title": "Transformation",
         "visibility": "visible"
        },
        {
         "direction": "r",
         "id": "Devices^Boiler",
         "style": "process",
         "title": "Boiler",
         "visibility": "visible"
        },
        {
         "direction": "r",
         "id": "Devices^Burner",
         "style": "process",
         "title": "Burner",
         "visibility": "visible"
        },
        {
         "direction": "r",
         "id": "Devices^Cooler",
         "style": "process",
         "title": "Cooler",
         "visibility": "visible"
        },
        {
         "direction": "r",
         "id": "Devices^Diesel Engine",
         "style": "process",
         "title": "Diesel Engine",
         "visibility": "visible"
        },
        {
         "direction": "r",
         "id": "Devices^Electric Heater",
         "style": "process",
         "title": "Electric Heater",
         "visibility": "visible"
        },
        {
         "direction": "r",
         "id": "Devices^Electric Motor",
         "style": "process",
         "title": "Electric Motor",
         "visibility": "visible"
        },
        {
         "direction": "r",
         "id": "Devices^Electronics",
         "style": "process",
         "title": "Electronics",
         "visibility": "visible"
        },
        {
         "direction": "r",
         "id": "Devices^Gas Turbine",
         "style": "process",
         "title": "Gas Turbine",
         "visibility": "visible"
        },
        {
         "direction": "r",
         "id": "Devices^Light Device",
         "style": "process",
         "title": "Light Device",
         "visibility": "visible"
        },
        {
         "direction": "r",
         "id": "Devices^Spark Ignition Engine",
         "style": "process",
         "title": "Spark Ignition Engine",
         "visibility": "visible"
        },
        {
         "direction": "r",
         "id": "__Power Plants_Useful_2^*",
         "style": "group",
         "title": "",
         "visibility": "hidden"
        },
        {
         "direction": "r",
         "id": "Useful^Cool",
         "style": "process",
         "title": "Cool",
         "visibility": "visible"
        },
        {
         "direction": "r",
         "id": "Useful^Heating",
         "style": "process",
         "title": "Heating",
         "visibility": "visible"
        },
        {
         "direction": "r",
         "id": "Useful^Illumination",
         "style": "process",
         "title": "Illumination",
         "visibility": "visible"
        },
        {
         "direction": "r",
         "id": "Useful^Information",
         "style": "process",
         "title": "Information",
         "visibility": "visible"
        },
        {
         "direction": "r",
         "id": "Useful^Loss",
         "style": "process",
         "title": "Loss",
         "visibility": "visible"
        },
        {
         "direction": "r",
         "id": "Useful^Motion",
         "style": "process",
         "title": "Motion",
         "visibility": "visible"
        }
       ],
       "order": [
        [
         [
          "inputs^Gas",
          "inputs^Liquid fuel",
          "inputs^Coal",
          "inputs^Nuclear",
          "inputs^Solid biomass & Waste",
          "inputs^Primary Electricity"
         ]
        ],
        [
         [
          "Power Plants^Power Plant",
          "Power Plants^Transformation"
         ]
        ],
        [
         [
          "Devices^Boiler",
          "Devices^Burner",
          "Devices^Cooler",
          "Devices^Diesel Engine",
          "Devices^Electric Heater",
          "Devices^Electric Motor",
          "Devices^Electronics",
          "Devices^Gas Turbine",
          "Devices^Light Device",
          "Devices^Spark Ignition Engine",
          "__Power Plants_Useful_2^*"
         ]
        ],
        [
         [
          "Useful^Cool",
          "Useful^Heating",
          "Useful^Illumination",
          "Useful^Information",
          "Useful^Loss",
          "Useful^Motion"
         ]
        ]
       ],
       "png": "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",
       "scale": 0.0014035299417726457,
       "svg": "<?xml version=\"1.0\" standalone=\"no\"?><!DOCTYPE svg PUBLIC \"-//W3C//DTD SVG 1.1//EN\" \"http://www.w3.org/Graphics/SVG/1.1/DTD/svg11.dtd\"><svg xmlns=\"http://www.w3.org/2000/svg\" width=\"900\" height=\"600\" viewBox=\"0 0 900 600\" style=\"font-family: &quot;Helvetica Neue&quot;,Helvetica,Arial,sans-serif;\"><g class=\"sankey\" transform=\"translate(130,25)\"><g class=\"groups\"><g class=\"group\" style=\"display: none;\" transform=\"translate(0,56.5)\"><rect x=\"-10\" y=\"-20\" width=\"21\" height=\"482\" style=\"fill: rgb(238, 238, 238); stroke: rgb(187, 187, 187); stroke-width: 0.5;\"/><text x=\"-10\" y=\"-25\" style=\"fill: rgb(153, 153, 153);\"/></g><g class=\"group\" style=\"display: none;\" transform=\"translate(213,56.5)\"><rect x=\"-10\" y=\"-20\" width=\"21\" height=\"482\" style=\"fill: rgb(238, 238, 238); stroke: rgb(187, 187, 187); stroke-width: 0.5;\"/><text x=\"-10\" y=\"-25\" style=\"fill: rgb(153, 153, 153);\"/></g><g class=\"group\" style=\"display: none;\" transform=\"translate(426,56.5)\"><rect x=\"-10\" y=\"-20\" width=\"21\" height=\"384.3987572243802\" style=\"fill: rgb(238, 238, 238); stroke: rgb(187, 187, 187); stroke-width: 0.5;\"/><text x=\"-10\" y=\"-25\" style=\"fill: rgb(153, 153, 153);\"/></g><g class=\"group\" style=\"display: none;\" transform=\"translate(426,427.84875722438017)\"><rect x=\"-10\" y=\"-20\" width=\"21\" height=\"110.65124277561978\" style=\"fill: rgb(238, 238, 238); stroke: rgb(187, 187, 187); stroke-width: 0.5;\"/><text x=\"-10\" y=\"-25\" style=\"fill: rgb(153, 153, 153);\"/></g><g class=\"group\" style=\"display: none;\" transform=\"translate(639,56.5)\"><rect x=\"-10\" y=\"-20\" width=\"21\" height=\"482\" style=\"fill: rgb(238, 238, 238); stroke: rgb(187, 187, 187); stroke-width: 0.5;\"/><text x=\"-10\" y=\"-25\" style=\"fill: rgb(153, 153, 153);\"/></g></g><g class=\"links\"><g class=\"link\" style=\"opacity: 0.8;\"><path d=\"M214,61.7577578477109 A114.3590373714159 114.3590373714159 0.6544337530191264 0 1 283.61149932449143,85.38516572690821 L378.4709246794893,158.16360981500213 A78.08162952316687 78.08162952316687 0.6544337530191264 0 0 426,174.2958416964622 L426,176.2958416964622 A80.08162952316687 80.08162952316687 0.6544337530191264 0 1 377.25350451009064,159.75039528605396 L282.39407915509275,86.97195119796007 A112.3590373714159 112.3590373714159 0.6544337530191264 0 0 214,63.7577578477109 Z\" style=\"fill: rgb(153, 153, 153);\"/><title>Power Plant → Cooler\nHeat\n12.7m</title></g><g class=\"link\" style=\"opacity: 0.8;\"><path d=\"M427,181.94533336293793 A81.28289744512071 81.28289744512071 0.6149685319376743 0 0 473.894771218188,167.05362395860934 L594.481601876952,81.87828665037134 A77.16392030617897 77.16392030617897 0.6149685319376743 0 1 639,67.74120844798291 L639,69.74120844798291 A75.16392030617897 75.16392030617897 0.6149685319376743 0 0 595.6354675163961,83.51186985489764 L475.048636857632,168.68720716313564 A83.28289744512071 83.28289744512071 0.6149685319376743 0 1 427,183.94533336293793 Z\" style=\"fill: rgb(153, 153, 153);\"/><title>Cooler → Cool\nHeat\n19.1m</title></g><g class=\"link\" style=\"opacity: 0.8;\"><path d=\"M214,419.4169920030239 A72.69138045383951 72.69138045383951 1.0877112611349653 0 0 278.3730211959899,380.49173265282127 L368.19637947196907,209.2490563487367 A65.27307392672462 65.27307392672462 1.0877112611349653 0 1 426,174.29620065498432 L426,176.29620065498432 A63.27307392672462 63.27307392672462 1.0877112611349653 0 0 369.9675116418106,210.1780831712519 L280.1441533658314,381.42075947533647 A74.69138045383951 74.69138045383951 1.0877112611349653 0 1 214,421.4169920030239 Z\" style=\"fill: rgb(153, 153, 153);\"/><title>Transformation → Cooler\nGas\n499m</title></g><g class=\"link\" style=\"opacity: 0.8;\"><path d=\"M427,181.94479492515475 A81.28235900733753 81.28235900733753 0.6149685319376743 0 0 473.8944605757595,167.05318416714968 L594.4812912345236,81.8778468589117 A77.16445874396214 77.16445874396214 0.6149685319376743 0 1 639,67.74067001019974 L639,69.74067001019974 A75.16445874396214 75.16445874396214 0.6149685319376743 0 0 595.6351568739677,83.511430063438 L475.04832621520353,168.68676737167598 A83.28235900733753 83.28235900733753 0.6149685319376743 0 1 427,183.94479492515475 Z\" style=\"fill: rgb(153, 153, 153);\"/><title>Cooler → Cool\nGas\n748m</title></g><g class=\"link\" style=\"opacity: 0.8;\"><path d=\"M214,419.418772311516 A72.69316076233157 72.69316076233157 1.0877112611349655 0 0 278.3745977768112,380.49255962999206 L368.19795605279035,209.24988332590743 A65.27129361823256 65.27129361823256 1.0877112611349655 0 1 426,174.29798096347636 L426,176.29798096347636 A63.27129361823256 63.27129361823256 1.0877112611349655 0 0 369.96908822263185,210.17891014842263 L280.1457299466527,381.42158645250726 A74.69316076233157 74.69316076233157 1.0877112611349655 0 1 214,421.418772311516 Z\" style=\"fill: rgb(153, 153, 153);\"/><title>Transformation → Cooler\nLiquid fuel\n2.04</title></g><g class=\"link\" style=\"opacity: 0.8;\"><path d=\"M427,181.94749218619523 A81.285056268378 81.285056268378 0.6149685319376743 0 0 473.8960167141771,167.05538726731666 L594.4828473729411,81.88004995907866 A77.16176148292168 77.16176148292168 0.6149685319376743 0 1 639,67.7433672712402 L639,69.7433672712402 A75.16176148292168 75.16176148292168 0.6149685319376743 0 0 595.6367130123853,83.51363316360496 L475.0498823536211,168.68897047184296 A83.285056268378 83.285056268378 0.6149685319376743 0 1 427,183.94749218619523 Z\" style=\"fill: rgb(153, 153, 153);\"/><title>Cooler → Cool\nLiquid fuel\n3.06</title></g><g class=\"link\" style=\"opacity: 0.8;\"><path d=\"M427,405.8041543630573 A86.77638148563537 86.77638148563537 0.532538278924267 0 1 471.05825672790803,417.8208515406495 L596.7086387446029,491.8706129874842 A83.29633468045306 83.29633468045306 0.532538278924267 0 0 639,503.4053971386772 L639,505.4053971386772 A85.29633468045306 85.29633468045306 0.532538278924267 0 1 595.6931952339698,493.5936552030765 L470.04281321727484,419.5438937562418 A84.77638148563537 84.77638148563537 0.532538278924267 0 0 427,407.8041543630573 Z\" style=\"fill: rgb(153, 153, 153);\"/><title>Spark Ignition Engine → Motion\nGas\n45.6</title></g><g class=\"link\" style=\"opacity: 0.8;\"><path d=\"M427,344.6268012694737 A71.32020620105378 71.32020620105378 0.7935328900646668 0 1 477.83957073238213,365.92791251362183 L584.1958368394701,474.0287671620694 A76.8819280135186 76.8819280135186 0.7935328900646668 0 0 639,496.99099047174275 L639,498.99099047174275 A78.8819280135186 78.8819280135186 0.7935328900646668 0 1 582.7701659548666,475.4314298188738 L476.4138998477786,367.33057517042624 A69.32020620105378 69.32020620105378 0.7935328900646668 0 0 427,346.6268012694737 Z\" style=\"fill: rgb(153, 153, 153);\"/><title>Gas Turbine → Motion\nGas\n79.1</title></g><g class=\"link\" style=\"opacity: 0.8;\"><path d=\"M214,458.63851112637354 A111.91289957718918 111.91289957718918 0.7377181467645453 0 0 289.2727372068036,429.54174599875597 L370.62659935896096,355.5980884344593 A82.32725492846755 82.32725492846755 0.7377181467645453 0 1 426,334.1934352684236 L426,336.1934352684236 A80.32725492846755 80.32725492846755 0.7377181467645453 0 0 371.9718015204846,357.0780989562571 L290.6179393683272,431.02175652055377 A113.91289957718918 113.91289957718918 0.7377181467645453 0 1 214,460.63851112637354 Z\" style=\"fill: rgb(153, 153, 153);\"/><title>Transformation → Gas Turbine\nGas\n226</title></g><g class=\"link\" style=\"opacity: 0.8;\"><path d=\"M214,475.6143052070848 A128.88869365790038 128.88869365790038 0.5131181615487912 0 0 277.27097349484285,459.015768134056 L375.57302027901125,403.6265302370641 A102.72431705008357 102.72431705008357 0.5131181615487912 0 1 426,390.3974925575992 L426,392.3974925575992 A100.72431705008357 100.72431705008357 0.5131181615487912 0 0 376.5548127341785,405.36896634062055 L278.2527659500101,460.7582042376124 A130.88869365790038 130.88869365790038 0.5131181615487912 0 1 214,477.6143052070848 Z\" style=\"fill: rgb(153, 153, 153);\"/><title>Transformation → Spark Ignition Engine\nGas\n228</title></g><g class=\"link\" style=\"opacity: 0.8;\"><path d=\"M214,56.990137513556725 A119.12665770557007 119.12665770557007 0.5018620552901425 0 1 271.3069286439836,71.67984531396426 L382.91780480847046,132.92327038582738 A89.55702288059553 89.55702288059553 0.5018620552901425 0 0 426,143.96669696161425 L426,145.96669696161425 A91.55702288059553 91.55702288059553 0.5018620552901425 0 1 381.95568718093455,134.6766470341219 L270.3448110164477,73.43322196225883 A117.12665770557007 117.12665770557007 0.5018620552901425 0 0 214,58.990137513556725 Z\" style=\"fill: rgb(153, 153, 153);\"/><title>Power Plant → Burner\nHeat\n251</title></g><g class=\"link\" style=\"opacity: 0.8;\"><path d=\"M427,150.62656181168518 A341.01400477923744 341.01400477923744 0.11630909051273375 0 1 466.57366359841205,152.9305481312179 L599.2289194412601,168.42951238730674 A342.71518536579896 342.71518536579896 0.11630909051273375 0 0 639,170.74499236030698 L639,172.74499236030698 A344.71518536579896 344.71518536579896 0.11630909051273375 0 1 598.9968253744839,170.41599982602045 L466.34156953163597,154.9170355699316 A339.01400477923744 339.01400477923744 0.11630909051273375 0 0 427,152.62656181168518 Z\" style=\"fill: rgb(153, 153, 153);\"/><title>Burner → Heating\nHeat\n251</title></g><g class=\"link\" style=\"opacity: 0.8;\"><path d=\"M427,368.1582786723358 A66.84865582600584 66.84865582600584 0.7484314178088365 0 0 472.4898556939148,350.2934550227797 L592.1491638904935,239.16934691526737 A68.84865582600584 68.84865582600584 0.7484314178088365 0 1 639,220.77003761513797 L639,222.77003761513797 A66.84865582600584 66.84865582600584 0.7484314178088365 0 0 593.5101443060852,240.63486126469408 L473.85083610950664,351.7589693722064 A68.84865582600584 68.84865582600584 0.7484314178088365 0 1 427,370.1582786723358 Z\" style=\"fill: rgb(255, 255, 0);\"/><title>Light Device → Illumination\nElectricity\n284</title></g><g class=\"link\" style=\"opacity: 0.8;\"><path d=\"M214,419.1895975778062 A72.46398602862178 72.46398602862178 1.1377171938404655 0 0 279.7739544685553,377.136402146022 L365.83841283898545,190.9919562069479 A66.28077096352253 66.28077096352253 1.1377171938404655 0 1 426,152.52708051549195 L426,154.52708051549195 A64.28077096352253 64.28077096352253 1.1377171938404655 0 0 367.65376852318906,191.8312915033757 L281.5893101527589,377.9757374424499 A74.46398602862178 74.46398602862178 1.1377171938404655 0 1 214,421.1895975778062 Z\" style=\"fill: rgb(153, 153, 153);\"/><title>Transformation → Burner\nSolid biomass &amp; Waste\n324</title></g><g class=\"link\" style=\"opacity: 0.8;\"><path d=\"M427,152.52708051549195 A339.11348607543067 339.11348607543067 0.11630909051273375 0 1 466.35311404093676,154.8182263972942 L599.0083698837849,170.31719065338305 A344.6157040696057 344.6157040696057 0.11630909051273375 0 0 639,172.64551106411375 L639,174.64551106411375 A346.6157040696057 346.6157040696057 0.11630909051273375 0 1 598.7762758170087,172.30367809209676 L466.1210199741607,156.80471383600792 A337.11348607543067 337.11348607543067 0.11630909051273375 0 0 427,154.52708051549195 Z\" style=\"fill: rgb(153, 153, 153);\"/><title>Burner → Heating\nSolid biomass &amp; Waste\n324</title></g><g class=\"link\" style=\"opacity: 0.8;\"><path d=\"M1,185.35848235809993 A81.57591713996739 81.57591713996739 0.5937960261809099 0 0 46.64264576600377,171.3945400798826 L141.01854639873721,107.68443827860642 A128.65058534719424 128.65058534719424 0.5937960261809099 0 1 213,85.66238310802561 L213,87.66238310802561 A126.65058534719422 126.65058534719422 0.5937960261809099 0 0 142.1375689575076,109.34208375124615 L47.76166832477415,173.05218555252233 A83.57591713996739 83.57591713996739 0.5937960261809099 0 1 1,187.35848235809993 Z\" style=\"fill: rgb(153, 153, 153);\"/><title>Liquid fuel → Power Plant\nLiquid fuel\n359</title></g><g class=\"link\" style=\"opacity: 0.8;\"><path d=\"M427,316.6596904041423 A443.108654250277 443.108654250277 0.0884359951158189 0 1 466.1356953072208,318.39132121038915 L600.0409462227148,330.26433412568474 A441.108654250277 441.108654250277 0.0884359951158189 0 0 639,331.9881491026102 L639,333.9881491026102 A443.108654250277 443.108654250277 0.0884359951158189 0 1 599.8643046927792,332.2565182963633 L465.95905377728525,320.3835053810677 A441.108654250277 441.108654250277 0.0884359951158189 0 0 427,318.6596904041423 Z\" style=\"fill: rgb(153, 153, 153);\"/><title>Electronics → Loss\nLoss\n606</title></g><g class=\"link\" style=\"opacity: 0.8;\"><path d=\"M427,286.24422819106445 A158.41973452514134 158.41973452514134 0.25493175615059704 0 1 466.9501890031824,291.3642735918431 L599.5541697387753,325.92112183609305 A156.41973452514134 156.41973452514134 0.25493175615059704 0 0 639,330.9765282521375 L639,332.9765282521375 A158.41973452514134 158.41973452514134 0.25493175615059704 0 1 599.0498109968175,327.85648285135886 L466.4458302612248,293.2996346071089 A156.41973452514134 156.41973452514134 0.25493175615059704 0 0 427,288.24422819106445 Z\" style=\"fill: rgb(153, 153, 153);\"/><title>Electric Motor → Loss\nLoss\n836</title></g><g class=\"link\" style=\"opacity: 0.8;\"><path d=\"M214,56.15711698045486 A0 0 0 0 0 214,56.15711698045486 L426,56.15711698045486 A0 0 0 0 0 426,56.15711698045486 L426,58.15711698045486 A0 0 0 0 0 426,58.15711698045486 L214,58.15711698045486 A0 0 0 0 0 214,58.15711698045486 Z\" style=\"fill: rgb(153, 153, 153);\"/><title>Power Plant → Boiler\nHeat\n936</title></g><g class=\"link\" style=\"opacity: 0.8;\"><path d=\"M427,107.64495468504323 A163.1124729901108 163.1124729901108 0.2801566830054063 0 1 472.10161435684165,114.00436318403679 L582.8764996564025,145.8769531931928 A202.97373086196046 202.97373086196046 0.2801566830054063 0 0 639,153.79046738038952 L639,155.79046738038952 A204.97373086196046 204.97373086196046 0.2801566830054063 0 1 582.3234872039511,147.79897744575405 L471.54860190439024,115.92638743659803 A161.1124729901108 161.1124729901108 0.2801566830054063 0 0 427,109.64495468504323 Z\" style=\"fill: rgb(153, 153, 153);\"/><title>Boiler → Heating\nHeat\n936</title></g><g class=\"link\" style=\"opacity: 0.8;\"><path d=\"M214,418.2137678024948 A71.48815625331035 71.48815625331035 1.1377171938404655 0 0 278.8882154038419,376.72687795916 L364.95267377427206,190.58243202008586 A67.25660073883395 67.25660073883395 1.1377171938404655 0 1 426,151.55125074018054 L426,153.55125074018054 A65.25660073883395 65.25660073883395 1.1377171938404655 0 0 366.76802945847567,191.42176731651367 L280.7035710880455,377.56621325558785 A73.48815625331035 73.48815625331035 1.1377171938404655 0 1 214,420.2137678024948 Z\" style=\"fill: rgb(153, 153, 153);\"/><title>Transformation → Burner\nLiquid fuel\n1.07k</title></g><g class=\"link\" style=\"opacity: 0.8;\"><path d=\"M427,151.55125074018054 A340.0893158507421 340.0893158507421 0.11630909051273375 0 1 466.4663561914534,153.84898960180473 L599.1216120343015,169.3479538578936 A343.6398742942943 343.6398742942943 0.11630909051273375 0 0 639,171.66968128880234 L639,173.66968128880234 A345.6398742942943 345.6398742942943 0.11630909051273375 0 1 598.8895179675253,171.3344412966073 L466.2342621246773,155.83547704051844 A338.0893158507421 338.0893158507421 0.11630909051273375 0 0 427,153.55125074018054 Z\" style=\"fill: rgb(153, 153, 153);\"/><title>Burner → Heating\nLiquid fuel\n1.07k</title></g><g class=\"link\" style=\"opacity: 0.8;\"><path d=\"M1,502.3915720709301 A70.18573844094026 70.18573844094026 1.2263797803061465 0 0 67.06391351973363,455.9038759743953 L160.48351619682813,195.47457710598346 A55.7930646198593 55.7930646198593 1.2263797803061465 0 1 213,158.51990383536054 L213,160.51990383536054 A53.7930646198593 53.7930646198593 1.2263797803061465 0 0 162.36606142573743,196.14987219785874 L68.94645874864293,456.57917106627065 A72.18573844094026 72.18573844094026 1.2263797803061465 0 1 1,504.3915720709301 Z\" style=\"fill: rgb(255, 255, 0);\"/><title>Primary Electricity → Power Plant\nElectricity\n1.24k</title></g><g class=\"link\" style=\"opacity: 0.8;\"><path d=\"M427,116.71873318369819 A154.03869449145586 154.03869449145586 0.28015668300540675 0 1 469.59265810657047,122.72437435242863 L580.3675434061313,154.5969643615846 A212.0475093606154 212.0475093606154 0.28015668300540675 0 0 639,162.8642458790445 L639,164.90922395758903 A214.09248743915995 214.09248743915995 0.28015668300540675 0 1 579.8020942349185,156.56221309304394 L469.0272089353578,124.68962308388798 A151.9937164129113 151.9937164129113 0.28015668300540675 0 0 427,118.76371126224274 Z\" style=\"fill: rgb(153, 153, 153);\"/><title>Boiler → Heating\nSolid biomass &amp; Waste\n1.46k</title></g><g class=\"link\" style=\"opacity: 0.8;\"><path d=\"M427,56.5 A214.25742767515405 214.25742767515405 0.2801566830054063 0 1 486.2435127672889,64.85344153363722 L597.0183980668498,96.72603154279324 A151.82877617691722 151.82877617691722 0.2801566830054063 0 0 639,102.6455126953463 L639,105.020371245879 A154.20363472744995 154.20363472744995 0.2801566830054063 0 1 596.3617348912221,99.00829940805642 L485.5868495916612,67.1357093989004 A211.8825691246213 211.8825691246213 0.2801566830054063 0 0 427,58.87485855053272 Z\" style=\"fill: rgb(0, 0, 0);\"/><title>Boiler → Heating\nCoal\n1.69k</title></g><g class=\"link\" style=\"opacity: 0.8;\"><path d=\"M214,411.8051175765755 A65.07950602739106 65.07950602739106 1.1377171938404658 0 0 273.07122559599424,374.03737479062295 L359.1356839664243,187.89292885154876 A73.66525096475323 73.66525096475323 1.1377171938404658 0 1 426,145.14260051426126 L426,147.6107387389607 A71.19711274005377 71.19711274005377 1.1377171938404658 0 0 361.37595834422854,188.92872661577522 L275.31149997379845,375.0731725548494 A67.54764425209052 67.54764425209052 1.1377171938404658 0 1 214,414.273255801275 Z\" style=\"fill: rgb(0, 0, 0);\"/><title>Transformation → Burner\nCoal\n1.76k</title></g><g class=\"link\" style=\"opacity: 0.8;\"><path d=\"M427,144.79079340896723 A346.84977318195547 346.84977318195547 0.11630909051273375 0 1 467.2508872090873,147.13420781759714 L599.9061430519353,162.63317207368598 A336.8794169630809 336.8794169630809 0.11630909051273375 0 0 639,164.90922395758903 L639,167.37736218228846 A339.3475551877804 339.3475551877804 0.11630909051273375 0 1 599.6197229329673,165.08463486387328 L466.96446709011923,149.58567060778444 A344.381634957256 344.381634957256 0.11630909051273375 0 0 427,147.25893163366666 Z\" style=\"fill: rgb(0, 0, 0);\"/><title>Burner → Heating\nCoal\n1.76k</title></g><g class=\"link\" style=\"opacity: 0.8;\"><path d=\"M214,409.044842102854 A62.31923055366951 62.31923055366951 1.0934495592737057 0 0 269.35300042762316,375.3565710242172 L386.31325265731954,149.2341842655425 A44.68136394534983 44.68136394534983 1.0934495592737057 0 1 426,125.08051793524567 L426,127.84079340896722 A41.92108847162828 41.92108847162828 1.0934495592737057 0 0 388.7649762764949,150.50232147657542 L271.8047240467985,376.6247082352501 A65.07950602739106 65.07950602739106 1.0934495592737057 0 1 214,411.8051175765755 Z\" style=\"fill: rgb(153, 153, 153);\"/><title>Transformation → Boiler\nSolid biomass &amp; Waste\n1.97k</title></g><g class=\"link\" style=\"opacity: 0.8;\"><path d=\"M214,341.778558128518 A0 0 1.1041639092926934 0 0 214,341.778558128518 L326.02085851421333,119.3987292537496 A111.94764791968576 111.94764791968576 1.1041639092926934 0 1 426,57.81423396090972 L426,60.59066606963212 A109.17121581096337 109.17121581096337 1.1041639092926934 0 0 328.50045771778736,120.64779412155261 L216.47959920357403,343.027622996321 A2.776432108722399 2.776432108722399 1.1041639092926934 0 1 214,344.55499023724036 Z\" style=\"fill: rgb(0, 0, 0);\"/><title>Transformation → Boiler\nCoal\n1.98k</title></g><g class=\"link\" style=\"opacity: 0.8;\"><path d=\"M1,463.87641254958913 A170.62287544172838 170.62287544172838 0.2364567075767654 0 1 40.97001361733335,468.6241432726655 L173.78298145097844,500.62734750120313 A167.4085111690807 167.4085111690807 0.2364567075767654 0 0 213,505.2856357273523 L213,508.5 A170.62287544172838 170.62287544172838 0.2364567075767654 0 1 173.02998638266664,503.75226927692364 L40.21701854902156,471.749065048386 A167.4085111690807 167.4085111690807 0.2364567075767654 0 0 1,467.0907768222368 Z\" style=\"fill: rgb(153, 153, 153);\"/><title>Solid biomass &amp; Waste → Transformation\nSolid biomass &amp; Waste\n2.29k</title></g><g class=\"link\" style=\"opacity: 0.8;\"><path d=\"M1,459.90175610748315 A65.88390977395973 65.88390977395973 1.171755240675514 0 0 61.70767380279156,419.61604760933807 L158.04708572572494,191.14133837670414 A59.638471037841 59.638471037841 1.171755240675514 0 1 213,154.67449741737883 L213,158.6491538594848 A55.66381459573505 55.66381459573505 1.171755240675514 0 0 161.7094692666134,192.68563129976098 L65.37005734368005,421.16034053239497 A69.85856621606568 69.85856621606568 1.171755240675514 0 1 1,463.8764125495891 Z\" style=\"fill: rgb(153, 153, 153);\"/><title>Solid biomass &amp; Waste → Power Plant\nSolid biomass &amp; Waste\n2.83k</title></g><g class=\"link\" style=\"opacity: 0.8;\"><path d=\"M427,406.836159716239 A85.7443761324537 85.7443761324537 0.532538278924267 0 1 470.5342851584945,418.7099459357742 L596.1846671751895,492.7597073826089 A84.32834003363473 84.32834003363473 0.532538278924267 0 0 639,504.4374024918589 L639,508.50000000000006 A88.39093754177588 88.39093754177588 0.532538278924267 0 1 594.1219980372113,496.2597208883524 L468.4716160205163,422.2099594415177 A81.68177862431254 81.68177862431254 0.532538278924267 0 0 427,410.8987572243802 Z\" style=\"fill: rgb(153, 153, 153);\"/><title>Spark Ignition Engine → Motion\nLiquid fuel\n2.89k</title></g><g class=\"link\" style=\"opacity: 0.8;\"><path d=\"M214,414.27325580127496 A67.54764425209052 67.54764425209052 1.1377171938404655 0 0 275.31149997379845,375.0731725548494 L361.37595834422854,188.92872661577525 A71.19711274005377 71.19711274005377 1.1377171938404655 0 1 426,147.61073873896072 L426,151.8024653643322 A67.0053861146823 67.0053861146823 1.1377171938404655 0 0 365.1806957222264,190.68785867060052 L279.1162373517963,376.8323046096747 A71.739370877462 71.739370877462 1.1377171938404655 0 1 214,418.4649824266465 Z\" style=\"fill: rgb(153, 153, 153);\"/><title>Transformation → Burner\nGas\n2.99k</title></g><g class=\"link\" style=\"opacity: 0.8;\"><path d=\"M427,147.2589316336667 A344.381634957256 344.381634957256 0.11630909051273375 0 1 466.9644670901192,149.58567060778444 L599.6197229329673,165.0846348638733 A339.3475551877804 339.3475551877804 0.11630909051273375 0 0 639,167.3773621822885 L639,171.56908880765997 A343.53928181315194 343.53928181315194 0.11630909051273375 0 1 599.1332854933191,169.24804100778442 L466.4780296504711,153.74907675169555 A340.18990833188445 340.18990833188445 0.11630909051273375 0 0 427,151.45065825903816 Z\" style=\"fill: rgb(153, 153, 153);\"/><title>Burner → Heating\nGas\n2.99k</title></g><g class=\"link\" style=\"opacity: 0.8;\"><path d=\"M1,504.2623220468059 A72.05648841681601 72.05648841681601 1.2263797803061467 0 0 68.82479924051718,456.5355301128127 L162.24440191761167,196.10623124440085 A53.922314643983555 53.922314643983555 1.2263797803061467 0 1 213,160.3906538112363 L213,164.6283317644304 A49.684636690789404 49.684636690789404 1.2263797803061467 0 0 166.23321212383152,197.53707280577092 L72.81360944673703,457.9663716741828 A76.29416637001016 76.29416637001016 1.2263797803061467 0 1 1,508.50000000000006 Z\" style=\"fill: rgb(153, 153, 153);\"/><title>Primary Electricity → Power Plant\nPrimary Electricity\n3.02k</title></g><g class=\"link\" style=\"opacity: 0.8;\"><path d=\"M214,58.16604106620374 A117.95075415292305 117.95075415292305 0.6544337530191264 0 1 285.79781355077876,82.53552372439391 L380.65723890577664,155.3139678124878 A74.48991274165971 74.48991274165971 0.6544337530191264 0 0 426,170.70412491495503 L426,175.29583276369473 A79.08162059039941 79.08162059039941 0.6544337530191264 0 1 377.8622200322556,158.95699546333523 L283.0027946772577,86.17855137524133 A113.35904630418335 113.35904630418335 0.6544337530191264 0 0 214,62.75774891494344 Z\" style=\"fill: rgb(255, 255, 0);\"/><title>Power Plant → Cooler\nElectricity\n3.27k</title></g><g class=\"link\" style=\"opacity: 0.8;\"><path d=\"M427,312.4165659203118 A125.293340108964 125.293340108964 0.31967018287677873 0 0 466.37386682418276,306.0690945373025 L598.1120579858842,262.46066954517227 A130.11134639140278 130.11134639140278 0.31967018287677873 0 1 639,255.8691137042473 L639,260.68711998668607 A125.293340108964 125.293340108964 0.31967018287677873 0 0 599.6261331758172,267.0345913696954 L467.88794201411577,310.64301636182563 A130.11134639140278 130.11134639140278 0.31967018287677873 0 1 427,317.2345722027506 Z\" style=\"fill: rgb(255, 255, 0);\"/><title>Electronics → Information\nElectricity\n3.43k</title></g><g class=\"link\" style=\"opacity: 0.8;\"><path d=\"M427,369.3573547614452 A266.68386947053034 266.68386947053034 0.14616389807237296 0 0 465.8409096448998,366.5137209899674 L599.4410491873113,346.8459438794596 A271.61398050077594 271.61398050077594 0.14616389807237296 0 1 639,343.9497406359302 L639,348.8798516661758 A266.68386947053034 266.68386947053034 0.14616389807237296 0 0 600.1590903551001,351.7234854376536 L466.5589508126887,371.3912625481614 A271.61398050077594 271.61398050077594 0.14616389807237296 0 1 427,374.2874657916908 Z\" style=\"fill: rgb(153, 153, 153);\"/><title>Light Device → Loss\nLoss\n3.51k</title></g><g class=\"link\" style=\"opacity: 0.8;\"><path d=\"M214,91.03325590648053 A85.08353931264625 85.08353931264625 1.188511215409699 0 1 292.94175144952976,144.37709547185005 L367.286423584923,329.28428350574274 A63.281581613908024 63.281581613908024 1.188511215409699 0 0 426,368.95920258322644 L426,374.2874657916908 A68.60984482237238 68.60984482237238 1.188511215409699 0 1 362.3427830963127,331.27194734503934 L287.99811096091946,146.36475931114666 A79.75527610418189 79.75527610418189 1.188511215409699 0 0 214,96.3615191149449 Z\" style=\"fill: rgb(255, 255, 0);\"/><title>Power Plant → Light Device\nElectricity\n3.80k</title></g><g class=\"link\" style=\"opacity: 0.8;\"><path d=\"M214,85.36501322125847 A90.75178199786833 90.75178199786833 1.08134088388421 0 1 294.096525468867,133.4502680156649 L372.23660782324663,280.14017944415133 A60.9155468071721 60.9155468071721 1.08134088388421 0 0 426,312.4165659203118 L426,318.08480860553385 A66.58378949239417 66.58378949239417 1.08134088388421 0 1 367.2338791207813,282.80507731613505 L289.0937967664017,136.11516588764863 A85.08353931264625 85.08353931264625 1.08134088388421 0 0 214,91.03325590648055 Z\" style=\"fill: rgb(255, 255, 0);\"/><title>Power Plant → Electronics\nElectricity\n4.04k</title></g><g class=\"link\" style=\"opacity: 0.8;\"><path d=\"M1,357.67026974661803 A71.71598528881809 71.71598528881809 0.8204602162624985 0 1 53.457354632341165,380.4842255180146 L131.23597166058974,463.9175827125324 A111.78199691237369 111.78199691237369 0.8204602162624985 0 0 213,499.47715180060993 L213,505.2856357273523 A117.59048083911604 117.59048083911604 0.8204602162624985 0 1 126.98729962472098,467.8782987410872 L49.2086825964724,384.4449415465694 A65.90750136207573 65.90750136207573 0.8204602162624985 0 0 1,363.4787536733604 Z\" style=\"fill: rgb(0, 0, 0);\"/><title>Coal → Transformation\nCoal\n4.14k</title></g><g class=\"link\" style=\"opacity: 0.8;\"><path d=\"M427,345.68232060148506 A70.26468686904236 70.26468686904236 0.7935328900646668 0 1 477.08715914248967,366.66818128889554 L583.4434252495777,474.7690359373431 A77.93744734553002 77.93744734553002 0.7935328900646668 0 0 639,498.04650980375413 L639,504.3733917854955 A84.26432932727138 84.26432932727138 0.7935328900646668 0 1 578.9333995337319,479.20627648224195 L472.57713342664397,371.10542183379437 A63.937804887301 63.937804887301 0.7935328900646668 0 0 427,352.00920258322645 Z\" style=\"fill: rgb(153, 153, 153);\"/><title>Gas Turbine → Motion\nLiquid fuel\n4.51k</title></g><g class=\"link\" style=\"opacity: 0.8;\"><path d=\"M427,109.30207166549809 A161.45535600965596 161.45535600965596 0.28015668300540675 0 1 471.6434111941616,115.59687269691945 L582.4182964937223,147.46946270607543 A204.6308478424153 204.6308478424153 0.28015668300540675 0 0 639,155.4475843608444 L639,162.8642458790445 A212.0475093606154 212.0475093606154 0.28015668300540675 0 1 580.3675434061312,154.59696436158458 L469.59265810657047,122.72437435242863 A154.03869449145586 154.03869449145586 0.28015668300540675 0 0 427,116.71873318369819 Z\" style=\"fill: rgb(153, 153, 153);\"/><title>Boiler → Heating\nLiquid fuel\n5.28k</title></g><g class=\"link\" style=\"opacity: 0.8;\"><path d=\"M427,287.83073084014546 A67.48521807268939 67.48521807268939 0.9667008474815235 0 1 482.54142895973894,316.98313884849557 L581.2320195642981,459.97856281708994 A70.19057360134079 70.19057360134079 0.9667008474815235 0 0 639,490.29963605956493 L639,497.93547113973136 A77.82640868150719 77.82640868150719 0.9667008474815235 0 1 574.9476034541428,464.3158536219498 L476.2570128495838,321.32042965335546 A59.849382992523005 59.849382992523005 0.9667008474815235 0 0 427,295.4665659203119 Z\" style=\"fill: rgb(255, 255, 0);\"/><title>Electric Motor → Motion\nElectricity\n5.44k</title></g><g class=\"link\" style=\"opacity: 0.8;\"><path d=\"M214,400.55789355703837 A53.83228200785392 53.83228200785392 1.0934495592737057 0 0 261.8147483935071,371.4574619093723 L378.77500062320354,145.33507515069758 A53.16831249116542 53.16831249116542 1.0934495592737057 0 1 426,116.59356938943006 L426,125.08051793524567 A44.68136394534983 44.68136394534983 1.0934495592737057 0 0 386.31325265731954,149.2341842655425 L269.3530004276231,375.3565710242172 A62.31923055366951 62.31923055366951 1.0934495592737057 0 1 214,409.044842102854 Z\" style=\"fill: rgb(153, 153, 153);\"/><title>Transformation → Boiler\nLiquid fuel\n6.05k</title></g><g class=\"link\" style=\"opacity: 0.8;\"><path d=\"M214,76.55617284293011 A99.56062237619668 99.56062237619668 1.0527484798082583 0 1 300.49702536097243,126.81586083002085 L374.56938403271806,256.77361449062494 A59.198152925199935 59.198152925199935 1.0527484798082583 0 0 426,286.6577255419835 L426,295.46656592031184 A68.00699330352829 68.00699330352829 1.0527484798082583 0 1 366.91637352093176,261.1356207855947 L292.8440148491861,131.17786712499057 A90.75178199786833 90.75178199786833 1.0527484798082583 0 0 214,85.36501322125845 Z\" style=\"fill: rgb(255, 255, 0);\"/><title>Power Plant → Electric Motor\nElectricity\n6.28k</title></g><g class=\"link\" style=\"opacity: 0.8;\"><path d=\"M427,118.76371126224272 A69.2550696680016 69.2550696680016 0.8544615826833245 0 1 479.23338463263457,142.54419237202856 L593.6127094567191,273.9234847851774 A60.177987521277096 60.177987521277096 0.8544615826833245 0 0 639,294.5871199866861 L639,303.6642021334106 A69.2550696680016 69.2550696680016 0.8544615826833245 0 1 586.7666153673654,279.88372102362473 L472.3872905432809,148.50442861047597 A60.177987521277096 60.177987521277096 0.8544615826833245 0 0 427,127.84079340896723 Z\" style=\"fill: rgb(153, 153, 153);\"/><title>Boiler → Loss\nLoss\n6.47k</title></g><g class=\"link\" style=\"opacity: 0.8;\"><path d=\"M427,335.0348086055339 A994.7317633340358 994.7317633340358 0.007946481460847421 0 0 434.90453432453523,335.00340182253126 L631.0117386666552,333.4450067563167 A1005.2682366659642 1005.2682366659642 0.007946481460847421 0 1 639,333.4132673040018 L639,343.9497406359302 A994.7317633340358 994.7317633340358 0.007946481460847421 0 0 631.0954656754648,343.98114741893284 L434.9882613333448,345.5395424851474 A1005.2682366659642 1005.2682366659642 0.007946481460847421 0 1 427,345.5712819374623 Z\" style=\"fill: rgb(153, 153, 153);\"/><title>Gas Turbine → Loss\nLoss\n7.51k</title></g><g class=\"link\" style=\"opacity: 0.8;\"><path d=\"M427,227.62546107994726 A70.19057360134079 70.19057360134079 1.0786164628542445 0 1 488.8592938293448,264.64761009675243 L587.1292906911655,447.92169340423555 A58.85671520175628 58.85671520175628 1.0786164628542445 0 0 639,478.9657776599804 L639,490.29963605956493 A70.19057360134079 70.19057360134079 1.0786164628542445 0 1 577.1407061706553,453.2774870427598 L478.87070930883453,270.00340373527666 A58.85671520175628 58.85671520175628 1.0786164628542445 0 0 427,238.95931947953179 Z\" style=\"fill: rgb(153, 153, 153);\"/><title>Diesel Engine → Motion\nLiquid fuel\n8.08k</title></g><g class=\"link\" style=\"opacity: 0.8;\"><path d=\"M427,170.70412491495503 A70.04168899713781 70.04168899713781 0.6149685319376743 0 0 467.4093491312104,157.87189929900723 L587.9961797899745,72.69656199076921 A88.40512875416186 88.40512875416186 0.6149685319376743 0 1 639,56.5 L639,68.74014497156774 A76.16498378259413 76.16498378259413 0.6149685319376743 0 0 595.0579211422272,82.69420961402936 L474.4710904834631,167.86954692226738 A82.28183396870554 82.28183396870554 0.6149685319376743 0 1 427,182.9442698865228 Z\" style=\"fill: rgb(255, 255, 0);\"/><title>Cooler → Cool\nElectricity\n8.72k</title></g><g class=\"link\" style=\"opacity: 0.8;\"><path d=\"M214,496.1155698738657 A0 0 0 0 0 214,496.1155698738657 L426,496.1155698738657 A0 0 0 0 0 426,496.1155698738657 L426,508.49999999999994 A0 0 0 0 0 426,508.49999999999994 L214,508.49999999999994 A0 0 0 0 0 214,508.49999999999994 Z\" style=\"fill: rgb(153, 153, 153);\"/><title>Transformation → \nLoss\n8.82k</title></g><g class=\"link\" style=\"opacity: 0.8;\"><path d=\"M214,62.757766780478356 A113.35902843864844 113.35902843864844 1.0326023866253662 0 1 311.334124872744,118.01053511050004 L377.0777698865013,228.13808662380714 A56.97669221322766 56.97669221322766 1.0326023866253662 0 0 426,255.90931947953177 L426,269.7077255419835 A70.77509827567941 70.77509827567941 1.0326023866253662 0 1 365.2299638738167,235.21095750839842 L299.4863188600594,125.08340599509135 A99.56062237619668 99.56062237619668 1.0326023866253662 0 0 214,76.55617284293011 Z\" style=\"fill: rgb(255, 255, 0);\"/><title>Power Plant → Electric Heater\nElectricity\n9.83k</title></g><g class=\"link\" style=\"opacity: 0.8;\"><path d=\"M427,255.90931947953177 A87.58410199070241 87.58410199070241 0.45325692193975153 0 0 465.3527198583416,247.06557436499128 L594.6050145914444,184.10958524313804 A101.38250805315417 101.38250805315417 0.45325692193975153 0 1 639,173.87255546357684 L639,187.6709615260286 A87.58410199070241 87.58410199070241 0.45325692193975153 0 0 600.6472801416585,196.5147066405691 L471.39498540855556,259.47069576242234 A101.38250805315417 101.38250805315417 0.45325692193975153 0 1 427,269.7077255419835 Z\" style=\"fill: rgb(255, 255, 0);\"/><title>Electric Heater → Heating\nElectricity\n9.83k</title></g><g class=\"link\" style=\"opacity: 0.8;\"><path d=\"M427,391.2374657916908 A157.74540659212997 157.74540659212997 0.24174037238055246 0 0 464.7631075309221,386.65067309549687 L597.5180018496891,353.9183492523073 A173.28008981031482 173.28008981031482 0.24174037238055246 0 1 639,348.8798516661758 L639,364.4145348843606 A157.74540659212997 157.74540659212997 0.24174037238055246 0 0 601.2368924690778,369.0013275805545 L468.48199815031086,401.7336514237441 A173.28008981031482 173.28008981031482 0.24174037238055246 0 1 427,406.7721490098756 Z\" style=\"fill: rgb(153, 153, 153);\"/><title>Spark Ignition Engine → Loss\nLoss\n11.1k</title></g><g class=\"link\" style=\"opacity: 0.8;\"><path d=\"M214,459.79713778926333 A113.07152624007894 113.07152624007894 0.7377181467645453 0 0 290.05203075246266,430.3991358247122 L371.40589290462003,356.4554782604156 A81.1686282655778 81.1686282655778 0.7377181467645453 0 1 426,335.3520619313134 L426,352.0092025832265 A64.51148761366476 64.51148761366476 0.7377181467645453 0 0 382.609503709498,368.7818499743644 L301.2556415573406,442.72550753866096 A129.728666891992 129.728666891992 0.7377181467645453 0 1 214,476.4542784411764 Z\" style=\"fill: rgb(153, 153, 153);\"/><title>Transformation → Gas Turbine\nLiquid fuel\n11.9k</title></g><g class=\"link\" style=\"opacity: 0.8;\"><path d=\"M214,476.77433197299314 A130.04872042380876 130.04872042380876 0.5131181615487908 0 0 277.8404262581232,460.0264043930612 L376.1424730422917,404.6371664960693 A101.56429028417517 101.56429028417517 0.5131181615487908 0 1 426,391.55751932350756 L426,410.8987572243801 A82.22305238330259 82.22305238330259 0.5131181615487908 0 0 385.6370137646272,421.48760209904594 L287.3349669804587,476.87683999603786 A149.38995832468132 149.38995832468132 0.5131181615487908 0 1 214,496.1155698738657 Z\" style=\"fill: rgb(153, 153, 153);\"/><title>Transformation → Spark Ignition Engine\nLiquid fuel\n13.8k</title></g><g class=\"link\" style=\"opacity: 0.8;\"><path d=\"M1,398.9087989461779 A52.675782221687484 52.675782221687484 1.1416129317172259 0 0 48.89839773435774,368.1529055733857 L135.52588277194312,178.8582535037187 A85.20138292632872 85.20138292632872 1.1416129317172259 0 1 213,129.1115855288911 L213,154.67449741737886 A59.638471037841 59.638471037841 1.1416129317172259 0 0 158.77038848673462,189.4957070661843 L72.14290344914923,378.79035913585125 A78.2386941101752 78.2386941101752 1.1416129317172259 0 1 1,424.47171083466566 Z\" style=\"fill: rgb(153, 153, 153);\"/><title>Nuclear → Power Plant\nNuclear\n18.2k</title></g><g class=\"link\" style=\"opacity: 0.8;\"><path d=\"M427,199.89963761030134 A97.9163970709867 97.9163970709867 0.5657623201806983 0 1 479.4890155714115,215.15695133464519 L601.8751614750739,292.87289080523794 A69.2550696680016 69.2550696680016 0.5657623201806983 0 0 639,303.6642021334106 L639,331.3900256030565 A96.98089313764751 96.98089313764751 0.5657623201806983 0 1 587.0124702061806,316.2784819175241 L464.6263243025181,238.56254244693136 A70.19057360134079 70.19057360134079 0.5657623201806983 0 0 427,227.62546107994729 Z\" style=\"fill: rgb(153, 153, 153);\"/><title>Diesel Engine → Loss\nLoss\n19.8k</title></g><g class=\"link\" style=\"opacity: 0.8;\"><path d=\"M1,56.5 A0 0 0 0 0 1,56.5 L213,56.5 A0 0 0 0 0 213,56.5 L213,86.41023895398615 A0 0 0 0 0 213,86.41023895398615 L1,86.41023895398615 A0 0 0 0 0 1,86.41023895398615 Z\" style=\"fill: rgb(153, 153, 153);\"/><title>Gas → Power Plant\nGas\n21.3k</title></g><g class=\"link\" style=\"opacity: 0.8;\"><path d=\"M214,420.4202025942534 A73.69459104506898 73.69459104506898 1.079341980636758 0 0 278.972649952296,381.50272338263557 L352.66524728213614,243.82586990161246 A83.1792241027912 83.1792241027912 1.079341980636758 0 1 426,199.89963761030134 L426,238.95931947953176 A44.11954223356075 44.11954223356075 1.079341980636758 0 0 387.10211708965727,262.2584699782519 L313.40951975981716,399.935323459275 A112.75427291429942 112.75427291429942 1.079341980636758 0 1 214,459.4798844634838 Z\" style=\"fill: rgb(153, 153, 153);\"/><title>Transformation → Diesel Engine\nLiquid fuel\n27.8k</title></g><g class=\"link\" style=\"opacity: 0.8;\"><path d=\"M1,315.473211479792 A42.68141810243202 42.68141810243202 1.1533055287617593 0 0 40.015477730031925,290.0977446292269 L96.54391053072607,162.65697128189854 A127.39844119315477 127.39844119315477 1.1533055287617593 0 1 213,86.91452726206506 L213,129.1115855288911 A85.20138292632872 85.20138292632872 1.1533055287617593 0 0 135.11663047014162,179.76653009705583 L78.58819766944745,307.20730344438425 A84.87847636925807 84.87847636925807 1.1533055287617593 0 1 1,357.67026974661803 Z\" style=\"fill: rgb(0, 0, 0);\"/><title>Coal → Power Plant\nCoal\n30.1k</title></g><g class=\"link\" style=\"opacity: 0.8;\"><path d=\"M427,58.87485855053271 A211.8825691246213 211.8825691246213 0.28015668300540675 0 1 485.58684959166123,67.13570939890042 L596.361734891222,99.00829940805639 A154.20363472744995 154.20363472744995 0.28015668300540675 0 0 639,105.020371245879 L639,154.13335039993467 A203.31661388150562 203.31661388150562 0.28015668300540675 0 1 582.7816903666311,146.2064679328714 L472.00680506707045,114.33387792371539 A162.76958997056565 162.76958997056565 0.28015668300540675 0 0 427,107.98783770458837 Z\" style=\"fill: rgb(153, 153, 153);\"/><title>Boiler → Heating\nGas\n35.0k</title></g><g class=\"link\" style=\"opacity: 0.8;\"><path d=\"M214,344.5549902372404 A0 0 1.0980984681492307 0 0 214,344.5549902372404 L328.8001479777389,120.0573234528769 A109.17121581096337 109.17121581096337 1.0980984681492307 0 1 426,60.59066606963212 L426,116.59356938943007 A53.16831249116542 53.16831249116542 1.0980984681492307 0 0 378.661953354415,145.55488303855327 L263.86180537667605,370.05254982291683 A56.00290331979796 56.00290331979796 1.0980984681492307 0 1 214,400.55789355703837 Z\" style=\"fill: rgb(153, 153, 153);\"/><title>Transformation → Boiler\nGas\n39.9k</title></g><g class=\"link\" style=\"opacity: 0.8;\"><path d=\"M1,86.41023895398615 A96.83779075539304 96.83779075539304 1.0165897126655576 0 1 83.34294000449218,132.28531834310778 L213,341.778558128518 A0 0 1.0165897126655576 0 0 213,341.778558128518 L213,406.0446121057748 A64.2660539772568 64.2660539772568 1.0165897126655576 0 1 158.353401955011,375.5997795126888 L28.696341959503204,166.1065397272786 A32.57173677813624 32.57173677813624 1.0165897126655576 0 0 1,150.67629293124295 Z\" style=\"fill: rgb(153, 153, 153);\"/><title>Gas → Transformation\nGas\n45.8k</title></g><g class=\"link\" style=\"opacity: 0.8;\"><path d=\"M214,96.36151911494488 A79.75527610418189 79.75527610418189 1.1866855513298424 0 1 287.9436704481904,146.22971327552276 L392.6908222105236,405.38478518638584 A35.92711391388591 35.92711391388591 1.1866855513298424 0 0 426,427.84875722438017 L426,496.11556987386575 A104.19392656337146 104.19392656337146 1.1866855513298424 0 1 329.39847412175266,430.96673942623653 L224.65132235941945,171.81166751537344 A11.488463454696344 11.488463454696344 1.1866855513298424 0 0 214,164.6283317644304 Z\" style=\"fill: rgb(153, 153, 153);\"/><title>Power Plant → \nLoss\n48.6k</title></g><g class=\"link\" style=\"opacity: 0.8;\"><path d=\"M427,427.84875722438017 A75.46653012956605 75.46653012956605 0.3566398341935333 0 0 453.34743963756983,423.10004376318494 L584.4949950539766,374.2382086169922 A156.11777290518583 156.11777290518583 0.3566398341935333 0 1 639,364.41453488436065 L639,445.06577765998037 A75.46653012956605 75.46653012956605 0.3566398341935333 0 0 612.6525603624301,449.8144911211756 L481.50500494602335,498.6763262673683 A156.11777290518583 156.11777290518583 0.3566398341935333 0 1 427,508.4999999999999 Z\" style=\"fill: rgb(153, 153, 153);\"/><title> → Loss\nLoss\n57.5k</title></g><g class=\"link\" style=\"opacity: 0.8;\"><path d=\"M1,186.6106265121394 A110.35404713724131 110.35404713724131 0.9965128245494046 0 1 93.65124328518608,237.01667253776952 L197.5941307191121,397.66319240213403 A18.349457217538614 18.349457217538614 0.9965128245494046 0 0 213,406.04461210577483 L213,499.47715180060993 A111.78199691237369 111.78199691237369 0.9965128245494046 0 1 119.14987615314064,448.41886597086915 L15.206988719214635,287.77234610650464 A16.92150744240623 16.92150744240623 0.9965128245494046 0 0 1,280.0431662069745 Z\" style=\"fill: rgb(153, 153, 153);\"/><title>Liquid fuel → Transformation\nLiquid fuel\n66.6k</title></g></g><g class=\"nodes\"><g class=\"node\" transform=\"translate(0,56.5)\"><title>Gas</title><text dy=\".35em\" text-anchor=\"end\" transform=\"translate(-4,47.08814646562148)\" style=\"display: inline;\">Gas</text><line x1=\"0\" x2=\"0\" y1=\"0\" y2=\"94.17629293124295\" style=\"display: inline; stroke: rgb(136, 136, 136); stroke-width: 4px;\"/><rect x=\"-5\" y=\"-5\" width=\"10\" style=\"fill: none; visibility: hidden; pointer-events: all;\" height=\"99.17629293124295\"/></g><g class=\"node\" transform=\"translate(0,186.10633820406048)\"><title>Liquid fuel</title><text dy=\".35em\" text-anchor=\"end\" transform=\"translate(-4,46.968414001457006)\" style=\"display: inline;\">Liquid fuel</text><line x1=\"0\" x2=\"0\" y1=\"0\" y2=\"93.93682800291401\" style=\"display: inline; stroke: rgb(136, 136, 136); stroke-width: 4px;\"/><rect x=\"-5\" y=\"-5\" width=\"10\" style=\"fill: none; visibility: hidden; pointer-events: all;\" height=\"98.93682800291401\"/></g><g class=\"node\" transform=\"translate(0,315.473211479792)\"><title>Coal</title><text dy=\".35em\" text-anchor=\"end\" transform=\"translate(-4,24.002771096784215)\" style=\"display: inline;\">Coal</text><line x1=\"0\" x2=\"0\" y1=\"0\" y2=\"48.00554219356843\" style=\"display: inline; stroke: rgb(136, 136, 136); stroke-width: 4px;\"/><rect x=\"-5\" y=\"-5\" width=\"10\" style=\"fill: none; visibility: hidden; pointer-events: all;\" height=\"53.00554219356843\"/></g><g class=\"node\" transform=\"translate(0,398.9087989461779)\"><title>Nuclear</title><text dy=\".35em\" text-anchor=\"end\" transform=\"translate(-4,12.781455944243874)\" style=\"display: inline;\">Nuclear</text><line x1=\"0\" x2=\"0\" y1=\"0\" y2=\"25.562911888487747\" style=\"display: inline; stroke: rgb(136, 136, 136); stroke-width: 4px;\"/><rect x=\"-5\" y=\"-5\" width=\"10\" style=\"fill: none; visibility: hidden; pointer-events: all;\" height=\"30.562911888487747\"/></g><g class=\"node\" transform=\"translate(0,459.90175610748315)\"><title>Solid biomass &amp; Waste</title><text dy=\".35em\" text-anchor=\"end\" transform=\"translate(-4,3.5945103573768336)\" style=\"display: inline;\">Solid biomass &amp; Waste</text><line x1=\"0\" x2=\"0\" y1=\"0\" y2=\"7.189020714753667\" style=\"display: inline; stroke: rgb(136, 136, 136); stroke-width: 4px;\"/><rect x=\"-5\" y=\"-5\" width=\"10\" style=\"fill: none; visibility: hidden; pointer-events: all;\" height=\"12.189020714753667\"/></g><g class=\"node\" transform=\"translate(0,502.52082209505437)\"><title>Primary Electricity</title><text dy=\".35em\" text-anchor=\"end\" transform=\"translate(-4,2.9895889524728148)\" style=\"display: inline;\">Primary Electricity</text><line x1=\"0\" x2=\"0\" y1=\"0\" y2=\"5.9791779049456295\" style=\"display: inline; stroke: rgb(136, 136, 136); stroke-width: 4px;\"/><rect x=\"-5\" y=\"-5\" width=\"10\" style=\"fill: none; visibility: hidden; pointer-events: all;\" height=\"10.97917790494563\"/></g><g class=\"node\" transform=\"translate(213,56.5)\"><title>Power Plant</title><text dy=\".35em\" text-anchor=\"start\" transform=\"translate(-4,-10)\" style=\"display: inline;\">Power Plant</text><line x1=\"0\" x2=\"0\" y1=\"-5\" y2=\"108.12833176443041\" style=\"display: inline; stroke: rgb(136, 136, 136); stroke-width: 4px;\"/><rect x=\"-5\" y=\"-5\" width=\"10\" style=\"fill: none; visibility: hidden; pointer-events: all;\" height=\"113.12833176443041\"/></g><g class=\"node\" transform=\"translate(213,341.778558128518)\"><title>Transformation</title><text dy=\".35em\" text-anchor=\"start\" transform=\"translate(-4,-10)\" style=\"display: inline;\">Transformation</text><line x1=\"0\" x2=\"0\" y1=\"-5\" y2=\"166.721441871482\" style=\"display: inline; stroke: rgb(136, 136, 136); stroke-width: 4px;\"/><rect x=\"-5\" y=\"-5\" width=\"10\" style=\"fill: none; visibility: hidden; pointer-events: all;\" height=\"171.721441871482\"/></g><g class=\"node\" transform=\"translate(426,56.5)\"><title>Boiler</title><text dy=\".35em\" text-anchor=\"start\" transform=\"translate(-4,-10)\" style=\"display: inline;\">Boiler</text><line x1=\"0\" x2=\"0\" y1=\"-5\" y2=\"71.34079340896723\" style=\"display: inline; stroke: rgb(136, 136, 136); stroke-width: 4px;\"/><rect x=\"-5\" y=\"-5\" width=\"10\" style=\"fill: none; visibility: hidden; pointer-events: all;\" height=\"76.34079340896723\"/></g><g class=\"node\" transform=\"translate(426,144.79079340896723)\"><title>Burner</title><text dy=\".35em\" text-anchor=\"start\" transform=\"translate(4,4.481665752993905)\" style=\"display: inline;\">Burner</text><line x1=\"0\" x2=\"0\" y1=\"0\" y2=\"8.96333150598781\" style=\"display: inline; stroke: rgb(136, 136, 136); stroke-width: 4px;\"/><rect x=\"-5\" y=\"-5\" width=\"10\" style=\"fill: none; visibility: hidden; pointer-events: all;\" height=\"13.96333150598781\"/></g><g class=\"node\" transform=\"translate(426,170.70412491495503)\"><title>Cooler</title><text dy=\".35em\" text-anchor=\"start\" transform=\"translate(4,6.122756347673146)\" style=\"display: inline;\">Cooler</text><line x1=\"0\" x2=\"0\" y1=\"0\" y2=\"12.245512695346292\" style=\"display: inline; stroke: rgb(136, 136, 136); stroke-width: 4px;\"/><rect x=\"-5\" y=\"-5\" width=\"10\" style=\"fill: none; visibility: hidden; pointer-events: all;\" height=\"17.245512695346292\"/></g><g class=\"node\" transform=\"translate(426,199.89963761030134)\"><title>Diesel Engine</title><text dy=\".35em\" text-anchor=\"start\" transform=\"translate(4,19.529840934615223)\" style=\"display: inline;\">Diesel Engine</text><line x1=\"0\" x2=\"0\" y1=\"0\" y2=\"39.059681869230445\" style=\"display: inline; stroke: rgb(136, 136, 136); stroke-width: 4px;\"/><rect x=\"-5\" y=\"-5\" width=\"10\" style=\"fill: none; visibility: hidden; pointer-events: all;\" height=\"44.059681869230445\"/></g><g class=\"node\" transform=\"translate(426,255.90931947953177)\"><title>Electric Heater</title><text dy=\".35em\" text-anchor=\"start\" transform=\"translate(4,6.899203031225866)\" style=\"display: inline;\">Electric Heater</text><line x1=\"0\" x2=\"0\" y1=\"0\" y2=\"13.798406062451733\" style=\"display: inline; stroke: rgb(136, 136, 136); stroke-width: 4px;\"/><rect x=\"-5\" y=\"-5\" width=\"10\" style=\"fill: none; visibility: hidden; pointer-events: all;\" height=\"18.798406062451733\"/></g><g class=\"node\" transform=\"translate(426,286.6577255419835)\"><title>Electric Motor</title><text dy=\".35em\" text-anchor=\"start\" transform=\"translate(4,4.4044201891641706)\" style=\"display: inline;\">Electric Motor</text><line x1=\"0\" x2=\"0\" y1=\"0\" y2=\"8.808840378328341\" style=\"display: inline; stroke: rgb(136, 136, 136); stroke-width: 4px;\"/><rect x=\"-5\" y=\"-5\" width=\"10\" style=\"fill: none; visibility: hidden; pointer-events: all;\" height=\"13.808840378328341\"/></g><g class=\"node\" transform=\"translate(426,312.4165659203118)\"><title>Electronics</title><text dy=\".35em\" text-anchor=\"start\" transform=\"translate(4,2.8341213426110414)\" style=\"display: inline;\">Electronics</text><line x1=\"0\" x2=\"0\" y1=\"0\" y2=\"5.668242685222083\" style=\"display: inline; stroke: rgb(136, 136, 136); stroke-width: 4px;\"/><rect x=\"-5\" y=\"-5\" width=\"10\" style=\"fill: none; visibility: hidden; pointer-events: all;\" height=\"10.668242685222083\"/></g><g class=\"node\" transform=\"translate(426,335.0348086055339)\"><title>Gas Turbine</title><text dy=\".35em\" text-anchor=\"start\" transform=\"translate(4,8.487196988846279)\" style=\"display: inline;\">Gas Turbine</text><line x1=\"0\" x2=\"0\" y1=\"0\" y2=\"16.974393977692557\" style=\"display: inline; stroke: rgb(136, 136, 136); stroke-width: 4px;\"/><rect x=\"-5\" y=\"-5\" width=\"10\" style=\"fill: none; visibility: hidden; pointer-events: all;\" height=\"21.974393977692557\"/></g><g class=\"node\" transform=\"translate(426,368.95920258322644)\"><title>Light Device</title><text dy=\".35em\" text-anchor=\"start\" transform=\"translate(4,2.664131604232182)\" style=\"display: inline;\">Light Device</text><line x1=\"0\" x2=\"0\" y1=\"0\" y2=\"5.328263208464364\" style=\"display: inline; stroke: rgb(136, 136, 136); stroke-width: 4px;\"/><rect x=\"-5\" y=\"-5\" width=\"10\" style=\"fill: none; visibility: hidden; pointer-events: all;\" height=\"10.328263208464364\"/></g><g class=\"node\" transform=\"translate(426,391.2374657916908)\"><title>Spark Ignition Engine</title><text dy=\".35em\" text-anchor=\"start\" transform=\"translate(4,9.83064571634469)\" style=\"display: inline;\">Spark Ignition Engine</text><line x1=\"0\" x2=\"0\" y1=\"0\" y2=\"19.66129143268938\" style=\"display: inline; stroke: rgb(136, 136, 136); stroke-width: 4px;\"/><rect x=\"-5\" y=\"-5\" width=\"10\" style=\"fill: none; visibility: hidden; pointer-events: all;\" height=\"24.66129143268938\"/></g><g class=\"node\" transform=\"translate(426,427.84875722438017)\"><title/><text dy=\".35em\" text-anchor=\"start\" transform=\"translate(4,40.32562138780989)\" style=\"display: none;\"/><line x1=\"0\" x2=\"0\" y1=\"0\" y2=\"80.65124277561978\" style=\"display: none; stroke: rgb(0, 0, 0);\"/><rect x=\"-5\" y=\"-5\" width=\"10\" style=\"fill: none; visibility: hidden; pointer-events: all;\" height=\"85.65124277561978\"/></g><g class=\"node\" transform=\"translate(639,56.5)\"><title>Cool</title><text dy=\".35em\" text-anchor=\"start\" transform=\"translate(4,6.122756347673146)\" style=\"display: inline;\">Cool</text><line x1=\"0\" x2=\"0\" y1=\"0\" y2=\"12.245512695346292\" style=\"display: inline; stroke: rgb(136, 136, 136); stroke-width: 4px;\"/><rect x=\"-5\" y=\"-5\" width=\"10\" style=\"fill: none; visibility: hidden; pointer-events: all;\" height=\"17.245512695346292\"/></g><g class=\"node\" transform=\"translate(639,102.6455126953463)\"><title>Heating</title><text dy=\".35em\" text-anchor=\"start\" transform=\"translate(4,42.51272441534114)\" style=\"display: inline;\">Heating</text><line x1=\"0\" x2=\"0\" y1=\"0\" y2=\"85.02544883068228\" style=\"display: inline; stroke: rgb(136, 136, 136); stroke-width: 4px;\"/><rect x=\"-5\" y=\"-5\" width=\"10\" style=\"fill: none; visibility: hidden; pointer-events: all;\" height=\"90.02544883068228\"/></g><g class=\"node\" transform=\"translate(639,221.57096152602858)\"><title>Illumination</title><text dy=\".35em\" text-anchor=\"start\" transform=\"translate(4,0.19907608910936858)\" style=\"display: inline;\">Illumination</text><line x1=\"0\" x2=\"0\" y1=\"0\" y2=\"1\" style=\"display: inline; stroke: rgb(136, 136, 136); stroke-width: 4px;\"/><rect x=\"-5\" y=\"-5\" width=\"10\" style=\"fill: none; visibility: hidden; pointer-events: all;\" height=\"6\"/></g><g class=\"node\" transform=\"translate(639,255.86911370424733)\"><title>Information</title><text dy=\".35em\" text-anchor=\"start\" transform=\"translate(4,2.4090031412193724)\" style=\"display: inline;\">Information</text><line x1=\"0\" x2=\"0\" y1=\"0\" y2=\"4.818006282438745\" style=\"display: inline; stroke: rgb(136, 136, 136); stroke-width: 4px;\"/><rect x=\"-5\" y=\"-5\" width=\"10\" style=\"fill: none; visibility: hidden; pointer-events: all;\" height=\"9.818006282438745\"/></g><g class=\"node\" transform=\"translate(639,294.5871199866861)\"><title>Loss</title><text dy=\".35em\" text-anchor=\"start\" transform=\"translate(4,75.23932883664716)\" style=\"display: inline;\">Loss</text><line x1=\"0\" x2=\"0\" y1=\"0\" y2=\"150.47865767329432\" style=\"display: inline; stroke: rgb(136, 136, 136); stroke-width: 4px;\"/><rect x=\"-5\" y=\"-5\" width=\"10\" style=\"fill: none; visibility: hidden; pointer-events: all;\" height=\"155.47865767329432\"/></g><g class=\"node\" transform=\"translate(639,478.9657776599804)\"><title>Motion</title><text dy=\".35em\" text-anchor=\"start\" transform=\"translate(4,14.767111170009798)\" style=\"display: inline;\">Motion</text><line x1=\"0\" x2=\"0\" y1=\"0\" y2=\"29.534222340019596\" style=\"display: inline; stroke: rgb(136, 136, 136); stroke-width: 4px;\"/><rect x=\"-5\" y=\"-5\" width=\"10\" style=\"fill: none; visibility: hidden; pointer-events: all;\" height=\"34.534222340019596\"/></g></g><g class=\"slice-titles\"/></g></svg>"
      }
     },
     "33ba668d72da41b59aa94184fafcb4d3": {
      "model_module": "@jupyter-widgets/base",
      "model_module_version": "1.0.0",
      "model_name": "LayoutModel",
      "state": {
       "height": "600",
       "width": "900"
      }
     },
     "7a1d8d06609348929d8f3db4319f8449": {
      "model_module": "jupyter-sankey-widget",
      "model_module_version": "^0.2.3",
      "model_name": "SankeyModel",
      "state": {
       "_model_module_version": "^0.2.3",
       "_view_module_version": "^0.2.3",
       "groups": [
        {
         "id": "inputs",
         "nodes": [
          "inputs^Gas",
          "inputs^Liquid fuel",
          "inputs^Coal",
          "inputs^Nuclear",
          "inputs^Solid biomass & Waste",
          "inputs^Primary Electricity"
         ],
         "title": "",
         "type": "process"
        },
        {
         "id": "Power Plants",
         "nodes": [
          "Power Plants^Power Plant",
          "Power Plants^Transformation"
         ],
         "title": "",
         "type": "process"
        },
        {
         "id": "Devices",
         "nodes": [
          "Devices^Boiler",
          "Devices^Burner",
          "Devices^Cooler",
          "Devices^Diesel Engine",
          "Devices^Electric Heater",
          "Devices^Electric Motor",
          "Devices^Electronics",
          "Devices^Gas Turbine",
          "Devices^Light Device",
          "Devices^Spark Ignition Engine"
         ],
         "title": "",
         "type": "process"
        },
        {
         "id": "__Power Plants_Useful_2",
         "nodes": [
          "__Power Plants_Useful_2^*"
         ],
         "title": "",
         "type": "group"
        },
        {
         "id": "Useful",
         "nodes": [
          "Useful^Cool",
          "Useful^Heating",
          "Useful^Illumination",
          "Useful^Information",
          "Useful^Loss",
          "Useful^Motion"
         ],
         "title": "",
         "type": "process"
        }
       ],
       "layout": "IPY_MODEL_e7f2087b78ab4a0d8a0d2a838a0c6f36",
       "links": [
        {
         "bundles": [
          "1"
         ],
         "color": "#999",
         "opacity": 1,
         "source": "inputs^Gas",
         "target": "Power Plants^Power Plant",
         "time": "*",
         "title": "Gas",
         "type": "Gas",
         "value": 21310.72381413523
        },
        {
         "bundles": [
          "1"
         ],
         "color": "#999",
         "opacity": 1,
         "source": "inputs^Gas",
         "target": "Power Plants^Transformation",
         "time": "*",
         "title": "Gas",
         "type": "Gas",
         "value": 45788.872801736856
        },
        {
         "bundles": [
          "1"
         ],
         "color": "#999",
         "opacity": 1,
         "source": "inputs^Liquid fuel",
         "target": "Power Plants^Power Plant",
         "time": "*",
         "title": "Liquid fuel",
         "type": "Liquid fuel",
         "value": 359.3
        },
        {
         "bundles": [
          "1"
         ],
         "color": "#999",
         "opacity": 1,
         "source": "inputs^Liquid fuel",
         "target": "Power Plants^Transformation",
         "time": "*",
         "title": "Liquid fuel",
         "type": "Liquid fuel",
         "value": 66569.68042792918
        },
        {
         "bundles": [
          "1"
         ],
         "color": "black",
         "opacity": 1,
         "source": "inputs^Coal",
         "target": "Power Plants^Power Plant",
         "time": "*",
         "title": "Coal",
         "type": "Coal",
         "value": 30064.95053004109
        },
        {
         "bundles": [
          "1"
         ],
         "color": "black",
         "opacity": 1,
         "source": "inputs^Coal",
         "target": "Power Plants^Transformation",
         "time": "*",
         "title": "Coal",
         "type": "Coal",
         "value": 4138.482374951184
        },
        {
         "bundles": [
          "1"
         ],
         "color": "#999",
         "opacity": 1,
         "source": "inputs^Nuclear",
         "target": "Power Plants^Power Plant",
         "time": "*",
         "title": "Nuclear",
         "type": "Nuclear",
         "value": 18213.3
        },
        {
         "bundles": [
          "1"
         ],
         "color": "#999",
         "opacity": 1,
         "source": "inputs^Solid biomass & Waste",
         "target": "Power Plants^Power Plant",
         "time": "*",
         "title": "Solid biomass & Waste",
         "type": "Solid biomass & Waste",
         "value": 2831.9
        },
        {
         "bundles": [
          "1"
         ],
         "color": "#999",
         "opacity": 1,
         "source": "inputs^Solid biomass & Waste",
         "target": "Power Plants^Transformation",
         "time": "*",
         "title": "Solid biomass & Waste",
         "type": "Solid biomass & Waste",
         "value": 2290.2000000000003
        },
        {
         "bundles": [
          "1"
         ],
         "color": "yellow",
         "opacity": 1,
         "source": "inputs^Primary Electricity",
         "target": "Power Plants^Power Plant",
         "time": "*",
         "title": "Electricity",
         "type": "Electricity",
         "value": 1240.8
        },
        {
         "bundles": [
          "1"
         ],
         "color": "#999",
         "opacity": 1,
         "source": "inputs^Primary Electricity",
         "target": "Power Plants^Power Plant",
         "time": "*",
         "title": "Primary Electricity",
         "type": "Primary Electricity",
         "value": 3019.2999999999997
        },
        {
         "bundles": [
          "2"
         ],
         "color": "#999",
         "opacity": 1,
         "source": "Power Plants^Power Plant",
         "target": "Devices^Boiler",
         "time": "*",
         "title": "Heat",
         "type": "Heat",
         "value": 936.377573284864
        },
        {
         "bundles": [
          "2"
         ],
         "color": "#999",
         "opacity": 1,
         "source": "Power Plants^Power Plant",
         "target": "Devices^Burner",
         "time": "*",
         "title": "Heat",
         "type": "Heat",
         "value": 250.65878170699347
        },
        {
         "bundles": [
          "2"
         ],
         "color": "yellow",
         "opacity": 1,
         "source": "Power Plants^Power Plant",
         "target": "Devices^Cooler",
         "time": "*",
         "title": "Electricity",
         "type": "Electricity",
         "value": 3271.542495873238
        },
        {
         "bundles": [
          "2"
         ],
         "color": "#999",
         "opacity": 1,
         "source": "Power Plants^Power Plant",
         "target": "Devices^Cooler",
         "time": "*",
         "title": "Heat",
         "type": "Heat",
         "value": 0.0127290016285136
        },
        {
         "bundles": [
          "2"
         ],
         "color": "yellow",
         "opacity": 1,
         "source": "Power Plants^Power Plant",
         "target": "Devices^Electric Heater",
         "time": "*",
         "title": "Electricity",
         "type": "Electricity",
         "value": 9831.216030221975
        },
        {
         "bundles": [
          "2"
         ],
         "color": "yellow",
         "opacity": 1,
         "source": "Power Plants^Power Plant",
         "target": "Devices^Electric Motor",
         "time": "*",
         "title": "Electricity",
         "type": "Electricity",
         "value": 6276.20410235272
        },
        {
         "bundles": [
          "2"
         ],
         "color": "yellow",
         "opacity": 1,
         "source": "Power Plants^Power Plant",
         "target": "Devices^Electronics",
         "time": "*",
         "title": "Electricity",
         "type": "Electricity",
         "value": 4038.5619975182944
        },
        {
         "bundles": [
          "2"
         ],
         "color": "yellow",
         "opacity": 1,
         "source": "Power Plants^Power Plant",
         "target": "Devices^Light Device",
         "time": "*",
         "title": "Electricity",
         "type": "Electricity",
         "value": 3796.3302740337726
        },
        {
         "bundles": [
          "3"
         ],
         "color": "#999",
         "opacity": 1,
         "source": "Power Plants^Power Plant",
         "target": "__Power Plants_Useful_2^*",
         "time": "*",
         "title": "Loss",
         "type": "Loss",
         "value": 48639.370360182824
        },
        {
         "bundles": [
          "2"
         ],
         "color": "black",
         "opacity": 1,
         "source": "Power Plants^Transformation",
         "target": "Devices^Boiler",
         "time": "*",
         "title": "Coal",
         "type": "Coal",
         "value": 1978.1780395905128
        },
        {
         "bundles": [
          "2"
         ],
         "color": "#999",
         "opacity": 1,
         "source": "Power Plants^Transformation",
         "target": "Devices^Boiler",
         "time": "*",
         "title": "Gas",
         "type": "Gas",
         "value": 39901.466761063035
        },
        {
         "bundles": [
          "2"
         ],
         "color": "#999",
         "opacity": 1,
         "source": "Power Plants^Transformation",
         "target": "Devices^Boiler",
         "time": "*",
         "title": "Liquid fuel",
         "type": "Liquid fuel",
         "value": 6046.859631007696
        },
        {
         "bundles": [
          "2"
         ],
         "color": "#999",
         "opacity": 1,
         "source": "Power Plants^Transformation",
         "target": "Devices^Boiler",
         "time": "*",
         "title": "Solid biomass & Waste",
         "type": "Solid biomass & Waste",
         "value": 1966.6666107851959
        },
        {
         "bundles": [
          "2"
         ],
         "color": "black",
         "opacity": 1,
         "source": "Power Plants^Transformation",
         "target": "Devices^Burner",
         "time": "*",
         "title": "Coal",
         "type": "Coal",
         "value": 1758.5219604094877
        },
        {
         "bundles": [
          "2"
         ],
         "color": "#999",
         "opacity": 1,
         "source": "Power Plants^Transformation",
         "target": "Devices^Burner",
         "time": "*",
         "title": "Gas",
         "type": "Gas",
         "value": 2986.5601727579638
        },
        {
         "bundles": [
          "2"
         ],
         "color": "#999",
         "opacity": 1,
         "source": "Power Plants^Transformation",
         "target": "Devices^Burner",
         "time": "*",
         "title": "Liquid fuel",
         "type": "Liquid fuel",
         "value": 1067.0030664292601
        },
        {
         "bundles": [
          "2"
         ],
         "color": "#999",
         "opacity": 1,
         "source": "Power Plants^Transformation",
         "target": "Devices^Burner",
         "time": "*",
         "title": "Solid biomass & Waste",
         "type": "Solid biomass & Waste",
         "value": 323.5333892148041
        },
        {
         "bundles": [
          "2"
         ],
         "color": "#999",
         "opacity": 1,
         "source": "Power Plants^Transformation",
         "target": "Devices^Cooler",
         "time": "*",
         "title": "Gas",
         "type": "Gas",
         "value": 0.49877917704728364
        },
        {
         "bundles": [
          "2"
         ],
         "color": "#999",
         "opacity": 1,
         "source": "Power Plants^Transformation",
         "target": "Devices^Cooler",
         "time": "*",
         "title": "Liquid fuel",
         "type": "Liquid fuel",
         "value": 2.0381221587569742
        },
        {
         "bundles": [
          "2"
         ],
         "color": "#999",
         "opacity": 1,
         "source": "Power Plants^Transformation",
         "target": "Devices^Diesel Engine",
         "time": "*",
         "title": "Liquid fuel",
         "type": "Liquid fuel",
         "value": 27829.60356363927
        },
        {
         "bundles": [
          "2"
         ],
         "color": "#999",
         "opacity": 1,
         "source": "Power Plants^Transformation",
         "target": "Devices^Gas Turbine",
         "time": "*",
         "title": "Gas",
         "type": "Gas",
         "value": 226.03958514688117
        },
        {
         "bundles": [
          "2"
         ],
         "color": "#999",
         "opacity": 1,
         "source": "Power Plants^Transformation",
         "target": "Devices^Gas Turbine",
         "time": "*",
         "title": "Liquid fuel",
         "type": "Liquid fuel",
         "value": 11868.033702847286
        },
        {
         "bundles": [
          "2"
         ],
         "color": "#999",
         "opacity": 1,
         "source": "Power Plants^Transformation",
         "target": "Devices^Spark Ignition Engine",
         "time": "*",
         "title": "Gas",
         "type": "Gas",
         "value": 228.0347018550703
        },
        {
         "bundles": [
          "2"
         ],
         "color": "#999",
         "opacity": 1,
         "source": "Power Plants^Transformation",
         "target": "Devices^Spark Ignition Engine",
         "time": "*",
         "title": "Liquid fuel",
         "type": "Liquid fuel",
         "value": 13780.4241471648
        },
        {
         "bundles": [
          "3"
         ],
         "color": "#999",
         "opacity": 1,
         "source": "Power Plants^Transformation",
         "target": "__Power Plants_Useful_2^*",
         "time": "*",
         "title": "Loss",
         "type": "Loss",
         "value": 8823.773371370184
        },
        {
         "bundles": [
          "4"
         ],
         "color": "black",
         "opacity": 1,
         "source": "Devices^Boiler",
         "target": "Useful^Heating",
         "time": "*",
         "title": "Coal",
         "type": "Coal",
         "value": 1692.0611950275118
        },
        {
         "bundles": [
          "4"
         ],
         "color": "#999",
         "opacity": 1,
         "source": "Devices^Boiler",
         "target": "Useful^Heating",
         "time": "*",
         "title": "Gas",
         "type": "Gas",
         "value": 34992.4698378906
        },
        {
         "bundles": [
          "4"
         ],
         "color": "#999",
         "opacity": 1,
         "source": "Devices^Boiler",
         "target": "Useful^Heating",
         "time": "*",
         "title": "Heat",
         "type": "Heat",
         "value": 936.377573284864
        },
        {
         "bundles": [
          "4"
         ],
         "color": "#999",
         "opacity": 1,
         "source": "Devices^Boiler",
         "target": "Useful^Heating",
         "time": "*",
         "title": "Liquid fuel",
         "type": "Liquid fuel",
         "value": 5284.291626036086
        },
        {
         "bundles": [
          "4"
         ],
         "color": "#999",
         "opacity": 1,
         "source": "Devices^Boiler",
         "target": "Useful^Heating",
         "time": "*",
         "title": "Solid biomass & Waste",
         "type": "Solid biomass & Waste",
         "value": 1457.024903908887
        },
        {
         "bundles": [
          "4"
         ],
         "color": "#999",
         "opacity": 1,
         "source": "Devices^Boiler",
         "target": "Useful^Loss",
         "time": "*",
         "title": "Loss",
         "type": "Loss",
         "value": 6467.32347958336
        },
        {
         "bundles": [
          "4"
         ],
         "color": "black",
         "opacity": 1,
         "source": "Devices^Burner",
         "target": "Useful^Heating",
         "time": "*",
         "title": "Coal",
         "type": "Coal",
         "value": 1758.5219604094877
        },
        {
         "bundles": [
          "4"
         ],
         "color": "#999",
         "opacity": 1,
         "source": "Devices^Burner",
         "target": "Useful^Heating",
         "time": "*",
         "title": "Gas",
         "type": "Gas",
         "value": 2986.5601727579638
        },
        {
         "bundles": [
          "4"
         ],
         "color": "#999",
         "opacity": 1,
         "source": "Devices^Burner",
         "target": "Useful^Heating",
         "time": "*",
         "title": "Heat",
         "type": "Heat",
         "value": 250.65878170699347
        },
        {
         "bundles": [
          "4"
         ],
         "color": "#999",
         "opacity": 1,
         "source": "Devices^Burner",
         "target": "Useful^Heating",
         "time": "*",
         "title": "Liquid fuel",
         "type": "Liquid fuel",
         "value": 1067.0030664292601
        },
        {
         "bundles": [
          "4"
         ],
         "color": "#999",
         "opacity": 1,
         "source": "Devices^Burner",
         "target": "Useful^Heating",
         "time": "*",
         "title": "Solid biomass & Waste",
         "type": "Solid biomass & Waste",
         "value": 323.5333892148041
        },
        {
         "bundles": [
          "4"
         ],
         "color": "yellow",
         "opacity": 1,
         "source": "Devices^Cooler",
         "target": "Useful^Cool",
         "time": "*",
         "title": "Electricity",
         "type": "Electricity",
         "value": 8720.971749351173
        },
        {
         "bundles": [
          "4"
         ],
         "color": "#999",
         "opacity": 1,
         "source": "Devices^Cooler",
         "target": "Useful^Cool",
         "time": "*",
         "title": "Gas",
         "type": "Gas",
         "value": 0.7481687655709255
        },
        {
         "bundles": [
          "4"
         ],
         "color": "#999",
         "opacity": 1,
         "source": "Devices^Cooler",
         "target": "Useful^Cool",
         "time": "*",
         "title": "Heat",
         "type": "Heat",
         "value": 0.019093502442770402
        },
        {
         "bundles": [
          "4"
         ],
         "color": "#999",
         "opacity": 1,
         "source": "Devices^Cooler",
         "target": "Useful^Cool",
         "time": "*",
         "title": "Liquid fuel",
         "type": "Liquid fuel",
         "value": 3.0571832381354613
        },
        {
         "bundles": [
          "4"
         ],
         "color": "#999",
         "opacity": 1,
         "source": "Devices^Diesel Engine",
         "target": "Useful^Loss",
         "time": "*",
         "title": "Loss",
         "type": "Loss",
         "value": 19754.351257108527
        },
        {
         "bundles": [
          "4"
         ],
         "color": "#999",
         "opacity": 1,
         "source": "Devices^Diesel Engine",
         "target": "Useful^Motion",
         "time": "*",
         "title": "Liquid fuel",
         "type": "Liquid fuel",
         "value": 8075.252306530737
        },
        {
         "bundles": [
          "4"
         ],
         "color": "yellow",
         "opacity": 1,
         "source": "Devices^Electric Heater",
         "target": "Useful^Heating",
         "time": "*",
         "title": "Electricity",
         "type": "Electricity",
         "value": 9831.216030221975
        },
        {
         "bundles": [
          "4"
         ],
         "color": "#999",
         "opacity": 1,
         "source": "Devices^Electric Motor",
         "target": "Useful^Loss",
         "time": "*",
         "title": "Loss",
         "type": "Loss",
         "value": 835.7536688390624
        },
        {
         "bundles": [
          "4"
         ],
         "color": "yellow",
         "opacity": 1,
         "source": "Devices^Electric Motor",
         "target": "Useful^Motion",
         "time": "*",
         "title": "Electricity",
         "type": "Electricity",
         "value": 5440.450433513658
        },
        {
         "bundles": [
          "4"
         ],
         "color": "yellow",
         "opacity": 1,
         "source": "Devices^Electronics",
         "target": "Useful^Information",
         "time": "*",
         "title": "Electricity",
         "type": "Electricity",
         "value": 3432.7776978905504
        },
        {
         "bundles": [
          "4"
         ],
         "color": "#999",
         "opacity": 1,
         "source": "Devices^Electronics",
         "target": "Useful^Loss",
         "time": "*",
         "title": "Loss",
         "type": "Loss",
         "value": 605.7842996277443
        },
        {
         "bundles": [
          "4"
         ],
         "color": "#999",
         "opacity": 1,
         "source": "Devices^Gas Turbine",
         "target": "Useful^Loss",
         "time": "*",
         "title": "Loss",
         "type": "Loss",
         "value": 7507.124015196207
        },
        {
         "bundles": [
          "4"
         ],
         "color": "#999",
         "opacity": 1,
         "source": "Devices^Gas Turbine",
         "target": "Useful^Motion",
         "time": "*",
         "title": "Gas",
         "type": "Gas",
         "value": 79.11385480140841
        },
        {
         "bundles": [
          "4"
         ],
         "color": "#999",
         "opacity": 1,
         "source": "Devices^Gas Turbine",
         "target": "Useful^Motion",
         "time": "*",
         "title": "Liquid fuel",
         "type": "Liquid fuel",
         "value": 4507.83541799655
        },
        {
         "bundles": [
          "4"
         ],
         "color": "yellow",
         "opacity": 1,
         "source": "Devices^Light Device",
         "target": "Useful^Illumination",
         "time": "*",
         "title": "Electricity",
         "type": "Electricity",
         "value": 283.679148102733
        },
        {
         "bundles": [
          "4"
         ],
         "color": "#999",
         "opacity": 1,
         "source": "Devices^Light Device",
         "target": "Useful^Loss",
         "time": "*",
         "title": "Loss",
         "type": "Loss",
         "value": 3512.6511259310396
        },
        {
         "bundles": [
          "4"
         ],
         "color": "#999",
         "opacity": 1,
         "source": "Devices^Spark Ignition Engine",
         "target": "Useful^Loss",
         "time": "*",
         "title": "Loss",
         "type": "Loss",
         "value": 11068.294844187425
        },
        {
         "bundles": [
          "4"
         ],
         "color": "#999",
         "opacity": 1,
         "source": "Devices^Spark Ignition Engine",
         "target": "Useful^Motion",
         "time": "*",
         "title": "Gas",
         "type": "Gas",
         "value": 45.60694037101406
        },
        {
         "bundles": [
          "4"
         ],
         "color": "#999",
         "opacity": 1,
         "source": "Devices^Spark Ignition Engine",
         "target": "Useful^Motion",
         "time": "*",
         "title": "Liquid fuel",
         "type": "Liquid fuel",
         "value": 2894.5570644614327
        },
        {
         "bundles": [
          "3"
         ],
         "color": "#999",
         "opacity": 1,
         "source": "__Power Plants_Useful_2^*",
         "target": "Useful^Loss",
         "time": "*",
         "title": "Loss",
         "type": "Loss",
         "value": 57463.143731553006
        }
       ],
       "margins": {
        "bottom": 10,
        "left": 130,
        "right": 130,
        "top": 25
       },
       "nodes": [
        {
         "direction": "r",
         "id": "inputs^Gas",
         "style": "process",
         "title": "Gas",
         "visibility": "visible"
        },
        {
         "direction": "r",
         "id": "inputs^Liquid fuel",
         "style": "process",
         "title": "Liquid fuel",
         "visibility": "visible"
        },
        {
         "direction": "r",
         "id": "inputs^Coal",
         "style": "process",
         "title": "Coal",
         "visibility": "visible"
        },
        {
         "direction": "r",
         "id": "inputs^Nuclear",
         "style": "process",
         "title": "Nuclear",
         "visibility": "visible"
        },
        {
         "direction": "r",
         "id": "inputs^Solid biomass & Waste",
         "style": "process",
         "title": "Solid biomass & Waste",
         "visibility": "visible"
        },
        {
         "direction": "r",
         "id": "inputs^Primary Electricity",
         "style": "process",
         "title": "Primary Electricity",
         "visibility": "visible"
        },
        {
         "direction": "r",
         "id": "Power Plants^Power Plant",
         "style": "process",
         "title": "Power Plant",
         "visibility": "visible"
        },
        {
         "direction": "r",
         "id": "Power Plants^Transformation",
         "style": "process",
         "title": "Transformation",
         "visibility": "visible"
        },
        {
         "direction": "r",
         "id": "Devices^Boiler",
         "style": "process",
         "title": "Boiler",
         "visibility": "visible"
        },
        {
         "direction": "r",
         "id": "Devices^Burner",
         "style": "process",
         "title": "Burner",
         "visibility": "visible"
        },
        {
         "direction": "r",
         "id": "Devices^Cooler",
         "style": "process",
         "title": "Cooler",
         "visibility": "visible"
        },
        {
         "direction": "r",
         "id": "Devices^Diesel Engine",
         "style": "process",
         "title": "Diesel Engine",
         "visibility": "visible"
        },
        {
         "direction": "r",
         "id": "Devices^Electric Heater",
         "style": "process",
         "title": "Electric Heater",
         "visibility": "visible"
        },
        {
         "direction": "r",
         "id": "Devices^Electric Motor",
         "style": "process",
         "title": "Electric Motor",
         "visibility": "visible"
        },
        {
         "direction": "r",
         "id": "Devices^Electronics",
         "style": "process",
         "title": "Electronics",
         "visibility": "visible"
        },
        {
         "direction": "r",
         "id": "Devices^Gas Turbine",
         "style": "process",
         "title": "Gas Turbine",
         "visibility": "visible"
        },
        {
         "direction": "r",
         "id": "Devices^Light Device",
         "style": "process",
         "title": "Light Device",
         "visibility": "visible"
        },
        {
         "direction": "r",
         "id": "Devices^Spark Ignition Engine",
         "style": "process",
         "title": "Spark Ignition Engine",
         "visibility": "visible"
        },
        {
         "direction": "r",
         "id": "__Power Plants_Useful_2^*",
         "style": "group",
         "title": "",
         "visibility": "hidden"
        },
        {
         "direction": "r",
         "id": "Useful^Cool",
         "style": "process",
         "title": "Cool",
         "visibility": "visible"
        },
        {
         "direction": "r",
         "id": "Useful^Heating",
         "style": "process",
         "title": "Heating",
         "visibility": "visible"
        },
        {
         "direction": "r",
         "id": "Useful^Illumination",
         "style": "process",
         "title": "Illumination",
         "visibility": "visible"
        },
        {
         "direction": "r",
         "id": "Useful^Information",
         "style": "process",
         "title": "Information",
         "visibility": "visible"
        },
        {
         "direction": "r",
         "id": "Useful^Loss",
         "style": "process",
         "title": "Loss",
         "visibility": "visible"
        },
        {
         "direction": "r",
         "id": "Useful^Motion",
         "style": "process",
         "title": "Motion",
         "visibility": "visible"
        }
       ],
       "order": [
        [
         [
          "inputs^Gas",
          "inputs^Liquid fuel",
          "inputs^Coal",
          "inputs^Nuclear",
          "inputs^Solid biomass & Waste",
          "inputs^Primary Electricity"
         ]
        ],
        [
         [
          "Power Plants^Power Plant",
          "Power Plants^Transformation"
         ]
        ],
        [
         [
          "Devices^Boiler",
          "Devices^Burner",
          "Devices^Cooler",
          "Devices^Diesel Engine",
          "Devices^Electric Heater",
          "Devices^Electric Motor",
          "Devices^Electronics",
          "Devices^Gas Turbine",
          "Devices^Light Device",
          "Devices^Spark Ignition Engine",
          "__Power Plants_Useful_2^*"
         ]
        ],
        [
         [
          "Useful^Cool",
          "Useful^Heating",
          "Useful^Illumination",
          "Useful^Information",
          "Useful^Loss",
          "Useful^Motion"
         ]
        ]
       ],
       "png": "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",
       "scale": 0.0011551175626978412,
       "svg": "<?xml version=\"1.0\" standalone=\"no\"?><!DOCTYPE svg PUBLIC \"-//W3C//DTD SVG 1.1//EN\" \"http://www.w3.org/Graphics/SVG/1.1/DTD/svg11.dtd\"><svg xmlns=\"http://www.w3.org/2000/svg\" width=\"700\" height=\"500\" viewBox=\"0 0 700 500\" style=\"font-family: &quot;Helvetica Neue&quot;,Helvetica,Arial,sans-serif;\"><g class=\"sankey\" transform=\"translate(130,25)\"><g class=\"groups\"><g class=\"group\" style=\"display: none;\" transform=\"translate(0,46.5)\"><rect x=\"-10\" y=\"-20\" width=\"21\" height=\"402.00000000000006\" style=\"fill: rgb(238, 238, 238); stroke: rgb(187, 187, 187); stroke-width: 0.5;\"/><text x=\"-10\" y=\"-25\" style=\"fill: rgb(153, 153, 153);\"/></g><g class=\"group\" style=\"display: none;\" transform=\"translate(146.33333333333334,46.5)\"><rect x=\"-10\" y=\"-20\" width=\"21\" height=\"402\" style=\"fill: rgb(238, 238, 238); stroke: rgb(187, 187, 187); stroke-width: 0.5;\"/><text x=\"-10\" y=\"-25\" style=\"fill: rgb(153, 153, 153);\"/></g><g class=\"group\" style=\"display: none;\" transform=\"translate(292.6666666666667,46.5)\"><rect x=\"-10\" y=\"-20\" width=\"21\" height=\"321.6733134678527\" style=\"fill: rgb(238, 238, 238); stroke: rgb(187, 187, 187); stroke-width: 0.5;\"/><text x=\"-10\" y=\"-25\" style=\"fill: rgb(153, 153, 153);\"/></g><g class=\"group\" style=\"display: none;\" transform=\"translate(292.6666666666667,352.1233134678527)\"><rect x=\"-10\" y=\"-20\" width=\"21\" height=\"96.37668653214723\" style=\"fill: rgb(238, 238, 238); stroke: rgb(187, 187, 187); stroke-width: 0.5;\"/><text x=\"-10\" y=\"-25\" style=\"fill: rgb(153, 153, 153);\"/></g><g class=\"group\" style=\"display: none;\" transform=\"translate(439,46.5)\"><rect x=\"-10\" y=\"-20\" width=\"21\" height=\"401.99999999999994\" style=\"fill: rgb(238, 238, 238); stroke: rgb(187, 187, 187); stroke-width: 0.5;\"/><text x=\"-10\" y=\"-25\" style=\"fill: rgb(153, 153, 153);\"/></g></g><g class=\"links\"><g class=\"link\" style=\"opacity: 0.8;\"><path d=\"M147.33333333333334,50.6501900870541 A79.27746790406283 79.27746790406283 0.7892074232009455 0 1 203.60409935287825,74.08396713124142 L257.894008984528,128.78906908752737 A48.98970546050877 48.98970546050877 0.7892074232009455 0 0 292.6666666666667,143.27002900682285 L292.6666666666667,145.27002900682285 A50.98970546050877 50.98970546050877 0.7892074232009455 0 1 256.4744185887389,130.19788529561953 L202.1845089570891,75.49278333933361 A77.27746790406283 77.27746790406283 0.7892074232009455 0 0 147.33333333333334,52.6501900870541 Z\" style=\"fill: rgb(153, 153, 153);\"/><title>Power Plant → Cooler\nHeat\n12.7m</title></g><g class=\"link\" style=\"opacity: 0.8;\"><path d=\"M293.6666666666667,149.5656283429489 A51.844589845983165 51.844589845983165 0.7182274327567127 0 0 327.78305140736444,136.75863305045877 L406.8814399227971,67.63165210228905 A48.80861751039394 48.80861751039394 0.7182274327567127 0 1 439,55.57462288196823 L439,57.57462288196823 A46.80861751039394 46.80861751039394 0.7182274327567127 0 0 408.19754194393556,69.13759880451829 L329.0991534285029,138.26457975268804 A53.844589845983165 53.844589845983165 0.7182274327567127 0 1 293.6666666666667,151.5656283429489 Z\" style=\"fill: rgb(153, 153, 153);\"/><title>Cooler → Cool\nHeat\n19.1m</title></g><g class=\"link\" style=\"opacity: 0.8;\"><path d=\"M147.33333333333334,345.00690492284275 A36.89722739350851 36.89722739350851 1.146161584762043 0 0 180.95369123473762,323.31089208310453 L249.87091202786203,170.88743799401925 A46.96692090594367 46.96692090594367 1.146161584762043 0 1 292.6666666666667,143.2703244328632 L292.6666666666667,145.2703244328632 A44.96692090594367 44.96692090594367 1.146161584762043 0 0 251.69329057911975,171.71141397420058 L182.77606978599533,324.13486806328586 A38.89722739350851 38.89722739350851 1.146161584762043 0 1 147.33333333333334,347.00690492284275 Z\" style=\"fill: rgb(153, 153, 153);\"/><title>Transformation → Cooler\nGas\n499m</title></g><g class=\"link\" style=\"opacity: 0.8;\"><path d=\"M293.6666666666667,149.56518520388843 A51.84414670692267 51.84414670692267 0.7182274327567127 0 0 327.78275979925786,136.7582993785554 L406.8811483146905,67.63131843038566 A48.80906064945443 48.80906064945443 0.7182274327567127 0 1 439,55.574179742907745 L439,57.574179742907745 A46.80906064945443 46.80906064945443 0.7182274327567127 0 0 408.197250335829,69.1372651326149 L329.09886182039634,138.26424608078466 A53.84414670692267 53.84414670692267 0.7182274327567127 0 1 293.6666666666667,151.56518520388843 Z\" style=\"fill: rgb(153, 153, 153);\"/><title>Cooler → Cool\nGas\n748m</title></g><g class=\"link\" style=\"opacity: 0.8;\"><path d=\"M147.33333333333334,345.0083701324866 A36.89869260315242 36.89869260315242 1.146161584762043 0 0 180.9550263180517,323.31149573188077 L249.8722471111761,170.88804164279554 A46.965455696299756 46.965455696299756 1.146161584762043 0 1 292.6666666666667,143.27178964250712 L292.6666666666667,145.27178964250712 A44.965455696299756 44.965455696299756 1.146161584762043 0 0 251.69462566243382,171.71201762297687 L182.7774048693094,324.1354717120621 A38.89869260315242 38.89869260315242 1.146161584762043 0 1 147.33333333333334,347.0083701324866 Z\" style=\"fill: rgb(153, 153, 153);\"/><title>Transformation → Cooler\nLiquid fuel\n2.04</title></g><g class=\"link\" style=\"opacity: 0.8;\"><path d=\"M293.6666666666667,149.5674050735943 A51.84636657662855 51.84636657662855 0.7182274327567127 0 0 327.78422058676114,136.75997088128685 L406.8826091021938,67.63298993311712 A48.806840779748555 48.806840779748555 0.7182274327567127 0 1 439,55.576399612613606 L439,57.576399612613606 A46.806840779748555 46.806840779748555 0.7182274327567127 0 0 408.19871112333226,69.13893663534635 L329.1003226078996,138.2659175835161 A53.84636657662855 53.84636657662855 0.7182274327567127 0 1 293.6666666666667,151.5674050735943 Z\" style=\"fill: rgb(153, 153, 153);\"/><title>Cooler → Cool\nLiquid fuel\n3.06</title></g><g class=\"link\" style=\"opacity: 0.8;\"><path d=\"M293.6666666666667,333.8034190775605 A54.18938813242094 54.18938813242094 0.6458499937483728 0 1 326.2820374702415,344.7177870076583 L401.91367342069833,401.7195824885696 A61.61773715573462 61.61773715573462 0.6458499937483728 0 0 439,414.13010560970775 L439,416.13010560970775 A63.61773715573462 63.61773715573462 0.6458499937483728 0 1 400.7099185185809,403.3167594154089 L325.07828256812405,346.3149639344976 A52.18938813242094 52.18938813242094 0.6458499937483728 0 0 293.6666666666667,335.8034190775605 Z\" style=\"fill: rgb(153, 153, 153);\"/><title>Spark Ignition Engine → Motion\nGas\n45.6</title></g><g class=\"link\" style=\"opacity: 0.8;\"><path d=\"M293.6666666666667,283.45391608903583 A47.724667785811846 47.724667785811846 0.933036284820165 0 1 332.0101650988457,302.76344630263816 L393.7357785837783,386.05623198316744 A56.338623704186794 56.338623704186794 0.933036284820165 0 0 439,408.8509921581599 L439,410.8509921581599 A58.338623704186794 58.338623704186794 0.933036284820165 0 1 392.1289157092471,387.247026550863 L330.4033022243145,303.9542408703337 A45.724667785811846 45.724667785811846 0.933036284820165 0 0 293.6666666666667,285.45391608903583 Z\" style=\"fill: rgb(153, 153, 153);\"/><title>Gas Turbine → Motion\nGas\n79.1</title></g><g class=\"link\" style=\"opacity: 0.8;\"><path d=\"M147.33333333333334,377.2865622544491 A69.17688472511486 69.17688472511486 0.8548508761055366 0 0 199.52542853344127,353.51261332532323 L251.71221571195383,293.52226871749014 A54.28219200268243 54.28219200268243 0.8548508761055366 0 1 292.6666666666667,274.86716353949913 L292.6666666666667,276.86716353949913 A52.28219200268243 52.28219200268243 0.8548508761055366 0 0 253.22116181172407,294.8349307714813 L201.0343746332115,354.8252753793144 A71.17688472511486 71.17688472511486 0.8548508761055366 0 1 147.33333333333334,379.2865622544491 Z\" style=\"fill: rgb(153, 153, 153);\"/><title>Transformation → Gas Turbine\nGas\n226</title></g><g class=\"link\" style=\"opacity: 0.8;\"><path d=\"M147.33333333333334,391.25779101114057 A83.14811348180638 83.14811348180638 0.6223386721478159 0 0 195.80344222928258,375.6689649678365 L254.9009848806714,333.26969705958214 A64.78518960212512 64.78518960212512 0.6223386721478159 0 1 292.6666666666667,321.12360006952855 L292.6666666666667,323.12360006952855 A62.78518960212512 62.78518960212512 0.6223386721478159 0 0 256.06685881012754,334.89473182247633 L196.96931615873874,377.29399973073066 A85.14811348180638 85.14811348180638 0.6223386721478159 0 1 147.33333333333334,393.25779101114057 Z\" style=\"fill: rgb(153, 153, 153);\"/><title>Transformation → Spark Ignition Engine\nGas\n228</title></g><g class=\"link\" style=\"opacity: 0.8;\"><path d=\"M147.33333333333334,46.72639636071483 A83.2012616304021 83.2012616304021 0.6119633180457069 0 1 195.13042675781983,61.825618395657436 L261.646284833505,108.50945784509112 A53.99773751626589 53.99773751626589 0.6119633180457069 0 0 292.6666666666667,118.30887449053206 L292.6666666666667,120.30887449053206 A55.99773751626589 55.99773751626589 0.6119633180457069 0 1 260.4973336640669,110.14650128075398 L193.98147558838176,63.46266183132031 A81.2012616304021 81.2012616304021 0.6119633180457069 0 0 147.33333333333334,48.72639636071483 Z\" style=\"fill: rgb(153, 153, 153);\"/><title>Power Plant → Burner\nHeat\n251</title></g><g class=\"link\" style=\"opacity: 0.8;\"><path d=\"M293.6666666666667,123.79000219899753 A196.39543717729674 196.39543717729674 0.1396571066597052 0 1 321.0056122561267,125.70215012470315 L411.515432948848,138.42531555836186 A197.4415415538468 197.4415415538468 0.1396571066597052 0 0 439,140.34764857972166 L439,142.34764857972166 A199.4415415538468 199.4415415538468 0.1396571066597052 0 1 411.2370258128942,140.40584313116918 L320.7272051201729,127.68267769751047 A194.39543717729674 194.39543717729674 0.1396571066597052 0 0 293.6666666666667,125.79000219899753 Z\" style=\"fill: rgb(153, 153, 153);\"/><title>Burner → Heating\nHeat\n251</title></g><g class=\"link\" style=\"opacity: 0.8;\"><path d=\"M293.6666666666667,302.8205302347543 A43.31414420484309 43.31414420484309 0.8583781876768195 0 0 326.4460935266147,287.819355901178 L404.7070062689197,197.21254648156352 A45.31414420484309 45.31414420484309 0.8583781876768195 0 1 439,181.5187035239631 L439,183.5187035239631 A43.31414420484309 43.31414420484309 0.8583781876768195 0 0 406.220573140052,198.51987785753934 L327.959660397747,289.1266872771539 A45.31414420484309 45.31414420484309 0.8583781876768195 0 1 293.6666666666667,304.8205302347543 Z\" style=\"fill: rgb(255, 255, 0);\"/><title>Light Device → Illumination\nElectricity\n284</title></g><g class=\"link\" style=\"opacity: 0.8;\"><path d=\"M147.33333333333334,344.8197572985485 A36.71007976921426 36.71007976921426 1.1905264549481436 0 0 181.42101022738527,321.7353973499086 L247.7648901332483,155.76187287496367 A48.35612011474003 48.35612011474003 1.1905264549481436 0 1 292.6666666666667,125.3541459109801 L292.6666666666667,127.3541459109801 A46.35612011474003 46.35612011474003 1.1905264549481436 0 0 249.62201913478418,156.50421502764954 L183.27813922892116,322.4777395025945 A38.71007976921426 38.71007976921426 1.1905264549481436 0 1 147.33333333333334,346.8197572985485 Z\" style=\"fill: rgb(153, 153, 153);\"/><title>Transformation → Burner\nSolid biomass &amp; Waste\n324</title></g><g class=\"link\" style=\"opacity: 0.8;\"><path d=\"M293.6666666666667,125.35414591098011 A194.8312934653142 194.8312934653142 0.1396571066597052 0 1 320.78787787059014,127.25106499941049 L411.29769856331137,139.97423043306918 A199.00568526582936 199.00568526582936 0.1396571066597052 0 0 439,141.91179229170422 L439,143.91179229170422 A201.00568526582936 201.00568526582936 0.1396571066597052 0 1 411.0192914273576,141.9547580058765 L320.50947073463635,129.2315925722178 A192.8312934653142 192.8312934653142 0.1396571066597052 0 0 293.6666666666667,127.35414591098011 Z\" style=\"fill: rgb(153, 153, 153);\"/><title>Burner → Heating\nSolid biomass &amp; Waste\n324</title></g><g class=\"link\" style=\"opacity: 0.8;\"><path d=\"M1,152.37468017082563 A49.921105847401755 49.921105847401755 0.7140440699368913 0 0 33.693097636444186,140.17993348994585 L90.09844980345963,91.29990036841785 A85.8685097456696 85.8685097456696 0.7140440699368913 0 1 146.33333333333334,70.32390822164939 L146.33333333333334,72.32390822164939 A83.8685097456696 83.8685097456696 0.7140440699368913 0 0 91.40824040530967,92.81133960944122 L35.00288823829424,141.69137273096922 A51.921105847401755 51.921105847401755 0.7140440699368913 0 1 1,154.37468017082563 Z\" style=\"fill: rgb(153, 153, 153);\"/><title>Liquid fuel → Power Plant\nLiquid fuel\n359</title></g><g class=\"link\" style=\"opacity: 0.8;\"><path d=\"M293.6666666666667,260.4367363503118 A254.03396383934302 254.03396383934302 0.10609294916929257 0 1 320.5673483367134,261.86506266425147 L412.3111064016228,271.6351123555206 A252.03396383934302 252.03396383934302 0.10609294916929257 0 0 439,273.0521935092278 L439,275.0521935092278 A254.03396383934302 254.03396383934302 0.10609294916929257 0 1 412.0993183299533,273.6238671952881 L320.3555602650439,263.85381750401893 A252.03396383934302 252.03396383934302 0.10609294916929257 0 0 293.6666666666667,262.4367363503118 Z\" style=\"fill: rgb(153, 153, 153);\"/><title>Electronics → Loss\nLoss\n606</title></g><g class=\"link\" style=\"opacity: 0.8;\"><path d=\"M293.6666666666667,235.40454178556635 A92.5812020430084 92.5812020430084 0.30422791818556005 0 1 321.39998028273186,239.6560076826917 L411.8657996597202,268.05999766147596 A90.5812020430084 90.5812020430084 0.30422791818556005 0 0 439,272.2196205968919 L439,274.2196205968919 A92.5812020430084 92.5812020430084 0.30422791818556005 0 1 411.2666863839348,269.96815469976656 L320.8008670069465,241.56416472098223 A90.5812020430084 90.5812020430084 0.30422791818556005 0 0 293.6666666666667,237.40454178556635 Z\" style=\"fill: rgb(153, 153, 153);\"/><title>Electric Motor → Loss\nLoss\n836</title></g><g class=\"link\" style=\"opacity: 0.8;\"><path d=\"M147.33333333333334,46.04081309010886 A0 0 0 0 0 147.33333333333334,46.04081309010886 L292.6666666666667,46.04081309010886 A0 0 0 0 0 292.6666666666667,46.04081309010886 L292.6666666666667,48.04081309010886 A0 0 0 0 0 292.6666666666667,48.04081309010886 L147.33333333333334,48.04081309010886 A0 0 0 0 0 147.33333333333334,48.04081309010886 Z\" style=\"fill: rgb(153, 153, 153);\"/><title>Power Plant → Boiler\nHeat\n936</title></g><g class=\"link\" style=\"opacity: 0.8;\"><path d=\"M293.6666666666667,88.41575916556657 A97.60640689198878 97.60640689198878 0.3450568191813046 0 1 326.6820482278769,94.16904827306111 L395.0076618341194,118.72778136807115 A130.05859257413056 130.05859257413056 0.3450568191813046 0 0 439,126.39392448120556 L439,128.39392448120554 A132.05859257413056 132.05859257413056 0.3450568191813046 0 1 394.3311615384422,120.60989383812937 L326.0055479321997,96.05116074311933 A95.60640689198878 95.60640689198878 0.3450568191813046 0 0 293.6666666666667,90.41575916556657 Z\" style=\"fill: rgb(153, 153, 153);\"/><title>Boiler → Heating\nHeat\n936</title></g><g class=\"link\" style=\"opacity: 0.8;\"><path d=\"M147.33333333333334,344.0166407578055 A35.90696322847123 35.90696322847123 1.1905264549481436 0 0 180.67526471767172,321.43730371905224 L247.01914462353474,155.46377924410726 A49.15923665548306 49.15923665548306 1.1905264549481436 0 1 292.6666666666667,124.55102937023706 L292.6666666666667,126.55102937023706 A47.15923665548306 47.15923665548306 1.1905264549481436 0 0 248.87627362507064,156.20612139679312 L182.53239371920762,322.1796458717381 A37.90696322847123 37.90696322847123 1.1905264549481436 0 1 147.33333333333334,346.0166407578055 Z\" style=\"fill: rgb(153, 153, 153);\"/><title>Transformation → Burner\nLiquid fuel\n1.07k</title></g><g class=\"link\" style=\"opacity: 0.8;\"><path d=\"M293.6666666666667,124.55102937023707 A195.6344100060572 195.6344100060572 0.1396571066597052 0 1 320.8996745585628,126.45576777285089 L411.40949525128406,139.17893320650958 A198.20256872508634 198.20256872508634 0.1396571066597052 0 0 439,141.1086757509612 L439,143.1086757509612 A200.20256872508634 200.20256872508634 0.1396571066597052 0 1 411.1310881153303,141.1594607793169 L320.62126742260904,128.4362953456582 A193.6344100060572 193.6344100060572 0.1396571066597052 0 0 293.6666666666667,126.55102937023707 Z\" style=\"fill: rgb(153, 153, 153);\"/><title>Burner → Heating\nLiquid fuel\n1.07k</title></g><g class=\"link\" style=\"opacity: 0.8;\"><path d=\"M1,413.29571860704874 A52.64632960875827 52.64632960875827 1.271347779342593 0 0 51.303531574628565,376.1797055563766 L121.58004837991864,148.55028352574962 A25.906125430252356 25.906125430252356 1.271347779342593 0 1 146.33333333333334,130.28629253706663 L146.33333333333334,132.28629253706663 A23.906125430252356 23.906125430252356 1.271347779342593 0 0 123.49104699837731,149.14027020377634 L53.21453019308724,376.76969223440335 A54.64632960875827 54.64632960875827 1.271347779342593 0 1 1,415.29571860704874 Z\" style=\"fill: rgb(255, 255, 0);\"/><title>Primary Electricity → Power Plant\nElectricity\n1.24k</title></g><g class=\"link\" style=\"opacity: 0.8;\"><path d=\"M293.6666666666667,95.90206784722348 A90.12009821033185 90.12009821033185 0.3450568191813046 0 1 324.14980320954106,101.21408573528689 L392.47541681578355,125.77281883029694 A137.5449012557875 137.5449012557875 0.3450568191813046 0 0 439,133.88023316286248 L439,135.88023316286248 A139.5449012557875 139.5449012557875 0.3450568191813046 0 1 391.79891652010633,127.65493130035516 L323.47330291386385,103.0961982053451 A88.12009821033185 88.12009821033185 0.3450568191813046 0 0 293.6666666666667,97.90206784722348 Z\" style=\"fill: rgb(153, 153, 153);\"/><title>Boiler → Heating\nSolid biomass &amp; Waste\n1.46k</title></g><g class=\"link\" style=\"opacity: 0.8;\"><path d=\"M293.6666666666667,46.47726480176789 A139.54490125578747 139.54490125578747 0.3450568191813046 0 1 340.86775014656035,54.70256666427521 L409.19336375280284,79.26129975928525 A88.12009821033189 88.12009821033189 0.3450568191813046 0 0 439,84.45543011740688 L439,86.45543011740688 A90.12009821033189 90.12009821033189 0.3450568191813046 0 1 408.5168634571256,81.14341222934347 L340.19124985088314,56.58467913433343 A137.54490125578747 137.54490125578747 0.3450568191813046 0 0 293.6666666666667,48.47726480176789 Z\" style=\"fill: rgb(0, 0, 0);\"/><title>Boiler → Heating\nCoal\n1.69k</title></g><g class=\"link\" style=\"opacity: 0.8;\"><path d=\"M147.33333333333334,338.91925605859757 A30.809578529263327 30.809578529263327 1.1905264549481434 0 0 175.9420142392296,319.5453019537132 L242.2858941450926,153.57177747876824 A54.256621354690964 54.256621354690964 1.1905264549481434 0 1 292.6666666666667,119.45364467102917 L292.6666666666667,121.484944271888 A52.225321753832134 52.225321753832134 1.1905264549481434 0 0 244.1720868448742,154.325737137994 L177.82820693901118,320.29926161293895 A32.840878130122164 32.840878130122164 1.1905264549481434 0 1 147.33333333333334,340.95055565945637 Z\" style=\"fill: rgb(0, 0, 0);\"/><title>Transformation → Burner\nCoal\n1.76k</title></g><g class=\"link\" style=\"opacity: 0.8;\"><path d=\"M293.6666666666667,119.16410431003497 A201.0213350662593 201.0213350662593 0.1396571066597052 0 1 321.64955374736707,121.12129096566242 L412.1593744400883,133.84445639932113 A192.81564366488425 192.81564366488425 0.1396571066597052 0 0 439,135.7217506907591 L439,137.75305029161797 A194.8469432657431 194.8469432657431 0.1396571066597052 0 1 411.8766102880187,135.85597883338784 L321.36678959529746,123.13281339972913 A198.99003546540044 198.99003546540044 0.1396571066597052 0 0 293.6666666666667,121.1954039108938 Z\" style=\"fill: rgb(0, 0, 0);\"/><title>Burner → Heating\nCoal\n1.76k</title></g><g class=\"link\" style=\"opacity: 0.8;\"><path d=\"M147.33333333333334,336.64752491650813 A28.537847387173905 28.537847387173905 1.1300009749124587 0 0 173.1433222394016,320.285604851812 L268.42612359409924,118.30936265103365 A26.802526777704294 26.802526777704294 1.1300009749124587 0 1 292.6666666666667,102.94237316794556 L292.6666666666667,105.21410431003497 A24.530795635614872 24.530795635614872 1.1300009749124587 0 0 270.4807058749355,119.27861702074908 L175.19790452023793,321.2548592215274 A30.809578529263327 30.809578529263327 1.1300009749124587 0 1 147.33333333333334,338.9192560585975 Z\" style=\"fill: rgb(153, 153, 153);\"/><title>Transformation → Boiler\nSolid biomass &amp; Waste\n1.97k</title></g><g class=\"link\" style=\"opacity: 0.8;\"><path d=\"M147.33333333333334,281.28677792878034 A0 0 1.2083656087280237 0 0 147.33333333333334,281.2867779287803 L215.8409015381463,100.6140680270319 A82.16327376543212 82.16327376543212 1.2083656087280237 0 1 292.6666666666667,47.58162618021773 L292.6666666666667,49.86665437589192 A79.87824556975794 79.87824556975794 1.2083656087280237 0 0 217.9774892302834,101.42422041321267 L149.46992102547043,282.09693031496107 A2.2850281956741867 2.2850281956741867 1.2083656087280237 0 1 147.33333333333334,283.5718061244545 Z\" style=\"fill: rgb(0, 0, 0);\"/><title>Transformation → Boiler\nCoal\n1.98k</title></g><g class=\"link\" style=\"opacity: 0.8;\"><path d=\"M1,381.77439262930795 A99.39989127202064 99.39989127202064 0.28241294197966105 0 1 28.70014669415789,385.7120387045407 L119.37040434475087,412.02170104844527 A96.75444102993005 96.75444102993005 0.28241294197966105 0 0 146.33333333333334,415.8545497579094 L146.33333333333334,418.50000000000006 A99.39989127202064 99.39989127202064 0.28241294197966105 0 1 118.63318663917546,414.5623539247673 L27.962928988582473,388.25269158086275 A96.75444102993005 96.75444102993005 0.28241294197966105 0 0 1,384.4198428713986 Z\" style=\"fill: rgb(153, 153, 153);\"/><title>Solid biomass &amp; Waste → Transformation\nSolid biomass &amp; Waste\n2.29k</title></g><g class=\"link\" style=\"opacity: 0.8;\"><path d=\"M1,378.50321520350394 A48.65741034356523 48.65741034356523 1.2234955566626975 0 0 46.752312344261405,346.40688865585116 L119.16451244091672,146.35804902767165 A28.893937791954116 28.893937791954116 1.2234955566626975 0 1 146.33333333333334,127.29848017536489 L146.33333333333334,130.5696576011689 A25.622760366150096 25.622760366150096 1.2234955566626975 0 0 122.24038372675213,147.47143017717218 L49.828183630096795,347.52026980535175 A51.928587769369244 51.928587769369244 1.2234955566626975 0 1 1,381.77439262930795 Z\" style=\"fill: rgb(153, 153, 153);\"/><title>Solid biomass &amp; Waste → Power Plant\nSolid biomass &amp; Waste\n2.83k</title></g><g class=\"link\" style=\"opacity: 0.8;\"><path d=\"M293.6666666666667,334.82975976646225 A53.163047443519204 53.163047443519204 0.6458499937483728 0 1 325.6643061524875,345.53741084135345 L401.2959421029443,402.53920632226476 A62.64407784463636 62.64407784463636 0.6458499937483728 0 0 439,415.1564462986095 L439,418.50000000000006 A65.98763154602686 65.98763154602686 0.6458499937483728 0 1 399.28353252367333,405.20932973501937 L323.6518965732165,348.20753425410805 A49.8194937421287 49.8194937421287 0.6458499937483728 0 0 293.6666666666667,338.1733134678528 Z\" style=\"fill: rgb(153, 153, 153);\"/><title>Spark Ignition Engine → Motion\nLiquid fuel\n2.89k</title></g><g class=\"link\" style=\"opacity: 0.8;\"><path d=\"M147.33333333333334,340.9505556594564 A32.840878130122164 32.840878130122164 1.1905264549481438 0 0 177.8282069390112,320.299261612939 L244.1720868448742,154.32573713799403 A52.22532175383213 52.22532175383213 1.1905264549481438 0 1 292.6666666666667,121.484944271888 L292.6666666666667,124.93477237949463 A48.775493646225506 48.775493646225506 1.1905264549481438 0 0 247.37547475934915,155.6062135498925 L181.03159485348615,321.57973802483747 A36.290706237728784 36.290706237728784 1.1905264549481438 0 1 147.33333333333334,344.4003837670631 Z\" style=\"fill: rgb(153, 153, 153);\"/><title>Transformation → Burner\nGas\n2.99k</title></g><g class=\"link\" style=\"opacity: 0.8;\"><path d=\"M293.6666666666667,121.19540391089382 A198.99003546540044 198.99003546540044 0.1396571066597052 0 1 321.36678959529746,123.13281339972914 L411.8766102880187,135.8559788333878 A194.8469432657431 194.8469432657431 0.1396571066597052 0 0 439,137.75305029161794 L439,141.20287839922455 A198.2967713733497 198.2967713733497 0.1396571066597052 0 1 411.39638190653295,139.27221867766812 L320.8865612138117,126.54905324400943 A195.54020735779383 195.54020735779383 0.1396571066597052 0 0 293.6666666666667,124.64523201850045 Z\" style=\"fill: rgb(153, 153, 153);\"/><title>Burner → Heating\nGas\n2.99k</title></g><g class=\"link\" style=\"opacity: 0.8;\"><path d=\"M1,415.01235354294647 A54.36296454465601 54.36296454465601 1.271347779342593 0 0 52.9437750700778,376.6861014279841 L123.22029187536788,149.0566793973571 A24.189490494354615 24.189490494354615 1.271347779342593 0 1 146.33333333333334,132.0029274729644 L146.33333333333334,135.49057393001797 A20.701844037301022 20.701844037301022 1.271347779342593 0 0 126.55273565591872,150.0855118710215 L56.27621885062866,377.71493390164846 A57.850611001709595 57.850611001709595 1.271347779342593 0 1 1,418.5000000000001 Z\" style=\"fill: rgb(153, 153, 153);\"/><title>Primary Electricity → Power Plant\nPrimary Electricity\n3.02k</title></g><g class=\"link\" style=\"opacity: 0.8;\"><path d=\"M147.33333333333334,47.87116654121193 A82.05649144990501 82.05649144990501 0.7892074232009456 0 1 205.57663692055297,72.12640042421532 L259.86654655220275,126.83150238050123 A46.2106819146666 46.2106819146666 0.7892074232009456 0 0 292.6666666666667,140.4910054609807 L292.6666666666667,144.2700216550762 A49.989698108762106 49.989698108762106 0.7892074232009456 0 1 257.18421900486794,129.4934720129435 L202.89430937321816,74.78837005665758 A78.2774752558095 78.2774752558095 0.7892074232009456 0 0 147.33333333333334,51.65018273530743 Z\" style=\"fill: rgb(255, 255, 0);\"/><title>Power Plant → Cooler\nElectricity\n3.27k</title></g><g class=\"link\" style=\"opacity: 0.8;\"><path d=\"M293.6666666666667,257.1215985007876 A73.07581836265199 73.07581836265199 0.38021452958385504 0 0 320.7865414983867,251.90289191341785 L410.4085384476857,216.08443050464416 A77.04108017032281 77.04108017032281 0.38021452958385504 0 1 439,210.5825449070354 L439,214.54780671470627 A73.07581836265199 73.07581836265199 0.38021452958385504 0 0 411.88012516827996,219.76651330207602 L322.25812821898097,255.5849747108497 A77.04108017032281 77.04108017032281 0.38021452958385504 0 1 293.6666666666667,261.0868603084584 Z\" style=\"fill: rgb(255, 255, 0);\"/><title>Electronics → Information\nElectricity\n3.43k</title></g><g class=\"link\" style=\"opacity: 0.8;\"><path d=\"M293.6666666666667,303.9843716178266 A152.6220415327424 152.6220415327424 0.17512599436933307 0 0 320.2583416792755,301.6499555957893 L411.70137345363344,285.47015785896116 A156.6795665399357 156.6795665399357 0.17512599436933307 0 1 439,283.073680346385 L439,287.13120535357825 A152.6220415327424 152.6220415327424 0.17512599436933307 0 0 412.4083249873912,289.4656213756155 L320.96529321303325,305.6454191124437 A156.6795665399357 156.6795665399357 0.17512599436933307 0 1 293.6666666666667,308.04189662501983 Z\" style=\"fill: rgb(153, 153, 153);\"/><title>Light Device → Loss\nLoss\n3.51k</title></g><g class=\"link\" style=\"opacity: 0.8;\"><path d=\"M147.33333333333334,74.92117521506805 A55.00648277604887 55.00648277604887 1.2701230184747367 0 1 199.87207657534748,113.63675237044998 L248.7600114676723,271.3020607791919 A45.96894641792756 45.96894641792756 1.2701230184747367 0 0 292.6666666666667,303.65668885168196 L292.6666666666667,308.0418966250199 A50.354154191265486 50.354154191265486 1.2701230184747367 0 1 244.57153597098767,272.60079871619683 L195.68360107866283,114.93549030745493 A50.621275002710945 50.621275002710945 1.2701230184747367 0 0 147.33333333333334,79.30638298840597 Z\" style=\"fill: rgb(255, 255, 0);\"/><title>Power Plant → Light Device\nElectricity\n3.80k</title></g><g class=\"link\" style=\"opacity: 0.8;\"><path d=\"M147.33333333333334,70.25616132369059 A59.671496667426325 59.671496667426325 1.181135946392322 0 1 202.5317427832688,107.25999139907563 L253.2118372962755,230.6719269210394 A42.65211158710161 42.65211158710161 1.181135946392322 0 0 292.6666666666667,257.1215985007876 L292.6666666666667,261.7866123921651 A47.31712547847906 47.31712547847906 1.181135946392322 0 1 248.89652158865968,232.4440456953739 L198.216427075653,109.03211017341013 A55.00648277604887 55.00648277604887 1.181135946392322 0 0 147.33333333333334,74.92117521506806 Z\" style=\"fill: rgb(255, 255, 0);\"/><title>Power Plant → Electronics\nElectricity\n4.04k</title></g><g class=\"link\" style=\"opacity: 0.8;\"><path d=\"M1,294.36579722509276 A47.04334414846179 47.04334414846179 0.9437574399419951 0 1 39.09421764198647,313.8064818836507 L88.00436332518166,381.30699701475226 A72.03166201514087 72.03166201514087 0.9437574399419951 0 0 146.33333333333334,411.07411608368784 L146.33333333333334,415.85454975790947 A76.81209568936247 76.81209568936247 0.9437574399419951 0 1 84.13331877881234,384.1119141674782 L35.22317309561715,316.6113990363766 A42.26291047424021 42.26291047424021 0.9437574399419951 0 0 1,299.1462308993144 Z\" style=\"fill: rgb(0, 0, 0);\"/><title>Coal → Transformation\nCoal\n4.14k</title></g><g class=\"link\" style=\"opacity: 0.8;\"><path d=\"M293.6666666666667,284.4996089906028 A46.67897488424493 46.67897488424493 0.933036284820165 0 1 331.1700225480014,303.38604901597 L392.89563603293396,386.6788346964993 A57.38431660575371 57.38431660575371 0.933036284820165 0 0 439,409.89668505972685 L439,415.103764920806 A62.59139646683289 62.59139646683289 0.933036284820165 0 1 388.7121043761902,389.7791159025643 L326.98649089125763,306.486330222035 A41.47189502316575 41.47189502316575 0.933036284820165 0 0 293.6666666666667,289.7066888516819 Z\" style=\"fill: rgb(153, 153, 153);\"/><title>Gas Turbine → Motion\nLiquid fuel\n4.51k</title></g><g class=\"link\" style=\"opacity: 0.8;\"><path d=\"M293.6666666666667,89.95657225567543 A96.06559380187991 96.06559380187991 0.34505681918130415 0 1 326.1608679723559,95.6190400385225 L394.4864815785985,120.17777313353255 A131.5994056642394 131.5994056642394 0.34505681918130415 0 0 439,127.9347375713144 L439,134.03871563496583 A137.70338372789084 137.70338372789084 0.34505681918130415 0 1 392.4218100961648,125.92195974881264 L324.0961964899222,101.36322665380258 A89.96161573822849 89.96161573822849 0.34505681918130415 0 0 293.6666666666667,96.06055031932685 Z\" style=\"fill: rgb(153, 153, 153);\"/><title>Boiler → Heating\nLiquid fuel\n5.28k</title></g><g class=\"link\" style=\"opacity: 0.8;\"><path d=\"M293.6666666666667,236.88723865604894 A47.1505957922754 47.1505957922754 1.0976139255315378 0 1 335.63647334066883,262.55030291691236 L393.5961227881214,375.7580615022315 A51.00857095788116 51.00857095788116 1.0976139255315378 0 0 439,403.5209394118543 L439,409.80529925659295 A57.29293080261988 57.29293080261988 1.0976139255315378 0 1 388.0022726294611,378.62197823646466 L330.0426231820085,265.4142196511455 A40.86623594753669 40.86623594753669 1.0976139255315378 0 0 293.6666666666667,243.17159850078767 Z\" style=\"fill: rgb(255, 255, 0);\"/><title>Electric Motor → Motion\nElectricity\n5.44k</title></g><g class=\"link\" style=\"opacity: 0.8;\"><path d=\"M147.33333333333334,329.66269115756256 A21.553013628228328 21.553013628228328 1.1300009749124587 0 0 166.82615054164629,317.3054631804842 L262.10895189634385,115.32922097970582 A33.78736053664987 33.78736053664987 1.1300009749124587 0 1 292.6666666666667,95.95753940899998 L292.6666666666667,102.94237316794555 A26.802526777704294 26.802526777704294 1.1300009749124587 0 0 268.42612359409924,118.30936265103365 L173.1433222394016,320.285604851812 A28.537847387173905 28.537847387173905 1.1300009749124587 0 1 147.33333333333334,336.64752491650813 Z\" style=\"fill: rgb(153, 153, 153);\"/><title>Transformation → Boiler\nLiquid fuel\n6.05k</title></g><g class=\"link\" style=\"opacity: 0.8;\"><path d=\"M147.33333333333334,63.00640773798672 A66.9212502531302 66.9212502531302 1.163521702689386 0 1 208.7806779896882,103.41959185785824 L255.35538729606674,211.3826624429234 A40.635075087270536 40.635075087270536 1.163521702689386 0 0 292.6666666666667,235.92184491508377 L292.6666666666667,243.1715985007876 A47.88482867297441 47.88482867297441 1.163521702689386 0 1 248.69863618084753,214.25435038618144 L202.123926874469,106.29127980111626 A59.671496667426325 59.671496667426325 1.163521702689386 0 0 147.33333333333334,70.25616132369059 Z\" style=\"fill: rgb(255, 255, 0);\"/><title>Power Plant → Electric Motor\nElectricity\n6.28k</title></g><g class=\"link\" style=\"opacity: 0.8;\"><path d=\"M293.6666666666667,97.74358537512012 A47.33566973389299 47.33566973389299 0.9686430813302265 0 1 332.676838867237,118.26746490324646 L406.14641609145053,225.16300738750917 A39.86515079897814 39.86515079897814 0.9686430813302265 0 0 439,242.44780671470625 L439,249.91832564962112 A47.33566973389299 47.33566973389299 0.9686430813302265 0 1 399.9898277994297,229.39444612149478 L326.52025057521615,122.49890363723205 A39.86515079897814 39.86515079897814 0.9686430813302265 0 0 293.6666666666667,105.21410431003497 Z\" style=\"fill: rgb(153, 153, 153);\"/><title>Boiler → Loss\nLoss\n6.47k</title></g><g class=\"link\" style=\"opacity: 0.8;\"><path d=\"M293.6666666666667,275.73661239216506 A995.6641946023481 995.6641946023481 0.009849917477333436 0 0 303.4737182353875,275.6883126773338 L429.1075351617105,274.45078992614185 A1004.3358053976519 1004.3358053976519 0.009849917477333436 0 1 439,274.4020695510811 L439,283.073680346385 A995.6641946023481 995.6641946023481 0.009849917477333436 0 0 429.19294843127915,283.1219800612163 L303.55913150495616,284.3595028124082 A1004.3358053976519 1004.3358053976519 0.009849917477333436 0 1 293.6666666666667,284.40822318746893 Z\" style=\"fill: rgb(153, 153, 153);\"/><title>Gas Turbine → Loss\nLoss\n7.51k</title></g><g class=\"link\" style=\"opacity: 0.8;\"><path d=\"M293.6666666666667,187.3377688534079 A51.00857095788116 51.00857095788116 1.1912332385918083 0 1 341.04478452999604,219.44691498158406 L400.28585203838537,367.95568199709993 A41.680705195391255 41.680705195391255 1.1912332385918083 0 0 439,394.19307364936435 L439,403.5209394118542 A51.00857095788116 51.00857095788116 1.1912332385918083 0 1 391.62188213667065,371.41179328367815 L332.3808146282813,222.90302626816222 A41.680705195391255 41.680705195391255 1.1912332385918083 0 0 293.6666666666667,196.66563461589783 Z\" style=\"fill: rgb(153, 153, 153);\"/><title>Diesel Engine → Motion\nLiquid fuel\n8.08k</title></g><g class=\"link\" style=\"opacity: 0.8;\"><path d=\"M293.6666666666667,140.4910054609807 A42.76996696401493 42.76996696401493 0.7182274327567127 0 0 321.81148664935034,129.92568384892172 L400.909875164783,60.798702900752005 A57.883240392362175 57.883240392362175 0.7182274327567127 0 1 439,46.5 L439,56.573747631467256 A47.80949276089492 47.80949276089492 0.7182274327567127 0 0 407.53891497388963,68.3839664131009 L328.440526458457,137.5109473612706 A52.84371459548218 52.84371459548218 0.7182274327567127 0 1 293.6666666666667,150.56475309244794 Z\" style=\"fill: rgb(255, 255, 0);\"/><title>Cooler → Cool\nElectricity\n8.72k</title></g><g class=\"link\" style=\"opacity: 0.8;\"><path d=\"M147.33333333333334,408.30750440946474 A0 0 0 0 0 147.33333333333334,408.30750440946474 L292.6666666666667,408.30750440946474 A0 0 0 0 0 292.6666666666667,408.30750440946474 L292.6666666666667,418.5 A0 0 0 0 0 292.6666666666667,418.5 L147.33333333333334,418.5 A0 0 0 0 0 147.33333333333334,418.5 Z\" style=\"fill: rgb(153, 153, 153);\"/><title>Transformation → \nLoss\n8.82k</title></g><g class=\"link\" style=\"opacity: 0.8;\"><path d=\"M147.33333333333334,51.65019743880076 A78.27746055231616 78.27746055231616 1.1614517328401197 0 1 219.14365700464617,98.77259026946531 L257.7169415180139,187.68140185409104 A38.09724830318318 38.09724830318318 1.1614517328401197 0 0 292.6666666666667,210.61563461589782 L292.6666666666667,221.97184491508375 A49.453458602369125 49.453458602369125 1.1614517328401197 0 1 247.29896000060114,192.20126617309248 L208.7256754872334,103.29245458846675 A66.9212502531302 66.9212502531302 1.1614517328401197 0 0 147.33333333333334,63.00640773798672 Z\" style=\"fill: rgb(255, 255, 0);\"/><title>Power Plant → Electric Heater\nElectricity\n9.83k</title></g><g class=\"link\" style=\"opacity: 0.8;\"><path d=\"M293.6666666666667,210.61563461589782 A51.374919923953925 51.374919923953925 0.534309453566161 0 0 319.82918344819694,203.4550236071449 L407.05436875392513,151.84208584281333 A62.73113022313987 62.73113022313987 0.534309453566161 0 1 439,143.09865184170482 L439,154.45486214089075 A51.374919923953925 51.374919923953925 0.534309453566161 0 0 412.83748321846974,161.61547314964366 L325.61229791274155,213.22841091397524 A62.73113022313987 62.73113022313987 0.534309453566161 0 1 293.6666666666667,221.97184491508375 Z\" style=\"fill: rgb(255, 255, 0);\"/><title>Electric Heater → Heating\nElectricity\n9.83k</title></g><g class=\"link\" style=\"opacity: 0.8;\"><path d=\"M293.6666666666667,321.9918966250199 A89.72015714047552 89.72015714047552 0.2941334235246602 0 0 319.6774911506612,318.1387506528298 L405.8077658252663,292.04817841981327 A114.49127527015008 114.49127527015008 0.2941334235246602 0 1 439,287.1312053535783 L439,299.9163871172172 A101.70609350651122 101.70609350651122 0.2941334235246602 0 0 409.51432552655274,304.2842843326469 L323.3840508519476,330.37485656566344 A102.50533890411438 102.50533890411438 0.2941334235246602 0 1 293.6666666666667,334.77707838865877 Z\" style=\"fill: rgb(153, 153, 153);\"/><title>Spark Ignition Engine → Loss\nLoss\n11.1k</title></g><g class=\"link\" style=\"opacity: 0.8;\"><path d=\"M147.33333333333334,378.4171134017831 A70.3074358724489 70.3074358724489 0.8548508761055366 0 0 200.3783989056215,354.254629120924 L252.56518608413407,294.26428451309084 A53.15164085534838 53.15164085534838 0.8548508761055366 0 1 292.6666666666667,275.99771468683315 L292.6666666666667,289.7066888516819 A39.442666690499586 39.442666690499586 0.8548508761055366 0 0 262.9082376330837,303.26190960576184 L210.72145045457114,363.252254213595 A84.0164100372977 84.0164100372977 0.8548508761055366 0 1 147.33333333333334,392.1260875666319 Z\" style=\"fill: rgb(153, 153, 153);\"/><title>Transformation → Gas Turbine\nLiquid fuel\n11.9k</title></g><g class=\"link\" style=\"opacity: 0.8;\"><path d=\"M147.33333333333334,392.38949445564924 A84.27981692631505 84.27981692631505 0.6223386721478159 0 0 196.46315400019677,376.58849368714334 L255.5606966515856,334.18922577888895 A63.65348615761644 63.65348615761644 0.6223386721478159 0 1 292.6666666666667,322.2553035140372 L292.6666666666667,338.1733134678527 A47.73547620380096 47.73547620380096 0.6223386721478159 0 0 264.839893058574,347.1228855444117 L205.74235040718514,389.5221534526661 A100.19782688013052 100.19782688013052 0.6223386721478159 0 1 147.33333333333334,408.30750440946474 Z\" style=\"fill: rgb(153, 153, 153);\"/><title>Transformation → Spark Ignition Engine\nLiquid fuel\n13.8k</title></g><g class=\"link\" style=\"opacity: 0.8;\"><path d=\"M1,328.30547169906686 A37.05612021484816 37.05612021484816 1.202640530007792 0 0 35.57308787606242,304.585679318047 L99.74673324817866,138.22196147739558 A49.932440496638705 49.932440496638705 1.202640530007792 0 1 146.33333333333334,106.2599774706803 L146.33333333333334,127.29848017536489 A28.893937791954116 28.893937791954116 1.202640530007792 0 0 119.37550168299137,145.79362217948207 L55.201856310875144,312.15734002013346 A58.094622919532746 58.094622919532746 1.202640530007792 0 1 1,349.3439744037514 Z\" style=\"fill: rgb(153, 153, 153);\"/><title>Nuclear → Power Plant\nNuclear\n18.2k</title></g><g class=\"link\" style=\"opacity: 0.8;\"><path d=\"M293.6666666666667,164.51917077661966 A73.8271690346694 73.8271690346694 0.7020792964116063 0 1 341.34474168771015,181.9792212938289 L408.43031078864675,238.7234878192339 A47.33566973389299 47.33566973389299 0.7020792964116063 0 0 439,249.91832564962107 L439,272.7369237264093 A70.15426781068123 70.15426781068123 0.7020792964116063 0 1 393.69390893001327,256.14551061943905 L326.60833982907667,199.4012440940341 A51.00857095788116 51.00857095788116 0.7020792964116063 0 0 293.6666666666667,187.3377688534079 Z\" style=\"fill: rgb(153, 153, 153);\"/><title>Diesel Engine → Loss\nLoss\n19.8k</title></g><g class=\"link\" style=\"opacity: 0.8;\"><path d=\"M1,46.5 A0 0 0 0 0 1,46.5 L146.33333333333334,46.5 A0 0 0 0 0 146.33333333333334,46.5 L146.33333333333334,71.11639135151073 A0 0 0 0 0 146.33333333333334,71.11639135151073 L1,71.11639135151073 A0 0 0 0 0 1,71.11639135151073 Z\" style=\"fill: rgb(153, 153, 153);\"/><title>Gas → Power Plant\nGas\n21.3k</title></g><g class=\"link\" style=\"opacity: 0.8;\"><path d=\"M147.33333333333334,346.00954726783687 A37.89986973850267 37.89986973850267 1.1487881547734462 0 0 181.90818104597267,323.63320908124814 L237.24296912116034,200.38858111030828 A60.75372868910637 60.75372868910637 1.1487881547734462 0 1 292.6666666666667,164.51917077661966 L292.6666666666667,196.66563461589783 A28.607264849828216 28.607264849828216 1.1487881547734462 0 0 266.5691673221471,213.55555633039808 L211.23437924695943,336.800184301338 A70.04633357778081 70.04633357778081 1.1487881547734462 0 1 147.33333333333334,378.156011107115 Z\" style=\"fill: rgb(153, 153, 153);\"/><title>Transformation → Diesel Engine\nLiquid fuel\n27.8k</title></g><g class=\"link\" style=\"opacity: 0.8;\"><path d=\"M1,259.63724484620053 A27.694598605360824 27.694598605360824 1.235843535313341 0 0 27.155494254601926,241.04654168232733 L66.377304928711,128.3622681935588 A84.66099287553094 84.66099287553094 1.235843535313341 0 1 146.33333333333334,71.53142509178807 L146.33333333333334,106.2599774706803 A49.932440496638705 49.932440496638705 1.235843535313341 0 0 99.17584680903747,139.77839717224208 L59.954036134928394,252.4626706610106 A62.423150984253056 62.423150984253056 1.235843535313341 0 1 1,294.36579722509276 Z\" style=\"fill: rgb(0, 0, 0);\"/><title>Coal → Power Plant\nCoal\n30.1k</title></g><g class=\"link\" style=\"opacity: 0.8;\"><path d=\"M293.6666666666667,48.454529603535775 A137.56763645401958 137.56763645401958 0.3450568191813046 0 1 340.1989400350463,56.563284034282475 L408.5245536412888,81.12201712929252 A90.09736301209978 90.09736301209978 0.3450568191813046 0 0 439,86.43269491917476 L439,126.85311139109669 A130.5177794840217 130.5177794840217 0.3450568191813046 0 1 394.8523417939632,119.15990207266793 L326.5267281877207,94.60116897765789 A97.14721998209765 97.14721998209765 0.3450568191813046 0 0 293.6666666666667,88.8749460754577 Z\" style=\"fill: rgb(153, 153, 153);\"/><title>Boiler → Heating\nGas\n35.0k</title></g><g class=\"link\" style=\"opacity: 0.8;\"><path d=\"M147.33333333333334,283.5718061244545 A0 0 1.200827901951551 0 0 147.33333333333334,283.57180612445455 L218.19308198515856,100.8620451700431 A79.87824556975794 79.87824556975794 1.200827901951551 0 1 292.6666666666667,49.86665437589191 L292.6666666666667,95.95753940899998 A33.78736053664987 33.78736053664987 1.200827901951551 0 0 261.16540073195887,117.5278636215497 L190.30565208013368,300.2376245759611 A46.09088503310806 46.09088503310806 1.200827901951551 0 1 147.33333333333334,329.66269115756256 Z\" style=\"fill: rgb(153, 153, 153);\"/><title>Transformation → Boiler\nGas\n39.9k</title></g><g class=\"link\" style=\"opacity: 0.8;\"><path d=\"M1,71.11639135151073 A73.04607656653528 73.04607656653528 1.1305928401923366 0 1 67.0822267763095,113.03581364797486 L146.33333333333334,281.2867779287803 A0 0 1.1305928401923366 0 0 146.33333333333334,281.28677792878034 L146.33333333333334,334.17830907820405 A52.89153114942375 52.89153114942375 1.1305928401923366 0 1 98.48421781268243,303.8251055335931 L19.233111255658585,135.57414125278765 A20.154545417111525 20.154545417111525 1.1305928401923366 0 0 1,124.00792250093447 Z\" style=\"fill: rgb(153, 153, 153);\"/><title>Gas → Transformation\nGas\n45.8k</title></g><g class=\"link\" style=\"opacity: 0.8;\"><path d=\"M147.33333333333334,79.30638298840597 A56.184190941612 56.184190941612 1.264541433165512 0 1 200.90323822915585,118.5516069834758 L269.3604389625056,335.0492094815074 A24.443604109541475 24.443604109541475 1.264541433165512 0 0 292.6666666666667,352.1233134678527 L292.6666666666667,408.3075044094647 A80.62779505115347 80.62779505115347 1.264541433165512 0 1 215.7905340666831,351.9881764280495 L147.33333333333334,135.49057393001797 A0 0 1.264541433165512 0 0 147.33333333333334,135.49057393001797 Z\" style=\"fill: rgb(153, 153, 153);\"/><title>Power Plant → \nLoss\n48.6k</title></g><g class=\"link\" style=\"opacity: 0.8;\"><path d=\"M293.6666666666667,352.1233134678527 A35.329406974363984 35.329406974363984 0.4232514199088122 0 0 308.1774125279876,349.00578709224294 L397.226548311676,308.891104108557 A101.70609350651122 101.70609350651122 0.4232514199088122 0 1 439,299.91638711721714 L439,366.2930736493644 A35.329406974363984 35.329406974363984 0.4232514199088122 0 0 424.4892541386791,369.4106000249742 L335.44011835499066,409.52528300866004 A101.70609350651122 101.70609350651122 0.4232514199088122 0 1 293.6666666666667,418.49999999999994 Z\" style=\"fill: rgb(153, 153, 153);\"/><title> → Loss\nLoss\n57.5k</title></g><g class=\"link\" style=\"opacity: 0.8;\"><path d=\"M1,153.58219704096427 A83.08070278166346 83.08070278166346 1.0856044360088508 0 1 74.49198266200521,197.91587852933827 L146.33333333333334,334.17830907820417 A0 0 1.0856044360088508 0 0 146.33333333333334,334.1783090782041 L146.33333333333334,411.0741160836879 A76.89580700548375 76.89580700548375 1.0856044360088508 0 1 78.31241961911789,370.04083035749875 L6.47106894778976,233.77839980863286 A6.184895776179715 6.184895776179715 1.0856044360088508 0 0 1,230.478004046448 Z\" style=\"fill: rgb(153, 153, 153);\"/><title>Liquid fuel → Transformation\nLiquid fuel\n66.6k</title></g></g><g class=\"nodes\"><g class=\"node\" transform=\"translate(0,46.5)\"><title>Gas</title><text dy=\".35em\" text-anchor=\"end\" transform=\"translate(-4,38.753961250467235)\" style=\"display: inline;\">Gas</text><line x1=\"0\" x2=\"0\" y1=\"0\" y2=\"77.50792250093447\" style=\"display: inline; stroke: rgb(136, 136, 136); stroke-width: 4px;\"/><rect x=\"-5\" y=\"-5\" width=\"10\" style=\"fill: none; visibility: hidden; pointer-events: all;\" height=\"82.50792250093447\"/></g><g class=\"node\" transform=\"translate(0,153.16716330068695)\"><title>Liquid fuel</title><text dy=\".35em\" text-anchor=\"end\" transform=\"translate(-4,38.65542037288054)\" style=\"display: inline;\">Liquid fuel</text><line x1=\"0\" x2=\"0\" y1=\"0\" y2=\"77.31084074576108\" style=\"display: inline; stroke: rgb(136, 136, 136); stroke-width: 4px;\"/><rect x=\"-5\" y=\"-5\" width=\"10\" style=\"fill: none; visibility: hidden; pointer-events: all;\" height=\"82.31084074576108\"/></g><g class=\"node\" transform=\"translate(0,259.63724484620053)\"><title>Coal</title><text dy=\".35em\" text-anchor=\"end\" transform=\"translate(-4,19.7544930265569)\" style=\"display: inline;\">Coal</text><line x1=\"0\" x2=\"0\" y1=\"0\" y2=\"39.5089860531138\" style=\"display: inline; stroke: rgb(136, 136, 136); stroke-width: 4px;\"/><rect x=\"-5\" y=\"-5\" width=\"10\" style=\"fill: none; visibility: hidden; pointer-events: all;\" height=\"44.5089860531138\"/></g><g class=\"node\" transform=\"translate(0,328.30547169906686)\"><title>Nuclear</title><text dy=\".35em\" text-anchor=\"end\" transform=\"translate(-4,10.51925135234228)\" style=\"display: inline;\">Nuclear</text><line x1=\"0\" x2=\"0\" y1=\"0\" y2=\"21.03850270468456\" style=\"display: inline; stroke: rgb(136, 136, 136); stroke-width: 4px;\"/><rect x=\"-5\" y=\"-5\" width=\"10\" style=\"fill: none; visibility: hidden; pointer-events: all;\" height=\"26.03850270468456\"/></g><g class=\"node\" transform=\"translate(0,378.50321520350394)\"><title>Solid biomass &amp; Waste</title><text dy=\".35em\" text-anchor=\"end\" transform=\"translate(-4,2.958313833947301)\" style=\"display: inline;\">Solid biomass &amp; Waste</text><line x1=\"0\" x2=\"0\" y1=\"0\" y2=\"5.916627667894602\" style=\"display: inline; stroke: rgb(136, 136, 136); stroke-width: 4px;\"/><rect x=\"-5\" y=\"-5\" width=\"10\" style=\"fill: none; visibility: hidden; pointer-events: all;\" height=\"10.916627667894602\"/></g><g class=\"node\" transform=\"translate(0,413.579083671151)\"><title>Primary Electricity</title><text dy=\".35em\" text-anchor=\"end\" transform=\"translate(-4,2.460458164424523)\" style=\"display: inline;\">Primary Electricity</text><line x1=\"0\" x2=\"0\" y1=\"0\" y2=\"4.920916328849046\" style=\"display: inline; stroke: rgb(136, 136, 136); stroke-width: 4px;\"/><rect x=\"-5\" y=\"-5\" width=\"10\" style=\"fill: none; visibility: hidden; pointer-events: all;\" height=\"9.920916328849046\"/></g><g class=\"node\" transform=\"translate(146.33333333333334,46.5)\"><title>Power Plant</title><text dy=\".35em\" text-anchor=\"start\" transform=\"translate(-4,-10)\" style=\"display: inline;\">Power Plant</text><line x1=\"0\" x2=\"0\" y1=\"-5\" y2=\"88.99057393001797\" style=\"display: inline; stroke: rgb(136, 136, 136); stroke-width: 4px;\"/><rect x=\"-5\" y=\"-5\" width=\"10\" style=\"fill: none; visibility: hidden; pointer-events: all;\" height=\"93.99057393001797\"/></g><g class=\"node\" transform=\"translate(146.33333333333334,281.28677792878034)\"><title>Transformation</title><text dy=\".35em\" text-anchor=\"start\" transform=\"translate(-4,-10)\" style=\"display: inline;\">Transformation</text><line x1=\"0\" x2=\"0\" y1=\"-5\" y2=\"137.21322207121966\" style=\"display: inline; stroke: rgb(136, 136, 136); stroke-width: 4px;\"/><rect x=\"-5\" y=\"-5\" width=\"10\" style=\"fill: none; visibility: hidden; pointer-events: all;\" height=\"142.21322207121966\"/></g><g class=\"node\" transform=\"translate(292.6666666666667,46.5)\"><title>Boiler</title><text dy=\".35em\" text-anchor=\"start\" transform=\"translate(-4,-10)\" style=\"display: inline;\">Boiler</text><line x1=\"0\" x2=\"0\" y1=\"-5\" y2=\"58.71410431003498\" style=\"display: inline; stroke: rgb(136, 136, 136); stroke-width: 4px;\"/><rect x=\"-5\" y=\"-5\" width=\"10\" style=\"fill: none; visibility: hidden; pointer-events: all;\" height=\"63.71410431003498\"/></g><g class=\"node\" transform=\"translate(292.6666666666667,119.16410431003497)\"><title>Burner</title><text dy=\".35em\" text-anchor=\"start\" transform=\"translate(4,3.6884505754728565)\" style=\"display: inline;\">Burner</text><line x1=\"0\" x2=\"0\" y1=\"0\" y2=\"7.376901150945713\" style=\"display: inline; stroke: rgb(136, 136, 136); stroke-width: 4px;\"/><rect x=\"-5\" y=\"-5\" width=\"10\" style=\"fill: none; visibility: hidden; pointer-events: all;\" height=\"12.376901150945713\"/></g><g class=\"node\" transform=\"translate(292.6666666666667,140.4910054609807)\"><title>Cooler</title><text dy=\".35em\" text-anchor=\"start\" transform=\"translate(4,5.039082657819492)\" style=\"display: inline;\">Cooler</text><line x1=\"0\" x2=\"0\" y1=\"0\" y2=\"10.078165315638984\" style=\"display: inline; stroke: rgb(136, 136, 136); stroke-width: 4px;\"/><rect x=\"-5\" y=\"-5\" width=\"10\" style=\"fill: none; visibility: hidden; pointer-events: all;\" height=\"15.078165315638984\"/></g><g class=\"node\" transform=\"translate(292.6666666666667,164.51917077661966)\"><title>Diesel Engine</title><text dy=\".35em\" text-anchor=\"start\" transform=\"translate(4,16.07323191963907)\" style=\"display: inline;\">Diesel Engine</text><line x1=\"0\" x2=\"0\" y1=\"0\" y2=\"32.14646383927814\" style=\"display: inline; stroke: rgb(136, 136, 136); stroke-width: 4px;\"/><rect x=\"-5\" y=\"-5\" width=\"10\" style=\"fill: none; visibility: hidden; pointer-events: all;\" height=\"37.14646383927814\"/></g><g class=\"node\" transform=\"translate(292.6666666666667,210.61563461589782)\"><title>Electric Heater</title><text dy=\".35em\" text-anchor=\"start\" transform=\"translate(4,5.67810514959298)\" style=\"display: inline;\">Electric Heater</text><line x1=\"0\" x2=\"0\" y1=\"0\" y2=\"11.35621029918596\" style=\"display: inline; stroke: rgb(136, 136, 136); stroke-width: 4px;\"/><rect x=\"-5\" y=\"-5\" width=\"10\" style=\"fill: none; visibility: hidden; pointer-events: all;\" height=\"16.35621029918596\"/></g><g class=\"node\" transform=\"translate(292.6666666666667,235.92184491508377)\"><title>Electric Motor</title><text dy=\".35em\" text-anchor=\"start\" transform=\"translate(4,3.6248767928519356)\" style=\"display: inline;\">Electric Motor</text><line x1=\"0\" x2=\"0\" y1=\"0\" y2=\"7.249753585703871\" style=\"display: inline; stroke: rgb(136, 136, 136); stroke-width: 4px;\"/><rect x=\"-5\" y=\"-5\" width=\"10\" style=\"fill: none; visibility: hidden; pointer-events: all;\" height=\"12.249753585703871\"/></g><g class=\"node\" transform=\"translate(292.6666666666667,257.1215985007876)\"><title>Electronics</title><text dy=\".35em\" text-anchor=\"start\" transform=\"translate(4,2.3325069456887206)\" style=\"display: inline;\">Electronics</text><line x1=\"0\" x2=\"0\" y1=\"0\" y2=\"4.665013891377441\" style=\"display: inline; stroke: rgb(136, 136, 136); stroke-width: 4px;\"/><rect x=\"-5\" y=\"-5\" width=\"10\" style=\"fill: none; visibility: hidden; pointer-events: all;\" height=\"9.665013891377441\"/></g><g class=\"node\" transform=\"translate(292.6666666666667,275.73661239216506)\"><title>Gas Turbine</title><text dy=\".35em\" text-anchor=\"start\" transform=\"translate(4,6.985038229758459)\" style=\"display: inline;\">Gas Turbine</text><line x1=\"0\" x2=\"0\" y1=\"0\" y2=\"13.970076459516918\" style=\"display: inline; stroke: rgb(136, 136, 136); stroke-width: 4px;\"/><rect x=\"-5\" y=\"-5\" width=\"10\" style=\"fill: none; visibility: hidden; pointer-events: all;\" height=\"18.970076459516918\"/></g><g class=\"node\" transform=\"translate(292.6666666666667,303.65668885168196)\"><title>Light Device</title><text dy=\".35em\" text-anchor=\"start\" transform=\"translate(4,2.1926038866689623)\" style=\"display: inline;\">Light Device</text><line x1=\"0\" x2=\"0\" y1=\"0\" y2=\"4.385207773337925\" style=\"display: inline; stroke: rgb(136, 136, 136); stroke-width: 4px;\"/><rect x=\"-5\" y=\"-5\" width=\"10\" style=\"fill: none; visibility: hidden; pointer-events: all;\" height=\"9.385207773337925\"/></g><g class=\"node\" transform=\"translate(292.6666666666667,321.9918966250199)\"><title>Spark Ignition Engine</title><text dy=\".35em\" text-anchor=\"start\" transform=\"translate(4,8.090708421416423)\" style=\"display: inline;\">Spark Ignition Engine</text><line x1=\"0\" x2=\"0\" y1=\"0\" y2=\"16.181416842832846\" style=\"display: inline; stroke: rgb(136, 136, 136); stroke-width: 4px;\"/><rect x=\"-5\" y=\"-5\" width=\"10\" style=\"fill: none; visibility: hidden; pointer-events: all;\" height=\"21.181416842832846\"/></g><g class=\"node\" transform=\"translate(292.6666666666667,352.1233134678527)\"><title/><text dy=\".35em\" text-anchor=\"start\" transform=\"translate(4,33.188343266073616)\" style=\"display: none;\"/><line x1=\"0\" x2=\"0\" y1=\"0\" y2=\"66.37668653214723\" style=\"display: none; stroke: rgb(0, 0, 0);\"/><rect x=\"-5\" y=\"-5\" width=\"10\" style=\"fill: none; visibility: hidden; pointer-events: all;\" height=\"71.37668653214723\"/></g><g class=\"node\" transform=\"translate(439,46.5)\"><title>Cool</title><text dy=\".35em\" text-anchor=\"start\" transform=\"translate(4,5.039082657819495)\" style=\"display: inline;\">Cool</text><line x1=\"0\" x2=\"0\" y1=\"0\" y2=\"10.07816531563899\" style=\"display: inline; stroke: rgb(136, 136, 136); stroke-width: 4px;\"/><rect x=\"-5\" y=\"-5\" width=\"10\" style=\"fill: none; visibility: hidden; pointer-events: all;\" height=\"15.07816531563899\"/></g><g class=\"node\" transform=\"translate(439,84.47816531563899)\"><title>Heating</title><text dy=\".35em\" text-anchor=\"start\" transform=\"translate(4,34.988348412625896)\" style=\"display: inline;\">Heating</text><line x1=\"0\" x2=\"0\" y1=\"0\" y2=\"69.97669682525179\" style=\"display: inline; stroke: rgb(136, 136, 136); stroke-width: 4px;\"/><rect x=\"-5\" y=\"-5\" width=\"10\" style=\"fill: none; visibility: hidden; pointer-events: all;\" height=\"74.97669682525179\"/></g><g class=\"node\" transform=\"translate(439,182.3548621408908)\"><title>Illumination</title><text dy=\".35em\" text-anchor=\"start\" transform=\"translate(4,0.16384138307230955)\" style=\"display: inline;\">Illumination</text><line x1=\"0\" x2=\"0\" y1=\"0\" y2=\"1\" style=\"display: inline; stroke: rgb(136, 136, 136); stroke-width: 4px;\"/><rect x=\"-5\" y=\"-5\" width=\"10\" style=\"fill: none; visibility: hidden; pointer-events: all;\" height=\"6\"/></g><g class=\"node\" transform=\"translate(439,210.5825449070354)\"><title>Information</title><text dy=\".35em\" text-anchor=\"start\" transform=\"translate(4,1.982630903835414)\" style=\"display: inline;\">Information</text><line x1=\"0\" x2=\"0\" y1=\"0\" y2=\"3.965261807670828\" style=\"display: inline; stroke: rgb(136, 136, 136); stroke-width: 4px;\"/><rect x=\"-5\" y=\"-5\" width=\"10\" style=\"fill: none; visibility: hidden; pointer-events: all;\" height=\"8.965261807670828\"/></g><g class=\"node\" transform=\"translate(439,242.44780671470625)\"><title>Loss</title><text dy=\".35em\" text-anchor=\"start\" transform=\"translate(4,61.922633467329064)\" style=\"display: inline;\">Loss</text><line x1=\"0\" x2=\"0\" y1=\"0\" y2=\"123.84526693465813\" style=\"display: inline; stroke: rgb(136, 136, 136); stroke-width: 4px;\"/><rect x=\"-5\" y=\"-5\" width=\"10\" style=\"fill: none; visibility: hidden; pointer-events: all;\" height=\"128.84526693465813\"/></g><g class=\"node\" transform=\"translate(439,394.19307364936435)\"><title>Motion</title><text dy=\".35em\" text-anchor=\"start\" transform=\"translate(4,12.153463175317796)\" style=\"display: inline;\">Motion</text><line x1=\"0\" x2=\"0\" y1=\"0\" y2=\"24.306926350635592\" style=\"display: inline; stroke: rgb(136, 136, 136); stroke-width: 4px;\"/><rect x=\"-5\" y=\"-5\" width=\"10\" style=\"fill: none; visibility: hidden; pointer-events: all;\" height=\"29.306926350635592\"/></g></g><g class=\"slice-titles\"/></g></svg>"
      }
     },
     "a83c6bce09144df288ba0fb5b213c5ae": {
      "model_module": "jupyter-sankey-widget",
      "model_module_version": "^0.2.3",
      "model_name": "SankeyModel",
      "state": {
       "_model_module_version": "^0.2.3",
       "_view_module_version": "^0.2.3",
       "groups": [
        {
         "id": "inputs",
         "nodes": [
          "inputs^Gas",
          "inputs^Liquid fuel",
          "inputs^Coal",
          "inputs^Nuclear",
          "inputs^Solid biomass & Waste",
          "inputs^Primary Electricity"
         ],
         "title": "",
         "type": "process"
        },
        {
         "id": "Power Plants",
         "nodes": [
          "Power Plants^Power Plant",
          "Power Plants^Transformation"
         ],
         "title": "",
         "type": "process"
        },
        {
         "id": "Devices",
         "nodes": [
          "Devices^Boiler",
          "Devices^Burner",
          "Devices^Cooler",
          "Devices^Diesel Engine",
          "Devices^Electric Heater",
          "Devices^Electric Motor",
          "Devices^Electronics",
          "Devices^Gas Turbine",
          "Devices^Light Device",
          "Devices^Spark Ignition Engine"
         ],
         "title": "",
         "type": "process"
        },
        {
         "id": "__Power Plants_Useful_2",
         "nodes": [
          "__Power Plants_Useful_2^*"
         ],
         "title": "",
         "type": "group"
        },
        {
         "id": "Useful",
         "nodes": [
          "Useful^Cool",
          "Useful^Heating",
          "Useful^Illumination",
          "Useful^Information",
          "Useful^Loss",
          "Useful^Motion"
         ],
         "title": "",
         "type": "process"
        }
       ],
       "layout": "IPY_MODEL_11f23497ff7d4ef49c8ba30593126937",
       "links": [
        {
         "bundles": [
          "1"
         ],
         "color": "#999",
         "opacity": 1,
         "source": "inputs^Gas",
         "target": "Power Plants^Power Plant",
         "time": "*",
         "title": "Gas",
         "type": "Gas",
         "value": 21310.72381413523
        },
        {
         "bundles": [
          "1"
         ],
         "color": "#999",
         "opacity": 1,
         "source": "inputs^Gas",
         "target": "Power Plants^Transformation",
         "time": "*",
         "title": "Gas",
         "type": "Gas",
         "value": 45788.872801736856
        },
        {
         "bundles": [
          "1"
         ],
         "color": "#999",
         "opacity": 1,
         "source": "inputs^Liquid fuel",
         "target": "Power Plants^Power Plant",
         "time": "*",
         "title": "Liquid fuel",
         "type": "Liquid fuel",
         "value": 359.3
        },
        {
         "bundles": [
          "1"
         ],
         "color": "#999",
         "opacity": 1,
         "source": "inputs^Liquid fuel",
         "target": "Power Plants^Transformation",
         "time": "*",
         "title": "Liquid fuel",
         "type": "Liquid fuel",
         "value": 66569.68042792918
        },
        {
         "bundles": [
          "1"
         ],
         "color": "black",
         "opacity": 1,
         "source": "inputs^Coal",
         "target": "Power Plants^Power Plant",
         "time": "*",
         "title": "Coal",
         "type": "Coal",
         "value": 30064.95053004109
        },
        {
         "bundles": [
          "1"
         ],
         "color": "black",
         "opacity": 1,
         "source": "inputs^Coal",
         "target": "Power Plants^Transformation",
         "time": "*",
         "title": "Coal",
         "type": "Coal",
         "value": 4138.482374951184
        },
        {
         "bundles": [
          "1"
         ],
         "color": "#999",
         "opacity": 1,
         "source": "inputs^Nuclear",
         "target": "Power Plants^Power Plant",
         "time": "*",
         "title": "Nuclear",
         "type": "Nuclear",
         "value": 18213.3
        },
        {
         "bundles": [
          "1"
         ],
         "color": "#999",
         "opacity": 1,
         "source": "inputs^Solid biomass & Waste",
         "target": "Power Plants^Power Plant",
         "time": "*",
         "title": "Solid biomass & Waste",
         "type": "Solid biomass & Waste",
         "value": 2831.9
        },
        {
         "bundles": [
          "1"
         ],
         "color": "#999",
         "opacity": 1,
         "source": "inputs^Solid biomass & Waste",
         "target": "Power Plants^Transformation",
         "time": "*",
         "title": "Solid biomass & Waste",
         "type": "Solid biomass & Waste",
         "value": 2290.2000000000003
        },
        {
         "bundles": [
          "1"
         ],
         "color": "yellow",
         "opacity": 1,
         "source": "inputs^Primary Electricity",
         "target": "Power Plants^Power Plant",
         "time": "*",
         "title": "Electricity",
         "type": "Electricity",
         "value": 1240.8
        },
        {
         "bundles": [
          "1"
         ],
         "color": "#999",
         "opacity": 1,
         "source": "inputs^Primary Electricity",
         "target": "Power Plants^Power Plant",
         "time": "*",
         "title": "Primary Electricity",
         "type": "Primary Electricity",
         "value": 3019.2999999999997
        },
        {
         "bundles": [
          "2"
         ],
         "color": "#999",
         "opacity": 1,
         "source": "Power Plants^Power Plant",
         "target": "Devices^Boiler",
         "time": "*",
         "title": "Heat",
         "type": "Heat",
         "value": 936.377573284864
        },
        {
         "bundles": [
          "2"
         ],
         "color": "#999",
         "opacity": 1,
         "source": "Power Plants^Power Plant",
         "target": "Devices^Burner",
         "time": "*",
         "title": "Heat",
         "type": "Heat",
         "value": 250.65878170699347
        },
        {
         "bundles": [
          "2"
         ],
         "color": "yellow",
         "opacity": 1,
         "source": "Power Plants^Power Plant",
         "target": "Devices^Cooler",
         "time": "*",
         "title": "Electricity",
         "type": "Electricity",
         "value": 3271.542495873238
        },
        {
         "bundles": [
          "2"
         ],
         "color": "#999",
         "opacity": 1,
         "source": "Power Plants^Power Plant",
         "target": "Devices^Cooler",
         "time": "*",
         "title": "Heat",
         "type": "Heat",
         "value": 0.0127290016285136
        },
        {
         "bundles": [
          "2"
         ],
         "color": "yellow",
         "opacity": 1,
         "source": "Power Plants^Power Plant",
         "target": "Devices^Electric Heater",
         "time": "*",
         "title": "Electricity",
         "type": "Electricity",
         "value": 9831.216030221975
        },
        {
         "bundles": [
          "2"
         ],
         "color": "yellow",
         "opacity": 1,
         "source": "Power Plants^Power Plant",
         "target": "Devices^Electric Motor",
         "time": "*",
         "title": "Electricity",
         "type": "Electricity",
         "value": 6276.20410235272
        },
        {
         "bundles": [
          "2"
         ],
         "color": "yellow",
         "opacity": 1,
         "source": "Power Plants^Power Plant",
         "target": "Devices^Electronics",
         "time": "*",
         "title": "Electricity",
         "type": "Electricity",
         "value": 4038.5619975182944
        },
        {
         "bundles": [
          "2"
         ],
         "color": "yellow",
         "opacity": 1,
         "source": "Power Plants^Power Plant",
         "target": "Devices^Light Device",
         "time": "*",
         "title": "Electricity",
         "type": "Electricity",
         "value": 3796.3302740337726
        },
        {
         "bundles": [
          "3"
         ],
         "color": "#999",
         "opacity": 1,
         "source": "Power Plants^Power Plant",
         "target": "__Power Plants_Useful_2^*",
         "time": "*",
         "title": "Loss",
         "type": "Loss",
         "value": 48639.370360182824
        },
        {
         "bundles": [
          "2"
         ],
         "color": "black",
         "opacity": 1,
         "source": "Power Plants^Transformation",
         "target": "Devices^Boiler",
         "time": "*",
         "title": "Coal",
         "type": "Coal",
         "value": 1978.1780395905128
        },
        {
         "bundles": [
          "2"
         ],
         "color": "#999",
         "opacity": 1,
         "source": "Power Plants^Transformation",
         "target": "Devices^Boiler",
         "time": "*",
         "title": "Gas",
         "type": "Gas",
         "value": 39901.466761063035
        },
        {
         "bundles": [
          "2"
         ],
         "color": "#999",
         "opacity": 1,
         "source": "Power Plants^Transformation",
         "target": "Devices^Boiler",
         "time": "*",
         "title": "Liquid fuel",
         "type": "Liquid fuel",
         "value": 6046.859631007696
        },
        {
         "bundles": [
          "2"
         ],
         "color": "#999",
         "opacity": 1,
         "source": "Power Plants^Transformation",
         "target": "Devices^Boiler",
         "time": "*",
         "title": "Solid biomass & Waste",
         "type": "Solid biomass & Waste",
         "value": 1966.6666107851959
        },
        {
         "bundles": [
          "2"
         ],
         "color": "black",
         "opacity": 1,
         "source": "Power Plants^Transformation",
         "target": "Devices^Burner",
         "time": "*",
         "title": "Coal",
         "type": "Coal",
         "value": 1758.5219604094877
        },
        {
         "bundles": [
          "2"
         ],
         "color": "#999",
         "opacity": 1,
         "source": "Power Plants^Transformation",
         "target": "Devices^Burner",
         "time": "*",
         "title": "Gas",
         "type": "Gas",
         "value": 2986.5601727579638
        },
        {
         "bundles": [
          "2"
         ],
         "color": "#999",
         "opacity": 1,
         "source": "Power Plants^Transformation",
         "target": "Devices^Burner",
         "time": "*",
         "title": "Liquid fuel",
         "type": "Liquid fuel",
         "value": 1067.0030664292601
        },
        {
         "bundles": [
          "2"
         ],
         "color": "#999",
         "opacity": 1,
         "source": "Power Plants^Transformation",
         "target": "Devices^Burner",
         "time": "*",
         "title": "Solid biomass & Waste",
         "type": "Solid biomass & Waste",
         "value": 323.5333892148041
        },
        {
         "bundles": [
          "2"
         ],
         "color": "#999",
         "opacity": 1,
         "source": "Power Plants^Transformation",
         "target": "Devices^Cooler",
         "time": "*",
         "title": "Gas",
         "type": "Gas",
         "value": 0.49877917704728364
        },
        {
         "bundles": [
          "2"
         ],
         "color": "#999",
         "opacity": 1,
         "source": "Power Plants^Transformation",
         "target": "Devices^Cooler",
         "time": "*",
         "title": "Liquid fuel",
         "type": "Liquid fuel",
         "value": 2.0381221587569742
        },
        {
         "bundles": [
          "2"
         ],
         "color": "#999",
         "opacity": 1,
         "source": "Power Plants^Transformation",
         "target": "Devices^Diesel Engine",
         "time": "*",
         "title": "Liquid fuel",
         "type": "Liquid fuel",
         "value": 27829.60356363927
        },
        {
         "bundles": [
          "2"
         ],
         "color": "#999",
         "opacity": 1,
         "source": "Power Plants^Transformation",
         "target": "Devices^Gas Turbine",
         "time": "*",
         "title": "Gas",
         "type": "Gas",
         "value": 226.03958514688117
        },
        {
         "bundles": [
          "2"
         ],
         "color": "#999",
         "opacity": 1,
         "source": "Power Plants^Transformation",
         "target": "Devices^Gas Turbine",
         "time": "*",
         "title": "Liquid fuel",
         "type": "Liquid fuel",
         "value": 11868.033702847286
        },
        {
         "bundles": [
          "2"
         ],
         "color": "#999",
         "opacity": 1,
         "source": "Power Plants^Transformation",
         "target": "Devices^Spark Ignition Engine",
         "time": "*",
         "title": "Gas",
         "type": "Gas",
         "value": 228.0347018550703
        },
        {
         "bundles": [
          "2"
         ],
         "color": "#999",
         "opacity": 1,
         "source": "Power Plants^Transformation",
         "target": "Devices^Spark Ignition Engine",
         "time": "*",
         "title": "Liquid fuel",
         "type": "Liquid fuel",
         "value": 13780.4241471648
        },
        {
         "bundles": [
          "3"
         ],
         "color": "#999",
         "opacity": 1,
         "source": "Power Plants^Transformation",
         "target": "__Power Plants_Useful_2^*",
         "time": "*",
         "title": "Loss",
         "type": "Loss",
         "value": 8823.773371370184
        },
        {
         "bundles": [
          "4"
         ],
         "color": "black",
         "opacity": 1,
         "source": "Devices^Boiler",
         "target": "Useful^Heating",
         "time": "*",
         "title": "Coal",
         "type": "Coal",
         "value": 1692.0611950275118
        },
        {
         "bundles": [
          "4"
         ],
         "color": "#999",
         "opacity": 1,
         "source": "Devices^Boiler",
         "target": "Useful^Heating",
         "time": "*",
         "title": "Gas",
         "type": "Gas",
         "value": 34992.4698378906
        },
        {
         "bundles": [
          "4"
         ],
         "color": "#999",
         "opacity": 1,
         "source": "Devices^Boiler",
         "target": "Useful^Heating",
         "time": "*",
         "title": "Heat",
         "type": "Heat",
         "value": 936.377573284864
        },
        {
         "bundles": [
          "4"
         ],
         "color": "#999",
         "opacity": 1,
         "source": "Devices^Boiler",
         "target": "Useful^Heating",
         "time": "*",
         "title": "Liquid fuel",
         "type": "Liquid fuel",
         "value": 5284.291626036086
        },
        {
         "bundles": [
          "4"
         ],
         "color": "#999",
         "opacity": 1,
         "source": "Devices^Boiler",
         "target": "Useful^Heating",
         "time": "*",
         "title": "Solid biomass & Waste",
         "type": "Solid biomass & Waste",
         "value": 1457.024903908887
        },
        {
         "bundles": [
          "4"
         ],
         "color": "#999",
         "opacity": 1,
         "source": "Devices^Boiler",
         "target": "Useful^Loss",
         "time": "*",
         "title": "Loss",
         "type": "Loss",
         "value": 6467.32347958336
        },
        {
         "bundles": [
          "4"
         ],
         "color": "black",
         "opacity": 1,
         "source": "Devices^Burner",
         "target": "Useful^Heating",
         "time": "*",
         "title": "Coal",
         "type": "Coal",
         "value": 1758.5219604094877
        },
        {
         "bundles": [
          "4"
         ],
         "color": "#999",
         "opacity": 1,
         "source": "Devices^Burner",
         "target": "Useful^Heating",
         "time": "*",
         "title": "Gas",
         "type": "Gas",
         "value": 2986.5601727579638
        },
        {
         "bundles": [
          "4"
         ],
         "color": "#999",
         "opacity": 1,
         "source": "Devices^Burner",
         "target": "Useful^Heating",
         "time": "*",
         "title": "Heat",
         "type": "Heat",
         "value": 250.65878170699347
        },
        {
         "bundles": [
          "4"
         ],
         "color": "#999",
         "opacity": 1,
         "source": "Devices^Burner",
         "target": "Useful^Heating",
         "time": "*",
         "title": "Liquid fuel",
         "type": "Liquid fuel",
         "value": 1067.0030664292601
        },
        {
         "bundles": [
          "4"
         ],
         "color": "#999",
         "opacity": 1,
         "source": "Devices^Burner",
         "target": "Useful^Heating",
         "time": "*",
         "title": "Solid biomass & Waste",
         "type": "Solid biomass & Waste",
         "value": 323.5333892148041
        },
        {
         "bundles": [
          "4"
         ],
         "color": "yellow",
         "opacity": 1,
         "source": "Devices^Cooler",
         "target": "Useful^Cool",
         "time": "*",
         "title": "Electricity",
         "type": "Electricity",
         "value": 8720.971749351173
        },
        {
         "bundles": [
          "4"
         ],
         "color": "#999",
         "opacity": 1,
         "source": "Devices^Cooler",
         "target": "Useful^Cool",
         "time": "*",
         "title": "Gas",
         "type": "Gas",
         "value": 0.7481687655709255
        },
        {
         "bundles": [
          "4"
         ],
         "color": "#999",
         "opacity": 1,
         "source": "Devices^Cooler",
         "target": "Useful^Cool",
         "time": "*",
         "title": "Heat",
         "type": "Heat",
         "value": 0.019093502442770402
        },
        {
         "bundles": [
          "4"
         ],
         "color": "#999",
         "opacity": 1,
         "source": "Devices^Cooler",
         "target": "Useful^Cool",
         "time": "*",
         "title": "Liquid fuel",
         "type": "Liquid fuel",
         "value": 3.0571832381354613
        },
        {
         "bundles": [
          "4"
         ],
         "color": "#999",
         "opacity": 1,
         "source": "Devices^Diesel Engine",
         "target": "Useful^Loss",
         "time": "*",
         "title": "Loss",
         "type": "Loss",
         "value": 19754.351257108527
        },
        {
         "bundles": [
          "4"
         ],
         "color": "#999",
         "opacity": 1,
         "source": "Devices^Diesel Engine",
         "target": "Useful^Motion",
         "time": "*",
         "title": "Liquid fuel",
         "type": "Liquid fuel",
         "value": 8075.252306530737
        },
        {
         "bundles": [
          "4"
         ],
         "color": "yellow",
         "opacity": 1,
         "source": "Devices^Electric Heater",
         "target": "Useful^Heating",
         "time": "*",
         "title": "Electricity",
         "type": "Electricity",
         "value": 9831.216030221975
        },
        {
         "bundles": [
          "4"
         ],
         "color": "#999",
         "opacity": 1,
         "source": "Devices^Electric Motor",
         "target": "Useful^Loss",
         "time": "*",
         "title": "Loss",
         "type": "Loss",
         "value": 835.7536688390624
        },
        {
         "bundles": [
          "4"
         ],
         "color": "yellow",
         "opacity": 1,
         "source": "Devices^Electric Motor",
         "target": "Useful^Motion",
         "time": "*",
         "title": "Electricity",
         "type": "Electricity",
         "value": 5440.450433513658
        },
        {
         "bundles": [
          "4"
         ],
         "color": "yellow",
         "opacity": 1,
         "source": "Devices^Electronics",
         "target": "Useful^Information",
         "time": "*",
         "title": "Electricity",
         "type": "Electricity",
         "value": 3432.7776978905504
        },
        {
         "bundles": [
          "4"
         ],
         "color": "#999",
         "opacity": 1,
         "source": "Devices^Electronics",
         "target": "Useful^Loss",
         "time": "*",
         "title": "Loss",
         "type": "Loss",
         "value": 605.7842996277443
        },
        {
         "bundles": [
          "4"
         ],
         "color": "#999",
         "opacity": 1,
         "source": "Devices^Gas Turbine",
         "target": "Useful^Loss",
         "time": "*",
         "title": "Loss",
         "type": "Loss",
         "value": 7507.124015196207
        },
        {
         "bundles": [
          "4"
         ],
         "color": "#999",
         "opacity": 1,
         "source": "Devices^Gas Turbine",
         "target": "Useful^Motion",
         "time": "*",
         "title": "Gas",
         "type": "Gas",
         "value": 79.11385480140841
        },
        {
         "bundles": [
          "4"
         ],
         "color": "#999",
         "opacity": 1,
         "source": "Devices^Gas Turbine",
         "target": "Useful^Motion",
         "time": "*",
         "title": "Liquid fuel",
         "type": "Liquid fuel",
         "value": 4507.83541799655
        },
        {
         "bundles": [
          "4"
         ],
         "color": "yellow",
         "opacity": 1,
         "source": "Devices^Light Device",
         "target": "Useful^Illumination",
         "time": "*",
         "title": "Electricity",
         "type": "Electricity",
         "value": 283.679148102733
        },
        {
         "bundles": [
          "4"
         ],
         "color": "#999",
         "opacity": 1,
         "source": "Devices^Light Device",
         "target": "Useful^Loss",
         "time": "*",
         "title": "Loss",
         "type": "Loss",
         "value": 3512.6511259310396
        },
        {
         "bundles": [
          "4"
         ],
         "color": "#999",
         "opacity": 1,
         "source": "Devices^Spark Ignition Engine",
         "target": "Useful^Loss",
         "time": "*",
         "title": "Loss",
         "type": "Loss",
         "value": 11068.294844187425
        },
        {
         "bundles": [
          "4"
         ],
         "color": "#999",
         "opacity": 1,
         "source": "Devices^Spark Ignition Engine",
         "target": "Useful^Motion",
         "time": "*",
         "title": "Gas",
         "type": "Gas",
         "value": 45.60694037101406
        },
        {
         "bundles": [
          "4"
         ],
         "color": "#999",
         "opacity": 1,
         "source": "Devices^Spark Ignition Engine",
         "target": "Useful^Motion",
         "time": "*",
         "title": "Liquid fuel",
         "type": "Liquid fuel",
         "value": 2894.5570644614327
        },
        {
         "bundles": [
          "3"
         ],
         "color": "#999",
         "opacity": 1,
         "source": "__Power Plants_Useful_2^*",
         "target": "Useful^Loss",
         "time": "*",
         "title": "Loss",
         "type": "Loss",
         "value": 57463.143731553006
        }
       ],
       "margins": {
        "bottom": 10,
        "left": 130,
        "right": 130,
        "top": 25
       },
       "nodes": [
        {
         "direction": "r",
         "id": "inputs^Gas",
         "style": "process",
         "title": "Gas",
         "visibility": "visible"
        },
        {
         "direction": "r",
         "id": "inputs^Liquid fuel",
         "style": "process",
         "title": "Liquid fuel",
         "visibility": "visible"
        },
        {
         "direction": "r",
         "id": "inputs^Coal",
         "style": "process",
         "title": "Coal",
         "visibility": "visible"
        },
        {
         "direction": "r",
         "id": "inputs^Nuclear",
         "style": "process",
         "title": "Nuclear",
         "visibility": "visible"
        },
        {
         "direction": "r",
         "id": "inputs^Solid biomass & Waste",
         "style": "process",
         "title": "Solid biomass & Waste",
         "visibility": "visible"
        },
        {
         "direction": "r",
         "id": "inputs^Primary Electricity",
         "style": "process",
         "title": "Primary Electricity",
         "visibility": "visible"
        },
        {
         "direction": "r",
         "id": "Power Plants^Power Plant",
         "style": "process",
         "title": "Power Plant",
         "visibility": "visible"
        },
        {
         "direction": "r",
         "id": "Power Plants^Transformation",
         "style": "process",
         "title": "Transformation",
         "visibility": "visible"
        },
        {
         "direction": "r",
         "id": "Devices^Boiler",
         "style": "process",
         "title": "Boiler",
         "visibility": "visible"
        },
        {
         "direction": "r",
         "id": "Devices^Burner",
         "style": "process",
         "title": "Burner",
         "visibility": "visible"
        },
        {
         "direction": "r",
         "id": "Devices^Cooler",
         "style": "process",
         "title": "Cooler",
         "visibility": "visible"
        },
        {
         "direction": "r",
         "id": "Devices^Diesel Engine",
         "style": "process",
         "title": "Diesel Engine",
         "visibility": "visible"
        },
        {
         "direction": "r",
         "id": "Devices^Electric Heater",
         "style": "process",
         "title": "Electric Heater",
         "visibility": "visible"
        },
        {
         "direction": "r",
         "id": "Devices^Electric Motor",
         "style": "process",
         "title": "Electric Motor",
         "visibility": "visible"
        },
        {
         "direction": "r",
         "id": "Devices^Electronics",
         "style": "process",
         "title": "Electronics",
         "visibility": "visible"
        },
        {
         "direction": "r",
         "id": "Devices^Gas Turbine",
         "style": "process",
         "title": "Gas Turbine",
         "visibility": "visible"
        },
        {
         "direction": "r",
         "id": "Devices^Light Device",
         "style": "process",
         "title": "Light Device",
         "visibility": "visible"
        },
        {
         "direction": "r",
         "id": "Devices^Spark Ignition Engine",
         "style": "process",
         "title": "Spark Ignition Engine",
         "visibility": "visible"
        },
        {
         "direction": "r",
         "id": "__Power Plants_Useful_2^*",
         "style": "group",
         "title": "",
         "visibility": "hidden"
        },
        {
         "direction": "r",
         "id": "Useful^Cool",
         "style": "process",
         "title": "Cool",
         "visibility": "visible"
        },
        {
         "direction": "r",
         "id": "Useful^Heating",
         "style": "process",
         "title": "Heating",
         "visibility": "visible"
        },
        {
         "direction": "r",
         "id": "Useful^Illumination",
         "style": "process",
         "title": "Illumination",
         "visibility": "visible"
        },
        {
         "direction": "r",
         "id": "Useful^Information",
         "style": "process",
         "title": "Information",
         "visibility": "visible"
        },
        {
         "direction": "r",
         "id": "Useful^Loss",
         "style": "process",
         "title": "Loss",
         "visibility": "visible"
        },
        {
         "direction": "r",
         "id": "Useful^Motion",
         "style": "process",
         "title": "Motion",
         "visibility": "visible"
        }
       ],
       "order": [
        [
         [
          "inputs^Gas",
          "inputs^Liquid fuel",
          "inputs^Coal",
          "inputs^Nuclear",
          "inputs^Solid biomass & Waste",
          "inputs^Primary Electricity"
         ]
        ],
        [
         [
          "Power Plants^Power Plant",
          "Power Plants^Transformation"
         ]
        ],
        [
         [
          "Devices^Boiler",
          "Devices^Burner",
          "Devices^Cooler",
          "Devices^Diesel Engine",
          "Devices^Electric Heater",
          "Devices^Electric Motor",
          "Devices^Electronics",
          "Devices^Gas Turbine",
          "Devices^Light Device",
          "Devices^Spark Ignition Engine",
          "__Power Plants_Useful_2^*"
         ]
        ],
        [
         [
          "Useful^Cool",
          "Useful^Heating",
          "Useful^Illumination",
          "Useful^Information",
          "Useful^Loss",
          "Useful^Motion"
         ]
        ]
       ]
      }
     },
     "d974d210444d466492e7cffac0295206": {
      "model_module": "@jupyter-widgets/base",
      "model_module_version": "1.0.0",
      "model_name": "LayoutModel",
      "state": {
       "height": "600",
       "width": "900"
      }
     },
     "e741043a47454c9db8473173ff302017": {
      "model_module": "jupyter-sankey-widget",
      "model_module_version": "^0.2.3",
      "model_name": "SankeyModel",
      "state": {
       "_model_module_version": "^0.2.3",
       "_view_module_version": "^0.2.3",
       "groups": [
        {
         "id": "inputs",
         "nodes": [
          "inputs^Gas",
          "inputs^Liquid fuel",
          "inputs^Coal",
          "inputs^Nuclear",
          "inputs^Solid biomass & Waste",
          "inputs^Primary Electricity"
         ],
         "title": "",
         "type": "process"
        },
        {
         "id": "Power Plants",
         "nodes": [
          "Power Plants^Power Plant",
          "Power Plants^Transformation"
         ],
         "title": "",
         "type": "process"
        },
        {
         "id": "Devices",
         "nodes": [
          "Devices^Boiler",
          "Devices^Burner",
          "Devices^Cooler",
          "Devices^Diesel Engine",
          "Devices^Electric Heater",
          "Devices^Electric Motor",
          "Devices^Electronics",
          "Devices^Gas Turbine",
          "Devices^Light Device",
          "Devices^Spark Ignition Engine"
         ],
         "title": "",
         "type": "process"
        },
        {
         "id": "__Power Plants_Useful_2",
         "nodes": [
          "__Power Plants_Useful_2^*"
         ],
         "title": "",
         "type": "group"
        },
        {
         "id": "Useful",
         "nodes": [
          "Useful^Cool",
          "Useful^Heating",
          "Useful^Illumination",
          "Useful^Information",
          "Useful^Loss",
          "Useful^Motion"
         ],
         "title": "",
         "type": "process"
        }
       ],
       "layout": "IPY_MODEL_33ba668d72da41b59aa94184fafcb4d3",
       "links": [
        {
         "bundles": [
          "1"
         ],
         "color": "#999",
         "opacity": 1,
         "source": "inputs^Gas",
         "target": "Power Plants^Power Plant",
         "time": "*",
         "title": "Gas",
         "type": "Gas",
         "value": 21310.72381413523
        },
        {
         "bundles": [
          "1"
         ],
         "color": "#999",
         "opacity": 1,
         "source": "inputs^Gas",
         "target": "Power Plants^Transformation",
         "time": "*",
         "title": "Gas",
         "type": "Gas",
         "value": 45788.872801736856
        },
        {
         "bundles": [
          "1"
         ],
         "color": "#999",
         "opacity": 1,
         "source": "inputs^Liquid fuel",
         "target": "Power Plants^Power Plant",
         "time": "*",
         "title": "Liquid fuel",
         "type": "Liquid fuel",
         "value": 359.3
        },
        {
         "bundles": [
          "1"
         ],
         "color": "#999",
         "opacity": 1,
         "source": "inputs^Liquid fuel",
         "target": "Power Plants^Transformation",
         "time": "*",
         "title": "Liquid fuel",
         "type": "Liquid fuel",
         "value": 66569.68042792918
        },
        {
         "bundles": [
          "1"
         ],
         "color": "black",
         "opacity": 1,
         "source": "inputs^Coal",
         "target": "Power Plants^Power Plant",
         "time": "*",
         "title": "Coal",
         "type": "Coal",
         "value": 30064.95053004109
        },
        {
         "bundles": [
          "1"
         ],
         "color": "black",
         "opacity": 1,
         "source": "inputs^Coal",
         "target": "Power Plants^Transformation",
         "time": "*",
         "title": "Coal",
         "type": "Coal",
         "value": 4138.482374951184
        },
        {
         "bundles": [
          "1"
         ],
         "color": "#999",
         "opacity": 1,
         "source": "inputs^Nuclear",
         "target": "Power Plants^Power Plant",
         "time": "*",
         "title": "Nuclear",
         "type": "Nuclear",
         "value": 18213.3
        },
        {
         "bundles": [
          "1"
         ],
         "color": "#999",
         "opacity": 1,
         "source": "inputs^Solid biomass & Waste",
         "target": "Power Plants^Power Plant",
         "time": "*",
         "title": "Solid biomass & Waste",
         "type": "Solid biomass & Waste",
         "value": 2831.9
        },
        {
         "bundles": [
          "1"
         ],
         "color": "#999",
         "opacity": 1,
         "source": "inputs^Solid biomass & Waste",
         "target": "Power Plants^Transformation",
         "time": "*",
         "title": "Solid biomass & Waste",
         "type": "Solid biomass & Waste",
         "value": 2290.2000000000003
        },
        {
         "bundles": [
          "1"
         ],
         "color": "yellow",
         "opacity": 1,
         "source": "inputs^Primary Electricity",
         "target": "Power Plants^Power Plant",
         "time": "*",
         "title": "Electricity",
         "type": "Electricity",
         "value": 1240.8
        },
        {
         "bundles": [
          "1"
         ],
         "color": "#999",
         "opacity": 1,
         "source": "inputs^Primary Electricity",
         "target": "Power Plants^Power Plant",
         "time": "*",
         "title": "Primary Electricity",
         "type": "Primary Electricity",
         "value": 3019.2999999999997
        },
        {
         "bundles": [
          "2"
         ],
         "color": "#999",
         "opacity": 1,
         "source": "Power Plants^Power Plant",
         "target": "Devices^Boiler",
         "time": "*",
         "title": "Heat",
         "type": "Heat",
         "value": 936.377573284864
        },
        {
         "bundles": [
          "2"
         ],
         "color": "#999",
         "opacity": 1,
         "source": "Power Plants^Power Plant",
         "target": "Devices^Burner",
         "time": "*",
         "title": "Heat",
         "type": "Heat",
         "value": 250.65878170699347
        },
        {
         "bundles": [
          "2"
         ],
         "color": "yellow",
         "opacity": 1,
         "source": "Power Plants^Power Plant",
         "target": "Devices^Cooler",
         "time": "*",
         "title": "Electricity",
         "type": "Electricity",
         "value": 3271.542495873238
        },
        {
         "bundles": [
          "2"
         ],
         "color": "#999",
         "opacity": 1,
         "source": "Power Plants^Power Plant",
         "target": "Devices^Cooler",
         "time": "*",
         "title": "Heat",
         "type": "Heat",
         "value": 0.0127290016285136
        },
        {
         "bundles": [
          "2"
         ],
         "color": "yellow",
         "opacity": 1,
         "source": "Power Plants^Power Plant",
         "target": "Devices^Electric Heater",
         "time": "*",
         "title": "Electricity",
         "type": "Electricity",
         "value": 9831.216030221975
        },
        {
         "bundles": [
          "2"
         ],
         "color": "yellow",
         "opacity": 1,
         "source": "Power Plants^Power Plant",
         "target": "Devices^Electric Motor",
         "time": "*",
         "title": "Electricity",
         "type": "Electricity",
         "value": 6276.20410235272
        },
        {
         "bundles": [
          "2"
         ],
         "color": "yellow",
         "opacity": 1,
         "source": "Power Plants^Power Plant",
         "target": "Devices^Electronics",
         "time": "*",
         "title": "Electricity",
         "type": "Electricity",
         "value": 4038.5619975182944
        },
        {
         "bundles": [
          "2"
         ],
         "color": "yellow",
         "opacity": 1,
         "source": "Power Plants^Power Plant",
         "target": "Devices^Light Device",
         "time": "*",
         "title": "Electricity",
         "type": "Electricity",
         "value": 3796.3302740337726
        },
        {
         "bundles": [
          "3"
         ],
         "color": "#999",
         "opacity": 1,
         "source": "Power Plants^Power Plant",
         "target": "__Power Plants_Useful_2^*",
         "time": "*",
         "title": "Loss",
         "type": "Loss",
         "value": 48639.370360182824
        },
        {
         "bundles": [
          "2"
         ],
         "color": "black",
         "opacity": 1,
         "source": "Power Plants^Transformation",
         "target": "Devices^Boiler",
         "time": "*",
         "title": "Coal",
         "type": "Coal",
         "value": 1978.1780395905128
        },
        {
         "bundles": [
          "2"
         ],
         "color": "#999",
         "opacity": 1,
         "source": "Power Plants^Transformation",
         "target": "Devices^Boiler",
         "time": "*",
         "title": "Gas",
         "type": "Gas",
         "value": 39901.466761063035
        },
        {
         "bundles": [
          "2"
         ],
         "color": "#999",
         "opacity": 1,
         "source": "Power Plants^Transformation",
         "target": "Devices^Boiler",
         "time": "*",
         "title": "Liquid fuel",
         "type": "Liquid fuel",
         "value": 6046.859631007696
        },
        {
         "bundles": [
          "2"
         ],
         "color": "#999",
         "opacity": 1,
         "source": "Power Plants^Transformation",
         "target": "Devices^Boiler",
         "time": "*",
         "title": "Solid biomass & Waste",
         "type": "Solid biomass & Waste",
         "value": 1966.6666107851959
        },
        {
         "bundles": [
          "2"
         ],
         "color": "black",
         "opacity": 1,
         "source": "Power Plants^Transformation",
         "target": "Devices^Burner",
         "time": "*",
         "title": "Coal",
         "type": "Coal",
         "value": 1758.5219604094877
        },
        {
         "bundles": [
          "2"
         ],
         "color": "#999",
         "opacity": 1,
         "source": "Power Plants^Transformation",
         "target": "Devices^Burner",
         "time": "*",
         "title": "Gas",
         "type": "Gas",
         "value": 2986.5601727579638
        },
        {
         "bundles": [
          "2"
         ],
         "color": "#999",
         "opacity": 1,
         "source": "Power Plants^Transformation",
         "target": "Devices^Burner",
         "time": "*",
         "title": "Liquid fuel",
         "type": "Liquid fuel",
         "value": 1067.0030664292601
        },
        {
         "bundles": [
          "2"
         ],
         "color": "#999",
         "opacity": 1,
         "source": "Power Plants^Transformation",
         "target": "Devices^Burner",
         "time": "*",
         "title": "Solid biomass & Waste",
         "type": "Solid biomass & Waste",
         "value": 323.5333892148041
        },
        {
         "bundles": [
          "2"
         ],
         "color": "#999",
         "opacity": 1,
         "source": "Power Plants^Transformation",
         "target": "Devices^Cooler",
         "time": "*",
         "title": "Gas",
         "type": "Gas",
         "value": 0.49877917704728364
        },
        {
         "bundles": [
          "2"
         ],
         "color": "#999",
         "opacity": 1,
         "source": "Power Plants^Transformation",
         "target": "Devices^Cooler",
         "time": "*",
         "title": "Liquid fuel",
         "type": "Liquid fuel",
         "value": 2.0381221587569742
        },
        {
         "bundles": [
          "2"
         ],
         "color": "#999",
         "opacity": 1,
         "source": "Power Plants^Transformation",
         "target": "Devices^Diesel Engine",
         "time": "*",
         "title": "Liquid fuel",
         "type": "Liquid fuel",
         "value": 27829.60356363927
        },
        {
         "bundles": [
          "2"
         ],
         "color": "#999",
         "opacity": 1,
         "source": "Power Plants^Transformation",
         "target": "Devices^Gas Turbine",
         "time": "*",
         "title": "Gas",
         "type": "Gas",
         "value": 226.03958514688117
        },
        {
         "bundles": [
          "2"
         ],
         "color": "#999",
         "opacity": 1,
         "source": "Power Plants^Transformation",
         "target": "Devices^Gas Turbine",
         "time": "*",
         "title": "Liquid fuel",
         "type": "Liquid fuel",
         "value": 11868.033702847286
        },
        {
         "bundles": [
          "2"
         ],
         "color": "#999",
         "opacity": 1,
         "source": "Power Plants^Transformation",
         "target": "Devices^Spark Ignition Engine",
         "time": "*",
         "title": "Gas",
         "type": "Gas",
         "value": 228.0347018550703
        },
        {
         "bundles": [
          "2"
         ],
         "color": "#999",
         "opacity": 1,
         "source": "Power Plants^Transformation",
         "target": "Devices^Spark Ignition Engine",
         "time": "*",
         "title": "Liquid fuel",
         "type": "Liquid fuel",
         "value": 13780.4241471648
        },
        {
         "bundles": [
          "3"
         ],
         "color": "#999",
         "opacity": 1,
         "source": "Power Plants^Transformation",
         "target": "__Power Plants_Useful_2^*",
         "time": "*",
         "title": "Loss",
         "type": "Loss",
         "value": 8823.773371370184
        },
        {
         "bundles": [
          "4"
         ],
         "color": "black",
         "opacity": 1,
         "source": "Devices^Boiler",
         "target": "Useful^Heating",
         "time": "*",
         "title": "Coal",
         "type": "Coal",
         "value": 1692.0611950275118
        },
        {
         "bundles": [
          "4"
         ],
         "color": "#999",
         "opacity": 1,
         "source": "Devices^Boiler",
         "target": "Useful^Heating",
         "time": "*",
         "title": "Gas",
         "type": "Gas",
         "value": 34992.4698378906
        },
        {
         "bundles": [
          "4"
         ],
         "color": "#999",
         "opacity": 1,
         "source": "Devices^Boiler",
         "target": "Useful^Heating",
         "time": "*",
         "title": "Heat",
         "type": "Heat",
         "value": 936.377573284864
        },
        {
         "bundles": [
          "4"
         ],
         "color": "#999",
         "opacity": 1,
         "source": "Devices^Boiler",
         "target": "Useful^Heating",
         "time": "*",
         "title": "Liquid fuel",
         "type": "Liquid fuel",
         "value": 5284.291626036086
        },
        {
         "bundles": [
          "4"
         ],
         "color": "#999",
         "opacity": 1,
         "source": "Devices^Boiler",
         "target": "Useful^Heating",
         "time": "*",
         "title": "Solid biomass & Waste",
         "type": "Solid biomass & Waste",
         "value": 1457.024903908887
        },
        {
         "bundles": [
          "4"
         ],
         "color": "#999",
         "opacity": 1,
         "source": "Devices^Boiler",
         "target": "Useful^Loss",
         "time": "*",
         "title": "Loss",
         "type": "Loss",
         "value": 6467.32347958336
        },
        {
         "bundles": [
          "4"
         ],
         "color": "black",
         "opacity": 1,
         "source": "Devices^Burner",
         "target": "Useful^Heating",
         "time": "*",
         "title": "Coal",
         "type": "Coal",
         "value": 1758.5219604094877
        },
        {
         "bundles": [
          "4"
         ],
         "color": "#999",
         "opacity": 1,
         "source": "Devices^Burner",
         "target": "Useful^Heating",
         "time": "*",
         "title": "Gas",
         "type": "Gas",
         "value": 2986.5601727579638
        },
        {
         "bundles": [
          "4"
         ],
         "color": "#999",
         "opacity": 1,
         "source": "Devices^Burner",
         "target": "Useful^Heating",
         "time": "*",
         "title": "Heat",
         "type": "Heat",
         "value": 250.65878170699347
        },
        {
         "bundles": [
          "4"
         ],
         "color": "#999",
         "opacity": 1,
         "source": "Devices^Burner",
         "target": "Useful^Heating",
         "time": "*",
         "title": "Liquid fuel",
         "type": "Liquid fuel",
         "value": 1067.0030664292601
        },
        {
         "bundles": [
          "4"
         ],
         "color": "#999",
         "opacity": 1,
         "source": "Devices^Burner",
         "target": "Useful^Heating",
         "time": "*",
         "title": "Solid biomass & Waste",
         "type": "Solid biomass & Waste",
         "value": 323.5333892148041
        },
        {
         "bundles": [
          "4"
         ],
         "color": "yellow",
         "opacity": 1,
         "source": "Devices^Cooler",
         "target": "Useful^Cool",
         "time": "*",
         "title": "Electricity",
         "type": "Electricity",
         "value": 8720.971749351173
        },
        {
         "bundles": [
          "4"
         ],
         "color": "#999",
         "opacity": 1,
         "source": "Devices^Cooler",
         "target": "Useful^Cool",
         "time": "*",
         "title": "Gas",
         "type": "Gas",
         "value": 0.7481687655709255
        },
        {
         "bundles": [
          "4"
         ],
         "color": "#999",
         "opacity": 1,
         "source": "Devices^Cooler",
         "target": "Useful^Cool",
         "time": "*",
         "title": "Heat",
         "type": "Heat",
         "value": 0.019093502442770402
        },
        {
         "bundles": [
          "4"
         ],
         "color": "#999",
         "opacity": 1,
         "source": "Devices^Cooler",
         "target": "Useful^Cool",
         "time": "*",
         "title": "Liquid fuel",
         "type": "Liquid fuel",
         "value": 3.0571832381354613
        },
        {
         "bundles": [
          "4"
         ],
         "color": "#999",
         "opacity": 1,
         "source": "Devices^Diesel Engine",
         "target": "Useful^Loss",
         "time": "*",
         "title": "Loss",
         "type": "Loss",
         "value": 19754.351257108527
        },
        {
         "bundles": [
          "4"
         ],
         "color": "#999",
         "opacity": 1,
         "source": "Devices^Diesel Engine",
         "target": "Useful^Motion",
         "time": "*",
         "title": "Liquid fuel",
         "type": "Liquid fuel",
         "value": 8075.252306530737
        },
        {
         "bundles": [
          "4"
         ],
         "color": "yellow",
         "opacity": 1,
         "source": "Devices^Electric Heater",
         "target": "Useful^Heating",
         "time": "*",
         "title": "Electricity",
         "type": "Electricity",
         "value": 9831.216030221975
        },
        {
         "bundles": [
          "4"
         ],
         "color": "#999",
         "opacity": 1,
         "source": "Devices^Electric Motor",
         "target": "Useful^Loss",
         "time": "*",
         "title": "Loss",
         "type": "Loss",
         "value": 835.7536688390624
        },
        {
         "bundles": [
          "4"
         ],
         "color": "yellow",
         "opacity": 1,
         "source": "Devices^Electric Motor",
         "target": "Useful^Motion",
         "time": "*",
         "title": "Electricity",
         "type": "Electricity",
         "value": 5440.450433513658
        },
        {
         "bundles": [
          "4"
         ],
         "color": "yellow",
         "opacity": 1,
         "source": "Devices^Electronics",
         "target": "Useful^Information",
         "time": "*",
         "title": "Electricity",
         "type": "Electricity",
         "value": 3432.7776978905504
        },
        {
         "bundles": [
          "4"
         ],
         "color": "#999",
         "opacity": 1,
         "source": "Devices^Electronics",
         "target": "Useful^Loss",
         "time": "*",
         "title": "Loss",
         "type": "Loss",
         "value": 605.7842996277443
        },
        {
         "bundles": [
          "4"
         ],
         "color": "#999",
         "opacity": 1,
         "source": "Devices^Gas Turbine",
         "target": "Useful^Loss",
         "time": "*",
         "title": "Loss",
         "type": "Loss",
         "value": 7507.124015196207
        },
        {
         "bundles": [
          "4"
         ],
         "color": "#999",
         "opacity": 1,
         "source": "Devices^Gas Turbine",
         "target": "Useful^Motion",
         "time": "*",
         "title": "Gas",
         "type": "Gas",
         "value": 79.11385480140841
        },
        {
         "bundles": [
          "4"
         ],
         "color": "#999",
         "opacity": 1,
         "source": "Devices^Gas Turbine",
         "target": "Useful^Motion",
         "time": "*",
         "title": "Liquid fuel",
         "type": "Liquid fuel",
         "value": 4507.83541799655
        },
        {
         "bundles": [
          "4"
         ],
         "color": "yellow",
         "opacity": 1,
         "source": "Devices^Light Device",
         "target": "Useful^Illumination",
         "time": "*",
         "title": "Electricity",
         "type": "Electricity",
         "value": 283.679148102733
        },
        {
         "bundles": [
          "4"
         ],
         "color": "#999",
         "opacity": 1,
         "source": "Devices^Light Device",
         "target": "Useful^Loss",
         "time": "*",
         "title": "Loss",
         "type": "Loss",
         "value": 3512.6511259310396
        },
        {
         "bundles": [
          "4"
         ],
         "color": "#999",
         "opacity": 1,
         "source": "Devices^Spark Ignition Engine",
         "target": "Useful^Loss",
         "time": "*",
         "title": "Loss",
         "type": "Loss",
         "value": 11068.294844187425
        },
        {
         "bundles": [
          "4"
         ],
         "color": "#999",
         "opacity": 1,
         "source": "Devices^Spark Ignition Engine",
         "target": "Useful^Motion",
         "time": "*",
         "title": "Gas",
         "type": "Gas",
         "value": 45.60694037101406
        },
        {
         "bundles": [
          "4"
         ],
         "color": "#999",
         "opacity": 1,
         "source": "Devices^Spark Ignition Engine",
         "target": "Useful^Motion",
         "time": "*",
         "title": "Liquid fuel",
         "type": "Liquid fuel",
         "value": 2894.5570644614327
        },
        {
         "bundles": [
          "3"
         ],
         "color": "#999",
         "opacity": 1,
         "source": "__Power Plants_Useful_2^*",
         "target": "Useful^Loss",
         "time": "*",
         "title": "Loss",
         "type": "Loss",
         "value": 57463.143731553006
        }
       ],
       "margins": {
        "bottom": 10,
        "left": 130,
        "right": 130,
        "top": 25
       },
       "nodes": [
        {
         "direction": "r",
         "id": "inputs^Gas",
         "style": "process",
         "title": "Gas",
         "visibility": "visible"
        },
        {
         "direction": "r",
         "id": "inputs^Liquid fuel",
         "style": "process",
         "title": "Liquid fuel",
         "visibility": "visible"
        },
        {
         "direction": "r",
         "id": "inputs^Coal",
         "style": "process",
         "title": "Coal",
         "visibility": "visible"
        },
        {
         "direction": "r",
         "id": "inputs^Nuclear",
         "style": "process",
         "title": "Nuclear",
         "visibility": "visible"
        },
        {
         "direction": "r",
         "id": "inputs^Solid biomass & Waste",
         "style": "process",
         "title": "Solid biomass & Waste",
         "visibility": "visible"
        },
        {
         "direction": "r",
         "id": "inputs^Primary Electricity",
         "style": "process",
         "title": "Primary Electricity",
         "visibility": "visible"
        },
        {
         "direction": "r",
         "id": "Power Plants^Power Plant",
         "style": "process",
         "title": "Power Plant",
         "visibility": "visible"
        },
        {
         "direction": "r",
         "id": "Power Plants^Transformation",
         "style": "process",
         "title": "Transformation",
         "visibility": "visible"
        },
        {
         "direction": "r",
         "id": "Devices^Boiler",
         "style": "process",
         "title": "Boiler",
         "visibility": "visible"
        },
        {
         "direction": "r",
         "id": "Devices^Burner",
         "style": "process",
         "title": "Burner",
         "visibility": "visible"
        },
        {
         "direction": "r",
         "id": "Devices^Cooler",
         "style": "process",
         "title": "Cooler",
         "visibility": "visible"
        },
        {
         "direction": "r",
         "id": "Devices^Diesel Engine",
         "style": "process",
         "title": "Diesel Engine",
         "visibility": "visible"
        },
        {
         "direction": "r",
         "id": "Devices^Electric Heater",
         "style": "process",
         "title": "Electric Heater",
         "visibility": "visible"
        },
        {
         "direction": "r",
         "id": "Devices^Electric Motor",
         "style": "process",
         "title": "Electric Motor",
         "visibility": "visible"
        },
        {
         "direction": "r",
         "id": "Devices^Electronics",
         "style": "process",
         "title": "Electronics",
         "visibility": "visible"
        },
        {
         "direction": "r",
         "id": "Devices^Gas Turbine",
         "style": "process",
         "title": "Gas Turbine",
         "visibility": "visible"
        },
        {
         "direction": "r",
         "id": "Devices^Light Device",
         "style": "process",
         "title": "Light Device",
         "visibility": "visible"
        },
        {
         "direction": "r",
         "id": "Devices^Spark Ignition Engine",
         "style": "process",
         "title": "Spark Ignition Engine",
         "visibility": "visible"
        },
        {
         "direction": "r",
         "id": "__Power Plants_Useful_2^*",
         "style": "group",
         "title": "",
         "visibility": "hidden"
        },
        {
         "direction": "r",
         "id": "Useful^Cool",
         "style": "process",
         "title": "Cool",
         "visibility": "visible"
        },
        {
         "direction": "r",
         "id": "Useful^Heating",
         "style": "process",
         "title": "Heating",
         "visibility": "visible"
        },
        {
         "direction": "r",
         "id": "Useful^Illumination",
         "style": "process",
         "title": "Illumination",
         "visibility": "visible"
        },
        {
         "direction": "r",
         "id": "Useful^Information",
         "style": "process",
         "title": "Information",
         "visibility": "visible"
        },
        {
         "direction": "r",
         "id": "Useful^Loss",
         "style": "process",
         "title": "Loss",
         "visibility": "visible"
        },
        {
         "direction": "r",
         "id": "Useful^Motion",
         "style": "process",
         "title": "Motion",
         "visibility": "visible"
        }
       ],
       "order": [
        [
         [
          "inputs^Gas",
          "inputs^Liquid fuel",
          "inputs^Coal",
          "inputs^Nuclear",
          "inputs^Solid biomass & Waste",
          "inputs^Primary Electricity"
         ]
        ],
        [
         [
          "Power Plants^Power Plant",
          "Power Plants^Transformation"
         ]
        ],
        [
         [
          "Devices^Boiler",
          "Devices^Burner",
          "Devices^Cooler",
          "Devices^Diesel Engine",
          "Devices^Electric Heater",
          "Devices^Electric Motor",
          "Devices^Electronics",
          "Devices^Gas Turbine",
          "Devices^Light Device",
          "Devices^Spark Ignition Engine",
          "__Power Plants_Useful_2^*"
         ]
        ],
        [
         [
          "Useful^Cool",
          "Useful^Heating",
          "Useful^Illumination",
          "Useful^Information",
          "Useful^Loss",
          "Useful^Motion"
         ]
        ]
       ],
       "png": "iVBORw0KGgoAAAANSUhEUgAAA4QAAAJYCAYAAAA6xSjbAAAgAElEQVR4nOzdeXwU9f0/8HcwSLjvU0ShaLHgfdS7trV+tVoLilatB7bWC0VK5acWWgIIBINAQrLzfm8SEkhIsoEIAiqX3MgVCPd9g5iQ+yIhIfv5/TGzdQmbe5LZJK/n4/F+KLuTzczOfGbmnc9n3h8iAAAAAAAAAAAAAAAAAAAAAAAAAAAAAAAAAAAAAAAAAAAAAAAAAAAAAAAAAAAAAAAAAAAAAAAAAAAAAAAAAAAAAAAAAAAAAAAAAAAAAAAAAAAAAAAAAAAAAAAAAAAAAAAAAAAAAAAAAAAAAAAAAAAAAAAAAAAAAAAAAAAAAAAAAAAAAAAAAAAAAAAAAAAAAAAAAAAAAAAAAAAAAAAAAAAAAAAAAAAAAAAAAAAAAAAAAAAAAAAAAAAAAAAAAAAAAAAAAAAAAAAAAAAAAAAAAAAAAAAAAAAAAAAAAAAAAAAAAAAAAAAAAAAAAAAAAAAAAAAAAAAAAAAAAAAAAAAAAAAAAAAAAAAAAAAAAAAAAAAAAAAAAAAAAAAAAAAAAAAAAAAAAAAAAAAAAAAAAAAAAAAAAAAAAAAAAAAAAAAAAAAAAAAAAAAAAAAAAAAAAAAAAAAAAAAAAAAAAAAAAAAAAAAAAAAAAAAAAAAAAAAAAAAAAAAAAAAAAAAAAAAAAAAAAAAAAAAAAAAAAAAAAAAAAAAAAAAAAAAAAAAAAAAAAAAAAAAAAAAAAAAAAAAAAAAAAAAAAAAAAAAAAAAAAAAAAAAAAAAAAAAAAAAALxBFRKpMlBDRPiJ6w7rVqrYoqvp2pBPR2DpYh5eI6PU6+FxoWHbR1cdiIRFtJaLf1+DziojoU7d/19XxCwAAAABNUBQR5RHRW27xERFtIv1G9kXL1qx6oqjq21FXN9SLiGhVHXwuNCy7iCiZiF414nUi+piIzhDRJSLqW83PiyWiwW7/RkIIAAAAAKaJIv0Gsyw/IjpFRBvqc2WqwIeIfD28HkVV3w4khFCXdhHRUg+vP0T6Hyc+rOXn1/b4La8NAQAAAEATFEWeEykiogVE9KPbv32JaDwRnSa9p2M/Eb3p9v4KIkpy+/ddpN8AR7i99rjx2o1urw0nosOkD43bQ0R/LbMe6UQ0goiEiAqIqH8tt6PsDbUfEc0gorOkD+07SkT/Jf3G2aWI9B7HMCLKMNYjkYg6GO+XHSbYpZx1gcavvIRwIOnHxt/dXqusTRFVbcioGW0IAAAAAJqgKCo/kdpCVyZ4EaTfcI4joiGkJ1GlpA+HIyIaTfpze62Nf39A+g3wYbfPmEB6wuUyhoicRBRMRM8R0Uzj3++4LZNORKlEtJaI3iOidrXcjrI31CFElEZE/yA9YR1nbNfbbssUkZ4sziCiQaQ/L1hERNON939lrN9WIrqH0APTlO0iomWk/7GgAxF1IqJbjdfO089/RCCqvE0RVZ4QmtWGAAAAAKAJiiK9x6uHWwwgokmkJ3OuG9MBxr/fK/PzGhHlElELIrrDWOa3xntxRPSD8VpX47W1RGQz/r8L6Te7M8p85lzSe+tc0kkvDnONCdvh+jz3G+pvPGzXVtJ7A12KiGhNmWXmE9F2t39jyCgQeS4q44rhbstVpU0RVZwQmtmGAAAAAKAJiqLyb16Xkj6ckujn3r62ZX7+KeP1u0kfYplKeo8FkT4M7i+kF3sZTPoNbiH9XCBjqNvPunvOeL238e90IgowaTtcn1d2yF0zIrqFiJ4molHGOke5vV9ERJ+V+ZkQIjri9m8khECkJ4Sbiegxt/gz6b2B7klhVdoUUcUJoZltCAAAAACaoCgiyiGiJ93iD0T0yzLLTSSiLA8/7yqU8aDx71jSe9x6G693I/3ZwmlE9AgRXSai9sayw41lLnsIRUS3G8tVpYhGVbfD0+cNI33IqCL9WcNvSO9diXJbpoiIRpb5nBAiOub2bySEQFT+M4REREtIrzZKVPU2VVFCaGYbAgAAAIAmKIrKf/bO3f8j/dmm5mVef4X0G8/rjH+/SfrQzZeI6JDx2hjSe0zGkj6E1OU142f/SPpzeWXD1atX1YSwKttR9vNuJv3m2U5End2W2UZICKFmKkoIvyT9ePOhqrepihJCM9sQAAAAADRBUVS1RMrVa/FCmdcXEtFB+rkip6tncAX9/AzeI6RXUNxARP5uP9uX9OIX7sVbiIj+ZSzret6pLhPCwcb63uL2fjvSexuj3F5DQghVVV5C2MJ4b5/x76q2qYoSQjPbEAAAAAA0QVFU9URqJenFLj4momdIL2ThafL6g8brrxv/dj07qEi/CXZnJ/15vc9If+4pkIiKSa9Y6lKXCeGNpCerkaRXgnyG9IIy6aRvbw9juaokhK5CHn8momuruC7Q+Owiot1E9JZbfEp6pduy7aUqbaqyKqNmtSEAAAAAaIKinnjiiYtTpkzxd0UFy7YlIib9ebtLpM939pqH5YJJv6nt5/baGtJvfMtOx3AN6b2G50i/8T1EV0/cXZcJIRHR86RPhVFIejL4ZyJ6mfT52iYZy1QlIXyM9KI6BUTUsYrrAo3Prscff1y5B+nHxFbSjzV3VWlTlSWEZrUhAAAAAGiKAgIClHtYvT4ADR3aFAAAAAA0GLh5BTAX2hQAAAAANBi4eQUwF9oUAAAAADQYuHkFMBfaFAAAQB1yL34xbdq0JSLyNgKBqHmUvXkVEUYgEDUPDwnhq6RPL/FnInqSiH5L+sTzd5M+X+BNRHQD6VVtOxJRK0susAAWUoraKkX9laJ7lKJHlKLHlaJnlKKhcXFvJSYk/H3R1KlTx02dOnWchx9vRnpF382kFzArJKK9RPQJXT3Xp1lQrAnAKh5uXpMQCETNo2ybYuY8Zs4RkWwRyRSRDGZOF5ELInKemc+IyAlmPiIiB0Rkt4jssHo7EAgrIigoaOe0adOSAwICdk2cOHHPuHHj9npICJNqGOuJ6CvSK5F+Tnql21eJ6P+I6C4iup70aV0AGgSl6Hoj0XtHKfJXimxK0QKlaKNSlFReVNLr3oyIFpBe3XoN6Ung/yN9Tk8nES2jn+fkNBMSQgCrICFEIMyNsm1q//7fpCcn/yEtKemZ1C1bnv9p48aXf1yz5o2zK1a8c+bbbz88tWjR6BPx8eOPzZ4985DoCeEBETnAzFuZeQkzhzPzZJvNNpKZX7bZbI/bbLa7EYiGFCNHjnzs0Ucfff3OO+8c0b9///9ef/3107t37z67U6dOiW3atFndsmXLHddee+0BT2FiQljVWEf6DTET0UTSp50YQkS3E1Hrur8yA1xNKbpJKRqsFH2iFIUrRRsqSvpqkRCOIj0Z/JeH1fib8d47dbCJSAgBrIKEEIEwN8q2KafTZ6fT6ZPsdDbbVVLiu6ekpPne4uJr9xcXtzhQWNjy6MWLbU8WFLQ/m5fX6aesrB6pP/3U/6ejR+9N27fvt+e3b3/2zPr1fz2+bNl7hxMTx+xz+z3rRCTIZrO9ERYWdpvV5xGAMroS0aNE9DYRTSeib6kWCVrZNmWz2TaFhoauDQ4OXjVz5sxl06dPX/rFF198PXny5MQJEybMHzdunOOzzz6L+9e//hU7YsSIee+++27Mm2++GT1kyJCYRx55JP6WW275qlu3bitrsU7fkj5v5kgiepaIflWXXyY0TUpRM2O45yilaFFNk79qJoQ+RHSeiH6oYNUSiegLt3/7EtF4IjpN+vyf+4nozTI/U5VlkBACWAUJIQJhbpRtUzW9YJeWNttVXHztgcLCVscKCtqd1hPG7hdOnLg9JSnp6bMrVrxzJDb2891uv5s1TXuHme+x+rwCTc5dpN/cBRHRKqpmgtW6dev1vXv3/mbQoEGJ99xzz/yHH37Y8bvf/S7uySefjB08ePC8urxOhYaGrvvyyy+/mThx4vzRo0fHvvnmm9F/+tOf5j3wwAOO/v37L+7UqdP31diWuaQPrxtMRDfXyzcPjYpS1EIp+r1SNEkpWmtmEljFhPBXpPcA/r9qrHYEERUR0TjSe9JnEFEpEX1czWWQEAJYBQkhAmFulG1TJSW+e0tLm+1yOn12mnUxLy313V1U1Opofn7HH9PTr08/fPiB1B9+eP70kiUfHQwLm7WDmTcw80y73f5iaGjo9VafZ6BRaUdEjxHRCCKKpCokSh07dtx09913L3rxxRejhw8fHjN27Nj4qVOnLgwKClpRkzZlQbveMmPGjG/Hjh0b+/rrr0c/9NBD8T179vyuKttORLNJH3L6KBG1qa+dBA2HUnSNUvSwUvR5bYaBmpQQ/oH0hHBoFVd/gLH8e2Ve10gvRtOiissQISEEsI4XXGgRiEYVZdvUTz/9IufChRtz09Ovy8/O7l6QldUtPzu7W052dtfMnJyu6bm5nVPz8zv+WFDQ7nRhYZvjly75HSoubr7P6WyWXL0EseWR/PyOP2Znd8s6dOjB1NWr3zgeHR2wS0SSmHmRiHwqIg9bfc6BBqkjEb1E+l/5t1M5yU/z5s13DBgwYOdTTz31/bvvvvvthAkTls+aNWur2W3K6jbuHtOmTVsyevTo2GeffTa6f//+i8v7btwijohGk17IpmO97kXwKkrRHUrRp0rRqvpIAquYEP6W9OTtpSpuxgfG8m3LvP6U8frdVVyGCAkhgHW8+UKLQDTEKNumsrO7ZmZldcvOyuqem5nZMz8zs0dBVlb3gqysbhcvXLg+7/z5m7LPnftl1pkzv8o6c+aWrHPnbs5OSemXk5bWOy8zs2d+Vla37JycLmn5+e3PFhW1PFJa6ru7CgninosXW5/Ize2cevr0oLTNm587nZj42T4RSWLmNcw81maz3V35GQKasLZE9BzphVW2UTkJzvXXX79h8ODBS8aMGbM8ODh4Z320KavbeGURGBi46KOPPpr35JNPxt5www3flPfdGfEVEfmTPoVG33rdw1DvjCGhzym9Emi9JoFVTAh/SXqS9lkFm/Eq6UkekV50KcvDMg8Zn/NgFZchQkIIYJ2GdqFFILw9KnuG0On02Vla+r8CM/suXWpxsLCw1bGLF9ueys/vcC43t3NqTk63jKys7rkXLvTJO3NmYObRo/deOHr0ngunT9+afuHCDblZWd1zcnM7pVy82PZkcXGLA0rRjvIu/E4n7bh0ye9Qfn6Hc6mpfdJ37Xr8x8WLRx0QkSRm/oaZPxKRAVafi8BrPEV6wZTynvdb/vvf/z7yk08+SQgODt5gRZuyuo1XNzRN2zhlypSv3nvvvehHH300vlu3bsvL+35JfwYzgIj+QkT9633vQ51QijorRe9a0RtYzYTQh4hSiCjZ+P+yWhJRGunDxYn0Zw1L6eq5CV8hPdm7rorLECEhBLBOQ7/QIhDeFmYVlXElcyUlvnuKi1scvHix3anc3M6pWVk9clNTb8w9e/ZXmWfODMz46af+2RkZPfOzs7tkFBS0P3PpUouDFX1mcXGLA/n5HX88d+6XGZs2/eXknDmBrmGl8cw8NDg4GPOwNT23ENGnRLSWPD8DuHjo0KERU6dOjReRLVa3KavbuBlhs9nWjx8/PmHIkCHRvXr1quh5xKXGvnmMiPzq+biAWlKK+ipFE6xOAKuREBIRjSE9UfvAwyZNJz25c/XquXr5Xiiz3EIiOkh6UlmVZYiQEAJYpzFeaBEIK8PMhLC8KCnx3VtY2OqY/sxg18zMzB75KSl9c8+f75994UKfvKysbvm5uZ1TCwvbHC8p8d1TXrJZVNTySG5u59QDBx7+6ZtvPjgsIknM/L2maR9omtbN6vMT1Kk2pPdCxdLVScj2nj17zn/ttdfCZ8yYMZ+Zt3tTm7K6jddFzJo1a/moUaNiHn744Tg/P791HvZJEhFtJqJQ0ntWbqj/QwaqSinqohSNU4q2WZ381SAhbE5EK0hP4laRnqSNJaKNxmsTyyy/kvTiMB8T0TOkVxBVRPRiNZdBQghglaZwoUUg6jPqIyG8Ornz2ekaFpqd3S0rM7NnwblzN2efPfurzAsX+uRlZ3fLys/vcO7SJb9Dnn++WfLFi21PpqT0vbB16+DT8+ZNdk1nMUlEbrX6PAWmuoH0Z9Y8FYX5fsiQITxjxoz5VrejitqU1etTHzF16tSFr776anS/fv2WeNpXRiwi/Qb7ofo/jMATpai1UvShUrTJ6qTv6j8kNt976VKLg0VFrY5WkhAS6fMG/ouI9pA+XUQuEa0jz9VH25L+rHEa6XMM7iGi12qwDBJCAKs0xQstAlGXYUVCePWF33dPYWGb47m5nVMzM3vknT37q8xjx+5OO316YGZWVvecgoJ2p53OZrs8/eylSy0O5uZ2Stm//9GfEhL+s8/YrihmfsDq8xXUyi1ENI2urhK67eabb5776aefhjFzvTwTWNs2ZfX61HeEhoauHj16dOxvfvObuNatW5fXe7iRiGaSPiyvhwXHV5OnFL2kFH1vVcJXVNTyaF5ep5SsrG7ZGRm9Lqan9y5OT+99OS3temdaWh/n+fM3qbNnb3GeOnW7Mzx8lAoL+1hNmTJl7ZQpU9Za/d0BgMWa+oUWgTA7vCEhdA9XUZmCgg5ns7K6Z588eUf6kSP3pqWk9MvJyel8obxew9LSZrsKCtqdOnTo/pMOx3/3ikgSM4cLCtA0NL8m/S/zZXsDVzz33HO24ODgRKvbTHXblNXrY2VomrYtICBg4auvvhrdt2/fxVT+NCALiGgkEd1Lem8P1BGlaJBStLC+zumlpc125+V1PJ+V1T0nPf26orS03pfT0vo4z5wZ6Ny37zfObdsGl65d+0bp0qUflToc40ojI6eXishlZi5h5mJmLhKRfGbOtvq7AwAvgQstAmFueFtCWDaKi1sczMvr9FNaWp/cY8fuSj9x4o70zMxeWRcvtjtVWuq517CwsM3xo0d/fSoxcYxr6oqZoaGhqIDo3e4nonlUJlFo0aLF8r/97W+hIrLS6rZS0zZl9fp4U4SEhHw/evToeY888khcy5Yt15fd30asJ713eDARdbXiYGyMlD6FxL/q47ydn9/hXGZmj3xX8nfo0APObduGlK5Y8XbpggVjLkdEBF/WNK1ERDKZ+bimaZtEJErTtH+KyF1Wf1cA4OVwoUUgzA1vTwhd4XT67CwsbHM8J6dLRkrKL3KOHr33wpkzAzNyczullJRcu+/q5WlHYWHrE0eP3nfuq68+dSWGASEhIShu4V26E1EglUkKWrVq9fU777wTomnaGqvbSG3blNXr463BzFunTJny1csvv+zqPSzv2cM40itI3kFEzSw4Rhs8pU8qv6Suzs+lpT67cnK6pKWn9y5OS+vjPH78Lufmzc87v/7648sRESGXRe/hO6lp2koRmTBr1qx7rP5OAKABw4UWgTA3GkpC6B4lJc335ue3P5ue3jvrwIGHU44evSctN7fLBU9TWDidPjsLCtqdPnLkvvMOx7i9zLyVmT+LjIzsYPX5rInzJaI3SX+W7H83/23atPlqxIgRocy8zuq2YVabsnp9GkqEhISs+vjjj+c98sgjcX5+fuX1Hq4hfd7DZ4gIbbgSSpGfUjS2rs7FeXkdz+vDQK93Hjr0oHPZsndLo6KmXxaRS5qmnWLm6MjISBT6AgBz4UKLQJgbDTEh/DnZox2FhW2OZ2V1zzpy5N4LR4/enZad3TW9qMjvsIfEMDkvr+PZ5OQnzkVFTUtm5o0i8lZkZCTmSqt/95BecdJ9aOiqd955J4SZ11vdJsxuU1avT0MMZt4aEBCQ+NJLL0XfcMMNS8lzcridiKKJ6F0iGkSeJyZvspSim5WiRXXxB7nMzB55aWnXO0+evN25fv2rpXPnTi0VkUsisi0sLOx1q7cdABo5XGgRCHOjISeE7lFY2OpYdnbXrJMn70g/evSeC1lZ3TOKiloeKbtcaanv7qys7mc2bHjpRFiYLYmZl2maNsTf3x9D0epeFyKaRG439T4+PkmDBw+ONIaSWd4e6qJNWb0+jSGCg4NXjRo1at5DDz0U36JFi/J6D1eRPufck0TUzpIj3EsoRW+ZfY69dMnvUEZGr4tpaX2cyclPOBcsGOMq/HJcRP5t9TYDQBOCCy0CYW40loTQFUVFLY9kZ3fNOnHizrTDh+9PyczsmekpMSwpab4vJaXf6W+/HX5YRJKYeb7NZnvE6nNcI/YCEa0ltxv4hx56aEFQUNB3VreBum5TVq9PYwtm3jp58uTEl156Kbp3797l9R5uI6LZRPR3ImoylYaVoh5K0Rxz/9jW5nhGRu9Lqal9VVLSM86YmCmlIpJvs9nmTJ8+vZPV2wwATRAutAiEueEhIYxRiuYpRXFKkUMpmq8UfaUULVWKVlqd8FXjr9mHs7O7ZBw7dk/aiRN3pefkdEkrKfHd42m5kydvPxkf74+pKurGL4hoDrndrPfr129FQEDAt1Yf+/XVpqxen8Yes2bNWjlq1KiYBx54wNGiRYsN5DlBXEZE/yWi3xNRa0taQh1Tiv6oFK0z6xxaXHzt/oyMXoUpKf3U1q3Plc6dG1gqImc1Tfun1dsKAE0cLrQIhLlRgx7C75WiBKUoTCmaoRR9oRQFG0nkWqsTwav/ut3yaFZW95zTpwdlpKT0y8rPb3/W6fTZWXa5ixfbHNu+/U8HjWGk25l5soj0tPqc14C1IL0y5Bb6eS7BrW+99dZ8TdO2WX3c12ebsnp9mlK4eg9ffPHFinoPtxCRENHrpP/BokFTitooRdPNPG9mZXXPuXDhRue2bX8ujYqafpmZd4SGht5h9bYCABAREkIEwuyogyGj3yq9V9Gh9IIG661OCp1On535+e3PZmb2yD958raMjIzrsoqKWh31tFxmZu+k+Hj/7SKSxMybmXlUREREW6vPfQ3M7UR0xc34gAEDFgcFBa2y+ni3ok1ZvT5NOWbNmrVy5MiRMffff398ixYtrqho6xZLiegzInqUiBpUkSmlTyexzKxzZX5+p/NpadeXJic/4YyJCbgsIkcwRQQAeB1caBEIc6OeniH8RimarRSJUjTXqsSwpKT53pycLmkpKb/IOXXqtvTs7C4ZxcXNr5rD8PLla7bv2vV/iSK2bSKSxMxrmPn1NWvW+Fp9DmwAXia3XsGWLVv+MGLEiAVWH+dWtimr1wehBzNv+fzzzxcMHTo0unfv3t+S5+RwMxGFEtErROTVc5YqRSPNPDdmZFx36fDhB5zx8eNLNU07z8x/tHobAQA8woUWgTA3LCoqs8QtOfyhvhNDt2GkmefP35RVUND+jKflLl1qHedw+M92+76W4iapXH5E9AW53VzfddddC2fNmtXgp5GobZuyen0QnmPWrFkrRo4cGXPfffc5mjdvXl7v4SIiGk1EDxJRc0taVhlK0Y1KH4VhyvkwN7fLhZSUvs7Vq4eVimhFIvIvq7cRAKBCuNAiEOaGF1QZXa4UhSu9mE29/V59wvoOZzMzexScPj0oIzu7S4anojNK0bozZwb+k5njXd8ZM8drmnan1edDL9KLiOaTW4XHv/3tb7HMvN3q49sb2pTV64OoPDRN2zxx4sT5Q4cOje7Zs2d5vYcbiWgm6RVze1jR0JSiV8z6I1px8bX709N7Fx8+fL9z7tzJpSKyD1VDAaBBwIUWgTA3vCAhdI/vlaIopWhhff3O4uJr92dnd8s6e/aWrPT063OKilodK2fZmQkJY4eKyFLXd8fMwZGRkTdafV602INEtI6Mm+Y2bdqsCQgISLT6uPamNmX1+iCqH8HBwctHjBgRc9999yU0b958E3lOEBcQ0UgiupeI6nQ4uVLURSnSzDrv5eV1+ikt7Xrn6tVvljIzegUBoGHBhRaBMDe8LCF0j6+VomilaE09/K4d+fkdfrxwoU/e2bO3ZOXmdk71VIlUKfo2P7/D7cz8uoisFZEkTdO22e32/4pIF6vPjxZ4l64sHPNVSEjIaquPaasD16nGFcz8w8SJE+cPGTIkumfPnt+R5+RwPRFNI6LBRGTquUApetis82BpabNdGRm9Co8fv9MZGzv5sogc9vf3b4rnLgBoyHChRSDMDS9OCN1jvqqHXsNLl/wOZWV1zzl16taMzMwe2cXFLQ54WG6zUvSXiIiItsw8ipk3i0gSM2+02+3vi0grq8+T9cCXiCbRzzfD21966aV5jX06iZq2KavXB2FuBAcHL/vwww9j7r333op6D+NIn3blDiJqVpNGphS1VIrGmXV+u3ix7cm0tD6lmze/UGq3h5bY7fbJJpwLAADqHy60CESNYgcz7xSRZBHZJSK7RWSPiOz1kBA6lD4pfazSn+tzRbxStEDpBWFWKQuKwShFiaqOq5Q6nT7JubmdUs6duyk7JeUX2fn57c+Ws2yAUuQnIj2ZebLb83Ir7Xb7iy+88MI1Vp8v60gbImIybnx9fHySxo4dG+sFx7jXBK5TTSeM3sOEIUOGRHfr1q283sM1RDSFiJ4hog5VaWRK0S3GudaEcxrtyMzskXfmzC1qwYIxl5k5IzIy8ta6ODkAANSLshdau90ebrfbNbvdHszMXzJzgKZpE0TkUxEZISJvIxBNIP7JzONFJEhE5orIYhFZJyJ7NE07JSKny4ta9hBuVvpcg3OUogilT06/qh4SwwVKf56mzpLSoqJWR9PTr885duzO9Jycrumlpc12lbMe/YiIRGQAM4fLzzeKC8PCwn5n9TnTZF2JKJGMG90WLVqsnzp16nyx6GbcWwMJYdONmTNnLhs+fHjM3XffPd/X1/cHujo53E5E0aQPtx5ERD7uDUwpukYpelcp2mrGeezSJb9D6em9L+/e/URpRETQZbvd/k19njAAAOpEDS+0y5nZwcyhzPwxMw8VkbuCg4PbWb09ANURGhraQ9O0h0TkLWb+gpkTmHmjiCQFBgbuGjNmzL7hw4cffu21144PHjz49O9///vz991334W77ror/dZbb00dMGBA6k033ZTSr1+/1D59+qRcd911qXUwZHSD0nvxROk9i2vrMDFcoj0XaskAACAASURBVBSFKUVb6uLzS0ub7c7O7pZx5Mh9F9LTe+eUM4R0o1L0v8SPmR9l5v8lSZqmzQ0JCRlo5XFjkv5EtJyMG9v27duvmDFjxlIzbqIbWyAhRIhIkqZpP4wfPz5hyJAhMd26dVtGnnsPVxHRRCJ6MiGBfqlMrLacnd0l46ef+ju/+254qYgU2O32Zyw6dwAAmMvsCy0zrxIR1jTtHWa+JyEh4VqrtxHghRdeuCY8PLy/zWZ7WkRGMrPGzN+LSNKYMWP2DRs27NhTTz117p577km7+eabs7p3757bpUuXjE6dOv3Uvn37M61atTrWokWLg76+vrvJ803I/6KeniFcrxQtVYpWKEWeetpqG64CNNvN/mynUy84c+LE7Rnnz/8ip6Cg3elylv1UKb3SoL+/fzNmfo6Zl7mdawKDg4N7W3VM1dKdRLSBjGOmV69eX8+aNWul1Tfc3hpICBGeIigo6Lv3338/+s4775zv6+u7mdzOw6+9Rsd27KDc48cpLTWVThYU0L6anrNKSnz3pKf3Lj5y5NfOuXO/uKxp2m5pGs82A0BTUR8XWma2a5r2DuYZg/oUHh7eX9O0vzJziIhsCgoK2vnJJ5/sf/XVV48//vjjP956660ZvXr1yu3SpUta+/btz7Zq1epo8+bN9/n4+CRTJUlfRWFBUZmdSp978Cul966Z+dmJSlFCXax3UVHLI+fP9888efLO9NzcLhdKS32SPSwXoxR1d+3TyMhIPxF5m5k3GOeXLcz8SWRkZJWeI/ISd5A+/1oSESX179/foWlak5tsvjqBhBBRWbh6D19++WlHdHTHU/v3U37ZOHyYss+epR+zs+lwaSl5qnp8VRQUdDh74cKNznXrXisVsRXb7fZPLD5/AACYr74vtMy8RkQ+Z+YnQ0ND21i9/dB4REZGdrDb7U8x83hmXhYUFLRzxIgRh/70pz+due222zK6d++e3blz59R27dqd9vPzO1yV3r6ahBdUGV2o9CI2Zj4POE8pWmn2upaU+O7NyOidvmvXH85lZfXILi6+dr+H5dYqRQ+U3dci8m9m3mqcW9Yx89+Dg4Nb1MOhVhu3kl5OP4mIkm6//fZo1xBlRPmBhBBRlYiICDoQHz8+JyHBP3/p0g9zNm58Kj05uV/m/v3XXJUc7t9P+SdO0IULF+hEYSHtLXvecTp9dmZk9Lx46tRtzvj48aWapp2fNWtWX4vPHwAAdcPqC62maWHM/Ko0zTnHoJbCwsJuY+YPmTk+ODh450cffXTo2WefPXPnnXemd+/ePatDhw7nWrZsebRZs2a7qA6SP0/hISHcqPQ5r1YoRd8qRYuVXjgmXunPBkYqffL4eUrRMhMTro1KL04zV5lTUGGN0p9jNPv5wh05OV1/3LjxpZMpKb/ILixsfcLDMtuVouFKXVkwQkT6aJo23XU+YebvmPnPVKawhJcYQG7J4K233pqgadpmq2+iG0JYfZ1CeHvwjujoqWcTEvzzPcWCBf/OW7nylYytW+/N2Lu3XXZ5vYfnztG5nBw6VFDQ6kRa2vWl27Y96wwLm1XCzLEWnzsAAOqWt1xojRLzomnakIiIiLZWfy/gvUTkVhH5p4gsnTp16q5XXnnlxN13353WtWtXVwJ4pFmzZrUa9lmbMKGHcKmRJIYqRTalT1dR26QrXikKUeZMxhxthKm9hYWFrU+sXv3G4ePH70rLze2UohTt8LCcKHV1mfmwsLDbNE2b63Y+idc07aG6OQJrZAARrSXjGBk0aNBXSAarHt5ynUJ4X4SHz9obHz8xs7xk0FMsXfpB9qZNT6bv3Nkva//+ZnnuieGePb6XN23yU++9d4fzzTffvPjmm2/+xdpTBwBAPfDWCy0zz2yEJeahhsLCwm4TvRjMN9OnT08eNmzYsXvvvTetS5cuqa1atTpa2+f+zIw6GjK6VP08j2Fthm6uUnoV0RW1XJ9NRsJqam9hcfG1+9aufX3n1q1/PpOV1S2rpMT3qqFcSu9F9TjnFzP/gZkXuZ1LhJlvMvdorLb+pM+blkRESQMHDlxis9m2WH2ObUjhrdcphLUxd+60EwkJ/nnVSQY99R6uWvVKxrZt92UnJ3dxRke3cQ4a1NvZo0ePPCLaYbTbRUQ0mogeJKLmlp1JAADqirdfaJn5K2Ye2gCeDQKTaZp2nehJ4LLg4OCdb7/99pEHH3wwtVu3bqlt2rQ57uPjs5O8IAEsG/X0DOEGpReRWVyLpCzC+PnarEes0ofBmrZtpaU+yVu3Dlm1ZMlHhy5cuCGnqKjVUQ/LbVGKXvV03Pj7+/sy88tGxWPX6IPPZ86c2d3T8nWsMxH9rzz+r371q2U2m22rFefShhzefp1C1G/Y7bZdcXGTLtQmEXQPh8O/2OGY4IyKmuEMCgoqHTFixNbbbrst8ZprrtlCV5/jNxLRTCJ6gYh6WHBOAQAwX0O50DLzKmZ+t4FVE4Qa0DTtIWYOZubtn3zyyf7f/va357t37+5KAr2mJ7C8sKCozDalyKEUzVI1qwjqUIq+q8XvX6sUhZu9Xfv2PRYZExOQfPr0oMy8vI7ny1kuSClq6ek4CgwMbM3MH4rIJuMc8oOIjAwMDGxt1rFaCT8iinMdFzfddNPK0NBQ9AzWIBrKdQpR9xEZOfOQwzE+15xkcFyBw+FfGhc3yRkWZnMycxEz73L9LmbeMG7cOMfTTz8d06FDh5XlnPMXENFIIrqXSJ8mBwCgwWloF1pm/oGZP7bZbB2t/u7APCLSStO0l5h54axZs3YMGzbs2MCBA39q27btqfosCGNGlG1TCQn/TUhM/Cxu8eJR8777bnjMqlVvxWzaNDTm4MGHElJS+i4pKmq93sREaq2RJFV3cvkflN5jWJvhqLOVos1mJoVnztwyNjw8ZF1y8hPncnK6ZJSWNtvtYbmvlaJflHdszZw5s7tReXa7cQ5Zzcyvrlmzpq5v3ma4jokuXbqsDgkJ2WDVebOhR0O7TiHqIrSdMTFTzpvXKzjuksMx3jl37jSnCDtFJKWydZg+ffrSt99+O3rQoEELfHx8PJ3/NxLRNCIaQkR96vj8AgCN3B+JaCURZRFRIREdJyIm/TkU0zXUC61Rqn3kjBkz0GPYgBnDQkeLyLpJkybtfvrpp8/26tUrpWXLlkfJC5K7mkRN2pTdbtsQFfXlkvnz/xO3du3rcw8deiQ+I6NnbXrtkpSi+Up/zq86zwt+b/xMTX/nN7VMKq+KrKyubzBzzIoV7xxJT++dc+mS3yEPy21Siv5c0bFms9n6ic51DlnMzE/W/Oit0Aeu48HPz2/DzJkzl1l9zmzI0VCvUwhzIiIieH98/IRs83oFx1+Oj//cGRER4mTmEhE5UN11stlsG8aOHRv/xz/+cV4FvYffEtHnRPQ8Ed1YR+caAGiE/IlIEdE+IppIRJ8R0WwiyiaifNKHJJiqoV9oXYkhKpM2LGFhYX1d0wV88MEHh++7774LHTt2PH/ttdfuJy9I6moTZrepqKhpi7/9dnjMoUMPOIqL/dbVIKlarhQFK/2Zw6r+zNdKnxqjJknchmr+rspi++XLLZ5h5k/i48fvOXv2lqyCgvZnyln2c6UqHrbFzA+ISJzbdzwvLCzstpoeyx486ToWfHx8NgcEBCyw+jzZ0KOhX6cQNQu7XZLmzv3itMNh2rOChQ7HeGdMzFSn3c5OZs4xa12nT5++5K233ooeOHDgVz4+Pp6ePUwi/Y/9XxDRS0T0S/LO6XEAwGJPkZ4MChFdU+a964noLBFtNvuXNpYLLTN/LyIv+Pv7NzP7OwLzhIaG9hCRz5l5+z//+c+Dt95660/t27c/09CGhVYUdd2m5s4NXLRixVvRp08PWlCD5MqmFNmV/txhZctuU/ochhtrksQpfaoLs5LCbUrR42FhYb8LDw/eePDgQyk5OV3SnM5myR6WjVeKelZyKPow85+Y+Ru3c8jMyMjIG6t/VF/hDvdjYezYsdFWnxsbQzSW6xSi6hEeHro7Lu7zdLOGiCYk+JfEx49XkZFBTmYuFZFjdbXumqZtnDhx4vzXX389etCgQYm+vr4/lHO9WE9Es4hoOBE9Tvq9HgA0cRuI6ASVX9L4ISJ6h4hcCY8f6c+onCV9aOlRIvovXfkXp0FEtJyIcogol4gWE1Ff9w9thBfaBREREfeYs0vALDabrSMzfyIiW8aMGbPvzjvvTGnXrt0pb60UWpuozzZlt89auXz5O3PS06//uprJ1UyliKu4/EqlKLGGiVyiUrTTxMTwwbCwsN7M/NX69X89npHRM6e4+Nr9HpZbpxQ9UtlxmZCQcK2macNEZK2IJDHzVmYeGx4e3qm6xzgRdSSiFa7j4B//+EewF5wPG0U0wusUooKYM+fLYw5H7aaTcOsVvOhw+DtjYyc7w8I0JzNfFJGd9bk9zLxl6tSpC996663o++67L8HPz299BdeQdUQURkQfE9EzRHQToVgNQJPRloguk/4wsrv2RNSlTLgSxhAiSiOif5D+l6VxRFRKRG8b7/uRniwuJf25xFeIaDcR7SG3pLGxXmiZeWZEREQv0/cUVEtgYGBru93+PjNv9Pf33/vggw+e79Chw9mGUC20pmFVm5o9e/qiDRtemnvxYvtV1Uiw5ih9bsKqLJugalY0ZqXSi9aYkRBuUIr6+/v7+zFzQGLiZ/vOn++fdfFi25PlLD9SqatGXFwlICCgPTN/LCJbjPPHRqOqsV81Dvdw1zFw//33B7uK2CBqH431OoW4Mux2W/K8eZNTTewVvORwjHfOmTPdKSJOEfnR6m10xfTp05cOHz485g9/+ENs3759l1bh2hJD+j3ip0T0FumFax4looGE6S8AGo1BpA8XfbfM61uM193jceO9b4jovTLLbyX9L0tERHcay//e7f3bSC+R3N71QmO+0DLzBhEZXPvdAzUhIq8w8/eTJk3a/dhjj53v1KnTeV9f393kBUlbXYbVbYqZNycm/nveuXMD5lcxydqh9GcGt1Zh2RVK0cIaJHKrjV47M5LCZUpRJ+MYeyEy8sttR47cdyE3t3Oq0+njqTcyyrV8ZYKDg3szc4Dbd7mCmYe+8MILlSWV/3Tt/44dOy7SNG2t1ee/xhRWtylE3cfs2UEH4+PH55g7ncTnzvDwUKeIFIvIHqu3saJg5s1ffvnlktGjR8cOGTIkZuDAgV/5+fltqOb153siSiC9EOEMIppERGOJaBTp95dvENFQInr6T3/608ihQ4e+M2XKlMemTJnyWFXOjwBQ91zJ2wdlXr+X9ATwceM994SQSB8+egsRPU16g88joijjvXak9yCeIn3owd3k4QHmpnChZeZgzF9Yf+x2+x3MvCgoKGjnM888c6Zbt26pzZs330dekKzVR3hTm4qMnLEwKemPcy5fbr6hConWRlX1SebDVPWfLfzeSObMSArjlCI/43i7WdO0b3/44fnTWVnds0pKmu/1sPxKpejOqh7DIjJARKLcvssFmqY9Vs7iv3Xtex8fn00zZsxItPqc19jCm9oUwuzgHdHRAedM7BUscjjGO6OjA50i7GTmTOu3seYRFBS0Yty4cY5hw4bNfeKJJ+Juv/32xJ49ey4z+zpV1XMjANStXqQne9MqWOZZujIhHEZ6wqeI6EfSewzP0s8JIZE+9ny223IppCeH/9NULrTMvEpEHq7tjoLyRUZGdhCRCZqmJb3xxhvH+/Tpk+rn53eIvCBJq8/wzjYVunrLlqGznc5rqpLErVT60MzKlktUitZUM5FbqxQtNikpnOk69iIiItoyc+jixaMOpqbemFNU1OqYh+W3KUV/r84xHRYW9piIuCd4USIywG2R3qTPPZZEREkjRoyYbf2+bnzhnW0KUduIiJi1Nz5+YqZZyaDD4X85Pn6ic/bsYKeIXGbmI1ZvY11GaGjo2sDAwEX/+c9/HO+//37M0KFDYx555JH4gQMHJv7yl7/8ul+/fov79OnzTc+ePZd169ZtZYcOHVa3bdt2XcuWLTcgIQTwXidJLwxTXpXMWfRzQngz6c8c2omos9sy2+jKhNDFh4huJ/25Q0VEj7neaGoXWmb+pHa7CTxh5ueYefUnn3yy/5ZbbrnQunXrE+QFyZkV4c1tKjw85Lvk5MfnVCHZSlb6nIKVLbdBVW+ewySlaL1StMSkpPCKP3Ax89/nzAlIPnnyzvS8vE4/OZ20w8PPhCpFVZ6m5oUXXriGmYcy8wq380jAyJEjbySiRNd+v//+++dZvX8ba3hzm0LULObMmXbSvOkkxhU6HOOd8+YFOO12zSki+SKyw+pt9OZAQgjgvT4mPVn7yMN7DxFREf2cEA42/v8Wt2XakV5NNMr499+JqID04jIuLYnISUR/db3QFC+0zBwdHBzc1ZS91sRFRkbeKCJRAQEBu37zm9/81LFjx/ONuWBMVaIhtKnZs2d+ffz43fOqkHB9Y/TqVbTMTlX1oaZ1kRT+1v2Y1DTtTpHQVTt3/vFsdnbXzNJS390efuZbpejmah7rfsz8rjH3adIzzzxzqn379md9fHySO3fuvErTtI1W79fGGg2hTSGqFuHhtl2xsZ+nmdgrWBwfP15FRc1wikgpM5+2ehsbQiAhBPBevqSXLFdEtIz0BHE46QleMenDSUtJTwhvJKJLRBRJRLeSXpp4KxGlkz7xaQ8jco3PGkJ6pdGFpCeN/6u+2VQvtMy8ipkxPUUNBQcHt2Dmj0Qk6fnnnz/VpUuXjMYwqbwZ0ZDaVELCfyILC1t/X4VewLhKltlexR5F91it9GI2tU0I16ky8w6Gh4d3EpGoZcveP5yWdn3OpUt+hz383Gal6IXqHvvh4eGdRo4cOaNHjx75PXv2zO/evXtuYGBgsqBHos7CQ5vaKyK7mXkXM9frFAKImkdU1IwjDsf4XJOSwQKHw79Un07C5hSRIhHZbfU2NpRAQgjg3XyJaAQRJZM+t2A26fMTvmi8v59+fobwedKHmBaSngz+mYheJr1XcJKxzB9IH0ZaRERZRLSGiH7t/gsb0s2r2cHMW+12+2t1sysbr5CQkIHMvHjSpEm7Bw0alNqmTZvj5AWJmLdEQ2tTdrtt9aFDD4VXIfGKVJUXkllezWRumapZ1dKyEaPUlcPtX3jhhWtE5J+xsRP3nDkzMLOgoMPZcn42QCmqzvQSREQxvr6+ezp37pzy3nvvpYs+RC1bRI5avT8bY5RtU8ycbCSDe0Rkn4gcYOZDRnK4TdO0zZqmbWLmdSKylpnXGVOJbBU9adgnSB7qMbSdsbFTfjKxV/CSwzHeOXful67pJFKt38aGFUgIAeAKDe3mtY7iP1bvh4ZCREaKSNKwYcOOde3atVHPJ1jTaKhtKj7ef05hYbvKngdMVIoWVSHJq04yt1hVf8ipp/jQ0zFrs9keCQ8PXb9v32/P5+R0TS8tbbbLw89+pRT1rmIzeMm1r7t167ZM07TdIpIhelKYb/z/Qav3Z2MKDwnhIWY+LCJHmPk4M59m5pMiclzTtKMicthYZj8z7ymnF3G3iOxj5j2apm1l5vVG4rhZRA5IPU9e3lhj9uzg/fHxE7LNmk4iPl6fTiIiIsTJzCWCtlajQEIIAFdoqDevdRDTqjDXWJMlehn+BTNmzEj+9a9/faZly5ZHyAuSL2+Mhtym7HbbmkOHHgqrJPFaoSofQlrdBO9rVf1pLDzFveUcvz2ZOX716jeOZ2Rcl11c3OKAh5/doBT9rpKm0ImI1hv7evsXX3zxtdv3d0REsuTnxPCCePncZw0lqtimdohIsuhDSfeK0XNo7JcTInKCmY9omubqTTzCzGeY+bixzAHj55NEJMn4jB2aprkSxe3GZ1r+fTSEsNslae7cL86YVzjGv1CfTuILp93OThHJsXobG3IgIQSAKzTkm1ezQ9M0m7+/f3WHjjVq/v7+vna7/X1m3jpq1KiD11133Rn0CjbehNAV8+ePmV1U5FfRs4UblT6EtKLkbKGq2mT3rqhKkZvKYqVS5HHO0TVr1viKyOfz54/dd/78TdkXL7Y7Vc5nfKIU+ZbTJKa59vOQIUNiyn5vdrs9SfTkI1d+Tgx/ZOZdVu/Thhx13KaSRU/cDxj77ggzH2TmE0bSuNe1rNHTeICZfxCRDcy8QzD09KoICwvZExc3McOsIaIJCf4lDscE5+zZQU5mLjX2k+Xb2ZADCSEAXKEx3LyaGcwcHRoa2sbq/eINwsPD+zOzQ0SSnnrqqWOtWrU6Sl6QcHl7NJY2ZbeHrDh9+tboCpKv7UrR7Cr0/G2vRkLHJiSF/5uf0BNm/nNk5MzNhw8/kJqb2+VCaalPsofPiFGKupf50ftd+7hLly7faZq2uYLvbycznxGRPNGTwjwROY0CKDULC9vUHhE5LCKnjCTxiIicNP7ftS93i8h2t17EJp0gRkV9edzh8M8zKRG86HD4O2Njp7imkygUt15cRM0DCSEAXKGx3LyaGcwcHxkZ6bGXoSkwinG8JSJbpk2btmvAgAGHmjVrtou8INlqCNHY2tTy5W9HVJKAVTav4WKlTwpflWRum1IkJiSFT1R0jAcHB/9CRL7etOnFk1lZPbJLSprv8/AZa9WVQ1DjXft48uTJ8VX8/naJyHkxeguZOccYomj5fm1I4WVtaocYvYnG0NPjbgVtkkRPCJONIjbbpYkMG7bbbcmxsZMumDmdhMMx3hkVNd1VOOa81dvYmAIJIQBcwcsutN4UC2bMmNHkkkIR6cPMsSKSNHbs2O0dOnTA8NAmnhCKSFJ8vH/85cu+mytIwKJUxcND46uRzH2vFM2vZUK4SinqWNGxPn369JYiErRo0egDqal9sy9ebH3Cw+dsV4reu+Ya+qNr/w4cOHBOdb8/Y9hhmvw8jDRL9J4ny/dtQ4gG0Kb2S/kJ4h5m3s7M640CRI1uepLZs2ceio8fn2NW4RiHw780Lm6SMzw81FU4Zq+V29cYAwkhAFyhAVxorYwF4eHhnazeR/XEx2azvWE8G5P05ptvfnvNNddsJy9IsBpaNNY2NXdu4NLCwrabKkjC7JUkhVo1ErqFSi/yUpuk8IuqHPh2u/21OXMCk44fvystN7dTilK0o+xnffUVnerShZKJKOnLL7/8uqbfITMfEreKpMycLnoyYfn+9eZoSG3KeI50v+hDSw8ZPcIH3JbZzcwbmHmLNPDeQ7udd8TEBJwz8VnBIn06iUCn3S5O0f9wYvl2NsZAQggAV2hIF1orgpkXNvakMDg4uDczRxvbu/GOO+6YTV6QWDXUaMxtKiIiaG1mZq91lSSFWyp4f2Y1ErrKqp1WJVzztlZIRG6127Vl27c/eyY7u1tWSYnvHtdnpKfTsf37KX/DBsr5+9/v/9ak7/KY6PMWunoMU6SBJwcmxgZmXsHMSzRNW8DM8R7a1FJmXiH6HIM/eME6lxt2uz3JrUjNYWY+5ioyxMy7NE3bxszrRR9q2mB6D8PDZ+2Lj5+QZeIQ0ctxcRNURMQsp4hcFszpWaeBhBAArtCYb17NCmZe2FiHj4rIK8y8UUSSgoKColu1ahVJXpBUNeRo7G0qLCx0c2pq31U17AncpKo3fDS8lgnh90pR26q0hRkzZnQQEVmy5KNDaWl9coqKWh5xOmnHoUOUs38/5e/fT/lLlnyYPWfONLMqHO4QkVPiVpGUmc9JEyqawcxLmTmGmaM1TftKRDwmd1VpU8Z5bDUzL2fmJcz8FTMnaJo2T0Tmisg8Zk4Qka9FZKWF273LbVjpcWbeb6z/DtF7D9cz81bRnz+1fB95irlzA0+ZN53EuEKHY7xz3rwAV+GYAmlAiXFDDSSEAHCFxn7zalZomjZ3zZo15ZWib3AiIyN7MHO4iCQx8w+jR4/+kIjmkxckVA09mkKbCguzbUxN7bu8gkRsRiVJWlXnKVyrFC2pZVI4vhpNw0dEhsfETN51+vSgzHPnWmXu20cF+/dT/pYtd2e6bmLnzZucYrezWTetyUYi6OotzBU9UWx0N8XMvIqZ54hIgqZpa6v6c2XblKZpC4zew/nMvEhElorIcmZezcwbqrFOG0TkOxFZoGnaPGaOZeal9fid7BCRg8x8TPRnSo8yc7LxXe0xEsMNzOwVvcfh4bZdsbGfp5vYK1jicExwRkbOdIpIqVGZ1/LtbAqBhBAArtAUbl5NjKlW7y8zMPNQ100TM8c+/vjj9xPRd+QFyVRjiKbSpsLDbRvS0vp8XU4Stl0pCqogSVuoqj4RvaOWCWGSUnRbNdvIAyEh0zbMnNm+aM+ea0r27vUtWLTo41z3m9n4+AlZ4eGzzCx2sVv0oaOuxDBb9KGllu/r2gQzb2bmZbUZ2llRmzKGWy4VkThN02zMPFbTtGE2m+1xZn4gIiLiHuP/XxWR0cz8pei9hasr+J1bmHmxiMwTkWhmTqxmolnjY8BIDg+IPmRyn7GN/+s9FH2Ki3rvPYyKmn40IWF8rknJYIE+ncRkZ1iYzcnMxdLEp+uo70BCCABXaCo3rybGcKv3WU1pmtZNRNjYji3M/Hci+iURrSIvSKQaSzSlNmW329ampt7wVTlJ2A+q4nkFK5vD0D0qm9qisoirVmMhok6dOo3s2rVr+l//2qlw7drHih2OcYUeejjyIiNnHDH5e91nFJtxDSPNNIrRWL6/qxpG8pdgPOdX68+rbZsyeiYjRWRERETEPa59HBwc3MJms/UTkYc1TRsmIhOMIawby/ms5SISZzxzXdc9iTtE5KCmaUc1TTskIkdclUuZea+RaG+UOn/2VNs5b97kFBN7BS85HOOdc+Z86RQRp3GsW37MNrVAQggAV2hKN69mhaZp/2f1fqsuZv6ziKwVkSRmdoSFhfUlokFEtJa8IIlqTNHU2pTdbludmdlrYQXDQyua3H5uFRO6rUrRN7VMCl+sRpNp6WobXbt2PSsyMz8+fmKJw+F/ydNNbkxMwI8ipg0hdcVh0assUiI/FwAAIABJREFUunoM04zpKyzf5xXEahGJ0DTN1Gf0zG5TxnN6XzLz0MjIyB6eDgBN066z2WyPGNWXx3tKFDVNW8/MDhGZy8wLjcqhdfXdunoP92uadpSZXb2HO43iNOtFTyJNewY1IiLogMMxIducZFCfTiI2dqIKDw9xFY456AXHbJMMJIQAcIWmdvNqVmiaNsjqfVcVNputIzOHGuu9hZnf9ff39yWie4loI3lBAtXYoim2qfDw0OX5+R3Le6bwG6XPC+jpvR0VvFc2vlYVVzCtLNYpRe2r2HTecu3P559/fiEzHxHR8mJiAoodDv+ShIRxBWVveOPiJmaEhYWaPuzNKDySIz8nhufFy4bXMfMa45nkdXXx+fXQphYw899tNluFc1cS6RVpReQt0Xn6LhKZOZqZ59fhd75D9GTqsKZph4zqpTtFJEnTtL3M/IOmaZtq+gcEu12SYmK+OGNe4Rh9Oono6C+cdjs7RX9O1vLjtikHEkIAuEJTvHk1IzRN+zY0NLSN1fuvIna7/Sm352QWiMgA463fENEW8oLkqTFGU21TEREzvysublnePIWxSn+u0NN7Kyt4r2zUturof6rQdP7XO9i8efNtoaGhm4xt3CMimVFR04scjvGXExL8L1594zs+d/bsmaYP7zRu9k8zc57oSWGeiJwRkZ1m/65qrtdGIxGs6Hm8Wkc9tqktzPxFSEjIr6twnJC/v78fMz8gIiONgjTby3zeJmZOYOYY0Yeb1tV67xG9IM0+Zj7iSgSZOdmI9cYxVOnxEhYWsicubmKmGYmgkQxedjgmOGfPDnaKSKmInLTymEXogYQQAK7QVG9ezQhmDrZ6/3lilM8PEpEkTdO2icgItwqpT5EXJE2NOZpym4qJCVh6+bLvtnKSsYqeGYyrYkK30egprE1SeEslTeht1778y1/+srDMNu5g5p8iImZdjIubeDkhwb/I003w3Llf1Em1RKOYyI9yZUXSE8Zk6PV9/ouRun+OLknEmonpmXmRpmnDqjPlUEBAQHubzfa4iPzH03fDzN8wc4xRIbWu5k/cwcyHNE07oGnaAWN6ix0ieu+h6EnqD556D+fMmXbC4fDPMykZvKhPJzHFNZ1EoRXFcBCeAwkhAFyhKd+8mhHM/KrV+9CdzWZ7hJm/N9ZtYUhIyEC3tx8mom3kBUlTY46m3qYSEz9dXEEylljO61uVokVVTOjm1TIhrKjATBsiWk9ESX5+fttDQkI8PhPGzMfDwmz58+ZNLnE4/Is9DSGNjf08LSzMVidzCho386lyZUVSs4vblPe7XcNDzf7cVZqmLRC9qmcsMy9yVfa0sk0ZxVs+CQ4O7lrBceNRcHDwL+x2+2uiF/PaUuZzN2qa5jCeTTSl+E45scfoNdyjD33Whxsz8y5m3sHM6+320D2xsZ+nmdgrWOxwTHBGRc1wiohT9GHO9bbPEJUHEkIAuEJTv3k1IbaEhoZW1uNQ54KDg9tpmjZFRJKYeTszf5yQkHCt2yK3EdFm8oKEqbEH2pQkbd06uLykcKUqf7qJpdVI6qJqmRQ+V05Tete1H1999dXFlWznPhHOnjMn8FJCgn+Jw3H1ENL4+PE5s2cH76/D73q/iGTIz4lhhvFanfw+Zo7XNO1bkz5vqejTPziMgijlLusNbao2iSER0fTp01uGhYU9pmnaGGb+xsPv+FZEoo3ew7oqTrPD6DHcx8z7mfngd98NP5yS0jf3xIk7L27f/mzed999kOfpWK5O4Zi4uEnO8PBQJzOX1OXxiKh5ICEEgCt4w4W2oQczLwkMDGxt1T40nmFxVfVbGhYWVnbOtZuIaB15QbLUFAJtSpJEtG0pKf1WlJOMlVeRtDq9fyuVovW1SAjXKEVtyrSTNmT0DrZq1SqpvN7BMrFTRFIjIoIL4+MnXHY4rh5C6nD458+ZM62un5s6KnovoWuqilQxfzoCMeEz4pg5npnXVONnNgUGBqYHBgb+FBAQsCYwMPC86PMDJhpDML8XkU0mrFt14tOaJoYuoaGh/W022xvG93pV76HxPcWYXbHVFRERQTt37/5Danp6r8KMjJ4FGRn6fzMze+anpPTP37PntwVr1ryWl5j42UVPPeAeosjhGO+cO3eaq1cwu573CaIagYQQAK6Am1dzgpkD6nvfJSQktGHm8W7r8FlkZKRfmcWuI8wziITQgpg9e+aaS5dabi4nIStv7sKtSlF5iWTZkFr2En5Wpq2859qHr7/++pJqbu8pu91WEBs7qdwhpPPmTU4V0eqyCMwOETkh+nOFrh7DH2v73JYxtJFr8RmbjKqbFQ2LXM7MISIyUtO0Z0Tk1rCwsN7V/UMbM/+KmZ8TkU+NuQLr9BjXNO2D6qxfeQIDA1uHhYX9jpnHMvN3Hn7XUuM7TGTmrbVd78TEMft+/PHmrMzMnvmuyMjoWaAnh70uuiIzs2d+evp1+ceP31OwZcvgvKVLR3joPRxX4HCMvxwXN0FFRMxyMnOpiByr6+8eUbtAQggAV8DNq3mhadoz9bXf7Hb7vWJUrTNuIO7ysFhHIlpMXpAkNYbw9fVd2b59+69uuOGG2HvuuWfO008/Hf2Pf/wjYdSoUV9/+umn3/j7+y8PCAhYjTb1c8yfP2ZJOcnYBqOXztN7jiomdBuVooqeV6wstitF/Y220oaM3sF27dptDw0N3VaD7d0vwrnR0V9cSkjwL0lI8L8qKYyPn5AdETGrrucS3Cl6BdI80XsL80SvUFrtZJSZl4lIXE3Wg5m/NwrPbPD0vqZp/pqmPRQcHNyunNOcKURkgKZpLzFzgNRBpU9mjomMjLzRzHVm5ps0TRumaVqYlOk9FJENzOwwvttq9R7a7bakzZsHn87I6JXvngx6ioyMXhc99R6eP9+/YPfu3+WvXv1mXmLimCKHY7wzJmaqazqJgpocZ4j6DySEAHAF3LyaF8y8ISIioldd7q/IyEg/Zh7r+p12u/2/ItLKw6JtiMhBXpBINbDY3KJFi8W9evWa9+tf/zry5Zdfjvn3v/+9yGazbazqcYA2dWUkJT1dXrGYmAqStao+I6jVspdwjtFehruOgWHDhtW4cqZRqCN99uygwvj48ZcdjnGFHoaQ5s2Z82V99KDsFr2Yh2sYaQ4zH6/Gtswv51m3yn7uB6N37qphnEYxmsHTp09vWdF5ri6FhYX1FZHBIjJBzJ038ZW6WN/Q0NA2zPx7u93+XyNBL/udVqn3MDZ20u5Tp27LqCwR9JwcunoPexa4eg/T03uXnDv3S7Vw4WjFzE5mPiMiqCLaQAIJIQBcATev5gYzx/j7+zeri30lInfJz6XMlzPzAxUsHkHWJ1cNItq1a+e47777It5///1YMeEGEW3qyrDbbZvy8zuU97zf/2fvysObKLf3KQXZd0QqBTfuRa941SsqblxF9CKIIoLbxX3hpyiuKIJCKFtpoUDa5Dtn0jbdl7CJoMi+y9YWWlr2nbaUNt3Tvc33+2MmkKZJm7RJE7zzPs/7tEkmyWTmm5nvnXPOe6JtPP8Ht79GUN0SUXjpErwB9aODlr3kmsPLgqAqj4+fV5OYqKiyVnMVE7PwCpHYDsDFTCeiPLqeRlpARCcbew9jbB1jzJE6vyQiSkLEOLLSkxARf9RoNL6NnuDcAKVS2Z6Ixknr3eJtjYgCEfVx5Tqr1erBiPg+IoZaCkCp32ACiWY9W0zPb9v23pnc3AGlzRGD1iKHeXkDjMePP86jogKMiFgrjbEkycn0AIlRTGfXsMp0ImVBKEOGjHqQJ68u4UfO3EfSpOV7vN70eJ5Op+vSyFtmgAcILU+lt7f3+gceeED45JNPYoloh6svtB4wHt3OhISfbaWO7uC2XUftbUIfwznsbK4gPHcOTnTuDCkAkPTxxx87y0EzCRFPEGFpdLR/dWKiosZaXWF8/NyC0FBVamvsA8ldsoCuRwz1JE3kLbixKddPK9xBFqmlkivnj4yxvk2e5DwAgiA8QETznbCtdxLRM62xziqVqovU93C2tehhZOSSP86de/B4UdHNBQUF/ZwgBn2rrl69ne/Y8TaXUkTzETFFGlspUjsUkzhMJqJURNxFRIdaWssq07mUBaEMGTLqQZ68Op8oNhz2ccb+CQkJuRcRTfb3m9Vq9VNNvGUseIDo8jR6eXltuPvuu+mbb76JpoY1OS690Lp7PHoKMzKG26r30zYi2H63U9gtbI4YrKmBw8eOQencuXC5d+/eyWq10/sGpiJigVYbVJmYOKdWp2to55+YqCjVapeebMV9cYbMHEmJKIeuT+K3IaLd6dHSe1ZITp/mz/10owhBSxBRH0T8wtHtYEnG2MduWPe7EfFDIgr79ddv0nNy7iw2ibnCwn4lRUV98ouK+uQXFt5S7JgQ9CnLyxtQd/78P3lCgp+RiGqJ6ISN8XBUamuRTETHTTWF0vP7pO0qRw/dTFkQypAhox7kyavLiC3ZLzqd7iYSHfcOElESIi4JCwvr2sTb7gYPEF+exIEDB9LkyZPD3Xmh9YCx6BHUaIJ3VVV1suY6upfbdh1tTCyacwO33fTeJrOz4VJGBhjS08EwY8aHjkbF7GUyEWVrNCHl8fFza3W6hq0pdDqFITp60WVBaLX9kUxEF8jMkRQRsx1xsETEAyg2VTdPsd3MGHuwyRPcDQDJxfn/qAVZBJKRTbvWXG/O4SbO4Xuj0SulsrLjKYOhZ5Y1AVhU1LewuPhmvRg9tC0G9fr+lXl5A40HD75sDA0NMZJoVmRXqrMkBo8TUTJj7Cgimm48pCDiESkSnUxEzr4RI7MJyoJQhgwZ9SBPXl1HRBzVnH1C4l3eNdJnbGWM/ceOt3UDgA3gASLM3fT29t7+6KOPRgYGBlqzb2/1C627x6Encf36qStsiLMgG88f5Pb3JpzVnOhgRgYYjhzpaYiLm5Pv4t9/RhDUhtjYhdW2WlPEx8/TC4K61VLrpAn7BSIqQcRiuh4xPNbE+3Yh4i8Wz4eFhob2suNcdUOBiDoJgvCBeU2eg9s4RqvV9miNdeUc7rJ1c6W6ul16eXnXCyUlffIs00cLC28pKS5uGD3My/OtzcwczH/55XsjEdUh4sUWjrmjZrWFx0zRQ0ks/skY2yulnbr9XPVXpywIZciQUQ/y5NV1RMQtKpWqi737Yvv27W0ZY5+b3aVfrlare9rxVi8AEMADxJg72a1bt83jx49frVKpWsOow+4LrbvHoScRkR0qLOy3zcqE9QDnsNSGeAvlYouIpkTenkaEpc3oYEYGGLZsGVes0ykMERFLT7n4nHCUiIoiIpZUJiYqbKSQzikOD1/eqCBzwXr9SkTnzUShgYjyiei0IAj1lmWMbTbvlYeIhwRB+MxVZlqeAsntM6CZ23eDWq2+01Xrxjl4cQ7vcA62+n7Woyl6WFraM9ta9LCw8JaSvLwBdenpTxsjIpYaEbHS2TWAUpTwuBRhTjUJQUQ8LHGXJBjlNhYuoCwIZciQUQ/y5NXlnG7PfggNDR1ERCul9+xwsKfhl+ABgsxd7Nq164b333+/gaGCp1xo3b0+nkad7mdbbSiWcQ77HYwgWqsltGVSYzM6qNP9XCb2CZxTLAiudf6UJsJXw8ODyxMS/KymkCYmKgzR0YEXWmN/IGKk2WNTc/trNYaSSLwgCYL1iGjpPvqkA+eqGx6MsRcR0WpvxSa28x5BEB529vpwDn04hzBHouMNjwcxelhcfLNer/etzsm5i2/e/LGRiIyImElE8bYcZJ3IdKltyyFEzJBqEJMQMY0xtpeI5OihEykLQhkyZNSDPHl1LaW7n3fb2v4TJ070JqJP6LrRCZJjtuUjwANEmTvYuXPnje++++6vrbUvm3uhdff6eCKzsgZvsDE59bfxfCQXHUmbmtwe4hx+cCQ6uHnzhJL67SACLrXGNkDE84KgLouLm19jO4V0fq5Gw1wZIUkgK/0CJZ4hokK6LgwLiCiLiE4KgpAkGcnYPLf9laFSqfpZCGl7uRcRhzprPTiHp+08LppkXV2bVL2+f+XZsw8ZY2IWGhljlVbaWhwiorVS38M1php3FzCFiDKkOtU0Entqmvp8JkvRw8OmlFOZjlMWhDJkyKgHefLqeiJiAohpnfWg0WjukO66JiHiLsbYKw7uvr4AsAM8QJy1Jjt06LDxrbfeWuPu/Wrvhdbd6+OJjI5eaMs9NIBz2G3jNT87J7cRnIOtKGS96GBKSm+DpRBLTFQYNJqQVnFBRMQMIiqKigqs0ukUNYmJDVNIExL8ikJDg621h2jpd+82czBubLlTUpTIYMZ8RFxARPc5eM76S0Fy9HR0u+8JCwtrkSjkHDpzDvOcIQQ5h6Sysm4X8/IG1u3d+3odkapWEIRN0ld5McaGMMYmI2KkhYFQEiLuRMQ4iQ73rXSA6ZL4OygdM6Yofhoi7mGM7ZOjh46xCUG4BQDSbQy/oQDAAeC9loxhG3gDAN4xe1wJAHZlWcmQIaOFkCevrUNEnGS22b0YY+8h4j7ptdBmWrQTeIBAay16e3vvfv755xPUarXdToiecKF19/p4Ko8ff8xWG4pvbTyfyDnY6mdoyU9tvZaVBZdN0cGNG18vsRRgOp3CEBc3L68Vt8VhIsoLD19ekZDgV5uYqKiwlkIaFbXkrDO/FxHtct+VojF/ENEREtNJzyHiYbPXtxDRPMbYi61lnuJJQMShzRBDzY4Ucg73cfvbsTRKoxGSCwp8DJcu3WtcseLnOkQsU6lUE2x999KlS3sg4mgimmel1cghxthatVodjYi/uDJ6KLW12Edi7eER6fuPkNjvcJc0Vt1aS+7p9FBB+Iv03SbEAcA4F3yPDBkyLCFPXluHiLhHqVTerFQqfREx2vQcIr7ezF33FniASGslHrrnnnviAwICXNUWwKUXWnevj6cyOjrQ1qT2e85hayOv2TPZXcc5BDYWHUxOvqXMWpqmiVqtaw1mrPCiRqMui4+fV5OYqKiytm6xsQtynFHjaE9k0GzZFWb/r1Mqld2IqA9j7A0SU9wt3xOLiN8xxv6jUqn6NfP8dkNBpVL1o+s14PbSIVHIObTlHD7novNui8VgZWXHU3q9b21KygvGsDBlLSJmbN++vYsDP9uLiO5DxP+TUkjrRQ8ZYzsEQYiTsmCa3brDDqZLxkYHGGMZZs+nSlHw/ST3PWzAG0QQypAho7UgT15bj4j4G12v14nQarXNnSzdAe4Xaa3C7t27r5o5c6Zb2kc0l/IxZT8vX75nvZXJ6h7O4T0bE9m1nINg56R3Kufwp63o4B9/vGU1Ong9KudXRORagxkrPC4IVBIdvahap1PUWBOFCQl+hS1NaZXORfYsG232nj3WnDKVSmU3QRBeQsSl1j6DMfY7Y2yhIAhvazSaEWq1enBQUFDHZp77PBZarbYDES1uxv74V1OfzTn4cg4JzhCCnENSUdHNBdnZg4zr1n1di4jVGo1mthN+fw+1Wj0GERcg4jaLMXAQEX+RhKOro4dpiPgnmUUPiShVWoddJNYj/s9HD10gCKcAwEkQ0zzTAOC/Fq93AIClAHAZACoA4DQAzILr5TRHpM81sQ80TBmtBNFETwMA+QBQBgCrAMA8M6EjAKgAoBAAigAgGgACpc+XIUOGLciT11bhEUTUk1h7kyqljzaoKbQT3gCQAB4g1lzMfU899VS4panBjUD5mLKf8fGzE21MWj/kHH6z8drn3P42FF9Yjw7e2qB20BqjolrHYMaCR4goPzx8aWVCwpzaxMTZ1lJIS1sQwdTZsxxjLNb8sVqtHtnUyUmr1XZAxOGI+AUiCo19vpRqGkFEixHxR6lObYJGoxnBGHuQiO5mjN2+bNmyW8LCwro28rWWE0kO4oTzAAA829Q6OxskmoQ5sj92aLXa2219HucwgdvhnGsPa2raHdXrfatPnHjMGBm5uI4xdlWtVg92wWbwQsT7iehTRIyxUnu4XYocxpPro4cHpChhuvTdyZJo3E1EB6Xjze3nwtamHYLwBAD4WuFoaCgIZwKAEQCUADAeAJZJjyebLRMCAHkA8DEAjASA2QBQBwCfSK//A0RPhAMgis62YF0QVoAoLIeAWHNYCQBBZsvoAOAUADwO4s1zpbQusiCUIaMxyJNX1xIRzyJiKYkufXoi2qbT6W5qwS77HNwv1lzKm266ad306dNXu3vfNZfyMeXQ8XGosPAWa7WEmziHsTYmtls5B4Wdk+CfuWQwYx4d3LDh7Uajg/UNZlSpbtg2yUSUqdGElCckzK1JTJxdZW39YmL8M5sRxfzdjv2yFRH3mB4zxj5v7gkLEf+BiK8j4o+IGIING9o3yeDg4JMhISEnAgIC/v3GG298COJkcDCIE74MADgK4uTzIwD4EAC+A4BLAFAlLdOqQMRJjvw+xtjvlj1nOYcenIPSWVFBg6FnVk7O7cYdO96tI2I1RLSytbZHaGhoL8bYi4yxhZb1llK0cA0RRTPG1lqKRyfyMIk3Z/dIbqWmOtg0STDulhxN3X5ebA3aIQgtb7JY8j1pWVMkb6nFZ0SBGA004TcA+NRimQMgRvtMsEwZtSYIt1t8xgoAOCT9P0Rat/+Yve4FYrRTFoQyZDQGefLqMh4holwSo4KlRHTe9BoiftnM3TUExBOf20Wbi3jo7rvvDlepVA73+PIkyseUY/z112laG5PY5zmHlY1ECe2JmhziHF4yjw4mJQ2wKzp43WBmfq67tg0iniJipTEx/tWJidZTSOPj5+Y7IFoT7FmOMRZv9piaeb5qFFqtth8R/YuInv/+++8/mTx58pxJkyaFjh8/fu3o0aN3Pf/880nPPPNM+vDhw09bmbyanzfKQUwNszyfHAdxcngaxEnm7wCwFgBWAkA8iBPWMBAjF/MBYBqI0YvXAWAUAAwDgHsAYAAAdHb09zHGJjexjZPUarX5vk4w3SzkHIZxDlucIQSNRq/D+fm3lp8/f78xPn5eLSIaiOj5Zu00J0ChULRRqVQPENEUIoq13C6IuF2KTscj4k4XHltHEXGfxGvRQxJF4y4SDWr+stFDOwThRQB40Qq/gvqCcIL0+CGLzxgvPe9r9lwbEI+pMQDwDQCUAkCE2ev2CMIfLb4nBMSIIICYtloHAJY33VUgC0IZMhqHPHl1Cc8QUQlJ9uxkUdCOiAes1eLYgV/A/aLNVdz53nvvhXnAvmsx5WPKcVZUdP7DymQWudhnzdpEdzfnMNnOSTFt2gS7TdHB9evfL7VXDJoZzJx04/ZJI6KCiIigysTEObU6XcPWFImJc0rCw5cfb+xzpBqqP5r6PsbYSovnBjbjXGULXUBMB/svAMwFMb3rQFPnh2YKwnQQJ6QXzJ7jIEYOzZcrAIASs8c10jJ5IE4uj4KYcnZOYgUAVIN4c+5lEG/U9ZJ+X706queeey7OfFt27Nix5qWXXrr08MMP57Vr165u1qxZ9VolhIcvC+YcfnRWVLC8vPO5vLwBdfv3v2IUhJA6xtjBiRMnelT9ZmhoaC+pBtWfLNJHpZKBNZIR26+ujB4iYopkQnNEanFhEo0HGGO7SIwwHnbR97c6nVhDOEV6XGuFHADul5Z7D8RjigNAFogRw8vguCD8ymJ9QgDgjPT/bBDPBZbwA1kQypDROOTJq/Mo3U28Std7dV1oZNloB3fVB+B+0eYStm3b9pc5c+asdPf+cxblY8px7t79VqiNSa0v5xBl47WvuR1tKKqr4cg778DJw4fBcODAHY06i3qYwYw5k4koJywsuDw+fm6tTqeotJbeGh0dcNHWZyBioj3fhYjrTP+3JFVUQg8Q64WmgZja1eT5oE+fPpsHDx68ZujQoSufeuqphFGjRsVZHlN+fn4rZs2apZs5c2ZC9+7dC2+55Zbsjz/+WPfee+/pJk2apBs1atSvvXr1ymrXrl35mDFjdGPHjo0dPXp0HABwX1/fw0888YRu6NChK4YMGbKyY8eOWW3bts3v1KnTbrguCGtAjF5cBIAUEAWhEQCugjhRPis9zjFb94sgTnZTQbTL3wwAxscee2yHSiVGcDt27FjTqVOnmttuu6103LhxF4OCgq41Vl+x4qf0zMzBhQZDj0xniMGCgltKMjPvNq5ePb0WEStDQkIs0/U8DhMnTvRmjD3IGPucxPpCy/G5jTEWj4gJUhTPVcdbBokGcHul/03HRroUUdwlXe9TXLgOLqUTBeHb0uPRIN4csWQHAPg7iAJRAIDeZp91EJwrCL8H8SZOW4tlwkAWhDJkNA558uo0nqbrUcECe5rkOtCIvg8A7AEPEG/OZq9evcKVSuVWF+wPt1E+phynIASv59bt9L/iHO63MendzzmMb2pinJkJmdu3Q+EPP8DFdes+ckgIWhjM2BRbrUVEPKvRqA2xsQtqEhMV1dbEbVzcvDyNRm0ZyTho2TfOGhljiWbf9YdSqWxv5znKHIMB4AtoRAD26tVr67Bhw3Tvvvtu9Jw5c3RBQUG/qVQqm+mBjR1Tt9xySznYqHMaN25cvX0GAHzs2LH1jILuvffegjvvvLPE9LhDhw41vXr1Kp0/f/6a2bNnJ3777bdxbdq0qevWrVvOiBEj4ocMGbLax8fnDy8vLz2ILodJIE42TYLR/LfqAaD6tddey1YoFIaOHTsa+/TpUztv3rwrAQEBl5YsWXJ2+fKgkzt3TsjS6/uXFRT4GAoKfAwVFZ3PNVcIVlW1P56X51ubnv5MnVa7rJaILgQHB9/ajP3odhBRH0R8GREDyEr0kDG2moiiEdFl0UMpWmhqYfEnY+zatZ0xdhQR/7SMLN4IdKIgvAPEsf+JxXLfAsBuEI3wxknvucfs9W4AUAzOFYT/gYY1hJ0A4ArIglCGjMYhT15bzMOIaB4VvCgIgr0Xmu1KpbKbHbtpPniAeHMyDzzyyCNKD9h/Tqd8TDWP5879K8bKBHcH59CG2zbXmMU52KpBTKquhiOmVNEZMwZfSkhMjexAAAAgAElEQVTwK2quIHSjwYwl04mwKDIysEqnU9QkJjZMIU1ImFMcFqY0j2zYVTuIiOvN/n/OgUtJPxDNXKyKwDvuuGPdhAkTYmbPnp2oUqkcdpVsShD6+voapkyZctLE999//8xDDz2UBxaiEOwQhB07dqz597//fcV8GW9vb+OoUaMyzZ8bNmxYbq9evSqWLVv2x0svvbQfAPgLL7zw2/jx42OefPLJxEGDBv3aoUMHU9pq6vvvv5/bsWNH/vjjj1crFAqDQqEwBAZ+U3b48P01V670qzUxJ6dfzdWr/aqzsjrk5eTAhYICOF1SAscrKyGtKTFYUtL76pUrdxk3bZpci4i1RBTiwD70aEycONFbrVY/JDnYNhjP0g2PWOk1V9ahm1pb7JLaW6SbrUOGJBB3SQKxyRvD7qKT204IIEbUfwSxdjAQxLTqadLrt4No8KQFgPtArEU8AOINk80gnj8ArhvRvAxiHaCjgtAbxBTvywDwGgA8J/2WMgA4bOP3yJAhAwDA399/u4mBgYHZRLQSEf8wd5iTaZMnEbGYRCFYaH5hsJeMMUUTu+h+cL94czb3v/baa39JMUgkC8LmMjHx52gbE91RnMNdNl47yDn8m9toQ5GZCZkmQbhmzf+VaLVLTzVXELrbYMaCKUR0NSxMWZGQ4FebmGg9hTQycvF5IjooCML2pj7TfJKNiFo7LyEjAEBteYx3795920svvRQza9YsnUqlanFqn5VjKp2IjhJRWr9+/SoGDx5cTGJ9VwqZ9Zj7+9//XtStW7cq02OwIgj/8Y9/FFoKwueeey7LfBlvb2+j5fuGDRuW27Nnz0oiSho3btxFAOBeXl4NCAD8iy++2DN//vzVnTp1qhs1alTZkiVL8leterf00qXbas3FoDmzs2+pPXmyXblp/Jp44gQUnzkD+osX4UpWFlzOzYVz+fltzl250rf6+PEHjTExi2oRsVCj0Qyzcx/ekFAqlTcT0ThEDCQiy+jyfkRcjYjRjLF11Iwx58ixKIm/XSSmmJoLxCOIeFx6fockFtPIA2oRnSwIvQFAAQCZIIq2EyBmCZjjVRANnkwtYV4GgDdBFGvzpWWeBjHKXgYAPcFxQQgA4APijakyEHsRIgAQNHQnlSFDhr0gok5E9C/G2BuCIMxCRLv6V/0PMIWIcuh6VPAStaDRrVqttnTnMsdKcL+Acyb//PjjjyM9YB+6jLIgbDb3V1R0tuasqAEA4Bzm2xCFgVKk0GZ0cN++wWU63eyy6Gj/zLi4+bktEYVa7bITHrCtTLwgCOqyuLj5NlNIV6/+/hQRazSVjTF2kDF2rR2FSqV6oJFzUk8Qa5rXmx/b/fr12/Dmm29GL1q0aE0Lf9NhEsXeMak1wEErx1Q+IuoRMf/WW2+tvffee6sRMR8RC0i8OVeIiIXPPPNMRZs2bThjTI+IeQDAx48fbyCiXKkNUO6gQYOq/va3v1Ui4iVEPN+pU6e6F154IY/E2rE0IjrclCB84403zgEA/+ijj07/+OOP6ZYMDg5OJqKkjh071r700qjK1NRnq/X6AbUm5uX51ur1vjV5ef1r8vL61+Tm3lqTm+tTk5NzS83p021LLUWhOY8ebVN1+PBNfMaMnsbbbx9gvPXWW4tBTL1DECfp/wdiyt4wECM1zUkD9mgoFIq2iDgUEb+0ViuLiFsYY7FS7aGrXaxTEDGNMWYSgfuI6BiZiUDJrMYkIncQ0SFqxg3llrAJQXijojuINcs9LZ7fDuKNKxkyZDgLKpVqACK+L7l+uXsy5A4et4gKZjjhM9cqFIo2Vjb3BHC/gHMm90yZMsUuY4sbmbIgbD537ZoUbkP0+XIOPpzDARuvP8wt2lBcvgxZpknz2rVTykxRs/Dw5ccTE5svCBMS/IoEwf3byozHiLAkOjqgSqdT1Oh0CjNR+LNh1aofSxMS/IrCwoJtpq8xxq65YSKiysbpvx+Id+v/NDum948YMSI+ICBgrYPrnEZEqaZJM4k94A6ReH7NQMQM8XfRSSJq0HYCxd6upURU2r9//7ohQ4bUImIZEZURUQURlQcHB5f379/f6OPjY0TEciIqa9++PR8zZky1tFyZUqk0dOjQgf/tb3+rRcRCIsrv3LmzccyYMWUmwYmI+W3btuWvvvqqARHzpBKBrCeeeKKkV69e1UR0Ys6cOScBgL/66qv1jMTGjBlzeeDAgaWm9hKdO7ev/fbbnlV6vW+tuSBsnL41+fk+ZQUFfYsLCnoX6PU98q9e7arPzu6cf/Zst5p9+3oZX3jhNuOAAQPqOnfufM7Oc/E2EI1vgkA04ngHAJ4HgH8CQF8Qe7fdsFAqlTcj4ngiWmzFfGY/Ea1CxGhE/K0Vj9Oj0vG1CxF3MsaSqH40MUUa98lEtFdqubEDxb6Jh6TjIc1ZdYp/UUHYDcTU1U0gto4ZAQDLQUxffdCN6yVDxl8bKpVqEBHNk6yh3T0pcjVTiCibpKggImZSC6KCVviRxebtAuJdLXeLOKfQy8trz3fffedwQ+obkbIgbD5DQ1UbbZjLfAsAwDlMtyEIQzmH961FB//88x/1nEXj4+fnRkUFXGxJlDAqKtCmg7A7KEUb9OHhyysSEubUJibOrtDpFIbff/+iwCyFtDQiYskZy/dK0cHNpscqlcrc+AFA7CM2GwD2m47nzp07b580aVJ0SEiIXYZQUkRkvzQZTiNxInyciM4RUSaJPVsLSTy3liJigSS+chAxOzAwsCowMLBy4cKFOwIDAytJzMq4jIiZt956a7WPj0/Nm2++WfTmm28Wv/XWWyVjx441+Pr61gAA/+CDDwyIWISIxffcc09tz549jdOnT6+YO3duxdChQ2tvuukm/ve//71WEpklnTt3Nr744ouV0mMDEZW1bduWT5gwwSQkDYhYPHz48MrevXvXScJR//jjj1e2b9+ev/jii4aPP/64eMSIEQZvb28+duxYPZHqxKFDL2f37OnFp0/vUqXX31phvyAURaHJcKagwMeQn9+/Ii9voDEp6UUeFhZsJKIKlUr1Z1BQ0HqFQqGbOnVqzBtvvBE9YsSIuHvuuWd17969N4Md7T3MuB8A1gFAKADMA4DPQbxB+SQADJKuTzcEFApFW0EQHiairxBxhZWxuQkR4xAxsbVLZSRxdwxF59KdiLiLMXaQxBsjR6UIeb3jnIjSpRrGfaYIo/TePVJK6n5EPCR9dhqJQrIB/6KCEECMhG8F0bCmDAD2ghg1lCFDhqvBGOsvCMIsd0+KXMhjZlHBIumE6vTvYYz1N9usX4EHCDln0MvLa8+0adMcjSDciNyLiFtlQdgynj37cKwNc5m2nENPzmGvDVH4BOewwVZ0sH7a59KTiYktMpgpFQS1JzatvqzRhJTHx8+rWbHi5yqd7qcG6x4TszDbvIUGIsaY/meMBZmdg/qAmHJ47Vju2rXrjk8//TSaMbavqXWRhN9OxtgREiempxHxChEVE1GJJPgyEfEsiRPgNERMlia5K4kIiWgxEfkh4g9E9CkAABF9QkRTEfE7IprevXv3K2DhLurt7V3Tt2/f3Ndee22nVBu5ChF/nTVr1s6BAwcWtG3btq5Lly7VTz/99JWHH35Yf9ddd5WSONE+IaWMFiDiJSLKIqIcSRBWmEUhDcOHD6/u06ePkUR36VLGWNno0aNrevToYWzbti3v27dv3YQJE8piY+cWnj37YJVe71vTq1cbPn16tzoxPdS3Ni9vQJ0lGxGF1QUFPga93rcmO/vvxnXrvjYSkZHEG5VNjg1EPBAcHLzZ399/9Y8//hj/0UcfRb/00ksxjzzyiG7gwIHrO3fuvMvBc/sOAEgAgGUgRo7fA4AXQIzE+IDYhNzjsGzZslsQcQIiLrUmABFxNRFFoZnBkptoSp1OQ8T9Ui/EHYwxUy1iihRNt/c8dFhaNhURj/6FBaEMGTLcDSK621r+/o1K6Q5bFl2vFcxyVrqGDaK0KbvAX6fNxL6pU6f+VcZEMoqGSyukO8o6RPyFMVYvSiILwpYxIUFhTRAmcQ5jAAA4h89svJ7AOTxXVQWpJjG4Z8995dbq6hIS/AojIpaebEmUMDZ2QY67t5UNniRipTrdzxWJiYoaa78/Pn5uQWho8FES0+e2md6rUqkGgdg37P/Mz0Fdu3bd9tlnn8Uwxv5s4rtTpUl2KiKmE9EFFOv6DIiYwxg7K722i4giiGg2Ik4SBOFxtVp9p0qlavXIk7+/f3ciGqjRaP6JiMMRcawgCG+j6Gb5E4lph6GI+CsRJSHiYRTdI4+TKHLPkxitvIKIeSQKxHIiMmzb9kH51au315pSROsLv2uC0NgEzQTjQOPx408YIyKCjIhYQ1IaorOIiLuDgoJ+mzt3ru6rr76K+e9//xs9cuTIuHvvvXf1zTffvMnLy+talNgOHgSA3wEgHAAWAMBUEJ0fh4PYl657K+/qBti+fXtbxtgjRPQ1iTchLLfHVkSMI7EnosPuuK3EVBJLV44T0RFpvQ8wxvZJUcNdJjFJkqBkjO2QBaEMGTJcCoVC0ZYxNlmaaLj7RNkSHiMxGmiQooMuiQpakjH2HwCYDO4Xcs7gwXfffTemNbabi7iTiNag2ONqm73vkwVhy8gYO1hW1n2jFcEXBgDAOXSWIobWROHze/bA4evOol/YbEIfGbn4XEsNZsLClrfKeaGZzNdqgyoTE+fU6nQNW1PodIrSdeu+3mu23RcCwEsA8IfpGG7Xrt3ejz76KKaJiOBhqWwgmcRU0Ask9mItkVLrjxFREiKGCoLwgVqtHuy0C44b4O/v312lUg1Sq9XDBEF4CRE/JKLpiLiERJG7OTIy8MjJk4/q8/NvLc/P71+h1/evzM/3rdLrfav1et8akzi8LhIHGptiTs4dfOvW9zkiGomoCs3qGaVtfhpFR8s0cm45Q71jU6lUbgkICPhlxowZ8ZMnT45+5ZVXoocNG5Zwxx13/Nq5c+cd4Ng1YjeIxmkhAPATAHwEYkuCoSCmKls2GHcptFptP0EQXmOMBaGVxvdqtfpXEqOHOjK7kXIjUhaEMmTIaBUwxh4kz72j1hiTpUmMKSqYTWL9YKt8v1qt3ta+ffud4H4x12KOGzcuwgP2p6P7fh0i/oYtaHIsC8KWc/v292z1FvQFAOAc3rb2emkpbLr/fkjLyADD7t33W40OXk/7nFMSGhp8tIUGM4UeZjCTRERJiLiKRFGQLaaQzq3V6eq3plixYqYhN/e2ktOnh+ZptQvSfHx8Is2O30MjR46Ma6JG0NRzLZ2ITpFYB2ggUaAcl2qzftJoNCMCAwM7O/P64sngHJ7mHLbV1bVNra5uf6yysuPp8vKuFwyGHpklJb2vFhXdXFBQ0K80P9+nLD//1nK9/tYKU/pobq4pKlhfDJ458xCPi5vLiciIiHWIWElEZYhoumFZiJIBDokOrAVSbWMeiY7Yl0ms1zxJYmqsy9KdGWN7ly1b9vvcuXNXfPPNN7HvvPNO9PPPPx97//33r+zXr98f3t7e5qZETfEQiDcoIgFgEQB8DWKrgmdAbHJu6SbpNEycONGbMfagIAifoWhA0+CaIAjCJiKKR7G9xUprItJTKQtCGTJktBqIaCAiuroHkDOZQdeNDYpJTMFo1XVYvHjxuVdeeSUTPEDQtYRPPPGExgP2p10UBCFOuuA3lQ5nlRqNKjUsTJkRHr7kaFTUomRZELacGo1qiw1zmWkAAJxDO86hQRTx0iXIfu89OBsUBNmrVn1lLSpmUU+36HJUVMCllhnMLD7v7u1lThRt7g+aPXdGEFhZbOzCavPWFIcOjckvKPAx5OX5VJw61adiwgQ4BQBJd95556+BgYGNGUCZDC2OEtFFEusBC6R00M1E9BER3e3ky4nHg3PoxjnMs3EjowHr6rwOV1e3S6+q6nCivLzr+fx8n3JTBPF6feFA459/TuAajdpIRHVEVEVE1URUjYhlKLqnlpKYpmqiARHLpdfKGGOljLEixliBSTSaicdcxlguiSL+IhGdIfG657IoIyIeUqlU2wICAtb+9NNPCZ999ln0q6++Gv3EE08k3HXXXWu7d+++DUQhaO/1Zi8ArAaxrcAsAPgExB53jwLAbQDQzhn7V6lUdkPEUYj4o1RnaOv3bRAEIY6IohFxDYk9CN1+XrCkLAhlyJDRqlCr1T2lHHy3nwAbYTKJrnWmqGAOtWJU0Jxz5swpVigUhoEDB6aDBwi75tDHxyeyJRG21qAk/mJNdUFNk6VERARu/+WXaWv37n1tzdmz/1p39ertu4qKbk4rL+9yxHyiJwtC5/DUqWE2zWUAADiHceavmWoH9+yB4pdeeiwjMVFRaoc5jCEsLPjoX8lgxsZk9SgRFUZEBFUmJMypXb36x/K8PN+Sq1d9qq5cuaX22LE2ZenpUJaW5ntGp5uVauOzU4loryAIx0iMOJVKJjEZjDG1RqN52kb7nL88OIcRnMNme8WgdYHY5khh4S3FknFM7eXL/+CrV083GcfkEtF5IspExKtSXWYBSQYhiHgCEc9KRjjZUjppsSQKDSg5qEosJTG6WE5mrqmIWChFFk2CsQClXo0kRRkR8TwiniLx5qkro4z7li1b9sf8+fNXTps2Lfbdd9+NfuGFF2IfeOCBFT4+Pr+3bdt2Lzh2XdoCADEAsBgAvgOASSA6Tw4B0TzJYWi12h5qtXokY+zbpuY4UtaJSSSuFgRhu7vPE7IglCFDRqtDqVR2I6JV7j4B2mA61Y8KnnTXuixZsuSMQqEwKBQKw5QpUwrAA8Sdo+zYseOakJCQnR6wX60SEXcjYpxUZN/osmFhyoxff/1667FjT+2urOx02NZEzmDosS0ra/Ca06cf0aWmjoiXBaFzGB8/J8HGNh8LAMA5eHEOa82jgxkZYEhPb2MgmnEpKirwgj2CLj5+fq5Wu/RUS6KEMTELr7h7e0ncS/Wjg+ZMJqIsjSakfOfO16uvXPGpy87uV3f+fLeqc+faFhYU3Fxkamtw5MjI7MjIQNOEPwVFG/ujJJlsIWI2ii6is0NCQm5zwWXjhgDn0JtzWNwSIWjOiorO5/LyBhhTU0dyrXaZERGrSRTits5nvxDRfUT0JCJOYIx9TmIrqFAiWi/VdppaFZxExHOIeBkRc0hMLS01iUayEWVE0Vm1hMS01GuCUXp/ARHlkSgas0mKMkoC9Si58MaqSqXasXjx4nWzZ89OnDJlSsxrr70W/dRTT8UPHjx4TY8ePbaCaGpj77VrPwCsBQACgDkA8CkAvAIAjwHAHQDQvqmxQESd1Gr1MEScRESziSgCG29jsYMxtpIxFkPizcnViLiptc4VsiCUIUOGW0BEfYjI3TbO1ygIQpJ08TL1FbxKos2z29bJz8+v0CQIFQqFYfjw4fY2GfYIenl5bV24cKGdEbdW5wZEFBCx0TuzWm1Q2saNn+44c+ZfKTU1N6WYT9Zyc2//7ciRkQkbN06OiYubtzIsbPlGey60HvDbb0g2Yi4TYTqvcA7PmkcHMzLAsGvXI+WJiXNKBEF9OCHBvshfePiyE3Fx8/JudIMZSSA0uszSpUtP/vzzzzWbNj1nzMrqZ7x6tUeReY87E3NzBxj27Jl4SXIjPUNiamg2IqYIgjBLpVL1c/Z14kYB59CFc/icc9jjLDFYXHyz/sqVu4x//PGZkcRaQb2d+1yYOHGit7X1VCgUbVQqVT+VSvUAY+w/arX6XUT8ARGXklj7th3FVh9piHgcEc8g4kVpP+eh2L+xjMSI4rUoo/S/wTzKyBgzRRnzLahnjOVKkc1MEiOdpiijTbHrBO5XKpUb/f39V33//fdxH374YfSLL74Y8/DDD+t8fX3Xt2vXztE2G9sAIB4AlgLADwDwLgD8BwDuB4BbAMDL2j5gjPVXq9VPMcbeQ8S5RBRrxz7dhYi/EdFKxlg8IkYLghCDoov7WkTc0tLtIwtCGTJkuA1E5ENEGz1g0nSUxHQb013R0+5ep6VLl540F4MKhcIwY8YMQ/fu3Y+AB4g9ezh16tQmL3Ru2Nd/kgibF1CtdtmJzZs/+vP8+fvSrqdvtU2+dGnImu3b346JiZm/WhCa7rtmoiwIncctWz6ItDGBvtN0XuEcoq5HB70Nq1Z9Uy7W9gVcsjfyl5DgV6jRhKTd4AYzu5tK1V68ePG5Tz/9VD979uwyPz+/qoSELysvX76nNj+/f1V+vk/Z9cbnt5abTE+ysgZXbdv2bqkgKDMYYwuJyMf5V4cbA5xDe87hfc5hu7OEYE1N2zS93rf61KlHjVFRAbUkulv/7Mi+R8QFzf1NCoWig1qtvlMQhMcRcbxkojKHRKwlov0oNUQnopOm1FQpXVhPokC0FmUsNY8yStHIIrxueKMnonyptjGPiHJRbN1xSfqOEySmOrvsRq1ard4VFBS0fs6cOQlTp06NeeONN6Kffvrp+HvuuWd17969N3t5eTl6HVwPABoAmAcAnwPARAB4HAAGA0Av8+1ORAPVavW/iegjRFyAiDHooCmN1JNwHYqtkBIYY7HS58Sg2BopkcQenKstKQtCGTJkuBUajeaf5N6WFBfoeq3gVXSh25ojnDdvnt5SECoUCsOkSZNywAPEXlN8+umng929DS2JiIkoui02eE0QKCk2dv6Bw4dHHSwv73wtHfTKlb+tW7fu63iNhjWW6tMoZUHoPErmMvutTKSnm84pMTHwgik6uGPHsGvOolJt3+H4ePsif1FRS87GxLTYYOacG8d7o9F5f3//zOnTp5fMnDnTMG/evGJELCSic6GhISV79rxeefXq7bX5+f0rTEIwP79/lV7vW5Of37+iuLhvflVVxz85h7c4bzp97q8GLrY6eY9bMTJqCcvKelzOyxtQt2vX23VEVIeIuwDAGwCAiGY4sv8ZYx+76vcTUZ/Q0NAharV6JCJOQsTvSOzPGGMWrUojomOMsdOMsQuMsSwSRV4RiVHEJqOMUtlGIYnpqHqJBUSUT2Jq6lUiyiSpzQaJLU1cFmVExANKpXKLv7//mh9//DH+o48+ihk7dmzsI488orvtttt+69Sp025w/Hq5HsTejAEAMA0A3gOx1cbDAPD3Rx999G8hISH3Msb+g4gfCoIwi4gQERNQrEXc7YzfJgtCGTJkuB2CILzthglTmnRRMd3FPOOGdbBKpVKZYU0Mmjh48ODj4AGizxa7dOmic/c2tLiI70LESFuvx8UtPHLy5LBr6aA1Ne2SDx16KU6rDdrghO/eFBgYmBsYGHjF399/e2Bg4FV3b48bncePPx5nZTK9m3PoIJ1SFkZFQW56urdhxYrvKurX9vlnhoUFH7XPHGZOiSCojyQkzCluicGMRqNu9dRzxtheRLTpCrlw4cIrCoXC8Omnn+YvWrSokDFWSmLKfBKJdV6Xo6MXlaemPis5XPrW6vW+1QUF/UorKzudsdj2m7nY9qOba64QngOpRvBLbrvvZbNoNHql5Of7lF248E9jYuLsOkSsZIx9YPn9iLjMkXGgVqtHumM7EVG7kJCQ20JCQh5FxJelXsSzEZEh4hoU25McRkRTLeO1KKMk+qxGGSXReM0ABxHrpaaSeE1vEGUk0STuLEltNsiFUUZE3B0UFPS7n5/fiq+//jp20qRJ0SNHjowbMmTI6r59+25qRpTRxD0giscYEPs0zgPREOdjAPhv79693x40aNDbjzzyyDujR49+f9KkSR999dVXn86aNevLZcuWTWOMKVDsjUmIGCkJyjWSqNwiC0IZMmR4BBBR2YoTpvMkOqsZSLzL6BFRQcvJmi1+++23Re3atUsGDxB/Vrhn3rx5HlMbyhjTIOIf1l6LiFickZQ05khNTbtkziGpsrLj7l27JsVpNCq7+2UiYgyJTajHC4LwgFKpvEupVN6sUChM4sQqtFptP7VaPZLsqB+RWZ8xMXMTbUysxwHA7QCQ9I9/wNEdOx5v0HcwMVFh0GhUqTExC7PtEXTR0YsuR0QEnW5JlDA2dmG2G8b9bzbGa/L8+fNzFQqF4YcffigOCAjQk+Q6iYgpZssdQcQMRCxduXKG8dy5B+ry828tr65uf6wRYbOPc5jPOTzUwsuBx4FzeIhz+NmZItDEiopOZ/LyBtQlJY2tCw0NqSWiU4GBgX2trYdOp7tJOufYOxb2C4LwQGtvL3sQGhraCxH/QUTPIOKbRPQ1ES2Sbt5tlNKdU0mM+p1G0dE0E8X6flOJRxnZaLNB16OMJWQRZZT+zzeJRhLNkS5I3+PyNhshISHbFy9e/OucOXN033zzTcy7774bPWbMmJhHHnkk8c477/y1e/fujprgtJiyIJQhQ4ZHQKVSdXFGYXQTTJMuBqYJ0NnWnqg1RZVKldqYGDRx9OjRl8D94q8BR40apXX3NpQuursQcQmKrnr1XgsNVaVu3/5eWllZ9yPihKzrnk2bPokXBLU9dYHxiPhFSEjIo84a+4yxJxAxwd3b7EZiUVHfLVYm11EgNqtOateuXXJk5E96awItJmbhFUFQH7G3DUVoqCo1Lm6e1c+yl2FhyoxWHPtW05sZYynmqej+/v7n6Xq6/AWzZQ+TaPCRS6KT5FnGWMamTR+fvnjx3gKDoWd2TU27o00InTWcwzucg1VhcyOAc7iXc/iac9jgCiHIOSQVFvYtysoabFy79rtaRKwRBKHJ2j9/f//u6Fg/3x03ovOrQqFoq9FofMPCwoYyxl4ksbbuJ0QMIaKV0jg/TKJj6gk0a7NB4o1eu9psIKJ5mw1z8xtTbWMeSW02iOgcSVHG1igvCQkJ2bls2bIN/v7+q2fNmqX77rvvYidPnhzz+uuvx4waNSpu2LBhunvvvXf1HXfcsb5v374bu3bturO5N4tlQShDhgyPgXTSd9XJ9Zx0ITBIotCjooImLlq06LI9gvDnn3829O3bNw08QASa2KNHjzXu3n5EYiNgtNEHKiHBb09Ozp2HOWaHBAIAACAASURBVIckg6HH9j/++DSBiDXagB4RtxHRV1qt1qUuioj4k7u33Y3CzZs/bmAuU1kJaffcA0dBvDGRrtGoUm2ZwoSGBh+NjravDUVs7IKroaHBR1tiMBMfP7egNce/leeSzcXg8uXLs+m6o3IxSdEQKY0vg0QheEVK7XtWoVC0kc7Pa3/77YsTZ88+mFdS0iunurpduh3CJ4ZzmMw53OPK48cZ4BwekUTgL64SgZxDUlVVhxN6vW9NRsa/jZGRS2oRMV+r1d5n73oqlUpf6bxk15hgjP2uVqt7unLbuQP+/v7d1Wr1YLVa/W9EfB0Rv2SMLURELWPsd8bYQbNo9ymzKKNlmw2rUUaTaGSMlaJY+3jNKRWl3o9mUcZrbTaIyKVRRnuoVqt3KZXKLUFBQb8HBASsXbhw4Uo/P78Vs2bN0s2cOTPhhx9+iJ82bVrcl19+GTtlypQYWRDKkCHDo4CI4U4+MR4xRQWlk77bTB7suGinKBSKUnsEoUKhMHzyySd54AFCUOLeBQsWtFrPpEaoY4xttnxeo1Gn/Pnn+Gt1P/v3j19BxJrqibWKiMbpdLqbXDzsr4HEflXu3oYeT0FQ7eDcq565zMWLcMXfHzLbt2+fsmjRomNElBQd7Z9pTaDFxc3PJcJk+9tQLD8eE7PockuihJGRrjeYQSsGE5IYzDOdN0JCQky1Vqbo4DlpuUNSpKVEiras0Wq1t5uPT4VC0ZaIxhHR+l9++e7YyZOPXS0uvllfWdnpjNHolWKHGNrEOUznHEZzDne01nFlC5zD7ZzDWC72DnRay4jGWFR0c0F29t+MGzZMqSOiWkTc0Jx1Z4wNIQcM2RAxoalU9r8aJk6c6E1EPoyxBwVBeAER30fEH4loOYqOmztRbLNxVBr7lm02ikmMItYzwCGLKCNJN1bQrC+jtSijJEbPk2iAcxxd3JvREcqCUIYMGR4FIhroyEWuiQvgWbzuXKYn1/Y4ajEXL158zl4xaOKwYcPOgPvFYNJTTz3lbCHfHFpt/KvVLj1w+fI9+8XJ2C1boqMDf29kzBxCxKWCIDzs8sFuHV4O1gj9zzI9/alr5jKVlZCWkQGG5GQoHTdu9LX+f4KgPmwrNTQ8fPmxiAj721AQsZSWGcyIvRBduU2sRY0WLFhw1XS+CA4O1kuTXPPoYAoi7pYmxMUkpsMtaUo8IOIERFwXFzc3LSXlhcu5uQNLDYae2VVV7Y87IJB2cg4hnMMUzuEpV4lEzsGXc7ifc3hFEqThrSUALaOCR48+Y4oKFhHR8y35XVIdsiPjQ+WsbfpXgU6n6xIaGjqIiJ5ExAmMsc+JaB4ihpLYK3k/iRlFJgOcc4h4GRFzJNFnijJattkwEFGFNdFI1yON+dLjQkk05qFognNZEo5nSExRPSaJVpdlNsmCUIYMGR4HQRA+a+HJ7QiJNQQGEnsfnXflJMxZ9PPzK3JUEE6fPr2kU6dOh8GNYrB9+/a/qVSqRtMuXU3p4t3g+VWrZu4z1Qru3z9uFZFt50UiWqTRaNwetZAmJ24fj57OuLj5K0yT7QsXICcjAwypqR3KEP0yzZeLjg64aCONM5+IkuLj7asPjIhYcjYysmUGMzExrjOYQSs9y8wNqpYtW6YncVJqMuQwSDfNthPRKRTbTqQKgvCZI+M1LCxsKCL+FBam3Ltt23tnLly4L7+wsG+RwdD9cnW1Q+LQnJs5h0jOwZ+LDd/f5xze4BzGcQ6jNm8e+9WGDRM/CQgI+PfGja9+Kj3/IefwPeewqLYWNPPmweH77oOSzp2hrn17MA4aBOUzZkBmVRUku0Lwde8ONdOmQZa110y1gr/99mUtItYwxtY663yBiO87OFZmOOu7/1egUqn6IeL9iDhKrVa/i4g/IOJSEmvKt0vHXxqJUb8zRGQeZSwyE4WNpqZKj0ukmwUFZhHGfBJFpEk8mqKOuSS23rhCojHOZRLTVs+j6JFwmkRBeZxEcx6blAWhDBkyPA7bt29vS2ID3OZMjM6YooIkNslNc8dk1VEuXbr0lKNi0MSJEydmgxsF4dSpU1e4a7sh4iHGWFDD11jK1q3vJRmN3knV1e1TVq36wWZ9IyKGMsaGtMLQthtENMXdY/JGYEFBvw0VFXDU1Hdw69Zny+PiLOv1WEpi4pwSawJNq116Mjw8ON3eCB8RS/FUgxlE3Gn+ODAw8ILpHLFkyRJTimghXU8VLULEbdLEMR8RDzPGXm3umFUqle0RcRQiqlat+v7ogQPjLl248M/8goJ+paWlvXMqKrqcratrm+oM8WU5eTV/ra4Okv7zHygAAP7II1AyYwZkzpgBl0eOhEIvL+BPPgnFNTWtIwiLi/vk5eUNqDt4cFydVhtUR0S5wcHBQ514qgAAAMaYwpGxIgjC285eh/9lKJXK9mq1+k6NRjMMEccj4v8RkR8iCiTNZaToXjoinmSMnUXEi0SUhYhXJeFXSkTWTHCupakiYhlZRB3Nl5eEZKFZ6qopGqk3+5tnJiZzpe+/KgtCGTJkeCSI6F8OTojS6HpU0NI1z+M5d+7c/OYKQoVCYRg0aNAxcIMYvPXWW93aNgFFx7l6z2k0quT09BH7OYekgoL+28LDgxrUFErv3cYYe7FVBrSDCAwM7IyIbo263gjctOnTaPPoYGLijAqdTmEIDQ1ON18uMnLxedupoJQUG2tfG4qYmIBLnmgwY5kqvWzZshOmc8OiRYuuRQQFQTAJwzJEPExiSloeIu5HxOHOGr9qtbonY+xVRAyJjFyctHnzR6fT05/Ozsm5o6SwsG9RSUmvnPLyrheqq9sfNxq9DjtTEM6eDZcBgM+aBZct37d0KZwHAB4QABdcKQgNhh6ZeXm+tUeOPG+MifGvRcQKxpi6ic3mBQBtm7nJvRBR5cB4OcQYe7qZ3yWjGSCiPoyxIRqNZgQivi4IwmdSb8AQFHsCbpH2jUk4nmCMnSaic5J4zETR6CmPxLYbpl6NFXRdHFoTkpYsllJXi4moSGKhLAhlyJDhsWCMLbTj4pZMYoqE6U6Znm6QqKCJTTWit4dff/11YQsa3jaXexYtWtTi5u0tmAQ3qFsMDVWmXLp07wHOISkra/BGjUZty4J/oae77iHiXHePTU9nSMiypNRUL0NGBhi2bHm+4rpw88+svywm26r/i4hYcsbRNhS2zGrsZUTEEqe2vEEzM5ng4OCjJnOquXPnFtP1eqZr0UHGWC6J2RSFiHhIo9EMc9U4VqlUXdRq9RgUm2LvTUjwS9u06ZNThw6NvXT69MN5V6/eViqKxN5XDYYemeXlXc9XVnY8VV19U0ZdXRurEUVbgtBohKQ+faD6gQfAYEu4Pf88FE6eDDmmx9XVkPTVV5Dt4wNV7dqB8a67oGLZMjhv/h57lhEF4U3Fer1v9bFjTxoTExW1b7zxRm2PHj1KAaASANIA4L8Wm0cPAFMBgACgDAAGNXc7KxSKDuhA+xpE3OdpmREyxB61oaGhQxBxOCKORcRJkniciYiBiCggYiJe76+bLInIVERMR9FR9QSJqaJnpAyACyia5VwisT4xk4iywsOXX4mKCrwaGzs/TxaEMmTI8FhIjWsb1MWY8bjZJKeYxHx5t09SHWVTjejt5ciRIy9AKwrCe++9l9y43aItnwsLW5Z85cpdyZxD0pkzQ38nUjcwJ0LEPYj4cuuM4JZBpVI94O6x6elcsGBBTnDwP/OPHOlclpAws8JMuJUKQv160YiIJWesRwnnFBNhclSU9VpDS8bFLchpLA3V3vRTJxrMXBODjLEU81pkqS7QdLOsQPpbzBjLIjEycAQRR7XyuL6HMfYKEU1HsQl5Ulzc3LTffpt6YufOt88eOPDypaNHn9GfPj20NDNzcIVe71ttzvx832pbgjApCdIBgM+Y0TA6aIsTJ0LeTTeB8ZtvICsyEs588AFcbdMG+M8/X/+MxpYxGiG5uLhPXq9ebfiUKXcaV6/+oY4xVvPss8+eBQAjACgBYDwALJMeTzbbHHoAuAoAOwDgUwDo1pJtq1arexLRRnvHDiJuUyqVvi35ThnuhZSu2pMx1h8R/6ZSqR7YsGHq6AMHXp587NgzfqdPPyRcvPjPlVlZf9+Uk3P7vvx8n6PFxTefMxh6ZpWW9swuLe11paSkV44sCGXIkOHREAThNSsXsgyqnx6aRWKDWrdPUB2lWq0+4gwxqFAoDDNnzjT06tUrFVpHEO4LDLTt1ulKIqLO8rnw8GX78/IGJHEOSampz/1q472r1Gr1na01dp0BRFzt7jHqqZQiYYYffvigcNOmFyosRVdk5JIzlu9JSPArtCbQoqIWn2ssimjJ8HBlRmSkdYFpL2Ni/LOcdDxci4L7+/tnmTmKXmstYWYkU0JiqlkJiZkUn7h7jAMAhISETEXEdVI0o4yIqhGxhohqiag2LCykVqsNqouKCqiNi1tQa0sQrl4NpwCAh4fDWXvE4OHDooD094eL5s+/9Rbkdu4MdeXlkGx7Ga/8Ll28+IULd9bt3/+KsUuXTnzs2LF1iPjnBx98MBTEqOBSi58aBQCXzR7rASAdALydtS2VSuVdaKX9SCPjZ51Op+virO+X0XrgHO7gHJ7jHD7lHJZxDiubm/IsC0IZMmR4PBDRFA1KJ9FR61p6KIpNlN0+OW0u7W1Eby8//PDDVulNOGjQoAYRutYgik3n66WBhoUFH83Nvf0g55B0/Pjja4mYtfeplEpl+1YbtE4CIr7u7jHqqTS1U/Dz8yuLiZljrVYv3/I9ERFLT9qK2BGxlIgI+1xETXWA8fFz81siCi1rHZtxPFwzklm+fPlxKyYyJhai2EvN5GiYzhhTuGNMa7XaHoIgfCbd2DlpsZ7mKa0ZRHSQMbZDEITfpDS5SMaY2pYgXLcOTgIAJ7JPEM6fDxcBgBcWQr0eijqdKCx37YJj5ssYjV6Hi4v75On1vtUREbcbAYD//PO0WiKq6tChQ3WnTp0WSD9zAgBwAHjI4uePl543ReX0AODv7G0sCMLDiHjAgXGkVSgUza1flNEK4Bw6cA5Pcg5fcw4xzq6BlQWhDBkyPB6MsRcRMcd8ciNNJNw+KW0JHW1Eby8ffPDBU+BaQXho1qxZf7T29kLEXYi4zvw5jUaVkpl5bxLnkHT+/IO/EbGDVt43F0TDhhsOsrmMdQYHB6ebiZ+KsDClVWEWHt5QcNkScVFRARfF1+1zEY2MXHImNNQ+h9JGhGUD0eog/zSdS+bMmVOsUCgM8+fPLzJzWjaQ6C5oEoJViHgKEUMnTpzotKhUU9BoNP9kjC0nMSpZT/wh4hXG2A4iCkLEN5VK5c1NfZ4tQXjkCBwFAD59OmTamviqVHBu/nwx2jd1KmR37Qq1lsts3AjHAYBv2gTHp06FK926eRnz832rrly5y5iU9KJx5cqZddOmTasFAP7ZZ59tmThxYkcQxd1P0ipOAVH41VohB4D7peXM3+NUqNXqMQ6eXwNdsR4ymg/O4R4utlMhZwtAWRDKkCHjRoEXIj6LiFrpgnVZcsVqkAZ2o7I5jejt4ffff19y0003pYCLBKGvr+9KN22zMPPHgoDJJ048votzSLp4cchGy5oxiV+15qB1BQRBmOXuseppNI8OMsYqiLA0IaFhlNBaWmZ4+PLj1qOEilJBUB92tA1FTIx/VktEobXUVnsoiagkIkpauHBhtrW6QbreDNuUhnmViNYvXbq0R2uMXbVaPYMsooDS+mxljE0PDg5uVt/PxkxleveGmrvvhnKjseGk12CA5B49oObVV0HPOSTNmAGX27QBbtmbkDHvLADgaWn9qmfN6m5s0wb4+vWT68LCgmtJFNUZI0eOjAFR3PWXVstc3L0tvTYaAIZYYQcr73E6HO3pi4hfumpdZDQNzsGLc3iQc/iWc1jvahEoC0IZMmR4LCSntNcR0bwObBVj7G3GmNX2ATcqm9OI3l6+/PLLmeAiQfjNN9+4w1k0zPK53bvf2MM5JOXl9d8hCKq9VibMM1tz7LoKjLEh7h6rnkTL6CBJQiMiYnGDyF9ioqKUiKVYfkZc3Lw8a+IsOlp0J42JWXjFHjEXFRVwSRDUh1tqMGNtHZtgMhHtJ6Kk5cuXHzOrG9RT/QhcvpQqWilxl1arvd2V4zUkJOQ2Igonsc+ZuRBMU6vVMxQKRYuMUwBsC0LOIWnaNMgEAG6KAprzww8hp00bMfJnHgkMC/M6bzD0yMzP9ynT631rR43qzO+4ozPfsGFy3cyZU2oBgL/zzjuX1Wr1NLPVWAMAx+F69oG5uLsDRAMZyxrNbwFgN1yvGXSpIAQAQMQFDo6tca5cHxkNwTkM5RxmcA5bWlMEyoJQhgwZHgWFQtEGER+TmuvuJLpmlDCbiO4zLYeIz7p7MuosLl269KSrxKBCoTDMmjXLMGDAgHRwshjs3r37Rjdsr7VEVE/wrVjx0wHOIamsrPufYWFLd1i+BxHntNb4bQ04Yif/V2fD6KCpx566yJrgstbiwVaqZ2KiwqDRqFJDQ9VH7Ok1KLahUB+JiFhytiVRQpMQtZfmpiF+fn6FCoXC4O/vXy8ySNdNZCqIqBYRTyLiaFeNUZVK9ThjbLNkWHPN8AsRQ4ODg+925nc1JgirqiD58cehGAD4Y49BybRpkDVtGmQ9+CCUAgCfOhWulJV1u1hU1LdQr+9fOXx4e96lixf//vsBxsDAJ+rGjBlqBAD+4YcflhHRbsbYxwCwGQBKAOA7AHgRRLMYDgCvma2WpbgTAKAUAH4EsXYwEACqAWBaI+9xOiZOnOhtlmnTJBljBwVBeNyV6yQDgHPoxzlM5hx+dZcIlAWhDBkyPAKIeD8RTTM1ZJUmOjFENJGIOll7DxEFu3tC6gy2tBG9PZwyZUoBOFkQTpo0aW1rbidE3IeIa8yf02qXHigr636Ec0iKilq0ycqEJsiV49YdYIy96u4x6wk0jw4GBQVdE4MmxsUtaCAKExKsN4KPi7MeBYyNXZhNREnR0fa1oYiNXZBD1DKDGVFYBh+1cztciw4uXrz4vK1UURKNZMqJqIbEuutFrhibISEhL5NFbSBjbIdarZ7oiu8DaCgIa2raHa2qan+8srLj6fLyrueLirpdmj27Q/Hdd3vXtm8PvEsXL/7YYzdxxnzrjh170njw4Fjj1q0f1P3yy/e1RH51Tz31lLFLly7c29ub9+zZM79///7fWHxlVwBAAMgDgCoQewq+bbGMpbjzBgAFAGSC6Dh6AgC+aOI9LoFOp+tieR5t4ry7R6lU3uXq9fpfBOcwmnMIdbcAlAWhDBky3AaNRuMr9Z+aT2a9khBxKyJ+p1KpmmzKq1Qqb77RTTac0YjeXg4fPvwcOEkMtm/ffjtjDR08XUnGWKz5Y0HA5AsX7tvLOSRt3fqhtQnOSq1W28Fy3NzokFKp7baS/6ty/vz5uQqFwjB37txy8+igibbMZcLClA3ciDWakDRbUUBRnDnWhqKlBjNxcfP09mwDRNxOdK1lTakkjvWW24LE6GCVxB1k4yZbcyGlhm6j+gJ0hT3n8ZbCcvJ66dIQ4+nTDxvT0/9tTEl5wbhv36vGHTveqfv998/rVq6cWRsVtaiOpBYWJEZLKxDxMiJuYYz9rFKpBrh6nd0NlUrVz/zmqx3cSER93L3efwVwDm05h1c4h1/cLfxkQShDhoxWRVhYWFci+hfR/7P35eFtVFf7JwsJBMJOSEgCtPBBoXSjtD9K+b7SlgItpaVAWkoXaKEshdIFaIEAkZd4X2VJ95yRbTnebXZowpYSltCQRNkXspB9j2U7tuVd8fn9MTPOeCzZI1vSyPa8z/M+iUeamTt37p25r86956U5kiS9IITo41mnTAnNF0LcHO6xhRD3mT0wHQ4jZURvhM8++6x/6tSpayECgvDmm29+LZb1JIRYQnI0pHfbW289spQZvAcO/M9iRFyp2+eDoqKiCyLQfOMSRPSs2W3XTA4WHSR5nVpLdbWtpX8UL7jnX6iEMBUVKUeIyLtgQXg2FBUVw00wk7N9oDpAxNVEtEL7HElISGjRTdP0I2KDEh0MIOIRIcQ3ItkWlYyhxzTnK8/JyTk7kucwCuUaA4jYpayTbEXEZkSsJ6Kdiv1Crdvtnud2u39uRhnjBS6X63K9bc8gfIki/EPCWAIzTGKGXzPDIrMFnyUILViwEDUoUYv/cblc3xNC3C2EeIKIEBH7TeMjok8QURDRA5IkfX2Y5x2vvKhMH6SGy0ga0Rvlb37zm8MwTDE4YcKET/Pz8/tZOkSZfe5xcXHeyra209Z2d09aUVyc+58g379+OO0q3uFyub5odvs1k4NFB1WWlGQbTi4jSaHXCqpRxaqqpAYjYq6kJPvz4SaYqa5OaBoowYwaHXQ4HOvV/m232336OhBCtCjG7u1EpDdHHzIQ8Q5E3Kc51zq32/3VSB3fQvQhSdJ1QvS35xmgzUmxtCgZDWDZM/D3zPCu2ULPEoQWLFgYNigEEHGBOjAZ4CXyKhHNR8TfIuLXBj9beCgsLLzK7AHqUBhpI3qjvPzyyz+DYQjCa665JtZrB2v02z777PpPmMH7zjsP9ItUCiGeiHQbi0cIIUrNbsNmUJtJMzc3t4NCiEGZrqDTPEtL+yeXISJvaWnG3oGmcBYX2zeFI+YWLMjaOZwoYXl5+r4Q9dArFFWbCSU6qPUcVE3d2xGxGxH3pKWlnTHcdpednT0bEf9DJyKCPkR8MhJt2kLsQUS3h/k8TjG7zCMBzDCFZd9A07KFWoLQggULEYH+oUBEO4UQO4QQ2xFxGxFtRcTPhBAfCSFeEkK4SBZ+TyLi74UQ387MzDw1FmUdaf5s0TKiN8Innnji2EknnbQKhiAGx40b501KSoppdFBnO+Ktrk74hBm8Pt/MJUT91jFW2Gy2ibFoc2YDEX9udjs2g8nJyT4j0UGVFRWphpPLuN1idU1N/2mmtbU2v8eTt4UodAIaPcvKVHN7Y1HFYAyVYEb9Ec7pdK5T+3VeXp5Pf+2I6Cd5GmWbEOKRCLS5O5Tpl+qxF5G1tmzEAxH/EU4fFEI8ZHaZ4xXMcBozPMwMH5gt7CxBaMGChYggiCDcQHIGubUk/0Ldz/wbEd9AxEKSheFfEPEuIcS3nU7n9GiW1el0njZYpDKeGC0jeqP88Y9/vBeGIAgvvfTSWPsO9kkWI0muNUePXuhlBm9l5fy39d93OBwXRbOdxROWLFkycawll9FGB/Py8gaJDsosLCwIKsiKi/snlyEib2lp1q6B1gaGa0NRVGQsqhiKQRLMrFHWD3rT0tIOKPXRb+0gER0mog6STeg3DLe9KdP8VaG5DxFvi0Q7thAfQMS8cPqiy+W60ewyxxOY4Sxm+AczLDVb0A2D/2GGfxcX/+1IYeHfD6alpS1JS0tbYnbdWrBgwWQEEYTDHdB9gojViJgpSdKf3W73D1wu11mRKi8i3mb2gNUoo2lEb4TPP/+8f9q0aeshTEH41FNPLYtxXb2s/Xvhwr/8mxm869ffuFD/XUmS/hyptjRSQET/NLstx5JqdDA5OdlQdJAGSC5TXi5bSvRn6IyiaqKXUFNLg5zjEBF5KypSDw5HFJaUnEgwg4gfEvVdg5ybm+sLcf0BRGxDxCEnUPF4PGcKIZZrjrkokm3YQnygtrZ2kmL1ZLQ/fjrcHACjAcxwNjM8EQdiLhQ/YoYyZkhmeQrrj5jha8xwKTNcwAxnml2HFixYiHNEQRAGpTIlMFmSpF8S0ZdsNtv4oZYZEYvNHrQOxmgb0Rvlgw8+WAdhiMHzzjvvw1jWEyK+3HebWNXcfO6nPT0TvB5Pnj4a/O/a2tpJw270IwxjKbnMUKKDKj2eoMll/G538KQtoczlq6sTj0kSeYnEauM2FAUb3W7XmlBTUY2wujqhSZJwFSKuRsQ1ROTNyMjYq9YHIh7TXq8kSUfpRHRw9VDbFyJeKYTYqxz3mBDi8Ui2XwvxhbS0tDMQ8c0w+uUHY2lWhhbMMI0ZnmaG/8aB6FP5ITMQM/xVEX4zza4nCxYsjALEShAGEQIfIWIeIv7a5XJ9MZwyE9GFpBg1xytjYURvlNdee+3nYFAQ/vGPfwwnRfmwKYTwaP9+7bUn32EG75o1P/q3/rtut/sHkW39IwdEVGR2m44F1ejg/PnzDUcHTzB4cpkFC7J2hjpfdXVi40D7lJRkf25EzFVVyVM+S0uHm2AmY68aHdSuQc7KyqrXXqsmsUyAiNpcLtePh9Ku3G73rxCxQTnWnvz8/Ksi3XYtxB/sdvssRHw/jOf0okjO9Il3KFG155jh0zgQgEuZwcEM9zHDlcwwzuz6sWDBwiiEWYIwCN8jOYL449ra2tMGK7ckSX82e/AairE0ojfCp59+unnKlClrYBAxOHXq1GUulytm9YSI/dYqHjx42fKengne4uLcD3TfrY1mP4h3uFyuW81u19Fmfn7+Z2qbzc/PDys6qLK83HhyGSLyejy524KvDZSjdUTGE8YsWJCzXZJCi0xjfKG1oiJ5ExF5s7Kydqn14XK5GqmvIGwgJbMoEa0YSpsiouc1x1xnlq+gBXMghLgKEQ0vD0DEapvNdrLZ5Y4mmGEWMyTEgQhcxPJaxWvMrhMLFiyMEcSRINTyEyJKRsSQD0Ml2Ua/NWbxwFga0RvlXXfddRAGEYS33XbbB7GsJ0S0a/+urExZwgzejRu/t0j/XbfbfUMMukPcYsmSJROJKKb3J9bURAfbw48OynS7gyeXKSrK3xzqvFVVSf2mmtbW2vxlZZm7icK1ocBVRUX5m4cqCD/++O6WHTu+WUdE3oSEhCabzeZPT09v0F1nsxCilYi6EXFI0UEhxD+VDKJ+Ino/Gm3WQvxDCHFDmM9sJ8Doi1Apa+3STRaBrzLDo8xwpdn1YcGChTGIOBWE2hfQa4j4B4fDcY6+7C6X61qzy6enGUb0RnnxxRdvhBBicNKkSavy8/NDGmRHT0uA/gAAIABJREFUge8h4rvabevW/fBtZvBWVSX02T7Wo4Mqwk0bP5Koiw520hDEoEz0V1cn9FvHV1ERKrkMeT2e/M+CRwltLer6w4qKlMNGBF1pqWxDUV5uzLaiL59vO3To0taGhhn+117740G1PpxOZx9BqEYHSRaEa8NtR0KIxzXHWhCNtmph5EAIcV84fVUIYTO7zJECM1zODFnMsNIkEfghy1NTx3ziHgsWLJiMeBeEOma5XK7/1ZYfEdPioFy91CaBiDc+/vjjjePGjQsqCL/73e/G1M4DETO1fxcWOv7b0zPR29R07koi7GN1IknSz0zoGnEHt9s9y+z2HS2qa26HEx1U6fHkhJVchoi8lZXJdcHX9Mmm8YWFznUGbShaCgtdayXJtTbcBDNLl85paWiY4W9omOHfseOS7qSkuf758+cf011fk5JRtFv5965w2hARPUInxGBhtNqqhZEFIYQtzOf3780u83DADFcwQ56J0cAyZriVGSabXRcWLFiwAAAjThCqL6OFQog/ORyOcwoLC89GxI/MLhORuUb0RvnDH/5wN+jE4MSJE9cmJyevieH9W0q6JCnvvvvAi8zg/eCDe/XRwY9to3zdSjggGaa39UgyctHBgZPLlJaGTi5TWFiwMYTA87vdznVE4dtQhPI6DMYXX3y+VY0O1tXNaD90aHrg7bdv7iwoKNAnk2kkojYiCkiStNkWRrZmxbKnWTmOiGY7tTDiMA4RnWE8w1cKIW4wu9Dhghm+yQzCJBG4nOVpqV81ux4sWLBgoR9GoiDUvZhyEfE5s8tBZL4RvRHOnTvXf/bZZ68DjSC88sorYy2ok/WDi5aWs99hBq/Hk93nu5IkvWByF4krCCFuNrudR5pqdDAlJWXY0UGVZWWp/URhdXXisYHKEWpa6AkvQ7G6piah2YjAKy4u2BhOgplly+7yq9HBw4endx86ND1w8ODMQFlZWiudEINNyrq/LiJqlyTpj0bbjdvtvpaIGpXjVEazjVoYmbDZbCcjYrXRfouIy4QQIyIrLTNczwwlJkYEn2SG6WbXgwULFiyExEgXhJqX0y4i2mRmGcw2ojfK+++/v9ebcNy4caufeOKJ9bGqIyHECiJK1G4rL59fwQzevXuvWqH/vtPptNZWaGCz2cYj4mKz+1ukmJeXt0Vtl3a7vZMiIAZpgOQyxcWhk8u43Y71oaaFFhYWbCAi74IF4dlQGEkw8+KLz7cePvzF1oaGGX6fb0bboUPTA4cOTQ/U1c3s3rz5+i46IQiPEVEryVYTW3Nyck4x0mYkSbqMiI4qx1gW7TZqYeTC5XKdJYTol9QrFBHxfbvdPsvscocCM/yviULwY2b4G1um8BYsWBgJGC2CkIg2KgOeI4i4IdbnjxcjeqP8xje+sQ0AvDNnzuwnwqLMdGXKaO+2LVu+K5jB+9Zbj72nG2wsNLt/xCOI6PE46G8RYTSigyQ/B1qrqxNDTucMxYqKtAPBRFtlZcph9TtGbShKSnK2y8ccOCHN8uV39EYHjxyZ3qUKQp9vVsDnmx1YuPDxdkRsUq6tExE7nE7nX420lSVLlpxMRHuUfbfabLaJ0W6fFkY2HA7HRYj4sdE+jIhvpqWlnWF2ubVghh8wQ4VJQvADZvgzM5xudj1YsGDBgmGMIkHoJaJ9mgHhQURcG6tzqynzRwqffPLJpkmTJq354x//uC6W98jpdP617zbxOjO83909aXVRkV2f9OMRs/tHPCIvL+98RFwZB/1tWIxWdFClx5PdT7gNllxGSQYTVLgVFdk3EYVvQzFQgpmXXprbduTIxf2ig0ePXtDt880O+HyzA/v3XxFwux3HSFk7SESf5+bmGoo6IOISpT4O2O3286LdNi2MDkiS9C1EXG60LyNiudk/NjDDOGa4hRlqTRKC7zPDn5hhUB9lCxYsWIg7jDJBuIqI+mTlQ8S9iBhVO4V4M6I3yl/+8peHYmlEL4RwIeJr2m3vvPNIEjN4t269tp9BclFR0QVm9494RTgJIOKVanQwNTU1otFBlZKEQdf7LViQtWugcpWXB08eU1kpTwMlIm9lpTEbCtXLsLQ0c3ewz1es+HnQ6GBdnRwdlDmre+nSX3aSEh0UQjxvpI0IIVJJfgY2O53O66PdJsNFTk7OKW63+6sul+tGIpqDiA8T0bNElCWEcCNiORG9jIhv6d9TiPgRIr6LiG8S0UuIWI6IhYiYjYj/EkLch4g/QcRrnE7nbLOvdSTC5XLdGk5/RsRMM8rJDOOZ4afM8IpJQvA9ZriPGazkZxYsWBi5GGWC0EtEW4MMDpsRcUe0zhmPRvRGmJmZ2YqIG2N1b9xu9/26AcTSjo5Ts5nB++qr//qP7rMys/tGPAMRfxgHfW3IjHZ0UGV5edqxcJPLuN1idaiIXnFx3hai8GwoJMm1Vkkw06csL730bNvRoxf6Gxpm+OvrZ7QGiw6qgvDo0YuOl5enBxBxlxGBU1hY+ENNPaTGok0OhKKiogvcbvcNiPiwItreCKe9ROI9pZwzSwjxEBF9P57XvsULSLYpCaee/xarsjHDRGa4gxneMEkIvs0Mv2HLOsKCBQujAaNQEHqJ6EiIAWIjyYIxYueKZyP6gZiQkNAmhGhVTK6jfk8QsRoRc7XbCgsdLzDDp21tp611u52rdd//tdl9I55hG+HJZZKSkhpsNps/LS2tIxrRQZVud0HQLJ/FxfmfDVS+UBG9qqqk3v5SVpa+z0iUUM1SWlyct6VvdPC21hPRwRmdoaKDPt/sQF3d7OObN/9vABGzjbQPIcRekqODS6PdFvVQ2uaViPhrRExDxLeG216i9Z5CxKWIWEhEjxQVFV0T67oaCUDElDDr9fZolocZJjHDr5hhoUlC8N/MMIcZTormdVqwYMFCTDEaBaGydrAl1CAREeuIKCJr5+LZiH4gpqena9PZRy16qrknv9ave9u58+o/MYN3zZpblui+u9zj8ViZ2QaBJEl/NruvDYXaBEwFBQWdofppJBgquUxl5cDJZSQJV9XUJAT1M1STxYRrQ0FE3srK+Udra23+V155JkR0cEaf6GBd3axAXd3s43V1F/bU18/s3LnzG4MagiNimXLtR2KV7IOIThJC3ICISUT0QaTbTKzeU4pAdAoh7nM6nVcAwLhY1F88Y86cORMQUTJah0KIFZIkXRfpcjDDZGb4rRKZM0MIvsYMtzPDhEhfmwULFiyYjtEoCBXuGmSg2CKE2D6cc4wEI/oQbHO5XFpB2BLNBDxKhOBvum0SMyAzeKurEz7UfeYwu1+MBIzU5DKxig6q9HhyQySXca0ZqJylpdk7gieLSTwmSfJ3SkqCf6d/ZFFef+h2y1NNV626tTc6ePTojI5Q0UFZDMpsajq3TolOhEzeIUnS9xCxhYj8LpcrqpEaAAC3232DECJVnzk40jTrPYWIi4UQNrfb/QOPxzNm14gR0RREfDWMelvqcrkuj8S5mWEKM/yBGRabJARfYoZbmWF8JK7HggULFuISo1gQeomoIdQgUSUiHh5q0pmRYEQfjCkpKa1B6mHAiMlwKEnS70gXNaiuTvg5M6xsajp3NZHQTxf9idn9YqSAiPLjoJ8ZZiyjgypDJZcpLR04uUywdX8n9s3ujaobNZ8vKcndRkTeiorUA3V1s/tFB48cmdFv7aA2OtjZefIWZYD6UKj2oET7/UKIV6LV5pxO56WI+CQi/meg+osk4+E9hYj/RUS7EOLOwsLCs6NVv/EKp9M5PZxp6sp3zx3q+ZjhNGZ4iBmWmCQEq5nhJmYrSmzBgoUxgHh40UaRG8nYtLImGoKp/Ugxotex1W63t4WohwHXVQ2RHwoh7tRte4cZfscM3v/+95fv6T77hIistRkG4XK5vhcH/cwwYx0dVFlWltZv+mdNzcDJZYjIW1KSuy14spiEJknCVUTk9XjyPzMiCOVkNrhKkhzrDx26tEkfHfT5ZnaHig4eO3Zeg2ag+l9mmKZvC4j4pHK9hyPdzux2+2REvAMRF5jRbuLtPYWIKxHRjojfiXRdxzNcLtflYUaDXyKiKeGcgxlOZ4bHmOFDk4RgOTPcEKUqtGDBgoX4RLy9aKPAA2R84LjX6HFHmhG9yuTk5KBiUOExkq07Ilb/QojHELFWt/0BZqhiBm9pabre6yrZ7D4x0oCIb8dBPwunz7QWFBR0hdEvh83CwuDJZTyegZPLEIU2oi8tlS0liMhbWZlyxFiCmZT9iLjq7bf/vLWhYYb/8OHp3YcOTQ8cPjwjEHzt4Oye+vpZnR0dp2zXDVpzdM1gPCIeJvmHnaRItS273T7Z5XLda3YCozh/T70sSdIvx8qUUkmSrhNCrDBaP4gozZkzZ9B1d8xwNjP8nRmWmiQEPcwQd/YsFixYsBATxPmLdthUpoM2k8GBIyL6iGjQ9XQjzYjeZrP5582b15qXlzdgVEbJThip+v/U6XRer9+2Z8/XvswM3kOHLlmlrsVSKYT4rtl9YqSBiB40u58ZoRodTE9P7xBCDPTDRFRYVdU/uUxFRcrhwcqtzw6qtZRQTe6N2lCsXn1La2lp+loi8m7a9K3GE2sHQ0cHGxunHQsxgO3NiimEyFKeX4ci0aY8Hs/JipdfXGSyHQnvKUT8iIieHgv+qUR0e5h1kxLqWMwwjRn+yQyfmCQEJWb4dizrz4IFCxbiDiPhRRsBbqcwBo5KkpUtoY43Uo3oExISjE7RWx+hen8+SMryZGb4CzN4Fy++/13doOF9sLL6hY3CwsKzw/nF3gzm5uZuMys6qNLjyRtSchki8lZWJvuCCbyysvR96ncGs6F49dWn2ny+mf4NG75/kIi8+flPNu7ff8Fxebpo6Ohge/upO0MMZF9jholOp/M0Iqoj+Qedp4fTlmw228mI+Id4EYIqR9J7ChGXE1Giw+G4KFJ9PB5BRH8Ps14e1u7PDNOZ4Tlm+NQkIehkhm+YVX8WLFiwEFcYSS/aYbKOwh9E7kfEflMoR6IR/bx581qzsrIMCULFlmO4g6KVQoiriOhT7Xa32/1VZljY0zPOW1ycs1K3z5Nm94eRCkTMjoM+FpKJiYmNNpvNn5GRYUp0UKYIajavnfoZikVF9k0hooR+SXIpMwoGsqGY17pu3Y1tambR8vJ/7bDZbP633765I1R08OjR2T2NjdObmWHVAIPa+xFRkCwG9w61/RDRSUR0DyK+O1hdmMGR+J4SQqxAxDSn03lpJPt6PAER88KpE5fLdSszzGIGm4lCMI8ZrjC77ixYsGAhrjASX7RD5HoawiASEeu1lgwj1YjeZrO1CyH6ZRcd4Lo/H059Kyb0D+q21TLDN5nBu2vX15bp93E4HF82uz+MVAghvhsHfSwotdFBh8NhSnRQZXl5er+soUaSyxCRt7Iy5XAwsVdRkXZA/U4oq4rXX3+izeeb6VcF4YYNX+uw2Wz+lJQXmvft+5I2s2hANaL3+WZ1tbaevmegwW1Pz7jlZWUZx4jI73K5/jbEtnNnJMzjo8mR/p5SnodfinS/Nxu1tbWTELHcSB1UV9s2bNz4vQNdXZM3miACVzJDJjOMWnFuwYIFC8PCSH/Rhsk9NLSB5DFE3EA0oo3ow83o2ExEg06lG4BXE9E72m2SJP1MmSLkffPNx/tkF0XE18zuCyMdRPTvOOhj/ahGB9PT0zvNiw7KdLsdQZPLFBfnhZwirrKwsGBDsHWC8rRTR+806/42FPNa16//fm900Oeb0Xbo0PRAeflv2vPz832LFv2lPVh0sKFhhv/48XFrBhroHjt2bv26dT/sIqLPw20vdrv9EiKqMLt9GOFoeE8pmUkTaBhWDPGItLS0MxDxzVDXXVPzwobNm68/rLb/xsbzm7u7J66PkRBcwQzzmeELZteTBQsWLMQ1RsOL1iglSfKSnElzKJHCFiHEloSEhGazxd1QooNaI/owrvngUOpZCFFKRDfptn+wfftfJjPDR93dk1YXFjrW6Pb5k9l9YaRDkqQ/mt3H9Iyn6KDKqqrEflNHKysHTy5DRN7y8tSDwaOEJ/bXJ6F5/fUn2urrZ/RGB48cmd516ND0wOefX9ItSc4WIvJv2fKdbtmUflZvdNDvP3P/QIPd48cnrlON7D/++B6b0XZC8vTQR0k3nTueOdB76rLLLjsGAKzl5MmTA1/4wheaH3744W36Y02YMKHnlltu2R/razjllFO6f/SjHx1AxI+EEPdRf3udEv116Lh42A+J/ugAgGGtOwUAsNvtsxDxfe31vvzy3I1btlx3RG33WjY2TjvW0zPwjx3D5KcsT0udFYE6smDBgoXRj7EkCBV+RkMcSLpcro6UlJT2OBB4YTE1NXU4fm8bw61jt9v9A0Qs1G1/nBl+yAzeTZv+7yP9PmMhM1+0YbfbT4+35DKatYOmRwdVDie5jCS51obKJlpYWNDbV6qq5h9Vo4MbNnyvNzqoNaI/evSC7g8//G0HEfkrK5Mbjx69qDezaH39jNaenvFrB44OntcoRxYvaGc5wcygqf3dbvdXEfEVs9tFuBxMEE6ZMqX7rrvu2n3XXXftvvPOO3ffeOONB84555wOAOC77757l/b7X/nKV+rvu+++YU2JHwpVQajZ9roQ4gbN7SkBgCaQBVow3h3pZwYAVALA7ZE4kBDiKkRc9tprT23etu3bR4MJQS2bms6t7+kZcH3sULiMGeYyw/RIXJMFCxYsjBmMQUHoRcRDNISBpMPhCDgcjkBGRkaH2SLPKOfNm9dut9uHLAgRsTHMun3D4/FcrNu2UggxjRmymMH70kvPvq/73GN2PxgtIKJ0s/uXypycnO02m82fkJDQ6nQ64yI6SER+ScKgiV/KygZPLkMUOptoZWVybzImt9uxvqbG5n/jjb+3aQfBR47M6DxhNTErcPjwF48XF+e0IGLzsmV3dKrRwZaWsw8NNPDt7j5pg7rusL2916Pw3oHaBiL+VsmAaXrbCJeDCcKzzjqrQ79PQUHBqlmzZvknTZp0PC0tbVAroWgziCD0EpFXCOESQswEWRDuj8mDIgpghv/X1HTum4MJQS2bm885EiEh+AnL1hXTzK6HUYLHQI5Kq2sufQDwnOZz/d/RQkQi2EFwNwD8PgbnsWBh5GAsCkKS18YZ9iYkIr8Qol0VhA6HI5CZmdlpttgzwuTk5I5wrjMEDQ2UiciLiHch4nO6AU8OM5zGDJ+2tp6xhsi1WrffHLP7wWiBw+H4f3HQv7xE8RkdVFlWljHk5DJut1hdU2MLmrFUa3RfXp5+YPPm/w0RHZzRm1l01aoftxFRa2GhvX3//st76usvaOvqOmnAxBuNjec3+XyzAw0NM/ya7UuZ4Rx9m7DJVhJxnYV2MA5FEBKR98EHH9wGAHzbbbf1+qsGmzJ6++237znnnHM6JkyY0DNt2rS2e+65Z6f282eeeWbjJZdc0jR58uTApEmTjl9++eXHEhIS1odzjFCCUOEnM2fOXArGBWEHAPwVANwAUA8ArQDwMgCcqfnOKQDgBIBGADgGAGUAkAkAa3XHeVr392DHBQB4FAC2AkDHaafB56mp8JHaDtvapu4KRxT6/WcdGIYQXMoMf2OGsw3WmwVjiBdBGLEItg6vQd8p2NE6jwULIwdjVBB6EXEHhRcd7NYKQofDEcjKyuoyW/ANwrbc3NxhC0JE9BPROgN1+n5RUdFURPyvdrvL5bqWGe5gBq/Xe6s+Ori8trb2NLP7wWgCxUFymXiNDqp0ux39BKEs6AZPLkNE3rKyzN3B9q+qSqpXvyNJrk1Hj17Uog58jx6d0aGNDmozi1ZXJ7QjYsdbbz3c3Nx87tGBo4OTNqn7dXZO/kz3eR8DcLfbPWskThHVc6iCUAjhnTBhQs+Xv/zlBnWbXhDedNNN+wGAv/Od7xy59957P7/uuuuOAADfcccdu4nkSOPUqVO7LrvssmMPPPDA9t/85jc7zz///LZp06a1CSEMHYNoUEHo/cY3vuGbMmVK+69//evrAWB6EGrXHHYAQDsA5ALAVSBHPDoAIEfznVoA2AYA1wHAFwDADgA9MLggHOy4cwGg50tfgpcLCuDDP/wBjowbB5yRAbvVduj3n3UgHFHY1jZ1V5hC8ENmeIwZTg/r4WjBKOJFEEYLekFowYKFsSoIFdaTsehgm14MakRh3EYKExMTOxAx7GQywWjQm/ABRPytdpuaPZQZCpnBW1GRtFT3eZ7ZfWC0ARF/b3bfSkxMPGaz2fyZmZlxFx1UGSy5TEVFyhEj1ydJuKqmJqEpuKjM3aZY1Wz++ON7duqjg0eOzOjnO7ht27UBRGxHxM+am896a6DBcEPD9BY5Oji9JcR3vgoA4HK5/peIPjS7LUSCQxWEROQ944wzOi+66KIW9W+tIExPT187YcKEnuuuu67Pff/617/umzp1ahcReZ966qlNAMB//vOft6qfP/3005u+/OUvN2RlZa0xcgwiY4IQBk4qc62mm3cAwBJd138RAFYq/79K2edmzefjAGAjDC4IBzruuePHQ9evfgVbtW3u9tvBd/750KXd1tx8TtCEMqHY2XnyFgNCcAkzPMQM1o+I0UW4gpABQG978xL0FV0dIP+YsAAAmgHgKAC8AADfBoBlyue7AGCObp9wI9gng/yDxj6Qf9zYrpxnnPL5Wujbr84Ncp6JAJAAAHsAoBMANgHAH3TXZzSabsHCyMAYF4QbycDA0el0doUShA6HI5CdnR13kULFiD4S00W1orBfxj6ViLi0trb2NNJFp4QQdzPDeczg9flmrpYkXKXb9yaz+8Bog91uP51MzCAZ79FBlcXFef0sKGpqbP7CQpeh9WYLFmTtDCYIq6sTG4lwExF5JcnlPXDgskZtdNDnU43oT3gO1tXNPr5w4V/8RPQyM1zKDMuDDYg7Ok7eqorJ7u5Jm0IMml9CdP0h3hIMDYfDEYTnnHNOx6WXXtqk/q0VhL/73e92AAA/+eSTm7X73HvvvZ8DACcnJ6/LyclZPWXKlO4zzjij8yc/+cm+J598crMaGTR6DCLDEcLuBx98cNuDDz647f777/dee+21/wCAWxSeoenmHQDwjK7rO0COCALIUzqPA8Ak3XecMLggDHpcZri1oACWAQB/9BFs1ra5khL4HAB4xw5Yp27r6YFVTU3n1hsXhdNbursnhZoqvZgZ/sAMU4w/CS0MA9EShB0AkAoAV4PcrhhkcfhnAPgaAFSBLOLO0OwTbgTbAQB1APAnALgRAOaB3BceVD6/EgA+AIDlAHANyOJPf54iZds8APiFcr7jAPBkmGWxYGHkYIwLQi8R7aOBRVDrQGIwXkVhQkJCRzhG9EaIiE2IqF//p/KfRHS9dhsiLiWiKczwR2bwfvzxPXrvwY+of+p1CxEAEc03q0+NhOigTBF0HWBpacYeI9cpSeStrk4Mthax1ePJ7Z2SuGjRo1tVMXj48AztVNFurSDct+9L/qKi7J8BADDDU8EGxvX1M1p9vtmBY8emHQv2eU/PBO/HH//60IIFWTuNXMNI4VAFocvl8p500knHr7nmmt4ZDlpBePvtt+8BAB43blw/AgD/61//2kRE3hdeeGHD1Vdf7ZsyZUo3APCpp57a/ZOf/GRfOMcwIgi1EUWViJhB/b0LO6D/ANwBAKof5TyQ1w3qkQiDC8Le4zLDxK9+FRbOmAF+ZvCmpMAeAOAJE/oTAHjZMtjUtz2OW9PYOO2YcVF4fvPx4xPXaY7xNjP8lhkmh/H4sxAEzHAyM5zJDNOZ4WJm+BIzfD3E16MlCBdq/p6t7Cc0276lbPs/zT7hRLBBOccjuu8sBzmSp0I/ZVR7ni8pZdAfQ4AsXidr9hmsLBYsjBxYgpBW0QDehC6Xq9OIIFSyj8bF9NF58+a1pqend4a6pmGyn3+XEGKFx+OZTkQFus+eBgBgOSW+t6Qkc6VuP5vJzX/UgoiuNqM/ZWdnf65MV47r6KDK0tLMftM+q6sTeqNJg7GkJGd7kHWEbTU1CU1qNDw3N3fb6tXf6JLXDmqjg7N6xWBd3axAY+O0Y4EA/BEAgBlOUaIivYPr9vZTtqv7BjP2bms7be077zzsk0VpQrMkDW6jMVI4VEH4yCOPbAUA/t3vfrdD3aYVhHffffdOAOAHHnhg+zPPPLNRz4KCgj4zGoQQ3n/961+brr322qMAwI8++uhWo8cYqiBU+IEQ4k5NFx9MEP4T5IjGRN13isCAIGSGk5hhDjP8+/e/h6OzZ0MHM3gdDtgJAFxTA9tXrICNera29reR6O6euL6x8fxmo6Lw2LFpjYHAhHeZ4VfM/SKcFgYAy8nbrmKGnyprLLOY4SWWfRn73JfFi289+J///PRAenr6vPT09Hm6Q0VzyqiKM5X9HtZsU6c636rZx1AEW7dtPABcoRznHwDQAnIWXxUDCUL12qfqjvljZfs3wyyLBQsjA5YgJC8RbaXgETFD0UEtU1NT48GnsMPhcEQtMoOIG7X1h4hpQoiZiNhH8Hk8HvVXSO+BA5f3+UwZXH3b7PY/mmFGMhE1OpiVlRXn0UGZbrczRHKZ3K1Gr7mqKqlBKwYrK5Pb5Uhj1i4i8iYlJTXk5T3eduhQ8OigLA5ndrS1nbqT5ayJZwIAMMPPtAM4n++Cdjk6eF5DfzF46pqFCx/vMwW2vDz1YKzvf7Q4FEGYl5e3evr06W2nnXZaV15eXu/MBq0gTEhIWA8AfOedd/bJpHzrrbfuu/DCC1tcLpf3rrvu2n3SSScd14pDu92+CgD4nnvu2WnkGETDFoTqs9YjhLgYBheEN0P/NYRTAOAQDCIIb78dypTInJcZvFpB+NlnsH7cOODMzBMJZJjB+8ILsO/qq6Gluzv42r+urkmbGhqmDyoGDxy4rPH99+/d4XY7Kmpray0xOAiYYRYz/JgZnmeGFwdZf+llhveZYREzvLJo0R0bFi68a3VqaqotNTXVpjt0JAThK9BfdGmKlHZ3AAAgAElEQVS/owrC+zTbVEH4U80+ISPYCrTtHpTj1SnHOQByxHAfGBeESSBn5tXju8oxrwujLBYsjBxYgrCXR0k3WHS5XB3hCsKCgoLj8+fPN1UUpqSkdOqvJZJExAZt3dnt9kuEEE/o6hMBAJjh78zgfeedh97VDWzeNbvtj3YQ0T2x7EMjLTpIRH5JIn9VVXIQT0FjyWWIyOvx5G05sV9iu2Y9YktBQe5WtV8uX/7jVlkE9l07KEcHpzdrTLqfV+8hMyyQo4NTd6n7Hj/e17A+mBhUWVRk3xTLNhAthmNMf9ddd+2+6aab9p911lkd48eP77n//vu3a7+vzzJ6zTXX1E2aNOn4Lbfcsv/ee+/9/Prrrz88fvz4HnVKaGpq6tpJkyYdv/TSS5vuu+++zx944IHtV1xxRePkyZMD8+fPX2fkGETGBOHkyZMDt912295g/NWvfrWL5GfnsnHjxnWPHz/+H7ourx2MTgCADSAPhH8JAD8CeQDcCgBrNPt0AMDTynTC+046CY4nJMBebfvSCkJm8N59N9RNmQLHn34a9peUwOcPPgiHJ06Enueeg30DiZH29lO2hxKC+/Zd0fif/9y/XZJOrM20Eo71hxIB/BkzzFeEXdA1xMyQyQyPMMMtyo+y4U65jYQgXAKxF4SXAUAAACSAPhY8K8C4IFSj6/rlLPcoZZtpsCwWLIwsWIKwl+uIqIU0g8VwxaBKu91+PCkpqc0kQTgsI3qjVGw7vESEdrt9MhF9oKvP7zPDOGZ4t6dnnLeoKE+fTEb/ILUQYWRmZp6qtwCJJtXoYHZ2dtdIiA6qHG5yGSLyVlYm+7TRQZVC2FpsNps/KSmp2ePJ8R88eMlxNTooTxmVo4Otrafv0QzoVjLDZQAALCeYWenzzezw+WYHmprO8xkVg0rEssHoNcQzBxOEoMvIefLJJwcuueSSpscff7yfjYheELpcLu+NN954cOrUqV0TJkzoOffcc9t//vOf79Xu8/DDD2+74IILWidMmNBz8sknBy6++OLmv//975+Fc4zhZhnVRkEnTJjQc/PNN69zOp3aNWD6wegMkNc0tYIc8UAAIOi77qnjZz+Dl5XIkXfSJOgZTBB2d4P373+Hg9OmQdekSdBz8cXQnpzcd59QbGs7fbdWCO7d++WGd999cJtWCOr49yg8GkcUmGEqM9zODAVBpn4uZQZkhgeY4WrmfiJmqAhXELaAnMlTxRQAaILYC8Lblf2v0Hx+ulKWEs22gQShGgnU+yO/CgCfwYlspZYgtDC6YAnCPtxFyiBRb0Q/hEhhIDExsTXWgjA5ObmTYjCIRsQWRFwrhPiuEOJOXT2+AwDADNcyg3fHjm/2y3jpcrkuN7vtjwUgYkIs+o4aHUxKSmobKdFBlZKE/trahH5iqqzMWHIZIvIWFdk3VVYmtfUVlS+0lZfPDSQlzWvNz8/3EZF/yZLft5+YKiqLwoaGGf7jx8et0Q30POo9/Pzzqxep00y132ttPW3tQGLwRJKc7B1GryNeab2nghMRVyLic06nU2/DcAbIGRbP0m1fAgAuZjidGf7MDB8YEXKRpN9/1sHdu79S//bbJ2w8BuGYNAxneR2gK0gdVisCMFRCmEggXEH4FsgWDdcAwBdBzhbaCrEXhBeDbBPhAYCvKMdZrpT3PZD9PAEASkGOnv8c5Ey8+vO8B3ICmSeVY+Qq5fplGGWxYGFkwXrR9mMDUXAj+nCZn58fiKUYnDdvXnskjOjD4FYAAESs1dahJElqYgwbM3jfeOMfi3WDmFpzW/3Ygdvt/mos+s1IjQ6qLCvL7LeWMJzkMkS0sbQ0vb7vtNPnuioq5gYQn+8komb5XK76vXuvUiOE3fX1Mzv9/jP3hxg8fx8AoLg4/8DBg5cGmpvPOaJ+1tl5yupFix5rGEwMjpYEM9Z7alC+g4g/0nT900GO2rwLsmXFDwAgHwC6Kiogkxk+jrUQVFjS3Q3fQ0TJ6LUJIVZIknRdv4fbKATLyXx+yQxv6urtRWb4EzPMilFRwhWEXwCA90G2YTgIACkgR6PNWEN4J8jeg+0gi8GfA8CvQRao85Xv3AAAR5RtZwU5z1SQI+p1IAvM9QDwO915LUE4QvCpwoGgbwCRgpHj2mDgRnMlAHhBbohfjUyxAKB/J7YEYX9uHMiIPlzG0o4iMTGxM1JG9Aa5nYju1dXfp0VFRVOVF9tHnZ1T1rjdTn2mvvsi2KYtDAJErI5mn8nOzt4xUqODKiXJEdRkvqTEWHIZRNxUWFiw4cS+81orKuYGKirmBqqqXuh2ux1tRNRIRP5///tvHWqW0fr6Ga09PX3XBGr4ptvtTCQi/+LFD/SuMezuPmmVmk3UKMvL00JOVRwJ1L+nEHEhEb0nhPjI7LLFGfOdTqcaBbkWAP4D8nS51gsvhF0vvwyhfP6izUJmuFZ9JhHRFCJ6yeh1IeLS0TyrhBlOZdme6T+aOlvCcqbQSwc/ggULFkLBiCCsBHm+caRh5Lg2GFgQ5gGAHwAegv5TPoYDSxAaYF5eXkukBKHD4QikpaV1xEAQtmVlZXVSjAbQiNikvKh3kGzdodZfIgAAM9zMDN7167+vX1votdvt50WwTVsYBJIk/TKa/UWNDubk5IzI6KDKqqrkfr6ElZXzjxqog81EtJGIvBUVqQfltXvPd6qCsKbGFigvT+sionrlXC1bt36nzeeb1dXScvahUIPonh5Y9eGHv2smIr8QIpUZynp6JngXL76/LhwxOBoSzAz2nhJCfCiEeBMRaxCxDBE9kiR5lL/fjXV5zSQiLkXE3wIAsOw59ywzLDNJCArm3jT9fUBE5yLi4jCua7FG7I4KMMMUlpO/aCO2L7O8ZtDyXrRgIQIwIgjNhA0GFoSF0Dc1dKRgCcJB6HK51iYkJLQWFBRETBAWFBQcT05OjmqSmYSEhM5IG9EPwp1EtIZkcdibPEEIcRUAADPkMYO3tvb597X1K4RwB22ZFqKGaCaXGQ3RQZXFxflB1+MVFjrXDVIPm9X/u93OdTU1faODNTUJgUWLHg3U1s5rJaJWIURLRUWy3+e7oK2r66SQEZuWlnMOHzx4yXGPJ+cwAIxnhis+/PC3h4ciBtUEM5Jk/jN2KBzue0qJKJYiIkmSVImIS82+pmjS7Xaue/XVf65taLhAvzY1Vsxn7pPYIyhcLtfl4dwLRHyViKbE4LEZVTDDRGb4DZ/wGl3JctKYawff24IFC+FgKFNGTwF5/m8DABwDedFpCvQVbkbNN/Vzkd0gZ/lqAoBiAEiH0ILwU+ibXezrBs8LAPAoAGxVyrAeAH6j+9wShIMwIyNjr81m86empoZtOTFI5tFAQkJCVJLMRNmIPhibSY4K7tFsW4+I5QC9qbGX+/1nrNavXRJC/CJEu7cQRRDR89HoL6MlOkgUOrlMaWlGn2yRWiLiFlKigyoLCxMbtdHBmpqEwPbt3+7esuW6bkT0I+IhIjq6Zct1K0JHB8etVrORbt/+zXcBABDx4fLytANDFYS1tTb/ggWyN+JIY5TeU/9Woolvmn19kaLb7VhfXp56sKbmxD1fteqne7u7T+pnGB8FrmTZCD2sqZ2SJF0nhFhh9BoRUZozZ86E6DwpowuWM2//lPuuESxkhv8xu2wWLIxWDEUQFoNs2nobyClrHSCv4RuuIKwGeXHrCwBwN8jZi9ohtCC8CORU0WsB4EsAMNngeecCQA8A2AHgDpCnnfaAPO1UhSUIB6AQYnVCQkKzKrRyc3OHnVhGy9zc3GitJ+x0RNGIXk9NRLBJs61OCPFTAACWF8V7ly+/XT8d6NPa2lp9NjwLMQAiXhnp/qJGB5OTk0d8dFDlggVZ/dYSDpJc5jPt30KI1UlJtpaysrmBqqrnu2tqEgLvvPNQr+/g668/5Sd5LeHmV1996iaW08b3G1w3NZ1bJyeemdnBDCvffvuhnyPiSklyramtTWgejig0EPGMO0b7PYWICxHRQ0TV4YiTeGFhYcGG8vLUQ1ohqOUbb/yj8eDBSzdHSQiuYIZUZvjCUJ9PRHR7mPcrJZLPx1iAZQuZKk29vcIM3zO7XBYsjHaEKwgvAdnM8k7N5+MAYB0MTxBeAbIou1/z+UTlmINNGdWWf7DznqucN1f3HTW1rgpLEA7ArKysnVqhlZSUFLHkMiozMjIiup5w3rx5rampqTEdjCPiWiLaptveJEnSLwAAmKGEGbxlZanLdC/xzAHavIUoI5LJZRBxVUJCQpPyw8mIjw6qlCRn0OQyHk/utiD1sBUR1wd7htjtz3fW1Ni6a2oSAjt3fqNXEO7a9Y02RGxAxGoAAGa4Tz/APn58/FrVvL619fQ9fv+Za2trbQfVc5SUZO8YjiCsqkqqH2lTR2P5nkLESiGEREQfmn3dg7GoqGBDRUWK4WnEn3zyy4NtbadGahrpcmZI5AhlviSiv4V5nx6OxHljAWV66H+VenuHGe5ghvFml8uChbGAcAXhH0AWXafqvpMPwxOEfw5x3CyIrCC8S/mOfvH2Hcp29YFtCcIBqE5/0zIjI6MzkoKwoKDgeFJSUiSnjnbEwohewwPKy9in274HEZfs2PHty5jBW1d34Woi7JNd1O12/2CANm8hyhBC/CJSfUUVPvPnzx810UGVlZX9k8tUVfVPLqNMF+2zTRXJGRkpjdXViYH33vtjQI70zVZM6Gd1v/XWI/slSfoxQO9aoj4p5puaptWr0cGennHet956tEEWpXm956uqSqofjigsLw89DTYeacZ7ChE/EkKUKOsPTa8DLYuLCzZWVqYcGcq9f/XVfzVv337N9mEIwU+Z4TlmuCDSzyhEzAynHlwu162RLkMkwQxnM4OkqTsbM4z4NZAWLIwkhCsI54HsR6LHfBhcEL4CoQVhGsheQHr8C4YvCLXnfVT5TiAIGQC+pnzPEoQhmJubuzWE4Gq12+0RjRLm5eVFxJ9w3rx5rcnJybEejK8jog1Btq8lIu+iRX95gxm8H3zwuz6Z/RDxo5G67mO0wGaznYyIHw+3r+iig92jJTqo0khyGUTcpo8O5uTkbFf7psPhqC8pye7Yvfur3SeM6Gd2+nyzug8evPRIbS309gVmuPFEdHDiOtmSYnagvf20HStX/nSfev6amsRGNbJXVGTfNBxBWFtr8xcX5/UTtPFKk99TnyJiGREtMrseiovzN1dWzj863HtfW2vzL178QF1Ly7nrwhCC/2WGp5lhWhSfURMRsdxofSDickmSvhWt8gwHzHA9y9YRXmZ4jxm+Y3aZLFgYiwhXED4DsnDS/3JTBIMLwiUQWhA+B8EjhHkwfEGoPe/vlO/8BGRjTz1PVr5nCcIQTE5OrgslvObPn98e6amjWVlZkVhP2JGTkxMzI3pEPKLU1wHdZ4fVeqyuTmysq7t4Y0lJ9nLdi7tPu7NgDhDxmeH2FTU6mJyc3D7aooMy0V9dPWhUrd8U0qSkpAalXpS1taJh//7LAydM6Gd1+XwzO9rbT9vB3Gd5AjCDhxm8x45Na/T5Zgfq6y9oO3Lki/1E34IFWTvV85WXp+0fjiCoqbG1FBYWbBxue4gF4+U9JYR4CRHfjvV5PZ78zyork4dkNzIQX3xxrn/9+h/s6umZMJAQXMoM/2CGs2PxjEpLSzsjnEQ/iPixw+G4KBZlMwpmeFRTf9nMMNXsMlmwMFYRriD8EciCao7m88kAsB/6CrcWkJPDqJgCcubQUILwe8px79N8PgkA9kJ4gnCw834B5LWKD+qO8wQAfAzQ+2u0JQiDsKCgYONg4is7O7sr0qJw/vz5w7KiSEhI6I6xEf1mIlpNRC1BtnuLiws21tba/C+//GxDkHq+eoD2biFGcLlcXxxOX9FHB2Pc/mLG0tKsY/0FVEKzEqHbRnKkvLde8vLytmiigz7lOMfeffehdiU62FFXNyvQ0HC+ajD/DjOcpN4XZrisq+ukjer0Ur9/6rY33vhHv0hlTU1CM5FYLZ9XrK6uTgi65tG4KEw8JkmutcNpE7FgPL2nhBArELE8Fv6GHk/elsrKZF+khaCeixY92lBXd5HeAuUjZvgLM5wZ6+eU3W6fhYjvG60nIcQil8sVSc/mIYMZUjR1eJvZ5bFgYazjUwDYDXJUTU91HZNWuI0HgBUAUAeyqPoFBM8G+hYA7AGAawDgiwBQBfJU04GyjC5WvvMMyFlG34f+QlMPvSA0cl4JZOH4DMhrBzMBoAsAntJ8xxKEQZiamnrIgPiKqDehw9FrRTHU6aLtmZmZnRS7QXI9EXkRcZdue6Naj2Vl6fvkqWj5TUS0W92OiAsHaOsWYgwiKhlqX9GsHRyl0UGZkuQKmsmzpCRnOxFt19dLcnKyz2az+ZOSkpqVY/jk46B/z54vd/p8cnSwre303ZrB4n3a+7Jx4/d3+XyzAw0N0/3Ll/8iZPSvrCxtv3rekpLcbcMVA7I/YV97mHhjnL6nPiEiJKK3In3skpLcrcNdJxo+n/evWPHzfV1dJ3/EDA8zg6kZoYUQVyHiMqN1hojVNpvt5MGPHB2wbLdUovTtD5jhKrPKYsGChRPQe/lpicp39MLtbJCzcraA7BkoFGqF2xdAFnTtAHAQZJ9CgoEF4ekAUKIctw7khDJ/gfAEoZHzTgDZ8H6/UoYtynm0sAShji6Xa61REZaWlhZRb8JhTh3tjrER/Valzo5ptyPiDrUua2oSmmtqbK1E2IqIflKiKEKIxwZo6xZiDES8bSh9RRsdzMvLG7XRQZUVFfP7JZcpLc1sImW9rEq73b5J7Zd2u92n9Ism5d+2RYseO+DzzQo0NMzwHz8+Tpvh8QNmeTmBEOLbxcXZ/sOHv3D84MH/2TlwVM/md7sdvesXI7GmLN5FYTy/p5Tpjc8j4kfDPVZJSe62qqqkhtgKQZnV1QlNpaVZuyTJ9R4i/p/ZzykAACHEDYi4Mox74QQ5Q3xMwQwXMMNrSr9eyAwXxroMFixYiC4GW+s34hHPL9pYUDWiN8q8vLyIehMOcepoW3p6eiyjM2oUcIt2OyK2kGxQ7y0uzttSW2vzl5ent2g+ryMir8fjudjsdm7hBJYsWTKRiD4It69kZWXtstls/pSUlFEdHVRZVGTvM2WzpsbWWlaW2qH38UtJSTmszCJoUfpEvaYPHCGifTt2fNPv95+5P8j6rMcBABDxUyLyL1v2i61vvvm3oElt+gq4E1lP3W7nupqa4XkTyoIgsdHM6aOIuJiICBGfRMS7iOjqoqKioGuvHA7HOUKIiwsLC69yu93XEtFNQog7hRD3EdHTJEfBP4lx+TMQ0RnufpJE3gULcrZXVycOet+jKAR3SlLfrNCImEFE58b26dQfiPj7cOpTCGGLZfmY4UvMsFjpz5XMcE4sz2/BgoXYwBKEo5h6I3ojTE5Ojrg3YX5+fneYU0e7HLE1olejgEd1n+1T67KiIvVgba3NX1RU0KTb932z27iF/iCip8LpK0p0sNlms/nz8/NHfXRQJvqrqxN6B85lZakdNTUJrWVl6b3t3uFwrNf8WORT9lX7QCsRbUPElpdffuqznp7xa4MIwk9eeeXJnyvfb5Gk/GeqqxP7rV8MRm2W0OLi/M2hTMnDFIXH3O7YGNcjokMIcbcQ4tuFhYVRSVjidDovVYRiKhG9F4NrWoyIfzWWeAZXLViQ/bnR+x15IZh4rLQ0e4feHkjHDxDxrmjcm3AghLCFcx+EEPfFolzMcDUzfKj0ZbIsJSxYGL2wBOEoZnZ29o6hTNfMzMyMqDehw+EIZGZmdho8f6yN6JtJjgKuC/LZOiLyShKuqqmxtdTUJLQS9RUKiLje4/GYtq7DQnC43e5Z4fQVbXTQ5XJ1xrD9mcoFC7KbTkQH0zrk//cml/GmpaUdUPsmIjZp/TkR8SAR7UbEg4iYxgzOYFkcV6+++ZCyzzuIuNTjMbYusLo6sXf9LhF5y8oyd0cqYlRYWLAhnPZhlIi4QAhxd25ubswTlQAAIOL/IOJviSg/EhYsA1znc4j4TPDpjriqtDR7h1lCsKYmsXHBguzP1TZs8Ho8QoiLzbhnCsaFG30VQtwQzQIpthKq2XwuM1i2ShYsWBi5GMuCMJgRvVFRFmlvQofDEUhOTjYydbQzxkb0anKYfbrtvVPWSkpyttfW2vwLFmQ2B9l/DRE9NXhLtBBrIGKhwcHgGIwOqnS21Nba/BUVaR01NQmt6qC6pCRnu3b9cXZ2dj3JIlDtA62IuFURievtdvslzHCJXgy2t5+24+jRC4+Xl6e1CCFy1DqvqjJmMSBHeE7cq4qKoZmV9xcNCc3FxfmfhftMDcEPhRCPud3uWWa3eT0kSfoWESVH6Dr1/abc4XD8EBFfIZJ/OCstzdo53Myww4gINi5YkLM9HCGou55liPjwkiVLJppxr2yyj2p1OOUVQkQlsQsz/IgZVqhm89E4hwULFizEFGNVEA5gRG+IKSkpEfcmzMvL6x7onPPmzWtNSkrqptgNiFtIFnSrlLVR2s96p6tVVsqDULfbqReER5UX80oi+pLZbd1CX0iS9GMjfUWNDqampo6p6KDK8vIUvxodVFlVlVynXX+MiMe00UEhxCFE3IGIRxBRqHXODGlaQejzzezw+WYHVq26pY+wKyoq2GBUuJ2woSCvbEURmchTTY3NX1qatcvoMzUI3yOie3Jyck4xs50bgcfjOVNZf/jvYVxvMH5YVfXsD99//77S2toXTIkIVlUlNZSU5PbzzRwqEfEVp9P5dTPuk8vlOksIsSiMsr5vt9sj+kMEM8xhhpVKH7Z+7LRgwcLowFgVhAMZ0RtlTk5OxBPMZGRkhJw6Om/evM4YG9HvV16qO3SfHVPrUZJca2pqbP7q6sR+00VJk54fEavNbusW+sJIcpmxHR2U6XY7W7XRQZnzWlNTe6eQ1ys/mPRGB0n25mwkok1ut/tatc6ZYQYzLGcGb2vr6Xt8vtmBurpZgXff/VO9fppmebm8LncwlpefWNNIZFxMGmVFRcrhvqJzUH5KRH8johG3nmrOnDkTiOh2Ino9jOsNSo8nd82yZbfvOXr04ub29tN2NDeft/7ddx+KuqegRgjWl5Tkbh3udYR4LqxExOecTmfMrSkcDsdFFEZSLER8My0t7YxInFux4whqG2PBggULIxpjURAaMaI3wsTExNZIC8KCgoLjSUlJ/aaOzps3rzUxMTHWA3I142CjdrviReglIu+CBVk7a2tt/pKSnCbdvr0ZSFUKIe42u71b6AuSB+4h+0pmZuZuJTrYMRajg0TUiig6tMll5Ol3z3e4XM932mw2v8vlatRGB4noICJuQ0RfsB9CmOFZbXRw586rG2trbf7KyhOZQ4nIK0mutTU1tn7WF8EiefrMp0bXIRpldXXisaKiwdcVKuu8RkXKfSHEL2gIEcMFC7LWrlz5s71Hj17Y0tAww69SzTK7Zct3drzyyjOD3tehsrIy2efxnEg4FGW+Q0Q3xfreSJL0dZJ/eDAqCstra2snDeeczDBXEYIrmeHWSF2LBQsWLMQFxqIgNGJEb5QZGRkR9ybMzc0NNnW0I5ZG9Ih4SKmvz3SftRBRb7SgqirZV1tr80uSqyXE/tqX8kfRyiZoYWgYKLmMNjpot9vHZHSQiDqIqFVNLnMiajY3UFY2N5CentZIRC3aKdWIuIlk64mtiHiLvs6Z4azm5rN2+3yzAz7frO63336k13euuDh/s/YelJYaSxRTWZlyRH//Sksz9kZabJSU9F2zqGkrb7tcrhvNaMPRhM1mm2hUGJaWpq/1em/dV1c3268Vglq2tJxzWI4On7H2ww9/czjCQrAugus+wyIiOux2+3mxvDcul+vGMMuYN5TzMMN4ZshQxOCnzHBDhC/FggULFszHWBOE4RjRG2V+fn7Ep46mpaW1a8+RkJAQiLER/Ualzg7rth9Q69Ltdq5TIht+SeonKIP+Qo2IaWa3eQt9QUQY7F6p0cG0tLQxGx0kWRD6JcnV6/NXXf18R0XF3EBFxdxAYWF2CxH5NO3+ECJ+RkSNiPhWiCofv2zZnU0+3+zA1q3X9fGeq6pKqtfeA0kir9E1gR5PfzFQUZF2INKisKoqqb6oyL5J06cdkZqSF89AxPuD9ZOamhc2rF9/40Gfb2ZIIahlc/M5R9Rph/v2XbHl9defHFaSmcrK+UeLivr+kGAGlayt90AMjeGFEA+FWcZ/hHN8ZpjEDA7lfi1lhm9G61osWLBgwVSMNUEYrhG9EUbDm9Butx9PTExsVc7RHmMj+jqlvtYG+ax32lhpacYeeSCap58u2jzQPXC5XNcO3jItxAqI+CP9PdJ6dNrt9sBYjQ5qr7uiIqVFHoA/1y0LwucCtbXPd5EcNVf3WUNERxDx81BTpBExpago33/48KVdb775t35iz+Ppu+5rqDYUKo2uRQyX5eWph6qrE/4a6/ZqJiRJugwRXyQi78KFj23dvv1bdUZEYH9ReO7Rnh5YxQzerq7Jq5cv/8X+2toXwqr/ioqUI8XFBRsHetaaxAq73X5JrO4JIqaEWb7bjRyXGU5hhhJFDC5hhiujfS0WLFiwYBrGkiDUToGLNLOysrqiMHW0Szl+tyO2RvRblPraq9vu09anGrmQJNTvv3+Q+7DQrNTlFvrDZrONR8TF2ntkRQdPRAdVFhUVHKuufqFdjQ7W1MzrXrPmpu6qqiS1bx5ExE2I2CSEWBJszdKcOXMmkZx91//OOw+tNCrs1KnZgzHUlM6KikiLwrn+vXu/vFUZLD/LDKb4CsYazDCTGR5ubDx/41CEoF4UajPO1tVdtHHhwr80DFb3FRUph42s5zSTiLgcEf9qt9snR/uezJkzZwIiSkbLJoRYIUnSdYPc5zOZoVq5N+8yw0XRvg4LFixYMBVjSRAO1YjeCBMSEloLCgoiKggdDkcgNTW1KyUlJZZWEw1E5JUkyUsnsiaq7E1dXlxs33YHNBMAACAASURBVCQPTlL1dhR+IuqdTjYAHzW77Vs4ASHEY5oBkxodbLWig9pt2Fpe/kK3Kghfe+3JwNGjFwZWrvxZJ8nrCFeRLAp3CSEeClbPiOggUtfYivdCedKVlGR/ru0vxcUFG40Itf42FCdYXp6+LxJi8OWXn205fPiSTTpPxaXM8DgznBPrthttMMOpzPBTZnBrr7mra9Lmxsbzm4YjCltazjqoPWZPzwTvunU37q6tnRs0IqvPRBvvRMQ3HQ7H/4v2PSKiKUT0UhjlWupyuS4Pcb+nMcMbyj15gxmmR7v8FixYsGA6xpIgHIYRvSGmpqZGPMFMQUFBT35+fsysJohIHYhu121v0tZlWVna/tpam7+oyK6fLnqMjN2PT2mUZCMcDcjLyztf8Yv0ZmRk7LHZbP709PQxGR1ExDZE7NfnhBBtkpQWqKiYG6iunte9bt0Pu32+2YHDh78YKCwsOICIG4ioGRGX19bW9kvHn5aWdgYiNijnqCUib0lJ9ufBo4QJTUTYJ0uv0amfZWV9bSi0XLAga9dwxOCrr/6zub5+xgadGNQzkRlGtO8oM5zFDHcwQ4GSSCTotfb0jFvd0nLO4eGIwra2U3fqj6taVNTU2Pzl5akH3W7HeoPP1bgkIibl5uZGNYpMROeSnPXUaJkWO53OPmKPGS5ihreV+/DSWIl8W7BgwcKYEYTDNaI3ytzc3EgmmDnudDp7EDEm6wcRsVf0qQNXDfeon0kSeWtqEppramzBvAd3h/FCLja7/Vs4AUR0WNFB8lPQ6CD5nU5nl8ORf7yiYm7g9df/Hqirmx1QMoUGPvjg3q1EtI+I9hLRP4PVLxGVkCws9yLiUrUfVFcnNgYTX6WlWTu1/WU4NhRalpTkbB+aGPxXc2Pj9MHEoJbVzPB7Zjg31m15KGCGq5nhIWYoCuMavaqn5NBF4XR/Z+fkz4Ic97kXX3z2AURcYvSZGs9ExP8IIX4azXtot9sv0fYtA2V6lRS/TGa4TFkr6FXWDsbcYzGO8BgAMABcGsY+VwKAFwA6AeCr0SjUMHE3APxe83cHADxtUlksWIg/jBVBGAkjeiNMSkqKZIKZHiHEcSIKIGLU1xBq/AU3Bfl8jVqXHk/eFnnAmqGfUuonopAD0WCUJOlnZvcBCzKI6PtWdDB0dFDtl2Vlyd0bNnyvWxaDswP19bM6d+/+yjFEbEHEVR6Pp98UM7vdfh7J0XO/EKJG2wdKSnK3Gp3+WVZm2Ibi8ED9rrCwYGNNjbHspbW1Nv+LL871+3yzNoYrlBSuUAbYf2KGL5vRtvVQpoF+mxnuYzmL5NIhXlsvOztP3trQML1lKKKwsXF68/HjE9cpx3pGO03R5XKdhYhp4TxX45lCCHdRUdEF0bq3kiRdJ4RYYbQ8iCh1dZ30LWb4WKl/ZIZheRaOAgxFEOYBgB8AHgKAs6JRqGHiNQBYrPm7EgAMJRiyYGFMYCwIwkgZ0RtlRkZGZwSmiqrRweNEFFAYzYGw1kj+oO6zPp6C5eWph+Tpoo4m3fd84d4bRFzidDrH8i+x8YQz/vnPfzbYbLbWgoKCMRsdDLZdjg7KfbO4OLdLFYM+36xAff10v883s+PFF184gogpwSqW5PVNfpKnYvfrB1VVSfXBo4QZe/p+F1cZtaEoLrYPuJZXklxrKiuT64wca+/eK7cOVzBpuJgZkpnhVmaIul2FMg3w/5jht8p5X43gtfRhV9ekTUONFK5d+8O1W7fOmhnqOoQQ30XEheE+Y+OUnyDiH2w2W1SSixHR7UbLUlyct+Xjj399QLmHGcwwIRplGmEYiiAsBIC1wzjnOACIZrI5vSC0YMGCFmNBEEbSiN4gW+12+7Cni7pcLq0YDBBRJ0VvILxXqa81QT7r9biSJFxVU2Pz19Qk9JsuiohBMxwORkmSXjC7H1gAAIDHbrrppj0ZGRlWdLDv9la1X7pcrm4iV2D//suPy9HBmZ319TPa6upmBdasuelwsHT7BQUFXyAlQZMQoiJYHyguzv8sxPTPFklyrdF+1+iUz6qqpAYj/a+sTLaPCcXVq2/ZGy0BpfAdlqdpJjDDA8zwY2b4CjOcHaqhspwF8gJmuJQZvsYM32OGu5jhYWZ4nhnymeHlKJc7RKRw8mcNDdMNicC6ull+r/fWfQsWZK4lGtyn1ePxnExET4UTAYtnKhYeUVlvSkR/G+z8JSU5/5+9Kw+Posq+JySBEEBQERdQGVzGBccNHUWdgRH9Ma6IMqLoIIoO6ui4oIKAdMISCBBI0t11X3c29iTgjOO+Dq6I2ECACIIgi4AsYc3aSeD+/qiqUKmu7vSa7sQ633c+SFd11atX71W/U+e9e38qKpLb+ddfP/RuJMoRS2BGO6XvdF+yZPiwd955aER6evqf09PT/6zbVS8IawD8C4ATwEEAlQDeBBrWWK5Q9ld5FWRxlwJgB+RppD8AGKE7TxmA5wEI5ZgXKucaB2AugGMA9gN4A8D1AL5Vtm8DMERznCQAswH8AqAawE/Kd9ScmCW68nWF55RRf8rbVD2YMNFy0doFYSQS0fvDKVOmVIfiDlqtVr07WC8iOHWUiEqUOtuu+7zRoFINgjF37ix9MJkKoZlWGihzcnJ6R7sv/MbRGcA3Z5555rrfsDvoNvrcbrc3OP5CiFohRP2nnz5Rf+DASXewrKxH7eHD3fYwI0lfsUT0gZDF4A++BvLe3Lr586d5pHFZtMi/NBRz5zaOVuqNeXmZG4uKPCOefvTRqLJoiCo99b9T2m2DB6MMjQd7jXjjjTim7tu5M+peeQW7w1k2IbDVasW2xqIwaZNW+LVrBx4/vqNb/Xv//vPLv/tu0I78/AyPZ6bD4fibQf/8FECp+ocQ4hI1H+Lo0aM3AOAHH3xwmz/3OhA+8sgjW4cOHRr242qp9IlXhLKWL5wgohnezltQMGvryT4mO/F2u/3OcJch0mBGD2b0YcbdyguVicywMWM+y4Fx3mfG5031Kd1hjQRhNWTR1RvyerwaABnK9vMBLIEsvC4B0A5ArrLPRAD3Kd89DmC05jxlAPYB+BzA0wBOUb5TAyANwDUArEpZjgF4BsCVABYr5VFnGFgBHADwJIAByjmPA3hK2X6Zco7vAPSBLP70gtCf8jZVDyZMtFy0dkEYiUT0/nLWrFnB5iY8brfbTwidGBSyIIxECoo9an0pgWW02xoNKBctmrK/uNhS4XTaG60fJKJ9Id6rpRaLpU20+8NvGM8DcP3f//3fjqysLKNUIq2dfrmDSv+rz8/POF5W1r3m4MGzK2VheE6VEhjkAW2lCiGu0Byr2FcfyMkxTi1RVGSpcDobB4kJJA2F3mH0RofDXqIVpUuXvl5RUdGlJNpi0B9B2KED6seOxS4jCoGtkRSEt96Kw1rRqbKmJvknVQDed19S3dy5p1bv2/e7Y8uX3789L2+OYWoQzXP4Il3/bCQIAcBisSQ4HI7HX3755RJESBBeeumlh3v16nUs3Mf1cs0fSpJ0UzgfahaLJYGI8vXnmjfvpCuuzd1JRN85HI7rwlmGcIAZPZkxkBnPMGMKM/KY8UE4+5TulEaCcJlunyUAvtf8nQPZKQRkUciQRZ4WEmRhp+anLIPcrrXTdGsAvKf5+1zlWJLms+uUz/6k/P2ewbm+g+zkqdBPGdUKQn/L6089mDDRMtGaBWEkE9H7wxByExq6g+KkKHSLMA6GlXD5LiHEJt22Y+LkukI1ymHF4sWTjKKLNuQoDOF+6adnmGgedAbwTXJy8ppx48Ydtdvt+pQjvwUa9im73d6QSkaJ9tvQD0tL+1UcPNi9uqysR93Ro10PKgOtQm3FCiG+UPqYTwGgctEieX2ungsXpu3R76uu5W2KCxZ4Ooy+OHfuzJ+LiizlmzdfvyXaQtBfQditG2r9OU5zCkJmuKqq2m/Zv/+sir17ex395psHt+XkZPnVDoS85jRR05Q8BKGKyy+/fCBiVBBKkuSy2+2B/g6kCyHCFpm2uLi4IxG9ox5/4cJpu9UXLQUFGR5reonoK6vVGpVE9Mxow4xeLK+vfZnl3JdfNkef0hXFSBCO1e1jBbBZ87dWEKrf76T7zl+Vz69V/i4DoJ8mrU4ZVdFF+c4ozWe9lc+0jm4bAJcqn70EoBxAgWa7L0Hob3n9qQcTJlomWrMgjGQien85ffr0QHMTHrfZbIbuoIjM1NEGZ4+IDui2NcpnpuYwy8+frXcRtQFpgiYRLc/Kyjoj2n3iN4gXALjuuOOOnenp6TuVe2E0Jbi1slqhxzYjd1DpfzVLlow7VlbWo66s7Jzqmpr2mzWDrd4AYLPZ+hKReqz/+NMHnE7rOnVNk576pOQ5OYGkocguDaQv5uZmOZhhYcb30RaDkRaEU6diR8+eqGnbFicuughVdjsa5QV0u7Hq2Wfx6xlnoDYpCcevuAKVRUX4iRmu3/8eVdBMT92zByWdO6Nu0iTsfOghHGjXDvWFhVcuiI+PPzFw4MAGYW61Wlf169fv144dO9YmJiYeP+eccypHjhzZSJwQ0WuaPupVEEKeAsfXXnttJhH9T/3+oEGDdpx++uk18fHxJ7p161b18MMPN0pjkp2dvapv3777OnXqVJuQkHDi1FNPrRkwYMBuSZJcQgjXmWee2ejapk+fXuLPcdu3b193zz337LzuuusOJCYmHn/jjTfWB9L2FH5ORA94ud6AkZWV1YNIWqa+cCkqslTk5c350dv5JUl63263RzxSJjOSmHErM15hORLvN9HqU7qiGQnCF3T7WAFs0fytFYSTABw2uOSblOP2Vf4uAzBet4/+XKogfEzzmSoI1TQmj0GeMsoAdkN2DH+B/4LQ3/L6Uw8mTLRMtGZBGOlE9P5yzpw5geQmbEg14YvhmjpKRBuV+lpnsL3RNLXFiycdKi62VDgckn5KoYd7EQKzo90nfmNocAfHjx9/zG6XpxdKkrTdoD20VrqNPte5g25dH6x0OOzVu3dfXH/kSLfDusHWGwBARN8rxwqoDyxYIDsYni7hVI9p2dqpb00EmDkYQBlWSJLUDQBYDu6yINYFYdeuqN25EyVGdLuxypsgfOUV7IqLAw8fjn0FBdgyYgT2xcWB09OxXXv8du1wYvRo7Lbb8fMtt+BofDx45UqUulwovf56lF9xBSq++AIbamvlc3TqhKquXVECZV1UmzZt6rSC8Oqrry5LSEg4cdttt+1++OGHf77wwguPxsXF8dixYxsJd6fTeYPSTz8F8COAHga8A8qAWUlRMfX222/fBYBvvPHGfcOHD9/St2/ffQB48ODBDXlib7jhhv3Jycl1999///ann35604ABA3bHxcXx/fffv10I4Ro7dmzp+eefX969e/eK0aNHb7Db7S5/jtu+ffu65OTkuvPPP7980KBBOzIyMvx1RT1IRPmSJPUM9SHHjLa7d/++qLh4fEVRkaU8Nzdzgx/nLrRYLB5rgsNQlrOY8SAzsqPUnz5jxju5uf/an5Pz4q9paWmfp6Wlfa4rZqiC8FXI6+8Sdd95WDmuGk03HILwYgD1ABwATtfssxL+C0J/y2sKQhOtF61VEDZXInp/OHnyZH9zE/rlDgqNSyFCGwhrB4m7dNsaDT5zcrLXK4NSo+NsFGG8d3a7fUC0+8VvCC8BcN11112/qO6gMhgqCbFttRT6cgfrrFZrvc1mqxdCNLiDyv6VQojaTz99sqq6uuNW3YBr+fz5Kfcrxyknoo8Daf/q1GwjYZeb2ziVhMPhfxoKo+A0RpQk6Z/6RsLy+qV3Y1UQwkdQmc8+Q0PSd60g3LMHJW3b4sTjj2Of9niDBqHszDNlx3H1apQCYIsFDZFWKyux6rTTUPevf2EPc6Mpo98wY3ybNjgEg3VR/fr1WyeEcI0bN64UAN99990N/S07O3tVcnJy3a233qp/ufbusmXLEiAPZL1eIxoPmLvGxcW5r7/++kbO3VVXXVXWqVOnWvXviy666MigQYMapTXp3r17RZ8+fQ6of2unjE6fPr0kPj7+RN++fff5Om779u3rzjjjjOpAp4r64AoiGqXUQ8BgRkeW3TfXtm1XrsnJyfLbsSQiG05GqgwaLL9YeZoZi8LcNz5i+YXNHGaMY8ZTzBjMjJuZ8QeWo/CezRxwFMxQBaHqrA3Rfec/ADbiZJ2GQxAOUv5/qWb7KQCOwn9B6G95TUFoovWitQrC5kpE7y9nzJjhT25Cv9xBcVIQHg9x6uhm5UdvtZCnfTZsI6JG02nmzUvfWVxsqcjLy9TnHjwa7ntHRB/m5+eH/c2sCQ+cDuCbTp06lUyYMKHBHdRwbwhtq6XQbfS5JEkNUYIlSXJr+l2dEKJS6Xf1+fkZR0+cOOlAqfz887/vVI61Ipg+oPY3PRctmlym39dbYnsjFhTM3tTEuT/JyMhob9RYmNGW5SiGX8SaIOzSBXVLlmCzEQ8exBojQZiXh60A+MsvsUF7vIICbAHAW7di7dSp2AGAf/4Za7X77NyJkr175ePefDP29OiB9czooFSV4bqozp07TyWirwcNGrQDAE+ZMqXRDIy0tLSS9PR0owBAT0EeyO6APADW8wU0HjA/AIBPO+20GyVJelmNbDt8+PAtAHjy5MkN55UkyTVu3LjSkSNH/nTnnXf+0rZt2+NXX311QxvTCsJHH310KwAePXp0I3dNf9z27dvX/fnPf/61iXYWzO/Cv20221WBPOBYTrGwVLlvHzLjfIfD8Wgg55UkyRLIOTXnvoUZb7CcdzOU9v81y2lZXmLGHcy4jBmRXloRqiAEgE8gB2QZDbmdzlaOqY2iGw5B2BNymoh8AFcon32nHPsTAGcp35kHeRrpvQDawjPKqD/lNQWhidaL1igIs7Oz10dbABqwqdyERono/RGFwU4dPaKps599bHMJIVyFhSlHi4osFQ4H6Y/zi37fMP34j2669ZoIEaMBuO67775dWndQcw9+DLJttRT65Q5q1w5q9q8VchL77du2XbVcO4Crru64devWa+okSTqqXdMVCJ1OaXVRUcoxI1GXn++59kmN/uvHesJy/VpELSVJGtpUo2E5l9kgZhTGiiAMZg2hKvbi4z0JgL/9Fj/861/Y06YN+MQJj2OtZMYsZtwAT+fB2yB3jCRJd91666174uLiWF2r5w8TExO/RBNrCHFywPys8ne9yri4uBNxcXEMgF977bUfhBCuBx98cFtycnIdAO7YsWPtRRdddKRTp0613gShKmTj4uI8qD1u+/bt62677bbd4fgdMHgmfU9E4202W0c/2ulZzHhbuV9vM6Obuk0I8Xog55Uk6TEfp1LPl8CMPzEjlQ3SPPjJ5Sy7ma+xnEbiQubQHcogEA5B2AkAQV7b5wawDsCjumOEaw3h/ZBzD1ZDFoP3AngIcp7AKco+/SCnuKgEcCo8BaE/5TUFoYnWi9YoCNPS0vbEgAD04NSpU33lJjxhkIg+klNHtUnkj+i2NZpqlJubuUGeLjrNKB1BaaR++EWEEhabACC7g9926dLFmzvorW20JrqNPpckqUrjDtZo+lqdkry+Svm7XAix+j//ebWRAyDnJTy3vrBwUtB5OYUQrnnz5CBOBusBPRLO+wpGo2dhYeoRp1PyWNclSdL7Q4YMiW+y5WjAjGuZMUlxMVqUILRa8TMALirCTytXolTPykqsmjJFFo2HDmE1M1Yww8qM+6+9Fv0B/F6pBr8FIQD079//MwCsX1s3evToDePHjzcU62efffYO+C8IH1X+vgPywLk3gCtGjBgx7rXXXludnZ29avz48evj4uK4T58+B7Su5DnnnFPpTRAOHTr0ZwA8cuTIn8aOHVuqZ3Z29iohIisINfxICHG7j3Z5PjM+Vu57IRtMmSQiWyDnlCSpn5dz9Vf6wFdBtm/BjL8zN5ryaMKECRPNi9YmCKOViN5fZmRkeASY8ZWI3h8q3wskkXhDOgkDF6hcHyJfDXKRm5uljzx5OJL3kogKm27BJoLEKwBcgwcP3p2enr7Dxz3YFkC7ajFUXqIYuoM2m60hf6jeHSSiciELSbdocMftq8vLu6xhhquy8pSdZWXn1u/de359YWGq13r1j7SqsNAzWXxxsaVi7lzPcPnz58/Y7u/U0UWLJh/Qf9/hcPw12MbEsmv4fyyvZVrREgThxo1YFxcHnjHjZAAZZrjeeAO/XHMNyuvq4Prf/1ACgIcNQxozVFfqVAAVOBkGPyBB2L179/4A+JFHHml4KTdjxow1iYmJxwcPHmzYZnr16nUsMTHxJy/VrxeEvwNwAieTcqt4OSEh4Tur1Soee+yxLQB43Lhxpeo5MjIyVrdr167emyBMSUlZB6Ah6IzKO++885fzzjuvXF0z2EyCUH0+WfWRqVmeUrlMuZ8FzDCcAm2xWJKIqDCAc30rSVJvlqdO/4XlfIDBpIR4jxnjmdHPW9lMmDBhotnR2gRhNBPR+8PU1NRKo+mi3hLR+0slR5q/A+KGQYeSUF67TfdDTquKi1OOFRVZjHIPbhcRvp9E9GC0+0grxOkAvu3atevaN954w5c76BJCrAmgXbUkuo0+17qDdru9wR1UhGHD2kEiqhRClKj19PXXD37CDNfBgz3cZWXn1rtcd5cXFVnKhfB04gJhQcGsrd5cPofDc39tYnk/8hM29PVwvnxhOYjHAJbTVnzUHIKwY0fUp6RgpxEzM7HNSBAywzV0KA4kJ+P4mDHYVVCALU8+iT3x8Th+//14kxlXMSMewDsADkEWgPcC+ArAHgBqrjz92iSfghAATjnllOVJSUn1gwcP3jFixIgt5513XnnHjh1r1dQOevbq1evYqaeeesRLlesFISBHXCyHnDNtMIAZAGohvwjCk08++Xh8fPyJa665pmzMmDE/PPHEEz917969on379nW9evU6mpaWViLEyYAxI0aM2GK1Wlf16dPnQNu2bY8PHDhw1/Dhw7fcfPPNe9u0aXPijjvuaFg60JyCUGm7XwkhHgYQx7JjrbrVVma09dVW7Xb7qZIkvd/UORwOWlVQMHtTYaFlx9GjXb8LsP2u0LiAF/oqjwkTJkxEDa1JEEY7Eb2/TE9PrwmXO6ijoeOhY7mQB/kuIaeV0G9fp61TNWDF3Lkzjun3VSJRRvqefpmTk3NatPtJK8NrAFwPPPDAHl/uoOYe/OpHu2oxDNEdrBGymGwUDbKgYNb35eWn7pLdwQvqli4dV15cbKmYN2+Wdmp2UCwsTD1s7BLO/Fm/r9NpX+Nt7aER582bsV0I4ZIk6aZINTZmXMqMJ1gOjBERQQgf0TfPPRc13gRhXR2WPPggvuzQAYfi4uCOi8MmAM/pLqEzgDwARyDnKnsf8jRMFf3QeG1Sk4IQQOdLLrnkh3bt2tUnJSXVX3TRRUf0KSe07NWr1zElcqdRBGYjQRgPwAJgl3LuH/XX1aVLl0c7dux4KCEh4UT37t0rRowYsWXYsGE/JyYmHu/Xr9+vQgjXs88+uyk5ObkuMTHx+IwZM9bY7XbXgAED9nTq1Kk2Pj7+RNeuXavvvffeRuuPm1sQqlywYOqnBw92L1HubToz2hg2SB2sVuv5QojP9cdzOGhVfv7szQsWpP2qzff59tsvHa6qSl7TRJv9lmW3/C6Ns2zChAkTsYvWJAhjIRG9v8zMzFSnjgaUasIXlaijTU0d1Yae36nb5jGNbOHCqXuLiy0VOTlW/XRRj30jRSLSR+wzETwauYOS1LSDpeSqjLqQCxMrhRd3kIga3HubzebhDiqsF7JT6LHWa82a22vLys6tX778/vKTTp7ner9AmZ8/e7NxgJiUow4HrfLcP3Ojv4JQCTTzcXM1Po17+BIz7CxHfgxJEPrBt5hhY8brzBiunD/q65MlSepGRF8H2B7+izCkQdDCarX+kYjeCfdzuzlZUJDxk7yGdkLFF1/8/d2srKx2gdSBw+G4SgixQhWBCxdO3asVgXp++OHTB48fT9RHF/6WGbOZcSefjDhrwoQJEy0DrUkQxkoien84efLkKtUdDCTVhB9sauqoGnJ8lZDXEmoHxJsb16m0uqjIUlFYmGI0XXRLc95bu91+Q9Ot2YQfGAPA9dBDD/nlDmrYWoLL1AghDFO12O12txd3sErIznqN0r88EsQT0a+FhSn1u3ZdUldcPKHR4DEvr3HuwGC4ePGkg8a5BWcYTtv2FpDGiGVl55Yy47ZoNUhFJF7Bcpj+gcx4QBFuo5gxmhkThXh5p9P50u60tLTPnc6XdjNjJjMmKyLvRWb8gxlDmXG7Mm3wAmacGq1r8hdE9EigbUGSpPvDXY6srKx2QogXiOi7UNtqc3Pu3JNtXe0PRPSO1Wr9oz/XzowOzLjjhx9uXuJLBOr5v//9fR/LUUEzWE4HYYpAEyZMtFy0FkEYS4no/eXMmTPrwuUOaukjN+FeTZ1t0W4zyic4d+6sLfLUtFl6d7BCCBHS2qhASUTvBZuY2EQDzgTwbbdu3dalpKT45Q5q6l+fmqQlslJ4eWGidQetVqs2smit0LiDSt9qlIeNiFbLAtJ+/LPPhnsMKBcsSNMnGw+Y3ly/oiJLuVHEUCGEa9GitF+bGtR+8cUjexV343tmPBLtBvobRJwQ4s0A28NHQojESBSGiC4KJNBKtDl//vRflH5QUVBgOD178uzZsz0ijCovIe5SpnV+q7p8a9fetsMPR7184cKpewsKZm92OjPHGNWjCRMmTLQ4tBZBGGuJ6P1hampqfbCpJvyg0YC4wakgokO6bR5Ogxqgwum069cP7tXv2xx0OBzPRLu/tHC8DsA1bNiwX2fMMHaWfLA1BJep8fayxG631xi5g5r9q5XPDxrUzX5l/9q8vAyP9XvhCC6j7Y+egnO6YS5Qh4NWLV486ZD3we2EiiNHzlinm/b2crQb6W8NTqfzL4G2BSIaEanyWCyWNg6H49EgprM2KxculKNfy2Jw9iYfdfWZJEl3MaMTM+5hmp0KwQAAIABJREFURib7iIT79dcP7fEmAvPzZ282mKY9KFL3woQJEyaaDa1BEMZoInqfnDhxYnVqaqqaQzASgtAtGjsgZZo62yA8B8WNIk06HPaS4mJLxeLFk42mi3r98Y0wVwghzot2n2mhOBPAd+ecc05poO6ghnsM2k1LYaW3SLxadzA7O9ut6UPq/pVCiDohB6LRt/01yrZ6Iip3OOyG4ssoAEygzMnJLvXiWFQ4nba1Rt9xOm1rvaWuWL58yG4vg+JZzEiKdoP9LYGI5gfYHj7Pzc3tFMky2Wy2s4QQFGq7DTcdDuFatEhe215UZCnPy5vzo7d9nU5pdUHBrC0LF07d9/HHI/eXl3dd29Sa0xMn4lyffDLyQBMisIGSJK10OBx9I3kvTJgwYSLiaA2CMFYT0TfBuhkzZriFPCDVrleK1NTRTWp96aNGKn83qlN1DVJ+/mz92rGGHIbRIBHlRbvPtFCMB+B69NFH9wXhDqo0epHQUuhuyh3Mzs6ulyRJ7w5WipPuoFHezTKhewEzf/40gzQRoQeXEeJkkKdApqXm5lrX6SOPLlkyoaKysnOJj4FxIXNDWgUTEYbT6fxDEO3hheYoGxHdQUSfhqP9hkqHg1YtWjRlvyoGc3M91+eqInDRoqn75EAz2nY/rmLdur9sO3Ei3lu7/4YZM44d63qPwyH9299yEdHXdrv9981xP0yYMGEiImjpgjDWE9F7YVVKSkq93W6vFLIgqxKREYR1Qh6kageyRlP/PH5U1VD3Doddv2+zhxM3+PG9O9r9poUhHO6gWveHDdpPrNNrZFEhRIXqDmZlZbk1/UfrJtYK2R3UB1Jaq9m/XN3f6bQapn3Izc3cIEJo90IIl9NpXacf5KrMycn2iHyqMicnu1QbMGPVqrt2+hGd8yNmXBftxvtbARFlBdgeVgghmkW05+bmdiKilFDbb2iUVi9ePLlMfsGScjQ392R7dzjsa+bOnbVl0aIp+731Dy3fe++5Q0owJRfLeQvTlYBEDc64EKKrkNdr+vts/NTpdP6uOe6HCRMmTIQdLV0Qxnoiei+snTZtmn76mltEbuqodiC7XXteZS2hx+CxuNhSsXDhVKMBdMiD2lBJRMtsNpuZ28l/TADgeuyxx/aH4A6qdb/VoE3EOr26g5IkVavuoDKlVO03aiAZ9WXNMYP6OKzpY5rjUuXixZOq9IPQhQtDDy4jxMm1U3ouWjTV59re3NzMDUVFlvI33xxbXlvbbnUAaRv+Ge0G/FtAVlbWBUG0h4nNWUa73X5tNFJUOJ32Nep62KKi1CM5Oba1Dod9TUHBrK2LF/snAj3XBE7Z8/bbrziXLx/iNc9tVlbWBUrie3+fjx/n5uae05z3xIQJEybCgpYsCFtKInodK1NSUuqzs7P1A1Q1x1kkWKqpN33EUL3r0RC5LS8vq9F0UaNIpNGiw+F4I9p9p4XgTADfnXfeeaUpKSnHiLyvhfGzz60momgLvHC6g3VWq7U+MzNTKwbV/cuFELXKOl+9kF6n2b9cf9z8/Dke6/bktX6hB5dxOOwl3gbARlPotMzLyy4tKRnwYwBiUOV8ZpjuR4RBRJMCaQuSJK202WznNmcZlRQVzwvZoYz4sz4nx15SWJh6RHYGU4/Mmzdj+6JFkw8EIwIXLEj7taBg9ibtmkAi+lCSpJu8Xa/D4bhOkqSVAZT5XdFMzq0JEyZMhA0tWRC2pET0GrqnTJmiTuXUs1qEXwzWaFzAzbrzGa4HLCxMOVpUZKl0OBoP/IloZ7TvuZY5OTm9o91/WgAmAnCNHDnywMyZM7eFo96JqCUFl/HLHdSuHRSKO6iZyl0udGlWlJcjalAoj2M7HFJlcXGKx6B03rzQg8sIIVwLFqTvNHYJJ5c18d2P9u8/40L2MyG8jiuY8S8z4EzkIIQ4WwQotCRJyohGWRVHc2E42rM35uRkry8qSjm2ZMmEmiVLJtQUF0+sDIcINCIRpQsvQk4IMSjAsr+Zn5/vke7ChAkTJmIWLVkQpqamHo4Bgec3J06cWJmSklKfmZlZLbwPYLVORTioRgjdLoQ4oDuXh8DLy5PznS1YMM3D9SAir2uUosSlFoulTbT7UAyjB4CVF1988YZwuIMqiegHH+03lujTHbTZbLVNuINuhfq0Dj9o9vd6/vnzp3vkJCwsTD0SjnvgdEqrvSXR9hV1UU1qzowzmfHvIEShSxGTUUtk39pBRKMDbw/OP0SpuHGSJA0LZFqlP3Q47CULFkz/ZcmS8bVvvjmufunS8XX+ikFVBObnz94kRMDPvM+J6AGjCyWi5wI5FhEVGuVANGHChImYREsVhC0xEf3EiRPdkyZN8jmIFOGdOurWHtfAKfEIVb9gQdoeeepZdqOppUZrDWOBkiQ9Fu0+FMOwAHCNGjWqLFzuoEqDPJaxSLc4+UKkESVJqlICyTTlDlYQUYnu2suVbb5e7HgNLpOXF3pwGSGEa968GduNjr94sdeIpv8FEKc2DiUvW16QotDFDMGM86PWulsplAAuAQksIpofzTLbbLaziMgaSnvOybGXzJs38+dFiyaXFRe/Ub106bj6N98cV79kyfjaCItAo/rMlySpp/46iWhGgMd5xww0Y8KEiRaHjIyM9jk5ORc6HI6+QoghQoiJ4X7zFy62tET0qjuYkZFhOMVMx3DlJtQOht2aqKMVRLTPs15pVVGRpbyoKMUj9yARhVVQhItEtDwrK+uMaPedGEQPACsvueSSjeF0B1VKkhTTwWUUQef2tl11B+fMmaMVg27lu1p3sFEgGCL6Ud2fyCM/p47GwWUWLEjzSPMSDB0OWuUtx2BBQcZP+v3tdvsAo4bCjBkhiEIXM0Yz48xmbt+tGpIkPRnEs/BP0S43EQ0UQnzib5mdTtvauXNnbpNFoNp+36h+801/xGDKsYUL0/aESwQacAURjVq2bFmCen0WiyUh0GiwRPS1EOLmaN4XEyZMmAgZFoslSZKku4goPwIP3KDYEhPRWyyWmtTU1HpJkpoYRDYMaEPNTaiNYqp1HVVBulFfr/n5szcr65z0gWc8XJIYY3a0+0kMIhWA69lnnz0YbndQyIOcVYpwirr488Ja4cUdVBPRZ2Vl1dvtdg93UNNfKvXTpBUR2KQ7qDIvb7aHSxiu4DJCCNe8ebO2Gg2WCwtTjmoHyURU6KuxMOO5EEWhixnTmNGnmdp3q4bFYkkios8CbA9vRrvcgOxwCiEmeitnTo4sAtUUElouWTKh5qQYnOCOggg0etb922azXaVenyIKpSCO9XQ074sJEyZMhA1CiJtjIUFtC01EX5+enu72ZxApROi5CXXTQ2s0n9cL4xD6roULp+4rLrZUOJ22Y7ry7I/2PffjR/vWaPePGEIPACsvu+yyTSkpKUfD7Q5quNvf9tycbModtNvt7ibcwRohC0q9i/6TONmP/HqxI4RUaRQNce7c8Il0NQKjZwCbkylGiKhJocaMq5jxfhiEYTEzhjAjuRnaeqsFET0YaFuQJOmuaJdbhZKi4i0hZBE4b97MbYsXTzrozfHTisGlSyfUnHyBknJswYK0Pfn5c35sLhGoJxF9T0Tj1XRHxcXFbYMUhZnFxcVmyiQTJky0fFit1tMlSXJG46EsRItNRF+tTUQfAN0idHewQr9dkiSP9BEOh31NUZGlorDQc7qoMEhNEWskog/z8/PN6IcyJuOkOxiWqJZeWBpge24uQRiyO6iISv1av2rh+bKlSUYyuIwQwlVQMHuTt3VVDod9DRHZ/G04zOjAjNQwiEI14fcYZtzEjHYRbO+tEkOGDIkXQvw3kLYgSdL7Q4YMiY922QGAGb+rrW03asWKQauKiyf4XAO4ZMkEt8YZrIkFEeiFHwkhbgcAIUQiEeUEcwwiujHa98eECRMmwgJJksZF44HcQhPR1xkkoveHwQaY0U5nM0plUSlkt6OhXtWpZwUFGR7TRYVBaopYJBGNjna/iAH0ALDyyiuvjLQ7qNZ5TAWXCcQdVNxy7TRqtb/UCiEO6q51mzBem9skHQ6rl2igmR7TtoPl4sWTDxidY+HCqXuzsrIuCLQRMeNGZrwVJmGoDUIzghlmuhg/oazJC7RPPhKt8jLjQmb8gxlLtPf+4MGz1n/00SiPKaKyGFQjiY6rX7x40sH8/Dk/OhzR/z1poo6tNpvtrKysrHZBikKXEGJyVlbWKdG6VyZMmDARNjS3KGyJiegnTpxY7SURvb8MNDehPsehPo2FW4iGqXFr1LpVF/U7HPZG68KIKCwBMJqpfXxvt9t7RbtfRBlTAbief/75wxF2B9U63xJku44Um3QHMzMz6wzcQfUFTJ2Q+9wm3bXWiCDcQZlUuXjxJI+Q+YsWhSe4jBDClZubvd5osP3VV0N/ZcZ9wTYmZowMsyhU+TkzZjJjODMGMONSZgQ7OC4AwD74qWbfMgDjg60PLxgK4O9N7FMDYEwwByeiwjPPPLMKAN94440GwcCEa8yYMT9Aud6XX375OyGEv9N1/Sm7TzDjImY8zYylTd33H364eevSpa+Xa51BOXDMG1X5+eF7QdIcJKKvJEka9uKLL7YnotlBHuNjp9P5l1Dq34QJEyZiAkIIaq4HcAtNRF87efJkb4no/XU9Agkwo3UHPRxG3YB2jxBypDd5gDqlwuHwOL/XnGaxyGiHX48yegJwXX311Zubwx1U6juWgss05Q7WaNxBtU81cgeVzw/rrnOnCNIdVJmXN8dLcBn7GhGme7FgwbTdjc8xoaK8/LS1ytTN84JtVMw4SwkYEwlhqOcXzFioiMUXmfEYM+7/7LM7R3/wwZCn0tPT/5yVlfUWEWUR0SwimnbBBResTUhIqLnuuus+uPbaa9+75ppr3r7qqqv+07t376KLLroov3fv3q87nc7fKWu3IiEI30Jj0WmERQAGBXNwp9N5gyoIO3XqVCtJkse9HzBgwB4ogvC11177weFwPBPGsnuAGb9nxrMcRC7Lysou37z77vPK2teJlUVFKcdyc7N+iPSzKoJcSEQXSZL0z2CPQUSz8vPzewZ6H0yYMGEiZpCfn99FyPPqI/7gbWmJ6C0WS5Ufiej9YSBTR7Xfc4vGYtBDmBLRj/Pny/nM8vIyj+i2GwafiXU6HI6/RbtfRAnTALheeOGFZnEHVRLRrhDbd7jo1R0UQlSo7qDNZjNyB9UXL9XCc82sW9k3WJe/wltwmXnzwhkBVlpdVHQywMyKFfft0gzEF4TauJjxB2YUNZMwbER9vtzCQsv6+fOnl+TmZq+6+uqryzp16lTrTx21b9++rl+/fhuIKIeIpkmS9LIkSUMdDsd1IUzf8yWq4gAkeNnmN0477bSDZ599diUAfvHFFz2ctG7dulWdddZZlVAEoRDiG7vdfmqIZW8ExcX9J2umEp84AVdtrV/3cBkzLMy4mRmnMmPBzz9ftfnf/37tYE5O9vrw9YHokIi+I6J/2Wy2u4UQK4I5hiRJK4UQE+fMmWOmcDFhwkTLhBDi5kg/cFtiInqLxVLrRyJ6f+lPbkKt22EkIj2EKREdXbx40hFluqj+nLui/UMb5I/zlzk5OadFu180M3oCcPXp0+en5nIHNfW9PkxtPBRWCx/uoCRJ1aogVN1BIlL7i5qIvo6I9AGXdouAI4sac/78GRENLiOEcOXlZW6Up+KNq6is7FiiG5SnhqOhMeM+Dv/6woAEYW1tu41ud9KPbnf7TQ88EH/0jDPiao8ePf27Q4fO/mrv3t99tGnTH+cvX/6AtHTp61ZJkpxE9BYRfd2+ffu62267bbe2zgYNGrTj9NNPr4mPjz/RtWvX8nvuuecTIcQLDofjHiK67O67706GPBV7N4BKACsB3KFURwkaT0/tCtmFfB6AUPa/EJ5TRhN9HNMDiYmJG6+88sqDXbt2rf7Tn/60V1v+8ePHrwfAt912226cFISuzMzMcQBSAOwA4AbwA4ARmsMalT1B+52kJGx5+mksZMbb6r3o3Bl1kyZh50MP4UBSEo6vX4/1fojABKXtnM6M/yjb39269cqLiWh8cz2rIk0iekcI8XAo0diJaDkRvZSfn98lwK5pwoQJE9GHJElpkXzQttRE9LNmzfInEb2/bGrqqNbtMBKQRs5F1bx5M9wLF6YZTftrsdN4JElKi3afaGZMB+B6+eWXj8yaNWtrc9c3EZWFsZ0Hw6bcwbo5c+bU2Ww2b/2hVukzDY6dIqrVNbghuIMynU6rYYTFcK+dWrhw2u7Vqwfu9DJID2raohGUgb4tGoJQu23wYJR17YranTtRYsSaGnzFjBxmvNq2LY717t0p1+FwXEdEd1x++eVLAZy48sorSx955JE1ffv23QeABw8e3JCy4+qrry6Lj48/fv311391yy232Dt27LgcQD2A3gAuA/A5gO8A9IEsqMoA7FM+fxrAKfAUhAUAqgFMADAMwAeaYxqhpGfPnj/269fv1y5dutRo7/fAgQN3nXLKKe4nnnjiJ2gE4TXXXLNfOe9EAPcBmA3gOAA1+JZR2XPj4uC+5x584HDA9fjj2NemDXjCBPyiFYSnnYa6669H+bRp2HHoEFZr7sf/mDGR5ciyjaKdMqMHM95V9vsPM05Xt9lstqvUFBWtgUQ0h4j+HeIxvhZCvCKEuMTvTmnChAkT0UZWVtYpQojPI/Fwzc7OLo22wAuC7kAS0ftJX7kJ3bp99eLRUJg6nXZ3To61PjfXI/dgWJ2LKPGaaPeLZkJPAK4bbrhhS2pqeB0nfylJ0k9hbOeB0m93UJIktV+obrnqDtYrayG1CeP3Ci9TrYMjVS5cONkjuMzChVMbOT6h0uGwf+V2J/nKJ3hZOBsfM3qxnF7im2gJQvgIKvPZZ9ioFTOvvILdzPhsyxZktmmD2s6dQeq15OfnJ3Xq1Om/CQkJB4ho1AsvvOAEwHfeeWfDFOzs7OxVycnJdTfffPNGIcTkrl27utq3b/+dJu1NGYBSoJEg0grCS5WyvajZngRZRHpzcUvatm377ujRo9cD4FdeeaXhZd3ZZ59d2bdv331aQThu3LhSANy/f/+PdMeRABwDGtKAvAXgU2Zc+d57mA6Ap03DDm39Pvww9nfogONVVVil1uGFF6K6rq6RCHyDGX31IlDTRi5gxqfK/gvYIICQECJRCPG0CHLKZayRiJZJkjQvTMdaJEnSUDMqqQkTJloE7Hb7nZF4sE6ZMmV/DAi8gN3BQBLR+0slx5pPd1AYC0dDYZqTY613Oq3HlRD82m07ov2DGgb+d9myZSGv32kBmBEfHx81d1Bh1ILLKIItEHewTvPdciGLyRohB49RB2CrNYFnQnYHVTZHcBkiekQZgC/3IrA+YUa3cDdClnMYPqSZEthsgrBLF9QtWYLNRjx4EGsMBKErLw9bAfCXX6KUGXOY0Y8ZbQAMhizYegB4Vvl/dyHEJUqy+CmTJ0/+JD09fY0QwnXppZce7tWr1zGl7osTExMrzz333MJp06Z11lSPVhA2HFNXhWcBJ10zHUoALBVCvN6lSxd3//799wghXKmpqesA8HPPPfejVhDee++9OwBwRkbGatHYYfqrcu5rmXH15ZejtE8flDHDNWUKdgDgw4cbOX6u4mJsVuppg1qHI0diOzMmsJyexGfeQ5bXnn6hHC+HGT7zxUqS1DNcQioWSERvE9GXYTxeOhENNMWhCRMmYhpEZA3nwzQrK+uHaAu8IFgTZCJ6f2i0NtCt20cvGg1zIDocUrUsCO3qGimti7gu2j+kYeLT0e4TEUZPAK6bbrppa7TcQQ1/iUB7b4rVwov7LYSokCSpSk1E78sdFLI4LFGvhYgOiLC6g6oAtVcVFaUYBJeZ0TBFMRRqE5Mz4/98iKxiZrSNVKNkxiUsp6woYMb3kRaE3bqh1p/jaAXh1KmyAIqPP8k2bXAiLg7HIYumKyE7dschB4dpBCFEVyK67eyzzy4999xzfyWi74SQA9fcdtttu4noeyHEYiHEi3Fxce6EhAQ1uqnXY/pACYCldrv91Jtuuml3165dq4UQrrvvvntnhw4d6iRJcmkFYf/+/fckJSXVK205R7kncU8+iccB8HvvYQUzXLfeisM33ohjzHA9/zz2dOqEen2dffQRNgLg99/H98wYn5CAI23aYIKf7eCPmhcTs5n9D7BDRA8IIb6I8jMtXFxNRB+F85hKEJoCSZKetFqtlwfQlkyYMGEi8lB+JL8O10Nv0qRJB2NA4AXK+iAT0fvriOjXB2qFp5FgNHQ4nE5bbU6OtV4IUgXhcWWAXBYDP6Dh4gohRNAh91sAZsbHx7tGjx59NIruoMp1kWrz3khEdb6Cvdhstlpv7qCQo+i6Fe5Rr0MRhl4DMYXKefPSPQRhUVF4xDwR3a1tHMx41YdAmtUcDZQZXVjONTia5ZQSMSEIrVb8DICLivDTypUo1fPoUdhvuQUZkMWh3o3pA+D3yv/fAvCpxWJJslqtf0xMTKy45ZZbtFOPXfHx8ScGDhy4SwiRe9111xX6cUw9SgAsBYBhw4bNBMBjx44tPffcc8uvu+66/UKIRoLwr3/96y9xcXFstVpX5eZmbti06QYbMz4mkq/555+xVi8IX38dv7RpA3a75amhCj8dMwbFALh9e/RQyuJX6g5m3MYsC09mTGlqfyNkZWWdQURzovxcCxuJaIXQ5P8N87E/lSQpQ5KkfxLR3Tk5Ob1tNlvHYOrdhAkTJsICZVpNyA+4jIyMn2JA3AXlDoaQiN7vgbAwdv/coolUEzKpUjNd9Lhu/2ZLWdAcJKK8aPeJCOFiAK5bbrklFtxBlQci2e519Nsd1CSiN3IHK4UQazXXcFD4cNZDpbfgMnl5c0LN+fmmvoEwI54ZwodImtnUlL9wgxntmdGHGQ8zYzwz8lhOVN+sgnDjRqyLiwPPmIHt2n3eeAO/XHMNyuvq4Pr8c2wAwA89hKnMDY7eqQAqAIxS/tanbigDMF4IkUxEf5Ik6eX4+PjjiiB0vfTSSxsA8LBhw34kIqvD4Xh01KhR1+uOqUeDILRYLMmdOnWquf766/fHxcXxP/7xj81CNBaEo0c/sx0AP//8A5XFxZaKDz549hAzXAMG4PDvfofqEyfka9UKQtUJJMI6ZoxT3L02AP4DYCNOOppNCkJmDOKTzvAr/rYNbyCiW4nowxh4voWDJZIkfaN75kSSHxFRjhAik4jShRCpQojXZ82a9dHMmTPfTUtLs6SlpVlCvUcmTJgwYQghREEoDzFJklanpqYeiQGBFyjrpkyZEtZpZkbUDGYbhKfD4agQfqSakPeVp4s6HHaP9YhE1BrWD+rb013R7hMRQEZCQsKqV1999disWbP0ufOiQiLaHOm2r7Ipd9But7vnzJlTZ7VaPV6OKGsHa4QcXXSf5hrWKvseFxFwB2VS5cKFUzyCyyxaFFpwGbvd/mejRsKMZPadQNzOEZw+6i+Y0ZkZF7McvfQBZjzJjKeY8VRx8Yh3iotHvJOWlmYpLh7xjvo5M/7Rty/WtG8P9+uvY0NKCnbqmZmJbUaCkBmuoUNxIDkZx8eMwa6CAmx56insTUjAifHjT0bV7N8fR045BfUWC9aOHIlUAF8B2AM5TQMAzAPwC4B7AbSFsWCqSU5Otgghbiei8b169fo1KSmpfvDgwTtGjBix5bzzzivv0KGDe9KkSVnKVEn9rIYGQQgAPXv2/BAAJyUl1Vut1lUOh3CNGjX8FwCcljaqvLjYUtG7d8/6pKS2PGzYAPerrw6tfuih0w8D4JwcbFWvbdAglJ15Jmrz8lBSXo4Jp52G7yAHnRkN4C7IkUkZgDa3q09BqNw3tW09EUAT8Ini4uKOrSlFhRBiLRF9IIT4Phrn179kCdd9MmHChIlGcDqdPYjo22AfVmlpab/GgLgLiBMnTqxOSUmpnzNnToQGkh7UD4arhU7cKSLRwKVoPF1UQ9UVaS1rCF1CyNNpWtn0mYsBuPr167cthtxBta71EWsjIQZrhA93kIgqfbmDCuuVFysbNOU/LCLoDqrMzc30yEkYSnAZIprvq7EwozvLeeG8icI8ZrTU/lEAH1FGzz4bFd4EYV0dXC++iD3duqG2bVuc6NkT1ZMno1HKjoMHseaBB1DWsSPqO3VC/XXXYc+YMbhfc/5+kCOEVkJ2Dw0FIRqnneiclJS0uE2bNhWJiYnVvXr1OjB27NhS3T19T5IkCxHd0aZNm/XQCELlnNynz1VHFiyYtruoKOXYq68OrQbA06f/o6q42FIxd+6YiltvvaauU6dkTkiI5/POO73easXPmmv7xGaDIyEBBzVl7wSAAByAnLtwHYBHddfiVRAqzqJLcQfDluJEC0mSeoea0iGWqEwjfVc0szA0BaEJEyaaDUKIkcE8qGbPnr052uIuWHcwNTU1XIno/eFmIaeHUAfB+lQTbuPvydNFc3JsqhPi4SgqeeWi/mMZZvoVCKGFYE5iYuKqsWPHlseKO6iSiHZGqL03vAgJxR0UQpQr7bxW185LxUl3MKJTvoWQDIPLzJ8fXHAZp9P5h6YaDDOuYMbXPkThEo5A9NFYgOKS9mXGy6xJsh4ipzHjtHCV0el0/k5ZbjGTiJYZ3OelOTlZr5WU/OW5urq2U3/88Yb1RlOPfbG09E9rWU4R0keZDhoWMKMNM6Yo9bKCGf3CdWxvIKJR0X7WhZNEtIKI/q0IxIifzxSEJkyYaDZYLJY2RFQUyEPKZrOtTUlJORYD4i5QVkUgEb0vHlbqbKMQjaaQNplqwuGw18jTRSWf6SskSYp2kJKwMycnx1vi55aEiwG4br311u2x5g4qjHRwGb/cwezsbK07qAo81R2sUz7bpCn3UeHzRUp4OW/eTAOXMPD7SURz/G04LEf/9OUUfsiM30Ww7cYEmHE+y1FQQxWHy5gRienocUR0md1uH+50Ztnff/+Z9evX99+zf//55YcOnV1x6NBZFUePnlH27ruS6/iJAAAgAElEQVT/qiwutlQVF0/0mIKssrAw5ej8+dN25eZmbiCi/1ksFp9pHwIFMxKYYVXq42tm/DGcx/cFSZJ6ElF+DDzzwkZJklwOh+M9Ivo0kucxBaEJEyaaFQ6H42I1HLcfA5tVkyZNOhQD4i4Y1kYgEb1XEpFWrO0VfqaaEEJUOJ3WOnm6qIcYrNWdo1wIUSIi8GMURS61WCxhezMeJWS2a9dudSy6gyqVtA2RaPuVTaWCsNvtNbNnz66zWq2qM6jvC9XK5+pLFZeQp41qI+1GvA97Cy6Tn+9/cBlJklZmZWVdEEjjYTmR/Cc+RM4XzDBcj9gawYwrmfE6M74MQRjOYW5YUxiOMiWynBdxsnI/XLW1bTdUVZ2y/ejRrgcOHTqr4tChsyt+/PHG6qKilHqFtcXFlpriYktVYWHK0QULpv+Sm5u5waDdjAxjOduznFtQbTeXhevYgYCIHghnrr9YoeIafixJUth/h01BaMKEiWaHEOIFfx5QaWlpe2JA2AXMSCai98JjQohVmrpbJ/wMJiOEVKXNPdjUdyRJ2h/tH8VwU5Kkx6LdJ0JAbwCu22+/fUeMuoMqNwXRrv1hjS5fpgezs7PrsrOz6202W504uU5Q+6KjTshtXSumy0UzuoMyjYPLLFw4VRvkxieJKCWYRsSMHsx4twmR81yY225MgxntmPFXZkhBisL/MWNACOdvy4y/MGOqH+J0VW1tu42VlZ13vv/+szVFRSn1ixdPqp8/P92dl5ddJeTfiL3Ki8N1ujbzVW5ubqcw1NcpzChUyvMxMwJ6MRFuCCG6CiFmxsCzLxJcJeQgNF8q93BVqMc0BaEJEyaaHcXFxW2J6G1fD6fp06f/Em1hFwLdEUxEb0T9OqPtQp5CZ5RrTedK2N0+posafkeJHBntH8SwkYi+zsrKOiPa/SJIZLdr127166+/Xp6RkfFTtOuyiXoOd3CZJt1BSZKqfbiDaqqJOiI6qinrJtHM7qBKb8FlcnLs/jgCK4QQQbtSzDiVm84L6Ayn89VSwIwLWV4juDIIYTiZGR38PE8Syzkap7Hv9Z1ep/hu23ZNRm5u5o9CiE1EtEsIccigrR0Rcq7Nn4Sc9uDlEOunGzP+o5ThXWacFcrxwgmn09lPid4Z9WdgBLlWkqQviehrIlofzDFMQWjChImowOFwXOXtwTRz5sxtMSDqQnIHI5mIXsdyIUSjpMfK4LYhqIwvB8XptNZ7mS7q9vYdZWAfkWS6UWR2tPtEEOgNwDVw4MCdMe4Oqu0y3MFl3AG4g2owGb3Aq1WOsU1T1krR7O6gSqmqqCjFwyWcNy+9ydQvoQ7qgQZXzNaE6PiKGY8xIyEMbbhFQXFS04IQav9lbkjkrj9mEjNuZ0Z6kCLwA2aMZsZV6jGJaLau75UIWfztFprAYxoeEkJMsdvtA6ZNm9Y5iDr5UCnLUmacHmo9hxszZszoIIQYE+1nYDNxNRH9SETfEdFyIvpeeYlbqrQDw++ZgtCECRNRg1EOofT09J3RFnUhslkS0atU3gBr63CTZps20bbh4NPbdNGmnBEi2hMDP3xhpdPp/Eu0+0SAsCYnJ68ZN25cRay7g0I0DErD1fb9cgfVyKKSJHlzB+uVtbGrlDJuFVFyB1XOnTvDMBBIE3Ublml/KliOPOmPyLklXOdsSWDGH5gxP0Dh9hkzLlG+354ZA5kxkxnfBCEC39eLQC1sNtu5kiSt9NFm1gkhthDRr+oLRCE7hi4i+l4IsVAI8YLD4eibn5/vNegMy3kiP1XKtIBjPFWJEOIKIcTSaD8Lo8R1Qh4fbBNCbCSi1UKIb4QQ/yOiD01BaMKEiahBeWv3kfrAaqlrBrXuoMViqW+ORPQa6t/47ddtN3obXCGEdrqoR+5Bf8u/MQZ+5MIpWD70NfiJMfQG4Lr77rt3pqamHo523QVAffsMlm7RRKJ4q9Va680dVESgW8hrEHdq2oA61dodpnIGTKfTbhghMj9/9iYf9Rq2wCAqmHGDZrDvi3b+DUQiNQIzHgxA0K1mxg8sr7NbHqQIfJkZV/pTNkmSLAH0y/VEtFWSpAKDYCwriChHCPGUw+G4ymKxJCjX/geW3WIXM4gZLeLZuWzZsgRJkp4MJS9ya6QpCE2YMBFVCCFuliRp9eTJkw9EW9CFyx1srkT0RPSr7qFuFN5/veYNcAMdDlEhu4NWfd7BeuEjhL/u/EeUt4xR/zELF8Mx7a6ZYO/UqVNJS3EHVRLRJn/aVhP0xx2sUtcOKu6gW/d91T2v0Eyj2i6aSNHSPKTKhQuneojCRYuMg8sQ0WeWMKcOUMGMLixHzPRHsIzn3+b6wrP4ZGRNIxH4EzP2MqOcGRUKN/tZp+8x4yVmNJlXUg8hB1UJKIcdEc0ZMmRIPBFdKeS8wUIvnIjoq0WLUpaWlvbbXFbWo5QZs5kRH4m6jSScTmeP1paiIhSagtCECRPRxnnDhw9vqYnn9aybNGlScyaiL9U91HfptqsRQTfrv+twSNU+oov6PRg2mLLaoklE39nt9l7R7hRNoDcA17333vtLC3MH1Tr2eEERIN2iaXfQbbVaG9xB0bhNH1OO4Rbymiq1bFF3B1Xm5mb5HVzG4XD8LdINjhn3MONzPwTMcmaMZcY5kS5TrIEZT7IcdGY9M7YxY79GABpxq5c6fJcZLzLjilDLJIR4MdD+6XQ6G4nPrKysdna7/QZJkv4pSdK8/PyMH4uK1Ai403YT0adENI2IBjudTsN1krEMIhoshPg82s/FaNMUhCZMmIgmHgDwdceOHUvGjh1bHgOCLmhOnDixujkT0St53bSD7NXKNDjtfps0+zSaqud02mrlYDKkXzsYzHRXvTBt0SSi+dHuGE2AunTpUjJ+/PiK2bNnt7iIr0S0I4g2ptIvd1BdO6gkonfrvq9dW7tWKdcvIibcQbV/GweXmT/fI7jMf4cMGdIs7gwzuvLJhOP+MCUYZ6ulgRkdWE4PMV4RxOUG4s8bt2tE4AvM6B3OsuXm5nYioq/C9fxjxhC3u/2q7duv2PTpp0+8S0TFBsd41+FwvEFEA+12+6nhvJ5IwW63nyqEmB7tZ2M0aQpCEyZMRANnAcgE4FLZp0+fn6It6kJ1B1NTU+uJqLkS0euTVf+s264PQrFWyBFJK4SgSnW6KBE1mjLaVNRGL2VpcS6VHxwS3S7iFdcAcA0ePHhXS3QHhQg5uIxbNO0O1lit1nqr1erNHawholohxF5NuWpFjLiDKufOneXhEuqDyxDRwOZugMy4n+Uce/4KwzeZ8RDHeMCRQMCMy1mOtOowuN4SZhz0QwweYcZOZrwaybI6HI7HA+2jTqezn8E1j9Jc42Pq53a7/VQiGiiEmEBE7xj092IiGk1EfxJCJEfyWkOFJEk3EdGH0X5GRoOmIDRhwkRzIgnAswC+gUYMqhw5cmRLXUdY1ZzuoJBDhOsf6Id1+2wz2Ge7EKLC4bDX+Mg9GJSg1QbmaA0koi9zcnJOi2Jf8YaCLl26lEyYMKFFuoOa+t0XRDtr0h0kokp/3EHl3x+U8uwRJ1+IRN0dVOlwGAeXKSiQg8sQUWG0GiEzOrIc5XJFAMLwW5bXI97LjFMiWLwCAOyDn2r2LQMw3tuBmNGG5RyE97IceXWech1er1MIbLVasY3ldYN6EXhYEYGluu/dFeS11gAY42sHIUSi0ARv85Nv6uphnFLO75lxp6/zSZLUXQgxiIimEtHHun7/nRCiwOFwPJObm9tHCJEY5HVHDEKIZCHEq01EaW11NAWhCRMmmgNxAAYB+BAGQlDlaaedtvb111+PtrgLhrXN6Q4KOZ+U9mG+0WAfb8FeDufkGE8XFY3D8gcjCoNKiBurJKKpUesxxugDwPXAAw/saanuoKZufwyijdWKJtxBm81WrbqDinjU9sly5fu1RFSmlGOV8vdxEUPuoExvwWWm7BdCuBwOR99oN0hm9AxwGqmWguV1d9eEuVgFAI5CFkpGHKrZt0EQMqMzMy5hxl3MeIUZucFc16234vCNN+KY8vcOZhzyIgL1DCaFxyLIv60+QUQPBNFPBymCOF0p3wpm9Au0gDab7UJJkoZKkpQhPNfqfSNJkl2SpMesVuvlkMcKMQEhxCVEtCTaz8rmoikITZgwEUkkAbgLwFL4EIJa3nzzzVtjQOAFwspmXjtolI9sr24/rzkCHQ77Jm/TRUUTg20/ynYw2j9qEWC4B6uhoKBr165rW7o7qDKQ4DJEVBUGd7BSCFGnuIM/KmXYJ062/xgQgY1pFFymuNhSkZc3Z2G0G6MWzOjFjNeDFIYqnSyvo7ubGb8PoTgFAHYZlLEjy3nz+jHjYWaM7tAB1aNGYR37FzDHL/bvj7JLL8V2lqfWnqX862KG68QJuGprvX736xCv2xfihBD/DayPSp/U1yfaNWW7NtRCWCyWNpIk9SaiEZIk2YWcB0/7TFgmhJjpcDj+lp+f3zMM1x1qeROI6AkiWh7t52WkaQpCEyZMRAJ/AjAJXqaGNsVRo0aVxYDQ85fuZl47qJ8KarQeq9TbQ3/u3JnbCgpm1YZzumgT5Wvp/O+yZcsSotCH9LgegGvo0KF7Jk2aZDRluCVyewBtyx93sMqHO1ghhKhWPlfd1TVEVBeb7qDan4yDy2zf/ofJ0W6QRlBcthHM+DBMAus9llM6TGbGM8x4ihlPFRePeKe4eMTb06dPn7hkyYh3mPEqMyzMSO/fHxtPOw2VzChiOViL1/WOnTuj7pVXsFv72dSp2NGzJ2ratsWJiy5Cld2On7Xb3W6sevZZ/HrGGahNSsLxK65ApcOBT5jxjw4dsAmNp6d2BVA2cCDE0KHYn5SE4+vXY31tLVwvvIA9Z58Nd2IiTlxwAarnzME2lvM+nqVUZw2AfwFwAjgIoBLAmwC6aKpcP2U0EcBUALuV/VcCuAMA7Hb7gLFjx5ZecMEFR9u1a1fftm3b47///e+PpKSkrNP3TYeDVi1aNLmstLTfNmYsY8ZlkWgvQohEZero00oKiEZpMpT1fKmSJN0lSVK3SJTBHzidzh6SJDlj4JkZMZqC0IQJE+FAFwADAEwA8DmCEIFannHGGesmTJgQbaHXJCdOnFiZkpJSn5GR0VzuYLkQYpXuB3Onbr8yXw/9xYsnHSoqSqk0mC7qDmNZPQYYLZxPN293MkRBt27d1inu4KYYqJOQ6W9wGX/cQSFERWZmZq2SaqJOeObSVNcfVgshtihlOCBi2B1UWVAws5EY/OKLYXsV4dAm2o3SG5Sphv1ZTlgeFudNS/3gVbtt8GCUde2K2p07UWJEtxurvAnCV17Brrg48PDh2FdQgC0jRmBfXBw4Pb0hGqhr8GCUJSai/v778dHgwZiakICPAdRDTgdzGeTfwO8gT/FOgDwtdV+3blg3bRp2HDqE1UOG4EDbtjjx0kvYPXcutjz+OPa1aQOeMAG/MOM/zEiGLPaqAcxWjj1U+SxDU9V6QVigfGcCgGEAPtCULalDhw5VF1988ZGRI0f+NGzYsJ/PPPPMqm7dulVJktTQLx0O+5rFiycdLC62VLz55rhDe/ZcfElkWoknMjIy2gshbiail4QQi4noe90z499CiDFEdGtWVlYk16EaQshrI/8X7WdnJGgKQhMmTASDzgBuAzAaQDFCFIBGHDBgwPZoCz4/BKF78uTJwaRpCJaNArc4HA6XkKMmavfxmqQ8Nzd7vZw7amqFEk00bNNFtVTXZ7UirhBCnNd83csDNwBwPfTQQ7+2IndQpX66sxFrlWmeXvex2WwVGnewVjR2ByuFEFVCni56VIgGMVqvuIPNFQwqKDYOLjOh4siRM9Yp4uT2KLZJv8HyOsMnmFHQXIIQPoLKfPYZNhoJwj17UNK2LU48/jj2aY93553Y3aULjjHjMYsFg5XjvKi5xCQA+wCkKn+/Bc/ANaUA4pkxcPVqrAPA06Zhh/Y8Dz+M/R064HhVFVYxYwZksbdMV51LAHyv+VsrCC9tomxXA+Bnnnlmk9r/xowZ88Pll19+aObMmWuEEC6Hw15SWJh6WI5om3o4J8deQkTPBXbHw4dp06Z1JqLbhBCvE9Fb2meHJEkriWiBEOJ5p9N5g8ViSWqOMtnt9lMlSUqLgWdnWGkKQhMmTDRCWlqaReXw4cM/AGCBnCIiH8DbAL5CBASgnnFxca5//vOfh6It+ppyB7OysnwOVMNJZRCrfYhv0e1zVBGJhpw3L32nvP4o64hyvDoRIYeEiLZG+wcunCSivGboft5Q0K1bt3UWi6XVuIOaejUKiKRllfAj2JHGHawXxgKvlohq1CnNRHRIyO2+OV/oBCkIRcXChWlVxcWWiuXLB2unN1IU22RQYEYXltcIpilTESMiCLt0Qd2SJdhsxIMHscZIEOblYSsAfu89/IfloDK3M6M70CACe0COks0Auusu7SwApyv/NxKE09Q/7rwTAgAfPozV2nIXF2MzAP7yS2xghqtNG9QCGKs7jxXAZs3fWkHYVNlOAXCgY8eOx+64445fRo8evUHrDDqd1nVFRalHiostFYsXTzrkcNjXKNu+iZV8gpIkdSOiu4lokj49BBF9S0QOIcRIIroy0vk5rVbrH4novWg/Q8NFUxCaMGGiEQweChEXf97Yo0eP0jfeeCPq4s8La9LS0kKKyhkgPQLFKINa7T76pNWNWFiYcrSoyFLhcJAq2tQE3e5wl1eZ3qoXsC2akiQFGxo+FNwIwPXII4/sbYXuoMojPtpRXVPuoN1uL1fdQUmSPNxBTTs/JuQp1+vESXcwbM54JJmbm12+ZMm4isrKjiU6cdQjCm0ybGDGH1heG5jHjK+CFYS1tW03qLz//rgj3bqhTvuZwrW1tUmfuN1Jc+vqkqYw46m2bXGsd2/YmdGjTRv8E7KgqjcgA7gSstN2HL6jYRoJQm1qi0lJSajWX9NHH2EjAP74Y9nBbNsWJy64oMF1VGEFsEXzt1YQ+lO2i5KTk5ckJyfXAeAOHTrU3XHHHb/k5mavLypKOSZHsZ1cJoTUKEo1EXlNzRFN5Ofn9xRCDCGiGfqpnET0JRHNkSRpGBFdFInzZ2RktJck6Z8x8AwNmaYgNGHCRCPEkiAE4Lr77rt3xoD4M2K9zWZrTndQn9LhB4P9vAqwvLzMDcXFlooFC6aV677jbmrAHSwlSdof7R+5cJKIPrXZbB0j3wsbYeE555xT2hrdQU29bvPShqqFH+5gVlaWW3UHlanQ+hcTbiEno1enXB8RsiCMeXfw5HVIVStWDN5lII5ebLoJtRywHJXzJmY8wox/sRy5dArL+QudzFjMjLf1v1P//vfY0iVLxpcWFU1c/8c/Xn7olFM61s6bN70kPz9jTW5uprcUPK727dvX/eUvf/mJiN667777lgPgoUOHvvXcc885nnnmmcx//OMf00aOHGl57LHHxkybNu1vl156qQ0Av/DCCzc5nc7faZyzPkBDhNCmBOGrAI5XV2OB9l4S4WcA/PPPWKsKwjFjsJ4Z2lx9vgShKmj1a+u0ZQMA2O32qa+99toPN9xww34APH7836tOpjShVfp6kiRppc1mOzeAWxkNxAk5VcTfhRDZRPS17jo+IaKpQohBkiTpXdSQkJube44SNTXqz9NgaQpCEyZMNEKsCcLExMRVL7744uEYEIBaVs+YMcPdjAPCffqHNxH9qttnr6+H/YIF03YXF1sqcnOtejfmsPDh0IRKImrx6RF09d6cb8pvAuAaPnz4vlbsDrqEEGu8tB1/3MGjGnfQrduudQfVKdelooW5gwqPffPN31YaCMLPmRELUXCjBqHDJZdcsik5OblC/zkRzRVCLCWiD4QQXwghC8Lbbvt/9q47PKoqfX9hkhBCIrB0oygtgIAiTUBWBNGlKUhRfiLSWVBERVAQxAk1CASYzNzzfXcmBOkZ0bWtuuqK64ptJ9QARoogvQgkGUrq+f1xz+DkMjWZksB9n+d9lMyZuf2c897vO+/36AkisiUlJe0GAD5kyJAjzvdn//79jzVq1ChPkiTbtGnT9gEAf/bZZ6+nxC9dunRHVFRUUf/+/XcQ0ZpGjRodql+//mEiepkxNlqn0+XeeeediIj3mEymBqA817xlS5jgnDbbuzdcbNwYrpaUKP+OjoaSpCT4nXOY4XS4ngRhJ1AE4dNOn9cCADsATAKAcaA4j8YQUUNE/AlxSXZEBPApUwZd27hx8SlZ9tj3LQ3KBQwS9Hp9JGPsfiKaiIgWutHB9CNEnMMY+1t6enpN77/oHZIk/VW91rGyUBOEGjRoKIWKJggBwNa0adO9FUAEXueCBQvyQ1iE3k5E+1Sdt6sJtLqNEzHTak3KzchIuizLN3zvN3Jd2D5QgjBX7G/YB7xA0WKxtAn6g6hgQ6NGjbL0er195cqVv4T7uIPMk6p7x6foYGpq6jWn6KBaPOaSEh3MJ6ITYju5VMmig6Q8R7+tXbtkJ+cRrlIo+4bofqwsWAMAlwDgZTcc7dT2fPXq1RcRUSOTydSqZs2a70dERFxp1qzZ6r/+9a9vN23a9J8RERFFHTp0+JiI3kTE5EaNGh2Ojo6+1r9//x2jRo3a1ahRo7y4uLiCJUuW7CQiW7t27c7Hx8cXjBkz5qDRaMx0Fp0ONm7c+GJUVFThoEHtd2/YEP/HhAnReQDALZaqp/PzY7ILCqL3CkF4TFxjRz1UT4IQAOBjALgAigAcCMqa/5OglL9oAAC5APA5ADz5/PO9v+zYMbGoWrWq3GCYecrH5zRkjqOBhl6vj0HEroj4EiKuZ4z97HxsiLiZMfaqJEl/TUlJqVaebYnaheoIZYWmJgg1aNBQChVREAKAbdiwYSfCLQQFrxiNxpClihKRq2Lv6vptF120uc41a1ZkW616+9q1y24oBO5kVOOL22NZecP6x0rOLXq9PtiW/90BwDZmzJiz8+fPd3UP3Gzcp7pnvEYHGWOXfIwOXiaiXaS8+HBEB0P5DJdXDOYQUaYsk+3Qoft3uRCEliDfi5UNa8CDyyiUFlTqdE4dKEZqx0ERW78AgNplswYArAZFdF4EgE+bNWvWNT09/W6TydTu4YcffjkyMvJSlSpV8ufPnz8rOjr6SteuXX9ExI0OI5SUlJTtnTp1OhsbG1sYGVmlpGXLyGKTqca1Cxca2h2sWhX4/Pnx+RcuNLSfPt343OrVKza3adNmV/Xq1S8Q0QuI+GxERETBXXfdZZJlOZGI6rjaN1BKTjjwKAD8XKUKFMTHQ1GrVncWvfnmZF/FoA0Rb5p7zWq1xpnN5l6I+DoRbVEd64+IuBoRJ0mS1KEstWitVmscY+zviLi1AvSvXqkJQg0aNJRCRRWEVatW3T5jxoyccAvC5cuX3yCqgjwZdJVymaNq49HRc+PGRaetVr3dYjGq9/2c00C/U6y3Ctax7A/3gBdISpI0KsiP4gZHZPwWiA467sGL4l7xKTpoNBqvOQQh3ViEPpcUt9F8+jOd2k6VMDpIf9ZNtH344as/uDFaqdTmMrcaDAbDbcIQpb0kSb2PHm2z7sqV247Y7TWP5+b+5XROTp1zly7VvXjxYoNch0Dcs6en1xdriPg/RPwKEa1EhIi4CBGny7I8logGSZLU4+DBjgtzc+vsKiyM3v755xP9LrbOGHsw3OcvGDAajbURsR9jTE9En6jO63eIaJQkaZTJZGoFno17SoGIYkXE8Ktw9q/eqAlCDRo0lEJFFYQAYLvvvvuyw5wq+keIJ4KXXHTcvzq3cVWsvjTZ9owMvX3z5qTLRDekuR5UtT8crGNBxEuI6NbcobIREb8zGAx1g/QYPgQAtkmTJp2/RaKDpe4/X9YOIuIFhxiUJClf9fllQUca6V7xYqWIiIqDZaIUJJaK/lsspl25udfrEDpzepDuRQ0hAOcQxTl84Ersl5RAZnFxlV2FhVFZu3c/PAURByLiGMbYq0S0EBEZImYQ0ZfqNEg1N2xQ1pJnZOjta9akHCCibUR0TtSOPU1Ex4noqHjJmE1K5H43OaX9I+LmcJ+vUMBkMt2JiIMRMVkt5hDxa0RcSkTDjEbjXb78Xnp6egwRPaMul1FRqAlCDRo0lEJFFoQAYBs5cuSZcIjBpKSkXJPJFMy0SleTXleRv3Oqdsc8dfJr1iw/ZLXq7WvWpLgyjnEl0IIpeo+He9ALMFOD9BhuSExM3H8rRQeJyIaI2xHRp+igyWS66hQdVD83ecJttEBMdG2O9NFKGB3MVp+n778f9qNmLnPzgXNoyTm4Mg5y5tecgycDlAiLxfIXi8XSjDHWGRH7ENEzsiy9+O9/j/vum2+eO/PZZ5POrV27bBsifi+ejUN+3I+XiOgPxtjHiDifiF6WJGkUY2wAY+xBImq5cuXK+sGuARgOIGJzUcJiJQlTIgcZY58yxvSSJPUnJXXXLfR6fRVEfAgRVyDiT+Hudx3UBKEGDRpKoaILwri4uJ2zZs3KC7UgNBgMv4R4Iuiomebcae9x0W6Xp05+48YF56xWvd1slnJV33PnSpoV5OPKCvfAF2D2DPAj+DDcmtFBB6/Sjemfav7hEINGozFf9dllYfjkiDL+Iia8RURU7MNvVxg6xKya69Yt2+3GXGZAgO9FDSEG5zDBhzqMfr2I4hyiOQcU3/0v59DB8dnSpUurG43GuxDxv6S8fDhIyhr1Y4h4ChHPEdEFUsYj53vTVfaKmt8g4vuIaEHEt4loJimOn0PNZnMvk8nUjhQzn7jAn8ngQq/XVzGbzfci4jhSUnO/Vx37FrE2safVanV7fEajsTYRjUfEj8Pd92qCUIMGDaVQ0QUhANg6d+58MMTrBg+REokL5YTQVZH5E6o2Huv8mc2mXaK2lN2Fu2i2u+8h4vFgHZdYJxZu0REwIuLn6enpMW4ep6/As7kFB8U10Bnvtm7d+he9Xm9ftWpV0Nddzpo1K6thw4aXdTpdycyZM/eG+XweJOWevn6/jOYXZa4AACAASURBVB079tqoUaOu1xaMjIzkTzzxRIGTmYyrda9XRSTwgrhG1xCxuBJGB11eD1km24EDHV2lja72v8fXUNHAOazzQRQO8fG34jiHNeI7WzmHRFftRGTLl2fUUbplPyK+jUrNv5eJaB4iGp2Mc3708fcc/ej3RPQJIq4TEbi3EPFFxtgIWZb7Go3GBxCxudForA1+rN8LFaxWazRjrLMoUr/GOfLHGPtZHNeLRqPxAYPBUNXVb0iS1EUc97fh6H81QahBg4ZSqAyCEABs48ePPxcKMbh48eKTRLQ9yIYraubRjaUatou/O7fzmE64du3SI1ar3r569Qp1umiul8F5u3A2DJYo/N3T9isbEXGam8dpICjFoh38AwCyVH97yKl9TwCwvfDCC3+EKjrYrVu3M1FRUcWDBw8+snTp0nCWB8kkJR1tp5O5jP3ee+8tSkxMvJ4W2r59+/wJEyYUG43GIoPBkO/m/iokJdJ4gJQXK5UuOkguao868x//eO0nN0KhSVn6fQ0VB5xDAuewzYsg3MY5eCyuzjnU5By2iPafcw4e17oR0Xv+PLOI+G+9Xu/uZRgkJyfXSE9Pv1uSpA6SJPVGxKcRcRJjbDYRLUPEdET8QEQn/dmuR+McRHzIYrG0SUtLu52Iosp6HcoDIoqVJKkHIk4X6zudj+FHREwnopfNZvPDycnJNVTfjTKbzQ+LtYshK12hCUINGjSUQmURhH/5y192vfHGG8E2kTmPiJmk1OoL5WTQ1Vo7teGL15SdzZvnXbRa9XZZltS/f8Lbd0llXhNoIuKeUA10wSYi/iRJki8T8SMA8ImHz99t27Zt9ptvvhmS6CAR2Tp06HCufv36V8r6fcaYTZKkQOzLYRGZLrWmSSUI8yRJuuJkJuPqpcUVUtJFc8Tv5qNSZsLrusSKRG/Phwdzmdd8uA81VHBwDk/7ECVc5+H7DTiHj0S7jziHet62SUTdy/D8/z0Qx0tEUWlpabczxtog4kOkCLsxiDidiBaSIvwyEPErb8Y5agrB+aEQoMuFIJ0sBOqjkiR1MJvNjdXCLJBIT0+vSUSPEdGbdGOJCxsRbRHupoOcx5KUlJRqYn3m4mC7lGqCUIMGDaVQWQQhANgeeuihw8ESg/PmzbskSdIOMaCEtNQEuV4XWCrKh4i/eercV69OzbJa9fYNGxa5imx6KGJfimddfDdQE96ban0cIrqdnDnhCLgWhOdBSR09FxkZyV966aULqampmd26dTsTHx9fEBkZWVKrVq1rvXv3PsEYu75NnU5X8sQTT/zesWPHc9WqVSuKiooqvueeey4uW7bseqRv1qxZWU2bNs2pWrVqUXR0dHGLFi0uJSUl7SYiW0JCgh2c0ldff/31vZIk2R555JGTt912W75OpyupW7fu1aeeeqrUvVatWrXCJ5544vdOnTqdi4qKKp47d+4enU5X8thjjx2///77z0dHRxfHxsYW9u7d+8S0adP23XHHHXadTldSo0aN/JEjR143SnI+xqioKF6rVq18cYzbEdGekJBQ7Lx/y5Yt+0OkjBavWrUqn4jsJpPJ3rdv34JatWqV6HQ63rBhw5KRI0cWkPIC5TgRFUVGRvJhw4bld+vWrTA2NpZHR0fzdu3aFaWkpIRd+LmhT3U7//vf4a6ihJq5zE0Cp3V/njjGxffu4hy+EJ9v9mJCUwqIaPGz3/tvWlpafGCP3CsijEZjbYvF0kykkvZhjI1gjE2RZXkuIq5kjK0lJQVVvbbPG39ExM9F6quRiOYR0cuI+BxjbIAsy92IqCVjrF55jHOSk5NrCOE7lYjSXJzXrWL7LyPi0LS0tI4Gg6EuIjZHxGeJaJW/kVVv1AShBg0aSqEyCUIAsE2ePPmPQIvBpKSkHJPJ5BBlB0M8GbzB7AUR1YY2eeTaIfQ6161bcsxq1dvT0gzqdFFfzAAc3EU3pqkGkocDOaCFm4g41MvjdQTcC8JrsbGxV/r27Xtt8eLF2V26dDkbGxtbOGTIkCOTJ0/O7t2794mIiAg+ZMiQI47t6XS6ksjIyJJu3bqdmTVrVtazzz57SKfTlTz44IOniRTBFR8fX5CYmHhp/PjxB0aMGHG4fv36V+rVq3eFMWabN2/e7tatW1+oX7/+ldmzZ2elpqZmdujQ4ZxOpyvp3bv3idGjRx/s1q3bmYiICN6vX7/rbrbVqlUrjI2NLbzrrrvyBg0adDQlJWW7Tqcr0el0JT169Dg1Y8aMfV26dDkLADw6Orp40KBBR19//fW9bdu2/SMyMrLEIVgdxzh8+PDzU6ZMOas6xhNvvfXW5WbNmhXfddddxTNnzrycmpp6xSEITSbTJSKyd+3atTAyMpL369evYOLEifm9evUqiYiI4P379z9OistocWRkJI+KiuI9e/YsmDNnzpWxY8dei4yM5L169aqoUUOPRlEOrl27bHdJSWSmC5Ew0Nf+XkPFBedQWwh8T4LwR86hmdN37hFrBW1i7WA1f7ZJRC3L0PdV6Ki0yWSKM5lMdwoTm56IOJQxNoEUk5slQgS/h2UoIC++8x5jzExES4hoJmNsAiIOJaKeJpOpndh2nLf9FCY1zyLiUnfRQFTqIb5DRAvEdiZJkvS6OI715Rm/NEGoQYOGUqhsgrBBgwZ73nzzzUCKwVyj0bjbqaO8EOLJoCsjiTOqNl5TPjdvTsrJyNBflmVU/74rsxpPPBLk4/Vp8lsZiIjfWiyWv3h4vI6Aa0GYAwBXp06denHBggXnicjWvHnzS4MGDSp1rRISEuwdO3Y85/i3Tqcrufvuu0utB23duvWF22+//TIR2WbMmLEXAPjzzz+f7fh85syZe1u3bn3BIco6dOhwLiEhwU5EttmzZ2cBAFdvt3Pnzmejo6OLU1NTM4kUQVi3bt2rzqmiOp2upHnz5tdfNixYsGAXAPDOnTtfNz6aNm3aPgDgL7744i+OY3zyySd/R8QcRNypOsYsoj9TRhHxvNFoLIyMjOT9+/cvIiK7Xq+/DAB8+PDh10hZF5tPRNe6deuWV7Vq1RKj0VjkEITNmzcvVZ7i/vvvL2rUqFFxkO/tstBjGRlnyjLZfvml8x4XIsHqa3+voWKDc+jjQ5RwC+cQyTl04By+E38zcg7RZdkmES3zs9/7iYgaBvrYw4WVK1fWN5lMrcxmcxdEfFySpFFE9AoizkdEExFtIqJ/lXGM+KcwmDEg4nzG2KuyLI9ljA0R6yw7mkymZkRUx2g01maM3U9Eg4joZcZYCnlZ54mIX5CSHvsBIn6EiP8Q/AARPxOGNZmk1JbcRYpJ0A4i2q4JQg0aNJRCZROEAGB79NFHjwZIEOYZDIa9Tp1rSEtNoGub+V0u2npcX5Sevmq/1aq3r127RF1qwu+1e7Is20gpjh2sYz7ny35UIi708HgdgRsFYQQA5NetW/eCXnEWvZ7OyxizzZ49O2v8+PEH+vfvfyw6Orr4/vvvv36P6HS6kj59+pRab9qlS5eztWvXvkZEtpSUlO2xsbGFNWrUyO/Xr9+x6dOn73NOOSUqLQgHDhx4FAB4SkpKqejzxIkTfwUAPn369H1EiiDs0aPHKec2jpRRx7+XLVu2AwD44MGDr4vLWbNmZQEAHz9+/AHH3yRJOvLmm2+edHWMiHjBIQgZY5eNRmNRZGQkHzBgwBUisj/11FP5AMBXrVp1GUWdQSKyT5w48TAA8DfeeKOYiPJFVDHf+b576KGHCurWrVsSrPu6jHRlJuWR77//hjtzmY6+9/oaKjI4h2U+iEKjiBbaOIe3OYcqZd2eyWS60991el76vZsW6enpNSVJaoKIHYnoMcbYcESchIhzhIBLE8KsrOYw24joS0T8gIg2MMbMwoXVSERmRFwvy/K7og7iN6Lf/IWIDiDir0SUjYi/IOJ+UpaKZAnuRsS9sizvI8Vx/IAmCDVo0FAKlVEQRkRE2F566aWL5RWELoqAq4vAB5uuXENLlbtwIxpLcf36xSetVr3dYjGq1x1eKOOgtC+Yx42IB8u4XxWV7d08XkfgRkH4NwAo7NKly1VHdJCIbE8//fRvsbGxhQDA4+LiCpo3b34pPj6+QC0IH3/88VKOrV26dDlbq1ata45/z507d0/79u3PO36revXqhc7pn86CsGfPnidjYmKK1MczderU/QDAX3rppf1EiiB89NFHS0Wp1fviEIRPP/309fWHDkE4bty4A0RkGz58+JHq1auXuDtGRDwkBGGByWQqcAjCgQMH5hORvU+fPgXVqlXj9Gd0MJ+ITkybNu0iAPAZM2YUEymlKoYOHZrvfM899NBDBXXq1KlogvB6OrCvlGVp58WLDXe4EAgpfnX8GiosuFI64ksPYvAA52DnHPZyDrMDsU1SzE/8uhcNBkPTQGz7ZgZjLMFisbSRJOmviPi4WA/4AiLOIcV51UKK6cyX5RmDEHGHePm7nxRx+Btj7HdEPI6IJ0lZmnIWEc+LecElTRBq0FBxUAUAxgPADwCQCwBXAWAPALwOAMGyTj4PAHOc/1AZBSEA2Bo1apQ1d+7cMkcGnSMzglkhngy6qs+XiTeWu/jV82CAmRkZ+ryMjKTLRKi22S/Pmr2TwTp2RMxzpAzeJPxw69atrow9jkBpQRgBAB/odLriHj165DvuwTlz5uyJiIjgHTt2PPf2229fjxjdfvvtl/0VhA4yxmyvv/76XsfavhdeeCGbqLQg7Nu377GIiAhuNBoznb87YsSIwwDAFy5cuIsoMIJwzpw5e6pUqcIfeOABu7tjRMTMtm3bFiYmJhY7nEWdBeGgQYPyIyIiuCRJl0mJDl4moqyxY8cWAQBPTk7Op8ojCHNISeXy+37bunXM126Ewh1+jAUaKjA4hy5urvFvQgzaOYc9nIPbMhD+gIjqkBKd8keEqGuqVmhYrdZovV4fk5KSUm3p0qXVrVZrnMFguG3FihU1JUmqJYrG12GM1TOZTA2IqCFjLMFsNt9hMpnuNBqNd4myGk1MJlMzRGwuSVILImqJiPcwxtoQUVtEvE+W5XZE1B4RO8qy3MloND5gNpu7CJOa7pIk/VWSpB5ms/lhUtY5PiJSSB9njD0lSdIoxtjfJUl6mYhmImISKnUgDYwxRMTVRLRWmOG8K9JEPyaizxDxC8bYVkT8DxF9T0Q/kzK32ImIe2RZ3oeIv2qCUIOGioEqALAFFDe9raCIwNcA4B8AUAIAnwNAmR2tPOCmEYQAYBswYMCx8qaJOvFUiCeErqJkakObHBdtSnHNmhW/Wq16+zvvLLvBGbWcoms7KZGYYIlCj3XXKhsRcZKL5+0IlBaEfQDAFhMTU9KzZ8/Lju+OHj36IADw2bNnZzn+lpKSsr1q1apF/gjCoUOHHomKirq+9o+IbAaDIRMA+DPPPHOYqLQgdEQCnZ1AicjWqlWri3Xq1LnqSDcNhCAcO3bsYXGM+zwdY8uWLS8lJiaWGI3GouXLl+c7C8Lp06dfAQA+YcKEAlKig6cR8fx9991X0qBBA46orJ+tJIKwzC9rLJZVtsLCKFfmMot9HQgqGoiopSzLfYX5x1RU6rnNIcX1cYlwkpR8/T29Xl9Fr9dHElGUwWComp6eHkNEsSaTKc4fIUBEjRhjd5vN5sYGg6GpxWJpJstyIhG1NJlMrYxGY2uLxdLGbDbfazKZ2vkjBMxmcy8hAh5ljP0NEfsgYj/G2ABEfDwzs9+67OwuB7Ozux765Zduh379tfP5gwc7Xfv1107X9u/vdnrv3ocO//DDk+8JR8zRqJRtGEdE44loIiJOIqLJRPSCKKA+lZSi8q8wxl5FpcTDa6QIjllE9AkpTr0nnHjSQUQ85SApEafTYn3cSrFGzoiIJkRkpJSNkEUELE0ImDWI+I74znohZjajUl7iXSLagojvi3TJD4XA+YQx9ikifk7KOr4vUalJ+DURfUNE/0HEb0WK5jZE/IGIfixDCuwtR00QatBQMTANFDH4qovPxorPAlLvR4WbShBGRUVlvvrqq5f8MZBJTU3NctE57qQQTgbxz5ppaqrX7nk1hNmwYdEZJV3UpBaEZ7191wcG1XFVrHkI+8AYIP5IRI1Uz9sR+FMQRgDAB127dj1UrVo13rt37+vXJykpabdOpytp3779+ZkzZ+4dN27cgYSEBHu1atUKmzRpkrN48eKdRN4F4eLFi3dGR0cXN2vWLGf06NEHx48ff6BVq1YXq1atWuSI9jkLQiKyNWnSJCc6Orq4X79+x8aNG3egW7duZ0AlEgMhCBcsWHBSp9NxL8f4dbt27S7WrFmTT5gwoXjp0qUXnAUhEV1u0aJFcUxMDB88eHD+xIkTj/Xq1asElHWK1x1EK4Eg9Mf51yV37+71hZsIUpsyjAshg8ViaSZEzxTGWIqY/NsQcY/oD44g4u+IeIyEIEHEU+pxqgI870GnLGPm5s3zLlmtevuWLW/mv/fe7KL33ptdZLXOvWq16u0Orl4dmBqmiLjdRYaKtz78fLjPk8ayUROEGjSEHxEAcBIAvvfQ5j0AeNvp35EAkAQARwEgHwD2AtxQjygGAFYAwDFQ0k8PAMBcsT0HbipBCAC2xMTE/b6WlkhNTXVpsIJKgexQTghd1RR0tW7Po+GELEs7MjL09k2b5ttdpIse8PRdXykG/GAJwlxE9FhOozIREVcDACxevPjhxYsXP9y8efPTbdq0+UE8av10Op1t+vTpOdWqVStRC6xRo0YdrFWr1rXIyMiShIQE+5gxYw6OGDHicFRUVPHDDz98isi3lNFJkyb9evvtt1/W6XQlMTExRXfffXfuK6+8cn3CqBaEKSkp2zt16nQ2Nja2UKfTldSrV+/K8OHDS0WvyisIx48ff5iIckeNGnXY0zEi4vpx48adi4uL41FRUXz58uU5zoIQEfNWrlx5rXv37sXVq1cv0el0PCEhgY8ePbqU0KsEgrDcz+batUvcCcL1bsaUsMBsNt8ry/JIRFxBSkRnNymmFkdEtOkCKq6z50mJRB1FpebqIVJeSB0gouxbURASkW31asPed9+dU/Dee7OLtmy5UQxarXr75s1JObIs+WVO5I7i3Pt7P2eH+zxp9J+aINSgIfy4B5QIoD+1fNIA4BoAvAUAT4Ii/IoBYLpTGyMAnAOACQDQW7QtBoCJTm1uOkEIALahQ4ee9CQG58+f/4ckSe7SJ3dQcGvvqUWQu5qCp1VtT7loU4pr1y4/ZLXq7enpKerag3Yq4/okF9wd5PPhU1HuykJJkvq7eKYiAOCD7t27H9Lr9XY3UeqbmSfIu4HKl5Ik2fR6fd6iRYuuLl++XB0tvyxYiIhXEPEQKesIi4noKgXxHg0wy2r0dAOPH09c60YU9vV9aAksTCZTK5H2SUT0MyJmI+JRUjIW/hDphodJERF7yMd+yhdBOH78+ANNmjTJiYmJKYqMjCypWbPmtU6dOp2dO3euX07L/rJJkya5oIzpbtmlSxe/MzZkGTMR3zgHAHzmzKeKrda5V9Ri0MHISB1XOxCXhYiYKTJY/LmnXa2H11jBqQlCDRrCj0dBGSS8FbV2oKVoP1n1dwaKGU1V8e9/umjzEwCYnf59UwrCqlWrbp8xY0aOKzG4ePHik4joadIR7Lp7arqqO+YqZVVtenMDN25ccN5q1dtlWSolaMWkK2ADByL+HuRzEpCUp4pARPzKxTM1IDIyMnP69Ok5CxcuDEQqb2XiLhEB8jjxR8SNS5cuPaLX6+0DBw48zhj7Q3WP5BHRVUQsJCJHVKmYROmJykJULOIDcm43bFiYwjn87EIQfsU5xHkYUwIGvV5fJS0traNYj/aJOL6TQlRcIiXqd5CUF0tlPlZvgrB3794nAYDXrVv3as+ePU/26dPnePv27c9XrVq1KCoqqnjatGle+9OycsyYMQcHDhx41MFq1aoV1a1b96rz3xy1OH0n275p04LzaWkz7ADAp0//P5dC0MFu3VoXTpr0bEBerqHiAu3vfX0oENvWGDpqglCDhvCjJygCb7iP7aeI9vGqv/cVf+/g9LcqANAKAPqDsk4xDwDWOH1+UwpCALDdd9992WoxuGzZMm/GDZkUROMUV3Rj9HJU1c7rG1ez2bTLatXbN2xYaJfl4E06nc6TqyhkoM7JJQpcRDPsdPFMfdCjR4/Dt2h08CR5N1D5VJIkW1JSUu7s2bPtXbp0+YgUcwv1fVJIiij8nSphdDDQ660Q8b9Xr8bMdxMlnOtlXCkXzGbzw6gU7t6KiHtRsbfPFcd4iMopANX0JAgddTM7dep0TpKkUt9bsGDBrvj4+II77rjDHqT7+wbWqFEjPzExsczrRM1macemTfMvZGTMtTM2PQcA+N//PuY3q1Wf50kUZmTo8ywWt5kw/tKvWrS+vPTRWLGoCUINGsKPFqAIuVke2jwLihAEAJgPABddtHlQ/E438e/RoKSMcgA4AUrE8BjcIoIQAGwjR44841gv6KKsxA0UbzVDOSm84Q2uKASvTtHxWqdv3bqlR4ShgFqo5QZj8BAiM5iTZVeR00pJ9TMVFRWV+dprr+UuWrTopnJW9YG7hUjwOFFkjG1avnz5Ib1eb+/bt+/v8+fPfxeVmlrO98gVRCwUE8+8yhgdJCJX7sbl4qZN88ZyDtvciELnl4XlhsFguA0RxwjXx91CmF8iRTwcIaJdwbqXPAnCRo0a5dWsWTNfXT7FwalTp+4fPHjwEYdrbmpqama3bt3OxMfHF0RGRpbUqlXrWu/evU84PidS1r82bdo0p2rVqkXR0dHFLVq0uJSUlOSTyHUnCAGAq9cAt27d+kKTJk2u99nVqlUrGjmyz5VevdoXRkdH8enTX84GAD5kyJAj997b8nJ0dCSvUaN6yeOPdy3YtOnN62IwKkrHhw/vlb9x44JzRMoa3yeeeOL3jh07nqtWrVpRVFRU8T333HNx2bJlpdYaDho06Gjt2rWvOdYPO9yISUnp9bcPd7U2XmMFpSYINWgIPyIA4DQA7IDShi8OVANF2KWLf78GylpAdW3CZ0ARfwkAkAgARQAgA0BtpzY/wy0kCOPi4nYmJSUdY4z5alTi11vQ8lJMctX7cEDVJo98iJY53OdkGdXbKPc6Eg9Ur3MMNLOCPQiGgupnqlevXr/dotHB095SyYS1vG3evHmX3njjjbxmzZp96vT5Oad7o4CU6OBJ+jM6eIWCez8GkqeDcY4RcTPnMMyNIPyA8+tLCsoMg8HQlIjeEtvbj0rJmFzR1wRc5LqiO0GYkpKyPSIignfv3r3U+V22bNmOJUuW7HSmQzB26dLlbGxsbOGQIUOOTJ48Obt3794nIiIi+JAhQ44QKYIxPj6+IDEx8dL48eMPjBgx4nD9+vWv1KtX74qzaHTHsgpCiyV1T1xctZLbbostadGiUeHgwYN+T0pK2gUAPDIysrhNmzYXJkx4Mvdvf+tUAAD80Uc7FKgFoShBdFin05VERkaWdOvW7cysWbOynn322UM6na7kwQcfvH6eHnvsseMAwLt27Xpm1KhRBx0Ow4MHDz4irvV5f+5x8aImIOY2GkP/TJW3n9CgQUPZMBsUMTfFxWcpoAhAR+TPEQkcpmr3DwDYD4qoHCTatHL6/DYAyIFbRxB+CwADiWiQjx1itq8DXYDobu2YetD1GilLSzPsVdJFF7sywwnaBA2VwrZBM+BBxJvCnED9TM2aNSvvVosOijICXutoIqJ1xYoVv+r1evujjz56dNasWZucPj+AiJcR8QopIjCXiC5X0uhg0KJnRNSWc1jjRhSW6u/9ARF1J6WeXCYiHkTEC6SI9JCXi3EnCB1OtoMHDy5VoichIcEOKmOXyZMnZxORrXnz5pcGDRp0Q/uOHTueIyLbjBkz9gIAf/7557Mdn8+cOXNv69atL6gjbK5YFkFosaRmZWQk5cbFVeO3316nCNGUSUS2JUuW7AQA3rp16wtEZLNYpJ0ZGfq8Rx7pUKjTVeHp6a/fIAitVn1eZKSu5O67785Vb+v222+/7PhdnU5X0q1bt1L9Urt27c7Hx8cXiH/v9fc+F1HjsPc/Gv1/psraT2jQoKF8iAKAL0AZqL4CRaTNAYDvxN/mq9p/CYqBzHQAGACKyygHgKfE53eDUo4iHQDaijY/gSIAvwSABqLdzSoI3wElUgoAAIgo+9Ahqk0rgk1XxilZLtp5nTiuW5d83GrV29PSUtXpouWub+YDDwfzPAlHwrAPluWh+pkS9S+D6nRY0YiIZxhj3qKDHxCRbf78+RdmzZqVV6dOna9VBaUda1cLEPEaKS9VioioWIjEcIs8X1mqZEegyRjTcw53cA4/uBGFvV0NQu6AiM1JKSK+U0zwL4poYEDXBfpDd4LQId4GDhxYqt+YNm3avsmTJ2dPnjw5e+DAgUfBSRCKc2abPXt21vjx4w/079//WHR0dPH9999/nkiJOsbGxhbWqFEjv1+/fsemT5++z5fIoIP+CsJmzRpfzshQ1gdWr16tpEePHtdNwRyC0Lku6DvvpByYO/e5qwDAk5JGX3EhCF26jnbp0uVs7dq1rxGRbeTIkYcAgE+fPr3U0opRo0YdBAC+YMGCXSSe4zLc74Fax6gxiNQEoQYNFQeRoBSm3w1KSYlcAPgPuHYfjQcABCWVNF98Z6SqzRBQag9eBUUMDgSA/wOAywCwULS52QThV+J8lUq9TU9Pb4CI33noDF3V/Asm3VnNn1S18xpFkmWyZWQk5WZk6C+rzWTIh0L2AWJQxbSb1NpKQ/Uz5UcK883CLPLt5cSWVatW7dfr9faePXv+9sILL6x3/lwUyj5Ff0YDr4roYKH6nqnIdGMkFTAi4vdLly6tzjmMdiMIv+McGrkYV0rBYrH8hYjeEuf9qKgReIgqgOGTC0GYRUS7Fy1atBcAePfu3d32nWPHjj0AToLw6aef/i02NrYQAHhcXFxB8+bNL8XHxxc4BCER2ebOnbunffv25x3tqlevezVLIAAAIABJREFUXtivXz+f1jn7Iwjbtm2V16bN3UUi4+OkuuanQxCqXUoXL37xPADwOXNGXnUlCKOidHzYsD4XiOhHRPyBiLZ17tz5ZK1ata4S0X8ef/zxXwGAR0RElKgJAPzVV1/9DxF9yBj7kpTx64KIEP/hxPOIeJ2kRI/PiYiyTEp0mSGiCRGNiGhAxJWIuAIRlxPRMkR8GxGTGWOLiWghES0gonmMMT0pacpvIuIcInqDiGYKvoaI0xljrxLRK0T0MhFNZYxNIaIXiGgyIk4ioolENB4Rx4m1r6MR8TlEfJYxNgIR/48xNlyW5acQcajgYCIahIgDEfFxxtgAROyHiH0YY39DxEclSeptNpt7mc3mhyVJ6iFJ0l+JqLssy93MZnMXo9H4gCzLnRCxIxG1l2W5nclkamc2m++1WCxtjEZja5PJ1IqIWsqynGixWJoZDIamZrO5MWPsbiJqZDab72CMJRBRQ5PJ1IAxVs9isTRjjHU2m829ZFkewBh7ymw2P8cY+ztj7BUieoMxNg8Rl4pzLiPiO4i4kYi2IOIHjLFPiehLIvpGE4QaNGgohUoqCH8EJVoa5+64EPFZD4N2sNfCqekqxWq7up0v7qCrV6/8xWrV29etW+qqVlQw09KcmRXM84WIf4ToOEI1eQ37PoWSiHhOWNe7bcMYe5+IbAsXLjz72muv5cbHx3/LGPte1e4bIQjzSZmUOtYOXqYg3n8BZkhS6BhjwwEAOAeLG1GYwTnEuOorDQZDVSKaiIjfCQF4kZSXS2EXgg66eKZOEtEJRDxeq1atotq1axcyxo6KPvQ/jLF3hQiZ06RJk38DAB8wYMDi8ePHvwoAxQkJCf9+8803xyLiUMbYkLi4uAMNGjT4WpblJxhjAyRJ6i/Lcl+TydRnyJAhk+rXr/8BAPBevXq97E0I6HS6k9WrV/9WluV2iHgfEbVljLUBAN6wYcNFkiS1QMTmhw51mNShQ5S9c+co+6lTjZeaTKY7IyIiLtSoUWMJCSHw2GOPtQQAXrt27eckSaq1YsWKmgaD4bZ7773t/wCA79oVlVVYGJUZHQ0ls2bBccf1jo6GEr0ejnIOLZ0utREADor/HwlKllE/AGjjgtfvFUSc7+e9+LPJZLrT3disoTSSk5NrmEymZpIkdUHEx2VZHouIr5MimNOJ6JNQPFPhPg8aNGgIMyqhIJRASZH1hghEXO+iI9wV4AmfN7qLlPzmY7tSXL9+8SmrVW+3WIxqQXg+lBM0kUIWzPPmrVRBheUtLgj3oVJGxNv980FqamqWXq+3d+/e/dBzzz23TtVmBwmXUlIiD/mIWIxK6YlwizyfKNbbhiQ6jIjvAwBwDvU4h2/ciEIT56WzKUTU4wtSzK0uEtEpqoApfy6eqfOkvCS49OSTT14FAD506NB8RMxhjJ0Vqa4Hpk6delin05UAAH/mmWfWP/TQQ4vB+3r7caBk1jgL6GoAUAIAI3wYe44AwCcu/p4HoJQD4RzG5uXB9urVoejuu2G/U5vzUDqLp47Y33dUv2WJiYGThYV/CkC1IExKgt+FsZDDkM5ZEDYWxzNR9buvAsB/AUDn+AMRNSSiH/25XoyxFB/O002PlStX1pckqYMsy30R8TnG2KuImIyIFkT8qCI9U+E+Vxo0aAgzKpEgTAeAB/w5NrPZ3NjFQHbC20QuwHQpbIThhl8CSJYxMyNDb9+8OekyEaqjJCEVUCKtzFWUMlCTaTuFLuIZ7Mlr2PcphPfFeVLEhac2ViKyLV68+NSMGTNyoqKitplMpv+o2n1DykuTY4yxXaREB0uockUHj4Ty3DPG7gcA4BwecSMIbZyDHgAgLS0tHhGXI2IWKel/FyhEjqFloadnSpIkW9OmTXMAgDdr1iz38ccfPz1kyJCzHTt2tOt0Ot6rV6+rERERfMqUKefnzZt3RKfTlbRt2/bY888/b+revbu+SpUqmVB6vX0DUJZwfA4AT4ISRfsHKKLxdh+GniPgWhB+BgBH16+HVfv2we7+/eEPnQ6ugbL0wQF3gvAiKILuKQAwiL+N4xz0XgShjXOYKX7LWRACKK7keaCUwBoMAEsBoAAAZqh3HBGn+3vNzGbzvT6cq0qP5OTkGqREgQfIsvy8EHwbvSxbCTs1QahBg4ZSqASCcB0oTqtlglhL4OgEd1BoJ4S55DrtKlvVzqdIwjvvpBxQbMWXuxJi4bD7/jWY5w8Rz4XhmAI+0IZ7f0JFka7n1SkWET82mUy79Hq9vWvXroeefPJJdSR/ByLuEC8cdpFSvqKYlNIT4RZ5vt67ORT6lMsFjn6Pc3jLnSg8erTVEkT8ApW6cXaqBNF4b8+UJEm2J5544vcGDRpciYyMLKlatWpRo0aN8hxmLHXr1r36/PPP/4aIv40bNy6nTp06xZGRkfzOO+/MHzdu3LHBgwf/t0qVKvnVq1dfIU7ho6CUbboGihjbCr6/kDwCrgVh4xYt4EjVqlBSpw4U3H8/bAQAAt8E4TAA+BcAXAGAowDwirjOsZzDJ14EoY1z6AI3CkIdAOgB4Lg4zl8A4EVXByReIPzXn2uGiOt8PF8VHgaDoaosy4mSJPVGxHGMMT0ipiPiv8P9bATqmQr3OdagQUOYUYEF4QYA+Gt5j0+v10ci4vtigPqdQjsxdGfyclbVzicXwo0bF561WvV2s1nKVX0/nCUN1McS6Im1x7VoFZG3qiAkJdLksSQBIm4W5+j4q6++egkAfl61atUXzm0YY98S0UFEPCkMKuykRAgrTXQQvdRfDBJ/NBgMtwEAcA7RnMN6ZyFYUhKx3W6vdeLkyeaXN2xYmCuuV9icQ/1hkJ6pfaT00X8gYo4YH3YR0RrG2AiDwVC3vOOPA5xDJOewQlyL7zn3L9vFy2+35Rz+5yEqbOMcvuTc/Zp7X8AYm+DvOZYkqdxjeCghTF26C+OZ2aQY43wW7vtf8F+IaBVmMSsRcSkp6wxXIKKBiJCIVhPRJkT8B2PsQ1mWPyaiTxHxc8bYl4j4NSlrs7/TBKEGDRpKoYIJwv8BwEoA6BTIYzQaja0RMZOUiF0oJ4auona7XbTz6qopy9KOjAy9fdOm+XYX6aIhrwvmxF2kRDiDNbHOwyC7NAaat6ggzCYv0UHG2M+MsU8lSdqh1+vzOnTocKBnz54bVe0ySYmWX0TFbfYiIl7Dstnfh4thq6cpy/J192nOoQbn8A/OwVZQUHXfxYv1Lu3a1fvqli2zizIy3spfs2Z5OERrmRiCZyqLlBqwjjWrB8TLCEZE3csz/nAO8ZwDCmH2LefQrvyj2g3beMWLILRxDsvKsw29Xh9ThojYe4E6xkAhPT29gdFofICIhhHRy8L99INw3NeI+LXwOlhCRFOFEB1ARN0tFsuDRPSYLMtPkeKcmkxKOZh/BuOZCvd10aBBQ5hRQQThNgB4AwDuCNZxCuvlUE4KXUb9XJix+JQWuXbtssNWq96enr5CXXswj8LvBngkmOdSiIFwHl+5Btpw70+IeJEUUei2jXgGbW+//fbRqVOnXgQAW0pKyieqNj+I3zlLf6Yk54vPgxqNDhQRMZwvaEqlKnIODfLy/rL37NlG9q++mlBoteoLrVb9FUd5gnfeWVbh00WJQvpMZZJy350VpkDHUKnHuBERHwVViSNv4BzuEsYuNs7hK84hMZDjmtN2IjmHLT6Iwj7l2Q4iPu3vOWWMDQjUcfoKSZJqIeJ9wjV2iijFsJmItoXh/n0PEVeSUi7jWSLqKUlSi6VLl1YHACCilqiUtpiEiItEqQi/0nMD8UyF+hpp0KChgiHMgvAdUFzbagbzGPV6fRWxZkYtpoLJGwxRhBGLOprm0+Rx06b5f1iterssM/X3T4ZhgCtFWZZtpAiCYJ7P7HAfp6+8BQXhAW+lQhhjP4u0pe1JSUm59913X/b999//rqt2pKTw/SLW4eUTkaPAdraP90o4GfaSKbIsX8+wQMRkq/XNXz76aFphRoa+wGp967JDDDq4bt3boapfegMR8VtE3MwYSxHGJc8wxh4Wk/lEImpkMBjqWq3WUumOVqs1jojqmM3mOywWSzOLxdLGbDZ3YYwNJ6VWHQn31PLs3y5SBGEeY+wEEe0SkaRBvow7nEMnJ8fX9ziH+oEe21Tba8Y5/OhFEH7DOdQu6zaGDRumI6IP/TmPjLFPhw0bpvP+6/5Br9fHEFFLInqMlHqD84WY2hrie/h/RPQJY0wiopmo1Dd80Gw236HX66s477PRaKxNRD1JqZtoDqfxjCYINWjQUAphEISbAWAs+ObWFhBIktRfdIL7KTSTwtNuBo5DqnY5vnTcZrNxt9Wqt2/cuMhVaub+cA0oKu4L5jkVa3wqRYH3W1AQXkLEbE9tRFqUbdmyZYenTJnyBwDYFixYsEXV5idSylZcQMTfEfEy/RkddLQJddq3vwz784iIyQaDoa6IamUhYo7FknosIyMpVy0GHdy4cfEpIgx6pgEifkVESxBxqNFovCvYfb/Vao0zmUztUClIvpIU91p/93k7ER0WLyhOIuJuRPxMluW+7rbLOQznHH4SIszCOVQP9rGK7Y7zIUqI5dkGIvYpwzl8tizb0uv1kenp6XdLktRDluWRiDhHrKH7PAzP1peIaCGitxhjo81mcy+TydSMiKJc7fvWrVsjLRZLG0T8P0RcREGqJ1hWaoJQgwYNpRACQfgNKOsCnwWl9lHIQUTvOQ1MJyn4k0J39u3qKJpPtvTr1r191GrV29PSVqkjnLnhHlRUDOq5Fdcu3Mfo90Ab7v0JMg96iw4S0Y+MsS+JyDZv3rxL99xzT/Ydd9zhanL0IxGdEUZCDjFYKnoVBmMof1ghXHERcTdj7BsiyhYiJouIbBZL6h7PonDBeVmWAu5WLCbwzxJRS++9dfCBiPcwxkYwxlLKcDy/khLBPkVEOxHRmJaWdv3lJucQwzkkOYmvuaE+Ps5hnQ+i8KnybMNhDuXHPfBvIop193tE1FCSpC6yLD8lIsWpRPShyBgI5bPzrXh5tRARJ8my3NdoNLZ2pHd6AhFFIWJHIppIisFLONJTfaYmCDVo0FAKQRCEn4EiAJ8DgNahPZobgYhdVR3+9mBGGVCpw+aqA3YVnfRp8rV587xLGRl6uyyj+vvHwj2oqLidgm/cE/YIjDfeSoJQCA6P18QRHUxJSTkwadKk8wBge+ONNzY5t2GMbXeYyBDRGcbYFUS85uK3dpbj3gk2s8J9PUipAWknZQ3cOVL1Md5E4ebN8y6lpRnKVY9QpMEtY4wNSEtLiw/3GOAJJpMpDhGHMsbW+nmcv4olCEcQ8XtEHJObG93Sab3g/ziH0eE4Js4hgXPY5kUQbuMcEsq6DfW46iNnyLLcDhEHIuKLpDhkWhHx+1A+I4j4AyK+K7b/EhENIqL2RFTHn3NgtVqjGWOdxdo/i1j/HO7n32dqglCDBg2lUA5B+D4ArAKlHtIgAGgLEJq0GH+AikucekAIZv28bDcd8GnnduINs9dOOy1t1T6rVW9fv36xq3TRijABVfNgEM+tXUzCwm2i49dAG+79CSIPeXgB4uD3Ilplmz9//oXExMT9devW/UL95l+YKJwkZYJ9FREL0E3pBqyAjqO+Ps9BpqOuYD4RXXXXLi3NuHvz5nmX3IlCq1VvX7t22W9l2P4GInos3H1+WWE2mxuT4jrp69rDHeKevfjpp1NOXrzY4HxhYXQW5/AR59A+nMfCOQz1IUpYrjqBIn1SfU4ySRmXfiUlA+ak6CNyxXMSEsdosWb5I0Q0EtEMxthwROzKGEsAP42BHBAuq12FSc1qUjIawv3Ml5maINSgQUMpuOgUzACwDJTiuNMBYAoAjASA3gDQBqDsC9JDDYPB0NRdZxikSaU7u3lXUY19vnTa69cnH7da9XaLJVWdLho2a3tvFBOAYE7AK1pk1ONAG+79CRIzRXTQ432MiOuIyLZy5cpfxo8ffw4AbC+//PJ6VZvtiLiHMZYj1g9eRsQrHn4zu5z3TzB4g4lUiHmMlAl3gYis2hHxF3ftZVnasXHjgvOeROHGjQvP+phCmpqWltYx3P19IMEYexIRP/J+7Gz7hg2LLmRk6Iu++mp84fffP3kyLW35y2ozkXDAqdSFJ47393e3bt0aaTAYmop1mb+R4qh9TvQH3l6cHPfhfvKH/xLmLHMQ8Tmz2fywJElNtm7dGlne80dEsUTUnYimEtEaquQCUE1NEGrQoKEUvEQIvwWATwBgIwCYAGA2KKmgvQAgEQBiwrPXvoGIFrrrDFGxEg90/TyXRdTV654Q8YIvHbYsk81qTcrNyNBfluUbtuXT+sMw0VWtxUAzqwIcp08Dbbj3JxhExN9ESqLbNoyxbYj4LRHZFixYcO7OO+/MiouL24qI6onVN6QImhNElI+IheS9hIXXyWcIGehJrr88ScqaywJSIoOOfsaludWfxMyNGxef8iQKN29OylmzZoVLJ2REXGQymZqFu58PFvR6fRVRE26L+thlmWxr1iw/tHlzUo5Itb2YlpZ6GpW6qdlElEZ+piAGGpxDbSeXU3f8kXNwdQ0jDAbDHbIsdxPOra8hohERP3aO7ovIeLBfnnwjUnoXMMYmIGIfk8nUKiUlpVogz5dIH36IiF5BxPWhXr8YamqCUIMGDaUQgDWEXwKABQAmAQS+4G5ZQUR1vHXowrwiUJNClwYvoiSDel2dS+GoZnr6imwlfWupq8lvuCMSHhls8w9ErLAR0ltAEGaSck97FOWO6GBqamrWqFGjzgCAbcyYMetUbXaQYuefK37TIWi87cNRf+6XIDKPfFwLHKTrcJb+FINX1PvnS4re2rVLj3gShcLh+IzFIjl+a1koHEIrEkgpbbCFiGxr1qzI3rx53sXSZTsUh1ZE3I+KI/LviPhv5xIg4QDn8JgnQVhcXGXn1atxX6WlrRyCiC8h4nIi2uLHerhd/j4zbtKrtyFiBiIuZYxNkWX5CVmW21kslr8E69ykpaXFE1FPRJyOiiPv/8L0HIeFmiDUoEFDKQTBVGYrACQDwBMAELY3pMKpzGunKKIcgZgYuovYqUVnLvm4Bm7DhkWnlXRRo1oQVgg3Qy/MJKKg1n1ExLDVT/PEW0AQHiFFiLhtI9z6viMi26JFi043bNhwT1RU1DaTyfQf53ayLG8Vv3dapDsWkQ/GQRXIXCZc9+B2IjpPRJcRsVCk2PrTL5ViWtqqfY5olzt+8cXEM4cOdZgVrj493MjPj75n+/a/ffvee2/kOVJqLRaTqxdzO0gx9Tkv/v+FcKaQFhZGLissjM66dq3ar1eu3HbEbq91Mien7vmLFxvkXrjQ0H7hQkO7zda/PGn4x/14Xi6K5RpLiGiY0Wh8gIgahuI8JCcn15AkqTcp0c6MW00AqqkJQg0aNJRCCMpObAaAMRBCcWi1WuPQ94Kvfr/hdME8UiZoN/y+SA91bvu7b/vFtmdk6O2bNyddJsLLzr/hzmyjAvKXAJxbb6JwTwU4To8Dbbj3J8DcLlKtszy1c0QHjUbj7hEjRpwGANuQIUPWqdrtYIztckr/vEr+lVIpZdQUBuZieGpj7iRlYn1FpNeW6h+cKc6tT7+rrCtceFYtBD/++NVLx461/sUpsvQx59AnVP15uME5dOccJMfx2+01P7Fa5/riSnpY3M/7SClD4LbsQnlhtVqjLRZLM0R8BBHHENFbRJSGiF+lpa3afupUsxyH+HPHDz6Y4dO6dhfPuvrlzCVSXhgdJ6V+4y+kLCNw/o4lWOfCAUmSajHG/oaIs8hF2u+tTk0QatCgoRRCWJj+fwDAAGAABHntoSzLY/3sHB3ufGWlu7ere1209SnVc82a5QetVr19zZrlrqJslaJAu2BQHSHRew28sA+04d6fQFKkwp3x0u5rh5V8cnLyiXr16u2OiIj4MTU19d+qdt8g4iFEPO8UHfQoNFX7EvQXDl54OAzXYDcpE26vYtCJ2f5s4513lv3mEIPbtg09WVAQvd1NyuFGzqFLMPvycEHUExzKObzvdLxfcw4jHG1kWW5H3oVGFini/SAibjYajWU2ZdPr9VVMJtOdpBidPENEMxljEhF94i3a9cEHM/Z5E4SnTjXLSUtb5dPYgohbSTFamUdE40mpG7iH/HCAliQpoPeO0WisLctyX2Ew834Yns1KRU0QatCgoRQWL16sd3D06NGfAMA0AJgFAHpQUj9XAgCCYi4TKHG4Tfx+wNdX6PX6SCL60t/OUQiLsk4M3a3TKVWo3YeJ9HVu3LjgnNWqt5vNknr9oRejiIrFIJn3VISJuc8Dbbj3J4DcQUo03KNoc0QHJUnaOXz48BMAYOvdu/dGVbtMwYuIeIUxVkCK0PF3n4KaluyOIvIW6vIne+nPdZYF5JsY9KvfcdBiSf3hwIHOn/ngUmnjHLZwDsM5r3hlh/wF59CSc5iqMmP5F+fwLOc3vsjU6/WRjLFXvT03iHieMXYEEf9JRI087QNjrF5aWlpHxtgQUgxOVhDRe1ROl8vt2/se9yYKd+9+5KSjPSJ+h0oB+iVE9AJjbIDZbL53xYoVNdX7TIoj5zf+7A8ibi7PtSKihsL05y0i+jDEz2KlpxdB+KOgBg0aNLhEPAB0BIBnQBF0m0DpNMojDtcAwIOB2kFSisz63TmK1MOyTAzd1R/b4aKtWxt4Z8qytNNq1ds3bVpgV7uLolJDMeyDiZ88XJZz68c1sFMFMtm5iQXhMQ/3u4Nfkpi4JicnH61Tp84uALCtWrXqM+d2YrL5KyJeEmvgCkmVVuYjj5Tn3ikHfTKGChRF35EnSkoUyLLs7zPiT/236w6ZQuh956Mw3MY5zOEcKlUJCs6hKecwiXN4T3U873EOgzgHryUMGGMPkmdBlCmE+QlSIuMdiagtY2yALMvPI2KyMDbxdamD3zSbjZnHj7e6WFoENrBfvFj3Yl5e7dOXL9f4/dq12IP793efuHLlyvr+nkdEfNbffWKM/c3X32eM3S1E8jwi+iSUz19lISolfH4kok+JaBNjbANjbD0RrXVQkqR3GGNrNUGoQYOGQCMKFHfRUQCQAgBfQdmE4VoA6F7enUGfake57UzL4oyZ5eb31BNVn6MfjpSt1atXqKMfPhvSVECWJwLry4S3whjt3IyC0LFOCBE9ijbG2Abx3+1PPfXUbwBg69Spk9XF72WKeyJfpIv6VIrFBW948RIClnVfy8oDYrvXSCk6X5bnw1fzm6mgKtzNOdTnHN70URQ6+DnnMI1zuK+8fboP8GXyeg0AZjr+wTl04Bwmcg7/cLHvqziHv4nvvOzld4eDUooJGGP1EDHd6VxmtmjRIhcAuDNjYmJ4YmJi0fPPP+/jenL/qNPpSvr06XO9FAoi/k9EJvGTT6akXLkSfyg/P+aXwsLI3W6u3decww1RQG8goijG2Kd+7u+H4KZQvCRJTRBxMBEtoDJk/dyMFC/SPkLE90hxg/2IMfYlEf1Mygs1n5eTaIJQgwYNoUBjABgEAKvAf2G4AQB6lGWjkiT1CECHe5F8n2i5dVrEG+uk+ZzW6LA0l2WmTrU8Ee4BqRzM8uO8lpUhjdq4480oCEkxiDjpqQ0ifo6IPxGR7e233z5Uo0aNnQBgS05Ofs+5nSgHsw+Vmm1Fgv5EsNTbLUsttPIwO1TnHZXC33ZShGB+WfdZlPXwtJ0fENGjUQzncDvn8Bbn8JOf4vBfnEMS59CHc6hRlr7dCzxOXjmHqIYN4fPXXweJcyDO4XvV/n3POaRwDv1Vaa9eBaFOp/skJibme0R8RJblkYyx2SLKd4mI7G3atCmKi4sreeaZZ645OGDAgMJ69erxiIgIPmLECG8Rd3/ulX8jYnrjxo33PProo6mSJPWWZTnRYDBUVZ2PST5cs9SyXAhZlp8ow74PA7guAIcyxhYj4uehesYqEhHxJ0T8hDG2ARFXI6KFiNYg4ruIqF6DXS4GQBBGAkASABwFgHwA2AuKgaAz2gDAvwAgBwByAeAjUOaHvn6uQYOGmwh1AeDvAPAp+CcM08DPjkF0nuXtKH0WLu5SQEVap3PbPF/dCC2W1CyrVW/fsGHRDevuENGrHX8Fpz/25GWZ9OaVR1gEijehINzlS1ouIl5fJzhkyJADAGBr2rTpBy7a/UBEZ2RZzieiQmHPX57921+W+6UsDMC++sNjYpsFIlU0KEIWEb8wmUytfO1nOYc7OIfZfopCZ67nHKYLAeZxPZ0viI6GzNhY2Mk5dOEcBnMOkzmHBZyDhXP4p5t9+Fi06cc5uCtwfq169eqzELE5Y+xBRHyaiF4homWIuJ6IvmnVqtXFJk2a3CC2HWNAmzZtiurUqVOivhZGo/Fq48aNS6pWrcqXLFniz4usbYi4HhGTZVl+3rGuz2Qyxflx/apwDpt8uE6DynI9SFnv6MuxZKHimH0k0GKnshAR/4WI6xBRZoylE9GH3gyCAsUACMI0UF6avAUATwLACgAoBoDp4vMYADgGiv9EP1CWGu0CgN2gRIW9fa5Bg4abFFVASQldAQA/gW+i8EdQ3tC6G7Cvw2KxtAlgZ+lVuHhJcVPXNjzu67bXr3/7d6tVb09LM1xSbc9n+/iKSrG+QR05DfSE3W8DjUDzJhSEJxHRY3SQiD4VkT/bsmXL9sfFxe0EANucOXM2O7djjNkQcQ8qdfOKiaiIAlPYPVTmMntDdc7pz4LzVwOx74yxGzIahIgvU0kgzqEm5zBOpIeWVRzauGLgwjgHPefwAucwjHN4mHO4j3NoJiKTNZ22u4Zz+Ihz+C/nYLv3XrDfey/YPW0jKgqKhw+Hz3JyavX/3/+eaDFt2rTEGjVqbKxSpUpulSpV7Lfffvu2Vq1afVOzZs0ziGhBxI91Ol1J3759j3fu3PlsTExMUXR0dHHbtm3/SElJ2U5Etvr1618Bp1TQJUuW7FSd2/3uBCER2V988cV8AOBDhgzJd365OGhx2kL1AAAgAElEQVTQoKM1a9bMq1KlSlF8fPzJBx54YKUkSR0YY/UA4N8AcNjF5TgEABvF/5dKjwVlWcciADgBAJcB4Odu3WA05/CD4/wsWgRH774brkVHQ0nz5nBFkuCwOL9+ryV0l6mDiFmouAqfJmX5g/P58KleZmUmIm5FxAyxru9DItoWzv0ppyBsKe77yaq/M1AifVUB4H7R5hGnz+8FgC0AUMOHzzVo0HAL4A5QTGl8FYafAkBvTz9Iiu11oDru7YjobYJ5wM33d7to67NZxubNSTkZGXq7LKNa6ARlvUkYqI6eBoPZ4TzGm0wQOu5nb9HB68Jv4MCBWQBgq1u37hfqt92MsW2kiJ1CUqKDgRLw5S0dU1FeNmSSUqrFIQbdFZwv6zE4ixbU6/UBKQHEOQzgHLCcwtAt1c/UV1+NP+dg8+Z18ps2rXvtn/+cuvfjj1+1vf/+zP9arW/9a926xZ+mpa38DBE/U6+ra9269YXatWtfe+mll/YnJSXt7tq16xkA4PXr17/iaKPT6UpiYmKKmjZtmvP000//9vDDD5+KiIjgPXr0OEVEtlmzZmXdddddeQkJCfbp06fvkyTphuvZokWL3Dp16hS7uRaXdDodb9++fSEiHpJleUKNGjXeBoASADAAwGBQXL5LQMmyAQCYAMokuq3T6b9P/O1x8W+1IFwDAFcB4E0AGAEAnwFA0Zo18BrnYJsxA45HRAAfNQrOrFkDB8eMgTMREcDffhuOcA5pZbkfUHEazkLEw4h4Br04TYvPK1M5JV/4pSzLFlEaZF0wDYPKwnIKwininotX/b2v+HsHALgNAM4BwBFQooYdoHTkz9vnGjRouIVwBwDMA9/TSBkAJKh/RJblxCB0mG7T0LxE69TRRZ/NTlavXrXfatXb165don57aielxlPYB5EA8ay7cxsIImKOrym6weDNJAgR8RQieoxwI+LHjv9fvnz57tjY2B0AYJs2bdp6VbtMItqNiNcQsZgxVij+Foh9Dbq5DCpOxME839uJ6DwJMSiiqIE+ht/FtXh72LBhukB36JxDHc5hNFdKUQRNEFospl1EbDsR2RISEuwJCQl2T+fWWRDOmjUrCwD43//+9+uOzYwxW926da+qBWFCQoKdMXb9dxITEy85b8tdyqiDzZo1O3fbbbflEdF+sR40W9xHmURkq1GjRn7jxo2vIOK55ORkW0RERD4oWTTOWAtKah0AwF8AoAAAZjt9ngQAf4ASCQQoLQhbgTJBf8WpfQwAnAGAef/P3pfHR1Gk7785SAiCgsBKAFFQQERdUHQ9WM+s8hMRVlFZ1FUXdtVVcXVVUHGZcCgYDGGY6XrfnoREjkBm9avrjVcURTkm4QqXXHLKEQgk4Yb074+qCZ1Oz5mZ9CSp5/N5PjCZnurq6uqufvq9fv0V5iQlQdXf/gZ79eM9ZAiUXnABnBSf/xrovNtstvjs7OwrFEV5jIimi+MPdX76qufbULjA6XRORcQJRDQj1t1g6ygIJwBAmcnfbxLz7UbxuTsAzAQu/DQA2ANnXUqD+V5CQqKJIRSL4XcAcJ3+x7oFKNKsUUdQR9MEMUKE1HgTiiGUiZg7d/Iut9tWmZ3tMFony6xePCLMlT7GNZK0LAFPIxKEq4nP4UAundVZRAcPHrwYADwtW7YsRJ7+vHo74TK1k7ib6GkKkKQmDPq6XiPBSPfVyBUkajJi8AXnwxGE5Yg4tj5u6poGl2sa/E3TQNF4SYqICUL92IUqCIcMGbItLi5OczgcNV5GXHfddfuMgjAtLa3Gee/Xr9/+tm3bHvd+7tWrV1mXLl1KRfz6eMbYk4h4N2PsCiJqATw+atO0adNaI+IHxn61bdv2+KWXXnqYiDaOGDHiMABod9xxxyOGobwP+MNyZ/H5M+BrpRerAYB0n/WC8BnxW+OL1A4A0LZnTxgBANrChbBWP955ebAJALTNm2GlcC29SP9jm82W6HQ6+6iq+jdEdCDiDybjvieM+Wl5DHiwRMTPiWgiIo4golGIyKiOtSLrk3UUhK8AjxdsZvj7cB/zLQ64Jdshvr81xO8lJCSaGLoCd28JJAqXAE/3DYqiXBPFm+ZykZ1Pv2j5K/1Qo95eaHF/WOR2p5cXFKQfMdYeJO4OZ/kCEmHWR/24+or38rvQxsBYh8t9FCC2BxGrk8ZkZWV5kpOTiwHAM3LkyNmG7ZYTfxFwAhHPEHeHjHR/19ZhrgRiNOtcriIeAxlVMUhn7yV3WnBvB02DvpoGIzUNpoUadxhJQZiWlrYrOTn5tHGbO+64Y7dREA4aNGg7In4sBN+kbt26/ZCcnPwbY+w6p9N5IQB8CLzUki98AgCbAACys7PP14tCRVE8zZo1O9OvX7/9ROS577779gOAFhcXpwHAaQM1gOoSHn8F7kbaAQAuFd/pM3PrBeF44A/uvlzxngEALSGhNgFA+/lnWKNp4Dl5sllBbm7WtUQ0EhFZkO6P4bz4i/aLl7rwE0RMR8TBjLG+jLHHiWheDPQrLNZREHotgQ8Y/v4BAKwT820E8JhVvVt6ipi7DwfxvYSEhATcC0HUM0xKSpqkKErYdQeDoTFjaIBYPqNlL+hA+dzcab+43bbKd9+dWivpSkN6axosVVX1ELd8RlMQlpEFdRsbiSBcT0HUzkReD8tDRJ4hQ4Z8CQCe5OTkHxhjPxq2KxTXzhkhCKPiHoahlY0JltF0ZSsh/pLpGHGRHE0x6I17Rqtu7HpoGrTRNOgvrIivahq8o2nwrmaSGTSSgvDOO+/cGBcXpzmdzvmMMRfxrKGjL7zwwoUpKSlbFEW53ul0XgrmZScQhMATCFoQAlSLwo+IyPP0009vAADt0Ucf3UxEnmHDhm0BAO3pp58uGz169PIBAwbcBzwtv5feB+dzRd/+DgCjAWAn8KRtXugFoTfW61xDv/oBQE8AeBQANLsd3l+6FEq8XLIkfs3nn3fZvGRJ2ravvhq53+1+vXL27LeDrWWp565Q52k9uGYHy/8R0TjG2D05OTkdHQ5HWyIaTkR5MdC3OjMIQfirmP9G3i62+Qp4ApmXAOAe4K7OGgA8KL7vIL7/AngW0ruBC8bDANAxiO8lJCQkAIBnmXoDAJaBD0GYlpb268SJE0sVRYlElkKfFNn5/IozkSXOuLgF3a/8/Df3cHdRZw1BiDFUcD0KjKZFJxgBXy8LbQyMczgsE+fH5zaI+F/v/6dPn76oWbNmRQDgefDBB2cbtl2OiCsQ8SRxV9ETUex3DSt9XRnNZBeIuF60H20xWIGGEjkul6uzzztvjEDToLkQjZ3++9/HHv7oo2Ej3nrrrVunTp36D0VRrvEyOTl5dXJy8mr934TnyJV2u/2S3NzcDlBTJN0F/MH1Lt3uWgDAbwCwQve3iAtCAAC73d4+MzPz0w4dOhxt2bLlyaysrGIi8qSnp68CAO3BBx/cJxKx/IiIvweAfwPADwCgj/n8AAA+Bu4tM9WwT/2xXiuO9SHd920AoBIAngLulVPVrl2zf23ffvnS4uIB27/66u/7H374jhM9elx4Zv78Nyrdblul222rLCiwVebk2EPyuhDrZajzdU8U7w/++voBIo5VVfX/ORyOtgAAubm5zYloCCKqVvQpmgxCEGo+6H2h1Er8fz/wOoSrgL9g0ONPALBUzMkyACgEgD+E8L2EhIRENfqASQ3DDh06rB47dmylzWarHD9+/KEZM2ZE863iCvHg5i8uba9hUQvB9YUVFxTYKufNG19JhMaHwpgoth5FRjPuy8uS+jymRiAIfw2izIRHpE73EJFn4MCBnwCAJyEh4WeHw1EjmQIiFhK3lp8hoiqKYop5kSE4knMnWn3dKNo/TnUoOB8Ey8ncdfoFfzfdBoZgrBl6kZQAPO5uB3Brxp+Ai7ojALBc124wgtCb8GUwACSZ9O0TANgHACN1fC0uLm5LfHx81YgRI2pkq+7Xr9/+pKSkMwMHDjw4cuTIsptuumknAJwCgJcN7Q4T/asCgKsN3xmzjH4MAAeBC8DBwMXl7n/961//jzH2bO/evTckJSWdueeeO/e9+OIDxwYOvP5kQkK8Nnx42gmvGPRy/vzxh1Q15ERQ28OYt/Xh7v8eIr7KGLtLUZQ2+gFUVfVa4R4aU5lBI8kAglBCQkIiJnEeALhAiMHExMSi559/vsxms1V6mZ6eXj5jxoyoPfgjL6DrK47ILFYi6AUtL++dzW63rTIvL9Os1EVjS8VtZDERRbs2ob+akVFfaGNgjEPhSkQ8FEQimbne/2dlZf3gvTb//Oc/G2MHi4m77Z4kLghPRPsYhJiNxNw5TFFwORbZJivFWJyIUF/N5v1hP+533xUWFiZaelePHIKxZhhFUioA/Be4CCwT2xFwCwXofhNIEN4KPGPnEeCWNyM+MenTQQBYcOmll96LiJ/qz4uiKJ60tLTdrVq1OpmYmKi1b9/+9KBBgzY5HI7ehnbPEftcb7JP47Gel5CQMCs+Pr4iMTHxaJcuXXaOGTNmlfk+E7TU1LZVjz02oJYY9HLOnMlB19UVLA5UdsJk7pZG+JpbhogFiDhaUZS0yZMn16pzl5OT01FV1X8S0SeRvuZjkVIQSkhINFTEA1+cPffdd99OvRjUsWL69Ol+3dzqsKDYyXfswA7DYhaSAMnPn1jqdtsqVVUxLpqWuM5YwA1UhwffIFlvhY8bsiAULsp+X6wg4s/6lOppaWkfgg/rIBF9h4hbGWNViFglXqxE+zjWRGLORKmvO0TbJxHxeCT66YNlxDOX+juPd1t8T7cK5wGva2sUcIUAoNRnR3Jzczsg4hd+ztM2UfploaIoPYNt1+l0tmSM3YqILyLiHMbY0mDmp6pi0fz54w/5EoNezpw5fV2I8z6cOqHrQ9yHfm4vQ8R8RHyJiG7Lyckx1ssDAAAiaoGI9yFibhSu9ZimFIQSEhINGn/5y19etdlsFT4EYaXNZqvMysoKeyHxs8D0c7lcnRHxZ8N3RcTdsvQLWdBuni6Xc6XbbavMz59UaZJddIPVi0Y9MuQU5WFwlZ/9R22hjYGxDZZbyUdJFT2RF532EJEnIyNjAfiwDhJRkXgQPUk8mczxOvQtJIqXMnWZKwET6oTB3YjoLTh/rI7988dSCiJ+GRGzrb6fW4RzAaACAL4EgAHA3UqnA6/v17e+O2O32zsT0Vd+ztV2RPyNiL7zJQrtdvu5LpfrdiJ6GRHnI+KycOdpTo59TUGBf0E4f376YW8dyCBZJLJuhzKPg36xyhhbiohziOgFRVFucTqdLX2Nt81mi2eM3cQYewsRf4rCdd4gKAWhhIREg4Xdbr8EEX+aMWPG6vHjxx/yJwozMzM3RvDmmeftg0g1rf9uk2ERKxcZNIPirFkZv4o3rkZ3UZ/Fjhspi6l2ltaIMtJuSL7YQAXhOkQMxiK9QP9S5LLLLvsCADzNmjX7ycw6SNwyWyW4ob6OR1j36jJfgq4fGgSLiMcY14cY3EchuLk2hOQyUcL1APAN8IyGRwBgEXCroSVwOBwXUQBRSDze+juRKKc1Iv6JiMYgojvY8x0sZ816e3sgK+HcuW+G6sFiXCuDoenLVURcgojvEtEoIupPvOajX+Tm5l5MRP8KYJFtMpSCUEJCokEiIyPjHNL59iuKsmLChAkH/YnCd955JyIuX6qq9tF1JU68ifQuTDUsEaFmtZw/f3wZdxdlRnfRUOM0GgNLKPwH4WBFYdRdFhugIFwlMukGFBKMsfe8/x89enR1sqenn366lnWQiDyIeAoRzyDi0Tr2MSTWMblMJGNOi8WLiCNEdFKMQ7Tm9m9h9M+YrETCIjgcjov0rtiG+bxCuHOXM8b2Rbs0g6qSZ968CQcDicK8vGmhvjgJqSyMsCoWEdFiRJzJGHsWEW+w2WzNA48ot5wyxobp12xJTikIJSQkGhyIqBkR5RhvaIqiLJ8wYcKBaFoKGWO1YkpcLldXRFxC5mUTgq4ZOHPmjBL+pvUts4D7qMRCNgDW1bIT6AEjpHMUDhuYIFyOiPuDqXWJiPne/zudzp9bt269CAA8F1100Wcm235P/KVGFSJqiBhqzFEkGHINNDFHIuVyvoKIyoQIjHaNwXBfIDWm5DINHsIL5hsxdzaKOawXUScE/SUMigizs2esDuQ6WlCQXu5yhVT2aUMIc3o/Im4jIpvb7TbL4GoKm82W6HK5biWiqUS0OJpj1JApBaGEhESDgs1mi0dEh6+bGmOsOJAonDZt2oZwb5qIeLlZv8Sbyt8MC1hILjSzZ0/Z4XbbKnNy7EZXyWjELzUkRrUUhbCG1dtCGwPj6YtFxF0MS4LY9jsh8jxE5Lnrrrv+B8I6OHXq1I/12wrrXDERnUZehN4q9+eSMOZHpOp+riJ+HR9FxFMUXTFYp4RJqqreW793dQkjGGOdEHEQY8zGGPuGasel63lC8DBFOS763Xenbg1kJczPnxTq/fSA2XEJC+g2IlqLWKO0xXcUhEsoEV2GiC8h4tfRHJPGQikIJSQkGhQQ8c1ANzbGWPHEiRNL/YnCcLKPIuI0X/0ionYmiStCsoIUFKSXFxTYjpgkk9lm9WIRA9xHdXtIDiQKIxlj6nehjYGxNCUi7qQgazQi4gfe/48bN+4rEGJw6NChRldRr3XwABFpQhBG1SIboN+hJpcJajwCsIT4A320C85XUmTqlObV2w1dAgAAnE7nhcQLnk8wlp4QXE3+ReFJIjohXCqjKgq9WbD9cdaskMIz1tLZF3O/is9+3dUR8TmzcVQUpY2qqo8iYkE0x6AxUgpCCQmJBoHCwsJERJwW7M0NEYsmTpy4348orAilTiEiLsnJyenoq3+iXpHeAlEWys145sys9XwhzTDLvFYv2TBjnEXk401yJIiIFcG4SYbDBiIItyJiUPNMn1V0xowZS9q2bbsEADypqamfIeJiw7Y/Eq/L6U0kEymLW1hExFASWdS5zAsirhM116ItBisi6NrqURSlWz3e3psccnNzL2aM3U9Ek0JIahKKKPRVI7fOdLmcKwsKbBX+XUdtFS6Xw+f9BBEXIqKDMfa4y+W6ijGmhNiPRd7i8cRDSO5ERLsI3bDs/tKQKQWhhIREzCMzMzMFEbNDvcEFch9NT08vdzh8L1qGtv7tq3/CjfUbsdDtJL44B0zXr+ecOW/tdrttldnZDqO76AGrF4oY4nIKMQlBKAwzCUfIC20MjGMNIuIvFOQDpD5ukIg8ffr08ZaZWJyZmfmRYfti4jE7x4gXoT8dA8dahMEXxa7rQ/VG0c5ximLBeeIiYU2Ex+nV+rvDN37Y7fZLiOgBRJyMiF/W4dyUUBCikLh7ctREYV7eO5sCWQnnzZugX7u+Q8QsRPwrY+wKm80WbzI+oc5RBxG9RtyF1NL7SmOgFIQSEhIxjZycnI5ENC/cm5xINOMz+2h6evphp9Ppd+FExK/91TFCxLt12xYj4kERMxVUH1UViwoKbBUFBeMridBoQQhJWDYBrqAolqOIpJXFy1gWhMKCFZRlFBHfJ11ShuHDh38KwlV05MiRZq6iXxMvvO61DtZHEfpgjsP70sYfd9VxP1tEOycoimIQEaOSTAQRfwg2c6NEbTidzl6I+BdEzEDEwgifn5IALzX0ojBq7tlz576515cYfP/91yoKCx/Zs3DhX2b6irs3IphwEHE8vyKi98Vg1ERvU6MUhBISEjELRLyBiL6v641OUZQV/uoUjh8//pCiKD4XTkS8z18/iSjP8JuQ3F/y8jI3cnfRqWZCJ5SMbU2FKzH0osahPGCHUmA55IU2BsbPQ0TLGWO/UpDzCxG/ZIxVv4kfO3bsNyDEYK9evf7PZPuFJFxFRdxgZQwcs7dvq4OYB3V5kN4h2jiJiMcD7asOLKMoPvAHuu9JcOTm5nZQFCWNeE27bOEmHe15vIaILBWFqqosLyhIL3e7bZUffPBK+fffP7xnzZr+m0tLO5doGngEl2oaXBbMOBJRqpnLp0gos1EkmTEeZ1S8OpoipSCUkJCISTDGno3kzc7hcKxKT08/7EsUTpgw4SBjzEwIzPXXT1VVexh/IwreTgy2b/n5/E2rqjqNIieq2S8bOL1ZG6PxoF1X65DfhTYGxq4EEbcGK3wRcSFjrDrO6e233/42JSXFAwCe88477xtFUQoN2xcRtyQeR8Qq4tlFIyqy60rktQB9icGQaocauBsR66Pg/AGK8ssiRJxfT7f7BgMiascYu05V1b8h4jvoo05gPXEtBSkKIx0fjYjfIuLkzz9/ylZa2lEvAM34oaZBsyDHd4z++BBxdxAu3iUWnoNGQykIJSQkYgqMsd/pk1ZEkjNmzFidnp5e7ksUTpw4sVSf3hoRf3Y6nRcG6K/NsFCqALwAbjDprvlbVlvlvHkTKk3cRaOW+bKRcAVFL6YwYjFZsSQIEXGDSKwS7G8W6TOKTp8+fWHr1q2XAIAnMTGxaOrUqca4QQ/xmJ59dNZVNBKZLyM9Dr6Sy5QTj30Mtc0iItpLouA8RVcM7qMAWRgjRYfD0btebvwxBJvNFu90Oi9ExJsR8a9ENI64F0gsxqoFIwqPE69/GbYoFIlvJjHG7s/Nzb1YP16aBhMCCEKPpsHLwYy9y+XqhYibKbT7uqWJqhoLpSCUkJCIGSDinyjKi67dbl9js9kqfInCSZNq1FB6wF9/c3JyWiHiT/r2FUVJ0x3PgED9effdqVvcbltlbm6m0dpVQfX00NfAWezP2lMHlkVq/GNEEBYh4qoQ481+YIz9z/vZ4XAs6tChw/cgXEVfe+21WrG9wnLwC50Vg7FaQ9NXcpmtobYl4oZLSYhB5IXnoyIGo5X4yA/fiPZ93xfEy8HuiqJcQ0T9FUVJY4zdwxi7nzH2MCKOCKW93Nzc1rm5uRerqtpHFCofwhh7nIheQMR0IpqOiPNjYG6GynUUQBQK1+UyCtKqzBj7jIgmIuJQl8vV1d+4ahq00DT4IghReLXZ74moBfGSG97Ecb+GcW2EVOJJsjalIJSQkLAcxAvIhpxFNFxOnz59nb8ahW+++eYexpgSqN/iYULf9gLjNiITms++zJvHazqpKquROc6CB78GS1VVPcTdPCP98F0X10GfC219j4/IrBmSuEXEH/WWQUVRfu7evXt1vcHHHnvsXZPffI+IKxDxjOBJq+dGgGPcYTjfhyn0lwAriOigEIHRrjG404Ix+ikjI+OcaNz3s7KyLkDEmxljfxful3OI6BNdDN4K4u6Aa0Wypw3EY8k2Z2RkHJs6deqxyZMnF2ZkZOxijM0innzsPUT8CBG/QMSvRSyr5XOtHrjOz7zxvqjwJwo/QcR0xtifGWMXh3ouNQ2uDkIQfqFp4C0oHydyBEwiokWGvhQRUagx4jIbdx0pBaGEhIRlcLlcncWCUO83v2nTpm3wJQhffvnlw23atMkI1H8i+sTQ7kiTbdr5eihxuZwr3W5bZX7+pFpvd6OR7bIJcBP5f1MeDkvq2i8LBWEx8npfIbmKIWIhIn6o+1zUu3fvj0GIwXvuuWeOyW8Wi4QQx72CkGI/A+Aqw7kO1bXVG8daH2LwV6vGSVXVB+t6r3c6nRcKC9+ziOgQ7vTLkWe53YqIvwkra5nXcisSPB0kon2IuFe8JNtNRDutfskSixRrhk9RiIinvKIQET8lojcURRlIRO3qen4BADQNXgokCvftu8iOiM8h4ucBjmeLn2PxxV+sPgcNmVIQSkhI1Dvsdnt7RBxr9Q3wnXfe2WQmCHv06LEO+MPvGF/HQES3GdpbnJOT08psW0Qcarb/WbPe3uZ22ypnzpxujJcot3psGjBLKILJZsQDaZ36VN8Pr8JiuhQRl4X6W0T8nDH2lfezoihLr7rqqo/E9eC57bbb8o3tCgtkISIeEmKwihpI/Ksuc2FZiL8tIX6dRrvgfDhCNdJj9H+h3N+dTmcHRLwbEV9ERFW8EFuBiBtEZts9RHSQuFVnN/EyAr+IMV1JQcRwSkHo81z5EoVlxL0oDiHiViJ6b9q0aa1DOa+BoGnQTCSQqSECjx9vsXz9+v6bFyx4qpSvd1nBvuwM9T4eq+7pDYJSEEpISNQbnE7nhVQzi5jlnDp16la9GLz99tu3gnj4Faxl9QMAICI0tDXR37FT7dIUnvnzxx/i7qJoFCH17hrWyFiEwdWaqxfrTH0+vCLiYgoz9hER30fEH7yfFUVZ0adPn0LvtdC/f3+zeqBFiPgt8Yf8KuJlJhqSu7O3ePyGEMZpnbBiRVsMVhBRTHgKIOLv/d3fFEXpJjJvzhExlRsQcZuw7B0mnvhjmxAsdbYcS0HolxsQ8QAi7kTEXwweAkWIWCoSt7zn6yVmuNA0uEzTYGlVVZxn+/beG77//uE9bvfYGjUKCwrSy1VVCSaW0XtthvICLyZqnTZESkEoISERdRBRfyKaYfUNzxenTJmyw2azVT7yyCN7oKYY9PJ+/fGIshLGdq70NwYul6szIv7s3X7mTPsat9tWOWfO5Bqxg4IRy3DZxLmWImctXBVuP6L98IqIxYyxr/TzK8TfLyOi2aQrOj9jxozFl1xyyY/ea+CWW27JZ4wtNfy2SLikbqezSWRCtbRZzSIKrbzLBjEfjhMXg9GyCpZTDN0HEDHdeE9zOBy9EfE5InqfuPvnJkTcK/q/j/iLlLUUheRYga6p0aNHr+nZs2dZq1atTjZr1uxM+/btj912222733777Xqr6woA2vDhw7cEu/3gwYO3AYD2n//8J5TETx5EXCaS4byMiHeIDNcDvNdrQkJC1YABA6pfMj7yyCNbHn300QpxvuYDwHHw4w0TChRF6fnll3//74cfjj5sLFZ/881XnQIAzRe7detm5hlz0Mf14Ys14oCNxy4Z/DUVifkgISHRxMEYuxgRH0LELKyfIr115htvvLE+OTm5GMwF4TIAuMt7fGSwciLinGDGBRGf8P5m9uzJO91uW2V29gyjYAiwYJ4AACAASURBVJFuL5FlEXGXtDrFFor4prD6EEVB+BNj7GNhFQyrDUT8njH2X/3f3nnnnZ9TU1OXeuf/kCFDZpu4nxaJv22hs2KwIgbOdzhjMC3Ibb1xTScEoyIGRexcSKKgHsbop4yMjHOysrIuUFX1b8STt6xAxM3C7baCuJV4I9ZDzUl/19Tzzz+/Lj4+vqp9+/bH0tLSdt199907+vbtWxoXF6e1bt36eGZmZr3UxIQoCUIh9OYyxv7NGLvVT6jCAERcduWVVx54/PHHq92Oe/XqVdatW7dyYSncdNlll21r2bLlQ+Gu99OmTWuNiI+gLkNrfj5PlmYUhCkpydqwYbefGDbs9hODB/+pdMCAATu9fOSRR2pZ9wLERfpitUeH8dglg7+mwp0PEhISTRiKorQRabxfI6L/WXVDC5eI+IOiKN0AYAqYC0IPACwBgP5E1MIochFxULBjRURzVZU8BQXp5QUFtiOq6nsxk4woVxCPV6rLg3pY7kiRFITCPTOPiNx1ffBmjL2HhsLa48aNW9S6devlcDabqFlN0CLGmId0YlAkq7D6HIcznkwktwq07Q4xB7zZGqNlGSwjPlctHxvdGBUTd9/7lvgLll+EK2iFcA/eQPVcIsffNdWzZ8+y1q1bH58xY0aNPo0YMWIjAGiDBw/eFs2+McY8iqJETBAi4hKRRfVfiqL8MZSsr4g4yPgyRycIi4nogHArnRNKu4WFhYmKoqSJl75LjMficjlXFhTYKoyCsE2bVlVnXUdtFS6XMxj3YW+cb7D36QoKr5Zok6YUhBISEj7hdruTiKidoijdnE5nH0S8WVGUgYyxYYj4FCJOQ16w1vKbWR24CBH7iUNOAAAE36Lw54cffvgV/e8R8ZvCwsLEYMdUVdUeubmZ69xuW+WsWRlmqbVjPTNjQ2cJ1qFuISKWhLrPughC5OUf5iAiGS154RIRFzLGasQDMsaWDR8+/IuEhAQPAHiSk5N/HDduXIHJb4vFA+CvxIXgGSI6UR9WoWjQbrdfAmAaE6znbkSsj4LzByjIOnH1xBVEtEM8YB9FxGOIeIj4i5UNZGGdVH/X1AUXXHC0e/fupp4WV199demwYcO2EpFnypQpK0CItt///vcHkpKSzrRo0eLULbfc8puiKNW/mTFjRtGNN964t1WrVicTExOr2rRpczwtLW2XeCniISJPSkrKqXvvvXf7tddeu79Zs2Zn/vOf/6wGgyC84447dsfHx1f97W9/M0245BWE48aNW05EeRkZGS+2b9/+fQAoA4BDADAbADIAYIVuSTkOAM8DgAsADgDAEQB4HwCqE8bExcWd9LpNXnDBBUdB56aZkZGxMjExURs4cOB+RJyTm5vbHAASASAdALYBwAkAWAMATwAAZGdnX0FEYxISEs7ce++92/v167c/JSXldLNmzc5cfvnlZVOnTq2ev7NmvbPZnyDkGbYnlpqNRUJCQpW+/aSkJK1Pnz6nMzMzq68Xu91eefPNN59MSUnRUlJStOuuu+7UHXfccbJTp05niL/AqeUyamzXrN9E5BkyZMi2tm3bHk9ISKj63e9+dzQUYd9QKQWhhIREDTSxYP3FqqreaBiC5gDwLvgQhZ06dSp94403qkUBIj4X6hj/8MNfvuLuos4a7qJ1cUuUDJkbKPT4lEqRSTMkC04o1xQifo6I7yKiQ1VVZrTg1ZWImM8Y+07/t2nTpn3Xu3fvL7xz/JJLLvnf9OnTvzT5bXXMIJ4tLXGyoYpBRJzsvSYR8U8m2xQR0V4SddwoumJwP1kosAwsEZa/I8Iaekp3/GtjoH9+r6m+ffuWxsfHVw0cOHDHW2+95fNa9QrC5s2bn7722mv3P/7445tuu+223XFxcdodd9yx27vd9ddfv69Fixan7r///l+ffvrpDWlpabvi4uK0+++/v9qbIyUl5VSLFi1OXXTRRRVDhgzZlpmZWQw6QTho0KDtcXFx2sMPP2wmLBYTUc71119fAADa+eeff7mYlm4A+AUAbgSArgBgB4AqqC0IjwHANAC4AgCGib9l6re57LLL5hCR59VXXy256KKLKjp16lT50ksvrVUUxSuSjhK/J+bFx8fniTbGAcCfmzdvzgCgKi0trTqOOiEhoSoxMbHqxhtv3Pvqq6+WPPLII5sTEhKqbrrppj36Y8vPn7RPLwhbt25ZRfTiET2nTRu7/a233lrhcDiKfLX/xBNPHEpMTNRuv/326rjdq6+++lT79u2rXnrppaMTJ048csstt5yMi4vThCCsJKKVZoIwUL/vvPPOnQCg3XDDDXsfe+yxTTfeeONeANDuu+++Ru29IwWhhIREDTQVQcgYW6ooyi0+hqElABSAQQwmJyevS01NrezatWv5+PHjVyHiMsbY70IZX02D5lVVCYs//PClMiKskZ1QZkizhGvFw28oovBgKCLIeE0JoZelKMpkVVVnENFcRFwQzeNExAWI+H/Gvz///POftGjRotpFdOjQoWYuoh4iWoyI3xPRHiEEq5DXNYsp98YQuDgnJ6ej97q02WzxyGvjecerWLyg8dZvOxrKHAlxPv0mSoVYzXWIuF8c6wkiOi3+1d+ndkdx/0HT3zo1ZcqUFT179jwEwgrWrl27Y9dcc83+4cOHb9HHD3oFYY8ePWpYE/v3778nMTHxTFZWVjERebp3735oyJAhNdxMO3XqVNmvX7/93s8pKSmn2rdvf0xvWQQhCIcOHforAFQLSET8CXk5jqdUVb3W7XYniWn4rOjzpcDFnQa62HUAiAOAEqgtCAsNy8x/gce967cZwxi7n+isy6i3n0I07ULEg2+88cZWANBSUlJeUFX1/yGikzG29LrrrtuXlJR0xuuGm5CQUHXxxRfXSALTu3fvgx07djyi/5vLpSwvKEgvDyapzAsvvLBO3ydD+yv79u17ukuXLmeIqHLs2LFHAUB79tlnq1/SIGJlamrqGZ0g3G0mCP31e8qUKSsSEhKqbrzxxr36bfr06VPaqlWrk1bP+/q8pkJ5rpGQkGiEaEKC8J4AQ9EGAD4EnSA8//zz96SmplampqZWXnrppYdsNhuGOr6aBoM1DTzffvvXH6j2w2EsuYs1NS5HXp8r2Kyk+xExqPNl8TX1EyLWyCBKRJ6srKyf+vbt+6V3bp933nnfTpgw4X2zNoRVcCHx+LYqRKxCxFPUgN2bzSz7jLFnvXOBiA4KYXQymmKQiGIhA+I6IX6PifN6mngWVV/lNCy/TwVzTb355psrhw8fvuWGG27Y2759+2MAoLVo0eLU6NGj1xCdFYR6Sx8ReUaNGrUeADTvdkQ8LvD1118vGTly5MaBAwfuSEpKOtO3b99S7/cpKSmnbrnllhrlVgBA69WrV1lcXJzWsWPHXUT0DyK62s/yoBeEzwDAGQBIMmzjhNqC8FXDNg7glkX9NmPEHB/mQxDuJKLlDz744DEA0KZNm7aHdBbrf/zjH78AgPbSSy+tNfym+nivv/76fW3btq0VS5yXN+0XryBs1aqF9uqrw48Z+corD1dkZp512zRrv3///pXt27evIqLKBx988ERcXJzmcDhqzM2bb775pE4QVpoJQn/9fvTRRzfrj9PLxx57bBMAaBMnTmyw97xQryk/81RCQqIpoAkIwsUul+vWIIfjAgD4HAA88fHxK7xi0MtWrVotBC4cg4amAWoaeObOnfQ11qyVt9eCsZA0p9dqaFYSRM8yRAxYjsKKa0qIuDkiCU313xVFWTFy5MjvW7RoUZ1R97rrritQFGWhj3a+JC78jgkheIa4WLBcFNRhbL7OzMxMMV6bWVlZF4hjPeQVgxTdgvNWu6CtFZkmvcd6ioJzi91q9Tn0dU0xxjwzZswo0sf3efniiy+uTUlJOd21a9dyorOCcMSIETVi+l599dUSANCeeuqpX4jI89BDD21t0aLFKQDQWrZsebJ79+6HWrVqddIoCP/0pz/tEglc3iOicXDW+vWT+PePAZYHvSAcBzxu0IjxUFsQ/suwjQMANhm2qS4r0a5du2VGQXjPPfeUEVHZgAEDTqakpGhiHlS7MY8aNWodAGjPP//8Ou9vBg0atF0/btdff/2+Nm3amCaXmjv3zT1mMYR6zpr19nZ9n0za39+uXbsqIqocOHDgCdHPGnNzwIABNQRhYmKiZhSE/vo9ZMiQbQCgxcXF1SIYXhI0NkpBKCEhUQONWRAi4o8Oh+MPIQ5JFwAoPO+887brxWD79u3LgD9QFwBAi2Aa0jRor2mwrKwsdamqVruleRPL/GL1+EiasoSItnizKpL5A7LfhAP1fE19hYhzGGOL9H9HxKJ///vfX6SmplZbvM8555zvXn755bl+2vqEeC2800TkdRNtkKUl9FRV9V6z6xMRLxcvaaJdcL6SiKxMhV9CZ2MjTwirYCjxkZaXxvF1TY0ZM2YNAGiPPvqoqfv9VVdddaBly5Ynic4KQmNc31NPPfULAGgvv/zymrFjx66Oi4vT+vXrt19fw7Bjx45H+vbtW4qIhUQ0IzExsaJz585kKAGhAY/lawbcYrcSeOIyX9ALwleAWwiNCctyoI6CEAA+bNu27XpE3ERE+xMTE7XBgwefIKLKIUOGnIiLi9OcTqd3TuwjoqKHH354CwBokyZNWkkUuiAkYsX9+1910p8gLCiwVebk2Nf4a//8888/Zehnjbl5ww03nDIKwrvvvrv6ZWugfg8bNmwLAGgjR47c+Oqrr5YYacxc25goBaGEhEQNNFZBiIiFiHh54BGojXPOOefKzp07H9YLwpYtW26Gs+6kOVDbtacWNA0e0zTwLFz48Me6fm0gXsOr0S40jYmIuAYRtyIvwF1tQRTJZrabWQyjfU0hL4MyDxFNXT5ff/31j7p06bJQN1+XDRgwIN/pdH7no83FiPgJEW0j4SJKvLzE/rr21Woi4myza9PhcPwBEX9kjO2i6IvB9RYdu770ynGqQ6IcRFwXbj8iQV/XlMPhKGrevPnprl27luvj+Yh4ttD27dsf69y5cyXRWUH4+9///oB+u6uvvro0OTn5tMPhKHr88cc3AYD2yiuvfEZEU4loVHp6+l/i4uIqkpKS5ummUCkAjDXe8gHgEfH/QeLz836WCL0gvAtqxxC2AIDfIHxBGOdwOP7QuXPn9V27dj1E/Pqu1AvCl1566SgAaH//+9+P614U7OvVq1dZu3btjnktr6ELQvL069fnkD9B6HbbKufPH39IVbEoQPvlzz777DEwxBDa7fbKc889t8ooCAcNGlQd1xio3+np6avAxI144MCBO7p06VJhnFONiVIQSkiEhsXAb9IPm3x3qfhuaIT3abbQRA2NURAyxj5zOp2Xhjsmqqre+9JLL63t1KlTZWpqamWHDh0q4uLijEXsHeD/7S9oGrg1DTx5ee8Y6xj+aMW4SNadyItzrxfxh9uJaBcRrWWMFTLGPmOM/S8a1xQi/kREbsbYXET8wWyb8ePHF3Tr1u0z/Tzt3LnzpxkZGR/6alf0eZGwXFcRkTebaKNIu+50OnsZr0uRYXSxOIe7dVb7SLOcrMnSWUTi4Z+4628kMqbuCbEPEaXJNbWaiFYi4oqHHnroVwDQOnTocHTAgAE777vvvm39+/ff07Zt2+Px8fFVXhdRryBMSEg4c80112wYOnTo55dddtlS4LF/sxlj191yyy3XAi+9kAsAVwLAPcBr0pYCwFcA0EFMo0CCEABgAXA30A5gDr0gTACA1QCwAwAeBIA/AcDXwMtKLNf9JihB2Ldv3/8xxj4jOpsg5YknntjkdDq36wUhEVX27NnzdHJysnbfffed+Oc//3n69ttvPwUGq2s4grBv376lKSnJVY8+eucJMz711L3H3W5b5Zw5k3f5ax8RtyqKUpmamnqmdevWVSNGjDj+3HPPHevRo8fppKQkzSgIxbFtCLbf/fr125+UlHRmwIABOx977LFN/fv33xMfH191991377Byztf3NeVjjkpISAh4BeFuAGhl+E4KwhgkIuba7fZz6zImiOgmIs9zzz23vmPHjpWtW7feCeZlKaYAzwRXC5oGl2oaeHbt6lHr4V1RlDQi8mWtkWzgjNQ1JR7oZol6hIvMtkHEoldeeaWgW7duH+vnZpcuXT567bXX5jHGlvpof5GwCq4lbjmqQkSNuEvh6nD7HEtExAnG65KIHhBxXzsEPYjoFU8RIyIetmgcN4l9exPkHI/gcVmWYMN4TYlYyP3Ctfu3Z5555sCll156NDk5+UxCQkJV69atj1555ZVbn3vuuQLG2AuKoqSlpaX1Ar5mPwcAnwAXW1uhtsC6HwA2Ai/vsAQABgPAX8T2k8Q2wQjCywHgFPB6gmbQC0IAgFTgGUOPAK9FiABAUDOrqC9BuBkRhxJRnjGRyjPPPLOhRYsWp5o1a3YmIyNjuVEQZmVlVfbv3//UOeecoyUmJmqdOnXSHn/88RPCK8JDFL4gBD9ZRn/3uzbV1sPERL/tFyHi4cmTJx/p27fv6aSkJC0lJUXr37//qZtuuulU9+7dT3uPRXdsZcH2W1EUT1pa2u5WrVqdTEhIqGrXrt2xwYMHb/d1XI2FUhBKSISGxcDfvJ0GgHcM3zVkQRgHIlahMQlCREy32WzxdRkYl8t1lb7NJ5988pdmzZqtBN/F68eZtaNpMErTwLNgwVMfG/r4JQDEIeLdVo+XZHQYzjWFiN8yxt4jolmIWCBKPvjcPiMjo2DQoEGzkpOTf9DPx969e//fhAkT3AH2tYC4wNyLZ+sLViHiQavHLoJcMHny5PP01yQRjRLHv5t0FlDhWhlJQVhGvMh7fR7vGnH+jhAvHXGCIu8Ga1mGVJNr6gDxJE+H6awrdzkilhHPCPwbIu4UVuANRLRyypQpSwBAGzRokJsxNizckIIo4TwASIPaScsKAUAx+4HNZosnov6IOFl4EAQ9noYEZ0YeISJv6ZU6W4ZzcuxrCgp8u41y19H0w0TMZ2mfzMzMLaNGjTqmL1RPRJXdu3c//cc//vGUj+OwMm435ikFoYREaFgM/E3iNOBv+vQLiJkg1KD227v3gLt+eNEMAN4EgF3A3wQuBYC7dd+bCcJnAGAD8LeDq6C2C2tz0ccdwN9qbgSA/0BN61UpAIwC/sbxiOh/YxGEixlj9xtPXjggoomGthH4G2NfgtAD/E1vDWgafFlVFefJzrbXWKgR8SXvNojoiIGxk4wwTa6p7xBxgaIoHwnr81wimo2I+chrBZq6gOrJGCt+6623CocOHfp+27ZtvzbMv6V//OMf52dkZNSqO6gnIi4hokWqqq4lbj06Q0Qa8WyTGwP1oSFRn0xKPDhPQsQi4g+4G0zGZi9FRjQdoPrNyLpK9D2aQtBr9axEi+pQBrlOLSeiVcSzqf6CiJsRcTvxFx+HMzIyKoFnGT2AiJuEBXcRImYT0ShEvNksG2094VwAqACALwFgAADcDgDTAeAkAPTVb5ibm3sxEb1ARAvqMqZBiMLTkRKFs2e/vc2fIHS7bZVz577pcz+ZmZnFycnJWs+ePU8/88wzx55//vljt95668mEhATttddeMy0TI14WyFj9IK+pep/xEhINDF5B2Aq42+i3uu/CFYR5wEXbG8CF3efALZBXiO+NgvB1AKgCADsA3AcAWeLzk7ptHACwHwD+Dvwt4zjgGcv+odumFAD2AsB3APA08AWowQtCRCzIzs4OO15QD0VR2pChfhsR3Sa+fhL8i8Jh3nY0DfppGng2bbr2G5P+Vr9UIKJ2yOu9WT6OkpFjpK4pu91e/Nprr33/5z//+cdOnTqtMM65Zs2aLRo0aNCs6dOnLwjQ1mrG2M/iAbjSYBU8RI3soQkRq++fbrc7Sbx4WU5E+3wlRxHJnuoqmqrT9tcDl3sf6BHxuIgTjGb9RC8tKVQfiWsqIyNjJQBoTzzxxF7kZWYOEbcq7iVeEmStmAtZRDSkrqEHYeB6APgGAA4Df2m7CPh6Dna7/VxE/Avxl0mRHNtdvs61EIOnEfGoGK867WvevAkHAonCvLxMny+mXnzxxW09evQ43bx5cy0pKUnr2rXrmVGjRgWKjbW8ZEqsUgpCCYnQ4BWEADyGQAOAh8TncAShN4bhBd33zYELtfHis14QtgNuFZxmaHMWcGugF58CF3l6LAEAl+5zKQCUgCERSgMWhIsZY0/abDZjmu6wQUQjDftYYNhkDPgXhfcAAGga/EfTwPPBBy99qm8PET807hMRH4qBsZSMIEO9phCxyG63F0+YMKHw2Wef/fSee+75rFu3bkvM5lhiYmLRDTfcUDBmzJh8RVECWRZXCleylcTd66qFIPG4wQ1Wj1UU+InNZmsOAOB0OlsSUR4RrUDE/cTLL/g7D4cofKG0R1XVqB+f2McW4m6SRyOUMCZU1ntttiiuUysQ8Rfi8aQHELGciHYh4nri4p4QcajT6WwZqXUmWBQWFia6XK7bGWOZVPtFZSTpzUTrSxSeioQodLkcq9xuW4U/QVhQYKvIzlZ8WqERsTTEuVpORD5dUZsypSCUkAgNekEIwN/e7QSAcyA8QfiM2KaTYZsOANBW/F8vCIeK7a8xbH+f+Htn3d/igQvOgQDwInD3kzzd96UAMNl4gA1RECJivsvl6mo8lrpAuJUtMOznCZNNJ4JvQbi0eXNI0zRYeOpUUpHLxZYZ+j7SbN/EH1otH1fJyNB4TY0fP/6TcePGLRg7duw3o0ePLnzyySe/Hjp06De33nrrwt69ey9r3779Kj9zytOqVavvb7vttvljxozJZ4wFEytUQtwVbhURHSSRPZS4RfBMJN72xyIRcRlj7AoAAIfD0ZaI3hNjsJ+4K6Hf3zPGfqXwBFJ9xdZtIC7sjxJ3DT1O0S2X4UsklFGELKGI+ClxTCKiFxDxr4qiDHQ4HH9gjF2hKEq33NzcDsZ4ULvdfq7T6ezgcrm6Iq8n2Y8xdhcRDVdV9Z+MMRsRzUDEj0Ls00rkZWZKEbECEXcj4gZE/JmIpiiK8se6xqkHgjie0YhYy8MkigxKFFIdLcSzZk3dEshKmJ8/0V+5mzVhzNdGnyAmHEpBKCERGoyC8DLgPv2TIXhB+H9wVhCOB+7KaZqZUkAvCL0C8rQJNQD4vdjuceAuoxrw2MRPgVsQ83y0W42GJAhF4o1h0ViQkaei1+9vsaHosBfxwC22pg/vbdrAum++gXWrVt3xubH/dru9vdm+XS5XZ/HAYfkYS9adJgutP6tyLZ5//vnfXHPNNe6nnnpqztSpUz8Odr+IuBARF6qqupK4tUNvEawi7iJXn/Ft9UrG2LMAAHa7vTMRfUJcGO+jIBO8hJlc5tdg2q4jS4RlJOpxgsEy1IdsRPwaETMURXmMiG6rS1mgUJGZmZlCRFczxoYR0Tgimhdkv1cQ0RZEPIg8c+t2RFyNiF8T0SjG2O8i1UeHw9FWUZTHEPG/9TCffJ2j3/yc72r3UaqjKMzPn7g/kCh8992pPsvehBPva1XsayxTCkIJidBgFIQAAG8Br1M0EIIThIVwVhB600wbYxP6AUBP8X+9cHtUbH838BhDI5sDQA/gAlGFs1ZGAJ6sJk/3ucEKQpEMY0w0YzpEYgH9PtP9bJ4IvDh9rYf5iy6CPX36QOWECSOMtQdnBtj/CKvHWTIyDCQIzznnnIUXXXTRp9dcc81/BwwYkP/Xv/519ujRo+dlZGR8xBgLqUYlIv6IiP8VtQTXEI+JOqMTg2eIu02VWD0u0SQiznnggQcShHXla0Rch7wkQajuYnso+AfNaGcxrC4sj7x8xEnxQG6ZEDTQ55xCxG+JJ/IZWp/iL1hkZGScQ0T9iegZIsoJ4lyUEHcrLRfWw01EtFhV1f+4XK7OgfdYGyK+dQAiOvyUh6nv6yhYUbgr3H1kZysrCgr8u4663bYKl8thatX3xkKHyLD721gpBaGERGgwE4QtAGAbAKyH2oKwAnh2T/22h+GsILwWasYhAvA005UA8JT4rBduXYEnkNEnhwEA+DcA/AA8HnCIaFNfgPlcsd883d8apCBkjCl2u/0SY78jCZG1rcZ+HQ5H7wA/awEA+aB70I+Ph+JevaCyV6/4IxdffHH5uHHjquuQIaLf8iQ2my0eEQusHm/JutN4TWVmZn5mt9u/VhQlIgmEEHG1qFG4gLjr3i7iVqMqIjqt+7e0ibwZ/8put7d3OBx/QMQfiWdM3UPhuTWuo+AeMNdH63iEiN1GRBXE4wOtiBMMxupyyCC456mq+k8iuhL8e8HEHGw2W3PiAnEMIgayyv9CvLTFISLaLObZxGCFr9Pp7IOIYyl2a9H6fClicB8NW2S9+27mxkBWwnnzJhzw04ZPF1c/tKyOZixSCkIJidBgJggBAP4MZwus6h/0PwcuFvsBQDcAmAc8W5g+y+jHAHAQuAAcDFzY7QaeQAagtnBTgQvNV4HHDmYAd1t9WXx/MXCLZS4AXAk8sckS0c5XwOMTzdoFgNgVhIiYjYi/N/Y3GhCLs37fc4L86XkA8D4IQdi2LWy6/HKo7NKl5aHU1NTKbt26HZ40adJKRFzidrsDJiVQVbWHsIZaPv6S4TMK19RyRFyBiAuFJWEl8cQXR3UuoWcQsYq4MLSsXlx9ExGXMMauEC7fi4lnFaxrJkyfyWUQsYJENsoosbqwvEgYE8nC8tHgRofD8WhWVtYFdbkHxxrsdvsliPhXRPzQz7laTUS7xfnaKsTxFCLqYmwvKyvrAiIaGaC9WGIgUejNPhr2vWbu3Df3BhKFs2a9vc3H71eGMVfrXD6jMVEKQgmJ0OBLEALwOD2jIOwKvDTFMeAi703gdf/0gvA8AJgJAIcAoAwAPoOzJScAagu3BACwAU9mcxy4ZfI5Q1/uB1578BhwMTgYeFbUIwAwyUe7ABCTgjCHMXadjzGPOIioBRqK+iqKMjCEJtoBnyOebt1g/+WXQ2Vqavvy1NTUytTU1MruMmHlBQAAIABJREFU3bsfGj9+PAu2MUR8PgbOgWQdGIFrahVxEfg9Iv6MiGuQl0vYT0THdS6hVUIEnqEoW61imMOJ6AFEXEbcpW9HXdtEXszc7EH4MHEREI3jWEe8hmHMxAn6YRnx2MmVYrz8udc3eDidzj6MMZuwPpvNlxXELboHEXGz+PsbLperM2PsHiIiMT+tvlZCvQ78xerps4+GJQpVVVleUJBeHiDraGV29owSH23sCGPu+mqryVEKQgkJiRqIFUGIiFmqql5b38ePiI8Y+vFNYWFhqKUsOiUnw3eXXw6VPXokVnrFoJetW7f+AfiLgIAQcSWhZsaTjCEGcU0VEX+YXoOIxYj4kxB/PyLPillCXNztJV5awJshtEqfJEbElf3WRNxCaxERJyPic+L/u4mXY4hE28vJXARFY5xXEU98c4SITgirYKwKwX3EhavZuZgQ+t23YcHpdLYUiWn+5+NcFhPRDmFFPoA8S+l2athlD/b5mQ9HieiUmK9hZfKcOTNrfSAr4fz548uI0Mz9u1iMdShz2F8G0yZFKQglJCRqwEpBKB6AX3U4HBdZdfzEsxFW98mbqTBUfPopjLnuOijv3PncMr0Y7NChQzkAFAGPN2wRTFuqqvaxerGQDJ/Ga0pYoJcK8beeeNbINcRTqG8ViRzKiMeJeWMAvSUivFZArxg8RtwltNFmCw2S7ymKMoG4uN5DPG4wYu0bkmsciMJ41ygsTzxOMJYSxlRTjEVAyygiTnO73Unh3D8bGhRFuQURc3XHvxJ5FtJDxAXSSUQ8RfyFzmGKfgKiaLGIoiwK586dvCuQKJw9e7IvK2TIpWLEPdjqcbWcUhBKSEjUgEWCcB5j7HEfZR3qDcSTCNToW7ixMJoGH3o8UNK5c8dyvSBs06bNLjibeCYHeIbSgDDGNUo2HJoIQu/D4Wk8m/nTWwqiWvSpqlptAdRZA48RfyCTDzFn+TVjLJe4qNor3Gkjug/RpteiEJGae0S8sLxwSS0X5/akEISWCz8T7qIQE3EwxmZZfV+vLxAPN3gREUvMxk+4U54iLvaPEH+xsCaK10W0WCSuA3+i8LQ4Rl8xf37IigsKxh8KJApzcqabxe4WEdHhEOf1wRgYU8spBaGEhEQN1KMgnIuITxBRqtXH7AVjzGXo49Rw2tE06KVp4Nmxo9eiF154YV2nTp2qBWFycvJaqFl2YBrwWoZ+IdKiL7B60ZAMncZryij06KwY9Mb/nSYeM1ZBXPxtIRnrYkqRuOMDIlqBiPujOU6MsY2qqkay77+QKCwvXENPUOy5h1YIy2XY7rGI+HEQWZobKuIYYzcxxt4iokW6417tJ+buGHEr2gk6K7QbmoU/kCj0HuMRCqM2Z07O9LUFBf4FYUHB+ENErJb7rYjbDHWeR9SjoCFSCkIJCYkaiJYgRMSPEHECET1gt9vDqtMUTTDGrjDp99XhtKVp8KKmgefzz5/7iIg8//znPzd07Nix8oILLjgM5sXHJwbTLplYMCVjnyYWwlLibo27EHEb8YcRKfhCZxERfSviLPcTj7+Lyr5EEpFHItSesbB8rMYJ7ohkPCoijgjnfhqLyM3NvRgRn0fELwKdazIXTt4Y0VPExVM5RS7mtd6uPzGPA4pCYQUPqf05c97eHshKOHfum74yhZaFONcPxcB4WkopCCUkJGogQoLwK0R0EtEoRVHSFEVpY/VxBQIRTdUfA2NsVjjtaBrEaRp8eeZMYlF2tmOxt70RI0ZsPO+887aDuSD0AMCYYNpHxMlWLxySdVtore5PI+FK5CVZSoRlMGqJdBDxKQAAu91+LvFSFuG2tULE3x0hXj4i1grLe7mHoiSuEXF2LL4QDAZ2u/1cxtgwRJwTxrGvI3ORcoT4CwHvXDhI0S1jEmkGFIVC9B7RZVwNiqpKnnnzJhwMJApzc6f9YvL7X8KY9w1NkEeUUhBKSEjUQIgPr/9jjCmMsdcR8RFFUa53OBxtrT6GUOF0Oi80pgF3uVy3htOWpsH1mgaeDRv+8KVxvLp16/YC+BaEHgD4R6D2xUNprBYwlgxiobW6P42AqxFxneBeilLWRnFPGKK//oSXQ6jtNIjC8sRj2upLjDxNREEl1bISRNQOER9ijClUt5cBXm4hbg30JZxOEBeJeyiKLzkizCIiKvUzr8IWhdnZM1YHdh1NL3e5FDOX2wN++mTGw+JatXo8LaEUhBISEjXw1ltv2bycOnXq/0Ra7SGMsbsURfkjEV3NGOtkdT8jCROr2/vhtqVpMF7TwPP++698qm8TEd1ik2fBvyi8P9A+RC0ryxcQyfAWWqv705ApROA2EX+3hyKY4MXAxWYvhRhjfUNsp7qwPHEheJxizD3UqqyXiPiNoiiPud3uluHeb6OB7OzsS4kXjQ/HEhgMlxOPGzSzFh5HxFMisVAF8fi7aM3xSJ7LYgpSFIY612bNyvg1kJUwP3/SPpPfrvPTH18MIwlO46AUhBISEk0aZrGDqqreG05bmgbNNA0WnTjRwqOqzhqLOGPscd2m48C3IFwGAHcF2hciOqxeQCTDW2it7k8D5gbiJTa2iDqDUdkPIv6gKMo1vq49InoviHbWIeJB4laRmE0YQ/wB2HLBoarqf1RVvTGc+25dYLPZEhljVzDGHiaiKUHEBEaSJWRuxaouUyFeJBwiPvetvv4CXTfFPo6nzqIwP39iaSBRmJf3jpn10V/iG1/XRENL8BMRSkEoISHRpGF8C4yIHwBAXDhtaRoM0DTwLF9+52eGNpfZ7fb2uk3jAGAK+BaFSwCgv799EXdl+tHqRUQy9IXW6v40RCLiZpHtcodgtPbztaqqPfxde8JrwlcbNQrLU+zGCe6mGHRJFPe0qUQ0JDs7+/xw7sO+4HQ6WxLRlYyxexhjzyJittXHK7hRWGmN58hbpuKEmE9RTZwUIRYTj4P0KQrpbPbRoDN7ulzOlQUFtgr/rqO2CpfLaSyLUuKnL6YU9xmrx7HeKQWhhIREkwUiDjDeFBVF+WO47WkaTNc08MyfP36BoV0y2TwBABzgWxT+DAA+rRQAAR9MJWOEUhDWmdvEQ9rucLIVBktE/CiYhCdut7sl1Swx4CFuVTAWlo+5OEGRAKQkBs5psOfkYyKayhh7kjF2P2PsVkVRrvFS3AevUxTlFiK6U1XVe1VVfVBV1UcZY38X2WFnIuLXVh9LgOMsJv6iw+ycHScirxtpJfHsr7Ec67acghCFiBiSKMzLe2dzYNfRiaUmY/ubn774Ykj1NhsDpSCUkJBoksjNzW3OGPvMcFPEcNvTNGitabCksvK8pURodMEa4uNnScCL0/sShT8CwOX+9ktEeVYvJJKhLbRW96eBcRcR7RTJY6JWKwwR5+fm5rYO9npnjNnEb4uIqCEUlj8k4i6tPp8RpbgHWt6PCNJbQsV4/vRlKo4Ki2Is185bTn5KPyCiN1byCPGMoEG1m58/aV8gUThrVoax7uFKX/3w07/fYmAM65VSEEpISDRJENEb+pshIi7Lzc29ONz2NA2GaRp4fvrpgY8NN9rFubm5zf38tAUAFIBvUVgIAF18/djlcnWmyGS/k6ynhdbq/jQQFhHRHkTczhjbh4jro7UvRMzOzMxMCeV6J6IriT/IHtIljDlBsRcnWE5csFoeJxgNinNheT+iwA3EYweNQsXrRuqtXXmAYtfiG5QoFJ+DEoUul7K8oCC9PIDraGV29ozVht/u9NUPP4zVcY0KpSCUkJBockDEG0xuiEHVAfQFTYN3NQ08eXlvL9S3i4hvB/HzNgDwIfgWhZ8DwAW+fkxEI61eTCSDX2it7k8DYDFjrBQRtzLG9lEUH8wQ8Z1Qr3WHw9GbiOYSf9g9QbFbWH4nNfIEGeL+Z3k/osQi4llGK0zOrTcWz2uN3hWj5zoUUbghmDZzc6f9EshKOG/ehIOqWqsfZuPoj/tjYPzqjVIQSkhINCkQUQtE/Fx/I0TEz202mz8rnl9oGnTUNPDs23exMa4olHqGFwAXfr5E4YfAhWMt2Gy2eEQssHpBkQxuobW6PzHOFUR0QCSR2U9RjOVhjNlCuc6JKFWUqCkSsYxlRBSLCWP2UewnH4kIxXmxvB9R5griJVaM59mbuOgUcYFYTjFYXB0RV1CEReHcuW/uCSQK58x5e7vhd9t89cEP11k9fvVFKQglJCSaFBDxbeONMCcnp19d2tQ0eFLTwPP11098ZFgIv33ggQcSQmiqCwB8Db5FYQEAmNbsUlW1hyikbfnCIul/obW6P7FKRFxNQgwSfzsfTYvH08FelBkZGecQ0b8Q8WcRh7ePRPyWj+yQVvFgNF1rY5EATUIQermWzJO1GMtUHCSiNTHQ32oKUVjLBVbHalEY3BxmxQUF4w8Fch3NyZm+VteHYuKiOZRr6oDVY1dflIJQQkKiyUDUmjLeCF+ra7uaBh9qGnhmzsyqYSFkjL0eRnPdAeB78C0K3wUAU2smEf3L6kVFMvBCa3V/YpTrEbGUMbaZolhwXrw0eSCYC/GBBx5IUFX1QZGhsoS4EDQWCv+VrBeCh4WItvoc1jvFfc/yftQzt5C5sPG6kZ4gXv/yN4qt0iIRFYU5OdPXBrISFhSMP0TE9BlZt/jZvy8LZqNLxmRGKQglJCSaBBRFucbkJvhJqMkkjNA0uFLTwLNt25ULje0zxvqG2exVwMtO+BKFCLxsRQ243e4kRPwomouGZN0XWqv7E4PcRkT7ETGqNQaJaHGwLtxE1J+I3kPEFeLBeheZPFwj4nJEtFIMbo/xEgRRpThXlvfDAi4nPifNrIVeYXUMESuo9ksMK7mS/ItCbybVSgrCXXP27Mk7A4nCuXMn79L9pijA/s1YFgPjFnVKQSghIdHoQbyI+zf6mx8i/qQoSs+6tq1pMFrTwPPxx89/bGj/0zo23R94gXpfonAK8AL3NaCqah+rFxZJ/wut1f2JFQohsw8RdyLiHgoyfijMff3grVvnD4yxixExW/Rtuyh3URKg7XAyGNaVe6gJ1kozEqDJCkIvS4i7NZoJQ70baRlF8foKkSsDuFqHIAqxaP788WWBROHMmVl6i+NGP/v2ZSVs9BZ4KQglJCQaNdxudxIRzTPe/Bhjd9W1bU2DOE2Db8+cSSxyuZxLDft4JgLdvwsAloFvUTjO7EdkKKkhGVsLrdX9iQUi4hqRSXSzKCthTBMfyX19rapqD38XWm5ubmtEHMsYWyoe/vZR8A/QIdc5qwMPUIzFh1lJcb+zvB8xwE0+RJa3TMUJ4iJxH8XGi4RVIYjCtf7ays6eUVJQEMh1NL1cVRV9TLJZLKY/HqbYsbJGhVIQSkhINGog4jTjjS/M2L5a0DTor2ngWbOm/xfGfdSlpqEB94NvQegBgH8bfyCSYCyweoGRNF9ore5PDPBXES/4KyLujabLIyJ+6nQ6L/R1cYkXRiMRcaGIW9pPPM4opIc/YUmMphA8RLFdiNwSAkhB6KW4jnaQ+fzxupEeJ27xigVX41XEhVYgUVhBAUThrFlvbwvsOvrmXt1YrfezX180FrxvVJSCUEJCotECEZ833vQQ8d1Ita9p8Kamgee9917/1LCfuZHah8BI8C8KHzf+gHgMlOWLjKQUhDquQMRS4SK6m4g2RXN/iDjf4XC09XVRIeLdiPgpIq4SwjTsun2IuIaiIARjMAYspijudZb3I8a4iviLDeN8OkJnRdZRYaGz9CWD8AyIiCicN2/CgUCiMC/vnU26fZf62a+va9FqER01SkEoISHRKIGIQ00Wn0/9PSCGAk2D5poGi44ebeVRVcW4n0cisQ8DxoB/UXiP8QdENMXqRUZSCkLBTYh4gLh18DeKstsaImb7ShjlLSwvUuHvEvGLda7bJ44rkoJwN8VWlsiYo7jPWd6PWKTIjlkrgQoiet1ITxLPRloaTZftIPq5mvyXgzgh+lpBftylXS7HKrfbVhGgFEVFdrbivabCeYkTzaRXllIKQgkJiUYHxtj9xpp8iPgDY+ziSO1D0+AeTQOPx3P3J4b9LMvNzW0dqf0YMBF8C8KlAHC7fmNFUdoQ0XdWLzRNnU1cEK5CxP2MsV1CMG2rh31ONbt4iBeWf5u4te1XUfjer9UhREYkllBYLkpi4NzFPMV5tbwfMcwi4tdcBdWea8f0bqREFLaFPAIMJApPEk+S41cUvvvu1C2BrIT5+RP3636zx88+fV2fjfIljRSEEhISjQqqqv7NeKNjjC1ljF0Xyf1oGjg1DTz5+RO/1O8LEZ2R3I8B8QAwDXyLwsUAcL3+B4g4yOqFpqmzKQpCVVU9JGIFibs87qN6EDmMMZvxohExtS8g4s9EtFEIwWi5q/qK4QqGsZQJskEQQArCILmSzMXPEeIWuFPE6xiWW5hRMxRR6PNekp8/cX8gUThr1tQtunEJx3Jv9fmMOKUglJCQaDQgolFmNzpEHBrJ/WgatNY0WFZe3m6xqtbcF2OslutmhJEIvA6hL1G4CHgdw2ogomr1YtOU2QQF4XpEPCDqCu4jLpLqIwauRmbfBx54IIExNkyUnClBxP3RTqYh6hKaWWP8sZzCSGQjKQVhGFxL/MVDLTdSEoKLuEg8SNZksy0JcP14+1hOPkRhdrayoqDAv+uo222rcLkcXjdxs3qOgayElrnYRotSEEpISDR4FBYWJgpXsFo3OcbY/ZHen6bBI5oGnh9++IuxCPyi3Nzc5pHenwmaA8C74FsUfg8A3b0b5+bmdkDEH61ecJoqm5AgXE1E+xlje4loJyLWy0Ol8ACocZ0j4s1E9D7xmme/CXfV+nL12krBP1ha6abX4AkgBWE4RMStZG6N87qRnkDEI/V83Xi5JgRRaCrM8vIyNwayEs6bN+GAGIsVfvbli3usPoeRphSEEhISDRoOh6MtIuabLHjLEHFQNPapaTBX08CTl/fOj4Z9vhmN/flASwAoAN+i8GsA6OTdmIiGW73gNFU2dkHoTc5C3PKwhTFWStziVR/7/hERb/DOc0VRunkLywtr4H6ywNKBiLWSeRi4jyKQyKapU9zbLO9HQ6S4bneTuRupt0zFMSHOtlL9WrDXkHncY9CicO7cN/cEEoWzZ7/tjWne7mdfvtio6oFKQSghIdFgQUSXEdFXxhubKC59RzT2qWlwsaaB57ffui80uan2j8Y+/aANAHwCvkXhJwDQzrsxIs6xetFpimysglC4Xm5DxEOIuFWUk6jP+mZfKYrSEwAgOzv7fCIa5y0sL2IXf7FwfDaQuUXwIBGts/rcNRYCSEEYAZYQ0QEyF4YnEfGUcCktE/X76qtfaylIUWjuwsmK589PPxwg62hlTo59DREVh+rqLe4xVp+7gBTeQfMQcTIiPqUoykAiuhoRL1cUpRtjrJPD4WjrdDpb1vPzi4SEhETdwRh73McN8DtVVW+M1n41DZ7RNPAsWPDkR4ab7rcAEBet/fpBJwD4EnyLwvcB4DwAAJfL1ZWIFlu9QDU1NlJBuEXUMdstagrupiiXktATEf+PiFLtdnsyY+zviPgDIm4Q1smYqNuHumL1YqyiWnexKRJACsIIchOZ1wT0lqk4QVwk7qP6u9aDFYWHzUThzJnT1wWyEs6fP/6QqmIRheDqrWN9CuSARMSFiOgk+v/tnXmYFNXZ9m8EEY0YVIy8LlGTaIwajXGJ5tVIIhpjTCRR/NyjcYlGEzHRvGo0aVdUEMZ2us7zVM8wAwjCiBEVVzQgi4IMq+ICKgqyzzDDgGxG6/vjnA5N09ssPdUzc/+u67lgqms5dbq66tx1nkWv9TzvpFgs1iuEMQkhhBQeVe2ZKUmKiIwuKSnZt5DHDwI8HwSoLiuLvpFy/L8V8rg5+BaAicgsCkcB2A0AVPXasB9aHc3akSCco3bQVKeqK5zgWdnaCRZEZIiq7maMOccY84KIvO1cQ5cVWUr4uWpnL1pz1rRDmbunhd6OdmSzXVxrOvGzWVW/EJHNal9yLNHWefHynuYWhVvUitkd3LAff/zBZblE4eOPP/iZqs5yL24aIwjXhvl9icirqnqfqvbzff+wUEYfhBDS2nie10dEJma4Md5Z6OMHAY4NAlR//PGxr6Zpw/cLffwcHAFgKjKLwnIAXQFAREaH+RDraNYOBOHbamME69VmDF1ZgBp+Oc25g14Vj8ePFpHRidhFY8zqIs3695AxJm3mY1rLGEBBWCCb71wi07mRbklyI63X1nHNfi9NW7ZzbXXt2kEU+r7MGj36nvpconDo0EffUztL2qhZwtYu0yEi/xKRm0TkmFBGGoQQEhYlJSX7ikhJhpvjVN/3f9Ea7QgC/D0IUP3MM395LqUN41rj+HlwHIA3kVkUlgLYKRaLfcfVZAt70NEhrA0LwoWqukZEakTkU5c9dLW2shBU1WoRmehqag4SkVnGmESNw6Jy2XJtHRGPxxOlXzrxBUzhDKAgLLAtVCv6UkVQwo10q6p+7u4RBX0p4+IXM4rCpOyo6zTFpbW8PLpgzJhcrqN3r1M1szVNWY4c1qCqBfUAEJERInJVLBb7TusPKwghJGT69evXWUSuzFQyQURGGWP2z72n5hME6BwEmPzFF11nxePejOR2GGP+0BptyJNTALyFzKLwPgAQkUuLYLDRIayNCcI5amPw6tS6YH6qVgSu1FYoLJ/BRovI3WrjXxc5IdgqWUwbY8aYFzzP+2XqD1JVDxeRmWG3rz2a69/Q29HObZaqfqpp3DZFJJGNNOFG+pkWVhx9kNoGTSMK1YrY7UTh8OEPL8k1Szhy5AMrcxwjky1t6XMVkVdUtX9FRcXBrTR2IISQ4kNETlfVsVlumP1bsz1BgJ8GAarfeaf3i6ltKS8v368125IH5yCzIKwGcBsAqKqEPNDoENYGBOEsVV0oIqvcm/7FarOH1qpNx95qyWLS2HBjzES1Batr1A68iioeT0SmGGOuiUQiGWuQquqtYbezPZrr29Db0UFsntqXQxndSFV1o9q42UK6UX6Qpg2ZROF/Y4p9X6ufeOLetblEYWXlkIWqWpPlGJlcR5s9Q+o8dx7yPO/USCSyU6EHCoQQUrR4nnecMWZ4phumewt/Umu3KwjwcBCguqrqrhdS2lTZ2m3JkwuRXRReV1paureqTiqCgUa7tiIWhO+pzRK6zr3Z/1hsIeoaVV2kIWfqdPHC89TOTq7UcIVpuvbNNMZEVLVn5p+hZeLEiV1U9Ymw29zeDKAgbG1zrps7uFWmupGqLWVRqFp9C1OPr3mIwrKyx97O5To6ZszdDb7vfZBl/y2eYMYYM9z3/QvKy8u7F25IQAghbYDS0tIfZYoTTHoQ3VJRUZHxLXyhCAJ0CwJM37ixe7WqmZVyI7+wtdvTCK5HdlF4oed5fcIeYLR3KxZBKLZY+0LdJgJXqJ0JXO5mBpcUQXKW+SLyjlrxt1TtoLLVYxbz6MuysrKyRsXzxGKxXiKSrn4prYkGUBCGZLNUdXGG2n2bkuL5Pld7vylE9t+8RWHy8YcNG7Q41yzhqFH3r04uG9MI+zRLe7czEXlJVf+sqt9s2cc+IYS0MYYMGdLDGHOFiIzLceMcraqHh9XOIEDfIED1jBm/Tk0mM6OioqJHWO3Kk9uQXRT+3Pf9fxTBAKPdWsiCcIHamMDVat/irxJbQH65WrG1TItDcM0RW9x+oXM3q9UirNsnIuPi8Xjvpv4YVfWUsM+hPZnr09Db0VHNCa3lmsGNVFW/UCsQ1ztX9JZuw6I0x04nCuuSReGoUffV5OE6+mmWfWezjLOiIvKGMWaAMeZ/EU7dYkIIKR5U9RQReTCPh824dEkaWpsggB8EqB4x4oHUchOPht22PHkImQXhjN133/00EXk87MFFe7VWFoQL1NYKXO0GYesS9QLdshq1b7EL5crVWJulqp84kfphUvtCLyyfbCIy0RhzSSQS6dLcH6Mx5sawz6e9GEBBWCS2QK3LZDphuDWpTEWdczltyWPnIwo3q3VznaOq1fF4bN6YMZH12V1HI+t936QTu7msXnasO1opIufHYrHdm3v/IISQNo0xZn9VvcEYkxqDt4OJyNPGmHOKIag6CHBAEKC6tna/aantNMb8POz25Uln2JITmUThm0cfffTpIvJaEQws2p0VShC6N97vatIMoLrsoGpF1TK1mUKXq51tK6oYPFVdZIypEZGPxNY1XK5J8T5FYtNV9dZoNLpHS/4glQmdWsRcX4beDpo1N7vfoDuKpI1qZwu3qBWJq7Vl70fZ6gd+rqpfiMh2orCy8pEP83Adrc1wPrkSzKwyxrxgjLkxHo8f0JL3DkLCoieAADZrYTY2w2UubKfsCWAUgHoASwBclcc2Mdi+65Wy/Fq3/JE029QAmNL0Zm7HhQAub6F9NZpIJNJNrXvUzfnW4RKRUSJyVlhtTkcQ4C9BgOoJE659JqW901R157Db1wi6whanzyQKp1588cW/Nca8Ffagor1ZMwThXLWlHt5XO+D5xMX91bqZv1q18TlLnX2mVhx+ovatebEJwIQtUOsSutydzxoNr6RFRhOREmPMwYX4MVZUVPRwMUShn2dbNoCCsAhttqp+punF0mbdJs7Wawt6Azgx2ihROHLkA6tyicKKipJ0mVWz2XJVfc8Yc1kh7h2EhEW+gnAUgL6Fb05oDAWwCMAvAdwD4EsA38uxTT/Yvkvtlyq3fF7K8kPd8nub21jHOACvttC+slJeXr6f7/s/VtWLVfUOESlrzI3cGBMpKys7qjXa2hiCAF2CAJO++GLn6rKy0u1qD4rInWG3rwnsBvtbzSQKJ9555503F8GAol1ZGkH4gdp6eh8lSjy4QcRqtUJpnRtY1DkXypVulm+ZMWaZMWaZJrmAOiG4UN0gp4htnjuXNWpnLte6JDdht2s7E5Ex5eXlxxf6xxiNRr8tIlPCPt+2bAAFYbGaiLzt7l+53EjrW+o+0AhRuFZV5/i+N2fMmLsbcriObvB9k84851fzAAAgAElEQVQdNtnWOJf32UltmeH7/gmFvo8Q0lrkKwjbOx8DSAiATgC2Ajg/xzb7APgKNn4rQSfYWcDJ7rNvJH12OWxf/6wF2gu0gCAcOHDg14wxB/u+f4KInO153u9E5BZVfUhEhqrq+GbcvMd6nve70tLSvVvofFucRDKZ+fN/toObaxsuFvt1AE8hsyh85ZFHHnk07MFEe7JUQegE3WduVu9TtZk+l4jIEmPMksTfaouvL1bn+qlWOC5S1QUFytpXKJvrznetO/daJ4SLLU7wFWPMb9CKyR583z9BrVtq6OffFg2gIGwDtkht+YdUt8qNThRuVRvrV6Oq85t7PHdvyVcUzh46tOT9PFxH61W3z6gqIvXuPp3RE0NEpkSj0W+31v2EkEKSEITXwgqMjQBWwoqc5OD6VJfRLgDuBvApgC0AFgC4MmXfmwH8HcAwAA0AVgP4B4ATAbzpPl8MO9OWoBuAIQCWAtgEO2v3D2z/AD8KwMsA1rn9PgvgkEZ8no5JACa6//eBFXPfzbENYM/79aS/fwjbn6fBisqLkj4zsH21K5p/nnPdcRKWqJN1A4APYPt2PoBLUhtcyAQYzkXqZs/z8um70AkCVAUBqkeOvO+VlPMYFnbbmklPAC8igyjs3LnzM4899tjIIhhItAtL85taoVbgLVUr/harHTS9p6pva/HP9OVlIjLXJYtZLyIrRGStWleyYju/aS7Ry25h/BhZ+qXpBlAQthGb5cRTuni7zWrjCze7ZUvTJGVprH2S7li6oyisVdXZjz8+YHlu19HBtZrkEtqItrwci8VSQ4cIaXMkBOFGAGNgZ7Giblksab1UQVjulv0TwG9gxc2XAG5J2WYzgAGwQqnU7bcBwB8BHAPgCVhB9HW3TSmANQCugRVm/3T7vdZ93g1WRI0HcDaAi2FdM+fDiqlcn2fiHNe2Ctg4wnyzS8YAfI5t4vlvAGoB7AQ7S1ietO5ct6wlzvMIWBE7A8Dx7vh/hxWyUQC/BVDi/v5DcoNbWBBOEpEhInKp2rIRbSbNchDg+CBA9erVB01NPS9jTHuYMf8m7AxyWlG4++67PxWLxbKWA6HlZ8VSh7AVbY7aQd06EVnphOBKbYG3/y1tIvJARUVF6IM1Ebkq7L5oiwZQELYxm6fbEmClirQtLiPoRhFZp80vO5OtbMTnqvqfbaLQzB0z5p76TGLw1VevWbNw4YkfPv74/U3yihKRcdFodJ+w7zOENIeEIHwyZbmBneFK1GBLFoSHu22uT7NNA4BdkrZ5PunzA912JmnZCW7ZT9zfz6fZ7wwAcff/Y936pyd9fjSAsbCiMtfnmTgadgYzgBVx+QqbRBzhD93fr8DGEAJ2xu9T9//dAfwHdlYVaP55Atu7jPaE7e8hKfscDiss/0szB68jVfUuVe0nIkfk7p7iJQggQYDqZ5659bmUc5w0ceLEZqeeLxIOhZ3BTisK99prrzHGmAlFMIho09aBBOEcVV0iIg2u1MVaLdKEMapaWVpaemSIv70dMMZEiqBf2pQBFIRt1N5Xm9wlrRupqm5VK9pqtXn3j7SzkpokClV1k6rWDB0afS9ZBD777F/q5sw589MNG/aaFwSoDgJUf/559yllZaUTm9IWEXmOM4WkLZMQhKnxcr3d8lPc38mC8Eb3WfeUbX7hlh+XtM3fkz7v4T6/LmnZUW5Zci26nWATuvwSwF8ArAdQ6T7bA3Zm7RPY2cjjsL14y/V5OvrBunK+DJsBdA2AbwE4GMBoAPtm2TYRR3gDrBDeCDvrBwA/dud2KGzcYADgpy10nsD2gvB8bN/3CX7rlv83LXLq4FVE/q2q40WkSm0tnagrZH697/sXxOPxn8VisVwJdtoUQYCjtpWakNQ4p/5ht6+FORrANGQQhQcddNAoY8wOs6S0/K0DCMJ5al1B68UWvl+rNk6wpeuNtYSNV9UzQ/y9ZUVESoqgj9qMARSEbdgSNUi3i81ztkm3L1OxXJvuap63KBw58oHF06adv3z58kPfTYjAVFu69LtPN/WcjTEvsAwFaaskBOGpKcuPxPYJUJIF4b0A6tLs63/dNj9O2iZ5cJ0QhFckLUsIwoSL3hWwQigAsAx2Jm0ptgklwAqsoUnrrcT2rqq5Pk9mD3cuw2EFV08AHwF4123TgO1jKdOxAMAIbBN9B7vlXWDj/66HFcabYV1BW+o8kwXhDW6d/6SxANY9F0DaGcJpqjpJVSe4GoLPqOpYVX3CGDPcZRR9VETuNMb8QUTON8b0Li0tPbKkpCSbWC5aggCPZZgdnNbS9ciKhJMATEcGUXjsscc+oUx80WRrx4LwHRFZYYypV5s9dK3at/6LiqBt25mITPZ9//dVVVVdQ/yd5SQSiXQRkWjY/dVWDKAgbAc215WfSetGqlYYblJbD/DjphzDZWLOJgq3iMhnQ4c+NvKrrzqNzSQGEzZz5q+rmnq+7iX798O+1xDSWBKC8Lcpy89wyxPZk5IF4d9g491Sa7Rd7LbZP2mbxgjCw2AFjA8gOTPlW9heKCXoBCt0ErGJvRv5OWCF8HaCCTY+bx3szF8+yUViAD4E8ID7N5lnYTM+joeN+QNa7jyTBeFl7rOzYfs01RJCtFBJZSa4GoMlLnlDX2PMsWVlZXvl0X+tShDgsCBA9dq1+01TNann0d5mB5P5GYCZyCAKTz755OGsUdg0a4eC8D1VXW2MWetiBBMzg0U3I2iMeUtE7vQ8b88Qf1uNgqIwfwMoCNuRLVDrZp6rTEWdqr7bhP0vS9lvndoZyrmqOs/FLX5QVRWpCgJMyyUKx4/v/1Qzz7c9l2oj7ZCEIEwVPmWwGUA7u7+TBWFiJrBfyjZPA3gP21wbGysI+7r/J7sn7gErzird31fBJnHplrTOrrDi7ZI8Pk/laHfMX6Usf8QtfyDNNqkk4ggXYfv4SAD4M4C1sKUoIm5ZS5wnsL0gPMR9di2256+wbrCJ77GgWUbTmYhMVuuKeq+qXi0iZ8Rise/k0a8FIRE7+PTT288OisjUioqKHrn30KY5D5nLUVT37t27UkRmFPqaaG/WTgThHFX9WETWOBG4QkTq1bpjZUy7HrJpPB7PlUG6KHGi0BRBHxa1ARSE7dA+UjsbuIMbqYsv3KJWJK5UW9Im730bYz5RKwzTCcr5LhHWBxMnXvbSV19hVi5ROGZM5Mlmnuttxe61QEiChCCsg52BugDbsoxelbReapbRCbDulLfAirkhbpsLUrZpjCA8GDaWrwLA992yGbBiagKAXs4aALwEm930bFghug7Afnl8nkon2Jm5Ne5cLoBNKrPFbfcfWAGcjUQcYbqZ1iOwrTREb7esJc4T2JYw5lwAXWFnHNcDuN21YyBsYqBbszU+Eol0Ky8v715WVrZXLBbrFY/HD/A871ue5323rKzsKGPMscaY3iJyvohc5+ILHxOR0SLyalNvlCIy1RgTV9X+vu//whhzcI5+bjZBgNODANUrVnzn376/Q3v+VOjjFwlXIoso7NOnj6EobJy1VUHoUr8vUtXVIlKrdiC1Um2ihw+1yOoIJrX7aRH5SZZrvE2gqjtTFGY310+ht4PW4jZHd5zRS9hmN1u4WVXXqy0xkfFeJCIzRcSIyNnRaHQX9/I507pvJ0Thu++eMjOXKPzPf7pMHzHioRebea5j2+qLK9KxSAjCfrBJVTbCZsa8OWW9VEHYHYDACqktsOUQLkuzTWNjCM+DnWnbBCuSzoWt5fc5gPvdOmfAirjNsEJ2IoAfJe0z1+ep9IItubESVoRNAHAybAzgHNj+yOWO9A6sG2269ZZh+/jBljrP3gBWuW32hJ0FjAD4zG3zPoBWETmq+j/xePxoz/N+qao3iMjDIjKmsTdOEZmiqqKq/V3trv9pqTYGAboEAcYHAaqHDRv4WspxJw8ZMqS9zw4mcx2yiMLTTz9dKQrzt7YkCH3fr1bVD9wMYJ2IrFQrAuvUJo5ZEHYbM5mIvGaMubBfv36ds1zbbQqlKMxqro9CbwetYPaOK1ify420XlU/SN7WvRi6SlV7pv6u8hCFDaqPLVy27NCFuUThpk27Ta+sHNTkl99Jx71oxzsAIYR0EKLR6AHxePwkVb1YVe9QVXXCL9+b6Esicq+I/NbzvG81tR1BgGuDANUzZvw6NZFMtTHmihY85bbCjcgiCk855ZQqY8zMIhgwFL21AUE4S+1garmI1BtjVruYwHq1NcMWaZHOBjqbLiJ/icViu4f4eykYzn004wC2IxtAQdhBbJGL8UsVhokyFVtU9XOX5GqQiByT63clIg9mOd7bItIwbNjDC2tq9l+ay3V048bub1ZWDmp2iSYR8VmaghBCkjDGHCwiZ4vILSIyVG2203xuqhNE5GFjzIWe530XedSMDAL0CgJM27hxj+nxeGnqzNf49jTj0EiyisLjjjvuec/zmH00hxWpIJyjVuglF45PzATWq3XDKtbYwGQbFIvFDgzxN9JqGGMu4cz89gZQEHYUcy7sSzWNG6kTi+tF5GMRmSEit+TxgqhTHqJw3dixd3y8bt0+K3OJwk2bdntz+PCBzXUfrVab1Z0JZwghJBOqergx5jcicqeIjMrzITJZVR81xlwRi8V+kG6/QYChNpHM355P3T4ej/du5dMsNq5BFlF4yCGHvFxa2rRCvR3FikQQzlLr7plIDFMjIsvVCsJ1agvIL9biLCK/g4nIKGPMsSH+LkLB9/0T1A4YQ/8OisEACsIOaPPVxjXXichilyW0WlVnq+pn7gXXu6o6QXMLq04i8kiWY70jIuteffXqpQ0Ne6/KJQq3bNntzeHDH3qpJc5TREar6k9ztJ8QQsjAgQO/pqqnqOqfVbVS86iVJyJTVVVE5DpjzImbN+96YxCg+p13Tt3hJi4iftjnWCRcgSyisEePHpMGDRrUIg/B9mghCcL5at2sPnMxOGvUuoR+ptsSw3ym1lW0mN1BU22CiJwb3k8hfKLR6AEi0uTi2O3JAArCjmQiMlFEblfV74vI6ao6Ps06b7sXXivU1jgcpaqHZ/o9RSKRnXKUeXlHVRumTeu3vKFhr5wzhVu3dn1z9Oh7m1ynMM35jI7H4z/L1H5CCCEpVFVVdfV9/wRjzB/Uir6p2W605eXRBVVVd2144YWbVqmaxSLyvnNLqRaRGRUVFQeHfU5FxPnIUqewa9eub95zzz3Phj1gKEYrsCCcKyLvichHaktArFbVWhFZpaor1M4ArhGRtS5RzEci8nbYfdJYE5GpInJdRUVFtyzXaIdh4MCBXxORkrC/l7ANoCBs7+ZcQKOqeqaqblffuqqqqqt73qcLKVmoqnXGmE+MMdXGmEim5HB51P5coKoNs2adtSofURgEmDF+/J/KW7gvRtJjiRBCmkAkEunispv+zg2eklytzOwxY+6pr6qKbIjHvXrdPiahVlWf9jyvT1sqaN0KnIUsohDAzOuuu67R2WPbuzVDEM5SG8e3QO1M3odqY/uWqxV960Wk1iWAWeH+XaM2BrDerfeh2tnC0PuhGXafMeYb4V32xYsx5hLNwzOivRpAQdheTUSeFJHL83kGV1RU9FLVQWn2M0tEljg30g9UdZIx5pJMeQHyEYULFvRek4/7aBCgeubMc1paFFaLSJWInM+XY4QQ0nQ6+b5/mDHmwgkTrp09btyt6yoqBtfpjgHqtSk34KdV9S5jzDnGmP3DPomQORNZ3EcBVP/sZz8bkWt2tiNZqiAUkSVqkyN8ptaNc4VaN85Val0760RkvbseG9z1uEpVl4nIZ8aYZW6bNcaYdc4ldJnaGMAPtO0LwMTvriIWi30vvEu9baCqh4tIh5ydd+cfejtoLWMi8m8R+b/S0tIjm/JbMMYcKyL/SrPveWrjDteoLUD/r3QxyJq7zMu7ItLwzju9axoaeq7+6qtOs3OJwqVLjxgRj3stkWwmta8mq+odvEcSQkgTCQL0DwJUL1lyxIsiZr7aWZRlum0gnjW7ojHmBVW9X0TOb06pizbMKQCmIYso3H///V8oKSlpdm2m9mBpZgiXGWP+ay7O779mjFnhBi81btavRq1gXKZ2hnCR2rfVc8I+t0KYiDwrImeEd3m3PSoqKroZYwaE/d21tgEUhG3dnEtoied5fSZOnNilub+Ffv36dRaRS1X19TTHel9V17pZw9kiMjDV+0CtKCzL0ua3RWTdvHl9atet61mbjyjcvLnbiyNHPji0gH34L9/3/+j7/mHN7T9CCOkQBAH6BAGq6+q+McX3YzvEHRhjLvN9/xdqayKOzfNm/KqqDnJp4Y+IRCI7hX2ercC3ADyHLKKwa9eu02+//fYOn2wmjSD82MX8fahW3H3gBirvqRV689VmzAu97a1sE1T14pYYFHZUjDHnSCPquLZ1AygI26qJyGgRuTRTXF9z8TxvT2NMRERS6+XOUtVPRKRO7f13mqpeW1VV1TWxbTQa3SWHKJynqnXV1b+sra/fZ+2XX+40Nw8X0unTpl0Q1fxLaDW1X19T1ceMMTfG4/GfxePxAwrRv4QQ0mYJAhwWBHhjy5Zdp1dWDt6hiKyIPJy6TTQa3UNVf2qM+auIPG6MeSuPG/JkESn1ff/3xphjNSUQvh2xOwCDHC6kZ5999iTP89rlbFY+ViRlJ4rZXjfGXDN48OBdQ7uS2xHxePwAVZUi+F4LbgAFYVsyEXlVRG7RLFk/Wxq1LtXpylTNdbHXNWrLSzyXnM0zGo3uojZ7eabzmaOqtW+8cf7aurpv1H/5ZZd5+cQV1tfvO6qycuCwVu77ScaYuIj8RVX7qeopnud9KxKJMA6RENKxCALsFwR4IQhQXVV1d7pU1VX5BGmr6m6+7//YGHOjiJSJyJt5PATfMMbEfd//YzweP6mdDXw7AfgzcojCAw444M3777//32EPSMIwCsKMNk1V+0ej0T1Cu3rbMc7TYYcXX+3JAArCNmDTXa2/n0YikdBm/1W1r/PmSW3fApd0ZplakaeJWbXBgwfvqllerji30zXPPPPXmjVrvlm3Zcsu7+UjCoMAb7z11q8eFTGvFcH3U62643MqrO+JEEIKRhDgG0GA54IA1S++eMO4NDf1ieXl5fs1Zd+qurPnecep6tUiEsvHXcvFTIxQ1ZuNMb3Ly8u7t/Q5h0AfAFORRRR26tSpum/fvs97njcj7IdfmA/asNtTBDZdRO5U1Z7hXa4dg6qqqt1V9Y40bnPtwgAKwmI1Nyt3cTG98InFYrur6q0issMzyLnx17l/p6vqzaq628SJE7to+gymyduuGD78wZrFi4+p/fzzPT7NUxRWf/757s889dTtRTGbT0FICGnXBAH2CQI8GwSofvXVq9LNDM6Ix+NHt9TxIpHITqWlpUeKyKXGmMEiknNWTERmikiVqt4mImeVlpbu3VLtaWUOBPAv5Jgt7NWr1+QBAwY8H/YDMKwHbdjtCdnuYkxL6yMiR7h7TNjff4saQEFYZDbBGPPXYk9uUlpaelCGGME5arM/r1Ubz/2yiPwKAETk3hzn/rGI1M+Z8/NV69btU5NnXGF1EKC6puaAx0eMKFzSmXyMgpAQ0m4JAuyVEINTp164w8ygqlaLyLmFbkcsFvuOqvYTkQdEJN8kK8+4gPhzY7HYgYVuYwuyG4CHkUMUAqju27fvU57n5XS5bevW0QWhiLwoIlcVKnkEyR9jzIUiMjHsa6KlDKAgLAKbrqqDPM87LVN9v2JFRM4QkR1eTorI2y7L8woRmSsiI8rKyr7jYvAy9oWILBCR+tdeu3JVXd2+DVu35u1CWh0EqF68+JiKYcMGhlLLl4KQENIuCQJ8M+EmOmPGuZlqdF0fRtvi8fgBvu//WlX/KSJphWqaB81LIvKg7/sXiMihYbS7kVwCYDpyiMLu3btP/utf/zq6vbq0pXvQht2eVrRyETmjrQ0S2zsDBw78mqr2F5E3iuAaaZYBFIRhmUuydmFbD3mIRCLdfN//Y4bfwyJVrVPVT4wx1SJyp+d5f8rRN3NUdfXYsXfWrFz5rYYNG76+9KuvMKsxwvCzz743+okn7h7Vms9FCkJCSLsjCHBMEGBiEKB62rTzns5wA7wh7HYmKC0t3VtVz1TrMjomn4eAiEwUkSG+719WVlZ2VJEOug8D8CTymC389re//fTgwYPbZXHtjiQIXQKlSCwW+05YFx3Jj5KSkn1F5IGwr5nmGEBB2Mr2sqr2r6ioODjky7fFqaio6GWMGZx6ziIyW1WXuMQzH6jqJBEZkkdffVJZOaju3XdPramr+0Z9IxLO/NfWrDnguWeeuWWEFrhUhSoFISGknREE+EkQ4I0gwMzx4/+cyU30prDbmY3y8vLunuedpvYt/jC1LjlZb+YiMtUY4xljrhGR45NrKhUBVyEPUQig+le/+lVlLBabVAQDn4I9aMNuTyFMRMaJyOUVFRV0C21jqOrhmj29ftGaa3/o7WjP5jJpP6Sqp3SEGrvl5eXHZ/Dcmaeqq40xq1V1nnspmytB2ruqWvfiizesWrHi2w3r1++14quvdprTWGG4dWu3V6ZMufjRePyxfxXqe6YgJIS0G4IAlwYBqrds2WX2mDH3pJ1tKnYxmI5IJNLN87yTROQ6EfE1v7eF00VkqDHmRmPM/6rqbiGfxsEARiIPUditW7cpl19++VDP89pFmYr2KgjdS4iIMebYkK4p0oKo6g9F5OE8BrlFY67dobejPZoxZriq9ovFYruHfW22NpFIpIvneb8Tkclp+uYDEVkrIktUdb5aoTg3S1/OUtVPysuH1M+bd2ZNXV2vhk2bdv+osaIwYUuXfu9fL710/ciyssdeb8nvm4KQENLmCQJ8LQjwSBCguqGh5+vDhg1+Od0NT0SuDLutLcHEiRO7xGKxH4jIlar6mKrmfDAYY95S1ZEicouInP7ggw9+PaTmXwhgEvIQhjvvvPMrv//974eodVMKfYDUUg/asNvTXBORESJyvob/koEUAOdK+icRKZoaaZkMoCBs4d/2S6r6Z1X9ZtjXYTHged6eGbKLzlLVT9TGFy4SkY9EZLFbnql/56nqqlGj7ln70UfH19bX96z94ouu7zRVGAYBqpct++5Lr7xy7VMVFYPyTVaX0XIIwrkAAgCPZuiqo93nAYAfNKKLLwRwedLfmwHc1ojtCSHEEgQ4OAjwTBCg+qOPfjChrMybmuYhN1NV+4bd1gLSSa3b18WqOihD8d10NlZE7hSRsysqKnq1Ynv3AHA7gLeQhzDs2rXrs5dcckk0Fou9HPaAqSUetGG3p4k2QVVvKysrY2xgB6Gqqqqr2mLeo4vg+ktrAAVhc83F/Q7wff/HADqFfNkVJa6UVLrsn3NVdYWI1Kjqh6q6RkTez9Hf76tq3bPP9l+1dOn36hoa9l69desu7zZHGAYBqjdv7vbK++//qPyll643FRWDKo0xLzTmOshTEC5F+mskgqYJwnEAXk36exSA9jxWI4QUgiDAr4MA0776qnP1xIm/eyXDjW56PB7vHXZbW5t4PH6IMeY8Vb0vXVrtDDZeRO41xvzGGHNwKzTzWwAqkWd8YefOnV8/66yz4kOGDHkq7EFUcx60Ybcnz0HiVFV9zBhzSTQa/XYrXAukiFH7wql/I+4lrWKubaG3o41apTHmvI7oEtpEOhljzsswc77AuZEud+JwtdoZwUx9/98Zxhdf/OOqTz89qm7dun1qtmzp9kFzhWGSvbp5826lixcfPeSNN/qWvPDCnx4bPToiQ4cOrlTVsZriWZSHIKyGFXw/StM3bwOYjeYLQkIIyZ8gQK8ggAkCVG/YsPfs0aMjaWPqRGSq53nHhd3eYqC8vHw/z/N+6WYE8w1MnyAiDxtjLlTVw1G4t8d9YB8MeQlDANVHHXXUsEgkMqwtxDu1BUHoZtFHisiffN8/QVV3LtB3Tdo4vu//QET+T+2scajXLUBB2BgzxrxgjLkxHo8fEPZ11FaJxWK7q80Inu7Z87Gq1onIShFZ5+IMs7mRzlbVT0Rk3fjxf1798cfHrF237hu1mzfvurAFhWEmGx8EKNuwoXtFXd2+I/IQhCMAvA9bZziZw2CF4F3YXhB2AXA3gE8BbAGwAEBy2E5i1jFhPbGjy2iufcBtcxOAOIBaAJ8DeAoAE5wR0p4JAlyTuKG9/fZPZg0dWpLpZjterYghaaioqOjheV4fVb1VREa5GMNcA4pJqvqoMeYKETkmEol0acEm7QTgHADPohHCcO+99372xhtvHOZ5XtFmJi1WQehcoG71PK9PiDGlpA0Tj8dPUtXbVPWZMK5hgIIwj9/5VFW9z/O8k0CX0BYjHo8foumz885R1eUiUiciq1S1XlUX5vieEsKw4ckn71gzb16fVbW1+9Vt2PD1pV98sXOz4gzztTwEYRWA+wF8lPLZ7bCC7RxsLwjLYcXaPwH8BsAQAF8CuMV9fgRsPoEZAI6HFX+pgjDXPuA+3+Q+Owo2LnEzgMGN+T4JIW2EIMCJQYBxdlZwz7njxv3tTVXJJAYfHThw4NfCbnNbwhWrPsUlk6jQPEpdqM12qiJynTHmxGg0uksLNacfgJfQCGHYuXPnyX369DEPPPDAyDzFbatZkQjC6a6ESX/P806jmxhpaWKxWC9jzG9E5MHWSkgDUBBmsXJV7atM/lRQVPVMl4wntf/fUdVate6ja50r6YIc39lsta6kDUOHDqmZNOmylUuWHFlXV7dP3caNe3zyxRdd5ocoCMcC+CGs6EvOLF0NoATbC8LD3f+vT9mPAdAAIDFWSHUZTRaE+e5jM4CJKes8CWBmpu+MENIGce6hAxM3rfnz+8wcOjSaVgiKyAxjzBVht7k9UFVV1bW8vPx4Vb1WVcW9Zc4pOlS1UkRuEpGfNFN07AzgIgAvoxHCEEB1jx49Jlx00UVVgwYNmlgEg7JQBKGIjBGRB40x13ied1IkEunWjO+CkEZTWlp6pPMmGJCTV6UAABH5SURBVKjWY6PFr3OAgjDFxqvq9eXl5fuF/f13JCKRSDdjzI2uZmPqd/Khqta5+oUNIrJCs8cXVqt1M12oqitVdcMTT0Rq33jjvNVLlhxeX1/fs3bjxu6Lt25t2ZnDPAUhAHwM4D73/4NgRdup2F4Q3uj+3z1lP79wyxOhPNkEYb772Aw7S5lMKYCFmb4vQkgbIgjQNQhwXeJmtWLFt2eOGRN5I8sA+CXWQysc/fr166yq33e1mUrUuo/mEiUzRWS0iPyfiJzhed6eTTj0LgAuhX1oNEoYAqg+9NBDp1988cXjBgwYEFoyjEIJQlcYucL3/X+IyOWe550ai8UOBN3CSBFSXl7e3Rhzoud5vzPGDBCRcS52tcm/AYCC0L2su8f3/RPC/o47OuXl5fsZY7w039MstS6h9SKyRkTWi8gSEclWvzDx/c5W1UWqukpVN1RV3VU7ZcoFqz/66Pjaurp9161fv+fyzZt3XdSUgvdNFIQDAbzn/n8zgJXYFvKREIT3AqhL00X/69b5sfs7myDMdx+bAfRPWacUwIdptiWEtBWCAHsEAS5zAc/VDQ17z3juuf4vqZrZ6W6Wzj3w1sGDB+8adts7GJ183z/MGHOhiDyoedYKFJFxvu//wxhzjjFm/0YcrxusMHwFTRCGsAXvJ5988snDbr31Vs/zvLGtNWBrrCA0xrzlXnAMF5FHVPU23/d/b4w5p7S09EfxePyQqqoqunySdoGq/o+qfl9Vfyoi54vIdS75VYmqlovI4yJS5QTkiyLyWsJjwW0fuigLw4wxcd/3f81nX/Ghqj/V9HG1c0TkMxGpM8asUFvHcLmIvJ3n9z5H7YzjSlVtiMej9c8/f9OamTPPWb148TG19fX7rP38868v2bRptw+3bt3l3S+/7DKvAILwJFhBdiSAqQDELU8WhH+DjfVLTU52sVsn8ezPJgjz3QcFISHtiSDAUUGAuxM3py1bur3x+uuXjfV9b06Wm+NI3/cPC7vtxFJaWnqQ2rpld4vIc/k84ETkRVW9X0TOz7O8QRfYrKSCJgpDZ2907959xGmnnRa9+eabS6LRaIWITC7EwK1IYghptHZnQMcShCLyrDHmD61cN5Y0ERG5NEM87XxVXaY2tnCl2sQzq3PVMExjC1R1sdo4xQ0iUvPUU7ctnzz50hVz556xevHiY2tWr/7m+vr6b9StW7f36g0beny2cWP3TzZt2v2jzZt3XbhlS7f3t27tuuDLL7vMb4Qg7ARbj9DACrYz3fJkQZiYxeuXsp+nYWcXE14s2QRhvvugICSkrRME2DUI0C8IMCohBNev33viyy9fXxWPxzK6h6rqJN/3Lwi7/SQ7qtpTRM5S1TtE5Mk8Bzyvqeog9yA9IhKJ7JTlEN+EdVn5N5onDhP27GGHHVbWr18/77bbbisfPHjw2DxjJ7MaBSGNVhhz95nQ21FIE5EpxpiIiBxfgNs0KTCqupub9U73LJktIotFZK1aQbhWrTj8VG3R+8ZcK7NU9T237Uq1s48bRKRu2LCHVj/99N9WvvLKtcunTr1w2ezZZ698991T1yxadNzaTz/9ft2yZYeta4QgBIBHAXwFYC22zeClZhmdAJv85Rb32RD3efLYbTisuDwXQFfsmGU0n31QEBLSVnGzgXcFAaYkhODKlQc/P27cbVWqmTNEisgbqnpzeXl5apAxaQNEo9E91LqF/cW5geWsISgik0WkVESuMsYcq5nr450E62LSZJfSDDZ1//33rzr11FOHX3nllaPuuOOOpx966KEXHnvssVc0pbBvJqMgpNEKY0C7FoTi+/4vKioqmBCqHVBRUdFDVW/VDBm8RWShiNQYY9aKyBpVbVA787fQxRE26Tpy7qgfqI1hXKGqa1zG01q1orFeRBorCH8CK8yGJS1LFYTdYT151sDWEJwP4LKU/fYGsAq2duCe2FEQ5rMPCsICEqTYFwDeAfC7PLZN/TKLmUrseK7JljyNXQPgzhY+/oUALs+xTmP7M3X9fI5RcIIA3YMAvYMANwUBxiTNBv578uSLRg0bNjBrwg8XJ3hPSUnJvmGfC2k5Bg8evKuInKyqN4hIWYYMbakPtzdEpMz3/T+KyMkZ4meOAHAdgFFoWXGYzl7q0aPH2IMOOmj40Ucf7Z9yyiklZ5xxxqCzzz675Nxzzy0977zzlIKQRiuMAe1HELokXEONMRc2MQEXaQOUlJTsq1YYTstwLbytqstcYfsaEalV1fUuGc1i93mLX385BCHpoKwHcHWS3QRgGnacpk3HKAB9C9q6lqMSwDpYAZXOLkxatxCCMNV3Oh2N7c/U9fM5RosTBOgZBOgTBLg1WQAGAarr678xYerU/zdyxIiBeaUhF5FH8owtI+0AVf2hql4tIqVZHpjbmTFmuDHmr8aY3mkGUvvC/pY9ANNReIG4g1EQ0miFMXfPCL0dzTERGeH7/mWq2rMAt1RSpESj0T2MMdeIyKsZro05qrpYRNY6cbhWROrVuoGuU9Xlamf+mjx7mGwUhCQdNWmWdQPwCYApGbbpBJvsIQyaeuxKAJ/luW5rC8KW6s+CC8IgwH7OBfT8IMB9ieygCfvii51nLVp04pPPP3/jqIqKIS/neXOaLiL3xuPxQwrZdlLcRCKRnUpLS4908YSP5Fvs2iWqGeT7/u89zzspqR7i1wD8HMA/ALwACkIarU0b0PYEoYi8KSKlvu9fQK8XEo1Gd3HZup/Oct3MU5dd1BizzrmUJmIONzgX0E9U9d18SlmkMwpCko50ghCw/sPLUtb7MwCF9f/9DnZ0WdwM4O+wfsYNAFbDDsZOBPCm+3wxts8i1A02cHQpgE0AFrltkmtrpR77OVg/5M5J63SCFXzJPs7JVKJ5gvAGAB+4c5gP4JKUz3cG8ABsn30O4C0AZ7vP5mJ799Seac4pXX9m2ydS1k89xlPIo48GDBgQeeihh/750EMP/fPJJ698LghwSxDgH0GAB4MAjwYB4kGAfwUBXk+Xurim5sDqBQtOe37ChKvHjBx5/9OqkraIfBb7m6r+T+avgnRkRORQVe1njBmgqhMaMQgbJyIPiMilnucdV1paujeAA2Bn1O8H8DIoCGm0NmVA2xCEIvKKqv5TVX/KmECSidLS0h+p6qA8rqkFzn10pROHNSJS62YR14vIerUxgitFZImqfqy20P27LqZwh+ztFIQkHZkEYcLdKnm9VQAmAbgewB5ILwg3AxgA4IewgZ4BrDj8I4BjADwBK/y+7rYphQ0gvQY2vfw/YVPbXpvl2P3cfk9LWufHbtnPM5xPJYDlAHplsOTkFamC8O+wGZaiAH4LoMT9/YeU/W8CcBesWHwRwH8AHAUb4zQJwAwAx8POBubTn9n2iZT1U4/xa+TRR6k3hXSib926faYsWXLUhHnzTn9xypSLXnr++T+9NmbM3VPKyx9rkm+7iFQYY85LmskhJC+MMQf7vv9rl4Uvr0ymSdfdFBGpEJG7fd///fXXX9/36KOPPh/2t3UX7O9tMigIabSiNKA4BaFLhlXiXkB9txVviaQdoKo9jTF/EJFn87zm5qstXr9UXdIY3/dXi8gqVV1ljKlJuJumWL1a4biKgpCkoxbbC6PDYd+gB7CpXxPUwCabSZ5xSicIn0/6+0C3H5O07AS37Cfu7+dhBVEyMwDEsxx7Z7csmrTOYOw4I5ZMJbInlTkp5XgJQdjTndeQlP0l0ucCwPfcPm5O+ryba8897u9Ud85c/ZnPPlP7P/kYefVR6k1h1Kj7Xh82bODr5eUlU32/NG12rCbaeBG5Lh6PHwBCWgiXqOZ43/cvczOC45p4fT4jIjEReSASidx99dVXR84888wHjjnmmEcOPPBA06NHjxG77LLL0506dco5s0hBSKMVxoCiEYSvG2M8tfHPx4R1/yPtD8/zvuuuq1GNvCbnicj7biZxqYisEJE1xpjVLkFNrbMaEamhICTpyCSQxsMKkAQ1AB5M2TaTy2iCHm5f1yUtO8ot+2XSsp1gBdAvAfwFNtFNZY5jG1j3x4Rr6aews42ZqISdiTwrg309ad1kQXi+a+9xKfv7rVt+AKw7aQBg/5R1egHY2/0/nSDM1p/57DObIATy6KNCDV4Tb0xV9WImiSGtycCBA79mjDnRGHOFqj6kqmNbekA4ZMiQ6Xffffebt9xyy/T+/ftP7d+//6Sbbrrp1ZtuuuklCkIarTAGtK4gdBmvnxKRB33f/72qnsI4QNJaxGKxXiJykYg8LCIvtcA1PVdV31HV9ygISTrWYXthdAaAdC4P6eLq0gnC5PogCUF4RdKyhCA8x/19BaxQC2Bj5Z6HnXmrzHHsU7BtZu9E9/8fp2l3gko0LYYwIcz+k8YCWDfYe2DdXDvtsKdtpBOE2fozn33mEoQ5+6ilBq8i8i8RGaiqVxtjjs3SZkJanUgkslM8Hj/AGPO/qnqxiNyuquIS0rToIJKCkEYrjAEFFYSTjDFxtSUC+paWlh5ZVVXVNex7FyEJYrFYL8/z+qjqzSJSpnnWxk1nFIQkHZliCNOt19KC8DBYYeVj26wXYJOnVOY4difYTKgDATwMm6wmm3iqRNME4WWuvWe7tqdaNwA3unX2SNnP8dgmrhsrCPPZZy5BmLOPGjl4nSAiw4wxA4wxNxpjzlHVw0FIGyYaje4iIkfE4/HeInK+iFynqneJSNS57eSdzCbdgzbsQTSN1l4MaLogFJGJIjJGVR8TkTuNMdeoat94PH6SMrEZaaOUlJTsKyIni8jlInK3qpa7pGqTs/0eKAhJOsIUhH3d/7+X9PkesLOWlTmODdjkNR85uzdH+yvRNEF4CGwCmWtT1vkrbFmOztgWF/n/kj7fE8AGbHOXbawgzGefuQQhkKOPBgwYEEnYoEGDnhGRi1S1r4ic5XneaeXl5cd7nvetaDS6S+q2hHQkSkpK9i0tLT3SGHOiqp7iBOQZnuf90v1mzlfViwcNGvT0oEGDnnW/qedU9VoajdZ8A4Bsn4vI5WpFXm9jzLHRaPTbynp/pANTUVHRS0SO8H3/BGNMbxE5yxjzm4EDB44dNGjQM4nxX9jtJMVBmILwYABbAFQA+L5bNsMdawJsvFymYyfvK4CdbcxGJYB61750ltzG1OP5sHGNt8PGDg4EsBXArUnrPAdgLaxYOxdWLC6HTUoDbEtCcy6ArhnOKbU/c+0zdf3UYwCN6yNCCCGEEEJIByNMQQgA58HWHtwEKwbPBXARbN29+7McO8H7sKnic1GJ7FlGP0xaN/V4nQFEYGcYN7tj/ill/18HMBRWdNbBFsI+Kunz3rAZPj+HnenLpz9z7TN1/dRjJMi3jwghhBBCCCGkzZAoCZFaJJ5sg31ECCGEEEIIaVd0A3AhgDGwmUmZCWxH2EeEEEIIIYSQdslesLGHH8OWySA7wj4ihBBCCCGEEEIIIYQQQgghhBBCCCGEEEIIIYQQQgghhBBCCCGEEEIIIYQQQgghhBBCCCGEEEIIIYQQQgghhBBCCCGEEEIIIYQQQgghhBBCCCGEEEIIIYQQQgghhBBCCCGEEEIIIYQQQgghhBBCCCGEEEIIIYQQQgghhBBCCCGEEEIIIYQQQgghhBBCCCGEEEIIIYQQQgghhBBCCCGEEEIIIYQQQgghhBBCCCGEEEIIIYQQQgghhBBCCCGEEEIIIYQQQgghhBBCCCGEEEIIIYQQQgghhBBCCCGEEEIIIYQQQgghhBBCCCGEEEIIIYQQQgghhBBCCCGEEEIIIYQQQgghhBBCCCGEEEIIIYQQQgghhBBCCCGEEEIIIYQQQgghhBBCCCGEEEIIIYQQQgghhBBCCCGEEEIIIYQQQgghhBBCCCGEEEIIIYQQQgghhBBCCCGEEEIIIYQQQgghhBBCCCGEEEIIIYQQQgghhBBCCCGEEEIIIYQQQgghhBBCCCGEEEIIIYQQQgghhBBCCCGEEEIIIYQQQgghhBBCCCGEEEIIIYQQQgghhBBCCCGEEEIIIYQQQgghhBBCCCGEEEIIIYQQQgghhBBCCCGEEEIIIYQQQgghhBBCCCGEEEIIIYQQQgghhBBCCCGEEEIIIYQQQgghhBBCCCGEEEIIIYQQQgghhBBCCCGEEEIIIYQQQgghhBBCCCGEEEIIIYQQQoqB/w9F/Zo/QCrDaAAAAABJRU5ErkJggg==",
       "scale": 0.0014035299417726457,
       "svg": "<?xml version=\"1.0\" standalone=\"no\"?><!DOCTYPE svg PUBLIC \"-//W3C//DTD SVG 1.1//EN\" \"http://www.w3.org/Graphics/SVG/1.1/DTD/svg11.dtd\"><svg xmlns=\"http://www.w3.org/2000/svg\" width=\"900\" height=\"600\" viewBox=\"0 0 900 600\" style=\"font-family: &quot;Helvetica Neue&quot;,Helvetica,Arial,sans-serif;\"><g class=\"sankey\" transform=\"translate(130,25)\"><g class=\"groups\"><g class=\"group\" style=\"display: none;\" transform=\"translate(0,56.5)\"><rect x=\"-10\" y=\"-20\" width=\"21\" height=\"482\" style=\"fill: rgb(238, 238, 238); stroke: rgb(187, 187, 187); stroke-width: 0.5;\"/><text x=\"-10\" y=\"-25\" style=\"fill: rgb(153, 153, 153);\"/></g><g class=\"group\" style=\"display: none;\" transform=\"translate(213,56.5)\"><rect x=\"-10\" y=\"-20\" width=\"21\" height=\"482\" style=\"fill: rgb(238, 238, 238); stroke: rgb(187, 187, 187); stroke-width: 0.5;\"/><text x=\"-10\" y=\"-25\" style=\"fill: rgb(153, 153, 153);\"/></g><g class=\"group\" style=\"display: none;\" transform=\"translate(426,56.5)\"><rect x=\"-10\" y=\"-20\" width=\"21\" height=\"384.3987572243802\" style=\"fill: rgb(238, 238, 238); stroke: rgb(187, 187, 187); stroke-width: 0.5;\"/><text x=\"-10\" y=\"-25\" style=\"fill: rgb(153, 153, 153);\"/></g><g class=\"group\" style=\"display: none;\" transform=\"translate(426,427.84875722438017)\"><rect x=\"-10\" y=\"-20\" width=\"21\" height=\"110.65124277561978\" style=\"fill: rgb(238, 238, 238); stroke: rgb(187, 187, 187); stroke-width: 0.5;\"/><text x=\"-10\" y=\"-25\" style=\"fill: rgb(153, 153, 153);\"/></g><g class=\"group\" style=\"display: none;\" transform=\"translate(639,56.5)\"><rect x=\"-10\" y=\"-20\" width=\"21\" height=\"482\" style=\"fill: rgb(238, 238, 238); stroke: rgb(187, 187, 187); stroke-width: 0.5;\"/><text x=\"-10\" y=\"-25\" style=\"fill: rgb(153, 153, 153);\"/></g></g><g class=\"links\"><g class=\"link\" style=\"opacity: 0.8;\"><path d=\"M214,61.7577578477109 A114.3590373714159 114.3590373714159 0.6544337530191264 0 1 283.61149932449143,85.38516572690821 L378.4709246794893,158.16360981500213 A78.08162952316687 78.08162952316687 0.6544337530191264 0 0 426,174.2958416964622 L426,176.2958416964622 A80.08162952316687 80.08162952316687 0.6544337530191264 0 1 377.25350451009064,159.75039528605396 L282.39407915509275,86.97195119796007 A112.3590373714159 112.3590373714159 0.6544337530191264 0 0 214,63.7577578477109 Z\" style=\"fill: rgb(153, 153, 153);\"/><title>Power Plant → Cooler\nHeat\n12.7m</title></g><g class=\"link\" style=\"opacity: 0.8;\"><path d=\"M427,181.94533336293793 A81.28289744512071 81.28289744512071 0.6149685319376743 0 0 473.894771218188,167.05362395860934 L594.481601876952,81.87828665037134 A77.16392030617897 77.16392030617897 0.6149685319376743 0 1 639,67.74120844798291 L639,69.74120844798291 A75.16392030617897 75.16392030617897 0.6149685319376743 0 0 595.6354675163961,83.51186985489764 L475.048636857632,168.68720716313564 A83.28289744512071 83.28289744512071 0.6149685319376743 0 1 427,183.94533336293793 Z\" style=\"fill: rgb(153, 153, 153);\"/><title>Cooler → Cool\nHeat\n19.1m</title></g><g class=\"link\" style=\"opacity: 0.8;\"><path d=\"M214,419.4169920030239 A72.69138045383951 72.69138045383951 1.0877112611349653 0 0 278.3730211959899,380.49173265282127 L368.19637947196907,209.2490563487367 A65.27307392672462 65.27307392672462 1.0877112611349653 0 1 426,174.29620065498432 L426,176.29620065498432 A63.27307392672462 63.27307392672462 1.0877112611349653 0 0 369.9675116418106,210.1780831712519 L280.1441533658314,381.42075947533647 A74.69138045383951 74.69138045383951 1.0877112611349653 0 1 214,421.4169920030239 Z\" style=\"fill: rgb(153, 153, 153);\"/><title>Transformation → Cooler\nGas\n499m</title></g><g class=\"link\" style=\"opacity: 0.8;\"><path d=\"M427,181.94479492515475 A81.28235900733753 81.28235900733753 0.6149685319376743 0 0 473.8944605757595,167.05318416714968 L594.4812912345236,81.8778468589117 A77.16445874396214 77.16445874396214 0.6149685319376743 0 1 639,67.74067001019974 L639,69.74067001019974 A75.16445874396214 75.16445874396214 0.6149685319376743 0 0 595.6351568739677,83.511430063438 L475.04832621520353,168.68676737167598 A83.28235900733753 83.28235900733753 0.6149685319376743 0 1 427,183.94479492515475 Z\" style=\"fill: rgb(153, 153, 153);\"/><title>Cooler → Cool\nGas\n748m</title></g><g class=\"link\" style=\"opacity: 0.8;\"><path d=\"M214,419.418772311516 A72.69316076233157 72.69316076233157 1.0877112611349655 0 0 278.3745977768112,380.49255962999206 L368.19795605279035,209.24988332590743 A65.27129361823256 65.27129361823256 1.0877112611349655 0 1 426,174.29798096347636 L426,176.29798096347636 A63.27129361823256 63.27129361823256 1.0877112611349655 0 0 369.96908822263185,210.17891014842263 L280.1457299466527,381.42158645250726 A74.69316076233157 74.69316076233157 1.0877112611349655 0 1 214,421.418772311516 Z\" style=\"fill: rgb(153, 153, 153);\"/><title>Transformation → Cooler\nLiquid fuel\n2.04</title></g><g class=\"link\" style=\"opacity: 0.8;\"><path d=\"M427,181.94749218619523 A81.285056268378 81.285056268378 0.6149685319376743 0 0 473.8960167141771,167.05538726731666 L594.4828473729411,81.88004995907866 A77.16176148292168 77.16176148292168 0.6149685319376743 0 1 639,67.7433672712402 L639,69.7433672712402 A75.16176148292168 75.16176148292168 0.6149685319376743 0 0 595.6367130123853,83.51363316360496 L475.0498823536211,168.68897047184296 A83.285056268378 83.285056268378 0.6149685319376743 0 1 427,183.94749218619523 Z\" style=\"fill: rgb(153, 153, 153);\"/><title>Cooler → Cool\nLiquid fuel\n3.06</title></g><g class=\"link\" style=\"opacity: 0.8;\"><path d=\"M427,405.8041543630573 A86.77638148563537 86.77638148563537 0.532538278924267 0 1 471.05825672790803,417.8208515406495 L596.7086387446029,491.8706129874842 A83.29633468045306 83.29633468045306 0.532538278924267 0 0 639,503.4053971386772 L639,505.4053971386772 A85.29633468045306 85.29633468045306 0.532538278924267 0 1 595.6931952339698,493.5936552030765 L470.04281321727484,419.5438937562418 A84.77638148563537 84.77638148563537 0.532538278924267 0 0 427,407.8041543630573 Z\" style=\"fill: rgb(153, 153, 153);\"/><title>Spark Ignition Engine → Motion\nGas\n45.6</title></g><g class=\"link\" style=\"opacity: 0.8;\"><path d=\"M427,344.6268012694737 A71.32020620105378 71.32020620105378 0.7935328900646668 0 1 477.83957073238213,365.92791251362183 L584.1958368394701,474.0287671620694 A76.8819280135186 76.8819280135186 0.7935328900646668 0 0 639,496.99099047174275 L639,498.99099047174275 A78.8819280135186 78.8819280135186 0.7935328900646668 0 1 582.7701659548666,475.4314298188738 L476.4138998477786,367.33057517042624 A69.32020620105378 69.32020620105378 0.7935328900646668 0 0 427,346.6268012694737 Z\" style=\"fill: rgb(153, 153, 153);\"/><title>Gas Turbine → Motion\nGas\n79.1</title></g><g class=\"link\" style=\"opacity: 0.8;\"><path d=\"M214,458.63851112637354 A111.91289957718918 111.91289957718918 0.7377181467645453 0 0 289.2727372068036,429.54174599875597 L370.62659935896096,355.5980884344593 A82.32725492846755 82.32725492846755 0.7377181467645453 0 1 426,334.1934352684236 L426,336.1934352684236 A80.32725492846755 80.32725492846755 0.7377181467645453 0 0 371.9718015204846,357.0780989562571 L290.6179393683272,431.02175652055377 A113.91289957718918 113.91289957718918 0.7377181467645453 0 1 214,460.63851112637354 Z\" style=\"fill: rgb(153, 153, 153);\"/><title>Transformation → Gas Turbine\nGas\n226</title></g><g class=\"link\" style=\"opacity: 0.8;\"><path d=\"M214,475.6143052070848 A128.88869365790038 128.88869365790038 0.5131181615487912 0 0 277.27097349484285,459.015768134056 L375.57302027901125,403.6265302370641 A102.72431705008357 102.72431705008357 0.5131181615487912 0 1 426,390.3974925575992 L426,392.3974925575992 A100.72431705008357 100.72431705008357 0.5131181615487912 0 0 376.5548127341785,405.36896634062055 L278.2527659500101,460.7582042376124 A130.88869365790038 130.88869365790038 0.5131181615487912 0 1 214,477.6143052070848 Z\" style=\"fill: rgb(153, 153, 153);\"/><title>Transformation → Spark Ignition Engine\nGas\n228</title></g><g class=\"link\" style=\"opacity: 0.8;\"><path d=\"M214,56.990137513556725 A119.12665770557007 119.12665770557007 0.5018620552901425 0 1 271.3069286439836,71.67984531396426 L382.91780480847046,132.92327038582738 A89.55702288059553 89.55702288059553 0.5018620552901425 0 0 426,143.96669696161425 L426,145.96669696161425 A91.55702288059553 91.55702288059553 0.5018620552901425 0 1 381.95568718093455,134.6766470341219 L270.3448110164477,73.43322196225883 A117.12665770557007 117.12665770557007 0.5018620552901425 0 0 214,58.990137513556725 Z\" style=\"fill: rgb(153, 153, 153);\"/><title>Power Plant → Burner\nHeat\n251</title></g><g class=\"link\" style=\"opacity: 0.8;\"><path d=\"M427,150.62656181168518 A341.01400477923744 341.01400477923744 0.11630909051273375 0 1 466.57366359841205,152.9305481312179 L599.2289194412601,168.42951238730674 A342.71518536579896 342.71518536579896 0.11630909051273375 0 0 639,170.74499236030698 L639,172.74499236030698 A344.71518536579896 344.71518536579896 0.11630909051273375 0 1 598.9968253744839,170.41599982602045 L466.34156953163597,154.9170355699316 A339.01400477923744 339.01400477923744 0.11630909051273375 0 0 427,152.62656181168518 Z\" style=\"fill: rgb(153, 153, 153);\"/><title>Burner → Heating\nHeat\n251</title></g><g class=\"link\" style=\"opacity: 0.8;\"><path d=\"M427,368.1582786723358 A66.84865582600584 66.84865582600584 0.7484314178088365 0 0 472.4898556939148,350.2934550227797 L592.1491638904935,239.16934691526737 A68.84865582600584 68.84865582600584 0.7484314178088365 0 1 639,220.77003761513797 L639,222.77003761513797 A66.84865582600584 66.84865582600584 0.7484314178088365 0 0 593.5101443060852,240.63486126469408 L473.85083610950664,351.7589693722064 A68.84865582600584 68.84865582600584 0.7484314178088365 0 1 427,370.1582786723358 Z\" style=\"fill: rgb(255, 255, 0);\"/><title>Light Device → Illumination\nElectricity\n284</title></g><g class=\"link\" style=\"opacity: 0.8;\"><path d=\"M214,419.1895975778062 A72.46398602862178 72.46398602862178 1.1377171938404655 0 0 279.7739544685553,377.136402146022 L365.83841283898545,190.9919562069479 A66.28077096352253 66.28077096352253 1.1377171938404655 0 1 426,152.52708051549195 L426,154.52708051549195 A64.28077096352253 64.28077096352253 1.1377171938404655 0 0 367.65376852318906,191.8312915033757 L281.5893101527589,377.9757374424499 A74.46398602862178 74.46398602862178 1.1377171938404655 0 1 214,421.1895975778062 Z\" style=\"fill: rgb(153, 153, 153);\"/><title>Transformation → Burner\nSolid biomass &amp; Waste\n324</title></g><g class=\"link\" style=\"opacity: 0.8;\"><path d=\"M427,152.52708051549195 A339.11348607543067 339.11348607543067 0.11630909051273375 0 1 466.35311404093676,154.8182263972942 L599.0083698837849,170.31719065338305 A344.6157040696057 344.6157040696057 0.11630909051273375 0 0 639,172.64551106411375 L639,174.64551106411375 A346.6157040696057 346.6157040696057 0.11630909051273375 0 1 598.7762758170087,172.30367809209676 L466.1210199741607,156.80471383600792 A337.11348607543067 337.11348607543067 0.11630909051273375 0 0 427,154.52708051549195 Z\" style=\"fill: rgb(153, 153, 153);\"/><title>Burner → Heating\nSolid biomass &amp; Waste\n324</title></g><g class=\"link\" style=\"opacity: 0.8;\"><path d=\"M1,185.35848235809993 A81.57591713996739 81.57591713996739 0.5937960261809099 0 0 46.64264576600377,171.3945400798826 L141.01854639873721,107.68443827860642 A128.65058534719424 128.65058534719424 0.5937960261809099 0 1 213,85.66238310802561 L213,87.66238310802561 A126.65058534719422 126.65058534719422 0.5937960261809099 0 0 142.1375689575076,109.34208375124615 L47.76166832477415,173.05218555252233 A83.57591713996739 83.57591713996739 0.5937960261809099 0 1 1,187.35848235809993 Z\" style=\"fill: rgb(153, 153, 153);\"/><title>Liquid fuel → Power Plant\nLiquid fuel\n359</title></g><g class=\"link\" style=\"opacity: 0.8;\"><path d=\"M427,316.6596904041423 A443.108654250277 443.108654250277 0.0884359951158189 0 1 466.1356953072208,318.39132121038915 L600.0409462227148,330.26433412568474 A441.108654250277 441.108654250277 0.0884359951158189 0 0 639,331.9881491026102 L639,333.9881491026102 A443.108654250277 443.108654250277 0.0884359951158189 0 1 599.8643046927792,332.2565182963633 L465.95905377728525,320.3835053810677 A441.108654250277 441.108654250277 0.0884359951158189 0 0 427,318.6596904041423 Z\" style=\"fill: rgb(153, 153, 153);\"/><title>Electronics → Loss\nLoss\n606</title></g><g class=\"link\" style=\"opacity: 0.8;\"><path d=\"M427,286.24422819106445 A158.41973452514134 158.41973452514134 0.25493175615059704 0 1 466.9501890031824,291.3642735918431 L599.5541697387753,325.92112183609305 A156.41973452514134 156.41973452514134 0.25493175615059704 0 0 639,330.9765282521375 L639,332.9765282521375 A158.41973452514134 158.41973452514134 0.25493175615059704 0 1 599.0498109968175,327.85648285135886 L466.4458302612248,293.2996346071089 A156.41973452514134 156.41973452514134 0.25493175615059704 0 0 427,288.24422819106445 Z\" style=\"fill: rgb(153, 153, 153);\"/><title>Electric Motor → Loss\nLoss\n836</title></g><g class=\"link\" style=\"opacity: 0.8;\"><path d=\"M214,56.15711698045486 A0 0 0 0 0 214,56.15711698045486 L426,56.15711698045486 A0 0 0 0 0 426,56.15711698045486 L426,58.15711698045486 A0 0 0 0 0 426,58.15711698045486 L214,58.15711698045486 A0 0 0 0 0 214,58.15711698045486 Z\" style=\"fill: rgb(153, 153, 153);\"/><title>Power Plant → Boiler\nHeat\n936</title></g><g class=\"link\" style=\"opacity: 0.8;\"><path d=\"M427,107.64495468504323 A163.1124729901108 163.1124729901108 0.2801566830054063 0 1 472.10161435684165,114.00436318403679 L582.8764996564025,145.8769531931928 A202.97373086196046 202.97373086196046 0.2801566830054063 0 0 639,153.79046738038952 L639,155.79046738038952 A204.97373086196046 204.97373086196046 0.2801566830054063 0 1 582.3234872039511,147.79897744575405 L471.54860190439024,115.92638743659803 A161.1124729901108 161.1124729901108 0.2801566830054063 0 0 427,109.64495468504323 Z\" style=\"fill: rgb(153, 153, 153);\"/><title>Boiler → Heating\nHeat\n936</title></g><g class=\"link\" style=\"opacity: 0.8;\"><path d=\"M214,418.2137678024948 A71.48815625331035 71.48815625331035 1.1377171938404655 0 0 278.8882154038419,376.72687795916 L364.95267377427206,190.58243202008586 A67.25660073883395 67.25660073883395 1.1377171938404655 0 1 426,151.55125074018054 L426,153.55125074018054 A65.25660073883395 65.25660073883395 1.1377171938404655 0 0 366.76802945847567,191.42176731651367 L280.7035710880455,377.56621325558785 A73.48815625331035 73.48815625331035 1.1377171938404655 0 1 214,420.2137678024948 Z\" style=\"fill: rgb(153, 153, 153);\"/><title>Transformation → Burner\nLiquid fuel\n1.07k</title></g><g class=\"link\" style=\"opacity: 0.8;\"><path d=\"M427,151.55125074018054 A340.0893158507421 340.0893158507421 0.11630909051273375 0 1 466.4663561914534,153.84898960180473 L599.1216120343015,169.3479538578936 A343.6398742942943 343.6398742942943 0.11630909051273375 0 0 639,171.66968128880234 L639,173.66968128880234 A345.6398742942943 345.6398742942943 0.11630909051273375 0 1 598.8895179675253,171.3344412966073 L466.2342621246773,155.83547704051844 A338.0893158507421 338.0893158507421 0.11630909051273375 0 0 427,153.55125074018054 Z\" style=\"fill: rgb(153, 153, 153);\"/><title>Burner → Heating\nLiquid fuel\n1.07k</title></g><g class=\"link\" style=\"opacity: 0.8;\"><path d=\"M1,502.3915720709301 A70.18573844094026 70.18573844094026 1.2263797803061465 0 0 67.06391351973363,455.9038759743953 L160.48351619682813,195.47457710598346 A55.7930646198593 55.7930646198593 1.2263797803061465 0 1 213,158.51990383536054 L213,160.51990383536054 A53.7930646198593 53.7930646198593 1.2263797803061465 0 0 162.36606142573743,196.14987219785874 L68.94645874864293,456.57917106627065 A72.18573844094026 72.18573844094026 1.2263797803061465 0 1 1,504.3915720709301 Z\" style=\"fill: rgb(255, 255, 0);\"/><title>Primary Electricity → Power Plant\nElectricity\n1.24k</title></g><g class=\"link\" style=\"opacity: 0.8;\"><path d=\"M427,116.71873318369819 A154.03869449145586 154.03869449145586 0.28015668300540675 0 1 469.59265810657047,122.72437435242863 L580.3675434061313,154.5969643615846 A212.0475093606154 212.0475093606154 0.28015668300540675 0 0 639,162.8642458790445 L639,164.90922395758903 A214.09248743915995 214.09248743915995 0.28015668300540675 0 1 579.8020942349185,156.56221309304394 L469.0272089353578,124.68962308388798 A151.9937164129113 151.9937164129113 0.28015668300540675 0 0 427,118.76371126224274 Z\" style=\"fill: rgb(153, 153, 153);\"/><title>Boiler → Heating\nSolid biomass &amp; Waste\n1.46k</title></g><g class=\"link\" style=\"opacity: 0.8;\"><path d=\"M427,56.5 A214.25742767515405 214.25742767515405 0.2801566830054063 0 1 486.2435127672889,64.85344153363722 L597.0183980668498,96.72603154279324 A151.82877617691722 151.82877617691722 0.2801566830054063 0 0 639,102.6455126953463 L639,105.020371245879 A154.20363472744995 154.20363472744995 0.2801566830054063 0 1 596.3617348912221,99.00829940805642 L485.5868495916612,67.1357093989004 A211.8825691246213 211.8825691246213 0.2801566830054063 0 0 427,58.87485855053272 Z\" style=\"fill: rgb(0, 0, 0);\"/><title>Boiler → Heating\nCoal\n1.69k</title></g><g class=\"link\" style=\"opacity: 0.8;\"><path d=\"M214,411.8051175765755 A65.07950602739106 65.07950602739106 1.1377171938404658 0 0 273.07122559599424,374.03737479062295 L359.1356839664243,187.89292885154876 A73.66525096475323 73.66525096475323 1.1377171938404658 0 1 426,145.14260051426126 L426,147.6107387389607 A71.19711274005377 71.19711274005377 1.1377171938404658 0 0 361.37595834422854,188.92872661577522 L275.31149997379845,375.0731725548494 A67.54764425209052 67.54764425209052 1.1377171938404658 0 1 214,414.273255801275 Z\" style=\"fill: rgb(0, 0, 0);\"/><title>Transformation → Burner\nCoal\n1.76k</title></g><g class=\"link\" style=\"opacity: 0.8;\"><path d=\"M427,144.79079340896723 A346.84977318195547 346.84977318195547 0.11630909051273375 0 1 467.2508872090873,147.13420781759714 L599.9061430519353,162.63317207368598 A336.8794169630809 336.8794169630809 0.11630909051273375 0 0 639,164.90922395758903 L639,167.37736218228846 A339.3475551877804 339.3475551877804 0.11630909051273375 0 1 599.6197229329673,165.08463486387328 L466.96446709011923,149.58567060778444 A344.381634957256 344.381634957256 0.11630909051273375 0 0 427,147.25893163366666 Z\" style=\"fill: rgb(0, 0, 0);\"/><title>Burner → Heating\nCoal\n1.76k</title></g><g class=\"link\" style=\"opacity: 0.8;\"><path d=\"M214,409.044842102854 A62.31923055366951 62.31923055366951 1.0934495592737057 0 0 269.35300042762316,375.3565710242172 L386.31325265731954,149.2341842655425 A44.68136394534983 44.68136394534983 1.0934495592737057 0 1 426,125.08051793524567 L426,127.84079340896722 A41.92108847162828 41.92108847162828 1.0934495592737057 0 0 388.7649762764949,150.50232147657542 L271.8047240467985,376.6247082352501 A65.07950602739106 65.07950602739106 1.0934495592737057 0 1 214,411.8051175765755 Z\" style=\"fill: rgb(153, 153, 153);\"/><title>Transformation → Boiler\nSolid biomass &amp; Waste\n1.97k</title></g><g class=\"link\" style=\"opacity: 0.8;\"><path d=\"M214,341.778558128518 A0 0 1.1041639092926934 0 0 214,341.778558128518 L326.02085851421333,119.3987292537496 A111.94764791968576 111.94764791968576 1.1041639092926934 0 1 426,57.81423396090972 L426,60.59066606963212 A109.17121581096337 109.17121581096337 1.1041639092926934 0 0 328.50045771778736,120.64779412155261 L216.47959920357403,343.027622996321 A2.776432108722399 2.776432108722399 1.1041639092926934 0 1 214,344.55499023724036 Z\" style=\"fill: rgb(0, 0, 0);\"/><title>Transformation → Boiler\nCoal\n1.98k</title></g><g class=\"link\" style=\"opacity: 0.8;\"><path d=\"M1,463.87641254958913 A170.62287544172838 170.62287544172838 0.2364567075767654 0 1 40.97001361733335,468.6241432726655 L173.78298145097844,500.62734750120313 A167.4085111690807 167.4085111690807 0.2364567075767654 0 0 213,505.2856357273523 L213,508.5 A170.62287544172838 170.62287544172838 0.2364567075767654 0 1 173.02998638266664,503.75226927692364 L40.21701854902156,471.749065048386 A167.4085111690807 167.4085111690807 0.2364567075767654 0 0 1,467.0907768222368 Z\" style=\"fill: rgb(153, 153, 153);\"/><title>Solid biomass &amp; Waste → Transformation\nSolid biomass &amp; Waste\n2.29k</title></g><g class=\"link\" style=\"opacity: 0.8;\"><path d=\"M1,459.90175610748315 A65.88390977395973 65.88390977395973 1.171755240675514 0 0 61.70767380279156,419.61604760933807 L158.04708572572494,191.14133837670414 A59.638471037841 59.638471037841 1.171755240675514 0 1 213,154.67449741737883 L213,158.6491538594848 A55.66381459573505 55.66381459573505 1.171755240675514 0 0 161.7094692666134,192.68563129976098 L65.37005734368005,421.16034053239497 A69.85856621606568 69.85856621606568 1.171755240675514 0 1 1,463.8764125495891 Z\" style=\"fill: rgb(153, 153, 153);\"/><title>Solid biomass &amp; Waste → Power Plant\nSolid biomass &amp; Waste\n2.83k</title></g><g class=\"link\" style=\"opacity: 0.8;\"><path d=\"M427,406.836159716239 A85.7443761324537 85.7443761324537 0.532538278924267 0 1 470.5342851584945,418.7099459357742 L596.1846671751895,492.7597073826089 A84.32834003363473 84.32834003363473 0.532538278924267 0 0 639,504.4374024918589 L639,508.50000000000006 A88.39093754177588 88.39093754177588 0.532538278924267 0 1 594.1219980372113,496.2597208883524 L468.4716160205163,422.2099594415177 A81.68177862431254 81.68177862431254 0.532538278924267 0 0 427,410.8987572243802 Z\" style=\"fill: rgb(153, 153, 153);\"/><title>Spark Ignition Engine → Motion\nLiquid fuel\n2.89k</title></g><g class=\"link\" style=\"opacity: 0.8;\"><path d=\"M214,414.27325580127496 A67.54764425209052 67.54764425209052 1.1377171938404655 0 0 275.31149997379845,375.0731725548494 L361.37595834422854,188.92872661577525 A71.19711274005377 71.19711274005377 1.1377171938404655 0 1 426,147.61073873896072 L426,151.8024653643322 A67.0053861146823 67.0053861146823 1.1377171938404655 0 0 365.1806957222264,190.68785867060052 L279.1162373517963,376.8323046096747 A71.739370877462 71.739370877462 1.1377171938404655 0 1 214,418.4649824266465 Z\" style=\"fill: rgb(153, 153, 153);\"/><title>Transformation → Burner\nGas\n2.99k</title></g><g class=\"link\" style=\"opacity: 0.8;\"><path d=\"M427,147.2589316336667 A344.381634957256 344.381634957256 0.11630909051273375 0 1 466.9644670901192,149.58567060778444 L599.6197229329673,165.0846348638733 A339.3475551877804 339.3475551877804 0.11630909051273375 0 0 639,167.3773621822885 L639,171.56908880765997 A343.53928181315194 343.53928181315194 0.11630909051273375 0 1 599.1332854933191,169.24804100778442 L466.4780296504711,153.74907675169555 A340.18990833188445 340.18990833188445 0.11630909051273375 0 0 427,151.45065825903816 Z\" style=\"fill: rgb(153, 153, 153);\"/><title>Burner → Heating\nGas\n2.99k</title></g><g class=\"link\" style=\"opacity: 0.8;\"><path d=\"M1,504.2623220468059 A72.05648841681601 72.05648841681601 1.2263797803061467 0 0 68.82479924051718,456.5355301128127 L162.24440191761167,196.10623124440085 A53.922314643983555 53.922314643983555 1.2263797803061467 0 1 213,160.3906538112363 L213,164.6283317644304 A49.684636690789404 49.684636690789404 1.2263797803061467 0 0 166.23321212383152,197.53707280577092 L72.81360944673703,457.9663716741828 A76.29416637001016 76.29416637001016 1.2263797803061467 0 1 1,508.50000000000006 Z\" style=\"fill: rgb(153, 153, 153);\"/><title>Primary Electricity → Power Plant\nPrimary Electricity\n3.02k</title></g><g class=\"link\" style=\"opacity: 0.8;\"><path d=\"M214,58.16604106620374 A117.95075415292305 117.95075415292305 0.6544337530191264 0 1 285.79781355077876,82.53552372439391 L380.65723890577664,155.3139678124878 A74.48991274165971 74.48991274165971 0.6544337530191264 0 0 426,170.70412491495503 L426,175.29583276369473 A79.08162059039941 79.08162059039941 0.6544337530191264 0 1 377.8622200322556,158.95699546333523 L283.0027946772577,86.17855137524133 A113.35904630418335 113.35904630418335 0.6544337530191264 0 0 214,62.75774891494344 Z\" style=\"fill: rgb(255, 255, 0);\"/><title>Power Plant → Cooler\nElectricity\n3.27k</title></g><g class=\"link\" style=\"opacity: 0.8;\"><path d=\"M427,312.4165659203118 A125.293340108964 125.293340108964 0.31967018287677873 0 0 466.37386682418276,306.0690945373025 L598.1120579858842,262.46066954517227 A130.11134639140278 130.11134639140278 0.31967018287677873 0 1 639,255.8691137042473 L639,260.68711998668607 A125.293340108964 125.293340108964 0.31967018287677873 0 0 599.6261331758172,267.0345913696954 L467.88794201411577,310.64301636182563 A130.11134639140278 130.11134639140278 0.31967018287677873 0 1 427,317.2345722027506 Z\" style=\"fill: rgb(255, 255, 0);\"/><title>Electronics → Information\nElectricity\n3.43k</title></g><g class=\"link\" style=\"opacity: 0.8;\"><path d=\"M427,369.3573547614452 A266.68386947053034 266.68386947053034 0.14616389807237296 0 0 465.8409096448998,366.5137209899674 L599.4410491873113,346.8459438794596 A271.61398050077594 271.61398050077594 0.14616389807237296 0 1 639,343.9497406359302 L639,348.8798516661758 A266.68386947053034 266.68386947053034 0.14616389807237296 0 0 600.1590903551001,351.7234854376536 L466.5589508126887,371.3912625481614 A271.61398050077594 271.61398050077594 0.14616389807237296 0 1 427,374.2874657916908 Z\" style=\"fill: rgb(153, 153, 153);\"/><title>Light Device → Loss\nLoss\n3.51k</title></g><g class=\"link\" style=\"opacity: 0.8;\"><path d=\"M214,91.03325590648053 A85.08353931264625 85.08353931264625 1.188511215409699 0 1 292.94175144952976,144.37709547185005 L367.286423584923,329.28428350574274 A63.281581613908024 63.281581613908024 1.188511215409699 0 0 426,368.95920258322644 L426,374.2874657916908 A68.60984482237238 68.60984482237238 1.188511215409699 0 1 362.3427830963127,331.27194734503934 L287.99811096091946,146.36475931114666 A79.75527610418189 79.75527610418189 1.188511215409699 0 0 214,96.3615191149449 Z\" style=\"fill: rgb(255, 255, 0);\"/><title>Power Plant → Light Device\nElectricity\n3.80k</title></g><g class=\"link\" style=\"opacity: 0.8;\"><path d=\"M214,85.36501322125847 A90.75178199786833 90.75178199786833 1.08134088388421 0 1 294.096525468867,133.4502680156649 L372.23660782324663,280.14017944415133 A60.9155468071721 60.9155468071721 1.08134088388421 0 0 426,312.4165659203118 L426,318.08480860553385 A66.58378949239417 66.58378949239417 1.08134088388421 0 1 367.2338791207813,282.80507731613505 L289.0937967664017,136.11516588764863 A85.08353931264625 85.08353931264625 1.08134088388421 0 0 214,91.03325590648055 Z\" style=\"fill: rgb(255, 255, 0);\"/><title>Power Plant → Electronics\nElectricity\n4.04k</title></g><g class=\"link\" style=\"opacity: 0.8;\"><path d=\"M1,357.67026974661803 A71.71598528881809 71.71598528881809 0.8204602162624985 0 1 53.457354632341165,380.4842255180146 L131.23597166058974,463.9175827125324 A111.78199691237369 111.78199691237369 0.8204602162624985 0 0 213,499.47715180060993 L213,505.2856357273523 A117.59048083911604 117.59048083911604 0.8204602162624985 0 1 126.98729962472098,467.8782987410872 L49.2086825964724,384.4449415465694 A65.90750136207573 65.90750136207573 0.8204602162624985 0 0 1,363.4787536733604 Z\" style=\"fill: rgb(0, 0, 0);\"/><title>Coal → Transformation\nCoal\n4.14k</title></g><g class=\"link\" style=\"opacity: 0.8;\"><path d=\"M427,345.68232060148506 A70.26468686904236 70.26468686904236 0.7935328900646668 0 1 477.08715914248967,366.66818128889554 L583.4434252495777,474.7690359373431 A77.93744734553002 77.93744734553002 0.7935328900646668 0 0 639,498.04650980375413 L639,504.3733917854955 A84.26432932727138 84.26432932727138 0.7935328900646668 0 1 578.9333995337319,479.20627648224195 L472.57713342664397,371.10542183379437 A63.937804887301 63.937804887301 0.7935328900646668 0 0 427,352.00920258322645 Z\" style=\"fill: rgb(153, 153, 153);\"/><title>Gas Turbine → Motion\nLiquid fuel\n4.51k</title></g><g class=\"link\" style=\"opacity: 0.8;\"><path d=\"M427,109.30207166549809 A161.45535600965596 161.45535600965596 0.28015668300540675 0 1 471.6434111941616,115.59687269691945 L582.4182964937223,147.46946270607543 A204.6308478424153 204.6308478424153 0.28015668300540675 0 0 639,155.4475843608444 L639,162.8642458790445 A212.0475093606154 212.0475093606154 0.28015668300540675 0 1 580.3675434061312,154.59696436158458 L469.59265810657047,122.72437435242863 A154.03869449145586 154.03869449145586 0.28015668300540675 0 0 427,116.71873318369819 Z\" style=\"fill: rgb(153, 153, 153);\"/><title>Boiler → Heating\nLiquid fuel\n5.28k</title></g><g class=\"link\" style=\"opacity: 0.8;\"><path d=\"M427,287.83073084014546 A67.48521807268939 67.48521807268939 0.9667008474815235 0 1 482.54142895973894,316.98313884849557 L581.2320195642981,459.97856281708994 A70.19057360134079 70.19057360134079 0.9667008474815235 0 0 639,490.29963605956493 L639,497.93547113973136 A77.82640868150719 77.82640868150719 0.9667008474815235 0 1 574.9476034541428,464.3158536219498 L476.2570128495838,321.32042965335546 A59.849382992523005 59.849382992523005 0.9667008474815235 0 0 427,295.4665659203119 Z\" style=\"fill: rgb(255, 255, 0);\"/><title>Electric Motor → Motion\nElectricity\n5.44k</title></g><g class=\"link\" style=\"opacity: 0.8;\"><path d=\"M214,400.55789355703837 A53.83228200785392 53.83228200785392 1.0934495592737057 0 0 261.8147483935071,371.4574619093723 L378.77500062320354,145.33507515069758 A53.16831249116542 53.16831249116542 1.0934495592737057 0 1 426,116.59356938943006 L426,125.08051793524567 A44.68136394534983 44.68136394534983 1.0934495592737057 0 0 386.31325265731954,149.2341842655425 L269.3530004276231,375.3565710242172 A62.31923055366951 62.31923055366951 1.0934495592737057 0 1 214,409.044842102854 Z\" style=\"fill: rgb(153, 153, 153);\"/><title>Transformation → Boiler\nLiquid fuel\n6.05k</title></g><g class=\"link\" style=\"opacity: 0.8;\"><path d=\"M214,76.55617284293011 A99.56062237619668 99.56062237619668 1.0527484798082583 0 1 300.49702536097243,126.81586083002085 L374.56938403271806,256.77361449062494 A59.198152925199935 59.198152925199935 1.0527484798082583 0 0 426,286.6577255419835 L426,295.46656592031184 A68.00699330352829 68.00699330352829 1.0527484798082583 0 1 366.91637352093176,261.1356207855947 L292.8440148491861,131.17786712499057 A90.75178199786833 90.75178199786833 1.0527484798082583 0 0 214,85.36501322125845 Z\" style=\"fill: rgb(255, 255, 0);\"/><title>Power Plant → Electric Motor\nElectricity\n6.28k</title></g><g class=\"link\" style=\"opacity: 0.8;\"><path d=\"M427,118.76371126224272 A69.2550696680016 69.2550696680016 0.8544615826833245 0 1 479.23338463263457,142.54419237202856 L593.6127094567191,273.9234847851774 A60.177987521277096 60.177987521277096 0.8544615826833245 0 0 639,294.5871199866861 L639,303.6642021334106 A69.2550696680016 69.2550696680016 0.8544615826833245 0 1 586.7666153673654,279.88372102362473 L472.3872905432809,148.50442861047597 A60.177987521277096 60.177987521277096 0.8544615826833245 0 0 427,127.84079340896723 Z\" style=\"fill: rgb(153, 153, 153);\"/><title>Boiler → Loss\nLoss\n6.47k</title></g><g class=\"link\" style=\"opacity: 0.8;\"><path d=\"M427,335.0348086055339 A994.7317633340358 994.7317633340358 0.007946481460847421 0 0 434.90453432453523,335.00340182253126 L631.0117386666552,333.4450067563167 A1005.2682366659642 1005.2682366659642 0.007946481460847421 0 1 639,333.4132673040018 L639,343.9497406359302 A994.7317633340358 994.7317633340358 0.007946481460847421 0 0 631.0954656754648,343.98114741893284 L434.9882613333448,345.5395424851474 A1005.2682366659642 1005.2682366659642 0.007946481460847421 0 1 427,345.5712819374623 Z\" style=\"fill: rgb(153, 153, 153);\"/><title>Gas Turbine → Loss\nLoss\n7.51k</title></g><g class=\"link\" style=\"opacity: 0.8;\"><path d=\"M427,227.62546107994726 A70.19057360134079 70.19057360134079 1.0786164628542445 0 1 488.8592938293448,264.64761009675243 L587.1292906911655,447.92169340423555 A58.85671520175628 58.85671520175628 1.0786164628542445 0 0 639,478.9657776599804 L639,490.29963605956493 A70.19057360134079 70.19057360134079 1.0786164628542445 0 1 577.1407061706553,453.2774870427598 L478.87070930883453,270.00340373527666 A58.85671520175628 58.85671520175628 1.0786164628542445 0 0 427,238.95931947953179 Z\" style=\"fill: rgb(153, 153, 153);\"/><title>Diesel Engine → Motion\nLiquid fuel\n8.08k</title></g><g class=\"link\" style=\"opacity: 0.8;\"><path d=\"M427,170.70412491495503 A70.04168899713781 70.04168899713781 0.6149685319376743 0 0 467.4093491312104,157.87189929900723 L587.9961797899745,72.69656199076921 A88.40512875416186 88.40512875416186 0.6149685319376743 0 1 639,56.5 L639,68.74014497156774 A76.16498378259413 76.16498378259413 0.6149685319376743 0 0 595.0579211422272,82.69420961402936 L474.4710904834631,167.86954692226738 A82.28183396870554 82.28183396870554 0.6149685319376743 0 1 427,182.9442698865228 Z\" style=\"fill: rgb(255, 255, 0);\"/><title>Cooler → Cool\nElectricity\n8.72k</title></g><g class=\"link\" style=\"opacity: 0.8;\"><path d=\"M214,496.1155698738657 A0 0 0 0 0 214,496.1155698738657 L426,496.1155698738657 A0 0 0 0 0 426,496.1155698738657 L426,508.49999999999994 A0 0 0 0 0 426,508.49999999999994 L214,508.49999999999994 A0 0 0 0 0 214,508.49999999999994 Z\" style=\"fill: rgb(153, 153, 153);\"/><title>Transformation → \nLoss\n8.82k</title></g><g class=\"link\" style=\"opacity: 0.8;\"><path d=\"M214,62.757766780478356 A113.35902843864844 113.35902843864844 1.0326023866253662 0 1 311.334124872744,118.01053511050004 L377.0777698865013,228.13808662380714 A56.97669221322766 56.97669221322766 1.0326023866253662 0 0 426,255.90931947953177 L426,269.7077255419835 A70.77509827567941 70.77509827567941 1.0326023866253662 0 1 365.2299638738167,235.21095750839842 L299.4863188600594,125.08340599509135 A99.56062237619668 99.56062237619668 1.0326023866253662 0 0 214,76.55617284293011 Z\" style=\"fill: rgb(255, 255, 0);\"/><title>Power Plant → Electric Heater\nElectricity\n9.83k</title></g><g class=\"link\" style=\"opacity: 0.8;\"><path d=\"M427,255.90931947953177 A87.58410199070241 87.58410199070241 0.45325692193975153 0 0 465.3527198583416,247.06557436499128 L594.6050145914444,184.10958524313804 A101.38250805315417 101.38250805315417 0.45325692193975153 0 1 639,173.87255546357684 L639,187.6709615260286 A87.58410199070241 87.58410199070241 0.45325692193975153 0 0 600.6472801416585,196.5147066405691 L471.39498540855556,259.47069576242234 A101.38250805315417 101.38250805315417 0.45325692193975153 0 1 427,269.7077255419835 Z\" style=\"fill: rgb(255, 255, 0);\"/><title>Electric Heater → Heating\nElectricity\n9.83k</title></g><g class=\"link\" style=\"opacity: 0.8;\"><path d=\"M427,391.2374657916908 A157.74540659212997 157.74540659212997 0.24174037238055246 0 0 464.7631075309221,386.65067309549687 L597.5180018496891,353.9183492523073 A173.28008981031482 173.28008981031482 0.24174037238055246 0 1 639,348.8798516661758 L639,364.4145348843606 A157.74540659212997 157.74540659212997 0.24174037238055246 0 0 601.2368924690778,369.0013275805545 L468.48199815031086,401.7336514237441 A173.28008981031482 173.28008981031482 0.24174037238055246 0 1 427,406.7721490098756 Z\" style=\"fill: rgb(153, 153, 153);\"/><title>Spark Ignition Engine → Loss\nLoss\n11.1k</title></g><g class=\"link\" style=\"opacity: 0.8;\"><path d=\"M214,459.79713778926333 A113.07152624007894 113.07152624007894 0.7377181467645453 0 0 290.05203075246266,430.3991358247122 L371.40589290462003,356.4554782604156 A81.1686282655778 81.1686282655778 0.7377181467645453 0 1 426,335.3520619313134 L426,352.0092025832265 A64.51148761366476 64.51148761366476 0.7377181467645453 0 0 382.609503709498,368.7818499743644 L301.2556415573406,442.72550753866096 A129.728666891992 129.728666891992 0.7377181467645453 0 1 214,476.4542784411764 Z\" style=\"fill: rgb(153, 153, 153);\"/><title>Transformation → Gas Turbine\nLiquid fuel\n11.9k</title></g><g class=\"link\" style=\"opacity: 0.8;\"><path d=\"M214,476.77433197299314 A130.04872042380876 130.04872042380876 0.5131181615487908 0 0 277.8404262581232,460.0264043930612 L376.1424730422917,404.6371664960693 A101.56429028417517 101.56429028417517 0.5131181615487908 0 1 426,391.55751932350756 L426,410.8987572243801 A82.22305238330259 82.22305238330259 0.5131181615487908 0 0 385.6370137646272,421.48760209904594 L287.3349669804587,476.87683999603786 A149.38995832468132 149.38995832468132 0.5131181615487908 0 1 214,496.1155698738657 Z\" style=\"fill: rgb(153, 153, 153);\"/><title>Transformation → Spark Ignition Engine\nLiquid fuel\n13.8k</title></g><g class=\"link\" style=\"opacity: 0.8;\"><path d=\"M1,398.9087989461779 A52.675782221687484 52.675782221687484 1.1416129317172259 0 0 48.89839773435774,368.1529055733857 L135.52588277194312,178.8582535037187 A85.20138292632872 85.20138292632872 1.1416129317172259 0 1 213,129.1115855288911 L213,154.67449741737886 A59.638471037841 59.638471037841 1.1416129317172259 0 0 158.77038848673462,189.4957070661843 L72.14290344914923,378.79035913585125 A78.2386941101752 78.2386941101752 1.1416129317172259 0 1 1,424.47171083466566 Z\" style=\"fill: rgb(153, 153, 153);\"/><title>Nuclear → Power Plant\nNuclear\n18.2k</title></g><g class=\"link\" style=\"opacity: 0.8;\"><path d=\"M427,199.89963761030134 A97.9163970709867 97.9163970709867 0.5657623201806983 0 1 479.4890155714115,215.15695133464519 L601.8751614750739,292.87289080523794 A69.2550696680016 69.2550696680016 0.5657623201806983 0 0 639,303.6642021334106 L639,331.3900256030565 A96.98089313764751 96.98089313764751 0.5657623201806983 0 1 587.0124702061806,316.2784819175241 L464.6263243025181,238.56254244693136 A70.19057360134079 70.19057360134079 0.5657623201806983 0 0 427,227.62546107994729 Z\" style=\"fill: rgb(153, 153, 153);\"/><title>Diesel Engine → Loss\nLoss\n19.8k</title></g><g class=\"link\" style=\"opacity: 0.8;\"><path d=\"M1,56.5 A0 0 0 0 0 1,56.5 L213,56.5 A0 0 0 0 0 213,56.5 L213,86.41023895398615 A0 0 0 0 0 213,86.41023895398615 L1,86.41023895398615 A0 0 0 0 0 1,86.41023895398615 Z\" style=\"fill: rgb(153, 153, 153);\"/><title>Gas → Power Plant\nGas\n21.3k</title></g><g class=\"link\" style=\"opacity: 0.8;\"><path d=\"M214,420.4202025942534 A73.69459104506898 73.69459104506898 1.079341980636758 0 0 278.972649952296,381.50272338263557 L352.66524728213614,243.82586990161246 A83.1792241027912 83.1792241027912 1.079341980636758 0 1 426,199.89963761030134 L426,238.95931947953176 A44.11954223356075 44.11954223356075 1.079341980636758 0 0 387.10211708965727,262.2584699782519 L313.40951975981716,399.935323459275 A112.75427291429942 112.75427291429942 1.079341980636758 0 1 214,459.4798844634838 Z\" style=\"fill: rgb(153, 153, 153);\"/><title>Transformation → Diesel Engine\nLiquid fuel\n27.8k</title></g><g class=\"link\" style=\"opacity: 0.8;\"><path d=\"M1,315.473211479792 A42.68141810243202 42.68141810243202 1.1533055287617593 0 0 40.015477730031925,290.0977446292269 L96.54391053072607,162.65697128189854 A127.39844119315477 127.39844119315477 1.1533055287617593 0 1 213,86.91452726206506 L213,129.1115855288911 A85.20138292632872 85.20138292632872 1.1533055287617593 0 0 135.11663047014162,179.76653009705583 L78.58819766944745,307.20730344438425 A84.87847636925807 84.87847636925807 1.1533055287617593 0 1 1,357.67026974661803 Z\" style=\"fill: rgb(0, 0, 0);\"/><title>Coal → Power Plant\nCoal\n30.1k</title></g><g class=\"link\" style=\"opacity: 0.8;\"><path d=\"M427,58.87485855053271 A211.8825691246213 211.8825691246213 0.28015668300540675 0 1 485.58684959166123,67.13570939890042 L596.361734891222,99.00829940805639 A154.20363472744995 154.20363472744995 0.28015668300540675 0 0 639,105.020371245879 L639,154.13335039993467 A203.31661388150562 203.31661388150562 0.28015668300540675 0 1 582.7816903666311,146.2064679328714 L472.00680506707045,114.33387792371539 A162.76958997056565 162.76958997056565 0.28015668300540675 0 0 427,107.98783770458837 Z\" style=\"fill: rgb(153, 153, 153);\"/><title>Boiler → Heating\nGas\n35.0k</title></g><g class=\"link\" style=\"opacity: 0.8;\"><path d=\"M214,344.5549902372404 A0 0 1.0980984681492307 0 0 214,344.5549902372404 L328.8001479777389,120.0573234528769 A109.17121581096337 109.17121581096337 1.0980984681492307 0 1 426,60.59066606963212 L426,116.59356938943007 A53.16831249116542 53.16831249116542 1.0980984681492307 0 0 378.661953354415,145.55488303855327 L263.86180537667605,370.05254982291683 A56.00290331979796 56.00290331979796 1.0980984681492307 0 1 214,400.55789355703837 Z\" style=\"fill: rgb(153, 153, 153);\"/><title>Transformation → Boiler\nGas\n39.9k</title></g><g class=\"link\" style=\"opacity: 0.8;\"><path d=\"M1,86.41023895398615 A96.83779075539304 96.83779075539304 1.0165897126655576 0 1 83.34294000449218,132.28531834310778 L213,341.778558128518 A0 0 1.0165897126655576 0 0 213,341.778558128518 L213,406.0446121057748 A64.2660539772568 64.2660539772568 1.0165897126655576 0 1 158.353401955011,375.5997795126888 L28.696341959503204,166.1065397272786 A32.57173677813624 32.57173677813624 1.0165897126655576 0 0 1,150.67629293124295 Z\" style=\"fill: rgb(153, 153, 153);\"/><title>Gas → Transformation\nGas\n45.8k</title></g><g class=\"link\" style=\"opacity: 0.8;\"><path d=\"M214,96.36151911494488 A79.75527610418189 79.75527610418189 1.1866855513298424 0 1 287.9436704481904,146.22971327552276 L392.6908222105236,405.38478518638584 A35.92711391388591 35.92711391388591 1.1866855513298424 0 0 426,427.84875722438017 L426,496.11556987386575 A104.19392656337146 104.19392656337146 1.1866855513298424 0 1 329.39847412175266,430.96673942623653 L224.65132235941945,171.81166751537344 A11.488463454696344 11.488463454696344 1.1866855513298424 0 0 214,164.6283317644304 Z\" style=\"fill: rgb(153, 153, 153);\"/><title>Power Plant → \nLoss\n48.6k</title></g><g class=\"link\" style=\"opacity: 0.8;\"><path d=\"M427,427.84875722438017 A75.46653012956605 75.46653012956605 0.3566398341935333 0 0 453.34743963756983,423.10004376318494 L584.4949950539766,374.2382086169922 A156.11777290518583 156.11777290518583 0.3566398341935333 0 1 639,364.41453488436065 L639,445.06577765998037 A75.46653012956605 75.46653012956605 0.3566398341935333 0 0 612.6525603624301,449.8144911211756 L481.50500494602335,498.6763262673683 A156.11777290518583 156.11777290518583 0.3566398341935333 0 1 427,508.4999999999999 Z\" style=\"fill: rgb(153, 153, 153);\"/><title> → Loss\nLoss\n57.5k</title></g><g class=\"link\" style=\"opacity: 0.8;\"><path d=\"M1,186.6106265121394 A110.35404713724131 110.35404713724131 0.9965128245494046 0 1 93.65124328518608,237.01667253776952 L197.5941307191121,397.66319240213403 A18.349457217538614 18.349457217538614 0.9965128245494046 0 0 213,406.04461210577483 L213,499.47715180060993 A111.78199691237369 111.78199691237369 0.9965128245494046 0 1 119.14987615314064,448.41886597086915 L15.206988719214635,287.77234610650464 A16.92150744240623 16.92150744240623 0.9965128245494046 0 0 1,280.0431662069745 Z\" style=\"fill: rgb(153, 153, 153);\"/><title>Liquid fuel → Transformation\nLiquid fuel\n66.6k</title></g></g><g class=\"nodes\"><g class=\"node\" transform=\"translate(0,56.5)\"><title>Gas</title><text dy=\".35em\" text-anchor=\"end\" transform=\"translate(-4,47.08814646562148)\" style=\"display: inline;\">Gas</text><line x1=\"0\" x2=\"0\" y1=\"0\" y2=\"94.17629293124295\" style=\"display: inline; stroke: rgb(136, 136, 136); stroke-width: 4px;\"/><rect x=\"-5\" y=\"-5\" width=\"10\" style=\"fill: none; visibility: hidden; pointer-events: all;\" height=\"99.17629293124295\"/></g><g class=\"node\" transform=\"translate(0,186.10633820406048)\"><title>Liquid fuel</title><text dy=\".35em\" text-anchor=\"end\" transform=\"translate(-4,46.968414001457006)\" style=\"display: inline;\">Liquid fuel</text><line x1=\"0\" x2=\"0\" y1=\"0\" y2=\"93.93682800291401\" style=\"display: inline; stroke: rgb(136, 136, 136); stroke-width: 4px;\"/><rect x=\"-5\" y=\"-5\" width=\"10\" style=\"fill: none; visibility: hidden; pointer-events: all;\" height=\"98.93682800291401\"/></g><g class=\"node\" transform=\"translate(0,315.473211479792)\"><title>Coal</title><text dy=\".35em\" text-anchor=\"end\" transform=\"translate(-4,24.002771096784215)\" style=\"display: inline;\">Coal</text><line x1=\"0\" x2=\"0\" y1=\"0\" y2=\"48.00554219356843\" style=\"display: inline; stroke: rgb(136, 136, 136); stroke-width: 4px;\"/><rect x=\"-5\" y=\"-5\" width=\"10\" style=\"fill: none; visibility: hidden; pointer-events: all;\" height=\"53.00554219356843\"/></g><g class=\"node\" transform=\"translate(0,398.9087989461779)\"><title>Nuclear</title><text dy=\".35em\" text-anchor=\"end\" transform=\"translate(-4,12.781455944243874)\" style=\"display: inline;\">Nuclear</text><line x1=\"0\" x2=\"0\" y1=\"0\" y2=\"25.562911888487747\" style=\"display: inline; stroke: rgb(136, 136, 136); stroke-width: 4px;\"/><rect x=\"-5\" y=\"-5\" width=\"10\" style=\"fill: none; visibility: hidden; pointer-events: all;\" height=\"30.562911888487747\"/></g><g class=\"node\" transform=\"translate(0,459.90175610748315)\"><title>Solid biomass &amp; Waste</title><text dy=\".35em\" text-anchor=\"end\" transform=\"translate(-4,3.5945103573768336)\" style=\"display: inline;\">Solid biomass &amp; Waste</text><line x1=\"0\" x2=\"0\" y1=\"0\" y2=\"7.189020714753667\" style=\"display: inline; stroke: rgb(136, 136, 136); stroke-width: 4px;\"/><rect x=\"-5\" y=\"-5\" width=\"10\" style=\"fill: none; visibility: hidden; pointer-events: all;\" height=\"12.189020714753667\"/></g><g class=\"node\" transform=\"translate(0,502.52082209505437)\"><title>Primary Electricity</title><text dy=\".35em\" text-anchor=\"end\" transform=\"translate(-4,2.9895889524728148)\" style=\"display: inline;\">Primary Electricity</text><line x1=\"0\" x2=\"0\" y1=\"0\" y2=\"5.9791779049456295\" style=\"display: inline; stroke: rgb(136, 136, 136); stroke-width: 4px;\"/><rect x=\"-5\" y=\"-5\" width=\"10\" style=\"fill: none; visibility: hidden; pointer-events: all;\" height=\"10.97917790494563\"/></g><g class=\"node\" transform=\"translate(213,56.5)\"><title>Power Plant</title><text dy=\".35em\" text-anchor=\"start\" transform=\"translate(-4,-10)\" style=\"display: inline;\">Power Plant</text><line x1=\"0\" x2=\"0\" y1=\"-5\" y2=\"108.12833176443041\" style=\"display: inline; stroke: rgb(136, 136, 136); stroke-width: 4px;\"/><rect x=\"-5\" y=\"-5\" width=\"10\" style=\"fill: none; visibility: hidden; pointer-events: all;\" height=\"113.12833176443041\"/></g><g class=\"node\" transform=\"translate(213,341.778558128518)\"><title>Transformation</title><text dy=\".35em\" text-anchor=\"start\" transform=\"translate(-4,-10)\" style=\"display: inline;\">Transformation</text><line x1=\"0\" x2=\"0\" y1=\"-5\" y2=\"166.721441871482\" style=\"display: inline; stroke: rgb(136, 136, 136); stroke-width: 4px;\"/><rect x=\"-5\" y=\"-5\" width=\"10\" style=\"fill: none; visibility: hidden; pointer-events: all;\" height=\"171.721441871482\"/></g><g class=\"node\" transform=\"translate(426,56.5)\"><title>Boiler</title><text dy=\".35em\" text-anchor=\"start\" transform=\"translate(-4,-10)\" style=\"display: inline;\">Boiler</text><line x1=\"0\" x2=\"0\" y1=\"-5\" y2=\"71.34079340896723\" style=\"display: inline; stroke: rgb(136, 136, 136); stroke-width: 4px;\"/><rect x=\"-5\" y=\"-5\" width=\"10\" style=\"fill: none; visibility: hidden; pointer-events: all;\" height=\"76.34079340896723\"/></g><g class=\"node\" transform=\"translate(426,144.79079340896723)\"><title>Burner</title><text dy=\".35em\" text-anchor=\"start\" transform=\"translate(4,4.481665752993905)\" style=\"display: inline;\">Burner</text><line x1=\"0\" x2=\"0\" y1=\"0\" y2=\"8.96333150598781\" style=\"display: inline; stroke: rgb(136, 136, 136); stroke-width: 4px;\"/><rect x=\"-5\" y=\"-5\" width=\"10\" style=\"fill: none; visibility: hidden; pointer-events: all;\" height=\"13.96333150598781\"/></g><g class=\"node\" transform=\"translate(426,170.70412491495503)\"><title>Cooler</title><text dy=\".35em\" text-anchor=\"start\" transform=\"translate(4,6.122756347673146)\" style=\"display: inline;\">Cooler</text><line x1=\"0\" x2=\"0\" y1=\"0\" y2=\"12.245512695346292\" style=\"display: inline; stroke: rgb(136, 136, 136); stroke-width: 4px;\"/><rect x=\"-5\" y=\"-5\" width=\"10\" style=\"fill: none; visibility: hidden; pointer-events: all;\" height=\"17.245512695346292\"/></g><g class=\"node\" transform=\"translate(426,199.89963761030134)\"><title>Diesel Engine</title><text dy=\".35em\" text-anchor=\"start\" transform=\"translate(4,19.529840934615223)\" style=\"display: inline;\">Diesel Engine</text><line x1=\"0\" x2=\"0\" y1=\"0\" y2=\"39.059681869230445\" style=\"display: inline; stroke: rgb(136, 136, 136); stroke-width: 4px;\"/><rect x=\"-5\" y=\"-5\" width=\"10\" style=\"fill: none; visibility: hidden; pointer-events: all;\" height=\"44.059681869230445\"/></g><g class=\"node\" transform=\"translate(426,255.90931947953177)\"><title>Electric Heater</title><text dy=\".35em\" text-anchor=\"start\" transform=\"translate(4,6.899203031225866)\" style=\"display: inline;\">Electric Heater</text><line x1=\"0\" x2=\"0\" y1=\"0\" y2=\"13.798406062451733\" style=\"display: inline; stroke: rgb(136, 136, 136); stroke-width: 4px;\"/><rect x=\"-5\" y=\"-5\" width=\"10\" style=\"fill: none; visibility: hidden; pointer-events: all;\" height=\"18.798406062451733\"/></g><g class=\"node\" transform=\"translate(426,286.6577255419835)\"><title>Electric Motor</title><text dy=\".35em\" text-anchor=\"start\" transform=\"translate(4,4.4044201891641706)\" style=\"display: inline;\">Electric Motor</text><line x1=\"0\" x2=\"0\" y1=\"0\" y2=\"8.808840378328341\" style=\"display: inline; stroke: rgb(136, 136, 136); stroke-width: 4px;\"/><rect x=\"-5\" y=\"-5\" width=\"10\" style=\"fill: none; visibility: hidden; pointer-events: all;\" height=\"13.808840378328341\"/></g><g class=\"node\" transform=\"translate(426,312.4165659203118)\"><title>Electronics</title><text dy=\".35em\" text-anchor=\"start\" transform=\"translate(4,2.8341213426110414)\" style=\"display: inline;\">Electronics</text><line x1=\"0\" x2=\"0\" y1=\"0\" y2=\"5.668242685222083\" style=\"display: inline; stroke: rgb(136, 136, 136); stroke-width: 4px;\"/><rect x=\"-5\" y=\"-5\" width=\"10\" style=\"fill: none; visibility: hidden; pointer-events: all;\" height=\"10.668242685222083\"/></g><g class=\"node\" transform=\"translate(426,335.0348086055339)\"><title>Gas Turbine</title><text dy=\".35em\" text-anchor=\"start\" transform=\"translate(4,8.487196988846279)\" style=\"display: inline;\">Gas Turbine</text><line x1=\"0\" x2=\"0\" y1=\"0\" y2=\"16.974393977692557\" style=\"display: inline; stroke: rgb(136, 136, 136); stroke-width: 4px;\"/><rect x=\"-5\" y=\"-5\" width=\"10\" style=\"fill: none; visibility: hidden; pointer-events: all;\" height=\"21.974393977692557\"/></g><g class=\"node\" transform=\"translate(426,368.95920258322644)\"><title>Light Device</title><text dy=\".35em\" text-anchor=\"start\" transform=\"translate(4,2.664131604232182)\" style=\"display: inline;\">Light Device</text><line x1=\"0\" x2=\"0\" y1=\"0\" y2=\"5.328263208464364\" style=\"display: inline; stroke: rgb(136, 136, 136); stroke-width: 4px;\"/><rect x=\"-5\" y=\"-5\" width=\"10\" style=\"fill: none; visibility: hidden; pointer-events: all;\" height=\"10.328263208464364\"/></g><g class=\"node\" transform=\"translate(426,391.2374657916908)\"><title>Spark Ignition Engine</title><text dy=\".35em\" text-anchor=\"start\" transform=\"translate(4,9.83064571634469)\" style=\"display: inline;\">Spark Ignition Engine</text><line x1=\"0\" x2=\"0\" y1=\"0\" y2=\"19.66129143268938\" style=\"display: inline; stroke: rgb(136, 136, 136); stroke-width: 4px;\"/><rect x=\"-5\" y=\"-5\" width=\"10\" style=\"fill: none; visibility: hidden; pointer-events: all;\" height=\"24.66129143268938\"/></g><g class=\"node\" transform=\"translate(426,427.84875722438017)\"><title/><text dy=\".35em\" text-anchor=\"start\" transform=\"translate(4,40.32562138780989)\" style=\"display: none;\"/><line x1=\"0\" x2=\"0\" y1=\"0\" y2=\"80.65124277561978\" style=\"display: none; stroke: rgb(0, 0, 0);\"/><rect x=\"-5\" y=\"-5\" width=\"10\" style=\"fill: none; visibility: hidden; pointer-events: all;\" height=\"85.65124277561978\"/></g><g class=\"node\" transform=\"translate(639,56.5)\"><title>Cool</title><text dy=\".35em\" text-anchor=\"start\" transform=\"translate(4,6.122756347673146)\" style=\"display: inline;\">Cool</text><line x1=\"0\" x2=\"0\" y1=\"0\" y2=\"12.245512695346292\" style=\"display: inline; stroke: rgb(136, 136, 136); stroke-width: 4px;\"/><rect x=\"-5\" y=\"-5\" width=\"10\" style=\"fill: none; visibility: hidden; pointer-events: all;\" height=\"17.245512695346292\"/></g><g class=\"node\" transform=\"translate(639,102.6455126953463)\"><title>Heating</title><text dy=\".35em\" text-anchor=\"start\" transform=\"translate(4,42.51272441534114)\" style=\"display: inline;\">Heating</text><line x1=\"0\" x2=\"0\" y1=\"0\" y2=\"85.02544883068228\" style=\"display: inline; stroke: rgb(136, 136, 136); stroke-width: 4px;\"/><rect x=\"-5\" y=\"-5\" width=\"10\" style=\"fill: none; visibility: hidden; pointer-events: all;\" height=\"90.02544883068228\"/></g><g class=\"node\" transform=\"translate(639,221.57096152602858)\"><title>Illumination</title><text dy=\".35em\" text-anchor=\"start\" transform=\"translate(4,0.19907608910936858)\" style=\"display: inline;\">Illumination</text><line x1=\"0\" x2=\"0\" y1=\"0\" y2=\"1\" style=\"display: inline; stroke: rgb(136, 136, 136); stroke-width: 4px;\"/><rect x=\"-5\" y=\"-5\" width=\"10\" style=\"fill: none; visibility: hidden; pointer-events: all;\" height=\"6\"/></g><g class=\"node\" transform=\"translate(639,255.86911370424733)\"><title>Information</title><text dy=\".35em\" text-anchor=\"start\" transform=\"translate(4,2.4090031412193724)\" style=\"display: inline;\">Information</text><line x1=\"0\" x2=\"0\" y1=\"0\" y2=\"4.818006282438745\" style=\"display: inline; stroke: rgb(136, 136, 136); stroke-width: 4px;\"/><rect x=\"-5\" y=\"-5\" width=\"10\" style=\"fill: none; visibility: hidden; pointer-events: all;\" height=\"9.818006282438745\"/></g><g class=\"node\" transform=\"translate(639,294.5871199866861)\"><title>Loss</title><text dy=\".35em\" text-anchor=\"start\" transform=\"translate(4,75.23932883664716)\" style=\"display: inline;\">Loss</text><line x1=\"0\" x2=\"0\" y1=\"0\" y2=\"150.47865767329432\" style=\"display: inline; stroke: rgb(136, 136, 136); stroke-width: 4px;\"/><rect x=\"-5\" y=\"-5\" width=\"10\" style=\"fill: none; visibility: hidden; pointer-events: all;\" height=\"155.47865767329432\"/></g><g class=\"node\" transform=\"translate(639,478.9657776599804)\"><title>Motion</title><text dy=\".35em\" text-anchor=\"start\" transform=\"translate(4,14.767111170009798)\" style=\"display: inline;\">Motion</text><line x1=\"0\" x2=\"0\" y1=\"0\" y2=\"29.534222340019596\" style=\"display: inline; stroke: rgb(136, 136, 136); stroke-width: 4px;\"/><rect x=\"-5\" y=\"-5\" width=\"10\" style=\"fill: none; visibility: hidden; pointer-events: all;\" height=\"34.534222340019596\"/></g></g><g class=\"slice-titles\"/></g></svg>"
      }
     },
     "e7f2087b78ab4a0d8a0d2a838a0c6f36": {
      "model_module": "@jupyter-widgets/base",
      "model_module_version": "1.0.0",
      "model_name": "LayoutModel",
      "state": {
       "height": "500",
       "width": "700"
      }
     }
    },
    "version_major": 2,
    "version_minor": 0
   }
  }
 },
 "nbformat": 4,
 "nbformat_minor": 1
}
