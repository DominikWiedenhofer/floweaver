{
 "cells": [
  {
   "cell_type": "markdown",
   "metadata": {},
   "source": [
    "## Draw Sankey of UK Energy System"
   ]
  },
  {
   "cell_type": "markdown",
   "metadata": {},
   "source": [
    "The first step involves importing all the necessary packages to crete the Sankey"
   ]
  },
  {
   "cell_type": "code",
   "execution_count": 9,
   "metadata": {
    "collapsed": true
   },
   "outputs": [],
   "source": [
    "import pandas as pd\n",
    "from floweaver import *\n",
    "from floweaver.jupyter import show_sankey"
   ]
  },
  {
   "cell_type": "markdown",
   "metadata": {},
   "source": [
    "Then we proceed to load the data that we want to draw. In one worksheet we have all the flows, while in the other worksheet we have information about each process in the diagram."
   ]
  },
  {
   "cell_type": "code",
   "execution_count": 10,
   "metadata": {
    "collapsed": true
   },
   "outputs": [],
   "source": [
    "FILENAME = './UK_Energy_Sankey_data.xlsx'\n",
    "processes = pd.read_excel(FILENAME, sheetname='Processes', index_col=0)\n",
    "flows = pd.read_excel(FILENAME, sheetname='Flows')"
   ]
  },
  {
   "cell_type": "markdown",
   "metadata": {},
   "source": [
    "We need to make sure that there is no repetition of flows in the data. Therefore we group and sum all flows."
   ]
  },
  {
   "cell_type": "code",
   "execution_count": 11,
   "metadata": {
    "collapsed": true
   },
   "outputs": [],
   "source": [
    "flows = flows.groupby(['source', 'target', 'type'], as_index=False).sum()"
   ]
  },
  {
   "cell_type": "markdown",
   "metadata": {},
   "source": [
    "We now create the variable which will be used to plot the diagram"
   ]
  },
  {
   "cell_type": "code",
   "execution_count": 12,
   "metadata": {
    "collapsed": true
   },
   "outputs": [],
   "source": [
    "dataset = Dataset(flows, dim_process=processes)"
   ]
  },
  {
   "cell_type": "code",
   "execution_count": 13,
   "metadata": {
    "collapsed": true
   },
   "outputs": [],
   "source": [
    "source_grouping = Partition.Simple(\n",
    "    'process',\n",
    "    ['Gas',\n",
    "     'Liquid fuel',\n",
    "     'Coal',\n",
    "     'Nuclear',\n",
    "     'Solid biomass & Waste',\n",
    "     'Renewable',\n",
    "     'Primary Electricity',\n",
    "     'Heat',\n",
    "     'Electricity'\n",
    "])\n",
    "\n",
    "sector_grouping = Partition.Simple(\n",
    "    'process',\n",
    "    ['Road','Rail','Navigation','Aviation',\n",
    "     'Industry',\n",
    "     'Commercial and public services',\n",
    "     'Residential',\n",
    "     'Agriculture/forestry'\n",
    "])\n",
    "\n",
    "EndUse_grouping =Partition.Simple(\n",
    "    'process',\n",
    "    ['Mechanical',\n",
    "     'Process Heat-Direct',\n",
    "     'Process Heat-Boiler',\n",
    "     'Space Heat',\n",
    "     'Hot Water', \n",
    "     'Space Cooling',\n",
    "     'Process Cooling',\n",
    "     'Light',\n",
    "     'Information'\n",
    "])\n",
    "\n",
    "device_grouping1 = Partition.Simple(\n",
    "    'process',\n",
    "    ['Boiler','Burner','Electric Heater','Spark Ignition Engine',\n",
    "     'Diesel Engine',\n",
    "     'Gas Turbine',\n",
    "     'Electric Motor',    \n",
    "     'Cooler',\n",
    "     'Light Device',\n",
    "     'Electronics'\n",
    "    ])\n",
    "\n",
    "useful_grouping = Partition.Simple(\n",
    "    'process', ['Heating',\n",
    "                'Motion',\n",
    "                'Cool',\n",
    "                'Illumination',\n",
    "                'Information',\n",
    "                'Loss'\n",
    "    ])\n",
    "\n",
    "trans_grouping = Partition.Simple(\n",
    "    'process', ['Transformation','Heat Plant','Power Plant'])"
   ]
  },
  {
   "cell_type": "markdown",
   "metadata": {},
   "source": [
    "TODO:\n",
    "\n",
    "- make a two-band diagram with the losses shown underneath\n",
    "- adjust to make layout neater"
   ]
  },
  {
   "cell_type": "code",
   "execution_count": 14,
   "metadata": {
    "collapsed": true
   },
   "outputs": [],
   "source": [
    "default_grouping =  Partition.Simple('process', processes.index.values)\n",
    "\n",
    "nodes = {\n",
    "    'inputs':       ProcessGroup(selection=\"Level == 1\", partition=source_grouping),\n",
    "    'Power Plants': ProcessGroup(selection=\"Level == 11\",partition=trans_grouping),\n",
    "    'Devices':      ProcessGroup(selection='Level == 2', partition=device_grouping1),\n",
    "    'Useful':       ProcessGroup(selection='Level == 3', partition=useful_grouping),\n",
    "}\n",
    "\n",
    "order = [\n",
    "    ['inputs'],\n",
    "    ['Power Plants'],\n",
    "    ['Devices'],\n",
    "    ['Useful']\n",
    "]\n",
    "\n",
    "bundles = [\n",
    "    Bundle('inputs', 'Devices'),\n",
    "    Bundle('inputs', 'Power Plants'),\n",
    "    Bundle('Power Plants', 'Devices'),\n",
    "    Bundle('Power Plants', 'Useful'),\n",
    "    Bundle('Devices','Useful'),\n",
    "]\n",
    "\n",
    "vd = SankeyDefinition(nodes, bundles, order, flow_partition=dataset.partition('type'))"
   ]
  },
  {
   "cell_type": "code",
   "execution_count": 15,
   "metadata": {
    "collapsed": true
   },
   "outputs": [],
   "source": [
    "#from palettable import qualitative\n",
    "#palette = qualitative.Pastel1_8.hex_colors\n",
    "from collections import defaultdict\n",
    "palette = defaultdict(lambda: '#999')\n",
    "palette['Coal'] = 'black'\n",
    "palette['Liquid fuel'] = 'red'\n",
    "palette['Gas'] = 'blue'\n",
    "palette['Solid biomass & Waste'] = 'Green'\n",
    "palette['Primary Electricity'] = 'Green'\n",
    "palette['Biogas'] = 'Green'\n",
    "palette['Renewable'] = 'Green'\n",
    "palette['Nuclear'] = 'darkviolet'\n",
    "palette['Wind'] = 'aquamarine'\n",
    "palette['Hydro'] = 'aquamarine'\n",
    "palette['Solar PV'] = 'aquamarine'\n",
    "palette['Waste'] = 'black'\n",
    "palette['Electricity'] = 'yellow'\n",
    "palette['Heat'] = 'orange'\n",
    "palette['Loss'] = 'gray'\n",
    "palette['Renewable Heat'] = 'orange'\n",
    "palette['Fuel'] = 'black'"
   ]
  },
  {
   "cell_type": "code",
   "execution_count": 16,
   "metadata": {},
   "outputs": [
    {
     "data": {
      "application/vnd.jupyter.widget-view+json": {
       "model_id": "f418d45c172d4000ac896d28f69ce148",
       "version_major": 2,
       "version_minor": 0
      },
      "text/plain": [
       "A Jupyter Widget"
      ]
     },
     "metadata": {},
     "output_type": "display_data"
    }
   ],
   "source": [
    "show_sankey(vd, dataset, width=900, height=600,palette=palette).auto_save_svg('Uk_Sankey_Template.svg')"
   ]
  }
 ],
 "metadata": {
  "kernelspec": {
   "display_name": "Python 3",
   "language": "python",
   "name": "python3"
  },
  "language_info": {
   "codemirror_mode": {
    "name": "ipython",
    "version": 3
   },
   "file_extension": ".py",
   "mimetype": "text/x-python",
   "name": "python",
   "nbconvert_exporter": "python",
   "pygments_lexer": "ipython3",
   "version": "3.6.3"
  },
  "widgets": {
   "application/vnd.jupyter.widget-state+json": {
    "state": {
     "3b2f71ae699740f3aaba892070362dc6": {
      "model_module": "@jupyter-widgets/base",
      "model_module_version": "1.0.0",
      "model_name": "LayoutModel",
      "state": {
       "height": "600",
       "width": "900"
      }
     },
     "42ffd2d2f7dd44ee97eff55b44c8fb10": {
      "model_module": "@jupyter-widgets/base",
      "model_module_version": "1.0.0",
      "model_name": "LayoutModel",
      "state": {
       "height": "600",
       "width": "900"
      }
     },
     "edd3e834b5ee4d708d16eab5676952b7": {
      "model_module": "jupyter-sankey-widget",
      "model_module_version": "^0.2.3",
      "model_name": "SankeyModel",
      "state": {
       "_model_module_version": "^0.2.3",
       "_view_module_version": "^0.2.3",
       "groups": [
        {
         "id": "inputs",
         "nodes": [
          "inputs^Gas",
          "inputs^Liquid fuel",
          "inputs^Coal",
          "inputs^Nuclear",
          "inputs^Solid biomass & Waste",
          "inputs^Primary Electricity"
         ],
         "title": "",
         "type": "process"
        },
        {
         "id": "Power Plants",
         "nodes": [
          "Power Plants^Transformation",
          "Power Plants^Power Plant"
         ],
         "title": "",
         "type": "process"
        },
        {
         "id": "Devices",
         "nodes": [
          "Devices^Boiler",
          "Devices^Burner",
          "Devices^Electric Heater",
          "Devices^Spark Ignition Engine",
          "Devices^Diesel Engine",
          "Devices^Gas Turbine",
          "Devices^Electric Motor",
          "Devices^Cooler",
          "Devices^Light Device",
          "Devices^Electronics"
         ],
         "title": "",
         "type": "process"
        },
        {
         "id": "__Power Plants_Useful_2",
         "nodes": [
          "__Power Plants_Useful_2^*"
         ],
         "title": "",
         "type": "group"
        },
        {
         "id": "Useful",
         "nodes": [
          "Useful^Heating",
          "Useful^Motion",
          "Useful^Cool",
          "Useful^Illumination",
          "Useful^Information",
          "Useful^Loss"
         ],
         "title": "",
         "type": "process"
        }
       ],
       "layout": "IPY_MODEL_3b2f71ae699740f3aaba892070362dc6",
       "links": [
        {
         "bundles": [
          "1"
         ],
         "color": "blue",
         "opacity": 1,
         "source": "inputs^Gas",
         "target": "Power Plants^Power Plant",
         "time": "*",
         "title": "Gas",
         "type": "Gas",
         "value": 21310.72381413523
        },
        {
         "bundles": [
          "1"
         ],
         "color": "blue",
         "opacity": 1,
         "source": "inputs^Gas",
         "target": "Power Plants^Transformation",
         "time": "*",
         "title": "Gas",
         "type": "Gas",
         "value": 45788.872801736856
        },
        {
         "bundles": [
          "1"
         ],
         "color": "red",
         "opacity": 1,
         "source": "inputs^Liquid fuel",
         "target": "Power Plants^Power Plant",
         "time": "*",
         "title": "Liquid fuel",
         "type": "Liquid fuel",
         "value": 359.3
        },
        {
         "bundles": [
          "1"
         ],
         "color": "red",
         "opacity": 1,
         "source": "inputs^Liquid fuel",
         "target": "Power Plants^Transformation",
         "time": "*",
         "title": "Liquid fuel",
         "type": "Liquid fuel",
         "value": 66569.68042792918
        },
        {
         "bundles": [
          "1"
         ],
         "color": "black",
         "opacity": 1,
         "source": "inputs^Coal",
         "target": "Power Plants^Power Plant",
         "time": "*",
         "title": "Coal",
         "type": "Coal",
         "value": 30064.95053004109
        },
        {
         "bundles": [
          "1"
         ],
         "color": "black",
         "opacity": 1,
         "source": "inputs^Coal",
         "target": "Power Plants^Transformation",
         "time": "*",
         "title": "Coal",
         "type": "Coal",
         "value": 4138.482374951184
        },
        {
         "bundles": [
          "1"
         ],
         "color": "darkviolet",
         "opacity": 1,
         "source": "inputs^Nuclear",
         "target": "Power Plants^Power Plant",
         "time": "*",
         "title": "Nuclear",
         "type": "Nuclear",
         "value": 18213.3
        },
        {
         "bundles": [
          "1"
         ],
         "color": "Green",
         "opacity": 1,
         "source": "inputs^Solid biomass & Waste",
         "target": "Power Plants^Power Plant",
         "time": "*",
         "title": "Solid biomass & Waste",
         "type": "Solid biomass & Waste",
         "value": 2831.9
        },
        {
         "bundles": [
          "1"
         ],
         "color": "Green",
         "opacity": 1,
         "source": "inputs^Solid biomass & Waste",
         "target": "Power Plants^Transformation",
         "time": "*",
         "title": "Solid biomass & Waste",
         "type": "Solid biomass & Waste",
         "value": 2290.2000000000003
        },
        {
         "bundles": [
          "1"
         ],
         "color": "yellow",
         "opacity": 1,
         "source": "inputs^Primary Electricity",
         "target": "Power Plants^Power Plant",
         "time": "*",
         "title": "Electricity",
         "type": "Electricity",
         "value": 1240.8
        },
        {
         "bundles": [
          "1"
         ],
         "color": "Green",
         "opacity": 1,
         "source": "inputs^Primary Electricity",
         "target": "Power Plants^Power Plant",
         "time": "*",
         "title": "Primary Electricity",
         "type": "Primary Electricity",
         "value": 3019.2999999999997
        },
        {
         "bundles": [
          "2"
         ],
         "color": "black",
         "opacity": 1,
         "source": "Power Plants^Transformation",
         "target": "Devices^Boiler",
         "time": "*",
         "title": "Coal",
         "type": "Coal",
         "value": 1978.1780395905128
        },
        {
         "bundles": [
          "2"
         ],
         "color": "blue",
         "opacity": 1,
         "source": "Power Plants^Transformation",
         "target": "Devices^Boiler",
         "time": "*",
         "title": "Gas",
         "type": "Gas",
         "value": 39901.466761063035
        },
        {
         "bundles": [
          "2"
         ],
         "color": "red",
         "opacity": 1,
         "source": "Power Plants^Transformation",
         "target": "Devices^Boiler",
         "time": "*",
         "title": "Liquid fuel",
         "type": "Liquid fuel",
         "value": 6046.859631007696
        },
        {
         "bundles": [
          "2"
         ],
         "color": "Green",
         "opacity": 1,
         "source": "Power Plants^Transformation",
         "target": "Devices^Boiler",
         "time": "*",
         "title": "Solid biomass & Waste",
         "type": "Solid biomass & Waste",
         "value": 1966.6666107851959
        },
        {
         "bundles": [
          "2"
         ],
         "color": "black",
         "opacity": 1,
         "source": "Power Plants^Transformation",
         "target": "Devices^Burner",
         "time": "*",
         "title": "Coal",
         "type": "Coal",
         "value": 1758.5219604094877
        },
        {
         "bundles": [
          "2"
         ],
         "color": "blue",
         "opacity": 1,
         "source": "Power Plants^Transformation",
         "target": "Devices^Burner",
         "time": "*",
         "title": "Gas",
         "type": "Gas",
         "value": 2986.5601727579638
        },
        {
         "bundles": [
          "2"
         ],
         "color": "red",
         "opacity": 1,
         "source": "Power Plants^Transformation",
         "target": "Devices^Burner",
         "time": "*",
         "title": "Liquid fuel",
         "type": "Liquid fuel",
         "value": 1067.0030664292601
        },
        {
         "bundles": [
          "2"
         ],
         "color": "Green",
         "opacity": 1,
         "source": "Power Plants^Transformation",
         "target": "Devices^Burner",
         "time": "*",
         "title": "Solid biomass & Waste",
         "type": "Solid biomass & Waste",
         "value": 323.5333892148041
        },
        {
         "bundles": [
          "2"
         ],
         "color": "blue",
         "opacity": 1,
         "source": "Power Plants^Transformation",
         "target": "Devices^Cooler",
         "time": "*",
         "title": "Gas",
         "type": "Gas",
         "value": 0.49877917704728364
        },
        {
         "bundles": [
          "2"
         ],
         "color": "red",
         "opacity": 1,
         "source": "Power Plants^Transformation",
         "target": "Devices^Cooler",
         "time": "*",
         "title": "Liquid fuel",
         "type": "Liquid fuel",
         "value": 2.0381221587569742
        },
        {
         "bundles": [
          "2"
         ],
         "color": "red",
         "opacity": 1,
         "source": "Power Plants^Transformation",
         "target": "Devices^Diesel Engine",
         "time": "*",
         "title": "Liquid fuel",
         "type": "Liquid fuel",
         "value": 27829.60356363927
        },
        {
         "bundles": [
          "2"
         ],
         "color": "blue",
         "opacity": 1,
         "source": "Power Plants^Transformation",
         "target": "Devices^Gas Turbine",
         "time": "*",
         "title": "Gas",
         "type": "Gas",
         "value": 226.03958514688117
        },
        {
         "bundles": [
          "2"
         ],
         "color": "red",
         "opacity": 1,
         "source": "Power Plants^Transformation",
         "target": "Devices^Gas Turbine",
         "time": "*",
         "title": "Liquid fuel",
         "type": "Liquid fuel",
         "value": 11868.033702847286
        },
        {
         "bundles": [
          "2"
         ],
         "color": "blue",
         "opacity": 1,
         "source": "Power Plants^Transformation",
         "target": "Devices^Spark Ignition Engine",
         "time": "*",
         "title": "Gas",
         "type": "Gas",
         "value": 228.0347018550703
        },
        {
         "bundles": [
          "2"
         ],
         "color": "red",
         "opacity": 1,
         "source": "Power Plants^Transformation",
         "target": "Devices^Spark Ignition Engine",
         "time": "*",
         "title": "Liquid fuel",
         "type": "Liquid fuel",
         "value": 13780.4241471648
        },
        {
         "bundles": [
          "3"
         ],
         "color": "gray",
         "opacity": 1,
         "source": "Power Plants^Transformation",
         "target": "__Power Plants_Useful_2^*",
         "time": "*",
         "title": "Loss",
         "type": "Loss",
         "value": 8823.773371370184
        },
        {
         "bundles": [
          "2"
         ],
         "color": "orange",
         "opacity": 1,
         "source": "Power Plants^Power Plant",
         "target": "Devices^Boiler",
         "time": "*",
         "title": "Heat",
         "type": "Heat",
         "value": 936.377573284864
        },
        {
         "bundles": [
          "2"
         ],
         "color": "orange",
         "opacity": 1,
         "source": "Power Plants^Power Plant",
         "target": "Devices^Burner",
         "time": "*",
         "title": "Heat",
         "type": "Heat",
         "value": 250.65878170699347
        },
        {
         "bundles": [
          "2"
         ],
         "color": "yellow",
         "opacity": 1,
         "source": "Power Plants^Power Plant",
         "target": "Devices^Cooler",
         "time": "*",
         "title": "Electricity",
         "type": "Electricity",
         "value": 3271.542495873238
        },
        {
         "bundles": [
          "2"
         ],
         "color": "orange",
         "opacity": 1,
         "source": "Power Plants^Power Plant",
         "target": "Devices^Cooler",
         "time": "*",
         "title": "Heat",
         "type": "Heat",
         "value": 0.0127290016285136
        },
        {
         "bundles": [
          "2"
         ],
         "color": "yellow",
         "opacity": 1,
         "source": "Power Plants^Power Plant",
         "target": "Devices^Electric Heater",
         "time": "*",
         "title": "Electricity",
         "type": "Electricity",
         "value": 9831.216030221975
        },
        {
         "bundles": [
          "2"
         ],
         "color": "yellow",
         "opacity": 1,
         "source": "Power Plants^Power Plant",
         "target": "Devices^Electric Motor",
         "time": "*",
         "title": "Electricity",
         "type": "Electricity",
         "value": 6276.20410235272
        },
        {
         "bundles": [
          "2"
         ],
         "color": "yellow",
         "opacity": 1,
         "source": "Power Plants^Power Plant",
         "target": "Devices^Electronics",
         "time": "*",
         "title": "Electricity",
         "type": "Electricity",
         "value": 4038.5619975182944
        },
        {
         "bundles": [
          "2"
         ],
         "color": "yellow",
         "opacity": 1,
         "source": "Power Plants^Power Plant",
         "target": "Devices^Light Device",
         "time": "*",
         "title": "Electricity",
         "type": "Electricity",
         "value": 3796.3302740337726
        },
        {
         "bundles": [
          "3"
         ],
         "color": "gray",
         "opacity": 1,
         "source": "Power Plants^Power Plant",
         "target": "__Power Plants_Useful_2^*",
         "time": "*",
         "title": "Loss",
         "type": "Loss",
         "value": 48639.370360182824
        },
        {
         "bundles": [
          "4"
         ],
         "color": "black",
         "opacity": 1,
         "source": "Devices^Boiler",
         "target": "Useful^Heating",
         "time": "*",
         "title": "Coal",
         "type": "Coal",
         "value": 1692.0611950275118
        },
        {
         "bundles": [
          "4"
         ],
         "color": "blue",
         "opacity": 1,
         "source": "Devices^Boiler",
         "target": "Useful^Heating",
         "time": "*",
         "title": "Gas",
         "type": "Gas",
         "value": 34992.4698378906
        },
        {
         "bundles": [
          "4"
         ],
         "color": "orange",
         "opacity": 1,
         "source": "Devices^Boiler",
         "target": "Useful^Heating",
         "time": "*",
         "title": "Heat",
         "type": "Heat",
         "value": 936.377573284864
        },
        {
         "bundles": [
          "4"
         ],
         "color": "red",
         "opacity": 1,
         "source": "Devices^Boiler",
         "target": "Useful^Heating",
         "time": "*",
         "title": "Liquid fuel",
         "type": "Liquid fuel",
         "value": 5284.291626036086
        },
        {
         "bundles": [
          "4"
         ],
         "color": "Green",
         "opacity": 1,
         "source": "Devices^Boiler",
         "target": "Useful^Heating",
         "time": "*",
         "title": "Solid biomass & Waste",
         "type": "Solid biomass & Waste",
         "value": 1457.024903908887
        },
        {
         "bundles": [
          "4"
         ],
         "color": "gray",
         "opacity": 1,
         "source": "Devices^Boiler",
         "target": "Useful^Loss",
         "time": "*",
         "title": "Loss",
         "type": "Loss",
         "value": 6467.32347958336
        },
        {
         "bundles": [
          "4"
         ],
         "color": "black",
         "opacity": 1,
         "source": "Devices^Burner",
         "target": "Useful^Heating",
         "time": "*",
         "title": "Coal",
         "type": "Coal",
         "value": 1758.5219604094877
        },
        {
         "bundles": [
          "4"
         ],
         "color": "blue",
         "opacity": 1,
         "source": "Devices^Burner",
         "target": "Useful^Heating",
         "time": "*",
         "title": "Gas",
         "type": "Gas",
         "value": 2986.5601727579638
        },
        {
         "bundles": [
          "4"
         ],
         "color": "orange",
         "opacity": 1,
         "source": "Devices^Burner",
         "target": "Useful^Heating",
         "time": "*",
         "title": "Heat",
         "type": "Heat",
         "value": 250.65878170699347
        },
        {
         "bundles": [
          "4"
         ],
         "color": "red",
         "opacity": 1,
         "source": "Devices^Burner",
         "target": "Useful^Heating",
         "time": "*",
         "title": "Liquid fuel",
         "type": "Liquid fuel",
         "value": 1067.0030664292601
        },
        {
         "bundles": [
          "4"
         ],
         "color": "Green",
         "opacity": 1,
         "source": "Devices^Burner",
         "target": "Useful^Heating",
         "time": "*",
         "title": "Solid biomass & Waste",
         "type": "Solid biomass & Waste",
         "value": 323.5333892148041
        },
        {
         "bundles": [
          "4"
         ],
         "color": "yellow",
         "opacity": 1,
         "source": "Devices^Electric Heater",
         "target": "Useful^Heating",
         "time": "*",
         "title": "Electricity",
         "type": "Electricity",
         "value": 9831.216030221975
        },
        {
         "bundles": [
          "4"
         ],
         "color": "gray",
         "opacity": 1,
         "source": "Devices^Spark Ignition Engine",
         "target": "Useful^Loss",
         "time": "*",
         "title": "Loss",
         "type": "Loss",
         "value": 11068.294844187425
        },
        {
         "bundles": [
          "4"
         ],
         "color": "blue",
         "opacity": 1,
         "source": "Devices^Spark Ignition Engine",
         "target": "Useful^Motion",
         "time": "*",
         "title": "Gas",
         "type": "Gas",
         "value": 45.60694037101406
        },
        {
         "bundles": [
          "4"
         ],
         "color": "red",
         "opacity": 1,
         "source": "Devices^Spark Ignition Engine",
         "target": "Useful^Motion",
         "time": "*",
         "title": "Liquid fuel",
         "type": "Liquid fuel",
         "value": 2894.5570644614327
        },
        {
         "bundles": [
          "4"
         ],
         "color": "gray",
         "opacity": 1,
         "source": "Devices^Diesel Engine",
         "target": "Useful^Loss",
         "time": "*",
         "title": "Loss",
         "type": "Loss",
         "value": 19754.351257108527
        },
        {
         "bundles": [
          "4"
         ],
         "color": "red",
         "opacity": 1,
         "source": "Devices^Diesel Engine",
         "target": "Useful^Motion",
         "time": "*",
         "title": "Liquid fuel",
         "type": "Liquid fuel",
         "value": 8075.252306530737
        },
        {
         "bundles": [
          "4"
         ],
         "color": "gray",
         "opacity": 1,
         "source": "Devices^Gas Turbine",
         "target": "Useful^Loss",
         "time": "*",
         "title": "Loss",
         "type": "Loss",
         "value": 7507.124015196207
        },
        {
         "bundles": [
          "4"
         ],
         "color": "blue",
         "opacity": 1,
         "source": "Devices^Gas Turbine",
         "target": "Useful^Motion",
         "time": "*",
         "title": "Gas",
         "type": "Gas",
         "value": 79.11385480140841
        },
        {
         "bundles": [
          "4"
         ],
         "color": "red",
         "opacity": 1,
         "source": "Devices^Gas Turbine",
         "target": "Useful^Motion",
         "time": "*",
         "title": "Liquid fuel",
         "type": "Liquid fuel",
         "value": 4507.83541799655
        },
        {
         "bundles": [
          "4"
         ],
         "color": "gray",
         "opacity": 1,
         "source": "Devices^Electric Motor",
         "target": "Useful^Loss",
         "time": "*",
         "title": "Loss",
         "type": "Loss",
         "value": 835.7536688390624
        },
        {
         "bundles": [
          "4"
         ],
         "color": "yellow",
         "opacity": 1,
         "source": "Devices^Electric Motor",
         "target": "Useful^Motion",
         "time": "*",
         "title": "Electricity",
         "type": "Electricity",
         "value": 5440.450433513658
        },
        {
         "bundles": [
          "4"
         ],
         "color": "yellow",
         "opacity": 1,
         "source": "Devices^Cooler",
         "target": "Useful^Cool",
         "time": "*",
         "title": "Electricity",
         "type": "Electricity",
         "value": 8720.971749351173
        },
        {
         "bundles": [
          "4"
         ],
         "color": "blue",
         "opacity": 1,
         "source": "Devices^Cooler",
         "target": "Useful^Cool",
         "time": "*",
         "title": "Gas",
         "type": "Gas",
         "value": 0.7481687655709255
        },
        {
         "bundles": [
          "4"
         ],
         "color": "orange",
         "opacity": 1,
         "source": "Devices^Cooler",
         "target": "Useful^Cool",
         "time": "*",
         "title": "Heat",
         "type": "Heat",
         "value": 0.019093502442770402
        },
        {
         "bundles": [
          "4"
         ],
         "color": "red",
         "opacity": 1,
         "source": "Devices^Cooler",
         "target": "Useful^Cool",
         "time": "*",
         "title": "Liquid fuel",
         "type": "Liquid fuel",
         "value": 3.0571832381354613
        },
        {
         "bundles": [
          "4"
         ],
         "color": "yellow",
         "opacity": 1,
         "source": "Devices^Light Device",
         "target": "Useful^Illumination",
         "time": "*",
         "title": "Electricity",
         "type": "Electricity",
         "value": 283.679148102733
        },
        {
         "bundles": [
          "4"
         ],
         "color": "gray",
         "opacity": 1,
         "source": "Devices^Light Device",
         "target": "Useful^Loss",
         "time": "*",
         "title": "Loss",
         "type": "Loss",
         "value": 3512.6511259310396
        },
        {
         "bundles": [
          "4"
         ],
         "color": "yellow",
         "opacity": 1,
         "source": "Devices^Electronics",
         "target": "Useful^Information",
         "time": "*",
         "title": "Electricity",
         "type": "Electricity",
         "value": 3432.7776978905504
        },
        {
         "bundles": [
          "4"
         ],
         "color": "gray",
         "opacity": 1,
         "source": "Devices^Electronics",
         "target": "Useful^Loss",
         "time": "*",
         "title": "Loss",
         "type": "Loss",
         "value": 605.7842996277443
        },
        {
         "bundles": [
          "3"
         ],
         "color": "gray",
         "opacity": 1,
         "source": "__Power Plants_Useful_2^*",
         "target": "Useful^Loss",
         "time": "*",
         "title": "Loss",
         "type": "Loss",
         "value": 57463.143731553006
        }
       ],
       "margins": {
        "bottom": 10,
        "left": 130,
        "right": 130,
        "top": 25
       },
       "nodes": [
        {
         "direction": "r",
         "id": "inputs^Gas",
         "style": "process",
         "title": "Gas",
         "visibility": "visible"
        },
        {
         "direction": "r",
         "id": "inputs^Liquid fuel",
         "style": "process",
         "title": "Liquid fuel",
         "visibility": "visible"
        },
        {
         "direction": "r",
         "id": "inputs^Coal",
         "style": "process",
         "title": "Coal",
         "visibility": "visible"
        },
        {
         "direction": "r",
         "id": "inputs^Nuclear",
         "style": "process",
         "title": "Nuclear",
         "visibility": "visible"
        },
        {
         "direction": "r",
         "id": "inputs^Solid biomass & Waste",
         "style": "process",
         "title": "Solid biomass & Waste",
         "visibility": "visible"
        },
        {
         "direction": "r",
         "id": "inputs^Primary Electricity",
         "style": "process",
         "title": "Primary Electricity",
         "visibility": "visible"
        },
        {
         "direction": "r",
         "id": "Power Plants^Transformation",
         "style": "process",
         "title": "Transformation",
         "visibility": "visible"
        },
        {
         "direction": "r",
         "id": "Power Plants^Power Plant",
         "style": "process",
         "title": "Power Plant",
         "visibility": "visible"
        },
        {
         "direction": "r",
         "id": "Devices^Boiler",
         "style": "process",
         "title": "Boiler",
         "visibility": "visible"
        },
        {
         "direction": "r",
         "id": "Devices^Burner",
         "style": "process",
         "title": "Burner",
         "visibility": "visible"
        },
        {
         "direction": "r",
         "id": "Devices^Electric Heater",
         "style": "process",
         "title": "Electric Heater",
         "visibility": "visible"
        },
        {
         "direction": "r",
         "id": "Devices^Spark Ignition Engine",
         "style": "process",
         "title": "Spark Ignition Engine",
         "visibility": "visible"
        },
        {
         "direction": "r",
         "id": "Devices^Diesel Engine",
         "style": "process",
         "title": "Diesel Engine",
         "visibility": "visible"
        },
        {
         "direction": "r",
         "id": "Devices^Gas Turbine",
         "style": "process",
         "title": "Gas Turbine",
         "visibility": "visible"
        },
        {
         "direction": "r",
         "id": "Devices^Electric Motor",
         "style": "process",
         "title": "Electric Motor",
         "visibility": "visible"
        },
        {
         "direction": "r",
         "id": "Devices^Cooler",
         "style": "process",
         "title": "Cooler",
         "visibility": "visible"
        },
        {
         "direction": "r",
         "id": "Devices^Light Device",
         "style": "process",
         "title": "Light Device",
         "visibility": "visible"
        },
        {
         "direction": "r",
         "id": "Devices^Electronics",
         "style": "process",
         "title": "Electronics",
         "visibility": "visible"
        },
        {
         "direction": "r",
         "id": "__Power Plants_Useful_2^*",
         "style": "group",
         "title": "",
         "visibility": "hidden"
        },
        {
         "direction": "r",
         "id": "Useful^Heating",
         "style": "process",
         "title": "Heating",
         "visibility": "visible"
        },
        {
         "direction": "r",
         "id": "Useful^Motion",
         "style": "process",
         "title": "Motion",
         "visibility": "visible"
        },
        {
         "direction": "r",
         "id": "Useful^Cool",
         "style": "process",
         "title": "Cool",
         "visibility": "visible"
        },
        {
         "direction": "r",
         "id": "Useful^Illumination",
         "style": "process",
         "title": "Illumination",
         "visibility": "visible"
        },
        {
         "direction": "r",
         "id": "Useful^Information",
         "style": "process",
         "title": "Information",
         "visibility": "visible"
        },
        {
         "direction": "r",
         "id": "Useful^Loss",
         "style": "process",
         "title": "Loss",
         "visibility": "visible"
        }
       ],
       "order": [
        [
         [
          "inputs^Gas",
          "inputs^Liquid fuel",
          "inputs^Coal",
          "inputs^Nuclear",
          "inputs^Solid biomass & Waste",
          "inputs^Primary Electricity"
         ]
        ],
        [
         [
          "Power Plants^Transformation",
          "Power Plants^Power Plant"
         ]
        ],
        [
         [
          "Devices^Boiler",
          "Devices^Burner",
          "Devices^Electric Heater",
          "Devices^Spark Ignition Engine",
          "Devices^Diesel Engine",
          "Devices^Gas Turbine",
          "Devices^Electric Motor",
          "Devices^Cooler",
          "Devices^Light Device",
          "Devices^Electronics",
          "__Power Plants_Useful_2^*"
         ]
        ],
        [
         [
          "Useful^Heating",
          "Useful^Motion",
          "Useful^Cool",
          "Useful^Illumination",
          "Useful^Information",
          "Useful^Loss"
         ]
        ]
       ],
       "png": "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",
       "scale": 0.0014035299417726457,
       "svg": "<?xml version=\"1.0\" standalone=\"no\"?><!DOCTYPE svg PUBLIC \"-//W3C//DTD SVG 1.1//EN\" \"http://www.w3.org/Graphics/SVG/1.1/DTD/svg11.dtd\"><svg xmlns=\"http://www.w3.org/2000/svg\" width=\"900\" height=\"600\" viewBox=\"0 0 900 600\" style=\"font-family: &quot;Helvetica Neue&quot;,Helvetica,Arial,sans-serif;\"><g class=\"sankey\" transform=\"translate(130,25)\"><g class=\"groups\"><g class=\"group\" style=\"display: none;\" transform=\"translate(0,56.5)\"><rect x=\"-10\" y=\"-20\" width=\"21\" height=\"482\" style=\"fill: rgb(238, 238, 238); stroke: rgb(187, 187, 187); stroke-width: 0.5;\"/><text x=\"-10\" y=\"-25\" style=\"fill: rgb(153, 153, 153);\"/></g><g class=\"group\" style=\"display: none;\" transform=\"translate(213,56.5)\"><rect x=\"-10\" y=\"-20\" width=\"21\" height=\"482\" style=\"fill: rgb(238, 238, 238); stroke: rgb(187, 187, 187); stroke-width: 0.5;\"/><text x=\"-10\" y=\"-25\" style=\"fill: rgb(153, 153, 153);\"/></g><g class=\"group\" style=\"display: none;\" transform=\"translate(426,56.5)\"><rect x=\"-10\" y=\"-20\" width=\"21\" height=\"384.3987572243802\" style=\"fill: rgb(238, 238, 238); stroke: rgb(187, 187, 187); stroke-width: 0.5;\"/><text x=\"-10\" y=\"-25\" style=\"fill: rgb(153, 153, 153);\"/></g><g class=\"group\" style=\"display: none;\" transform=\"translate(426,427.84875722438017)\"><rect x=\"-10\" y=\"-20\" width=\"21\" height=\"110.65124277561978\" style=\"fill: rgb(238, 238, 238); stroke: rgb(187, 187, 187); stroke-width: 0.5;\"/><text x=\"-10\" y=\"-25\" style=\"fill: rgb(153, 153, 153);\"/></g><g class=\"group\" style=\"display: none;\" transform=\"translate(639,56.5)\"><rect x=\"-10\" y=\"-20\" width=\"21\" height=\"482\" style=\"fill: rgb(238, 238, 238); stroke: rgb(187, 187, 187); stroke-width: 0.5;\"/><text x=\"-10\" y=\"-25\" style=\"fill: rgb(153, 153, 153);\"/></g></g><g class=\"links\"><g class=\"link\" style=\"opacity: 0.8;\"><path d=\"M214,428.23667252406057 A107.03518008010292 107.03518008010292 0.3971952058476509 0 0 255.40478556866307,419.9039417894176 L384.70966407442,365.6617137290543 A106.73931722296561 106.73931722296561 0.3971952058476509 0 1 426,357.35201603383877 L426,359.35201603383877 A104.73931722296561 104.73931722296561 0.3971952058476509 0 0 385.4833309293303,367.50601294491196 L256.17845242357333,421.74824100527525 A109.03518008010292 109.03518008010292 0.3971952058476509 0 1 214,430.23667252406057 Z\" style=\"fill: rgb(255, 165, 0);\"/><title>Power Plant → Cooler\nHeat\n12.7m</title></g><g class=\"link\" style=\"opacity: 0.8;\"><path d=\"M427,364.99794708333036 A81.03082286069225 81.03082286069225 0.6181671185104124 0 0 473.96080100934637,350.0025497307808 L594.4263210629106,264.33402753695816 A76.9118457217505 76.9118457217505 0.6181671185104124 0 1 639,250.1008796186848 L639,252.1008796186848 A74.9118457217505 74.9118457217505 0.6181671185104124 0 0 595.585405948179,265.9639116520848 L475.11988589461475,351.6324338459074 A83.03082286069225 83.03082286069225 0.6181671185104124 0 1 427,366.99794708333036 Z\" style=\"fill: rgb(255, 165, 0);\"/><title>Cooler → Cool\nHeat\n19.1m</title></g><g class=\"link\" style=\"opacity: 0.8;\"><path d=\"M214,209.83380115411833 A70.81278710587917 70.81278710587917 0.7324845470120154 0 1 261.353855872644,227.9962022054259 L380.7893443632197,335.41670434950214 A67.60785312044722 67.60785312044722 0.7324845470120154 0 0 426,352.7570886611021 L426,354.7570886611021 A69.60785312044722 69.60785312044722 0.7324845470120154 0 1 379.451906371919,336.9037348197433 L260.0164178813433,229.48323267566707 A68.81278710587917 68.81278710587917 0.7324845470120154 0 0 214,211.83380115411833 Z\" style=\"fill: rgb(0, 0, 255);\"/><title>Transformation → Cooler\nGas\n499m</title></g><g class=\"link\" style=\"opacity: 0.8;\"><path d=\"M427,364.9974086455472 A81.03028442290908 81.03028442290908 0.6181671185104124 0 0 473.96048896179826,350.00211093518595 L594.4260090153624,264.33358874136326 A76.91238415953367 76.91238415953367 0.6181671185104124 0 1 639,250.1003411809016 L639,252.1003411809016 A74.91238415953367 74.91238415953367 0.6181671185104124 0 0 595.5850939006308,265.9634728564899 L475.11957384706665,351.6319950503126 A83.03028442290908 83.03028442290908 0.6181671185104124 0 1 427,366.9974086455472 Z\" style=\"fill: rgb(0, 0, 255);\"/><title>Cooler → Cool\nGas\n748m</title></g><g class=\"link\" style=\"opacity: 0.8;\"><path d=\"M214,209.83558146261038 A70.81100679738711 70.81100679738711 0.7324845470120158 0 1 261.35266534653726,227.99752589191294 L380.78815383711293,335.4180280359892 A67.60963342893928 67.60963342893928 0.7324845470120158 0 0 426,352.75886896959423 L426,354.75886896959423 A69.60963342893928 69.60963342893928 0.7324845470120158 0 1 379.4507158458122,336.9050585062304 L260.01522735523656,229.4845563621541 A68.81100679738711 68.81100679738711 0.7324845470120158 0 0 214,211.83558146261038 Z\" style=\"fill: rgb(255, 0, 0);\"/><title>Transformation → Cooler\nLiquid fuel\n2.04</title></g><g class=\"link\" style=\"opacity: 0.8;\"><path d=\"M427,365.0001059065877 A81.03298168394954 81.03298168394954 0.6181671185104127 0 0 473.9620521390501,350.0043090466481 L594.4275721926142,264.3357868528254 A76.9096868984932 76.9096868984932 0.6181671185104127 0 1 639,250.1030384419421 L639,252.1030384419421 A74.9096868984932 74.9096868984932 0.6181671185104127 0 0 595.5866570778826,265.965670967952 L475.1211370243185,351.6341931617747 A83.03298168394954 83.03298168394954 0.6181671185104127 0 1 427,367.0001059065877 Z\" style=\"fill: rgb(255, 0, 0);\"/><title>Cooler → Cool\nLiquid fuel\n3.06</title></g><g class=\"link\" style=\"opacity: 0.8;\"><path d=\"M427,200.48453633058847 A261.92656672703777 261.92656672703777 0.14986539177538383 0 0 466.10695505566,197.54864979047935 L599.2863731848258,177.43888554970772 A265.98987083429 265.98987083429 0.14986539177538383 0 1 639,174.45745418386397 L639,176.45745418386397 A263.98987083429 263.98987083429 0.14986539177538383 0 0 599.5849832536273,179.41646791886717 L466.40556512446165,199.5262321596388 A263.92656672703777 263.92656672703777 0.14986539177538383 0 1 427,202.48453633058847 Z\" style=\"fill: rgb(0, 0, 255);\"/><title>Spark Ignition Engine → Motion\nGas\n45.6</title></g><g class=\"link\" style=\"opacity: 0.8;\"><path d=\"M427,293.129023611338 A79.81157693095466 79.81157693095466 0.5599559377653696 0 0 469.3918285367923,280.940081097514 L593.8361266088712,202.92742465896748 A85.03053725383677 85.03053725383677 0.5599559377653696 0 1 639,189.9414347767827 L639,191.9414347767827 A83.03053725383677 83.03053725383677 0.5599559377653696 0 0 594.8984243397747,204.62198168985117 L470.4541262676958,282.6346381283976 A81.81157693095466 81.81157693095466 0.5599559377653696 0 1 427,295.129023611338 Z\" style=\"fill: rgb(0, 0, 255);\"/><title>Gas Turbine → Motion\nGas\n79.1</title></g><g class=\"link\" style=\"opacity: 0.8;\"><path d=\"M214,193.01768381356086 A91.79110174827146 91.79110174827146 0.551072264478647 0 1 262.06191817741285,206.6061105355316 L383.4291892827701,281.19619139043573 A81.30390475942521 81.30390475942521 0.551072264478647 0 0 426,293.2321309422163 L426,295.2321309422163 A83.30390475942521 83.30390475942521 0.551072264478647 0 1 382.3819871626949,282.90011853668057 L261.01471605733764,208.31003768177644 A89.79110174827146 89.79110174827146 0.551072264478647 0 0 214,195.01768381356086 Z\" style=\"fill: rgb(0, 0, 255);\"/><title>Transformation → Gas Turbine\nGas\n226</title></g><g class=\"link\" style=\"opacity: 0.8;\"><path d=\"M214,134.29811061465966 A150.5106749471726 150.5106749471726 0.3928158932770942 0 1 271.6141843892872,145.76178260883557 L383.6601101014604,192.18805924157763 A110.60827248303629 110.60827248303629 0.3928158932770942 0 0 426,200.61255774331516 L426,202.61255774331516 A112.60827248303629 112.60827248303629 0.3928158932770942 0 1 382.89452740229956,194.03572889028263 L270.8486016901263,147.60945225754057 A148.5106749471726 148.5106749471726 0.3928158932770942 0 0 214,136.29811061465966 Z\" style=\"fill: rgb(0, 0, 255);\"/><title>Transformation → Spark Ignition Engine\nGas\n228</title></g><g class=\"link\" style=\"opacity: 0.8;\"><path d=\"M214,400.8618057491263 A65.52808304738637 65.52808304738637 1.0763840353628864 0 0 271.68094687927874,366.4277419815788 L368.4358824860592,186.94254095897034 A65.39535976927756 65.39535976927756 1.0763840353628864 0 1 426,152.57822136230803 L426,154.57822136230803 A63.39535976927756 63.39535976927756 1.0763840353628864 0 0 370.1963779621001,187.89156976719457 L273.4414423553196,367.37677078980295 A67.52808304738637 67.52808304738637 1.0763840353628864 0 1 214,402.8618057491263 Z\" style=\"fill: rgb(255, 165, 0);\"/><title>Power Plant → Burner\nHeat\n251</title></g><g class=\"link\" style=\"opacity: 0.8;\"><path d=\"M427,150.62656181168518 A267.52826601740605 267.52826601740605 0.15032117691391922 0 0 467.0638814641325,147.6096538118658 L599.1908800172754,127.59720350380468 A265.82708543084453 265.82708543084453 0.15032117691391922 0 1 639,124.59947966496067 L639,126.59947966496067 A263.82708543084453 263.82708543084453 0.15032117691391922 0 0 599.4903914076832,129.5746495655257 L467.36339285454034,149.58709987358682 A269.52826601740605 269.52826601740605 0.15032117691391922 0 1 427,152.62656181168518 Z\" style=\"fill: rgb(255, 165, 0);\"/><title>Burner → Heating\nHeat\n251</title></g><g class=\"link\" style=\"opacity: 0.8;\"><path d=\"M427,382.1513274198031 A82.52107332556346 82.52107332556346 0.5317136877898498 0 0 468.83910677128694,370.75842493662725 L596.1468708684797,295.8732834829114 A84.52107332556346 84.52107332556346 0.5317136877898498 0 1 639,284.20425995515757 L639,286.20425995515757 A82.52107332556346 82.52107332556346 0.5317136877898498 0 0 597.1608932287131,297.59716243833344 L469.85312913152023,372.4823038920493 A84.52107332556346 84.52107332556346 0.5317136877898498 0 1 427,384.1513274198031 Z\" style=\"fill: rgb(255, 255, 0);\"/><title>Light Device → Illumination\nElectricity\n284</title></g><g class=\"link\" style=\"opacity: 0.8;\"><path d=\"M214,133.91103944928818 A372.85448625235074 372.85448625235074 0.10559656001186157 0 1 253.29902117960384,135.98789038253088 L386.158123325642,150.06973397767317 A378.0048971412321 378.0048971412321 0.10559656001186157 0 0 426,152.17527341019792 L426,154.17527341019792 A380.0048971412321 380.0048971412321 0.10559656001186157 0 1 385.94732247636375,152.058593701722 L253.08822033032558,137.97675010657971 A370.85448625235074 370.85448625235074 0.10559656001186157 0 0 214,135.91103944928818 Z\" style=\"fill: rgb(0, 128, 0);\"/><title>Transformation → Burner\nSolid biomass &amp; Waste\n324</title></g><g class=\"link\" style=\"opacity: 0.8;\"><path d=\"M427,152.52708051549195 A269.4287847212128 269.4287847212128 0.15032117691391922 0 0 467.34849496386914,149.48874042490073 L599.475493517012,129.4762901168396 A263.92656672703777 263.92656672703777 0.15032117691391922 0 1 639,126.49999836876745 L639,128.49999836876745 A261.92656672703777 261.92656672703777 0.15032117691391922 0 0 599.7750049074198,131.45373617856063 L467.64800635427696,151.46618648662175 A271.4287847212128 271.4287847212128 0.15032117691391922 0 1 427,154.52708051549195 Z\" style=\"fill: rgb(0, 128, 0);\"/><title>Burner → Heating\nSolid biomass &amp; Waste\n324</title></g><g class=\"link\" style=\"opacity: 0.8;\"><path d=\"M1,278.791022052935 A68.33392037908058 68.33392037908058 0.7867640985058757 0 1 49.3853345234487,298.8716101384994 L156.17070227965766,405.94910086317503 A80.25920961110573 80.25920961110573 0.7867640985058757 0 0 213,429.5340513435952 L213,431.5340513435952 A82.25920961110573 82.25920961110573 0.7867640985058757 0 1 154.75455831323418,407.3613813828886 L47.96919055702522,300.283890658213 A66.33392037908058 66.33392037908058 0.7867640985058757 0 0 1,280.791022052935 Z\" style=\"fill: rgb(255, 0, 0);\"/><title>Liquid fuel → Power Plant\nLiquid fuel\n359</title></g><g class=\"link\" style=\"opacity: 0.8;\"><path d=\"M427,409.47363902298855 A401.2770132743365 401.2770132743365 0.09775519341710703 0 1 466.16446598675435,411.38942986036335 L600.0307331634147,424.517396655992 A399.2770132743365 399.2770132743365 0.09775519341710703 0 0 639,426.42363902298854 L639,428.42363902298854 A401.2770132743365 401.2770132743365 0.09775519341710703 0 1 599.8355340132457,426.50784818561374 L465.9692668365853,413.3798813899851 A399.2770132743365 399.2770132743365 0.09775519341710703 0 0 427,411.47363902298855 Z\" style=\"fill: rgb(128, 128, 128);\"/><title>Electronics → Loss\nLoss\n606</title></g><g class=\"link\" style=\"opacity: 0.8;\"><path d=\"M427,335.22023598626646 A92.85877756157116 92.85877756157116 0.4958743435493278 0 1 471.18228664602975,346.40479413340177 L580.9580868774541,405.78884343800803 A121.98782609588751 121.98782609588751 0.4958743435493278 0 0 639,420.48190714227025 L639,422.48190714227025 A123.98782609588751 123.98782609588751 0.4958743435493278 0 1 580.0064851483288,407.54794950335076 L470.23068491690435,348.1639001987445 A90.85877756157116 90.85877756157116 0.4958743435493278 0 0 427,337.22023598626646 Z\" style=\"fill: rgb(128, 128, 128);\"/><title>Electric Motor → Loss\nLoss\n836</title></g><g class=\"link\" style=\"opacity: 0.8;\"><path d=\"M214,400.02878521602446 A64.6950625142845 64.6950625142845 1.1319828300428156 0 0 272.56561970064104,362.82043408755453 L365.6238674897389,164.54229620755373 A66.6950625142845 66.6950625142845 1.1319828300428156 0 1 426,126.18367642851236 L426,128.18367642851234 A64.6950625142845 64.6950625142845 1.1319828300428156 0 0 367.43438029935896,165.3920275569823 L274.3761325102611,363.6701654369831 A66.6950625142845 66.6950625142845 1.1319828300428156 0 1 214,402.02878521602446 Z\" style=\"fill: rgb(255, 165, 0);\"/><title>Power Plant → Boiler\nHeat\n936</title></g><g class=\"link\" style=\"opacity: 0.8;\"><path d=\"M427,107.64495468504323 A0 0 0 0 0 427,107.64495468504323 L639,107.64495468504323 A0 0 0 0 0 639,107.64495468504323 L639,109.64495468504323 A0 0 0 0 0 639,109.64495468504323 L427,109.64495468504323 A0 0 0 0 0 427,109.64495468504323 Z\" style=\"fill: rgb(255, 165, 0);\"/><title>Boiler → Heating\nHeat\n936</title></g><g class=\"link\" style=\"opacity: 0.8;\"><path d=\"M214,132.93520967397677 A373.83031602766215 373.83031602766215 0.10559656001186157 0 1 253.40187405229716,135.01749611370863 L386.26097619833536,149.09933970885092 A377.0290673659207 377.0290673659207 0.10559656001186157 0 0 426,151.1994436348865 L426,153.1994436348865 A379.0290673659207 379.0290673659207 0.10559656001186157 0 1 386.0501753490571,151.08819943289976 L253.1910732030189,137.00635583775747 A371.83031602766215 371.83031602766215 0.10559656001186157 0 0 214,134.93520967397677 Z\" style=\"fill: rgb(255, 0, 0);\"/><title>Transformation → Burner\nLiquid fuel\n1.07k</title></g><g class=\"link\" style=\"opacity: 0.8;\"><path d=\"M427,151.55125074018054 A268.4529549459014 268.4529549459014 0.15032117691391922 0 0 467.2023588974667,148.5239150518509 L599.3293574506096,128.51146474378976 A264.9023965023492 264.9023965023492 0.15032117691391922 0 1 639,125.52416859345601 L639,127.52416859345601 A262.9023965023492 262.9023965023492 0.15032117691391922 0 0 599.6288688410174,130.48891080551078 L467.5018702878745,150.50136111357193 A270.4529549459014 270.4529549459014 0.15032117691391922 0 1 427,153.55125074018054 Z\" style=\"fill: rgb(255, 0, 0);\"/><title>Burner → Heating\nLiquid fuel\n1.07k</title></g><g class=\"link\" style=\"opacity: 0.8;\"><path d=\"M1,502.3915720709301 A0 0 0 0 1 1,502.3915720709301 L213,502.3915720709302 A0 0 0 0 0 213,502.3915720709302 L213,504.3915720709302 A0 0 0 0 1 213,504.3915720709302 L1,504.3915720709301 A0 0 0 0 0 1,504.3915720709301 Z\" style=\"fill: rgb(255, 255, 0);\"/><title>Primary Electricity → Power Plant\nElectricity\n1.24k</title></g><g class=\"link\" style=\"opacity: 0.8;\"><path d=\"M427,116.71873318369819 A0 0 0 0 0 427,116.71873318369819 L639,116.71873318369819 A0 0 0 0 0 639,116.71873318369819 L639,118.76371126224274 A0 0 0 0 0 639,118.76371126224274 L427,118.76371126224274 A0 0 0 0 0 427,118.76371126224274 Z\" style=\"fill: rgb(0, 128, 0);\"/><title>Boiler → Heating\nSolid biomass &amp; Waste\n1.46k</title></g><g class=\"link\" style=\"opacity: 0.8;\"><path d=\"M427,56.5 A0 0 0 0 0 427,56.5 L639,56.5 A0 0 0 0 0 639,56.5 L639,58.87485855053272 A0 0 0 0 0 639,58.87485855053272 L427,58.87485855053272 A0 0 0 0 0 427,58.87485855053272 Z\" style=\"fill: rgb(0, 0, 0);\"/><title>Boiler → Heating\nCoal\n1.69k</title></g><g class=\"link\" style=\"opacity: 0.8;\"><path d=\"M214,126.5265594480575 A380.2389662535815 380.2389662535815 0.10559656001186157 0 1 254.07734850747275,128.64454295378505 L386.936450653511,142.7263865489273 A370.62041714000134 370.62041714000134 0.10559656001186157 0 0 426,144.79079340896723 L426,147.25893163366666 A373.0885553647008 373.0885553647008 0.10559656001186157 0 1 386.67630783655954,145.18077690317236 L253.81720569052138,131.0989333080301 A377.770828028882 377.770828028882 0.10559656001186157 0 0 214,128.99469767275696 Z\" style=\"fill: rgb(0, 0, 0);\"/><title>Transformation → Burner\nCoal\n1.76k</title></g><g class=\"link\" style=\"opacity: 0.8;\"><path d=\"M427,144.79079340896723 A261.692497614688 261.692497614688 0.15032117691391922 0 0 466.1899419099345,141.8396951893305 L598.3169404630773,121.8272448812694 A271.66285383356256 271.66285383356256 0.15032117691391922 0 1 639,118.76371126224272 L639,121.23184948694218 A269.1947156088631 269.1947156088631 0.15032117691391922 0 0 598.6865582187766,124.26754998737692 L466.5595596656337,144.28000029543804 A264.1606358393875 264.1606358393875 0.15032117691391922 0 1 427,147.25893163366666 Z\" style=\"fill: rgb(0, 0, 0);\"/><title>Burner → Heating\nCoal\n1.76k</title></g><g class=\"link\" style=\"opacity: 0.8;\"><path d=\"M214,123.76628397433595 A0 0 0 0 0 214,123.76628397433595 L426,123.76628397433595 A0 0 0 0 0 426,123.76628397433595 L426,126.5265594480575 A0 0 0 0 0 426,126.5265594480575 L214,126.5265594480575 A0 0 0 0 0 214,126.5265594480575 Z\" style=\"fill: rgb(0, 128, 0);\"/><title>Transformation → Boiler\nSolid biomass &amp; Waste\n1.97k</title></g><g class=\"link\" style=\"opacity: 0.8;\"><path d=\"M214,56.5 A0 0 0 0 0 214,56.5 L426,56.5 A0 0 0 0 0 426,56.5 L426,59.2764321087224 A0 0 0 0 0 426,59.2764321087224 L214,59.2764321087224 A0 0 0 0 0 214,59.2764321087224 Z\" style=\"fill: rgb(0, 0, 0);\"/><title>Transformation → Boiler\nCoal\n1.98k</title></g><g class=\"link\" style=\"opacity: 0.8;\"><path d=\"M1,459.90175610748315 A62.47935205480837 62.47935205480837 1.0493518126004318 0 0 55.17587891280144,428.54544338391884 L156.03694414170403,252.97657304638358 A65.69371632745609 65.69371632745609 1.0493518126004318 0 1 213,220.00707759883423 L213,223.22144187148191 A62.47935205480837 62.47935205480837 1.0493518126004318 0 0 158.82412108719856,254.57775459504626 L57.96305585829596,430.1466249325815 A65.69371632745609 65.69371632745609 1.0493518126004318 0 1 1,463.11612038013084 Z\" style=\"fill: rgb(0, 128, 0);\"/><title>Solid biomass &amp; Waste → Transformation\nSolid biomass &amp; Waste\n2.29k</title></g><g class=\"link\" style=\"opacity: 0.8;\"><path d=\"M1,463.11612038013084 A197.58101608805072 197.58101608805072 0.2029564428701427 0 1 40.82560899955331,467.1714823904824 L173.97554647836125,494.5723837005328 A193.60635964594474 193.60635964594474 0.2029564428701427 0 0 213,498.54616565294845 L213,502.52082209505437 A197.58101608805072 197.58101608805072 0.2029564428701427 0 1 173.1743910004467,498.4654600847027 L40.02445352163875,471.06455877465237 A193.60635964594474 193.60635964594474 0.2029564428701427 0 0 1,467.09077682223676 Z\" style=\"fill: rgb(0, 128, 0);\"/><title>Solid biomass &amp; Waste → Power Plant\nSolid biomass &amp; Waste\n2.83k</title></g><g class=\"link\" style=\"opacity: 0.8;\"><path d=\"M427,201.51654168377013 A262.9585720802194 262.9585720802194 0.14986539177538383 0 0 466.26103865041864,198.56908758614446 L599.4404567795843,178.45932334537284 A264.95786548110834 264.95786548110834 0.14986539177538383 0 1 639,175.48945953704563 L639,179.55205704518679 A260.8952679729672 260.8952679729672 0.14986539177538383 0 0 600.0470230402939,182.47638394791838 L466.8676049111282,202.58614818869 A267.0211695883606 267.0211695883606 0.14986539177538383 0 1 427,205.57913919191128 Z\" style=\"fill: rgb(255, 0, 0);\"/><title>Spark Ignition Engine → Motion\nLiquid fuel\n2.89k</title></g><g class=\"link\" style=\"opacity: 0.8;\"><path d=\"M214,128.99469767275696 A377.770828028882 377.770828028882 0.10559656001186157 0 1 253.81720569052135,131.0989333080301 L386.67630783655954,145.18077690317236 A373.0885553647008 373.0885553647008 0.10559656001186157 0 0 426,147.2589316336667 L426,151.45065825903816 A377.28028199007235 377.28028199007235 0.10559656001186157 0 1 386.2344980702742,149.34915503288457 L253.37539592423605,135.2673114377423 A373.5791014035105 373.5791014035105 0.10559656001186157 0 0 214,133.18642429812843 Z\" style=\"fill: rgb(0, 0, 255);\"/><title>Transformation → Burner\nGas\n2.99k</title></g><g class=\"link\" style=\"opacity: 0.8;\"><path d=\"M427,147.2589316336667 A264.1606358393875 264.1606358393875 0.15032117691391922 0 0 466.5595596656337,144.28000029543804 L598.6865582187766,124.26754998737691 A269.1947156088631 269.1947156088631 0.15032117691391922 0 1 639,121.23184948694217 L639,125.42357611231364 A265.00298898349155 265.00298898349155 0.15032117691391922 0 0 599.3142931536638,128.4120066409529 L467.18729460052094,148.42445694901406 A268.35236246475904 268.35236246475904 0.15032117691391922 0 1 427,151.45065825903816 Z\" style=\"fill: rgb(0, 0, 255);\"/><title>Burner → Heating\nGas\n2.99k</title></g><g class=\"link\" style=\"opacity: 0.8;\"><path d=\"M1,504.2623220468059 A0 0 0 0 1 1,504.2623220468059 L213,504.26232204680593 A0 0 0 0 0 213,504.26232204680593 L213,508.5000000000001 A0 0 0 0 1 213,508.5000000000001 L1,508.50000000000006 A0 0 0 0 0 1,508.50000000000006 Z\" style=\"fill: rgb(0, 128, 0);\"/><title>Primary Electricity → Power Plant\nPrimary Electricity\n3.02k</title></g><g class=\"link\" style=\"opacity: 0.8;\"><path d=\"M214,424.6449557425534 A103.44346329859576 103.44346329859576 0.3971952058476509 0 0 254.01538945562456,416.5918415675593 L383.3202679613815,362.34961350719607 A110.33103400447277 110.33103400447277 0.3971952058476509 0 1 426,353.7602992523316 L426,358.3520071010713 A105.73932615573307 105.73932615573307 0.3971952058476509 0 0 385.09649404638213,366.5838550996351 L255.79161554062514,420.82608315999846 A108.03517114733546 108.03517114733546 0.3971952058476509 0 1 214,429.2366635912931 Z\" style=\"fill: rgb(255, 255, 0);\"/><title>Power Plant → Cooler\nElectricity\n3.27k</title></g><g class=\"link\" style=\"opacity: 0.8;\"><path d=\"M427,405.2305145391581 A88.93720580104916 88.93720580104916 0.472813083762627 0 0 467.50134061969624,395.4732808504147 L596.304575230759,329.58914956400645 A93.75521208348793 93.75521208348793 0.472813083762627 0 1 639,319.3033360442669 L639,324.1213423267057 A88.93720580104916 88.93720580104916 0.472813083762627 0 0 598.4986593803038,333.8785760154491 L469.695424769241,399.76270730185735 A93.75521208348793 93.75521208348793 0.472813083762627 0 1 427,410.04852082159687 Z\" style=\"fill: rgb(255, 255, 0);\"/><title>Electronics → Information\nElectricity\n3.43k</title></g><g class=\"link\" style=\"opacity: 0.8;\"><path d=\"M427,383.3504035089125 A182.39329228316137 182.39329228316137 0.22141763175542373 0 1 467.05591375704853,387.80315279251283 L600.0268020586933,417.73601881744094 A177.46318125291577 177.46318125291577 0.22141763175542373 0 0 639,422.06840979135126 L639,426.99852082159686 A182.39329228316137 182.39329228316137 0.22141763175542373 0 1 598.9440862429516,422.54577153799653 L465.9731979413067,392.6129055130684 A177.46318125291577 177.46318125291577 0.22141763175542373 0 0 427,388.2805145391581 Z\" style=\"fill: rgb(128, 128, 128);\"/><title>Light Device → Loss\nLoss\n3.51k</title></g><g class=\"link\" style=\"opacity: 0.8;\"><path d=\"M214,429.236681456828 A149.93442587108382 149.93442587108382 0.26352320755931435 0 0 253.0554802690458,424.06068028788616 L385.5565937933487,388.3121935554353 A155.26268907954818 155.26268907954818 0.26352320755931435 0 1 426,382.95225133069374 L426,388.2805145391581 A149.93442587108382 149.93442587108382 0.26352320755931435 0 0 386.9445197309542,393.45651570809997 L254.44340620665128,429.20500244055086 A155.26268907954818 155.26268907954818 0.26352320755931435 0 1 214,434.5649446652924 Z\" style=\"fill: rgb(255, 255, 0);\"/><title>Power Plant → Light Device\nElectricity\n3.80k</title></g><g class=\"link\" style=\"opacity: 0.8;\"><path d=\"M214,434.5649446652924 A231.38472283062598 231.38472283062598 0.16850043042162666 0 0 252.80419133081622,431.2879259890132 L386.24522052759824,408.5878104995808 A237.05296551584806 237.05296551584806 0.16850043042162666 0 1 426,405.2305145391581 L426,410.8987572243801 A231.38472283062598 231.38472283062598 0.16850043042162666 0 0 387.19580866918375,414.1757759006593 L253.7547794724018,436.8758913900917 A237.05296551584806 237.05296551584806 0.16850043042162666 0 1 214,440.2331873505144 Z\" style=\"fill: rgb(255, 255, 0);\"/><title>Power Plant → Electronics\nElectricity\n4.04k</title></g><g class=\"link\" style=\"opacity: 0.8;\"><path d=\"M1,315.473211479792 A78.85446926214587 78.85446926214587 0.5476024784370157 0 0 42.05493145312034,303.9427344194927 L168.92092912028366,226.57841499022607 A84.66295318888821 84.66295318888821 0.5476024784370157 0 1 213,214.19859367209187 L213,220.00707759883426 A78.85446926214586 78.85446926214586 0.5476024784370157 0 0 171.9450685468797,231.53755465913355 L45.07907087971635,308.9018740884002 A84.66295318888822 84.66295318888822 0.5476024784370157 0 1 1,321.28169540653437 Z\" style=\"fill: rgb(0, 0, 0);\"/><title>Coal → Transformation\nCoal\n4.14k</title></g><g class=\"link\" style=\"opacity: 0.8;\"><path d=\"M427,294.1845429433494 A80.86709626296607 80.86709626296607 0.5599559377653693 0 0 469.9524664324525,281.83439995016073 L594.3967645045315,203.82174351161427 A83.97501792182535 83.97501792182535 0.5599559377653693 0 1 639,190.9969541087941 L639,197.3238360905355 A77.64813594008399 77.64813594008399 0.5599559377653693 0 0 597.7572806909806,209.18237468447978 L473.31298261890163,287.19503112302624 A87.19397824470744 87.19397824470744 0.5599559377653693 0 1 427,300.5114249250908 Z\" style=\"fill: rgb(255, 0, 0);\"/><title>Gas Turbine → Motion\nLiquid fuel\n4.51k</title></g><g class=\"link\" style=\"opacity: 0.8;\"><path d=\"M427,109.30207166549809 A0 0 0 0 0 427,109.30207166549809 L639,109.30207166549809 A0 0 0 0 0 639,109.30207166549809 L639,116.71873318369819 A0 0 0 0 0 639,116.71873318369819 L427,116.71873318369819 A0 0 0 0 0 427,116.71873318369819 Z\" style=\"fill: rgb(255, 0, 0);\"/><title>Boiler → Heating\nLiquid fuel\n5.28k</title></g><g class=\"link\" style=\"opacity: 0.8;\"><path d=\"M427,327.99789825701913 A67.37414937990884 67.37414937990884 0.6798385997637819 0 0 469.35593909342776,313.01888632497 L591.8436594386551,214.00049119625976 A75.00998446007524 75.00998446007524 0.6798385997637819 0 1 639,197.32383609053548 L639,204.95967117070185 A67.37414937990884 67.37414937990884 0.6798385997637819 0 0 596.6440609065723,219.93868310275099 L474.1563405613449,318.9570782314613 A75.00998446007524 75.00998446007524 0.6798385997637819 0 1 427,335.63373333718556 Z\" style=\"fill: rgb(255, 255, 0);\"/><title>Electric Motor → Motion\nElectricity\n5.44k</title></g><g class=\"link\" style=\"opacity: 0.8;\"><path d=\"M214,115.27933542852034 A0 0 0 0 0 214,115.27933542852034 L426,115.27933542852034 A0 0 0 0 0 426,115.27933542852034 L426,123.76628397433595 A0 0 0 0 0 426,123.76628397433595 L214,123.76628397433595 A0 0 0 0 0 214,123.76628397433595 Z\" style=\"fill: rgb(255, 0, 0);\"/><title>Transformation → Boiler\nLiquid fuel\n6.05k</title></g><g class=\"link\" style=\"opacity: 0.8;\"><path d=\"M214,415.83611536422507 A85.52150405910812 85.52150405910812 0.4823326777779857 0 0 253.66889229384046,406.079422667066 L382.2451536055391,338.7595446150758 A94.33034443743647 94.33034443743647 0.4823326777779857 0 1 426,327.99789825701913 L426,336.8067386353475 A85.52150405910812 85.52150405910812 0.4823326777779857 0 0 386.33110770615957,346.5634313325065 L257.7548463944609,413.8833093844967 A94.33034443743647 94.33034443743647 0.4823326777779857 0 1 214,424.6449557425534 Z\" style=\"fill: rgb(255, 255, 0);\"/><title>Power Plant → Electric Motor\nElectricity\n6.28k</title></g><g class=\"link\" style=\"opacity: 0.8;\"><path d=\"M427,118.76371126224272 A68.6043434270474 68.6043434270474 1.0476784059709079 0 1 486.42959171138915,153.0944560151817 L587.4335734901584,328.23291916324496 A59.5272612803229 59.5272612803229 1.0476784059709079 0 0 639,358.0213423267057 L639,367.09842447343016 A68.6043434270474 68.6043434270474 1.0476784059709079 0 1 579.5704082886108,332.76767972049123 L478.5664265098416,157.6292165724279 A59.5272612803229 59.5272612803229 1.0476784059709079 0 0 427,127.84079340896723 Z\" style=\"fill: rgb(128, 128, 128);\"/><title>Boiler → Loss\nLoss\n6.47k</title></g><g class=\"link\" style=\"opacity: 0.8;\"><path d=\"M427,300.5114249250908 A83.11771624868764 83.11771624868764 0.6407610496884569 0 1 476.6882448007275,316.9985694891506 L572.1265546267639,388.1695347398934 A111.86485011487817 111.86485011487817 0.6407610496884569 0 0 639,410.35893116126095 L639,420.89540449318935 A122.40132344680653 122.40132344680653 0.6407610496884569 0 1 565.8277907785516,396.61600407677565 L470.3894809525153,325.4450388260329 A72.58124291675928 72.58124291675928 0.6407610496884569 0 0 427,311.0478982570192 Z\" style=\"fill: rgb(128, 128, 128);\"/><title>Gas Turbine → Loss\nLoss\n7.51k</title></g><g class=\"link\" style=\"opacity: 0.8;\"><path d=\"M427,238.06382241009615 A118.32768893676428 118.32768893676428 0.3302760311154942 0 0 465.37416095720135,231.66854942128884 L596.9502216923726,186.55989264831652 A129.66154733634878 129.66154733634878 0.3302760311154942 0 1 639,179.55205704518679 L639,190.8859154447713 A118.32768893676428 118.32768893676428 0.3302760311154942 0 0 600.6258390427987,197.28118843357862 L469.0497783076274,242.38984520655094 A129.66154733634878 129.66154733634878 0.3302760311154942 0 1 427,249.39768080968068 Z\" style=\"fill: rgb(255, 0, 0);\"/><title>Diesel Engine → Motion\nLiquid fuel\n8.08k</title></g><g class=\"link\" style=\"opacity: 0.8;\"><path d=\"M427,353.75673863534746 A69.78961441270935 69.78961441270935 0.6181671185104123 0 0 467.4460436072419,340.84161618868325 L587.911563660806,255.1730939948606 A88.1530541697334 88.1530541697334 0.6181671185104123 0 1 639,238.8596711707019 L639,251.09981614226965 A75.91290919816566 75.91290919816566 0.6181671185104123 0 0 595.0052471758254,265.14810292286353 L474.5397271222612,350.81662511668617 A82.02975938427709 82.02975938427709 0.6181671185104123 0 1 427,365.99688360691516 Z\" style=\"fill: rgb(255, 255, 0);\"/><title>Cooler → Cool\nElectricity\n8.72k</title></g><g class=\"link\" style=\"opacity: 0.8;\"><path d=\"M214,210.83701174534778 A69.8095765146497 69.8095765146497 0.9861224297509725 0 1 272.2136554353276,242.116764823967 L378.1136232006397,402.1181269983197 A57.42514638851549 57.42514638851549 0.9861224297509725 0 0 426,427.84875722438017 L426,440.2331873505144 A69.8095765146497 69.8095765146497 0.9861224297509725 0 1 367.7863445646724,408.9534342718952 L261.8863767993603,248.95207209754244 A57.42514638851549 57.42514638851549 0.9861224297509725 0 0 214,223.22144187148197 Z\" style=\"fill: rgb(128, 128, 128);\"/><title>Transformation → \nLoss\n8.82k</title></g><g class=\"link\" style=\"opacity: 0.8;\"><path d=\"M214,402.0377093017733 A66.70398660003339 66.70398660003339 1.0514333996389806 0 0 271.908102253735,368.4407237998219 L364.58672616276726,206.33473255766705 A70.74157217505318 70.74157217505318 1.0514333996389806 0 1 426,170.70412491495503 L426,184.5025309774068 A56.94316611260143 56.94316611260143 1.0514333996389806 0 0 376.565613031916,213.18325643076855 L283.88698912288373,375.2892476729234 A80.50239266248515 80.50239266248515 1.0514333996389806 0 1 214,415.836115364225 Z\" style=\"fill: rgb(255, 255, 0);\"/><title>Power Plant → Electric Heater\nElectricity\n9.83k</title></g><g class=\"link\" style=\"opacity: 0.8;\"><path d=\"M427,170.70412491495503 A156.41235950145457 156.41235950145457 0.2451868692104724 0 0 464.9671622179316,166.02614120860343 L597.6834456816498,132.81770945525906 A170.21076556390634 170.21076556390634 0.2451868692104724 0 1 639,127.72704276823052 L639,141.52544883068228 A156.41235950145457 156.41235950145457 0.2451868692104724 0 0 601.0328377820683,146.20343253703388 L468.31655431835014,179.41186429037825 A170.21076556390634 170.21076556390634 0.2451868692104724 0 1 427,184.5025309774068 Z\" style=\"fill: rgb(255, 255, 0);\"/><title>Electric Heater → Heating\nElectricity\n9.83k</title></g><g class=\"link\" style=\"opacity: 0.8;\"><path d=\"M427,205.57913919191128 A73.73390349120496 73.73390349120496 0.8226569822050465 0 1 481.0436993300481,229.15362595231994 L588.7160419650241,345.1639803541062 A68.6043434270474 68.6043434270474 0.8226569822050465 0 0 639,367.09842447343016 L639,382.63310769161495 A84.13902664523225 84.13902664523225 0.8226569822050465 0 1 577.3298043012163,355.73185500100846 L469.6574616662403,239.72150059922217 A58.1992202730201 58.1992202730201 0.8226569822050465 0 0 427,221.11382241009613 Z\" style=\"fill: rgb(128, 128, 128);\"/><title>Spark Ignition Engine → Loss\nLoss\n11.1k</title></g><g class=\"link\" style=\"opacity: 0.8;\"><path d=\"M214,194.17631047645062 A90.6324750853817 90.6324750853817 0.5510722644786474 0 1 261.455260028536,207.5932182471621 L382.8225311338931,282.1832991020662 A82.46253142231497 82.46253142231497 0.5510722644786474 0 0 426,294.3907576051061 L426,311.0478982570192 A99.119672074228 99.119672074228 0.5510722644786474 0 1 374.1008346313563,296.3745761698727 L252.73356352599916,221.78449531496858 A73.97533443346866 73.97533443346866 0.5510722644786474 0 0 214,210.83345112836366 Z\" style=\"fill: rgb(255, 0, 0);\"/><title>Transformation → Gas Turbine\nLiquid fuel\n11.9k</title></g><g class=\"link\" style=\"opacity: 0.8;\"><path d=\"M214,135.45813738056808 A149.3506481812642 149.3506481812642 0.3928158932770942 0 1 271.17013617801564,146.83345573236275 L383.2160618901889,193.2597323651048 A111.76829924894469 111.76829924894469 0.3928158932770942 0 0 426,201.77258450922358 L426,221.11382241009613 A131.10953714981727 131.10953714981727 0.3928158932770942 0 1 375.8124033315581,211.12784148401727 L263.76647761938483,164.7015648512752 A130.00941028039165 130.00941028039165 0.3928158932770942 0 0 214,154.79937528144063 Z\" style=\"fill: rgb(255, 0, 0);\"/><title>Transformation → Spark Ignition Engine\nLiquid fuel\n13.8k</title></g><g class=\"link\" style=\"opacity: 0.8;\"><path d=\"M1,398.9087989461779 A114.90375636550584 114.90375636550584 0.43547891385053683 0 1 49.47153668558163,409.63298265829917 L160.81426628866205,461.4373149776943 A123.70841203197124 123.70841203197124 0.43547891385053683 0 0 213,472.9832537644607 L213,498.54616565294845 A149.27132392045897 149.27132392045897 0.43547891385053683 0 1 150.03068827010134,484.6143922165569 L38.68795866702093,432.81005989716175 A89.34084447701812 89.34084447701812 0.43547891385053683 0 0 1,424.47171083466566 Z\" style=\"fill: rgb(148, 0, 211);\"/><title>Nuclear → Power Plant\nNuclear\n18.2k</title></g><g class=\"link\" style=\"opacity: 0.8;\"><path d=\"M427,249.39768080968062 A84.4473806448471 84.4473806448471 0.7364799871841381 0 1 483.7219815143691,271.2832767064943 L582.4851350324377,360.82742559410696 A84.13902664523225 84.13902664523225 0.7364799871841381 0 0 639,382.633107691615 L639,410.3589311612609 A111.86485011487817 111.86485011487817 0.7364799871841381 0 1 563.8621341257556,381.3677548100588 L465.09898060768694,291.8236059224461 A56.721557175201184 56.721557175201184 0.7364799871841381 0 0 427,277.12350427932654 Z\" style=\"fill: rgb(128, 128, 128);\"/><title>Diesel Engine → Loss\nLoss\n19.8k</title></g><g class=\"link\" style=\"opacity: 0.8;\"><path d=\"M1,120.7660539772568 A81.00706545706628 81.00706545706628 1.1448123861190942 0 1 74.76767405428976,168.29962367147385 L166.4695643963855,370.3889185823959 A51.09682650308012 51.09682650308012 1.1448123861190942 0 0 213,400.3716682355696 L213,430.2819071895558 A81.00706545706628 81.00706545706628 1.1448123861190942 0 1 139.23232594571024,382.7483374953387 L47.53043560361452,180.65904258441668 A51.09682650308012 51.09682650308012 1.1448123861190942 0 0 1,150.67629293124295 Z\" style=\"fill: rgb(0, 0, 255);\"/><title>Gas → Power Plant\nGas\n21.3k</title></g><g class=\"link\" style=\"opacity: 0.8;\"><path d=\"M214,154.79937528144066 A130.00941028039165 130.00941028039165 0.4725137452171646 0 1 273.1706664599546,169.04489226111434 L392.3543735196652,229.9635360352292 A73.9259555270186 73.9259555270186 0.4725137452171646 0 0 426,238.06382241009618 L426,277.1235042793266 A112.98563739624905 112.98563739624905 0.4725137452171646 0 1 374.57729566867255,264.7433326247039 L255.39358860896192,203.82468885058904 A90.94972841116122 90.94972841116122 0.4725137452171646 0 0 214,193.85905715067108 Z\" style=\"fill: rgb(255, 0, 0);\"/><title>Transformation → Diesel Engine\nLiquid fuel\n27.8k</title></g><g class=\"link\" style=\"opacity: 0.8;\"><path d=\"M1,321.28169540653437 A99.08879733175493 99.08879733175493 0.6166357743299201 0 1 58.302437822884684,339.53101985401054 L165.86248893153595,415.7741337805788 A81.51135376514519 81.51135376514519 0.6166357743299201 0 0 213,430.78619549763465 L213,472.9832537644607 A123.70841203197124 123.70841203197124 0.6166357743299201 0 1 141.46019146951448,450.1996999334968 L33.90014036086323,373.95658600692855 A56.891739064928885 56.891739064928885 0.6166357743299201 0 0 1,363.4787536733604 Z\" style=\"fill: rgb(0, 0, 0);\"/><title>Coal → Power Plant\nCoal\n30.1k</title></g><g class=\"link\" style=\"opacity: 0.8;\"><path d=\"M427,58.87485855053271 A0 0 0 0 0 427,58.87485855053271 L639,58.87485855053271 A0 0 0 0 0 639,58.87485855053271 L639,107.98783770458837 A0 0 0 0 0 639,107.98783770458837 L427,107.98783770458837 A0 0 0 0 0 427,107.98783770458837 Z\" style=\"fill: rgb(0, 0, 255);\"/><title>Boiler → Heating\nGas\n35.0k</title></g><g class=\"link\" style=\"opacity: 0.8;\"><path d=\"M214,59.2764321087224 A0 0 0 0 0 214,59.2764321087224 L426,59.2764321087224 A0 0 0 0 0 426,59.2764321087224 L426,115.27933542852035 A0 0 0 0 0 426,115.27933542852035 L214,115.27933542852035 A0 0 0 0 0 214,115.27933542852035 Z\" style=\"fill: rgb(0, 0, 255);\"/><title>Transformation → Boiler\nGas\n39.9k</title></g><g class=\"link\" style=\"opacity: 0.8;\"><path d=\"M1,56.5 A0 0 0 0 0 1,56.5 L213,56.5 A0 0 0 0 0 213,56.5 L213,120.7660539772568 A0 0 0 0 0 213,120.7660539772568 L1,120.7660539772568 A0 0 0 0 0 1,120.7660539772568 Z\" style=\"fill: rgb(0, 0, 255);\"/><title>Gas → Transformation\nGas\n45.8k</title></g><g class=\"link\" style=\"opacity: 0.8;\"><path d=\"M214,440.23318735051447 A0 0 0 0 0 214,440.23318735051447 L426,440.23318735051436 A0 0 0 0 1 426,440.23318735051436 L426,508.49999999999994 A0 0 0 0 0 426,508.49999999999994 L214,508.50000000000006 A0 0 0 0 1 214,508.50000000000006 Z\" style=\"fill: rgb(128, 128, 128);\"/><title>Power Plant → \nLoss\n48.6k</title></g><g class=\"link\" style=\"opacity: 0.8;\"><path d=\"M427,427.84875722438017 A0 0 0 0 0 427,427.84875722438017 L639,427.84875722438017 A0 0 0 0 0 639,427.84875722438017 L639,508.4999999999999 A0 0 0 0 0 639,508.4999999999999 L427,508.4999999999999 A0 0 0 0 0 427,508.4999999999999 Z\" style=\"fill: rgb(128, 128, 128);\"/><title> → Loss\nLoss\n57.5k</title></g><g class=\"link\" style=\"opacity: 0.8;\"><path d=\"M1,186.10633820406048 A66.2615507846773 66.2615507846773 0.37599415642487233 0 0 25.331070364932202,181.47750703556665 L147.60379484457823,133.20726548930435 A178.0954928837233 178.0954928837233 0.37599415642487233 0 1 213,120.76605397725679 L213,214.19859367209187 A84.66295318888821 84.66295318888821 0.37599415642487233 0 0 181.9119821835176,220.11289105717634 L59.639257703871564,268.3831326034387 A159.69409047951237 159.69409047951237 0.37599415642487233 0 1 1,279.5388778988956 Z\" style=\"fill: rgb(255, 0, 0);\"/><title>Liquid fuel → Transformation\nLiquid fuel\n66.6k</title></g></g><g class=\"nodes\"><g class=\"node\" transform=\"translate(0,56.5)\"><title>Gas</title><text dy=\".35em\" text-anchor=\"end\" transform=\"translate(-4,47.08814646562148)\" style=\"display: inline;\">Gas</text><line x1=\"0\" x2=\"0\" y1=\"0\" y2=\"94.17629293124295\" style=\"display: inline; stroke: rgb(136, 136, 136); stroke-width: 4px;\"/><rect x=\"-5\" y=\"-5\" width=\"10\" style=\"fill: none; visibility: hidden; pointer-events: all;\" height=\"99.17629293124295\"/></g><g class=\"node\" transform=\"translate(0,186.10633820406048)\"><title>Liquid fuel</title><text dy=\".35em\" text-anchor=\"end\" transform=\"translate(-4,46.968414001457006)\" style=\"display: inline;\">Liquid fuel</text><line x1=\"0\" x2=\"0\" y1=\"0\" y2=\"93.93682800291401\" style=\"display: inline; stroke: rgb(136, 136, 136); stroke-width: 4px;\"/><rect x=\"-5\" y=\"-5\" width=\"10\" style=\"fill: none; visibility: hidden; pointer-events: all;\" height=\"98.93682800291401\"/></g><g class=\"node\" transform=\"translate(0,315.473211479792)\"><title>Coal</title><text dy=\".35em\" text-anchor=\"end\" transform=\"translate(-4,24.002771096784215)\" style=\"display: inline;\">Coal</text><line x1=\"0\" x2=\"0\" y1=\"0\" y2=\"48.00554219356843\" style=\"display: inline; stroke: rgb(136, 136, 136); stroke-width: 4px;\"/><rect x=\"-5\" y=\"-5\" width=\"10\" style=\"fill: none; visibility: hidden; pointer-events: all;\" height=\"53.00554219356843\"/></g><g class=\"node\" transform=\"translate(0,398.9087989461779)\"><title>Nuclear</title><text dy=\".35em\" text-anchor=\"end\" transform=\"translate(-4,12.781455944243874)\" style=\"display: inline;\">Nuclear</text><line x1=\"0\" x2=\"0\" y1=\"0\" y2=\"25.562911888487747\" style=\"display: inline; stroke: rgb(136, 136, 136); stroke-width: 4px;\"/><rect x=\"-5\" y=\"-5\" width=\"10\" style=\"fill: none; visibility: hidden; pointer-events: all;\" height=\"30.562911888487747\"/></g><g class=\"node\" transform=\"translate(0,459.90175610748315)\"><title>Solid biomass &amp; Waste</title><text dy=\".35em\" text-anchor=\"end\" transform=\"translate(-4,3.5945103573768336)\" style=\"display: inline;\">Solid biomass &amp; Waste</text><line x1=\"0\" x2=\"0\" y1=\"0\" y2=\"7.189020714753667\" style=\"display: inline; stroke: rgb(136, 136, 136); stroke-width: 4px;\"/><rect x=\"-5\" y=\"-5\" width=\"10\" style=\"fill: none; visibility: hidden; pointer-events: all;\" height=\"12.189020714753667\"/></g><g class=\"node\" transform=\"translate(0,502.52082209505437)\"><title>Primary Electricity</title><text dy=\".35em\" text-anchor=\"end\" transform=\"translate(-4,2.9895889524728148)\" style=\"display: inline;\">Primary Electricity</text><line x1=\"0\" x2=\"0\" y1=\"0\" y2=\"5.9791779049456295\" style=\"display: inline; stroke: rgb(136, 136, 136); stroke-width: 4px;\"/><rect x=\"-5\" y=\"-5\" width=\"10\" style=\"fill: none; visibility: hidden; pointer-events: all;\" height=\"10.97917790494563\"/></g><g class=\"node\" transform=\"translate(213,56.5)\"><title>Transformation</title><text dy=\".35em\" text-anchor=\"start\" transform=\"translate(-4,-10)\" style=\"display: inline;\">Transformation</text><line x1=\"0\" x2=\"0\" y1=\"-5\" y2=\"166.721441871482\" style=\"display: inline; stroke: rgb(136, 136, 136); stroke-width: 4px;\"/><rect x=\"-5\" y=\"-5\" width=\"10\" style=\"fill: none; visibility: hidden; pointer-events: all;\" height=\"171.721441871482\"/></g><g class=\"node\" transform=\"translate(213,400.3716682355696)\"><title>Power Plant</title><text dy=\".35em\" text-anchor=\"start\" transform=\"translate(-4,-10)\" style=\"display: inline;\">Power Plant</text><line x1=\"0\" x2=\"0\" y1=\"-5\" y2=\"108.12833176443041\" style=\"display: inline; stroke: rgb(136, 136, 136); stroke-width: 4px;\"/><rect x=\"-5\" y=\"-5\" width=\"10\" style=\"fill: none; visibility: hidden; pointer-events: all;\" height=\"113.12833176443041\"/></g><g class=\"node\" transform=\"translate(426,56.5)\"><title>Boiler</title><text dy=\".35em\" text-anchor=\"start\" transform=\"translate(-4,-10)\" style=\"display: inline;\">Boiler</text><line x1=\"0\" x2=\"0\" y1=\"-5\" y2=\"71.34079340896723\" style=\"display: inline; stroke: rgb(136, 136, 136); stroke-width: 4px;\"/><rect x=\"-5\" y=\"-5\" width=\"10\" style=\"fill: none; visibility: hidden; pointer-events: all;\" height=\"76.34079340896723\"/></g><g class=\"node\" transform=\"translate(426,144.79079340896723)\"><title>Burner</title><text dy=\".35em\" text-anchor=\"start\" transform=\"translate(4,4.481665752993905)\" style=\"display: inline;\">Burner</text><line x1=\"0\" x2=\"0\" y1=\"0\" y2=\"8.96333150598781\" style=\"display: inline; stroke: rgb(136, 136, 136); stroke-width: 4px;\"/><rect x=\"-5\" y=\"-5\" width=\"10\" style=\"fill: none; visibility: hidden; pointer-events: all;\" height=\"13.96333150598781\"/></g><g class=\"node\" transform=\"translate(426,170.70412491495503)\"><title>Electric Heater</title><text dy=\".35em\" text-anchor=\"start\" transform=\"translate(4,6.8992030312258805)\" style=\"display: inline;\">Electric Heater</text><line x1=\"0\" x2=\"0\" y1=\"0\" y2=\"13.798406062451761\" style=\"display: inline; stroke: rgb(136, 136, 136); stroke-width: 4px;\"/><rect x=\"-5\" y=\"-5\" width=\"10\" style=\"fill: none; visibility: hidden; pointer-events: all;\" height=\"18.79840606245176\"/></g><g class=\"node\" transform=\"translate(426,201.45253097740678)\"><title>Spark Ignition Engine</title><text dy=\".35em\" text-anchor=\"start\" transform=\"translate(4,9.830645716344677)\" style=\"display: inline;\">Spark Ignition Engine</text><line x1=\"0\" x2=\"0\" y1=\"0\" y2=\"19.661291432689353\" style=\"display: inline; stroke: rgb(136, 136, 136); stroke-width: 4px;\"/><rect x=\"-5\" y=\"-5\" width=\"10\" style=\"fill: none; visibility: hidden; pointer-events: all;\" height=\"24.661291432689353\"/></g><g class=\"node\" transform=\"translate(426,238.06382241009615)\"><title>Diesel Engine</title><text dy=\".35em\" text-anchor=\"start\" transform=\"translate(4,19.529840934615223)\" style=\"display: inline;\">Diesel Engine</text><line x1=\"0\" x2=\"0\" y1=\"0\" y2=\"39.059681869230445\" style=\"display: inline; stroke: rgb(136, 136, 136); stroke-width: 4px;\"/><rect x=\"-5\" y=\"-5\" width=\"10\" style=\"fill: none; visibility: hidden; pointer-events: all;\" height=\"44.059681869230445\"/></g><g class=\"node\" transform=\"translate(426,294.0735042793266)\"><title>Gas Turbine</title><text dy=\".35em\" text-anchor=\"start\" transform=\"translate(4,8.487196988846279)\" style=\"display: inline;\">Gas Turbine</text><line x1=\"0\" x2=\"0\" y1=\"0\" y2=\"16.974393977692557\" style=\"display: inline; stroke: rgb(136, 136, 136); stroke-width: 4px;\"/><rect x=\"-5\" y=\"-5\" width=\"10\" style=\"fill: none; visibility: hidden; pointer-events: all;\" height=\"21.974393977692557\"/></g><g class=\"node\" transform=\"translate(426,327.99789825701913)\"><title>Electric Motor</title><text dy=\".35em\" text-anchor=\"start\" transform=\"translate(4,4.4044201891641706)\" style=\"display: inline;\">Electric Motor</text><line x1=\"0\" x2=\"0\" y1=\"0\" y2=\"8.808840378328341\" style=\"display: inline; stroke: rgb(136, 136, 136); stroke-width: 4px;\"/><rect x=\"-5\" y=\"-5\" width=\"10\" style=\"fill: none; visibility: hidden; pointer-events: all;\" height=\"13.808840378328341\"/></g><g class=\"node\" transform=\"translate(426,353.75673863534746)\"><title>Cooler</title><text dy=\".35em\" text-anchor=\"start\" transform=\"translate(4,6.122756347673146)\" style=\"display: inline;\">Cooler</text><line x1=\"0\" x2=\"0\" y1=\"0\" y2=\"12.245512695346292\" style=\"display: inline; stroke: rgb(136, 136, 136); stroke-width: 4px;\"/><rect x=\"-5\" y=\"-5\" width=\"10\" style=\"fill: none; visibility: hidden; pointer-events: all;\" height=\"17.245512695346292\"/></g><g class=\"node\" transform=\"translate(426,382.95225133069374)\"><title>Light Device</title><text dy=\".35em\" text-anchor=\"start\" transform=\"translate(4,2.664131604232182)\" style=\"display: inline;\">Light Device</text><line x1=\"0\" x2=\"0\" y1=\"0\" y2=\"5.328263208464364\" style=\"display: inline; stroke: rgb(136, 136, 136); stroke-width: 4px;\"/><rect x=\"-5\" y=\"-5\" width=\"10\" style=\"fill: none; visibility: hidden; pointer-events: all;\" height=\"10.328263208464364\"/></g><g class=\"node\" transform=\"translate(426,405.2305145391581)\"><title>Electronics</title><text dy=\".35em\" text-anchor=\"start\" transform=\"translate(4,2.8341213426110414)\" style=\"display: inline;\">Electronics</text><line x1=\"0\" x2=\"0\" y1=\"0\" y2=\"5.668242685222083\" style=\"display: inline; stroke: rgb(136, 136, 136); stroke-width: 4px;\"/><rect x=\"-5\" y=\"-5\" width=\"10\" style=\"fill: none; visibility: hidden; pointer-events: all;\" height=\"10.668242685222083\"/></g><g class=\"node\" transform=\"translate(426,427.84875722438017)\"><title/><text dy=\".35em\" text-anchor=\"start\" transform=\"translate(4,40.32562138780989)\" style=\"display: none;\"/><line x1=\"0\" x2=\"0\" y1=\"0\" y2=\"80.65124277561978\" style=\"display: none; stroke: rgb(0, 0, 0);\"/><rect x=\"-5\" y=\"-5\" width=\"10\" style=\"fill: none; visibility: hidden; pointer-events: all;\" height=\"85.65124277561978\"/></g><g class=\"node\" transform=\"translate(639,56.5)\"><title>Heating</title><text dy=\".35em\" text-anchor=\"start\" transform=\"translate(4,42.512724415341154)\" style=\"display: inline;\">Heating</text><line x1=\"0\" x2=\"0\" y1=\"0\" y2=\"85.02544883068231\" style=\"display: inline; stroke: rgb(136, 136, 136); stroke-width: 4px;\"/><rect x=\"-5\" y=\"-5\" width=\"10\" style=\"fill: none; visibility: hidden; pointer-events: all;\" height=\"90.02544883068231\"/></g><g class=\"node\" transform=\"translate(639,175.42544883068229)\"><title>Motion</title><text dy=\".35em\" text-anchor=\"start\" transform=\"translate(4,14.767111170009798)\" style=\"display: inline;\">Motion</text><line x1=\"0\" x2=\"0\" y1=\"0\" y2=\"29.534222340019596\" style=\"display: inline; stroke: rgb(136, 136, 136); stroke-width: 4px;\"/><rect x=\"-5\" y=\"-5\" width=\"10\" style=\"fill: none; visibility: hidden; pointer-events: all;\" height=\"34.534222340019596\"/></g><g class=\"node\" transform=\"translate(639,238.8596711707019)\"><title>Cool</title><text dy=\".35em\" text-anchor=\"start\" transform=\"translate(4,6.122756347673146)\" style=\"display: inline;\">Cool</text><line x1=\"0\" x2=\"0\" y1=\"0\" y2=\"12.245512695346292\" style=\"display: inline; stroke: rgb(136, 136, 136); stroke-width: 4px;\"/><rect x=\"-5\" y=\"-5\" width=\"10\" style=\"fill: none; visibility: hidden; pointer-events: all;\" height=\"17.245512695346292\"/></g><g class=\"node\" transform=\"translate(639,285.0051838660482)\"><title>Illumination</title><text dy=\".35em\" text-anchor=\"start\" transform=\"translate(4,0.1990760891093828)\" style=\"display: inline;\">Illumination</text><line x1=\"0\" x2=\"0\" y1=\"0\" y2=\"1\" style=\"display: inline; stroke: rgb(136, 136, 136); stroke-width: 4px;\"/><rect x=\"-5\" y=\"-5\" width=\"10\" style=\"fill: none; visibility: hidden; pointer-events: all;\" height=\"6\"/></g><g class=\"node\" transform=\"translate(639,319.3033360442669)\"><title>Information</title><text dy=\".35em\" text-anchor=\"start\" transform=\"translate(4,2.4090031412193866)\" style=\"display: inline;\">Information</text><line x1=\"0\" x2=\"0\" y1=\"0\" y2=\"4.818006282438773\" style=\"display: inline; stroke: rgb(136, 136, 136); stroke-width: 4px;\"/><rect x=\"-5\" y=\"-5\" width=\"10\" style=\"fill: none; visibility: hidden; pointer-events: all;\" height=\"9.818006282438773\"/></g><g class=\"node\" transform=\"translate(639,358.0213423267057)\"><title>Loss</title><text dy=\".35em\" text-anchor=\"start\" transform=\"translate(4,75.23932883664716)\" style=\"display: inline;\">Loss</text><line x1=\"0\" x2=\"0\" y1=\"0\" y2=\"150.47865767329432\" style=\"display: inline; stroke: rgb(136, 136, 136); stroke-width: 4px;\"/><rect x=\"-5\" y=\"-5\" width=\"10\" style=\"fill: none; visibility: hidden; pointer-events: all;\" height=\"155.47865767329432\"/></g></g><g class=\"slice-titles\"/></g></svg>"
      }
     },
     "f418d45c172d4000ac896d28f69ce148": {
      "model_module": "jupyter-sankey-widget",
      "model_module_version": "^0.2.3",
      "model_name": "SankeyModel",
      "state": {
       "_model_module_version": "^0.2.3",
       "_view_module_version": "^0.2.3",
       "groups": [
        {
         "id": "inputs",
         "nodes": [
          "inputs^Gas",
          "inputs^Liquid fuel",
          "inputs^Coal",
          "inputs^Nuclear",
          "inputs^Solid biomass & Waste",
          "inputs^Primary Electricity"
         ],
         "rect": {
          "bottom": 508.5,
          "left": 0,
          "right": 1,
          "top": 56.5
         },
         "title": "",
         "type": "process"
        },
        {
         "id": "Power Plants",
         "nodes": [
          "Power Plants^Transformation",
          "Power Plants^Power Plant"
         ],
         "rect": {
          "bottom": 508.5,
          "left": 213,
          "right": 214,
          "top": 56.5
         },
         "title": "",
         "type": "process"
        },
        {
         "id": "Devices",
         "nodes": [
          "Devices^Boiler",
          "Devices^Burner",
          "Devices^Electric Heater",
          "Devices^Spark Ignition Engine",
          "Devices^Diesel Engine",
          "Devices^Gas Turbine",
          "Devices^Electric Motor",
          "Devices^Cooler",
          "Devices^Light Device",
          "Devices^Electronics"
         ],
         "rect": {
          "bottom": 410.8987572243802,
          "left": 426,
          "right": 427,
          "top": 56.5
         },
         "title": "",
         "type": "process"
        },
        {
         "id": "__Power Plants_Useful_2",
         "nodes": [
          "__Power Plants_Useful_2^*"
         ],
         "rect": {
          "bottom": 508.49999999999994,
          "left": 426,
          "right": 427,
          "top": 427.84875722438017
         },
         "title": "",
         "type": "group"
        },
        {
         "id": "Useful",
         "nodes": [
          "Useful^Heating",
          "Useful^Motion",
          "Useful^Cool",
          "Useful^Illumination",
          "Useful^Information",
          "Useful^Loss"
         ],
         "rect": {
          "bottom": 508.5,
          "left": 639,
          "right": 640,
          "top": 56.5
         },
         "title": "",
         "type": "process"
        }
       ],
       "layout": "IPY_MODEL_42ffd2d2f7dd44ee97eff55b44c8fb10",
       "links": [
        {
         "bundles": [
          "1"
         ],
         "color": "blue",
         "opacity": 1,
         "source": "inputs^Gas",
         "target": "Power Plants^Power Plant",
         "time": "*",
         "title": "Gas",
         "type": "Gas",
         "value": 21310.72381413523
        },
        {
         "bundles": [
          "1"
         ],
         "color": "blue",
         "opacity": 1,
         "source": "inputs^Gas",
         "target": "Power Plants^Transformation",
         "time": "*",
         "title": "Gas",
         "type": "Gas",
         "value": 45788.872801736856
        },
        {
         "bundles": [
          "1"
         ],
         "color": "red",
         "opacity": 1,
         "source": "inputs^Liquid fuel",
         "target": "Power Plants^Power Plant",
         "time": "*",
         "title": "Liquid fuel",
         "type": "Liquid fuel",
         "value": 359.3
        },
        {
         "bundles": [
          "1"
         ],
         "color": "red",
         "opacity": 1,
         "source": "inputs^Liquid fuel",
         "target": "Power Plants^Transformation",
         "time": "*",
         "title": "Liquid fuel",
         "type": "Liquid fuel",
         "value": 66569.68042792918
        },
        {
         "bundles": [
          "1"
         ],
         "color": "black",
         "opacity": 1,
         "source": "inputs^Coal",
         "target": "Power Plants^Power Plant",
         "time": "*",
         "title": "Coal",
         "type": "Coal",
         "value": 30064.95053004109
        },
        {
         "bundles": [
          "1"
         ],
         "color": "black",
         "opacity": 1,
         "source": "inputs^Coal",
         "target": "Power Plants^Transformation",
         "time": "*",
         "title": "Coal",
         "type": "Coal",
         "value": 4138.482374951184
        },
        {
         "bundles": [
          "1"
         ],
         "color": "darkviolet",
         "opacity": 1,
         "source": "inputs^Nuclear",
         "target": "Power Plants^Power Plant",
         "time": "*",
         "title": "Nuclear",
         "type": "Nuclear",
         "value": 18213.3
        },
        {
         "bundles": [
          "1"
         ],
         "color": "Green",
         "opacity": 1,
         "source": "inputs^Solid biomass & Waste",
         "target": "Power Plants^Power Plant",
         "time": "*",
         "title": "Solid biomass & Waste",
         "type": "Solid biomass & Waste",
         "value": 2831.9
        },
        {
         "bundles": [
          "1"
         ],
         "color": "Green",
         "opacity": 1,
         "source": "inputs^Solid biomass & Waste",
         "target": "Power Plants^Transformation",
         "time": "*",
         "title": "Solid biomass & Waste",
         "type": "Solid biomass & Waste",
         "value": 2290.2000000000003
        },
        {
         "bundles": [
          "1"
         ],
         "color": "yellow",
         "opacity": 1,
         "source": "inputs^Primary Electricity",
         "target": "Power Plants^Power Plant",
         "time": "*",
         "title": "Electricity",
         "type": "Electricity",
         "value": 1240.8
        },
        {
         "bundles": [
          "1"
         ],
         "color": "Green",
         "opacity": 1,
         "source": "inputs^Primary Electricity",
         "target": "Power Plants^Power Plant",
         "time": "*",
         "title": "Primary Electricity",
         "type": "Primary Electricity",
         "value": 3019.2999999999997
        },
        {
         "bundles": [
          "2"
         ],
         "color": "black",
         "opacity": 1,
         "source": "Power Plants^Transformation",
         "target": "Devices^Boiler",
         "time": "*",
         "title": "Coal",
         "type": "Coal",
         "value": 1978.1780395905128
        },
        {
         "bundles": [
          "2"
         ],
         "color": "blue",
         "opacity": 1,
         "source": "Power Plants^Transformation",
         "target": "Devices^Boiler",
         "time": "*",
         "title": "Gas",
         "type": "Gas",
         "value": 39901.466761063035
        },
        {
         "bundles": [
          "2"
         ],
         "color": "red",
         "opacity": 1,
         "source": "Power Plants^Transformation",
         "target": "Devices^Boiler",
         "time": "*",
         "title": "Liquid fuel",
         "type": "Liquid fuel",
         "value": 6046.859631007696
        },
        {
         "bundles": [
          "2"
         ],
         "color": "Green",
         "opacity": 1,
         "source": "Power Plants^Transformation",
         "target": "Devices^Boiler",
         "time": "*",
         "title": "Solid biomass & Waste",
         "type": "Solid biomass & Waste",
         "value": 1966.6666107851959
        },
        {
         "bundles": [
          "2"
         ],
         "color": "black",
         "opacity": 1,
         "source": "Power Plants^Transformation",
         "target": "Devices^Burner",
         "time": "*",
         "title": "Coal",
         "type": "Coal",
         "value": 1758.5219604094877
        },
        {
         "bundles": [
          "2"
         ],
         "color": "blue",
         "opacity": 1,
         "source": "Power Plants^Transformation",
         "target": "Devices^Burner",
         "time": "*",
         "title": "Gas",
         "type": "Gas",
         "value": 2986.5601727579638
        },
        {
         "bundles": [
          "2"
         ],
         "color": "red",
         "opacity": 1,
         "source": "Power Plants^Transformation",
         "target": "Devices^Burner",
         "time": "*",
         "title": "Liquid fuel",
         "type": "Liquid fuel",
         "value": 1067.0030664292601
        },
        {
         "bundles": [
          "2"
         ],
         "color": "Green",
         "opacity": 1,
         "source": "Power Plants^Transformation",
         "target": "Devices^Burner",
         "time": "*",
         "title": "Solid biomass & Waste",
         "type": "Solid biomass & Waste",
         "value": 323.5333892148041
        },
        {
         "bundles": [
          "2"
         ],
         "color": "blue",
         "opacity": 1,
         "source": "Power Plants^Transformation",
         "target": "Devices^Cooler",
         "time": "*",
         "title": "Gas",
         "type": "Gas",
         "value": 0.49877917704728364
        },
        {
         "bundles": [
          "2"
         ],
         "color": "red",
         "opacity": 1,
         "source": "Power Plants^Transformation",
         "target": "Devices^Cooler",
         "time": "*",
         "title": "Liquid fuel",
         "type": "Liquid fuel",
         "value": 2.0381221587569742
        },
        {
         "bundles": [
          "2"
         ],
         "color": "red",
         "opacity": 1,
         "source": "Power Plants^Transformation",
         "target": "Devices^Diesel Engine",
         "time": "*",
         "title": "Liquid fuel",
         "type": "Liquid fuel",
         "value": 27829.60356363927
        },
        {
         "bundles": [
          "2"
         ],
         "color": "blue",
         "opacity": 1,
         "source": "Power Plants^Transformation",
         "target": "Devices^Gas Turbine",
         "time": "*",
         "title": "Gas",
         "type": "Gas",
         "value": 226.03958514688117
        },
        {
         "bundles": [
          "2"
         ],
         "color": "red",
         "opacity": 1,
         "source": "Power Plants^Transformation",
         "target": "Devices^Gas Turbine",
         "time": "*",
         "title": "Liquid fuel",
         "type": "Liquid fuel",
         "value": 11868.033702847286
        },
        {
         "bundles": [
          "2"
         ],
         "color": "blue",
         "opacity": 1,
         "source": "Power Plants^Transformation",
         "target": "Devices^Spark Ignition Engine",
         "time": "*",
         "title": "Gas",
         "type": "Gas",
         "value": 228.0347018550703
        },
        {
         "bundles": [
          "2"
         ],
         "color": "red",
         "opacity": 1,
         "source": "Power Plants^Transformation",
         "target": "Devices^Spark Ignition Engine",
         "time": "*",
         "title": "Liquid fuel",
         "type": "Liquid fuel",
         "value": 13780.4241471648
        },
        {
         "bundles": [
          "3"
         ],
         "color": "gray",
         "opacity": 1,
         "source": "Power Plants^Transformation",
         "target": "__Power Plants_Useful_2^*",
         "time": "*",
         "title": "Loss",
         "type": "Loss",
         "value": 8823.773371370184
        },
        {
         "bundles": [
          "2"
         ],
         "color": "orange",
         "opacity": 1,
         "source": "Power Plants^Power Plant",
         "target": "Devices^Boiler",
         "time": "*",
         "title": "Heat",
         "type": "Heat",
         "value": 936.377573284864
        },
        {
         "bundles": [
          "2"
         ],
         "color": "orange",
         "opacity": 1,
         "source": "Power Plants^Power Plant",
         "target": "Devices^Burner",
         "time": "*",
         "title": "Heat",
         "type": "Heat",
         "value": 250.65878170699347
        },
        {
         "bundles": [
          "2"
         ],
         "color": "yellow",
         "opacity": 1,
         "source": "Power Plants^Power Plant",
         "target": "Devices^Cooler",
         "time": "*",
         "title": "Electricity",
         "type": "Electricity",
         "value": 3271.542495873238
        },
        {
         "bundles": [
          "2"
         ],
         "color": "orange",
         "opacity": 1,
         "source": "Power Plants^Power Plant",
         "target": "Devices^Cooler",
         "time": "*",
         "title": "Heat",
         "type": "Heat",
         "value": 0.0127290016285136
        },
        {
         "bundles": [
          "2"
         ],
         "color": "yellow",
         "opacity": 1,
         "source": "Power Plants^Power Plant",
         "target": "Devices^Electric Heater",
         "time": "*",
         "title": "Electricity",
         "type": "Electricity",
         "value": 9831.216030221975
        },
        {
         "bundles": [
          "2"
         ],
         "color": "yellow",
         "opacity": 1,
         "source": "Power Plants^Power Plant",
         "target": "Devices^Electric Motor",
         "time": "*",
         "title": "Electricity",
         "type": "Electricity",
         "value": 6276.20410235272
        },
        {
         "bundles": [
          "2"
         ],
         "color": "yellow",
         "opacity": 1,
         "source": "Power Plants^Power Plant",
         "target": "Devices^Electronics",
         "time": "*",
         "title": "Electricity",
         "type": "Electricity",
         "value": 4038.5619975182944
        },
        {
         "bundles": [
          "2"
         ],
         "color": "yellow",
         "opacity": 1,
         "source": "Power Plants^Power Plant",
         "target": "Devices^Light Device",
         "time": "*",
         "title": "Electricity",
         "type": "Electricity",
         "value": 3796.3302740337726
        },
        {
         "bundles": [
          "3"
         ],
         "color": "gray",
         "opacity": 1,
         "source": "Power Plants^Power Plant",
         "target": "__Power Plants_Useful_2^*",
         "time": "*",
         "title": "Loss",
         "type": "Loss",
         "value": 48639.370360182824
        },
        {
         "bundles": [
          "4"
         ],
         "color": "black",
         "opacity": 1,
         "source": "Devices^Boiler",
         "target": "Useful^Heating",
         "time": "*",
         "title": "Coal",
         "type": "Coal",
         "value": 1692.0611950275118
        },
        {
         "bundles": [
          "4"
         ],
         "color": "blue",
         "opacity": 1,
         "source": "Devices^Boiler",
         "target": "Useful^Heating",
         "time": "*",
         "title": "Gas",
         "type": "Gas",
         "value": 34992.4698378906
        },
        {
         "bundles": [
          "4"
         ],
         "color": "orange",
         "opacity": 1,
         "source": "Devices^Boiler",
         "target": "Useful^Heating",
         "time": "*",
         "title": "Heat",
         "type": "Heat",
         "value": 936.377573284864
        },
        {
         "bundles": [
          "4"
         ],
         "color": "red",
         "opacity": 1,
         "source": "Devices^Boiler",
         "target": "Useful^Heating",
         "time": "*",
         "title": "Liquid fuel",
         "type": "Liquid fuel",
         "value": 5284.291626036086
        },
        {
         "bundles": [
          "4"
         ],
         "color": "Green",
         "opacity": 1,
         "source": "Devices^Boiler",
         "target": "Useful^Heating",
         "time": "*",
         "title": "Solid biomass & Waste",
         "type": "Solid biomass & Waste",
         "value": 1457.024903908887
        },
        {
         "bundles": [
          "4"
         ],
         "color": "gray",
         "opacity": 1,
         "source": "Devices^Boiler",
         "target": "Useful^Loss",
         "time": "*",
         "title": "Loss",
         "type": "Loss",
         "value": 6467.32347958336
        },
        {
         "bundles": [
          "4"
         ],
         "color": "black",
         "opacity": 1,
         "source": "Devices^Burner",
         "target": "Useful^Heating",
         "time": "*",
         "title": "Coal",
         "type": "Coal",
         "value": 1758.5219604094877
        },
        {
         "bundles": [
          "4"
         ],
         "color": "blue",
         "opacity": 1,
         "source": "Devices^Burner",
         "target": "Useful^Heating",
         "time": "*",
         "title": "Gas",
         "type": "Gas",
         "value": 2986.5601727579638
        },
        {
         "bundles": [
          "4"
         ],
         "color": "orange",
         "opacity": 1,
         "source": "Devices^Burner",
         "target": "Useful^Heating",
         "time": "*",
         "title": "Heat",
         "type": "Heat",
         "value": 250.65878170699347
        },
        {
         "bundles": [
          "4"
         ],
         "color": "red",
         "opacity": 1,
         "source": "Devices^Burner",
         "target": "Useful^Heating",
         "time": "*",
         "title": "Liquid fuel",
         "type": "Liquid fuel",
         "value": 1067.0030664292601
        },
        {
         "bundles": [
          "4"
         ],
         "color": "Green",
         "opacity": 1,
         "source": "Devices^Burner",
         "target": "Useful^Heating",
         "time": "*",
         "title": "Solid biomass & Waste",
         "type": "Solid biomass & Waste",
         "value": 323.5333892148041
        },
        {
         "bundles": [
          "4"
         ],
         "color": "yellow",
         "opacity": 1,
         "source": "Devices^Electric Heater",
         "target": "Useful^Heating",
         "time": "*",
         "title": "Electricity",
         "type": "Electricity",
         "value": 9831.216030221975
        },
        {
         "bundles": [
          "4"
         ],
         "color": "gray",
         "opacity": 1,
         "source": "Devices^Spark Ignition Engine",
         "target": "Useful^Loss",
         "time": "*",
         "title": "Loss",
         "type": "Loss",
         "value": 11068.294844187425
        },
        {
         "bundles": [
          "4"
         ],
         "color": "blue",
         "opacity": 1,
         "source": "Devices^Spark Ignition Engine",
         "target": "Useful^Motion",
         "time": "*",
         "title": "Gas",
         "type": "Gas",
         "value": 45.60694037101406
        },
        {
         "bundles": [
          "4"
         ],
         "color": "red",
         "opacity": 1,
         "source": "Devices^Spark Ignition Engine",
         "target": "Useful^Motion",
         "time": "*",
         "title": "Liquid fuel",
         "type": "Liquid fuel",
         "value": 2894.5570644614327
        },
        {
         "bundles": [
          "4"
         ],
         "color": "gray",
         "opacity": 1,
         "source": "Devices^Diesel Engine",
         "target": "Useful^Loss",
         "time": "*",
         "title": "Loss",
         "type": "Loss",
         "value": 19754.351257108527
        },
        {
         "bundles": [
          "4"
         ],
         "color": "red",
         "opacity": 1,
         "source": "Devices^Diesel Engine",
         "target": "Useful^Motion",
         "time": "*",
         "title": "Liquid fuel",
         "type": "Liquid fuel",
         "value": 8075.252306530737
        },
        {
         "bundles": [
          "4"
         ],
         "color": "gray",
         "opacity": 1,
         "source": "Devices^Gas Turbine",
         "target": "Useful^Loss",
         "time": "*",
         "title": "Loss",
         "type": "Loss",
         "value": 7507.124015196207
        },
        {
         "bundles": [
          "4"
         ],
         "color": "blue",
         "opacity": 1,
         "source": "Devices^Gas Turbine",
         "target": "Useful^Motion",
         "time": "*",
         "title": "Gas",
         "type": "Gas",
         "value": 79.11385480140841
        },
        {
         "bundles": [
          "4"
         ],
         "color": "red",
         "opacity": 1,
         "source": "Devices^Gas Turbine",
         "target": "Useful^Motion",
         "time": "*",
         "title": "Liquid fuel",
         "type": "Liquid fuel",
         "value": 4507.83541799655
        },
        {
         "bundles": [
          "4"
         ],
         "color": "gray",
         "opacity": 1,
         "source": "Devices^Electric Motor",
         "target": "Useful^Loss",
         "time": "*",
         "title": "Loss",
         "type": "Loss",
         "value": 835.7536688390624
        },
        {
         "bundles": [
          "4"
         ],
         "color": "yellow",
         "opacity": 1,
         "source": "Devices^Electric Motor",
         "target": "Useful^Motion",
         "time": "*",
         "title": "Electricity",
         "type": "Electricity",
         "value": 5440.450433513658
        },
        {
         "bundles": [
          "4"
         ],
         "color": "yellow",
         "opacity": 1,
         "source": "Devices^Cooler",
         "target": "Useful^Cool",
         "time": "*",
         "title": "Electricity",
         "type": "Electricity",
         "value": 8720.971749351173
        },
        {
         "bundles": [
          "4"
         ],
         "color": "blue",
         "opacity": 1,
         "source": "Devices^Cooler",
         "target": "Useful^Cool",
         "time": "*",
         "title": "Gas",
         "type": "Gas",
         "value": 0.7481687655709255
        },
        {
         "bundles": [
          "4"
         ],
         "color": "orange",
         "opacity": 1,
         "source": "Devices^Cooler",
         "target": "Useful^Cool",
         "time": "*",
         "title": "Heat",
         "type": "Heat",
         "value": 0.019093502442770402
        },
        {
         "bundles": [
          "4"
         ],
         "color": "red",
         "opacity": 1,
         "source": "Devices^Cooler",
         "target": "Useful^Cool",
         "time": "*",
         "title": "Liquid fuel",
         "type": "Liquid fuel",
         "value": 3.0571832381354613
        },
        {
         "bundles": [
          "4"
         ],
         "color": "yellow",
         "opacity": 1,
         "source": "Devices^Light Device",
         "target": "Useful^Illumination",
         "time": "*",
         "title": "Electricity",
         "type": "Electricity",
         "value": 283.679148102733
        },
        {
         "bundles": [
          "4"
         ],
         "color": "gray",
         "opacity": 1,
         "source": "Devices^Light Device",
         "target": "Useful^Loss",
         "time": "*",
         "title": "Loss",
         "type": "Loss",
         "value": 3512.6511259310396
        },
        {
         "bundles": [
          "4"
         ],
         "color": "yellow",
         "opacity": 1,
         "source": "Devices^Electronics",
         "target": "Useful^Information",
         "time": "*",
         "title": "Electricity",
         "type": "Electricity",
         "value": 3432.7776978905504
        },
        {
         "bundles": [
          "4"
         ],
         "color": "gray",
         "opacity": 1,
         "source": "Devices^Electronics",
         "target": "Useful^Loss",
         "time": "*",
         "title": "Loss",
         "type": "Loss",
         "value": 605.7842996277443
        },
        {
         "bundles": [
          "3"
         ],
         "color": "gray",
         "opacity": 1,
         "source": "__Power Plants_Useful_2^*",
         "target": "Useful^Loss",
         "time": "*",
         "title": "Loss",
         "type": "Loss",
         "value": 57463.143731553006
        }
       ],
       "margins": {
        "bottom": 10,
        "left": 130,
        "right": 130,
        "top": 25
       },
       "nodes": [
        {
         "direction": "r",
         "id": "inputs^Gas",
         "style": "process",
         "title": "Gas",
         "visibility": "visible"
        },
        {
         "direction": "r",
         "id": "inputs^Liquid fuel",
         "style": "process",
         "title": "Liquid fuel",
         "visibility": "visible"
        },
        {
         "direction": "r",
         "id": "inputs^Coal",
         "style": "process",
         "title": "Coal",
         "visibility": "visible"
        },
        {
         "direction": "r",
         "id": "inputs^Nuclear",
         "style": "process",
         "title": "Nuclear",
         "visibility": "visible"
        },
        {
         "direction": "r",
         "id": "inputs^Solid biomass & Waste",
         "style": "process",
         "title": "Solid biomass & Waste",
         "visibility": "visible"
        },
        {
         "direction": "r",
         "id": "inputs^Primary Electricity",
         "style": "process",
         "title": "Primary Electricity",
         "visibility": "visible"
        },
        {
         "direction": "r",
         "id": "Power Plants^Transformation",
         "style": "process",
         "title": "Transformation",
         "visibility": "visible"
        },
        {
         "direction": "r",
         "id": "Power Plants^Power Plant",
         "style": "process",
         "title": "Power Plant",
         "visibility": "visible"
        },
        {
         "direction": "r",
         "id": "Devices^Boiler",
         "style": "process",
         "title": "Boiler",
         "visibility": "visible"
        },
        {
         "direction": "r",
         "id": "Devices^Burner",
         "style": "process",
         "title": "Burner",
         "visibility": "visible"
        },
        {
         "direction": "r",
         "id": "Devices^Electric Heater",
         "style": "process",
         "title": "Electric Heater",
         "visibility": "visible"
        },
        {
         "direction": "r",
         "id": "Devices^Spark Ignition Engine",
         "style": "process",
         "title": "Spark Ignition Engine",
         "visibility": "visible"
        },
        {
         "direction": "r",
         "id": "Devices^Diesel Engine",
         "style": "process",
         "title": "Diesel Engine",
         "visibility": "visible"
        },
        {
         "direction": "r",
         "id": "Devices^Gas Turbine",
         "style": "process",
         "title": "Gas Turbine",
         "visibility": "visible"
        },
        {
         "direction": "r",
         "id": "Devices^Electric Motor",
         "style": "process",
         "title": "Electric Motor",
         "visibility": "visible"
        },
        {
         "direction": "r",
         "id": "Devices^Cooler",
         "style": "process",
         "title": "Cooler",
         "visibility": "visible"
        },
        {
         "direction": "r",
         "id": "Devices^Light Device",
         "style": "process",
         "title": "Light Device",
         "visibility": "visible"
        },
        {
         "direction": "r",
         "id": "Devices^Electronics",
         "style": "process",
         "title": "Electronics",
         "visibility": "visible"
        },
        {
         "direction": "r",
         "id": "__Power Plants_Useful_2^*",
         "style": "group",
         "title": "",
         "visibility": "hidden"
        },
        {
         "direction": "r",
         "id": "Useful^Heating",
         "style": "process",
         "title": "Heating",
         "visibility": "visible"
        },
        {
         "direction": "r",
         "id": "Useful^Motion",
         "style": "process",
         "title": "Motion",
         "visibility": "visible"
        },
        {
         "direction": "r",
         "id": "Useful^Cool",
         "style": "process",
         "title": "Cool",
         "visibility": "visible"
        },
        {
         "direction": "r",
         "id": "Useful^Illumination",
         "style": "process",
         "title": "Illumination",
         "visibility": "visible"
        },
        {
         "direction": "r",
         "id": "Useful^Information",
         "style": "process",
         "title": "Information",
         "visibility": "visible"
        },
        {
         "direction": "r",
         "id": "Useful^Loss",
         "style": "process",
         "title": "Loss",
         "visibility": "visible"
        }
       ],
       "order": [
        [
         [
          "inputs^Gas",
          "inputs^Liquid fuel",
          "inputs^Coal",
          "inputs^Nuclear",
          "inputs^Solid biomass & Waste",
          "inputs^Primary Electricity"
         ]
        ],
        [
         [
          "Power Plants^Transformation",
          "Power Plants^Power Plant"
         ]
        ],
        [
         [
          "Devices^Boiler",
          "Devices^Burner",
          "Devices^Electric Heater",
          "Devices^Spark Ignition Engine",
          "Devices^Diesel Engine",
          "Devices^Gas Turbine",
          "Devices^Electric Motor",
          "Devices^Cooler",
          "Devices^Light Device",
          "Devices^Electronics",
          "__Power Plants_Useful_2^*"
         ]
        ],
        [
         [
          "Useful^Heating",
          "Useful^Motion",
          "Useful^Cool",
          "Useful^Illumination",
          "Useful^Information",
          "Useful^Loss"
         ]
        ]
       ],
       "png": "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",
       "scale": 0.0014035299417726457,
       "svg": "<?xml version=\"1.0\" standalone=\"no\"?><!DOCTYPE svg PUBLIC \"-//W3C//DTD SVG 1.1//EN\" \"http://www.w3.org/Graphics/SVG/1.1/DTD/svg11.dtd\"><svg xmlns=\"http://www.w3.org/2000/svg\" width=\"900\" height=\"600\" viewBox=\"0 0 900 600\" style=\"font-family: &quot;Helvetica Neue&quot;,Helvetica,Arial,sans-serif;\"><g class=\"sankey\" transform=\"translate(130,25)\"><g class=\"groups\"><g class=\"group\" style=\"display: none;\" transform=\"translate(0,56.5)\"><rect x=\"-10\" y=\"-20\" width=\"21\" height=\"482\" style=\"fill: rgb(238, 238, 238); stroke: rgb(187, 187, 187); stroke-width: 0.5;\"/><text x=\"-10\" y=\"-25\" style=\"fill: rgb(153, 153, 153);\"/></g><g class=\"group\" style=\"display: none;\" transform=\"translate(213,56.5)\"><rect x=\"-10\" y=\"-20\" width=\"21\" height=\"482\" style=\"fill: rgb(238, 238, 238); stroke: rgb(187, 187, 187); stroke-width: 0.5;\"/><text x=\"-10\" y=\"-25\" style=\"fill: rgb(153, 153, 153);\"/></g><g class=\"group\" style=\"display: none;\" transform=\"translate(426,56.5)\"><rect x=\"-10\" y=\"-20\" width=\"21\" height=\"384.3987572243802\" style=\"fill: rgb(238, 238, 238); stroke: rgb(187, 187, 187); stroke-width: 0.5;\"/><text x=\"-10\" y=\"-25\" style=\"fill: rgb(153, 153, 153);\"/></g><g class=\"group\" style=\"display: none;\" transform=\"translate(426,427.84875722438017)\"><rect x=\"-10\" y=\"-20\" width=\"21\" height=\"110.65124277561978\" style=\"fill: rgb(238, 238, 238); stroke: rgb(187, 187, 187); stroke-width: 0.5;\"/><text x=\"-10\" y=\"-25\" style=\"fill: rgb(153, 153, 153);\"/></g><g class=\"group\" style=\"display: none;\" transform=\"translate(639,56.5)\"><rect x=\"-10\" y=\"-20\" width=\"21\" height=\"482\" style=\"fill: rgb(238, 238, 238); stroke: rgb(187, 187, 187); stroke-width: 0.5;\"/><text x=\"-10\" y=\"-25\" style=\"fill: rgb(153, 153, 153);\"/></g></g><g class=\"links\"><g class=\"link\" style=\"opacity: 0.8;\"><path d=\"M214,428.23667252406057 A107.03518008010292 107.03518008010292 0.3971952058476509 0 0 255.40478556866307,419.9039417894176 L384.70966407442,365.6617137290543 A106.73931722296561 106.73931722296561 0.3971952058476509 0 1 426,357.35201603383877 L426,359.35201603383877 A104.73931722296561 104.73931722296561 0.3971952058476509 0 0 385.4833309293303,367.50601294491196 L256.17845242357333,421.74824100527525 A109.03518008010292 109.03518008010292 0.3971952058476509 0 1 214,430.23667252406057 Z\" style=\"fill: rgb(255, 165, 0);\"/><title>Power Plant → Cooler\nHeat\n12.7m</title></g><g class=\"link\" style=\"opacity: 0.8;\"><path d=\"M427,364.99794708333036 A81.03082286069225 81.03082286069225 0.6181671185104124 0 0 473.96080100934637,350.0025497307808 L594.4263210629106,264.33402753695816 A76.9118457217505 76.9118457217505 0.6181671185104124 0 1 639,250.1008796186848 L639,252.1008796186848 A74.9118457217505 74.9118457217505 0.6181671185104124 0 0 595.585405948179,265.9639116520848 L475.11988589461475,351.6324338459074 A83.03082286069225 83.03082286069225 0.6181671185104124 0 1 427,366.99794708333036 Z\" style=\"fill: rgb(255, 165, 0);\"/><title>Cooler → Cool\nHeat\n19.1m</title></g><g class=\"link\" style=\"opacity: 0.8;\"><path d=\"M214,209.83380115411833 A70.81278710587917 70.81278710587917 0.7324845470120154 0 1 261.353855872644,227.9962022054259 L380.7893443632197,335.41670434950214 A67.60785312044722 67.60785312044722 0.7324845470120154 0 0 426,352.7570886611021 L426,354.7570886611021 A69.60785312044722 69.60785312044722 0.7324845470120154 0 1 379.451906371919,336.9037348197433 L260.0164178813433,229.48323267566707 A68.81278710587917 68.81278710587917 0.7324845470120154 0 0 214,211.83380115411833 Z\" style=\"fill: rgb(0, 0, 255);\"/><title>Transformation → Cooler\nGas\n499m</title></g><g class=\"link\" style=\"opacity: 0.8;\"><path d=\"M427,364.9974086455472 A81.03028442290908 81.03028442290908 0.6181671185104124 0 0 473.96048896179826,350.00211093518595 L594.4260090153624,264.33358874136326 A76.91238415953367 76.91238415953367 0.6181671185104124 0 1 639,250.1003411809016 L639,252.1003411809016 A74.91238415953367 74.91238415953367 0.6181671185104124 0 0 595.5850939006308,265.9634728564899 L475.11957384706665,351.6319950503126 A83.03028442290908 83.03028442290908 0.6181671185104124 0 1 427,366.9974086455472 Z\" style=\"fill: rgb(0, 0, 255);\"/><title>Cooler → Cool\nGas\n748m</title></g><g class=\"link\" style=\"opacity: 0.8;\"><path d=\"M214,209.83558146261038 A70.81100679738711 70.81100679738711 0.7324845470120158 0 1 261.35266534653726,227.99752589191294 L380.78815383711293,335.4180280359892 A67.60963342893928 67.60963342893928 0.7324845470120158 0 0 426,352.75886896959423 L426,354.75886896959423 A69.60963342893928 69.60963342893928 0.7324845470120158 0 1 379.4507158458122,336.9050585062304 L260.01522735523656,229.4845563621541 A68.81100679738711 68.81100679738711 0.7324845470120158 0 0 214,211.83558146261038 Z\" style=\"fill: rgb(255, 0, 0);\"/><title>Transformation → Cooler\nLiquid fuel\n2.04</title></g><g class=\"link\" style=\"opacity: 0.8;\"><path d=\"M427,365.0001059065877 A81.03298168394954 81.03298168394954 0.6181671185104127 0 0 473.9620521390501,350.0043090466481 L594.4275721926142,264.3357868528254 A76.9096868984932 76.9096868984932 0.6181671185104127 0 1 639,250.1030384419421 L639,252.1030384419421 A74.9096868984932 74.9096868984932 0.6181671185104127 0 0 595.5866570778826,265.965670967952 L475.1211370243185,351.6341931617747 A83.03298168394954 83.03298168394954 0.6181671185104127 0 1 427,367.0001059065877 Z\" style=\"fill: rgb(255, 0, 0);\"/><title>Cooler → Cool\nLiquid fuel\n3.06</title></g><g class=\"link\" style=\"opacity: 0.8;\"><path d=\"M427,200.48453633058847 A261.92656672703777 261.92656672703777 0.14986539177538383 0 0 466.10695505566,197.54864979047935 L599.2863731848258,177.43888554970772 A265.98987083429 265.98987083429 0.14986539177538383 0 1 639,174.45745418386397 L639,176.45745418386397 A263.98987083429 263.98987083429 0.14986539177538383 0 0 599.5849832536273,179.41646791886717 L466.40556512446165,199.5262321596388 A263.92656672703777 263.92656672703777 0.14986539177538383 0 1 427,202.48453633058847 Z\" style=\"fill: rgb(0, 0, 255);\"/><title>Spark Ignition Engine → Motion\nGas\n45.6</title></g><g class=\"link\" style=\"opacity: 0.8;\"><path d=\"M427,293.129023611338 A79.81157693095466 79.81157693095466 0.5599559377653696 0 0 469.3918285367923,280.940081097514 L593.8361266088712,202.92742465896748 A85.03053725383677 85.03053725383677 0.5599559377653696 0 1 639,189.9414347767827 L639,191.9414347767827 A83.03053725383677 83.03053725383677 0.5599559377653696 0 0 594.8984243397747,204.62198168985117 L470.4541262676958,282.6346381283976 A81.81157693095466 81.81157693095466 0.5599559377653696 0 1 427,295.129023611338 Z\" style=\"fill: rgb(0, 0, 255);\"/><title>Gas Turbine → Motion\nGas\n79.1</title></g><g class=\"link\" style=\"opacity: 0.8;\"><path d=\"M214,193.01768381356086 A91.79110174827146 91.79110174827146 0.551072264478647 0 1 262.06191817741285,206.6061105355316 L383.4291892827701,281.19619139043573 A81.30390475942521 81.30390475942521 0.551072264478647 0 0 426,293.2321309422163 L426,295.2321309422163 A83.30390475942521 83.30390475942521 0.551072264478647 0 1 382.3819871626949,282.90011853668057 L261.01471605733764,208.31003768177644 A89.79110174827146 89.79110174827146 0.551072264478647 0 0 214,195.01768381356086 Z\" style=\"fill: rgb(0, 0, 255);\"/><title>Transformation → Gas Turbine\nGas\n226</title></g><g class=\"link\" style=\"opacity: 0.8;\"><path d=\"M214,134.29811061465966 A150.5106749471726 150.5106749471726 0.3928158932770942 0 1 271.6141843892872,145.76178260883557 L383.6601101014604,192.18805924157763 A110.60827248303629 110.60827248303629 0.3928158932770942 0 0 426,200.61255774331516 L426,202.61255774331516 A112.60827248303629 112.60827248303629 0.3928158932770942 0 1 382.89452740229956,194.03572889028263 L270.8486016901263,147.60945225754057 A148.5106749471726 148.5106749471726 0.3928158932770942 0 0 214,136.29811061465966 Z\" style=\"fill: rgb(0, 0, 255);\"/><title>Transformation → Spark Ignition Engine\nGas\n228</title></g><g class=\"link\" style=\"opacity: 0.8;\"><path d=\"M214,400.8618057491263 A65.52808304738637 65.52808304738637 1.0763840353628864 0 0 271.68094687927874,366.4277419815788 L368.4358824860592,186.94254095897034 A65.39535976927756 65.39535976927756 1.0763840353628864 0 1 426,152.57822136230803 L426,154.57822136230803 A63.39535976927756 63.39535976927756 1.0763840353628864 0 0 370.1963779621001,187.89156976719457 L273.4414423553196,367.37677078980295 A67.52808304738637 67.52808304738637 1.0763840353628864 0 1 214,402.8618057491263 Z\" style=\"fill: rgb(255, 165, 0);\"/><title>Power Plant → Burner\nHeat\n251</title></g><g class=\"link\" style=\"opacity: 0.8;\"><path d=\"M427,150.62656181168518 A267.52826601740605 267.52826601740605 0.15032117691391922 0 0 467.0638814641325,147.6096538118658 L599.1908800172754,127.59720350380468 A265.82708543084453 265.82708543084453 0.15032117691391922 0 1 639,124.59947966496067 L639,126.59947966496067 A263.82708543084453 263.82708543084453 0.15032117691391922 0 0 599.4903914076832,129.5746495655257 L467.36339285454034,149.58709987358682 A269.52826601740605 269.52826601740605 0.15032117691391922 0 1 427,152.62656181168518 Z\" style=\"fill: rgb(255, 165, 0);\"/><title>Burner → Heating\nHeat\n251</title></g><g class=\"link\" style=\"opacity: 0.8;\"><path d=\"M427,382.1513274198031 A82.52107332556346 82.52107332556346 0.5317136877898498 0 0 468.83910677128694,370.75842493662725 L596.1468708684797,295.8732834829114 A84.52107332556346 84.52107332556346 0.5317136877898498 0 1 639,284.20425995515757 L639,286.20425995515757 A82.52107332556346 82.52107332556346 0.5317136877898498 0 0 597.1608932287131,297.59716243833344 L469.85312913152023,372.4823038920493 A84.52107332556346 84.52107332556346 0.5317136877898498 0 1 427,384.1513274198031 Z\" style=\"fill: rgb(255, 255, 0);\"/><title>Light Device → Illumination\nElectricity\n284</title></g><g class=\"link\" style=\"opacity: 0.8;\"><path d=\"M214,133.91103944928818 A372.85448625235074 372.85448625235074 0.10559656001186157 0 1 253.29902117960384,135.98789038253088 L386.158123325642,150.06973397767317 A378.0048971412321 378.0048971412321 0.10559656001186157 0 0 426,152.17527341019792 L426,154.17527341019792 A380.0048971412321 380.0048971412321 0.10559656001186157 0 1 385.94732247636375,152.058593701722 L253.08822033032558,137.97675010657971 A370.85448625235074 370.85448625235074 0.10559656001186157 0 0 214,135.91103944928818 Z\" style=\"fill: rgb(0, 128, 0);\"/><title>Transformation → Burner\nSolid biomass &amp; Waste\n324</title></g><g class=\"link\" style=\"opacity: 0.8;\"><path d=\"M427,152.52708051549195 A269.4287847212128 269.4287847212128 0.15032117691391922 0 0 467.34849496386914,149.48874042490073 L599.475493517012,129.4762901168396 A263.92656672703777 263.92656672703777 0.15032117691391922 0 1 639,126.49999836876745 L639,128.49999836876745 A261.92656672703777 261.92656672703777 0.15032117691391922 0 0 599.7750049074198,131.45373617856063 L467.64800635427696,151.46618648662175 A271.4287847212128 271.4287847212128 0.15032117691391922 0 1 427,154.52708051549195 Z\" style=\"fill: rgb(0, 128, 0);\"/><title>Burner → Heating\nSolid biomass &amp; Waste\n324</title></g><g class=\"link\" style=\"opacity: 0.8;\"><path d=\"M1,278.791022052935 A68.33392037908058 68.33392037908058 0.7867640985058757 0 1 49.3853345234487,298.8716101384994 L156.17070227965766,405.94910086317503 A80.25920961110573 80.25920961110573 0.7867640985058757 0 0 213,429.5340513435952 L213,431.5340513435952 A82.25920961110573 82.25920961110573 0.7867640985058757 0 1 154.75455831323418,407.3613813828886 L47.96919055702522,300.283890658213 A66.33392037908058 66.33392037908058 0.7867640985058757 0 0 1,280.791022052935 Z\" style=\"fill: rgb(255, 0, 0);\"/><title>Liquid fuel → Power Plant\nLiquid fuel\n359</title></g><g class=\"link\" style=\"opacity: 0.8;\"><path d=\"M427,409.47363902298855 A401.2770132743365 401.2770132743365 0.09775519341710703 0 1 466.16446598675435,411.38942986036335 L600.0307331634147,424.517396655992 A399.2770132743365 399.2770132743365 0.09775519341710703 0 0 639,426.42363902298854 L639,428.42363902298854 A401.2770132743365 401.2770132743365 0.09775519341710703 0 1 599.8355340132457,426.50784818561374 L465.9692668365853,413.3798813899851 A399.2770132743365 399.2770132743365 0.09775519341710703 0 0 427,411.47363902298855 Z\" style=\"fill: rgb(128, 128, 128);\"/><title>Electronics → Loss\nLoss\n606</title></g><g class=\"link\" style=\"opacity: 0.8;\"><path d=\"M427,335.22023598626646 A92.85877756157116 92.85877756157116 0.4958743435493278 0 1 471.18228664602975,346.40479413340177 L580.9580868774541,405.78884343800803 A121.98782609588751 121.98782609588751 0.4958743435493278 0 0 639,420.48190714227025 L639,422.48190714227025 A123.98782609588751 123.98782609588751 0.4958743435493278 0 1 580.0064851483288,407.54794950335076 L470.23068491690435,348.1639001987445 A90.85877756157116 90.85877756157116 0.4958743435493278 0 0 427,337.22023598626646 Z\" style=\"fill: rgb(128, 128, 128);\"/><title>Electric Motor → Loss\nLoss\n836</title></g><g class=\"link\" style=\"opacity: 0.8;\"><path d=\"M214,400.02878521602446 A64.6950625142845 64.6950625142845 1.1319828300428156 0 0 272.56561970064104,362.82043408755453 L365.6238674897389,164.54229620755373 A66.6950625142845 66.6950625142845 1.1319828300428156 0 1 426,126.18367642851236 L426,128.18367642851234 A64.6950625142845 64.6950625142845 1.1319828300428156 0 0 367.43438029935896,165.3920275569823 L274.3761325102611,363.6701654369831 A66.6950625142845 66.6950625142845 1.1319828300428156 0 1 214,402.02878521602446 Z\" style=\"fill: rgb(255, 165, 0);\"/><title>Power Plant → Boiler\nHeat\n936</title></g><g class=\"link\" style=\"opacity: 0.8;\"><path d=\"M427,107.64495468504323 A0 0 0 0 0 427,107.64495468504323 L639,107.64495468504323 A0 0 0 0 0 639,107.64495468504323 L639,109.64495468504323 A0 0 0 0 0 639,109.64495468504323 L427,109.64495468504323 A0 0 0 0 0 427,109.64495468504323 Z\" style=\"fill: rgb(255, 165, 0);\"/><title>Boiler → Heating\nHeat\n936</title></g><g class=\"link\" style=\"opacity: 0.8;\"><path d=\"M214,132.93520967397677 A373.83031602766215 373.83031602766215 0.10559656001186157 0 1 253.40187405229716,135.01749611370863 L386.26097619833536,149.09933970885092 A377.0290673659207 377.0290673659207 0.10559656001186157 0 0 426,151.1994436348865 L426,153.1994436348865 A379.0290673659207 379.0290673659207 0.10559656001186157 0 1 386.0501753490571,151.08819943289976 L253.1910732030189,137.00635583775747 A371.83031602766215 371.83031602766215 0.10559656001186157 0 0 214,134.93520967397677 Z\" style=\"fill: rgb(255, 0, 0);\"/><title>Transformation → Burner\nLiquid fuel\n1.07k</title></g><g class=\"link\" style=\"opacity: 0.8;\"><path d=\"M427,151.55125074018054 A268.4529549459014 268.4529549459014 0.15032117691391922 0 0 467.2023588974667,148.5239150518509 L599.3293574506096,128.51146474378976 A264.9023965023492 264.9023965023492 0.15032117691391922 0 1 639,125.52416859345601 L639,127.52416859345601 A262.9023965023492 262.9023965023492 0.15032117691391922 0 0 599.6288688410174,130.48891080551078 L467.5018702878745,150.50136111357193 A270.4529549459014 270.4529549459014 0.15032117691391922 0 1 427,153.55125074018054 Z\" style=\"fill: rgb(255, 0, 0);\"/><title>Burner → Heating\nLiquid fuel\n1.07k</title></g><g class=\"link\" style=\"opacity: 0.8;\"><path d=\"M1,502.3915720709301 A0 0 0 0 1 1,502.3915720709301 L213,502.3915720709302 A0 0 0 0 0 213,502.3915720709302 L213,504.3915720709302 A0 0 0 0 1 213,504.3915720709302 L1,504.3915720709301 A0 0 0 0 0 1,504.3915720709301 Z\" style=\"fill: rgb(255, 255, 0);\"/><title>Primary Electricity → Power Plant\nElectricity\n1.24k</title></g><g class=\"link\" style=\"opacity: 0.8;\"><path d=\"M427,116.71873318369819 A0 0 0 0 0 427,116.71873318369819 L639,116.71873318369819 A0 0 0 0 0 639,116.71873318369819 L639,118.76371126224274 A0 0 0 0 0 639,118.76371126224274 L427,118.76371126224274 A0 0 0 0 0 427,118.76371126224274 Z\" style=\"fill: rgb(0, 128, 0);\"/><title>Boiler → Heating\nSolid biomass &amp; Waste\n1.46k</title></g><g class=\"link\" style=\"opacity: 0.8;\"><path d=\"M427,56.5 A0 0 0 0 0 427,56.5 L639,56.5 A0 0 0 0 0 639,56.5 L639,58.87485855053272 A0 0 0 0 0 639,58.87485855053272 L427,58.87485855053272 A0 0 0 0 0 427,58.87485855053272 Z\" style=\"fill: rgb(0, 0, 0);\"/><title>Boiler → Heating\nCoal\n1.69k</title></g><g class=\"link\" style=\"opacity: 0.8;\"><path d=\"M214,126.5265594480575 A380.2389662535815 380.2389662535815 0.10559656001186157 0 1 254.07734850747275,128.64454295378505 L386.936450653511,142.7263865489273 A370.62041714000134 370.62041714000134 0.10559656001186157 0 0 426,144.79079340896723 L426,147.25893163366666 A373.0885553647008 373.0885553647008 0.10559656001186157 0 1 386.67630783655954,145.18077690317236 L253.81720569052138,131.0989333080301 A377.770828028882 377.770828028882 0.10559656001186157 0 0 214,128.99469767275696 Z\" style=\"fill: rgb(0, 0, 0);\"/><title>Transformation → Burner\nCoal\n1.76k</title></g><g class=\"link\" style=\"opacity: 0.8;\"><path d=\"M427,144.79079340896723 A261.692497614688 261.692497614688 0.15032117691391922 0 0 466.1899419099345,141.8396951893305 L598.3169404630773,121.8272448812694 A271.66285383356256 271.66285383356256 0.15032117691391922 0 1 639,118.76371126224272 L639,121.23184948694218 A269.1947156088631 269.1947156088631 0.15032117691391922 0 0 598.6865582187766,124.26754998737692 L466.5595596656337,144.28000029543804 A264.1606358393875 264.1606358393875 0.15032117691391922 0 1 427,147.25893163366666 Z\" style=\"fill: rgb(0, 0, 0);\"/><title>Burner → Heating\nCoal\n1.76k</title></g><g class=\"link\" style=\"opacity: 0.8;\"><path d=\"M214,123.76628397433595 A0 0 0 0 0 214,123.76628397433595 L426,123.76628397433595 A0 0 0 0 0 426,123.76628397433595 L426,126.5265594480575 A0 0 0 0 0 426,126.5265594480575 L214,126.5265594480575 A0 0 0 0 0 214,126.5265594480575 Z\" style=\"fill: rgb(0, 128, 0);\"/><title>Transformation → Boiler\nSolid biomass &amp; Waste\n1.97k</title></g><g class=\"link\" style=\"opacity: 0.8;\"><path d=\"M214,56.5 A0 0 0 0 0 214,56.5 L426,56.5 A0 0 0 0 0 426,56.5 L426,59.2764321087224 A0 0 0 0 0 426,59.2764321087224 L214,59.2764321087224 A0 0 0 0 0 214,59.2764321087224 Z\" style=\"fill: rgb(0, 0, 0);\"/><title>Transformation → Boiler\nCoal\n1.98k</title></g><g class=\"link\" style=\"opacity: 0.8;\"><path d=\"M1,459.90175610748315 A62.47935205480837 62.47935205480837 1.0493518126004318 0 0 55.17587891280144,428.54544338391884 L156.03694414170403,252.97657304638358 A65.69371632745609 65.69371632745609 1.0493518126004318 0 1 213,220.00707759883423 L213,223.22144187148191 A62.47935205480837 62.47935205480837 1.0493518126004318 0 0 158.82412108719856,254.57775459504626 L57.96305585829596,430.1466249325815 A65.69371632745609 65.69371632745609 1.0493518126004318 0 1 1,463.11612038013084 Z\" style=\"fill: rgb(0, 128, 0);\"/><title>Solid biomass &amp; Waste → Transformation\nSolid biomass &amp; Waste\n2.29k</title></g><g class=\"link\" style=\"opacity: 0.8;\"><path d=\"M1,463.11612038013084 A197.58101608805072 197.58101608805072 0.2029564428701427 0 1 40.82560899955331,467.1714823904824 L173.97554647836125,494.5723837005328 A193.60635964594474 193.60635964594474 0.2029564428701427 0 0 213,498.54616565294845 L213,502.52082209505437 A197.58101608805072 197.58101608805072 0.2029564428701427 0 1 173.1743910004467,498.4654600847027 L40.02445352163875,471.06455877465237 A193.60635964594474 193.60635964594474 0.2029564428701427 0 0 1,467.09077682223676 Z\" style=\"fill: rgb(0, 128, 0);\"/><title>Solid biomass &amp; Waste → Power Plant\nSolid biomass &amp; Waste\n2.83k</title></g><g class=\"link\" style=\"opacity: 0.8;\"><path d=\"M427,201.51654168377013 A262.9585720802194 262.9585720802194 0.14986539177538383 0 0 466.26103865041864,198.56908758614446 L599.4404567795843,178.45932334537284 A264.95786548110834 264.95786548110834 0.14986539177538383 0 1 639,175.48945953704563 L639,179.55205704518679 A260.8952679729672 260.8952679729672 0.14986539177538383 0 0 600.0470230402939,182.47638394791838 L466.8676049111282,202.58614818869 A267.0211695883606 267.0211695883606 0.14986539177538383 0 1 427,205.57913919191128 Z\" style=\"fill: rgb(255, 0, 0);\"/><title>Spark Ignition Engine → Motion\nLiquid fuel\n2.89k</title></g><g class=\"link\" style=\"opacity: 0.8;\"><path d=\"M214,128.99469767275696 A377.770828028882 377.770828028882 0.10559656001186157 0 1 253.81720569052135,131.0989333080301 L386.67630783655954,145.18077690317236 A373.0885553647008 373.0885553647008 0.10559656001186157 0 0 426,147.2589316336667 L426,151.45065825903816 A377.28028199007235 377.28028199007235 0.10559656001186157 0 1 386.2344980702742,149.34915503288457 L253.37539592423605,135.2673114377423 A373.5791014035105 373.5791014035105 0.10559656001186157 0 0 214,133.18642429812843 Z\" style=\"fill: rgb(0, 0, 255);\"/><title>Transformation → Burner\nGas\n2.99k</title></g><g class=\"link\" style=\"opacity: 0.8;\"><path d=\"M427,147.2589316336667 A264.1606358393875 264.1606358393875 0.15032117691391922 0 0 466.5595596656337,144.28000029543804 L598.6865582187766,124.26754998737691 A269.1947156088631 269.1947156088631 0.15032117691391922 0 1 639,121.23184948694217 L639,125.42357611231364 A265.00298898349155 265.00298898349155 0.15032117691391922 0 0 599.3142931536638,128.4120066409529 L467.18729460052094,148.42445694901406 A268.35236246475904 268.35236246475904 0.15032117691391922 0 1 427,151.45065825903816 Z\" style=\"fill: rgb(0, 0, 255);\"/><title>Burner → Heating\nGas\n2.99k</title></g><g class=\"link\" style=\"opacity: 0.8;\"><path d=\"M1,504.2623220468059 A0 0 0 0 1 1,504.2623220468059 L213,504.26232204680593 A0 0 0 0 0 213,504.26232204680593 L213,508.5000000000001 A0 0 0 0 1 213,508.5000000000001 L1,508.50000000000006 A0 0 0 0 0 1,508.50000000000006 Z\" style=\"fill: rgb(0, 128, 0);\"/><title>Primary Electricity → Power Plant\nPrimary Electricity\n3.02k</title></g><g class=\"link\" style=\"opacity: 0.8;\"><path d=\"M214,424.6449557425534 A103.44346329859576 103.44346329859576 0.3971952058476509 0 0 254.01538945562456,416.5918415675593 L383.3202679613815,362.34961350719607 A110.33103400447277 110.33103400447277 0.3971952058476509 0 1 426,353.7602992523316 L426,358.3520071010713 A105.73932615573307 105.73932615573307 0.3971952058476509 0 0 385.09649404638213,366.5838550996351 L255.79161554062514,420.82608315999846 A108.03517114733546 108.03517114733546 0.3971952058476509 0 1 214,429.2366635912931 Z\" style=\"fill: rgb(255, 255, 0);\"/><title>Power Plant → Cooler\nElectricity\n3.27k</title></g><g class=\"link\" style=\"opacity: 0.8;\"><path d=\"M427,405.2305145391581 A88.93720580104916 88.93720580104916 0.472813083762627 0 0 467.50134061969624,395.4732808504147 L596.304575230759,329.58914956400645 A93.75521208348793 93.75521208348793 0.472813083762627 0 1 639,319.3033360442669 L639,324.1213423267057 A88.93720580104916 88.93720580104916 0.472813083762627 0 0 598.4986593803038,333.8785760154491 L469.695424769241,399.76270730185735 A93.75521208348793 93.75521208348793 0.472813083762627 0 1 427,410.04852082159687 Z\" style=\"fill: rgb(255, 255, 0);\"/><title>Electronics → Information\nElectricity\n3.43k</title></g><g class=\"link\" style=\"opacity: 0.8;\"><path d=\"M427,383.3504035089125 A182.39329228316137 182.39329228316137 0.22141763175542373 0 1 467.05591375704853,387.80315279251283 L600.0268020586933,417.73601881744094 A177.46318125291577 177.46318125291577 0.22141763175542373 0 0 639,422.06840979135126 L639,426.99852082159686 A182.39329228316137 182.39329228316137 0.22141763175542373 0 1 598.9440862429516,422.54577153799653 L465.9731979413067,392.6129055130684 A177.46318125291577 177.46318125291577 0.22141763175542373 0 0 427,388.2805145391581 Z\" style=\"fill: rgb(128, 128, 128);\"/><title>Light Device → Loss\nLoss\n3.51k</title></g><g class=\"link\" style=\"opacity: 0.8;\"><path d=\"M214,429.236681456828 A149.93442587108382 149.93442587108382 0.26352320755931435 0 0 253.0554802690458,424.06068028788616 L385.5565937933487,388.3121935554353 A155.26268907954818 155.26268907954818 0.26352320755931435 0 1 426,382.95225133069374 L426,388.2805145391581 A149.93442587108382 149.93442587108382 0.26352320755931435 0 0 386.9445197309542,393.45651570809997 L254.44340620665128,429.20500244055086 A155.26268907954818 155.26268907954818 0.26352320755931435 0 1 214,434.5649446652924 Z\" style=\"fill: rgb(255, 255, 0);\"/><title>Power Plant → Light Device\nElectricity\n3.80k</title></g><g class=\"link\" style=\"opacity: 0.8;\"><path d=\"M214,434.5649446652924 A231.38472283062598 231.38472283062598 0.16850043042162666 0 0 252.80419133081622,431.2879259890132 L386.24522052759824,408.5878104995808 A237.05296551584806 237.05296551584806 0.16850043042162666 0 1 426,405.2305145391581 L426,410.8987572243801 A231.38472283062598 231.38472283062598 0.16850043042162666 0 0 387.19580866918375,414.1757759006593 L253.7547794724018,436.8758913900917 A237.05296551584806 237.05296551584806 0.16850043042162666 0 1 214,440.2331873505144 Z\" style=\"fill: rgb(255, 255, 0);\"/><title>Power Plant → Electronics\nElectricity\n4.04k</title></g><g class=\"link\" style=\"opacity: 0.8;\"><path d=\"M1,315.473211479792 A78.85446926214587 78.85446926214587 0.5476024784370157 0 0 42.05493145312034,303.9427344194927 L168.92092912028366,226.57841499022607 A84.66295318888821 84.66295318888821 0.5476024784370157 0 1 213,214.19859367209187 L213,220.00707759883426 A78.85446926214586 78.85446926214586 0.5476024784370157 0 0 171.9450685468797,231.53755465913355 L45.07907087971635,308.9018740884002 A84.66295318888822 84.66295318888822 0.5476024784370157 0 1 1,321.28169540653437 Z\" style=\"fill: rgb(0, 0, 0);\"/><title>Coal → Transformation\nCoal\n4.14k</title></g><g class=\"link\" style=\"opacity: 0.8;\"><path d=\"M427,294.1845429433494 A80.86709626296607 80.86709626296607 0.5599559377653693 0 0 469.9524664324525,281.83439995016073 L594.3967645045315,203.82174351161427 A83.97501792182535 83.97501792182535 0.5599559377653693 0 1 639,190.9969541087941 L639,197.3238360905355 A77.64813594008399 77.64813594008399 0.5599559377653693 0 0 597.7572806909806,209.18237468447978 L473.31298261890163,287.19503112302624 A87.19397824470744 87.19397824470744 0.5599559377653693 0 1 427,300.5114249250908 Z\" style=\"fill: rgb(255, 0, 0);\"/><title>Gas Turbine → Motion\nLiquid fuel\n4.51k</title></g><g class=\"link\" style=\"opacity: 0.8;\"><path d=\"M427,109.30207166549809 A0 0 0 0 0 427,109.30207166549809 L639,109.30207166549809 A0 0 0 0 0 639,109.30207166549809 L639,116.71873318369819 A0 0 0 0 0 639,116.71873318369819 L427,116.71873318369819 A0 0 0 0 0 427,116.71873318369819 Z\" style=\"fill: rgb(255, 0, 0);\"/><title>Boiler → Heating\nLiquid fuel\n5.28k</title></g><g class=\"link\" style=\"opacity: 0.8;\"><path d=\"M427,327.99789825701913 A67.37414937990884 67.37414937990884 0.6798385997637819 0 0 469.35593909342776,313.01888632497 L591.8436594386551,214.00049119625976 A75.00998446007524 75.00998446007524 0.6798385997637819 0 1 639,197.32383609053548 L639,204.95967117070185 A67.37414937990884 67.37414937990884 0.6798385997637819 0 0 596.6440609065723,219.93868310275099 L474.1563405613449,318.9570782314613 A75.00998446007524 75.00998446007524 0.6798385997637819 0 1 427,335.63373333718556 Z\" style=\"fill: rgb(255, 255, 0);\"/><title>Electric Motor → Motion\nElectricity\n5.44k</title></g><g class=\"link\" style=\"opacity: 0.8;\"><path d=\"M214,115.27933542852034 A0 0 0 0 0 214,115.27933542852034 L426,115.27933542852034 A0 0 0 0 0 426,115.27933542852034 L426,123.76628397433595 A0 0 0 0 0 426,123.76628397433595 L214,123.76628397433595 A0 0 0 0 0 214,123.76628397433595 Z\" style=\"fill: rgb(255, 0, 0);\"/><title>Transformation → Boiler\nLiquid fuel\n6.05k</title></g><g class=\"link\" style=\"opacity: 0.8;\"><path d=\"M214,415.83611536422507 A85.52150405910812 85.52150405910812 0.4823326777779857 0 0 253.66889229384046,406.079422667066 L382.2451536055391,338.7595446150758 A94.33034443743647 94.33034443743647 0.4823326777779857 0 1 426,327.99789825701913 L426,336.8067386353475 A85.52150405910812 85.52150405910812 0.4823326777779857 0 0 386.33110770615957,346.5634313325065 L257.7548463944609,413.8833093844967 A94.33034443743647 94.33034443743647 0.4823326777779857 0 1 214,424.6449557425534 Z\" style=\"fill: rgb(255, 255, 0);\"/><title>Power Plant → Electric Motor\nElectricity\n6.28k</title></g><g class=\"link\" style=\"opacity: 0.8;\"><path d=\"M427,118.76371126224272 A68.6043434270474 68.6043434270474 1.0476784059709079 0 1 486.42959171138915,153.0944560151817 L587.4335734901584,328.23291916324496 A59.5272612803229 59.5272612803229 1.0476784059709079 0 0 639,358.0213423267057 L639,367.09842447343016 A68.6043434270474 68.6043434270474 1.0476784059709079 0 1 579.5704082886108,332.76767972049123 L478.5664265098416,157.6292165724279 A59.5272612803229 59.5272612803229 1.0476784059709079 0 0 427,127.84079340896723 Z\" style=\"fill: rgb(128, 128, 128);\"/><title>Boiler → Loss\nLoss\n6.47k</title></g><g class=\"link\" style=\"opacity: 0.8;\"><path d=\"M427,300.5114249250908 A83.11771624868764 83.11771624868764 0.6407610496884569 0 1 476.6882448007275,316.9985694891506 L572.1265546267639,388.1695347398934 A111.86485011487817 111.86485011487817 0.6407610496884569 0 0 639,410.35893116126095 L639,420.89540449318935 A122.40132344680653 122.40132344680653 0.6407610496884569 0 1 565.8277907785516,396.61600407677565 L470.3894809525153,325.4450388260329 A72.58124291675928 72.58124291675928 0.6407610496884569 0 0 427,311.0478982570192 Z\" style=\"fill: rgb(128, 128, 128);\"/><title>Gas Turbine → Loss\nLoss\n7.51k</title></g><g class=\"link\" style=\"opacity: 0.8;\"><path d=\"M427,238.06382241009615 A118.32768893676428 118.32768893676428 0.3302760311154942 0 0 465.37416095720135,231.66854942128884 L596.9502216923726,186.55989264831652 A129.66154733634878 129.66154733634878 0.3302760311154942 0 1 639,179.55205704518679 L639,190.8859154447713 A118.32768893676428 118.32768893676428 0.3302760311154942 0 0 600.6258390427987,197.28118843357862 L469.0497783076274,242.38984520655094 A129.66154733634878 129.66154733634878 0.3302760311154942 0 1 427,249.39768080968068 Z\" style=\"fill: rgb(255, 0, 0);\"/><title>Diesel Engine → Motion\nLiquid fuel\n8.08k</title></g><g class=\"link\" style=\"opacity: 0.8;\"><path d=\"M427,353.75673863534746 A69.78961441270935 69.78961441270935 0.6181671185104123 0 0 467.4460436072419,340.84161618868325 L587.911563660806,255.1730939948606 A88.1530541697334 88.1530541697334 0.6181671185104123 0 1 639,238.8596711707019 L639,251.09981614226965 A75.91290919816566 75.91290919816566 0.6181671185104123 0 0 595.0052471758254,265.14810292286353 L474.5397271222612,350.81662511668617 A82.02975938427709 82.02975938427709 0.6181671185104123 0 1 427,365.99688360691516 Z\" style=\"fill: rgb(255, 255, 0);\"/><title>Cooler → Cool\nElectricity\n8.72k</title></g><g class=\"link\" style=\"opacity: 0.8;\"><path d=\"M214,210.83701174534778 A69.8095765146497 69.8095765146497 0.9861224297509725 0 1 272.2136554353276,242.116764823967 L378.1136232006397,402.1181269983197 A57.42514638851549 57.42514638851549 0.9861224297509725 0 0 426,427.84875722438017 L426,440.2331873505144 A69.8095765146497 69.8095765146497 0.9861224297509725 0 1 367.7863445646724,408.9534342718952 L261.8863767993603,248.95207209754244 A57.42514638851549 57.42514638851549 0.9861224297509725 0 0 214,223.22144187148197 Z\" style=\"fill: rgb(128, 128, 128);\"/><title>Transformation → \nLoss\n8.82k</title></g><g class=\"link\" style=\"opacity: 0.8;\"><path d=\"M214,402.0377093017733 A66.70398660003339 66.70398660003339 1.0514333996389806 0 0 271.908102253735,368.4407237998219 L364.58672616276726,206.33473255766705 A70.74157217505318 70.74157217505318 1.0514333996389806 0 1 426,170.70412491495503 L426,184.5025309774068 A56.94316611260143 56.94316611260143 1.0514333996389806 0 0 376.565613031916,213.18325643076855 L283.88698912288373,375.2892476729234 A80.50239266248515 80.50239266248515 1.0514333996389806 0 1 214,415.836115364225 Z\" style=\"fill: rgb(255, 255, 0);\"/><title>Power Plant → Electric Heater\nElectricity\n9.83k</title></g><g class=\"link\" style=\"opacity: 0.8;\"><path d=\"M427,170.70412491495503 A156.41235950145457 156.41235950145457 0.2451868692104724 0 0 464.9671622179316,166.02614120860343 L597.6834456816498,132.81770945525906 A170.21076556390634 170.21076556390634 0.2451868692104724 0 1 639,127.72704276823052 L639,141.52544883068228 A156.41235950145457 156.41235950145457 0.2451868692104724 0 0 601.0328377820683,146.20343253703388 L468.31655431835014,179.41186429037825 A170.21076556390634 170.21076556390634 0.2451868692104724 0 1 427,184.5025309774068 Z\" style=\"fill: rgb(255, 255, 0);\"/><title>Electric Heater → Heating\nElectricity\n9.83k</title></g><g class=\"link\" style=\"opacity: 0.8;\"><path d=\"M427,205.57913919191128 A73.73390349120496 73.73390349120496 0.8226569822050465 0 1 481.0436993300481,229.15362595231994 L588.7160419650241,345.1639803541062 A68.6043434270474 68.6043434270474 0.8226569822050465 0 0 639,367.09842447343016 L639,382.63310769161495 A84.13902664523225 84.13902664523225 0.8226569822050465 0 1 577.3298043012163,355.73185500100846 L469.6574616662403,239.72150059922217 A58.1992202730201 58.1992202730201 0.8226569822050465 0 0 427,221.11382241009613 Z\" style=\"fill: rgb(128, 128, 128);\"/><title>Spark Ignition Engine → Loss\nLoss\n11.1k</title></g><g class=\"link\" style=\"opacity: 0.8;\"><path d=\"M214,194.17631047645062 A90.6324750853817 90.6324750853817 0.5510722644786474 0 1 261.455260028536,207.5932182471621 L382.8225311338931,282.1832991020662 A82.46253142231497 82.46253142231497 0.5510722644786474 0 0 426,294.3907576051061 L426,311.0478982570192 A99.119672074228 99.119672074228 0.5510722644786474 0 1 374.1008346313563,296.3745761698727 L252.73356352599916,221.78449531496858 A73.97533443346866 73.97533443346866 0.5510722644786474 0 0 214,210.83345112836366 Z\" style=\"fill: rgb(255, 0, 0);\"/><title>Transformation → Gas Turbine\nLiquid fuel\n11.9k</title></g><g class=\"link\" style=\"opacity: 0.8;\"><path d=\"M214,135.45813738056808 A149.3506481812642 149.3506481812642 0.3928158932770942 0 1 271.17013617801564,146.83345573236275 L383.2160618901889,193.2597323651048 A111.76829924894469 111.76829924894469 0.3928158932770942 0 0 426,201.77258450922358 L426,221.11382241009613 A131.10953714981727 131.10953714981727 0.3928158932770942 0 1 375.8124033315581,211.12784148401727 L263.76647761938483,164.7015648512752 A130.00941028039165 130.00941028039165 0.3928158932770942 0 0 214,154.79937528144063 Z\" style=\"fill: rgb(255, 0, 0);\"/><title>Transformation → Spark Ignition Engine\nLiquid fuel\n13.8k</title></g><g class=\"link\" style=\"opacity: 0.8;\"><path d=\"M1,398.9087989461779 A114.90375636550584 114.90375636550584 0.43547891385053683 0 1 49.47153668558163,409.63298265829917 L160.81426628866205,461.4373149776943 A123.70841203197124 123.70841203197124 0.43547891385053683 0 0 213,472.9832537644607 L213,498.54616565294845 A149.27132392045897 149.27132392045897 0.43547891385053683 0 1 150.03068827010134,484.6143922165569 L38.68795866702093,432.81005989716175 A89.34084447701812 89.34084447701812 0.43547891385053683 0 0 1,424.47171083466566 Z\" style=\"fill: rgb(148, 0, 211);\"/><title>Nuclear → Power Plant\nNuclear\n18.2k</title></g><g class=\"link\" style=\"opacity: 0.8;\"><path d=\"M427,249.39768080968062 A84.4473806448471 84.4473806448471 0.7364799871841381 0 1 483.7219815143691,271.2832767064943 L582.4851350324377,360.82742559410696 A84.13902664523225 84.13902664523225 0.7364799871841381 0 0 639,382.633107691615 L639,410.3589311612609 A111.86485011487817 111.86485011487817 0.7364799871841381 0 1 563.8621341257556,381.3677548100588 L465.09898060768694,291.8236059224461 A56.721557175201184 56.721557175201184 0.7364799871841381 0 0 427,277.12350427932654 Z\" style=\"fill: rgb(128, 128, 128);\"/><title>Diesel Engine → Loss\nLoss\n19.8k</title></g><g class=\"link\" style=\"opacity: 0.8;\"><path d=\"M1,120.7660539772568 A81.00706545706628 81.00706545706628 1.1448123861190942 0 1 74.76767405428976,168.29962367147385 L166.4695643963855,370.3889185823959 A51.09682650308012 51.09682650308012 1.1448123861190942 0 0 213,400.3716682355696 L213,430.2819071895558 A81.00706545706628 81.00706545706628 1.1448123861190942 0 1 139.23232594571024,382.7483374953387 L47.53043560361452,180.65904258441668 A51.09682650308012 51.09682650308012 1.1448123861190942 0 0 1,150.67629293124295 Z\" style=\"fill: rgb(0, 0, 255);\"/><title>Gas → Power Plant\nGas\n21.3k</title></g><g class=\"link\" style=\"opacity: 0.8;\"><path d=\"M214,154.79937528144066 A130.00941028039165 130.00941028039165 0.4725137452171646 0 1 273.1706664599546,169.04489226111434 L392.3543735196652,229.9635360352292 A73.9259555270186 73.9259555270186 0.4725137452171646 0 0 426,238.06382241009618 L426,277.1235042793266 A112.98563739624905 112.98563739624905 0.4725137452171646 0 1 374.57729566867255,264.7433326247039 L255.39358860896192,203.82468885058904 A90.94972841116122 90.94972841116122 0.4725137452171646 0 0 214,193.85905715067108 Z\" style=\"fill: rgb(255, 0, 0);\"/><title>Transformation → Diesel Engine\nLiquid fuel\n27.8k</title></g><g class=\"link\" style=\"opacity: 0.8;\"><path d=\"M1,321.28169540653437 A99.08879733175493 99.08879733175493 0.6166357743299201 0 1 58.302437822884684,339.53101985401054 L165.86248893153595,415.7741337805788 A81.51135376514519 81.51135376514519 0.6166357743299201 0 0 213,430.78619549763465 L213,472.9832537644607 A123.70841203197124 123.70841203197124 0.6166357743299201 0 1 141.46019146951448,450.1996999334968 L33.90014036086323,373.95658600692855 A56.891739064928885 56.891739064928885 0.6166357743299201 0 0 1,363.4787536733604 Z\" style=\"fill: rgb(0, 0, 0);\"/><title>Coal → Power Plant\nCoal\n30.1k</title></g><g class=\"link\" style=\"opacity: 0.8;\"><path d=\"M427,58.87485855053271 A0 0 0 0 0 427,58.87485855053271 L639,58.87485855053271 A0 0 0 0 0 639,58.87485855053271 L639,107.98783770458837 A0 0 0 0 0 639,107.98783770458837 L427,107.98783770458837 A0 0 0 0 0 427,107.98783770458837 Z\" style=\"fill: rgb(0, 0, 255);\"/><title>Boiler → Heating\nGas\n35.0k</title></g><g class=\"link\" style=\"opacity: 0.8;\"><path d=\"M214,59.2764321087224 A0 0 0 0 0 214,59.2764321087224 L426,59.2764321087224 A0 0 0 0 0 426,59.2764321087224 L426,115.27933542852035 A0 0 0 0 0 426,115.27933542852035 L214,115.27933542852035 A0 0 0 0 0 214,115.27933542852035 Z\" style=\"fill: rgb(0, 0, 255);\"/><title>Transformation → Boiler\nGas\n39.9k</title></g><g class=\"link\" style=\"opacity: 0.8;\"><path d=\"M1,56.5 A0 0 0 0 0 1,56.5 L213,56.5 A0 0 0 0 0 213,56.5 L213,120.7660539772568 A0 0 0 0 0 213,120.7660539772568 L1,120.7660539772568 A0 0 0 0 0 1,120.7660539772568 Z\" style=\"fill: rgb(0, 0, 255);\"/><title>Gas → Transformation\nGas\n45.8k</title></g><g class=\"link\" style=\"opacity: 0.8;\"><path d=\"M214,440.23318735051447 A0 0 0 0 0 214,440.23318735051447 L426,440.23318735051436 A0 0 0 0 1 426,440.23318735051436 L426,508.49999999999994 A0 0 0 0 0 426,508.49999999999994 L214,508.50000000000006 A0 0 0 0 1 214,508.50000000000006 Z\" style=\"fill: rgb(128, 128, 128);\"/><title>Power Plant → \nLoss\n48.6k</title></g><g class=\"link\" style=\"opacity: 0.8;\"><path d=\"M427,427.84875722438017 A0 0 0 0 0 427,427.84875722438017 L639,427.84875722438017 A0 0 0 0 0 639,427.84875722438017 L639,508.4999999999999 A0 0 0 0 0 639,508.4999999999999 L427,508.4999999999999 A0 0 0 0 0 427,508.4999999999999 Z\" style=\"fill: rgb(128, 128, 128);\"/><title> → Loss\nLoss\n57.5k</title></g><g class=\"link\" style=\"opacity: 0.8;\"><path d=\"M1,186.10633820406048 A66.2615507846773 66.2615507846773 0.37599415642487233 0 0 25.331070364932202,181.47750703556665 L147.60379484457823,133.20726548930435 A178.0954928837233 178.0954928837233 0.37599415642487233 0 1 213,120.76605397725679 L213,214.19859367209187 A84.66295318888821 84.66295318888821 0.37599415642487233 0 0 181.9119821835176,220.11289105717634 L59.639257703871564,268.3831326034387 A159.69409047951237 159.69409047951237 0.37599415642487233 0 1 1,279.5388778988956 Z\" style=\"fill: rgb(255, 0, 0);\"/><title>Liquid fuel → Transformation\nLiquid fuel\n66.6k</title></g></g><g class=\"nodes\"><g class=\"node\" transform=\"translate(0,56.5)\"><title>Gas</title><text dy=\".35em\" text-anchor=\"end\" transform=\"translate(-4,47.08814646562148)\" style=\"display: inline;\">Gas</text><line x1=\"0\" x2=\"0\" y1=\"0\" y2=\"94.17629293124295\" style=\"display: inline; stroke: rgb(136, 136, 136); stroke-width: 4px;\"/><rect x=\"-5\" y=\"-5\" width=\"10\" style=\"fill: none; visibility: hidden; pointer-events: all;\" height=\"99.17629293124295\"/></g><g class=\"node\" transform=\"translate(0,186.10633820406048)\"><title>Liquid fuel</title><text dy=\".35em\" text-anchor=\"end\" transform=\"translate(-4,46.968414001457006)\" style=\"display: inline;\">Liquid fuel</text><line x1=\"0\" x2=\"0\" y1=\"0\" y2=\"93.93682800291401\" style=\"display: inline; stroke: rgb(136, 136, 136); stroke-width: 4px;\"/><rect x=\"-5\" y=\"-5\" width=\"10\" style=\"fill: none; visibility: hidden; pointer-events: all;\" height=\"98.93682800291401\"/></g><g class=\"node\" transform=\"translate(0,315.473211479792)\"><title>Coal</title><text dy=\".35em\" text-anchor=\"end\" transform=\"translate(-4,24.002771096784215)\" style=\"display: inline;\">Coal</text><line x1=\"0\" x2=\"0\" y1=\"0\" y2=\"48.00554219356843\" style=\"display: inline; stroke: rgb(136, 136, 136); stroke-width: 4px;\"/><rect x=\"-5\" y=\"-5\" width=\"10\" style=\"fill: none; visibility: hidden; pointer-events: all;\" height=\"53.00554219356843\"/></g><g class=\"node\" transform=\"translate(0,398.9087989461779)\"><title>Nuclear</title><text dy=\".35em\" text-anchor=\"end\" transform=\"translate(-4,12.781455944243874)\" style=\"display: inline;\">Nuclear</text><line x1=\"0\" x2=\"0\" y1=\"0\" y2=\"25.562911888487747\" style=\"display: inline; stroke: rgb(136, 136, 136); stroke-width: 4px;\"/><rect x=\"-5\" y=\"-5\" width=\"10\" style=\"fill: none; visibility: hidden; pointer-events: all;\" height=\"30.562911888487747\"/></g><g class=\"node\" transform=\"translate(0,459.90175610748315)\"><title>Solid biomass &amp; Waste</title><text dy=\".35em\" text-anchor=\"end\" transform=\"translate(-4,3.5945103573768336)\" style=\"display: inline;\">Solid biomass &amp; Waste</text><line x1=\"0\" x2=\"0\" y1=\"0\" y2=\"7.189020714753667\" style=\"display: inline; stroke: rgb(136, 136, 136); stroke-width: 4px;\"/><rect x=\"-5\" y=\"-5\" width=\"10\" style=\"fill: none; visibility: hidden; pointer-events: all;\" height=\"12.189020714753667\"/></g><g class=\"node\" transform=\"translate(0,502.52082209505437)\"><title>Primary Electricity</title><text dy=\".35em\" text-anchor=\"end\" transform=\"translate(-4,2.9895889524728148)\" style=\"display: inline;\">Primary Electricity</text><line x1=\"0\" x2=\"0\" y1=\"0\" y2=\"5.9791779049456295\" style=\"display: inline; stroke: rgb(136, 136, 136); stroke-width: 4px;\"/><rect x=\"-5\" y=\"-5\" width=\"10\" style=\"fill: none; visibility: hidden; pointer-events: all;\" height=\"10.97917790494563\"/></g><g class=\"node\" transform=\"translate(213,56.5)\"><title>Transformation</title><text dy=\".35em\" text-anchor=\"start\" transform=\"translate(-4,-10)\" style=\"display: inline;\">Transformation</text><line x1=\"0\" x2=\"0\" y1=\"-5\" y2=\"166.721441871482\" style=\"display: inline; stroke: rgb(136, 136, 136); stroke-width: 4px;\"/><rect x=\"-5\" y=\"-5\" width=\"10\" style=\"fill: none; visibility: hidden; pointer-events: all;\" height=\"171.721441871482\"/></g><g class=\"node\" transform=\"translate(213,400.3716682355696)\"><title>Power Plant</title><text dy=\".35em\" text-anchor=\"start\" transform=\"translate(-4,-10)\" style=\"display: inline;\">Power Plant</text><line x1=\"0\" x2=\"0\" y1=\"-5\" y2=\"108.12833176443041\" style=\"display: inline; stroke: rgb(136, 136, 136); stroke-width: 4px;\"/><rect x=\"-5\" y=\"-5\" width=\"10\" style=\"fill: none; visibility: hidden; pointer-events: all;\" height=\"113.12833176443041\"/></g><g class=\"node\" transform=\"translate(426,56.5)\"><title>Boiler</title><text dy=\".35em\" text-anchor=\"start\" transform=\"translate(-4,-10)\" style=\"display: inline;\">Boiler</text><line x1=\"0\" x2=\"0\" y1=\"-5\" y2=\"71.34079340896723\" style=\"display: inline; stroke: rgb(136, 136, 136); stroke-width: 4px;\"/><rect x=\"-5\" y=\"-5\" width=\"10\" style=\"fill: none; visibility: hidden; pointer-events: all;\" height=\"76.34079340896723\"/></g><g class=\"node\" transform=\"translate(426,144.79079340896723)\"><title>Burner</title><text dy=\".35em\" text-anchor=\"start\" transform=\"translate(4,4.481665752993905)\" style=\"display: inline;\">Burner</text><line x1=\"0\" x2=\"0\" y1=\"0\" y2=\"8.96333150598781\" style=\"display: inline; stroke: rgb(136, 136, 136); stroke-width: 4px;\"/><rect x=\"-5\" y=\"-5\" width=\"10\" style=\"fill: none; visibility: hidden; pointer-events: all;\" height=\"13.96333150598781\"/></g><g class=\"node\" transform=\"translate(426,170.70412491495503)\"><title>Electric Heater</title><text dy=\".35em\" text-anchor=\"start\" transform=\"translate(4,6.8992030312258805)\" style=\"display: inline;\">Electric Heater</text><line x1=\"0\" x2=\"0\" y1=\"0\" y2=\"13.798406062451761\" style=\"display: inline; stroke: rgb(136, 136, 136); stroke-width: 4px;\"/><rect x=\"-5\" y=\"-5\" width=\"10\" style=\"fill: none; visibility: hidden; pointer-events: all;\" height=\"18.79840606245176\"/></g><g class=\"node\" transform=\"translate(426,201.45253097740678)\"><title>Spark Ignition Engine</title><text dy=\".35em\" text-anchor=\"start\" transform=\"translate(4,9.830645716344677)\" style=\"display: inline;\">Spark Ignition Engine</text><line x1=\"0\" x2=\"0\" y1=\"0\" y2=\"19.661291432689353\" style=\"display: inline; stroke: rgb(136, 136, 136); stroke-width: 4px;\"/><rect x=\"-5\" y=\"-5\" width=\"10\" style=\"fill: none; visibility: hidden; pointer-events: all;\" height=\"24.661291432689353\"/></g><g class=\"node\" transform=\"translate(426,238.06382241009615)\"><title>Diesel Engine</title><text dy=\".35em\" text-anchor=\"start\" transform=\"translate(4,19.529840934615223)\" style=\"display: inline;\">Diesel Engine</text><line x1=\"0\" x2=\"0\" y1=\"0\" y2=\"39.059681869230445\" style=\"display: inline; stroke: rgb(136, 136, 136); stroke-width: 4px;\"/><rect x=\"-5\" y=\"-5\" width=\"10\" style=\"fill: none; visibility: hidden; pointer-events: all;\" height=\"44.059681869230445\"/></g><g class=\"node\" transform=\"translate(426,294.0735042793266)\"><title>Gas Turbine</title><text dy=\".35em\" text-anchor=\"start\" transform=\"translate(4,8.487196988846279)\" style=\"display: inline;\">Gas Turbine</text><line x1=\"0\" x2=\"0\" y1=\"0\" y2=\"16.974393977692557\" style=\"display: inline; stroke: rgb(136, 136, 136); stroke-width: 4px;\"/><rect x=\"-5\" y=\"-5\" width=\"10\" style=\"fill: none; visibility: hidden; pointer-events: all;\" height=\"21.974393977692557\"/></g><g class=\"node\" transform=\"translate(426,327.99789825701913)\"><title>Electric Motor</title><text dy=\".35em\" text-anchor=\"start\" transform=\"translate(4,4.4044201891641706)\" style=\"display: inline;\">Electric Motor</text><line x1=\"0\" x2=\"0\" y1=\"0\" y2=\"8.808840378328341\" style=\"display: inline; stroke: rgb(136, 136, 136); stroke-width: 4px;\"/><rect x=\"-5\" y=\"-5\" width=\"10\" style=\"fill: none; visibility: hidden; pointer-events: all;\" height=\"13.808840378328341\"/></g><g class=\"node\" transform=\"translate(426,353.75673863534746)\"><title>Cooler</title><text dy=\".35em\" text-anchor=\"start\" transform=\"translate(4,6.122756347673146)\" style=\"display: inline;\">Cooler</text><line x1=\"0\" x2=\"0\" y1=\"0\" y2=\"12.245512695346292\" style=\"display: inline; stroke: rgb(136, 136, 136); stroke-width: 4px;\"/><rect x=\"-5\" y=\"-5\" width=\"10\" style=\"fill: none; visibility: hidden; pointer-events: all;\" height=\"17.245512695346292\"/></g><g class=\"node\" transform=\"translate(426,382.95225133069374)\"><title>Light Device</title><text dy=\".35em\" text-anchor=\"start\" transform=\"translate(4,2.664131604232182)\" style=\"display: inline;\">Light Device</text><line x1=\"0\" x2=\"0\" y1=\"0\" y2=\"5.328263208464364\" style=\"display: inline; stroke: rgb(136, 136, 136); stroke-width: 4px;\"/><rect x=\"-5\" y=\"-5\" width=\"10\" style=\"fill: none; visibility: hidden; pointer-events: all;\" height=\"10.328263208464364\"/></g><g class=\"node\" transform=\"translate(426,405.2305145391581)\"><title>Electronics</title><text dy=\".35em\" text-anchor=\"start\" transform=\"translate(4,2.8341213426110414)\" style=\"display: inline;\">Electronics</text><line x1=\"0\" x2=\"0\" y1=\"0\" y2=\"5.668242685222083\" style=\"display: inline; stroke: rgb(136, 136, 136); stroke-width: 4px;\"/><rect x=\"-5\" y=\"-5\" width=\"10\" style=\"fill: none; visibility: hidden; pointer-events: all;\" height=\"10.668242685222083\"/></g><g class=\"node\" transform=\"translate(426,427.84875722438017)\"><title/><text dy=\".35em\" text-anchor=\"start\" transform=\"translate(4,40.32562138780989)\" style=\"display: none;\"/><line x1=\"0\" x2=\"0\" y1=\"0\" y2=\"80.65124277561978\" style=\"display: none; stroke: rgb(0, 0, 0);\"/><rect x=\"-5\" y=\"-5\" width=\"10\" style=\"fill: none; visibility: hidden; pointer-events: all;\" height=\"85.65124277561978\"/></g><g class=\"node\" transform=\"translate(639,56.5)\"><title>Heating</title><text dy=\".35em\" text-anchor=\"start\" transform=\"translate(4,42.512724415341154)\" style=\"display: inline;\">Heating</text><line x1=\"0\" x2=\"0\" y1=\"0\" y2=\"85.02544883068231\" style=\"display: inline; stroke: rgb(136, 136, 136); stroke-width: 4px;\"/><rect x=\"-5\" y=\"-5\" width=\"10\" style=\"fill: none; visibility: hidden; pointer-events: all;\" height=\"90.02544883068231\"/></g><g class=\"node\" transform=\"translate(639,175.42544883068229)\"><title>Motion</title><text dy=\".35em\" text-anchor=\"start\" transform=\"translate(4,14.767111170009798)\" style=\"display: inline;\">Motion</text><line x1=\"0\" x2=\"0\" y1=\"0\" y2=\"29.534222340019596\" style=\"display: inline; stroke: rgb(136, 136, 136); stroke-width: 4px;\"/><rect x=\"-5\" y=\"-5\" width=\"10\" style=\"fill: none; visibility: hidden; pointer-events: all;\" height=\"34.534222340019596\"/></g><g class=\"node\" transform=\"translate(639,238.8596711707019)\"><title>Cool</title><text dy=\".35em\" text-anchor=\"start\" transform=\"translate(4,6.122756347673146)\" style=\"display: inline;\">Cool</text><line x1=\"0\" x2=\"0\" y1=\"0\" y2=\"12.245512695346292\" style=\"display: inline; stroke: rgb(136, 136, 136); stroke-width: 4px;\"/><rect x=\"-5\" y=\"-5\" width=\"10\" style=\"fill: none; visibility: hidden; pointer-events: all;\" height=\"17.245512695346292\"/></g><g class=\"node\" transform=\"translate(639,285.0051838660482)\"><title>Illumination</title><text dy=\".35em\" text-anchor=\"start\" transform=\"translate(4,0.1990760891093828)\" style=\"display: inline;\">Illumination</text><line x1=\"0\" x2=\"0\" y1=\"0\" y2=\"1\" style=\"display: inline; stroke: rgb(136, 136, 136); stroke-width: 4px;\"/><rect x=\"-5\" y=\"-5\" width=\"10\" style=\"fill: none; visibility: hidden; pointer-events: all;\" height=\"6\"/></g><g class=\"node\" transform=\"translate(639,319.3033360442669)\"><title>Information</title><text dy=\".35em\" text-anchor=\"start\" transform=\"translate(4,2.4090031412193866)\" style=\"display: inline;\">Information</text><line x1=\"0\" x2=\"0\" y1=\"0\" y2=\"4.818006282438773\" style=\"display: inline; stroke: rgb(136, 136, 136); stroke-width: 4px;\"/><rect x=\"-5\" y=\"-5\" width=\"10\" style=\"fill: none; visibility: hidden; pointer-events: all;\" height=\"9.818006282438773\"/></g><g class=\"node\" transform=\"translate(639,358.0213423267057)\"><title>Loss</title><text dy=\".35em\" text-anchor=\"start\" transform=\"translate(4,75.23932883664716)\" style=\"display: inline;\">Loss</text><line x1=\"0\" x2=\"0\" y1=\"0\" y2=\"150.47865767329432\" style=\"display: inline; stroke: rgb(136, 136, 136); stroke-width: 4px;\"/><rect x=\"-5\" y=\"-5\" width=\"10\" style=\"fill: none; visibility: hidden; pointer-events: all;\" height=\"155.47865767329432\"/></g></g><g class=\"slice-titles\"/></g></svg>"
      }
     }
    },
    "version_major": 2,
    "version_minor": 0
   }
  }
 },
 "nbformat": 4,
 "nbformat_minor": 1
}
