{
 "cells": [
  {
   "cell_type": "markdown",
   "metadata": {},
   "source": [
    "# System boundaries\n",
    "\n",
    "Often we don't want to show all of the data in one Sankey diagram: you focus on one part of the system. But we still want conservation of mass (or whatever is being shown in the diagram) to work, so we end up with flows to & from \"elsewhere\". These can also be thought of as *imports* and *exports*.\n",
    "\n",
    "Let's start by recreating the [Quickstart example](/tutorials/quickstart.ipynb):"
   ]
  },
  {
   "cell_type": "code",
   "execution_count": 1,
   "metadata": {
    "collapsed": true
   },
   "outputs": [],
   "source": [
    "import pandas as pd\n",
    "flows = pd.read_csv('simple_fruit_sales.csv')"
   ]
  },
  {
   "cell_type": "code",
   "execution_count": 2,
   "metadata": {
    "collapsed": true
   },
   "outputs": [],
   "source": [
    "from floweaver import *\n",
    "\n",
    "# Set the default size to fit the documentation better.\n",
    "size = dict(width=570, height=300)\n",
    "\n",
    "# Same partitions as the Quickstart tutorial\n",
    "farms_with_other = Partition.Simple('process', [\n",
    "    'farm1',\n",
    "    'farm2',\n",
    "    'farm3',\n",
    "    ('other', ['farm4', 'farm5', 'farm6']),\n",
    "])\n",
    "\n",
    "customers_by_name = Partition.Simple('process', [\n",
    "    'James', 'Mary', 'Fred', 'Susan'\n",
    "])\n",
    "\n",
    "# Define the nodes, this time setting the partition from the start\n",
    "nodes = {\n",
    "    'farms': ProcessGroup(['farm1', 'farm2', 'farm3', \n",
    "                           'farm4', 'farm5', 'farm6'],\n",
    "                          partition=farms_with_other),\n",
    "    'customers': ProcessGroup(['James', 'Mary', 'Fred', 'Susan'],\n",
    "                              partition=customers_by_name),\n",
    "}\n",
    "\n",
    "# Ordering and bundles as before\n",
    "ordering = [\n",
    "    ['farms'],       # put \"farms\" on the left...\n",
    "    ['customers'],   # ... and \"customers\" on the right.\n",
    "]\n",
    "\n",
    "bundles = [\n",
    "    Bundle('farms', 'customers'),\n",
    "]"
   ]
  },
  {
   "cell_type": "code",
   "execution_count": 3,
   "metadata": {},
   "outputs": [
    {
     "data": {
      "application/vnd.jupyter.widget-view+json": {
       "model_id": "41bd6a7ab7954e5aa3433ad0c0ba5b3f",
       "version_major": 2,
       "version_minor": 0
      },
      "text/html": [
       "<p>Failed to display Jupyter Widget of type <code>SankeyWidget</code>.</p>\n",
       "<p>\n",
       "  If you're reading this message in the Jupyter Notebook or JupyterLab Notebook, it may mean\n",
       "  that the widgets JavaScript is still loading. If this message persists, it\n",
       "  likely means that the widgets JavaScript library is either not installed or\n",
       "  not enabled. See the <a href=\"https://ipywidgets.readthedocs.io/en/stable/user_install.html\">Jupyter\n",
       "  Widgets Documentation</a> for setup instructions.\n",
       "</p>\n",
       "<p>\n",
       "  If you're reading this message in another frontend (for example, a static\n",
       "  rendering on GitHub or <a href=\"https://nbviewer.jupyter.org/\">NBViewer</a>),\n",
       "  it may mean that your frontend doesn't currently support widgets.\n",
       "</p>\n"
      ],
      "text/plain": [
       "SankeyWidget(groups=[{'nodes': ['farms^farm1', 'farms^farm2', 'farms^farm3', 'farms^other'], 'id': 'farms', 'type': 'process', 'title': ''}, {'nodes': ['customers^James', 'customers^Mary', 'customers^Fred', 'customers^Susan'], 'id': 'customers', 'type': 'process', 'title': ''}], layout=Layout(height='300', width='570'), links=[{'opacity': 1.0, 'source': 'farms^farm2', 'value': 5.0, 'type': '*', 'target': 'customers^Susan', 'time': '*', 'color': '#FBB4AE', 'title': '*'}, {'opacity': 1.0, 'source': 'farms^farm2', 'value': 20.0, 'type': '*', 'target': 'customers^Fred', 'time': '*', 'color': '#FBB4AE', 'title': '*'}, {'opacity': 1.0, 'source': 'farms^other', 'value': 3.0, 'type': '*', 'target': 'customers^Susan', 'time': '*', 'color': '#FBB4AE', 'title': '*'}, {'opacity': 1.0, 'source': 'farms^farm3', 'value': 10.0, 'type': '*', 'target': 'customers^Susan', 'time': '*', 'color': '#FBB4AE', 'title': '*'}, {'opacity': 1.0, 'source': 'farms^farm1', 'value': 5.0, 'type': '*', 'target': 'customers^Mary', 'time': '*', 'color': '#FBB4AE', 'title': '*'}, {'opacity': 1.0, 'source': 'farms^farm1', 'value': 3.0, 'type': '*', 'target': 'customers^James', 'time': '*', 'color': '#FBB4AE', 'title': '*'}], margins={'top': 25, 'left': 130, 'bottom': 10, 'right': 130}, nodes=[{'style': {'direction': 'r', 'hidden': False, 'type': 'process'}, 'id': 'customers^Mary', 'title': 'Mary'}, {'style': {'direction': 'r', 'hidden': False, 'type': 'process'}, 'id': 'customers^James', 'title': 'James'}, {'style': {'direction': 'r', 'hidden': False, 'type': 'process'}, 'id': 'customers^Fred', 'title': 'Fred'}, {'style': {'direction': 'r', 'hidden': False, 'type': 'process'}, 'id': 'customers^Susan', 'title': 'Susan'}, {'style': {'direction': 'r', 'hidden': False, 'type': 'process'}, 'id': 'farms^farm2', 'title': 'farm2'}, {'style': {'direction': 'r', 'hidden': False, 'type': 'process'}, 'id': 'farms^other', 'title': 'other'}, {'style': {'direction': 'r', 'hidden': False, 'type': 'process'}, 'id': 'farms^farm3', 'title': 'farm3'}, {'style': {'direction': 'r', 'hidden': False, 'type': 'process'}, 'id': 'farms^farm1', 'title': 'farm1'}], order=[(('farms^farm1', 'farms^farm2', 'farms^farm3', 'farms^other'),), (('customers^James', 'customers^Mary', 'customers^Fred', 'customers^Susan'),)])"
      ]
     },
     "metadata": {},
     "output_type": "display_data"
    }
   ],
   "source": [
    "sdd = SankeyDefinition(nodes, bundles, ordering)\n",
    "weave(sdd, flows).to_widget(**size)"
   ]
  },
  {
   "cell_type": "markdown",
   "metadata": {},
   "source": [
    "What happens if we remove `farm2` from the ProcessGroup?"
   ]
  },
  {
   "cell_type": "code",
   "execution_count": 4,
   "metadata": {},
   "outputs": [
    {
     "data": {
      "application/vnd.jupyter.widget-view+json": {
       "model_id": "ad28951e59df4d4cbda5c1372f284d4b",
       "version_major": 2,
       "version_minor": 0
      },
      "text/html": [
       "<p>Failed to display Jupyter Widget of type <code>SankeyWidget</code>.</p>\n",
       "<p>\n",
       "  If you're reading this message in the Jupyter Notebook or JupyterLab Notebook, it may mean\n",
       "  that the widgets JavaScript is still loading. If this message persists, it\n",
       "  likely means that the widgets JavaScript library is either not installed or\n",
       "  not enabled. See the <a href=\"https://ipywidgets.readthedocs.io/en/stable/user_install.html\">Jupyter\n",
       "  Widgets Documentation</a> for setup instructions.\n",
       "</p>\n",
       "<p>\n",
       "  If you're reading this message in another frontend (for example, a static\n",
       "  rendering on GitHub or <a href=\"https://nbviewer.jupyter.org/\">NBViewer</a>),\n",
       "  it may mean that your frontend doesn't currently support widgets.\n",
       "</p>\n"
      ],
      "text/plain": [
       "SankeyWidget(groups=[{'nodes': ['farms^farm1', 'farms^farm3', 'farms^other'], 'id': 'farms', 'type': 'process', 'title': ''}, {'nodes': ['customers^James', 'customers^Mary', 'customers^Fred', 'customers^Susan'], 'id': 'customers', 'type': 'process', 'title': ''}], layout=Layout(height='300', width='570'), links=[{'opacity': 1.0, 'source': '__>customers^*', 'value': 5.0, 'type': '*', 'target': 'customers^Susan', 'time': '*', 'color': '#FBB4AE', 'title': '*'}, {'opacity': 1.0, 'source': '__>customers^*', 'value': 20.0, 'type': '*', 'target': 'customers^Fred', 'time': '*', 'color': '#FBB4AE', 'title': '*'}, {'opacity': 1.0, 'source': 'farms^other', 'value': 3.0, 'type': '*', 'target': 'customers^Susan', 'time': '*', 'color': '#FBB4AE', 'title': '*'}, {'opacity': 1.0, 'source': 'farms^farm3', 'value': 10.0, 'type': '*', 'target': 'customers^Susan', 'time': '*', 'color': '#FBB4AE', 'title': '*'}, {'opacity': 1.0, 'source': 'farms^farm1', 'value': 5.0, 'type': '*', 'target': 'customers^Mary', 'time': '*', 'color': '#FBB4AE', 'title': '*'}, {'opacity': 1.0, 'source': 'farms^farm1', 'value': 3.0, 'type': '*', 'target': 'customers^James', 'time': '*', 'color': '#FBB4AE', 'title': '*'}], margins={'top': 25, 'left': 130, 'bottom': 10, 'right': 130}, nodes=[{'style': {'direction': 'r', 'hidden': False, 'type': 'group'}, 'id': '__>customers^*', 'title': '→'}, {'style': {'direction': 'r', 'hidden': False, 'type': 'process'}, 'id': 'customers^Mary', 'title': 'Mary'}, {'style': {'direction': 'r', 'hidden': False, 'type': 'process'}, 'id': 'customers^James', 'title': 'James'}, {'style': {'direction': 'r', 'hidden': False, 'type': 'process'}, 'id': 'customers^Fred', 'title': 'Fred'}, {'style': {'direction': 'r', 'hidden': False, 'type': 'process'}, 'id': 'customers^Susan', 'title': 'Susan'}, {'style': {'direction': 'r', 'hidden': False, 'type': 'process'}, 'id': 'farms^other', 'title': 'other'}, {'style': {'direction': 'r', 'hidden': False, 'type': 'process'}, 'id': 'farms^farm3', 'title': 'farm3'}, {'style': {'direction': 'r', 'hidden': False, 'type': 'process'}, 'id': 'farms^farm1', 'title': 'farm1'}], order=[(('__>customers^*', 'farms^farm1', 'farms^farm3', 'farms^other'),), (('customers^James', 'customers^Mary', 'customers^Fred', 'customers^Susan'),)])"
      ]
     },
     "metadata": {},
     "output_type": "display_data"
    }
   ],
   "source": [
    "nodes['farms'].selection = [\n",
    "    'farm1', 'farm3', 'farm4', 'farm5', 'farm6'\n",
    "]\n",
    "weave(sdd, flows).to_widget(**size)"
   ]
  },
  {
   "cell_type": "markdown",
   "metadata": {},
   "source": [
    "The flow is still there! But it is labelled with a little arrow to show that it is coming \"from elsewhere\". This is important because we are still showing Susan and Fred in the diagram, and they get fruit from farm2. If we didn't show those flows, Susan's and Fred's inputs and outputs would not balance.\n",
    "\n",
    "Try now removing Susan and Fred from the diagram:"
   ]
  },
  {
   "cell_type": "code",
   "execution_count": 5,
   "metadata": {},
   "outputs": [
    {
     "data": {
      "application/vnd.jupyter.widget-view+json": {
       "model_id": "899b291e2d284406ab1d191d18a55ad0",
       "version_major": 2,
       "version_minor": 0
      },
      "text/html": [
       "<p>Failed to display Jupyter Widget of type <code>SankeyWidget</code>.</p>\n",
       "<p>\n",
       "  If you're reading this message in the Jupyter Notebook or JupyterLab Notebook, it may mean\n",
       "  that the widgets JavaScript is still loading. If this message persists, it\n",
       "  likely means that the widgets JavaScript library is either not installed or\n",
       "  not enabled. See the <a href=\"https://ipywidgets.readthedocs.io/en/stable/user_install.html\">Jupyter\n",
       "  Widgets Documentation</a> for setup instructions.\n",
       "</p>\n",
       "<p>\n",
       "  If you're reading this message in another frontend (for example, a static\n",
       "  rendering on GitHub or <a href=\"https://nbviewer.jupyter.org/\">NBViewer</a>),\n",
       "  it may mean that your frontend doesn't currently support widgets.\n",
       "</p>\n"
      ],
      "text/plain": [
       "SankeyWidget(groups=[{'nodes': ['farms^farm1', 'farms^farm3', 'farms^other'], 'id': 'farms', 'type': 'process', 'title': ''}, {'nodes': ['customers^James', 'customers^Mary'], 'id': 'customers', 'type': 'process', 'title': ''}], layout=Layout(height='300', width='570'), links=[{'opacity': 1.0, 'source': 'farms^other', 'value': 3.0, 'type': '*', 'target': '__farms>^*', 'time': '*', 'color': '#FBB4AE', 'title': '*'}, {'opacity': 1.0, 'source': 'farms^farm3', 'value': 10.0, 'type': '*', 'target': '__farms>^*', 'time': '*', 'color': '#FBB4AE', 'title': '*'}, {'opacity': 1.0, 'source': 'farms^farm1', 'value': 5.0, 'type': '*', 'target': 'customers^Mary', 'time': '*', 'color': '#FBB4AE', 'title': '*'}, {'opacity': 1.0, 'source': 'farms^farm1', 'value': 3.0, 'type': '*', 'target': 'customers^James', 'time': '*', 'color': '#FBB4AE', 'title': '*'}], margins={'top': 25, 'left': 130, 'bottom': 10, 'right': 130}, nodes=[{'style': {'direction': 'r', 'hidden': False, 'type': 'process'}, 'id': 'customers^Mary', 'title': 'Mary'}, {'style': {'direction': 'r', 'hidden': False, 'type': 'process'}, 'id': 'customers^James', 'title': 'James'}, {'style': {'direction': 'r', 'hidden': False, 'type': 'process'}, 'id': 'farms^other', 'title': 'other'}, {'style': {'direction': 'r', 'hidden': False, 'type': 'group'}, 'id': '__farms>^*', 'title': '→'}, {'style': {'direction': 'r', 'hidden': False, 'type': 'process'}, 'id': 'farms^farm3', 'title': 'farm3'}, {'style': {'direction': 'r', 'hidden': False, 'type': 'process'}, 'id': 'farms^farm1', 'title': 'farm1'}], order=[(('farms^farm1', 'farms^farm3', 'farms^other'),), (('customers^James', 'customers^Mary', '__farms>^*'),)])"
      ]
     },
     "metadata": {},
     "output_type": "display_data"
    }
   ],
   "source": [
    "nodes['customers'].selection = ['James', 'Mary']\n",
    "weave(sdd, flows).to_widget(**size)"
   ]
  },
  {
   "cell_type": "markdown",
   "metadata": {},
   "source": [
    "Now they're gone, we no longer see the incoming flows from `farm2`. But we see some outgoing flows \"to elsewhere\" from `farm3` and the `other` group. This is because `farm3` is within the system boundary -- it is shown in the diagram -- so its output flow has to go somewhere."
   ]
  },
  {
   "cell_type": "markdown",
   "metadata": {},
   "source": [
    "## Controlling Elsewhere flows\n",
    "\n",
    "These flows are added automatically to make sure that mass is conserved, but because they are automatic, we have little control over them. By explicitly adding a flow to or from Elsewhere to the diagram, we can control where they appear and what they look like.\n",
    "\n",
    "To do this, add a Waypoint for the outgoing flows to 'pass through' on their way across the system boundary:"
   ]
  },
  {
   "cell_type": "code",
   "execution_count": 6,
   "metadata": {},
   "outputs": [
    {
     "data": {
      "application/vnd.jupyter.widget-view+json": {
       "model_id": "3ce270b00e774e16b21540f231883c9c",
       "version_major": 2,
       "version_minor": 0
      },
      "text/html": [
       "<p>Failed to display Jupyter Widget of type <code>SankeyWidget</code>.</p>\n",
       "<p>\n",
       "  If you're reading this message in the Jupyter Notebook or JupyterLab Notebook, it may mean\n",
       "  that the widgets JavaScript is still loading. If this message persists, it\n",
       "  likely means that the widgets JavaScript library is either not installed or\n",
       "  not enabled. See the <a href=\"https://ipywidgets.readthedocs.io/en/stable/user_install.html\">Jupyter\n",
       "  Widgets Documentation</a> for setup instructions.\n",
       "</p>\n",
       "<p>\n",
       "  If you're reading this message in another frontend (for example, a static\n",
       "  rendering on GitHub or <a href=\"https://nbviewer.jupyter.org/\">NBViewer</a>),\n",
       "  it may mean that your frontend doesn't currently support widgets.\n",
       "</p>\n"
      ],
      "text/plain": [
       "SankeyWidget(groups=[{'nodes': ['farms^farm1', 'farms^farm3', 'farms^other'], 'id': 'farms', 'type': 'process', 'title': ''}, {'nodes': ['customers^James', 'customers^Mary'], 'id': 'customers', 'type': 'process', 'title': ''}], layout=Layout(height='300', width='570'), links=[{'opacity': 1.0, 'source': 'farms^other', 'value': 3.0, 'type': '*', 'target': 'exports^*', 'time': '*', 'color': '#FBB4AE', 'title': '*'}, {'opacity': 1.0, 'source': 'farms^farm3', 'value': 10.0, 'type': '*', 'target': 'exports^*', 'time': '*', 'color': '#FBB4AE', 'title': '*'}, {'opacity': 1.0, 'source': 'farms^farm1', 'value': 5.0, 'type': '*', 'target': 'customers^Mary', 'time': '*', 'color': '#FBB4AE', 'title': '*'}, {'opacity': 1.0, 'source': 'farms^farm1', 'value': 3.0, 'type': '*', 'target': 'customers^James', 'time': '*', 'color': '#FBB4AE', 'title': '*'}], margins={'top': 25, 'left': 130, 'bottom': 10, 'right': 130}, nodes=[{'style': {'direction': 'r', 'hidden': False, 'type': 'process'}, 'id': 'customers^Mary', 'title': 'Mary'}, {'style': {'direction': 'r', 'hidden': False, 'type': 'process'}, 'id': 'customers^James', 'title': 'James'}, {'style': {'direction': 'r', 'hidden': False, 'type': 'group'}, 'id': 'exports^*', 'title': 'exports here'}, {'style': {'direction': 'r', 'hidden': False, 'type': 'process'}, 'id': 'farms^other', 'title': 'other'}, {'style': {'direction': 'r', 'hidden': False, 'type': 'process'}, 'id': 'farms^farm3', 'title': 'farm3'}, {'style': {'direction': 'r', 'hidden': False, 'type': 'process'}, 'id': 'farms^farm1', 'title': 'farm1'}], order=[(('farms^farm1', 'farms^farm3', 'farms^other'),), (('customers^James', 'customers^Mary', 'exports^*'),)])"
      ]
     },
     "metadata": {},
     "output_type": "display_data"
    }
   ],
   "source": [
    "# Define a new Waypoint\n",
    "nodes['exports'] = Waypoint(title='exports here')\n",
    "\n",
    "# Update the ordering to include the waypoint\n",
    "ordering = [\n",
    "    ['farms'],                  #     put \"farms\" on the left...\n",
    "    ['customers', 'exports'],   # ... and \"exports\" below \"customers\"\n",
    "]                               #     on the right.\n",
    "\n",
    "# Add a new bundle from \"farms\" to Elsewhere, via the waypoint\n",
    "bundles = [\n",
    "    Bundle('farms', 'customers'),\n",
    "    Bundle('farms', Elsewhere, waypoints=['exports']),\n",
    "]\n",
    "\n",
    "sdd = SankeyDefinition(nodes, bundles, ordering)\n",
    "weave(sdd, flows).to_widget(**size)"
   ]
  },
  {
   "cell_type": "markdown",
   "metadata": {},
   "source": [
    "This is pretty similar to what we had already, but now the waypoint is explicitly listed as part of the `SankeyDefinition`, we have more control over it.\n",
    "\n",
    "For example, we can put the exports above James and Mary by changing the ordering:"
   ]
  },
  {
   "cell_type": "code",
   "execution_count": 7,
   "metadata": {},
   "outputs": [
    {
     "data": {
      "application/vnd.jupyter.widget-view+json": {
       "model_id": "9cbf866b160340f9b4549a7877113210",
       "version_major": 2,
       "version_minor": 0
      },
      "text/html": [
       "<p>Failed to display Jupyter Widget of type <code>SankeyWidget</code>.</p>\n",
       "<p>\n",
       "  If you're reading this message in the Jupyter Notebook or JupyterLab Notebook, it may mean\n",
       "  that the widgets JavaScript is still loading. If this message persists, it\n",
       "  likely means that the widgets JavaScript library is either not installed or\n",
       "  not enabled. See the <a href=\"https://ipywidgets.readthedocs.io/en/stable/user_install.html\">Jupyter\n",
       "  Widgets Documentation</a> for setup instructions.\n",
       "</p>\n",
       "<p>\n",
       "  If you're reading this message in another frontend (for example, a static\n",
       "  rendering on GitHub or <a href=\"https://nbviewer.jupyter.org/\">NBViewer</a>),\n",
       "  it may mean that your frontend doesn't currently support widgets.\n",
       "</p>\n"
      ],
      "text/plain": [
       "SankeyWidget(groups=[{'nodes': ['farms^farm1', 'farms^farm3', 'farms^other'], 'id': 'farms', 'type': 'process', 'title': ''}, {'nodes': ['customers^James', 'customers^Mary'], 'id': 'customers', 'type': 'process', 'title': ''}], layout=Layout(height='300', width='570'), links=[{'opacity': 1.0, 'source': 'farms^other', 'value': 3.0, 'type': '*', 'target': 'exports^*', 'time': '*', 'color': '#FBB4AE', 'title': '*'}, {'opacity': 1.0, 'source': 'farms^farm3', 'value': 10.0, 'type': '*', 'target': 'exports^*', 'time': '*', 'color': '#FBB4AE', 'title': '*'}, {'opacity': 1.0, 'source': 'farms^farm1', 'value': 5.0, 'type': '*', 'target': 'customers^Mary', 'time': '*', 'color': '#FBB4AE', 'title': '*'}, {'opacity': 1.0, 'source': 'farms^farm1', 'value': 3.0, 'type': '*', 'target': 'customers^James', 'time': '*', 'color': '#FBB4AE', 'title': '*'}], margins={'top': 25, 'left': 130, 'bottom': 10, 'right': 130}, nodes=[{'style': {'direction': 'r', 'hidden': False, 'type': 'process'}, 'id': 'customers^Mary', 'title': 'Mary'}, {'style': {'direction': 'r', 'hidden': False, 'type': 'process'}, 'id': 'customers^James', 'title': 'James'}, {'style': {'direction': 'r', 'hidden': False, 'type': 'process'}, 'id': 'farms^other', 'title': 'other'}, {'style': {'direction': 'r', 'hidden': False, 'type': 'group'}, 'id': 'exports^*', 'title': 'exports here'}, {'style': {'direction': 'r', 'hidden': False, 'type': 'process'}, 'id': 'farms^farm3', 'title': 'farm3'}, {'style': {'direction': 'r', 'hidden': False, 'type': 'process'}, 'id': 'farms^farm1', 'title': 'farm1'}], order=[(('farms^farm1', 'farms^farm3', 'farms^other'),), (('exports^*', 'customers^James', 'customers^Mary'),)])"
      ]
     },
     "metadata": {},
     "output_type": "display_data"
    }
   ],
   "source": [
    "ordering = [\n",
    "    ['farms'],\n",
    "    ['exports', 'customers'],\n",
    "]\n",
    "sdd = SankeyDefinition(nodes, bundles, ordering)\n",
    "weave(sdd, flows).to_widget(**size)"
   ]
  },
  {
   "cell_type": "markdown",
   "metadata": {},
   "source": [
    "Or we can partition the exports Waypoint to show how much of it is apples and bananas:"
   ]
  },
  {
   "cell_type": "code",
   "execution_count": 8,
   "metadata": {},
   "outputs": [
    {
     "data": {
      "application/vnd.jupyter.widget-view+json": {
       "model_id": "bac13fd869e14f35a668cc1807001494",
       "version_major": 2,
       "version_minor": 0
      },
      "text/html": [
       "<p>Failed to display Jupyter Widget of type <code>SankeyWidget</code>.</p>\n",
       "<p>\n",
       "  If you're reading this message in the Jupyter Notebook or JupyterLab Notebook, it may mean\n",
       "  that the widgets JavaScript is still loading. If this message persists, it\n",
       "  likely means that the widgets JavaScript library is either not installed or\n",
       "  not enabled. See the <a href=\"https://ipywidgets.readthedocs.io/en/stable/user_install.html\">Jupyter\n",
       "  Widgets Documentation</a> for setup instructions.\n",
       "</p>\n",
       "<p>\n",
       "  If you're reading this message in another frontend (for example, a static\n",
       "  rendering on GitHub or <a href=\"https://nbviewer.jupyter.org/\">NBViewer</a>),\n",
       "  it may mean that your frontend doesn't currently support widgets.\n",
       "</p>\n"
      ],
      "text/plain": [
       "SankeyWidget(groups=[{'nodes': ['farms^farm1', 'farms^farm3', 'farms^other'], 'id': 'farms', 'type': 'process', 'title': ''}, {'nodes': ['exports^apples', 'exports^bananas'], 'id': 'exports', 'type': 'group', 'title': 'exports here'}, {'nodes': ['customers^James', 'customers^Mary'], 'id': 'customers', 'type': 'process', 'title': ''}], layout=Layout(height='300', width='570'), links=[{'opacity': 1.0, 'source': 'farms^farm3', 'value': 10.0, 'type': '*', 'target': 'exports^apples', 'time': '*', 'color': '#FBB4AE', 'title': '*'}, {'opacity': 1.0, 'source': 'farms^other', 'value': 3.0, 'type': '*', 'target': 'exports^bananas', 'time': '*', 'color': '#FBB4AE', 'title': '*'}, {'opacity': 1.0, 'source': 'farms^farm1', 'value': 5.0, 'type': '*', 'target': 'customers^Mary', 'time': '*', 'color': '#FBB4AE', 'title': '*'}, {'opacity': 1.0, 'source': 'farms^farm1', 'value': 3.0, 'type': '*', 'target': 'customers^James', 'time': '*', 'color': '#FBB4AE', 'title': '*'}], margins={'top': 25, 'left': 130, 'bottom': 10, 'right': 130}, nodes=[{'style': {'direction': 'r', 'hidden': False, 'type': 'process'}, 'id': 'customers^Mary', 'title': 'Mary'}, {'style': {'direction': 'r', 'hidden': False, 'type': 'process'}, 'id': 'customers^James', 'title': 'James'}, {'style': {'direction': 'r', 'hidden': False, 'type': 'process'}, 'id': 'farms^farm3', 'title': 'farm3'}, {'style': {'direction': 'r', 'hidden': False, 'type': 'group'}, 'id': 'exports^apples', 'title': 'apples'}, {'style': {'direction': 'r', 'hidden': False, 'type': 'process'}, 'id': 'farms^other', 'title': 'other'}, {'style': {'direction': 'r', 'hidden': False, 'type': 'group'}, 'id': 'exports^bananas', 'title': 'bananas'}, {'style': {'direction': 'r', 'hidden': False, 'type': 'process'}, 'id': 'farms^farm1', 'title': 'farm1'}], order=[(('farms^farm1', 'farms^farm3', 'farms^other'),), (('exports^apples', 'exports^bananas', 'customers^James', 'customers^Mary'),)])"
      ]
     },
     "metadata": {},
     "output_type": "display_data"
    }
   ],
   "source": [
    "fruits_by_type = Partition.Simple('type', ['apples', 'bananas'])\n",
    "nodes['exports'].partition = fruits_by_type\n",
    "weave(sdd, flows).to_widget(**size)"
   ]
  },
  {
   "cell_type": "markdown",
   "metadata": {},
   "source": [
    "## Horizontal bands\n",
    "\n",
    "Often, import/exports and loss flows are shown in a separate horizontal \"band\" either above or below the main flows. We can do this by modifying the `ordering` a little bit.\n",
    "\n",
    "The `ordering` style we have used so far looks like this:\n",
    "\n",
    "```python\n",
    "ordering = [\n",
    "    [list of nodes in layer 1],  # left-hand side\n",
    "    [list of nodes in layer 2],\n",
    "    ...\n",
    "    [list of nodes in layer N],  # right-hand side\n",
    "]\n",
    "```\n",
    "\n",
    "But we can add another layer of nesting to make it look like this:\n",
    "\n",
    "```python\n",
    "ordering = [\n",
    "    # |top band|  |bottom band|\n",
    "    [ [........], [...........] ],  # left-hand side\n",
    "    [ [........], [...........] ],\n",
    "    ...\n",
    "    [ [........], [...........] ],  # right-hand side\n",
    "]\n",
    "```\n",
    "\n",
    "Here's an example:"
   ]
  },
  {
   "cell_type": "code",
   "execution_count": 9,
   "metadata": {},
   "outputs": [
    {
     "data": {
      "application/vnd.jupyter.widget-view+json": {
       "model_id": "6e31cdf9ed4c44b78e64341008cd2358",
       "version_major": 2,
       "version_minor": 0
      },
      "text/html": [
       "<p>Failed to display Jupyter Widget of type <code>SankeyWidget</code>.</p>\n",
       "<p>\n",
       "  If you're reading this message in the Jupyter Notebook or JupyterLab Notebook, it may mean\n",
       "  that the widgets JavaScript is still loading. If this message persists, it\n",
       "  likely means that the widgets JavaScript library is either not installed or\n",
       "  not enabled. See the <a href=\"https://ipywidgets.readthedocs.io/en/stable/user_install.html\">Jupyter\n",
       "  Widgets Documentation</a> for setup instructions.\n",
       "</p>\n",
       "<p>\n",
       "  If you're reading this message in another frontend (for example, a static\n",
       "  rendering on GitHub or <a href=\"https://nbviewer.jupyter.org/\">NBViewer</a>),\n",
       "  it may mean that your frontend doesn't currently support widgets.\n",
       "</p>\n"
      ],
      "text/plain": [
       "SankeyWidget(groups=[{'nodes': ['farms^farm1', 'farms^farm3', 'farms^other'], 'id': 'farms', 'type': 'process', 'title': ''}, {'nodes': ['exports^apples', 'exports^bananas'], 'id': 'exports', 'type': 'group', 'title': 'exports here'}, {'nodes': ['customers^James', 'customers^Mary'], 'id': 'customers', 'type': 'process', 'title': ''}], layout=Layout(height='300', width='570'), links=[{'opacity': 1.0, 'source': 'farms^farm3', 'value': 10.0, 'type': '*', 'target': 'exports^apples', 'time': '*', 'color': '#FBB4AE', 'title': '*'}, {'opacity': 1.0, 'source': 'farms^other', 'value': 3.0, 'type': '*', 'target': 'exports^bananas', 'time': '*', 'color': '#FBB4AE', 'title': '*'}, {'opacity': 1.0, 'source': 'farms^farm1', 'value': 5.0, 'type': '*', 'target': 'customers^Mary', 'time': '*', 'color': '#FBB4AE', 'title': '*'}, {'opacity': 1.0, 'source': 'farms^farm1', 'value': 3.0, 'type': '*', 'target': 'customers^James', 'time': '*', 'color': '#FBB4AE', 'title': '*'}], margins={'top': 25, 'left': 130, 'bottom': 10, 'right': 130}, nodes=[{'style': {'direction': 'r', 'hidden': False, 'type': 'process'}, 'id': 'customers^Mary', 'title': 'Mary'}, {'style': {'direction': 'r', 'hidden': False, 'type': 'process'}, 'id': 'customers^James', 'title': 'James'}, {'style': {'direction': 'r', 'hidden': False, 'type': 'process'}, 'id': 'farms^farm3', 'title': 'farm3'}, {'style': {'direction': 'r', 'hidden': False, 'type': 'group'}, 'id': 'exports^apples', 'title': 'apples'}, {'style': {'direction': 'r', 'hidden': False, 'type': 'process'}, 'id': 'farms^other', 'title': 'other'}, {'style': {'direction': 'r', 'hidden': False, 'type': 'group'}, 'id': 'exports^bananas', 'title': 'bananas'}, {'style': {'direction': 'r', 'hidden': False, 'type': 'process'}, 'id': 'farms^farm1', 'title': 'farm1'}], order=[((), ('farms^farm1', 'farms^farm3', 'farms^other')), (('exports^apples', 'exports^bananas'), ('customers^James', 'customers^Mary'))])"
      ]
     },
     "metadata": {},
     "output_type": "display_data"
    }
   ],
   "source": [
    "ordering = [\n",
    "    [[],          ['farms'    ]],\n",
    "    [['exports'], ['customers']],\n",
    "]\n",
    "sdd = SankeyDefinition(nodes, bundles, ordering)\n",
    "weave(sdd, flows).to_widget(**size)"
   ]
  },
  {
   "cell_type": "markdown",
   "metadata": {},
   "source": [
    "## Summary\n",
    "\n",
    "- All the flows to/from a ProcessGroup are shown, even if the other end of the flow is outside the system boundary (i.e. not part of any ProcessGroup)\n",
    "- You can control the automatic flows by explicitly adding Bundles to/from `Elsewhere` with a `Waypoint`\n",
    "- The `ordering` can contain horizontal bands"
   ]
  }
 ],
 "metadata": {
  "kernelspec": {
   "display_name": "Python 3",
   "language": "python",
   "name": "python3"
  },
  "language_info": {
   "codemirror_mode": {
    "name": "ipython",
    "version": 3
   },
   "file_extension": ".py",
   "mimetype": "text/x-python",
   "name": "python",
   "nbconvert_exporter": "python",
   "pygments_lexer": "ipython3",
   "version": "3.6.3"
  },
  "widgets": {
   "application/vnd.jupyter.widget-state+json": {
    "state": {
     "0b028244466e433482cc072fe9a69ef2": {
      "model_module": "@jupyter-widgets/base",
      "model_module_version": "1.0.0",
      "model_name": "LayoutModel",
      "state": {
       "height": "300",
       "width": "570"
      }
     },
     "3a7dc974663542b9bc4e2febd05ef3cf": {
      "model_module": "@jupyter-widgets/base",
      "model_module_version": "1.0.0",
      "model_name": "LayoutModel",
      "state": {
       "height": "300",
       "width": "570"
      }
     },
     "3ce270b00e774e16b21540f231883c9c": {
      "model_module": "jupyter-sankey-widget",
      "model_module_version": "^0.2.3",
      "model_name": "SankeyModel",
      "state": {
       "_model_module_version": "^0.2.3",
       "_view_module_version": "^0.2.3",
       "groups": [
        {
         "id": "farms",
         "nodes": [
          "farms^farm1",
          "farms^farm3",
          "farms^other"
         ],
         "rect": {
          "bottom": 238.5,
          "left": 0,
          "right": 1,
          "top": 26.5
         },
         "title": "",
         "type": "process"
        },
        {
         "id": "customers",
         "nodes": [
          "customers^James",
          "customers^Mary"
         ],
         "rect": {
          "bottom": 116.72619047619048,
          "left": 309,
          "right": 310,
          "top": 26.5
         },
         "title": "",
         "type": "process"
        }
       ],
       "layout": "IPY_MODEL_9a3ff5bfad494dabbec672005c5d2737",
       "links": [
        {
         "color": "#FBB4AE",
         "opacity": 1,
         "source": "farms^other",
         "target": "exports^*",
         "time": "*",
         "title": "*",
         "type": "*",
         "value": 3
        },
        {
         "color": "#FBB4AE",
         "opacity": 1,
         "source": "farms^farm3",
         "target": "exports^*",
         "time": "*",
         "title": "*",
         "type": "*",
         "value": 10
        },
        {
         "color": "#FBB4AE",
         "opacity": 1,
         "source": "farms^farm1",
         "target": "customers^Mary",
         "time": "*",
         "title": "*",
         "type": "*",
         "value": 5
        },
        {
         "color": "#FBB4AE",
         "opacity": 1,
         "source": "farms^farm1",
         "target": "customers^James",
         "time": "*",
         "title": "*",
         "type": "*",
         "value": 3
        }
       ],
       "margins": {
        "bottom": 10,
        "left": 130,
        "right": 130,
        "top": 25
       },
       "nodes": [
        {
         "id": "customers^Mary",
         "style": {
          "direction": "r",
          "hidden": false,
          "type": "process"
         },
         "title": "Mary"
        },
        {
         "id": "customers^James",
         "style": {
          "direction": "r",
          "hidden": false,
          "type": "process"
         },
         "title": "James"
        },
        {
         "id": "exports^*",
         "style": {
          "direction": "r",
          "hidden": false,
          "type": "group"
         },
         "title": "exports here"
        },
        {
         "id": "farms^other",
         "style": {
          "direction": "r",
          "hidden": false,
          "type": "process"
         },
         "title": "other"
        },
        {
         "id": "farms^farm3",
         "style": {
          "direction": "r",
          "hidden": false,
          "type": "process"
         },
         "title": "farm3"
        },
        {
         "id": "farms^farm1",
         "style": {
          "direction": "r",
          "hidden": false,
          "type": "process"
         },
         "title": "farm1"
        }
       ],
       "order": [
        [
         [
          "farms^farm1",
          "farms^farm3",
          "farms^other"
         ]
        ],
        [
         [
          "customers^James",
          "customers^Mary",
          "exports^*"
         ]
        ]
       ],
       "png": "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",
       "scale": 6.309523809523809,
       "svg": "<?xml version=\"1.0\" standalone=\"no\"?><!DOCTYPE svg PUBLIC \"-//W3C//DTD SVG 1.1//EN\" \"http://www.w3.org/Graphics/SVG/1.1/DTD/svg11.dtd\"><svg xmlns=\"http://www.w3.org/2000/svg\" width=\"570\" height=\"300\" viewBox=\"0 0 570 300\"><g class=\"sankey\" transform=\"translate(130,25)\"><g class=\"groups\"><g class=\"group\" style=\"display: none;\" transform=\"translate(0,26.5)\"><rect x=\"-10\" y=\"-20\" width=\"21\" height=\"242\" style=\"fill: rgb(238, 238, 238); stroke: rgb(187, 187, 187); stroke-width: 0.5;\"/><text x=\"-10\" y=\"-25\" style=\"fill: rgb(153, 153, 153);\"/></g><g class=\"group\" style=\"display: none;\" transform=\"translate(309,26.5)\"><rect x=\"-10\" y=\"-20\" width=\"21\" height=\"120.22619047619048\" style=\"fill: rgb(238, 238, 238); stroke: rgb(187, 187, 187); stroke-width: 0.5;\"/><text x=\"-10\" y=\"-25\" style=\"fill: rgb(153, 153, 153);\"/></g></g><g class=\"links\"><g class=\"link\" style=\"opacity: 0.8;\"><path d=\"M1,219.57142857142858 A0 0 0 0 0 1,219.57142857142858 L309,219.57142857142858 A0 0 0 0 0 309,219.57142857142858 L309,238.50000000000003 A0 0 0 0 0 309,238.50000000000003 L1,238.50000000000003 A0 0 0 0 0 1,238.50000000000003 Z\" style=\"fill: rgb(251, 180, 174);\"/><title>other → exports here\n*\n3.00</title></g><g class=\"link\" style=\"opacity: 0.8;\"><path d=\"M1,26.5 A0 0 0 0 0 1,26.5 L309,26.5 A0 0 0 0 0 309,26.5 L309,45.42857142857143 A0 0 0 0 0 309,45.42857142857143 L1,45.42857142857143 A0 0 0 0 0 1,45.42857142857143 Z\" style=\"fill: rgb(251, 180, 174);\"/><title>farm1 → James\n*\n3.00</title></g><g class=\"link\" style=\"opacity: 0.8;\"><path d=\"M1,45.42857142857143 A379.71366801437557 379.71366801437557 0.15728424471123104 0 1 60.47704072353829,50.11563864814738 L254.46446963250946,80.88091818997486 A348.16604896675653 348.16604896675653 0.15728424471123104 0 0 309,85.17857142857143 L309,116.72619047619047 A379.71366801437557 379.71366801437557 0.15728424471123104 0 1 249.52295927646173,112.03912325661452 L55.535530367490544,81.27384371478703 A348.16604896675653 348.16604896675653 0.15728424471123104 0 0 1,76.97619047619048 Z\" style=\"fill: rgb(251, 180, 174);\"/><title>farm1 → Mary\n*\n5.00</title></g><g class=\"link\" style=\"opacity: 0.8;\"><path d=\"M1,116.72619047619047 A395.48747753818503 395.48747753818503 0.1572842447112306 0 1 62.94779590156199,121.60796468625611 L256.93522481053344,152.37324422808362 A332.39223944294696 332.39223944294696 0.1572842447112306 0 0 309,156.47619047619048 L309,219.57142857142856 A395.48747753818503 395.48747753818503 0.1572842447112306 0 1 247.052204098438,214.68965436136293 L53.06477518946653,183.92437481953542 A332.39223944294696 332.39223944294696 0.1572842447112306 0 0 1,179.82142857142856 Z\" style=\"fill: rgb(251, 180, 174);\"/><title>farm3 → exports here\n*\n10.0</title></g></g><g class=\"nodes\"><g class=\"node\" transform=\"translate(309,85.17857142857143)\"><title>Mary</title><text dy=\".35em\" text-anchor=\"start\" transform=\"translate(4,15.773809523809526)\" style=\"display: inline;\">Mary</text><line x1=\"0\" x2=\"0\" y1=\"0\" y2=\"31.54761904761905\" style=\"display: inline; stroke: rgb(0, 0, 0);\"/><rect x=\"-5\" y=\"-5\" width=\"10\" style=\"fill: none; visibility: hidden; pointer-events: all;\" height=\"36.54761904761905\"/></g><g class=\"node\" transform=\"translate(309,26.5)\"><title>James</title><text dy=\".35em\" text-anchor=\"start\" transform=\"translate(4,9.464285714285715)\" style=\"display: inline;\">James</text><line x1=\"0\" x2=\"0\" y1=\"0\" y2=\"18.92857142857143\" style=\"display: inline; stroke: rgb(0, 0, 0);\"/><rect x=\"-5\" y=\"-5\" width=\"10\" style=\"fill: none; visibility: hidden; pointer-events: all;\" height=\"23.92857142857143\"/></g><g class=\"node\" transform=\"translate(309,156.47619047619048)\"><title>exports here</title><text dy=\".35em\" text-anchor=\"start\" transform=\"translate(4,41.01190476190476)\" style=\"display: inline;\">exports here</text><line x1=\"0\" x2=\"0\" y1=\"0\" y2=\"82.02380952380952\" style=\"display: inline; stroke: rgb(0, 0, 0);\"/><rect x=\"-5\" y=\"-5\" width=\"10\" style=\"fill: none; visibility: hidden; pointer-events: all;\" height=\"87.02380952380952\"/></g><g class=\"node\" transform=\"translate(0,219.57142857142858)\"><title>other</title><text dy=\".35em\" text-anchor=\"end\" transform=\"translate(-4,9.464285714285708)\" style=\"display: inline;\">other</text><line x1=\"0\" x2=\"0\" y1=\"0\" y2=\"18.928571428571416\" style=\"display: inline; stroke: rgb(0, 0, 0);\"/><rect x=\"-5\" y=\"-5\" width=\"10\" style=\"fill: none; visibility: hidden; pointer-events: all;\" height=\"23.928571428571416\"/></g><g class=\"node\" transform=\"translate(0,116.72619047619048)\"><title>farm3</title><text dy=\".35em\" text-anchor=\"end\" transform=\"translate(-4,31.54761904761905)\" style=\"display: inline;\">farm3</text><line x1=\"0\" x2=\"0\" y1=\"0\" y2=\"63.0952380952381\" style=\"display: inline; stroke: rgb(0, 0, 0);\"/><rect x=\"-5\" y=\"-5\" width=\"10\" style=\"fill: none; visibility: hidden; pointer-events: all;\" height=\"68.0952380952381\"/></g><g class=\"node\" transform=\"translate(0,26.5)\"><title>farm1</title><text dy=\".35em\" text-anchor=\"end\" transform=\"translate(-4,25.23809523809524)\" style=\"display: inline;\">farm1</text><line x1=\"0\" x2=\"0\" y1=\"0\" y2=\"50.47619047619048\" style=\"display: inline; stroke: rgb(0, 0, 0);\"/><rect x=\"-5\" y=\"-5\" width=\"10\" style=\"fill: none; visibility: hidden; pointer-events: all;\" height=\"55.47619047619048\"/></g></g><g class=\"slice-titles\"/></g></svg>"
      }
     },
     "41bd6a7ab7954e5aa3433ad0c0ba5b3f": {
      "model_module": "jupyter-sankey-widget",
      "model_module_version": "^0.2.3",
      "model_name": "SankeyModel",
      "state": {
       "_model_module_version": "^0.2.3",
       "_view_module_version": "^0.2.3",
       "groups": [
        {
         "id": "farms",
         "nodes": [
          "farms^farm1",
          "farms^farm2",
          "farms^farm3",
          "farms^other"
         ],
         "rect": {
          "bottom": 238.49999999999997,
          "left": 0,
          "right": 1,
          "top": 26.5
         },
         "title": "",
         "type": "process"
        },
        {
         "id": "customers",
         "nodes": [
          "customers^James",
          "customers^Mary",
          "customers^Fred",
          "customers^Susan"
         ],
         "rect": {
          "bottom": 238.5,
          "left": 309,
          "right": 310,
          "top": 26.5
         },
         "title": "",
         "type": "process"
        }
       ],
       "layout": "IPY_MODEL_ad330a71d7dc4b4d9c9cb719df704763",
       "links": [
        {
         "color": "#FBB4AE",
         "opacity": 1,
         "source": "farms^farm2",
         "target": "customers^Susan",
         "time": "*",
         "title": "*",
         "type": "*",
         "value": 5
        },
        {
         "color": "#FBB4AE",
         "opacity": 1,
         "source": "farms^farm2",
         "target": "customers^Fred",
         "time": "*",
         "title": "*",
         "type": "*",
         "value": 20
        },
        {
         "color": "#FBB4AE",
         "opacity": 1,
         "source": "farms^other",
         "target": "customers^Susan",
         "time": "*",
         "title": "*",
         "type": "*",
         "value": 3
        },
        {
         "color": "#FBB4AE",
         "opacity": 1,
         "source": "farms^farm3",
         "target": "customers^Susan",
         "time": "*",
         "title": "*",
         "type": "*",
         "value": 10
        },
        {
         "color": "#FBB4AE",
         "opacity": 1,
         "source": "farms^farm1",
         "target": "customers^Mary",
         "time": "*",
         "title": "*",
         "type": "*",
         "value": 5
        },
        {
         "color": "#FBB4AE",
         "opacity": 1,
         "source": "farms^farm1",
         "target": "customers^James",
         "time": "*",
         "title": "*",
         "type": "*",
         "value": 3
        }
       ],
       "margins": {
        "bottom": 10,
        "left": 130,
        "right": 130,
        "top": 25
       },
       "nodes": [
        {
         "id": "customers^Mary",
         "style": {
          "direction": "r",
          "hidden": false,
          "type": "process"
         },
         "title": "Mary"
        },
        {
         "id": "customers^James",
         "style": {
          "direction": "r",
          "hidden": false,
          "type": "process"
         },
         "title": "James"
        },
        {
         "id": "customers^Fred",
         "style": {
          "direction": "r",
          "hidden": false,
          "type": "process"
         },
         "title": "Fred"
        },
        {
         "id": "customers^Susan",
         "style": {
          "direction": "r",
          "hidden": false,
          "type": "process"
         },
         "title": "Susan"
        },
        {
         "id": "farms^farm2",
         "style": {
          "direction": "r",
          "hidden": false,
          "type": "process"
         },
         "title": "farm2"
        },
        {
         "id": "farms^other",
         "style": {
          "direction": "r",
          "hidden": false,
          "type": "process"
         },
         "title": "other"
        },
        {
         "id": "farms^farm3",
         "style": {
          "direction": "r",
          "hidden": false,
          "type": "process"
         },
         "title": "farm3"
        },
        {
         "id": "farms^farm1",
         "style": {
          "direction": "r",
          "hidden": false,
          "type": "process"
         },
         "title": "farm1"
        }
       ],
       "order": [
        [
         [
          "farms^farm1",
          "farms^farm2",
          "farms^farm3",
          "farms^other"
         ]
        ],
        [
         [
          "customers^James",
          "customers^Mary",
          "customers^Fred",
          "customers^Susan"
         ]
        ]
       ],
       "png": "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",
       "scale": 2.880434782608696,
       "svg": "<?xml version=\"1.0\" standalone=\"no\"?><!DOCTYPE svg PUBLIC \"-//W3C//DTD SVG 1.1//EN\" \"http://www.w3.org/Graphics/SVG/1.1/DTD/svg11.dtd\"><svg xmlns=\"http://www.w3.org/2000/svg\" width=\"570\" height=\"300\" viewBox=\"0 0 570 300\"><g class=\"sankey\" transform=\"translate(130,25)\"><g class=\"groups\"><g class=\"group\" style=\"display: none;\" transform=\"translate(0,26.5)\"><rect x=\"-10\" y=\"-20\" width=\"21\" height=\"241.99999999999997\" style=\"fill: rgb(238, 238, 238); stroke: rgb(187, 187, 187); stroke-width: 0.5;\"/><text x=\"-10\" y=\"-25\" style=\"fill: rgb(153, 153, 153);\"/></g><g class=\"group\" style=\"display: none;\" transform=\"translate(309,26.5)\"><rect x=\"-10\" y=\"-20\" width=\"21\" height=\"242\" style=\"fill: rgb(238, 238, 238); stroke: rgb(187, 187, 187); stroke-width: 0.5;\"/><text x=\"-10\" y=\"-25\" style=\"fill: rgb(153, 153, 153);\"/></g></g><g class=\"links\"><g class=\"link\" style=\"opacity: 0.8;\"><path d=\"M1,229.85869565217388 A0 0 0 0 1 1,229.85869565217388 L309,229.8586956521739 A0 0 0 0 0 309,229.8586956521739 L309,238.49999999999997 A0 0 0 0 1 309,238.49999999999997 L1,238.49999999999994 A0 0 0 0 0 1,238.49999999999994 Z\" style=\"fill: rgb(251, 180, 174);\"/><title>other → Susan\n*\n3.00</title></g><g class=\"link\" style=\"opacity: 0.8;\"><path d=\"M1,26.5 A0 0 0 0 0 1,26.5 L309,26.5 A0 0 0 0 0 309,26.5 L309,35.141304347826086 A0 0 0 0 0 309,35.141304347826086 L1,35.141304347826086 A0 0 0 0 0 1,35.141304347826086 Z\" style=\"fill: rgb(251, 180, 174);\"/><title>farm1 → James\n*\n3.00</title></g><g class=\"link\" style=\"opacity: 0.8;\"><path d=\"M1,133.65217391304347 A283.63410582444624 283.63410582444624 0.20886468334819597 0 1 59.811359096658734,139.8164074485563 L253.17492289263342,180.80094350936847 A269.23193191140274 269.23193191140274 0.20886468334819597 0 0 309,186.65217391304347 L309,201.05434782608697 A283.63410582444624 283.63410582444624 0.20886468334819597 0 1 250.18864090334128,194.89011429057413 L56.82507710736657,153.90557822976197 A269.23193191140274 269.23193191140274 0.20886468334819597 0 0 1,148.05434782608697 Z\" style=\"fill: rgb(251, 180, 174);\"/><title>farm2 → Susan\n*\n5.00</title></g><g class=\"link\" style=\"opacity: 0.8;\"><path d=\"M1,35.141304347826086 A548.1421246923708 548.1421246923708 0.10516279089720904 0 1 58.53796454885263,38.16952213830768 L252.9738181343341,58.692651541133266 A533.7399507793273 533.7399507793273 0.10516279089720904 0 0 309,61.641304347826086 L309,76.04347826086956 A548.1421246923708 548.1421246923708 0.10516279089720904 0 1 251.4620354511474,73.01526047038797 L57.026181865665905,52.49213106756239 A533.7399507793273 533.7399507793273 0.10516279089720904 0 0 1,49.54347826086957 Z\" style=\"fill: rgb(251, 180, 174);\"/><title>farm1 → Mary\n*\n5.00</title></g><g class=\"link\" style=\"opacity: 0.8;\"><path d=\"M1,174.55434782608694 A555.3432116488925 555.3432116488925 0.10516279089720904 0 1 59.293855890446,177.62234810846292 L253.72970947592748,198.1454775112885 A526.5388638228055 526.5388638228055 0.10516279089720904 0 0 309,201.05434782608694 L309,229.85869565217388 A555.3432116488925 555.3432116488925 0.10516279089720904 0 1 250.706144109554,226.7906953697979 L56.270290524072536,206.2675659669723 A526.5388638228055 526.5388638228055 0.10516279089720904 0 0 1,203.35869565217388 Z\" style=\"fill: rgb(251, 180, 174);\"/><title>farm3 → Susan\n*\n10.0</title></g><g class=\"link\" style=\"opacity: 0.8;\"><path d=\"M1,76.04347826086956 A569.7453855619358 569.7453855619358 0.10516279089720904 0 1 60.8056385736327,79.1910435270343 L255.2414921591142,99.7141729298599 A512.1366899097618 512.1366899097618 0.10516279089720904 0 0 309,102.54347826086958 L309,160.1521739130435 A569.7453855619358 569.7453855619358 0.10516279089720904 0 1 249.1943614263673,157.00460864687875 L54.75850784088579,136.48147924405316 A512.1366899097618 512.1366899097618 0.10516279089720904 0 0 1,133.65217391304347 Z\" style=\"fill: rgb(251, 180, 174);\"/><title>farm2 → Fred\n*\n20.0</title></g></g><g class=\"nodes\"><g class=\"node\" transform=\"translate(309,61.641304347826086)\"><title>Mary</title><text dy=\".35em\" text-anchor=\"start\" transform=\"translate(4,7.201086956521738)\" style=\"display: inline;\">Mary</text><line x1=\"0\" x2=\"0\" y1=\"0\" y2=\"14.402173913043477\" style=\"display: inline; stroke: rgb(0, 0, 0);\"/><rect x=\"-5\" y=\"-5\" width=\"10\" style=\"fill: none; visibility: hidden; pointer-events: all;\" height=\"19.402173913043477\"/></g><g class=\"node\" transform=\"translate(309,26.5)\"><title>James</title><text dy=\".35em\" text-anchor=\"start\" transform=\"translate(4,4.320652173913043)\" style=\"display: inline;\">James</text><line x1=\"0\" x2=\"0\" y1=\"0\" y2=\"8.641304347826086\" style=\"display: inline; stroke: rgb(0, 0, 0);\"/><rect x=\"-5\" y=\"-5\" width=\"10\" style=\"fill: none; visibility: hidden; pointer-events: all;\" height=\"13.641304347826086\"/></g><g class=\"node\" transform=\"translate(309,102.54347826086956)\"><title>Fred</title><text dy=\".35em\" text-anchor=\"start\" transform=\"translate(4,28.804347826086953)\" style=\"display: inline;\">Fred</text><line x1=\"0\" x2=\"0\" y1=\"0\" y2=\"57.60869565217391\" style=\"display: inline; stroke: rgb(0, 0, 0);\"/><rect x=\"-5\" y=\"-5\" width=\"10\" style=\"fill: none; visibility: hidden; pointer-events: all;\" height=\"62.60869565217391\"/></g><g class=\"node\" transform=\"translate(309,186.65217391304347)\"><title>Susan</title><text dy=\".35em\" text-anchor=\"start\" transform=\"translate(4,25.923913043478265)\" style=\"display: inline;\">Susan</text><line x1=\"0\" x2=\"0\" y1=\"0\" y2=\"51.84782608695653\" style=\"display: inline; stroke: rgb(0, 0, 0);\"/><rect x=\"-5\" y=\"-5\" width=\"10\" style=\"fill: none; visibility: hidden; pointer-events: all;\" height=\"56.84782608695653\"/></g><g class=\"node\" transform=\"translate(0,76.04347826086956)\"><title>farm2</title><text dy=\".35em\" text-anchor=\"end\" transform=\"translate(-4,36.00543478260869)\" style=\"display: inline;\">farm2</text><line x1=\"0\" x2=\"0\" y1=\"0\" y2=\"72.01086956521738\" style=\"display: inline; stroke: rgb(0, 0, 0);\"/><rect x=\"-5\" y=\"-5\" width=\"10\" style=\"fill: none; visibility: hidden; pointer-events: all;\" height=\"77.01086956521738\"/></g><g class=\"node\" transform=\"translate(0,229.85869565217388)\"><title>other</title><text dy=\".35em\" text-anchor=\"end\" transform=\"translate(-4,4.320652173913047)\" style=\"display: inline;\">other</text><line x1=\"0\" x2=\"0\" y1=\"0\" y2=\"8.641304347826093\" style=\"display: inline; stroke: rgb(0, 0, 0);\"/><rect x=\"-5\" y=\"-5\" width=\"10\" style=\"fill: none; visibility: hidden; pointer-events: all;\" height=\"13.641304347826093\"/></g><g class=\"node\" transform=\"translate(0,174.55434782608694)\"><title>farm3</title><text dy=\".35em\" text-anchor=\"end\" transform=\"translate(-4,14.402173913043484)\" style=\"display: inline;\">farm3</text><line x1=\"0\" x2=\"0\" y1=\"0\" y2=\"28.804347826086968\" style=\"display: inline; stroke: rgb(0, 0, 0);\"/><rect x=\"-5\" y=\"-5\" width=\"10\" style=\"fill: none; visibility: hidden; pointer-events: all;\" height=\"33.80434782608697\"/></g><g class=\"node\" transform=\"translate(0,26.5)\"><title>farm1</title><text dy=\".35em\" text-anchor=\"end\" transform=\"translate(-4,11.521739130434781)\" style=\"display: inline;\">farm1</text><line x1=\"0\" x2=\"0\" y1=\"0\" y2=\"23.043478260869563\" style=\"display: inline; stroke: rgb(0, 0, 0);\"/><rect x=\"-5\" y=\"-5\" width=\"10\" style=\"fill: none; visibility: hidden; pointer-events: all;\" height=\"28.043478260869563\"/></g></g><g class=\"slice-titles\"/></g></svg>"
      }
     },
     "5c9abf9ca52b4b5595e54789a3df2e5e": {
      "model_module": "@jupyter-widgets/base",
      "model_module_version": "1.0.0",
      "model_name": "LayoutModel",
      "state": {
       "height": "300",
       "width": "570"
      }
     },
     "6e31cdf9ed4c44b78e64341008cd2358": {
      "model_module": "jupyter-sankey-widget",
      "model_module_version": "^0.2.3",
      "model_name": "SankeyModel",
      "state": {
       "_model_module_version": "^0.2.3",
       "_view_module_version": "^0.2.3",
       "groups": [
        {
         "id": "farms",
         "nodes": [
          "farms^farm1",
          "farms^farm3",
          "farms^other"
         ],
         "rect": {
          "bottom": 248.6323529411765,
          "left": 0,
          "right": 1,
          "top": 117.69117647058823
         },
         "title": "",
         "type": "process"
        },
        {
         "id": "exports",
         "nodes": [
          "exports^apples",
          "exports^bananas"
         ],
         "rect": {
          "bottom": 91.19117647058822,
          "left": 309,
          "right": 310,
          "top": 10.13235294117647
         },
         "title": "exports here",
         "type": "group"
        },
        {
         "id": "customers",
         "nodes": [
          "customers^James",
          "customers^Mary"
         ],
         "rect": {
          "bottom": 248.63235294117646,
          "left": 309,
          "right": 310,
          "top": 117.69117647058823
         },
         "title": "",
         "type": "process"
        }
       ],
       "layout": "IPY_MODEL_5c9abf9ca52b4b5595e54789a3df2e5e",
       "links": [
        {
         "color": "#FBB4AE",
         "opacity": 1,
         "source": "farms^farm3",
         "target": "exports^apples",
         "time": "*",
         "title": "*",
         "type": "*",
         "value": 10
        },
        {
         "color": "#FBB4AE",
         "opacity": 1,
         "source": "farms^other",
         "target": "exports^bananas",
         "time": "*",
         "title": "*",
         "type": "*",
         "value": 3
        },
        {
         "color": "#FBB4AE",
         "opacity": 1,
         "source": "farms^farm1",
         "target": "customers^Mary",
         "time": "*",
         "title": "*",
         "type": "*",
         "value": 5
        },
        {
         "color": "#FBB4AE",
         "opacity": 1,
         "source": "farms^farm1",
         "target": "customers^James",
         "time": "*",
         "title": "*",
         "type": "*",
         "value": 3
        }
       ],
       "margins": {
        "bottom": 10,
        "left": 130,
        "right": 130,
        "top": 25
       },
       "nodes": [
        {
         "id": "customers^Mary",
         "style": {
          "direction": "r",
          "hidden": false,
          "type": "process"
         },
         "title": "Mary"
        },
        {
         "id": "customers^James",
         "style": {
          "direction": "r",
          "hidden": false,
          "type": "process"
         },
         "title": "James"
        },
        {
         "id": "farms^farm3",
         "style": {
          "direction": "r",
          "hidden": false,
          "type": "process"
         },
         "title": "farm3"
        },
        {
         "id": "exports^apples",
         "style": {
          "direction": "r",
          "hidden": false,
          "type": "group"
         },
         "title": "apples"
        },
        {
         "id": "farms^other",
         "style": {
          "direction": "r",
          "hidden": false,
          "type": "process"
         },
         "title": "other"
        },
        {
         "id": "exports^bananas",
         "style": {
          "direction": "r",
          "hidden": false,
          "type": "group"
         },
         "title": "bananas"
        },
        {
         "id": "farms^farm1",
         "style": {
          "direction": "r",
          "hidden": false,
          "type": "process"
         },
         "title": "farm1"
        }
       ],
       "order": [
        [
         [],
         [
          "farms^farm1",
          "farms^farm3",
          "farms^other"
         ]
        ],
        [
         [
          "exports^apples",
          "exports^bananas"
         ],
         [
          "customers^James",
          "customers^Mary"
         ]
        ]
       ],
       "png": "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",
       "scale": 3.8970588235294117,
       "svg": "<?xml version=\"1.0\" standalone=\"no\"?><!DOCTYPE svg PUBLIC \"-//W3C//DTD SVG 1.1//EN\" \"http://www.w3.org/Graphics/SVG/1.1/DTD/svg11.dtd\"><svg xmlns=\"http://www.w3.org/2000/svg\" width=\"570\" height=\"300\" viewBox=\"0 0 570 300\"><g class=\"sankey\" transform=\"translate(130,25)\"><g class=\"groups\"><g class=\"group\" style=\"display: none;\" transform=\"translate(0,117.69117647058823)\"><rect x=\"-10\" y=\"-20\" width=\"21\" height=\"160.94117647058826\" style=\"fill: rgb(238, 238, 238); stroke: rgb(187, 187, 187); stroke-width: 0.5;\"/><text x=\"-10\" y=\"-25\" style=\"fill: rgb(153, 153, 153);\"/></g><g class=\"group\" style=\"display: inline;\" transform=\"translate(309,10.13235294117647)\"><rect x=\"-10\" y=\"-20\" width=\"21\" height=\"111.05882352941175\" style=\"fill: rgb(238, 238, 238); stroke: rgb(187, 187, 187); stroke-width: 0.5;\"/><text x=\"-10\" y=\"-25\" style=\"fill: rgb(153, 153, 153);\">exports here</text></g><g class=\"group\" style=\"display: none;\" transform=\"translate(309,117.69117647058823)\"><rect x=\"-10\" y=\"-20\" width=\"21\" height=\"160.94117647058823\" style=\"fill: rgb(238, 238, 238); stroke: rgb(187, 187, 187); stroke-width: 0.5;\"/><text x=\"-10\" y=\"-25\" style=\"fill: rgb(153, 153, 153);\"/></g></g><g class=\"links\"><g class=\"link\" style=\"opacity: 0.8;\"><path d=\"M1,236.94117647058826 A108.1510104284568 108.1510104284568 0.5808575669511362 0 0 60.34689987700259,219.2035861283399 L243.23767157826504,99.15503242654034 A119.84218689904503 119.84218689904503 0.5808575669511362 0 1 309,79.49999999999999 L309,91.19117647058822 A108.1510104284568 108.1510104284568 0.5808575669511362 0 0 249.65310012299742,108.92876681283656 L66.76232842173495,228.97732051463612 A119.84218689904503 119.84218689904503 0.5808575669511362 0 1 1,248.6323529411765 Z\" style=\"fill: rgb(251, 180, 174);\"/><title>other → bananas\n*\n3.00</title></g><g class=\"link\" style=\"opacity: 0.8;\"><path d=\"M1,117.69117647058823 A0 0 0 0 0 1,117.69117647058823 L309,117.69117647058823 A0 0 0 0 0 309,117.69117647058823 L309,129.38235294117646 A0 0 0 0 0 309,129.38235294117646 L1,129.38235294117646 A0 0 0 0 0 1,129.38235294117646 Z\" style=\"fill: rgb(251, 180, 174);\"/><title>farm1 → James\n*\n3.00</title></g><g class=\"link\" style=\"opacity: 0.8;\"><path d=\"M1,129.38235294117646 A167.3389567147614 167.3389567147614 0.3843264377581863 0 1 63.7411974600963,141.5895315585474 L253.56451729876417,218.36130932449325 A147.85366259711432 147.85366259711432 0.3843264377581863 0 0 309,229.1470588235294 L309,248.63235294117646 A167.3389567147614 167.3389567147614 0.3843264377581863 0 1 246.2588025399037,236.42517432380552 L56.43548270123583,159.65339655785968 A147.85366259711432 147.85366259711432 0.3843264377581863 0 0 1,148.86764705882354 Z\" style=\"fill: rgb(251, 180, 174);\"/><title>farm1 → Mary\n*\n5.00</title></g><g class=\"link\" style=\"opacity: 0.8;\"><path d=\"M1,173.41911764705884 A92.15256680789574 92.15256680789574 0.5993412897405352 0 0 52.98314257571462,157.35760456584384 L235.03359950030548,32.98615227556387 A131.12315504318985 131.12315504318985 0.5993412897405352 0 1 309,10.132352941176471 L309,49.10294117647059 A92.15256680789574 92.15256680789574 0.5993412897405352 0 0 257.0168574242854,65.16445425768559 L74.96640049969452,189.5359065479656 A131.12315504318985 131.12315504318985 0.5993412897405352 0 1 1,212.38970588235298 Z\" style=\"fill: rgb(251, 180, 174);\"/><title>farm3 → apples\n*\n10.0</title></g></g><g class=\"nodes\"><g class=\"node\" transform=\"translate(309,229.1470588235294)\"><title>Mary</title><text dy=\".35em\" text-anchor=\"start\" transform=\"translate(4,9.742647058823536)\" style=\"display: inline;\">Mary</text><line x1=\"0\" x2=\"0\" y1=\"0\" y2=\"19.485294117647072\" style=\"display: inline; stroke: rgb(0, 0, 0);\"/><rect x=\"-5\" y=\"-5\" width=\"10\" style=\"fill: none; visibility: hidden; pointer-events: all;\" height=\"24.485294117647072\"/></g><g class=\"node\" transform=\"translate(309,117.69117647058823)\"><title>James</title><text dy=\".35em\" text-anchor=\"start\" transform=\"translate(4,5.845588235294116)\" style=\"display: inline;\">James</text><line x1=\"0\" x2=\"0\" y1=\"0\" y2=\"11.691176470588232\" style=\"display: inline; stroke: rgb(0, 0, 0);\"/><rect x=\"-5\" y=\"-5\" width=\"10\" style=\"fill: none; visibility: hidden; pointer-events: all;\" height=\"16.691176470588232\"/></g><g class=\"node\" transform=\"translate(0,173.41911764705884)\"><title>farm3</title><text dy=\".35em\" text-anchor=\"end\" transform=\"translate(-4,19.485294117647058)\" style=\"display: inline;\">farm3</text><line x1=\"0\" x2=\"0\" y1=\"0\" y2=\"38.970588235294116\" style=\"display: inline; stroke: rgb(0, 0, 0);\"/><rect x=\"-5\" y=\"-5\" width=\"10\" style=\"fill: none; visibility: hidden; pointer-events: all;\" height=\"43.970588235294116\"/></g><g class=\"node\" transform=\"translate(309,10.13235294117647)\"><title>apples</title><text dy=\".35em\" text-anchor=\"start\" transform=\"translate(4,19.485294117647058)\" style=\"display: inline;\">apples</text><line x1=\"0\" x2=\"0\" y1=\"0\" y2=\"38.970588235294116\" style=\"display: inline; stroke: rgb(0, 0, 0);\"/><rect x=\"-5\" y=\"-5\" width=\"10\" style=\"fill: none; visibility: hidden; pointer-events: all;\" height=\"43.970588235294116\"/></g><g class=\"node\" transform=\"translate(0,236.94117647058826)\"><title>other</title><text dy=\".35em\" text-anchor=\"end\" transform=\"translate(-4,5.845588235294116)\" style=\"display: inline;\">other</text><line x1=\"0\" x2=\"0\" y1=\"0\" y2=\"11.691176470588232\" style=\"display: inline; stroke: rgb(0, 0, 0);\"/><rect x=\"-5\" y=\"-5\" width=\"10\" style=\"fill: none; visibility: hidden; pointer-events: all;\" height=\"16.691176470588232\"/></g><g class=\"node\" transform=\"translate(309,79.49999999999999)\"><title>bananas</title><text dy=\".35em\" text-anchor=\"start\" transform=\"translate(4,5.845588235294116)\" style=\"display: inline;\">bananas</text><line x1=\"0\" x2=\"0\" y1=\"0\" y2=\"11.691176470588232\" style=\"display: inline; stroke: rgb(0, 0, 0);\"/><rect x=\"-5\" y=\"-5\" width=\"10\" style=\"fill: none; visibility: hidden; pointer-events: all;\" height=\"16.691176470588232\"/></g><g class=\"node\" transform=\"translate(0,117.69117647058823)\"><title>farm1</title><text dy=\".35em\" text-anchor=\"end\" transform=\"translate(-4,15.588235294117652)\" style=\"display: inline;\">farm1</text><line x1=\"0\" x2=\"0\" y1=\"0\" y2=\"31.176470588235304\" style=\"display: inline; stroke: rgb(0, 0, 0);\"/><rect x=\"-5\" y=\"-5\" width=\"10\" style=\"fill: none; visibility: hidden; pointer-events: all;\" height=\"36.176470588235304\"/></g></g><g class=\"slice-titles\"/></g></svg>"
      }
     },
     "899b291e2d284406ab1d191d18a55ad0": {
      "model_module": "jupyter-sankey-widget",
      "model_module_version": "^0.2.3",
      "model_name": "SankeyModel",
      "state": {
       "_model_module_version": "^0.2.3",
       "_view_module_version": "^0.2.3",
       "groups": [
        {
         "id": "farms",
         "nodes": [
          "farms^farm1",
          "farms^farm3",
          "farms^other"
         ],
         "rect": {
          "bottom": 238.5,
          "left": 0,
          "right": 1,
          "top": 26.5
         },
         "title": "",
         "type": "process"
        },
        {
         "id": "customers",
         "nodes": [
          "customers^James",
          "customers^Mary"
         ],
         "rect": {
          "bottom": 116.72619047619048,
          "left": 309,
          "right": 310,
          "top": 26.5
         },
         "title": "",
         "type": "process"
        }
       ],
       "layout": "IPY_MODEL_f321927892d34f7fa8913ec279afffb5",
       "links": [
        {
         "color": "#FBB4AE",
         "opacity": 1,
         "source": "farms^other",
         "target": "__farms>^*",
         "time": "*",
         "title": "*",
         "type": "*",
         "value": 3
        },
        {
         "color": "#FBB4AE",
         "opacity": 1,
         "source": "farms^farm3",
         "target": "__farms>^*",
         "time": "*",
         "title": "*",
         "type": "*",
         "value": 10
        },
        {
         "color": "#FBB4AE",
         "opacity": 1,
         "source": "farms^farm1",
         "target": "customers^Mary",
         "time": "*",
         "title": "*",
         "type": "*",
         "value": 5
        },
        {
         "color": "#FBB4AE",
         "opacity": 1,
         "source": "farms^farm1",
         "target": "customers^James",
         "time": "*",
         "title": "*",
         "type": "*",
         "value": 3
        }
       ],
       "margins": {
        "bottom": 10,
        "left": 130,
        "right": 130,
        "top": 25
       },
       "nodes": [
        {
         "id": "customers^Mary",
         "style": {
          "direction": "r",
          "hidden": false,
          "type": "process"
         },
         "title": "Mary"
        },
        {
         "id": "customers^James",
         "style": {
          "direction": "r",
          "hidden": false,
          "type": "process"
         },
         "title": "James"
        },
        {
         "id": "farms^other",
         "style": {
          "direction": "r",
          "hidden": false,
          "type": "process"
         },
         "title": "other"
        },
        {
         "id": "__farms>^*",
         "style": {
          "direction": "r",
          "hidden": false,
          "type": "group"
         },
         "title": "→"
        },
        {
         "id": "farms^farm3",
         "style": {
          "direction": "r",
          "hidden": false,
          "type": "process"
         },
         "title": "farm3"
        },
        {
         "id": "farms^farm1",
         "style": {
          "direction": "r",
          "hidden": false,
          "type": "process"
         },
         "title": "farm1"
        }
       ],
       "order": [
        [
         [
          "farms^farm1",
          "farms^farm3",
          "farms^other"
         ]
        ],
        [
         [
          "customers^James",
          "customers^Mary",
          "__farms>^*"
         ]
        ]
       ],
       "png": "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",
       "scale": 6.309523809523809,
       "svg": "<?xml version=\"1.0\" standalone=\"no\"?><!DOCTYPE svg PUBLIC \"-//W3C//DTD SVG 1.1//EN\" \"http://www.w3.org/Graphics/SVG/1.1/DTD/svg11.dtd\"><svg xmlns=\"http://www.w3.org/2000/svg\" width=\"570\" height=\"300\" viewBox=\"0 0 570 300\"><g class=\"sankey\" transform=\"translate(130,25)\"><g class=\"groups\"><g class=\"group\" style=\"display: none;\" transform=\"translate(0,26.5)\"><rect x=\"-10\" y=\"-20\" width=\"21\" height=\"242\" style=\"fill: rgb(238, 238, 238); stroke: rgb(187, 187, 187); stroke-width: 0.5;\"/><text x=\"-10\" y=\"-25\" style=\"fill: rgb(153, 153, 153);\"/></g><g class=\"group\" style=\"display: none;\" transform=\"translate(309,26.5)\"><rect x=\"-10\" y=\"-20\" width=\"21\" height=\"120.22619047619048\" style=\"fill: rgb(238, 238, 238); stroke: rgb(187, 187, 187); stroke-width: 0.5;\"/><text x=\"-10\" y=\"-25\" style=\"fill: rgb(153, 153, 153);\"/></g></g><g class=\"links\"><g class=\"link\" style=\"opacity: 0.8;\"><path d=\"M1,219.57142857142858 A0 0 0 0 0 1,219.57142857142858 L309,219.57142857142858 A0 0 0 0 0 309,219.57142857142858 L309,238.50000000000003 A0 0 0 0 0 309,238.50000000000003 L1,238.50000000000003 A0 0 0 0 0 1,238.50000000000003 Z\" style=\"fill: rgb(251, 180, 174);\"/><title>other → →\n*\n3.00</title></g><g class=\"link\" style=\"opacity: 0.8;\"><path d=\"M1,26.5 A0 0 0 0 0 1,26.5 L309,26.5 A0 0 0 0 0 309,26.5 L309,45.42857142857143 A0 0 0 0 0 309,45.42857142857143 L1,45.42857142857143 A0 0 0 0 0 1,45.42857142857143 Z\" style=\"fill: rgb(251, 180, 174);\"/><title>farm1 → James\n*\n3.00</title></g><g class=\"link\" style=\"opacity: 0.8;\"><path d=\"M1,45.42857142857143 A379.71366801437557 379.71366801437557 0.15728424471123104 0 1 60.47704072353829,50.11563864814738 L254.46446963250946,80.88091818997486 A348.16604896675653 348.16604896675653 0.15728424471123104 0 0 309,85.17857142857143 L309,116.72619047619047 A379.71366801437557 379.71366801437557 0.15728424471123104 0 1 249.52295927646173,112.03912325661452 L55.535530367490544,81.27384371478703 A348.16604896675653 348.16604896675653 0.15728424471123104 0 0 1,76.97619047619048 Z\" style=\"fill: rgb(251, 180, 174);\"/><title>farm1 → Mary\n*\n5.00</title></g><g class=\"link\" style=\"opacity: 0.8;\"><path d=\"M1,116.72619047619047 A395.48747753818503 395.48747753818503 0.1572842447112306 0 1 62.94779590156199,121.60796468625611 L256.93522481053344,152.37324422808362 A332.39223944294696 332.39223944294696 0.1572842447112306 0 0 309,156.47619047619048 L309,219.57142857142856 A395.48747753818503 395.48747753818503 0.1572842447112306 0 1 247.052204098438,214.68965436136293 L53.06477518946653,183.92437481953542 A332.39223944294696 332.39223944294696 0.1572842447112306 0 0 1,179.82142857142856 Z\" style=\"fill: rgb(251, 180, 174);\"/><title>farm3 → →\n*\n10.0</title></g></g><g class=\"nodes\"><g class=\"node\" transform=\"translate(309,85.17857142857143)\"><title>Mary</title><text dy=\".35em\" text-anchor=\"start\" transform=\"translate(4,15.773809523809526)\" style=\"display: inline;\">Mary</text><line x1=\"0\" x2=\"0\" y1=\"0\" y2=\"31.54761904761905\" style=\"display: inline; stroke: rgb(0, 0, 0);\"/><rect x=\"-5\" y=\"-5\" width=\"10\" style=\"fill: none; visibility: hidden; pointer-events: all;\" height=\"36.54761904761905\"/></g><g class=\"node\" transform=\"translate(309,26.5)\"><title>James</title><text dy=\".35em\" text-anchor=\"start\" transform=\"translate(4,9.464285714285715)\" style=\"display: inline;\">James</text><line x1=\"0\" x2=\"0\" y1=\"0\" y2=\"18.92857142857143\" style=\"display: inline; stroke: rgb(0, 0, 0);\"/><rect x=\"-5\" y=\"-5\" width=\"10\" style=\"fill: none; visibility: hidden; pointer-events: all;\" height=\"23.92857142857143\"/></g><g class=\"node\" transform=\"translate(0,219.57142857142858)\"><title>other</title><text dy=\".35em\" text-anchor=\"end\" transform=\"translate(-4,9.464285714285708)\" style=\"display: inline;\">other</text><line x1=\"0\" x2=\"0\" y1=\"0\" y2=\"18.928571428571416\" style=\"display: inline; stroke: rgb(0, 0, 0);\"/><rect x=\"-5\" y=\"-5\" width=\"10\" style=\"fill: none; visibility: hidden; pointer-events: all;\" height=\"23.928571428571416\"/></g><g class=\"node\" transform=\"translate(309,156.47619047619048)\"><title>→</title><text dy=\".35em\" text-anchor=\"start\" transform=\"translate(4,41.01190476190476)\" style=\"display: inline;\">→</text><line x1=\"0\" x2=\"0\" y1=\"0\" y2=\"82.02380952380952\" style=\"display: inline; stroke: rgb(0, 0, 0);\"/><rect x=\"-5\" y=\"-5\" width=\"10\" style=\"fill: none; visibility: hidden; pointer-events: all;\" height=\"87.02380952380952\"/></g><g class=\"node\" transform=\"translate(0,116.72619047619048)\"><title>farm3</title><text dy=\".35em\" text-anchor=\"end\" transform=\"translate(-4,31.54761904761905)\" style=\"display: inline;\">farm3</text><line x1=\"0\" x2=\"0\" y1=\"0\" y2=\"63.0952380952381\" style=\"display: inline; stroke: rgb(0, 0, 0);\"/><rect x=\"-5\" y=\"-5\" width=\"10\" style=\"fill: none; visibility: hidden; pointer-events: all;\" height=\"68.0952380952381\"/></g><g class=\"node\" transform=\"translate(0,26.5)\"><title>farm1</title><text dy=\".35em\" text-anchor=\"end\" transform=\"translate(-4,25.23809523809524)\" style=\"display: inline;\">farm1</text><line x1=\"0\" x2=\"0\" y1=\"0\" y2=\"50.47619047619048\" style=\"display: inline; stroke: rgb(0, 0, 0);\"/><rect x=\"-5\" y=\"-5\" width=\"10\" style=\"fill: none; visibility: hidden; pointer-events: all;\" height=\"55.47619047619048\"/></g></g><g class=\"slice-titles\"/></g></svg>"
      }
     },
     "9a3ff5bfad494dabbec672005c5d2737": {
      "model_module": "@jupyter-widgets/base",
      "model_module_version": "1.0.0",
      "model_name": "LayoutModel",
      "state": {
       "height": "300",
       "width": "570"
      }
     },
     "9cbf866b160340f9b4549a7877113210": {
      "model_module": "jupyter-sankey-widget",
      "model_module_version": "^0.2.3",
      "model_name": "SankeyModel",
      "state": {
       "_model_module_version": "^0.2.3",
       "_view_module_version": "^0.2.3",
       "groups": [
        {
         "id": "farms",
         "nodes": [
          "farms^farm1",
          "farms^farm3",
          "farms^other"
         ],
         "rect": {
          "bottom": 238.5,
          "left": 0,
          "right": 1,
          "top": 26.5
         },
         "title": "",
         "type": "process"
        },
        {
         "id": "customers",
         "nodes": [
          "customers^James",
          "customers^Mary"
         ],
         "rect": {
          "bottom": 238.5,
          "left": 309,
          "right": 310,
          "top": 148.27380952380952
         },
         "title": "",
         "type": "process"
        }
       ],
       "layout": "IPY_MODEL_0b028244466e433482cc072fe9a69ef2",
       "links": [
        {
         "color": "#FBB4AE",
         "opacity": 1,
         "source": "farms^other",
         "target": "exports^*",
         "time": "*",
         "title": "*",
         "type": "*",
         "value": 3
        },
        {
         "color": "#FBB4AE",
         "opacity": 1,
         "source": "farms^farm3",
         "target": "exports^*",
         "time": "*",
         "title": "*",
         "type": "*",
         "value": 10
        },
        {
         "color": "#FBB4AE",
         "opacity": 1,
         "source": "farms^farm1",
         "target": "customers^Mary",
         "time": "*",
         "title": "*",
         "type": "*",
         "value": 5
        },
        {
         "color": "#FBB4AE",
         "opacity": 1,
         "source": "farms^farm1",
         "target": "customers^James",
         "time": "*",
         "title": "*",
         "type": "*",
         "value": 3
        }
       ],
       "margins": {
        "bottom": 10,
        "left": 130,
        "right": 130,
        "top": 25
       },
       "nodes": [
        {
         "id": "customers^Mary",
         "style": {
          "direction": "r",
          "hidden": false,
          "type": "process"
         },
         "title": "Mary"
        },
        {
         "id": "customers^James",
         "style": {
          "direction": "r",
          "hidden": false,
          "type": "process"
         },
         "title": "James"
        },
        {
         "id": "farms^other",
         "style": {
          "direction": "r",
          "hidden": false,
          "type": "process"
         },
         "title": "other"
        },
        {
         "id": "exports^*",
         "style": {
          "direction": "r",
          "hidden": false,
          "type": "group"
         },
         "title": "exports here"
        },
        {
         "id": "farms^farm3",
         "style": {
          "direction": "r",
          "hidden": false,
          "type": "process"
         },
         "title": "farm3"
        },
        {
         "id": "farms^farm1",
         "style": {
          "direction": "r",
          "hidden": false,
          "type": "process"
         },
         "title": "farm1"
        }
       ],
       "order": [
        [
         [
          "farms^farm1",
          "farms^farm3",
          "farms^other"
         ]
        ],
        [
         [
          "exports^*",
          "customers^James",
          "customers^Mary"
         ]
        ]
       ],
       "png": "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",
       "scale": 6.309523809523809,
       "svg": "<?xml version=\"1.0\" standalone=\"no\"?><!DOCTYPE svg PUBLIC \"-//W3C//DTD SVG 1.1//EN\" \"http://www.w3.org/Graphics/SVG/1.1/DTD/svg11.dtd\"><svg xmlns=\"http://www.w3.org/2000/svg\" width=\"570\" height=\"300\" viewBox=\"0 0 570 300\"><g class=\"sankey\" transform=\"translate(130,25)\"><g class=\"groups\"><g class=\"group\" style=\"display: none;\" transform=\"translate(0,26.5)\"><rect x=\"-10\" y=\"-20\" width=\"21\" height=\"242\" style=\"fill: rgb(238, 238, 238); stroke: rgb(187, 187, 187); stroke-width: 0.5;\"/><text x=\"-10\" y=\"-25\" style=\"fill: rgb(153, 153, 153);\"/></g><g class=\"group\" style=\"display: none;\" transform=\"translate(309,148.27380952380952)\"><rect x=\"-10\" y=\"-20\" width=\"21\" height=\"120.22619047619048\" style=\"fill: rgb(238, 238, 238); stroke: rgb(187, 187, 187); stroke-width: 0.5;\"/><text x=\"-10\" y=\"-25\" style=\"fill: rgb(153, 153, 153);\"/></g></g><g class=\"links\"><g class=\"link\" style=\"opacity: 0.8;\"><path d=\"M1,219.57142857142858 A119.51065540522858 119.51065540522858 0.49038639601915346 0 0 57.28554890255161,205.48721074295665 L243.79972270619493,105.91017018326993 A138.4392268338 138.4392268338 0.49038639601915346 0 1 309,89.5952380952381 L309,108.52380952380952 A119.51065540522858 119.51065540522858 0.49038639601915346 0 0 252.71445109744838,122.60802735228147 L66.20027729380506,222.18506791196822 A138.4392268338 138.4392268338 0.49038639601915346 0 1 1,238.50000000000003 Z\" style=\"fill: rgb(251, 180, 174);\"/><title>other → exports here\n*\n3.00</title></g><g class=\"link\" style=\"opacity: 0.8;\"><path d=\"M1,26.5 A147.02694294699015 147.02694294699015 0.46347341715982315 0 1 66.7295397133903,42.010595820850185 L252.82517795953316,135.01789804508718 A125.65449858944457 125.65449858944457 0.46347341715982315 0 0 309,148.27380952380952 L309,167.20238095238096 A144.583070018016 144.583070018016 0.46347341715982315 0 1 244.36301270944966,151.94960131459936 L58.26737446330678,58.94229909036237 A128.0983715184187 128.0983715184187 0.46347341715982315 0 0 1,45.42857142857143 Z\" style=\"fill: rgb(251, 180, 174);\"/><title>farm1 → James\n*\n3.00</title></g><g class=\"link\" style=\"opacity: 0.8;\"><path d=\"M1,45.42857142857143 A128.0983715184187 128.0983715184187 0.5937958173789004 0 1 72.67246156674351,67.3560851816198 L254.97878166851987,190.4250986179118 A96.55075247079965 96.55075247079965 0.5937958173789004 0 0 309,206.95238095238096 L309,238.5 A128.0983715184187 128.0983715184187 0.5937958173789004 0 1 237.32753843325648,216.57248624695163 L55.02121833148014,93.50347281065963 A96.55075247079965 96.55075247079965 0.5937958173789004 0 0 1,76.97619047619048 Z\" style=\"fill: rgb(251, 180, 174);\"/><title>farm1 → Mary\n*\n5.00</title></g><g class=\"link\" style=\"opacity: 0.8;\"><path d=\"M1,116.72619047619047 A139.69661431335962 139.69661431335962 0.34954482662189124 0 0 48.84192667460024,108.2785536928586 L239.54983486302962,38.76308826586249 A202.7918524085977 202.7918524085977 0.34954482662189124 0 1 309,26.500000000000004 L309,89.5952380952381 A139.69661431335962 139.69661431335962 0.34954482662189124 0 0 261.15807332539976,98.04287487856998 L70.45016513697038,167.55834030556608 A202.7918524085977 202.7918524085977 0.34954482662189124 0 1 1,179.82142857142856 Z\" style=\"fill: rgb(251, 180, 174);\"/><title>farm3 → exports here\n*\n10.0</title></g></g><g class=\"nodes\"><g class=\"node\" transform=\"translate(309,206.95238095238096)\"><title>Mary</title><text dy=\".35em\" text-anchor=\"start\" transform=\"translate(4,15.773809523809518)\" style=\"display: inline;\">Mary</text><line x1=\"0\" x2=\"0\" y1=\"0\" y2=\"31.547619047619037\" style=\"display: inline; stroke: rgb(0, 0, 0);\"/><rect x=\"-5\" y=\"-5\" width=\"10\" style=\"fill: none; visibility: hidden; pointer-events: all;\" height=\"36.54761904761904\"/></g><g class=\"node\" transform=\"translate(309,148.27380952380952)\"><title>James</title><text dy=\".35em\" text-anchor=\"start\" transform=\"translate(4,9.464285714285708)\" style=\"display: inline;\">James</text><line x1=\"0\" x2=\"0\" y1=\"0\" y2=\"18.928571428571416\" style=\"display: inline; stroke: rgb(0, 0, 0);\"/><rect x=\"-5\" y=\"-5\" width=\"10\" style=\"fill: none; visibility: hidden; pointer-events: all;\" height=\"23.928571428571416\"/></g><g class=\"node\" transform=\"translate(0,219.57142857142858)\"><title>other</title><text dy=\".35em\" text-anchor=\"end\" transform=\"translate(-4,9.464285714285708)\" style=\"display: inline;\">other</text><line x1=\"0\" x2=\"0\" y1=\"0\" y2=\"18.928571428571416\" style=\"display: inline; stroke: rgb(0, 0, 0);\"/><rect x=\"-5\" y=\"-5\" width=\"10\" style=\"fill: none; visibility: hidden; pointer-events: all;\" height=\"23.928571428571416\"/></g><g class=\"node\" transform=\"translate(309,26.5)\"><title>exports here</title><text dy=\".35em\" text-anchor=\"start\" transform=\"translate(4,41.01190476190476)\" style=\"display: inline;\">exports here</text><line x1=\"0\" x2=\"0\" y1=\"0\" y2=\"82.02380952380952\" style=\"display: inline; stroke: rgb(0, 0, 0);\"/><rect x=\"-5\" y=\"-5\" width=\"10\" style=\"fill: none; visibility: hidden; pointer-events: all;\" height=\"87.02380952380952\"/></g><g class=\"node\" transform=\"translate(0,116.72619047619048)\"><title>farm3</title><text dy=\".35em\" text-anchor=\"end\" transform=\"translate(-4,31.54761904761905)\" style=\"display: inline;\">farm3</text><line x1=\"0\" x2=\"0\" y1=\"0\" y2=\"63.0952380952381\" style=\"display: inline; stroke: rgb(0, 0, 0);\"/><rect x=\"-5\" y=\"-5\" width=\"10\" style=\"fill: none; visibility: hidden; pointer-events: all;\" height=\"68.0952380952381\"/></g><g class=\"node\" transform=\"translate(0,26.5)\"><title>farm1</title><text dy=\".35em\" text-anchor=\"end\" transform=\"translate(-4,25.23809523809524)\" style=\"display: inline;\">farm1</text><line x1=\"0\" x2=\"0\" y1=\"0\" y2=\"50.47619047619048\" style=\"display: inline; stroke: rgb(0, 0, 0);\"/><rect x=\"-5\" y=\"-5\" width=\"10\" style=\"fill: none; visibility: hidden; pointer-events: all;\" height=\"55.47619047619048\"/></g></g><g class=\"slice-titles\"/></g></svg>"
      }
     },
     "ad28951e59df4d4cbda5c1372f284d4b": {
      "model_module": "jupyter-sankey-widget",
      "model_module_version": "^0.2.3",
      "model_name": "SankeyModel",
      "state": {
       "_model_module_version": "^0.2.3",
       "_view_module_version": "^0.2.3",
       "groups": [
        {
         "id": "farms",
         "nodes": [
          "farms^farm1",
          "farms^farm3",
          "farms^other"
         ],
         "rect": {
          "bottom": 238.49999999999997,
          "left": 0,
          "right": 1,
          "top": 125.01086956521739
         },
         "title": "",
         "type": "process"
        },
        {
         "id": "customers",
         "nodes": [
          "customers^James",
          "customers^Mary",
          "customers^Fred",
          "customers^Susan"
         ],
         "rect": {
          "bottom": 238.5,
          "left": 309,
          "right": 310,
          "top": 26.5
         },
         "title": "",
         "type": "process"
        }
       ],
       "layout": "IPY_MODEL_3a7dc974663542b9bc4e2febd05ef3cf",
       "links": [
        {
         "color": "#FBB4AE",
         "opacity": 1,
         "source": "__>customers^*",
         "target": "customers^Susan",
         "time": "*",
         "title": "*",
         "type": "*",
         "value": 5
        },
        {
         "color": "#FBB4AE",
         "opacity": 1,
         "source": "__>customers^*",
         "target": "customers^Fred",
         "time": "*",
         "title": "*",
         "type": "*",
         "value": 20
        },
        {
         "color": "#FBB4AE",
         "opacity": 1,
         "source": "farms^other",
         "target": "customers^Susan",
         "time": "*",
         "title": "*",
         "type": "*",
         "value": 3
        },
        {
         "color": "#FBB4AE",
         "opacity": 1,
         "source": "farms^farm3",
         "target": "customers^Susan",
         "time": "*",
         "title": "*",
         "type": "*",
         "value": 10
        },
        {
         "color": "#FBB4AE",
         "opacity": 1,
         "source": "farms^farm1",
         "target": "customers^Mary",
         "time": "*",
         "title": "*",
         "type": "*",
         "value": 5
        },
        {
         "color": "#FBB4AE",
         "opacity": 1,
         "source": "farms^farm1",
         "target": "customers^James",
         "time": "*",
         "title": "*",
         "type": "*",
         "value": 3
        }
       ],
       "margins": {
        "bottom": 10,
        "left": 130,
        "right": 130,
        "top": 25
       },
       "nodes": [
        {
         "id": "__>customers^*",
         "style": {
          "direction": "r",
          "hidden": false,
          "type": "group"
         },
         "title": "→"
        },
        {
         "id": "customers^Mary",
         "style": {
          "direction": "r",
          "hidden": false,
          "type": "process"
         },
         "title": "Mary"
        },
        {
         "id": "customers^James",
         "style": {
          "direction": "r",
          "hidden": false,
          "type": "process"
         },
         "title": "James"
        },
        {
         "id": "customers^Fred",
         "style": {
          "direction": "r",
          "hidden": false,
          "type": "process"
         },
         "title": "Fred"
        },
        {
         "id": "customers^Susan",
         "style": {
          "direction": "r",
          "hidden": false,
          "type": "process"
         },
         "title": "Susan"
        },
        {
         "id": "farms^other",
         "style": {
          "direction": "r",
          "hidden": false,
          "type": "process"
         },
         "title": "other"
        },
        {
         "id": "farms^farm3",
         "style": {
          "direction": "r",
          "hidden": false,
          "type": "process"
         },
         "title": "farm3"
        },
        {
         "id": "farms^farm1",
         "style": {
          "direction": "r",
          "hidden": false,
          "type": "process"
         },
         "title": "farm1"
        }
       ],
       "order": [
        [
         [
          "__>customers^*",
          "farms^farm1",
          "farms^farm3",
          "farms^other"
         ]
        ],
        [
         [
          "customers^James",
          "customers^Mary",
          "customers^Fred",
          "customers^Susan"
         ]
        ]
       ],
       "png": "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",
       "scale": 2.880434782608696,
       "svg": "<?xml version=\"1.0\" standalone=\"no\"?><!DOCTYPE svg PUBLIC \"-//W3C//DTD SVG 1.1//EN\" \"http://www.w3.org/Graphics/SVG/1.1/DTD/svg11.dtd\"><svg xmlns=\"http://www.w3.org/2000/svg\" width=\"570\" height=\"300\" viewBox=\"0 0 570 300\"><g class=\"sankey\" transform=\"translate(130,25)\"><g class=\"groups\"><g class=\"group\" style=\"display: none;\" transform=\"translate(0,125.01086956521739)\"><rect x=\"-10\" y=\"-20\" width=\"21\" height=\"143.48913043478257\" style=\"fill: rgb(238, 238, 238); stroke: rgb(187, 187, 187); stroke-width: 0.5;\"/><text x=\"-10\" y=\"-25\" style=\"fill: rgb(153, 153, 153);\"/></g><g class=\"group\" style=\"display: none;\" transform=\"translate(309,26.5)\"><rect x=\"-10\" y=\"-20\" width=\"21\" height=\"242\" style=\"fill: rgb(238, 238, 238); stroke: rgb(187, 187, 187); stroke-width: 0.5;\"/><text x=\"-10\" y=\"-25\" style=\"fill: rgb(153, 153, 153);\"/></g></g><g class=\"links\"><g class=\"link\" style=\"opacity: 0.8;\"><path d=\"M1,229.85869565217388 A0 0 0 0 1 1,229.85869565217388 L309,229.8586956521739 A0 0 0 0 0 309,229.8586956521739 L309,238.49999999999997 A0 0 0 0 1 309,238.49999999999997 L1,238.49999999999994 A0 0 0 0 0 1,238.49999999999994 Z\" style=\"fill: rgb(251, 180, 174);\"/><title>other → Susan\n*\n3.00</title></g><g class=\"link\" style=\"opacity: 0.8;\"><path d=\"M1,125.01086956521739 A154.90298256408042 154.90298256408042 0.379787798242021 0 0 58.42615986983593,113.97299802480333 L248.3703064295984,38.15362215898894 A163.54428691190648 163.54428691190648 0.379787798242021 0 1 309,26.5 L309,35.141304347826086 A154.90298256408042 154.90298256408042 0.379787798242021 0 0 251.5738401301641,46.17917588824015 L61.6296935704016,121.99855175405455 A163.54428691190648 163.54428691190648 0.379787798242021 0 1 1,133.65217391304347 Z\" style=\"fill: rgb(251, 180, 174);\"/><title>farm1 → James\n*\n3.00</title></g><g class=\"link\" style=\"opacity: 0.8;\"><path d=\"M1,84.1086956521739 A161.34911282963563 161.34911282963563 0.3943480336274541 0 1 62.991352803684116,96.49268374289738 L252.54205378607625,175.37359227353477 A146.94693891659213 146.94693891659213 0.3943480336274541 0 0 309,186.65217391304347 L309,201.05434782608697 A161.34911282963563 161.34911282963563 0.3943480336274541 0 1 247.00864719631588,188.6703597353635 L57.457946213923755,109.7894512047261 A146.94693891659213 146.94693891659213 0.3943480336274541 0 0 1,98.51086956521738 Z\" style=\"fill: rgb(251, 180, 174);\"/><title>→ → Susan\n*\n5.00</title></g><g class=\"link\" style=\"opacity: 0.8;\"><path d=\"M1,133.65217391304347 A201.2040453650533 201.2040453650533 0.28160387831770484 0 0 56.91394192990272,125.72694003316539 L249.08374134541506,70.13382600977863 A215.6062192780968 215.6062192780968 0.28160387831770484 0 1 309,61.641304347826086 L309,76.04347826086956 A201.2040453650533 201.2040453650533 0.28160387831770484 0 0 253.08605807009727,83.96871214074767 L60.91625865458494,139.56182616413443 A215.6062192780968 215.6062192780968 0.28160387831770484 0 1 1,148.05434782608697 Z\" style=\"fill: rgb(251, 180, 174);\"/><title>farm1 → Mary\n*\n5.00</title></g><g class=\"link\" style=\"opacity: 0.8;\"><path d=\"M1,174.55434782608694 A555.3432116488925 555.3432116488925 0.10516279089720904 0 1 59.293855890446,177.62234810846292 L253.72970947592748,198.1454775112885 A526.5388638228055 526.5388638228055 0.10516279089720904 0 0 309,201.05434782608694 L309,229.85869565217388 A555.3432116488925 555.3432116488925 0.10516279089720904 0 1 250.706144109554,226.7906953697979 L56.270290524072536,206.2675659669723 A526.5388638228055 526.5388638228055 0.10516279089720904 0 0 1,203.35869565217388 Z\" style=\"fill: rgb(251, 180, 174);\"/><title>farm3 → Susan\n*\n10.0</title></g><g class=\"link\" style=\"opacity: 0.8;\"><path d=\"M1,26.499999999999996 A227.33539786710418 227.33539786710418 0.29680554273757176 0 1 67.48808417604432,36.44009482218142 L259.36055374717506,95.12228679794218 A169.72670221493024 169.72670221493024 0.29680554273757176 0 0 309,102.54347826086958 L309,160.1521739130435 A227.33539786710418 227.33539786710418 0.29680554273757176 0 1 242.5119158239557,150.21207909086206 L50.63944625282494,91.5298871151013 A169.72670221493024 169.72670221493024 0.29680554273757176 0 0 1,84.1086956521739 Z\" style=\"fill: rgb(251, 180, 174);\"/><title>→ → Fred\n*\n20.0</title></g></g><g class=\"nodes\"><g class=\"node\" transform=\"translate(0,26.5)\"><title>→</title><text dy=\".35em\" text-anchor=\"end\" transform=\"translate(-4,36.005434782608695)\" style=\"display: inline;\">→</text><line x1=\"0\" x2=\"0\" y1=\"0\" y2=\"72.01086956521739\" style=\"display: inline; stroke: rgb(0, 0, 0);\"/><rect x=\"-5\" y=\"-5\" width=\"10\" style=\"fill: none; visibility: hidden; pointer-events: all;\" height=\"77.01086956521739\"/></g><g class=\"node\" transform=\"translate(309,61.641304347826086)\"><title>Mary</title><text dy=\".35em\" text-anchor=\"start\" transform=\"translate(4,7.201086956521738)\" style=\"display: inline;\">Mary</text><line x1=\"0\" x2=\"0\" y1=\"0\" y2=\"14.402173913043477\" style=\"display: inline; stroke: rgb(0, 0, 0);\"/><rect x=\"-5\" y=\"-5\" width=\"10\" style=\"fill: none; visibility: hidden; pointer-events: all;\" height=\"19.402173913043477\"/></g><g class=\"node\" transform=\"translate(309,26.5)\"><title>James</title><text dy=\".35em\" text-anchor=\"start\" transform=\"translate(4,4.320652173913043)\" style=\"display: inline;\">James</text><line x1=\"0\" x2=\"0\" y1=\"0\" y2=\"8.641304347826086\" style=\"display: inline; stroke: rgb(0, 0, 0);\"/><rect x=\"-5\" y=\"-5\" width=\"10\" style=\"fill: none; visibility: hidden; pointer-events: all;\" height=\"13.641304347826086\"/></g><g class=\"node\" transform=\"translate(309,102.54347826086956)\"><title>Fred</title><text dy=\".35em\" text-anchor=\"start\" transform=\"translate(4,28.804347826086953)\" style=\"display: inline;\">Fred</text><line x1=\"0\" x2=\"0\" y1=\"0\" y2=\"57.60869565217391\" style=\"display: inline; stroke: rgb(0, 0, 0);\"/><rect x=\"-5\" y=\"-5\" width=\"10\" style=\"fill: none; visibility: hidden; pointer-events: all;\" height=\"62.60869565217391\"/></g><g class=\"node\" transform=\"translate(309,186.65217391304347)\"><title>Susan</title><text dy=\".35em\" text-anchor=\"start\" transform=\"translate(4,25.923913043478265)\" style=\"display: inline;\">Susan</text><line x1=\"0\" x2=\"0\" y1=\"0\" y2=\"51.84782608695653\" style=\"display: inline; stroke: rgb(0, 0, 0);\"/><rect x=\"-5\" y=\"-5\" width=\"10\" style=\"fill: none; visibility: hidden; pointer-events: all;\" height=\"56.84782608695653\"/></g><g class=\"node\" transform=\"translate(0,229.85869565217388)\"><title>other</title><text dy=\".35em\" text-anchor=\"end\" transform=\"translate(-4,4.320652173913047)\" style=\"display: inline;\">other</text><line x1=\"0\" x2=\"0\" y1=\"0\" y2=\"8.641304347826093\" style=\"display: inline; stroke: rgb(0, 0, 0);\"/><rect x=\"-5\" y=\"-5\" width=\"10\" style=\"fill: none; visibility: hidden; pointer-events: all;\" height=\"13.641304347826093\"/></g><g class=\"node\" transform=\"translate(0,174.55434782608694)\"><title>farm3</title><text dy=\".35em\" text-anchor=\"end\" transform=\"translate(-4,14.402173913043484)\" style=\"display: inline;\">farm3</text><line x1=\"0\" x2=\"0\" y1=\"0\" y2=\"28.804347826086968\" style=\"display: inline; stroke: rgb(0, 0, 0);\"/><rect x=\"-5\" y=\"-5\" width=\"10\" style=\"fill: none; visibility: hidden; pointer-events: all;\" height=\"33.80434782608697\"/></g><g class=\"node\" transform=\"translate(0,125.01086956521739)\"><title>farm1</title><text dy=\".35em\" text-anchor=\"end\" transform=\"translate(-4,11.521739130434788)\" style=\"display: inline;\">farm1</text><line x1=\"0\" x2=\"0\" y1=\"0\" y2=\"23.043478260869577\" style=\"display: inline; stroke: rgb(0, 0, 0);\"/><rect x=\"-5\" y=\"-5\" width=\"10\" style=\"fill: none; visibility: hidden; pointer-events: all;\" height=\"28.043478260869577\"/></g></g><g class=\"slice-titles\"/></g></svg>"
      }
     },
     "ad330a71d7dc4b4d9c9cb719df704763": {
      "model_module": "@jupyter-widgets/base",
      "model_module_version": "1.0.0",
      "model_name": "LayoutModel",
      "state": {
       "height": "300",
       "width": "570"
      }
     },
     "b502330fab3045be9d0b31e1b9f39cb2": {
      "model_module": "@jupyter-widgets/base",
      "model_module_version": "1.0.0",
      "model_name": "LayoutModel",
      "state": {
       "height": "300",
       "width": "570"
      }
     },
     "bac13fd869e14f35a668cc1807001494": {
      "model_module": "jupyter-sankey-widget",
      "model_module_version": "^0.2.3",
      "model_name": "SankeyModel",
      "state": {
       "_model_module_version": "^0.2.3",
       "_view_module_version": "^0.2.3",
       "groups": [
        {
         "id": "farms",
         "nodes": [
          "farms^farm1",
          "farms^farm3",
          "farms^other"
         ],
         "rect": {
          "bottom": 238.5,
          "left": 0,
          "right": 1,
          "top": 26.5
         },
         "title": "",
         "type": "process"
        },
        {
         "id": "exports",
         "nodes": [
          "exports^apples",
          "exports^bananas"
         ],
         "rect": {
          "bottom": 135.02380952380952,
          "left": 309,
          "right": 310,
          "top": 26.5
         },
         "title": "exports here",
         "type": "group"
        },
        {
         "id": "customers",
         "nodes": [
          "customers^James",
          "customers^Mary"
         ],
         "rect": {
          "bottom": 238.5,
          "left": 309,
          "right": 310,
          "top": 161.52380952380952
         },
         "title": "",
         "type": "process"
        }
       ],
       "layout": "IPY_MODEL_b502330fab3045be9d0b31e1b9f39cb2",
       "links": [
        {
         "color": "#FBB4AE",
         "opacity": 1,
         "source": "farms^farm3",
         "target": "exports^apples",
         "time": "*",
         "title": "*",
         "type": "*",
         "value": 10
        },
        {
         "color": "#FBB4AE",
         "opacity": 1,
         "source": "farms^other",
         "target": "exports^bananas",
         "time": "*",
         "title": "*",
         "type": "*",
         "value": 3
        },
        {
         "color": "#FBB4AE",
         "opacity": 1,
         "source": "farms^farm1",
         "target": "customers^Mary",
         "time": "*",
         "title": "*",
         "type": "*",
         "value": 5
        },
        {
         "color": "#FBB4AE",
         "opacity": 1,
         "source": "farms^farm1",
         "target": "customers^James",
         "time": "*",
         "title": "*",
         "type": "*",
         "value": 3
        }
       ],
       "margins": {
        "bottom": 10,
        "left": 130,
        "right": 130,
        "top": 25
       },
       "nodes": [
        {
         "id": "customers^Mary",
         "style": {
          "direction": "r",
          "hidden": false,
          "type": "process"
         },
         "title": "Mary"
        },
        {
         "id": "customers^James",
         "style": {
          "direction": "r",
          "hidden": false,
          "type": "process"
         },
         "title": "James"
        },
        {
         "id": "farms^farm3",
         "style": {
          "direction": "r",
          "hidden": false,
          "type": "process"
         },
         "title": "farm3"
        },
        {
         "id": "exports^apples",
         "style": {
          "direction": "r",
          "hidden": false,
          "type": "group"
         },
         "title": "apples"
        },
        {
         "id": "farms^other",
         "style": {
          "direction": "r",
          "hidden": false,
          "type": "process"
         },
         "title": "other"
        },
        {
         "id": "exports^bananas",
         "style": {
          "direction": "r",
          "hidden": false,
          "type": "group"
         },
         "title": "bananas"
        },
        {
         "id": "farms^farm1",
         "style": {
          "direction": "r",
          "hidden": false,
          "type": "process"
         },
         "title": "farm1"
        }
       ],
       "order": [
        [
         [
          "farms^farm1",
          "farms^farm3",
          "farms^other"
         ]
        ],
        [
         [
          "exports^apples",
          "exports^bananas",
          "customers^James",
          "customers^Mary"
         ]
        ]
       ],
       "png": "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",
       "scale": 6.309523809523809,
       "svg": "<?xml version=\"1.0\" standalone=\"no\"?><!DOCTYPE svg PUBLIC \"-//W3C//DTD SVG 1.1//EN\" \"http://www.w3.org/Graphics/SVG/1.1/DTD/svg11.dtd\"><svg xmlns=\"http://www.w3.org/2000/svg\" width=\"570\" height=\"300\" viewBox=\"0 0 570 300\"><g class=\"sankey\" transform=\"translate(130,25)\"><g class=\"groups\"><g class=\"group\" style=\"display: none;\" transform=\"translate(0,26.5)\"><rect x=\"-10\" y=\"-20\" width=\"21\" height=\"242\" style=\"fill: rgb(238, 238, 238); stroke: rgb(187, 187, 187); stroke-width: 0.5;\"/><text x=\"-10\" y=\"-25\" style=\"fill: rgb(153, 153, 153);\"/></g><g class=\"group\" style=\"display: inline;\" transform=\"translate(309,26.5)\"><rect x=\"-10\" y=\"-20\" width=\"21\" height=\"138.52380952380952\" style=\"fill: rgb(238, 238, 238); stroke: rgb(187, 187, 187); stroke-width: 0.5;\"/><text x=\"-10\" y=\"-25\" style=\"fill: rgb(153, 153, 153);\">exports here</text></g><g class=\"group\" style=\"display: none;\" transform=\"translate(309,161.52380952380952)\"><rect x=\"-10\" y=\"-20\" width=\"21\" height=\"106.97619047619048\" style=\"fill: rgb(238, 238, 238); stroke: rgb(187, 187, 187); stroke-width: 0.5;\"/><text x=\"-10\" y=\"-25\" style=\"fill: rgb(153, 153, 153);\"/></g></g><g class=\"links\"><g class=\"link\" style=\"opacity: 0.8;\"><path d=\"M1,219.57142857142858 A143.572835448031 143.572835448031 0.39770029425140807 0 0 56.60563643800231,208.36615816450612 L246.06334402850882,128.7778057959837 A162.50140687660243 162.50140687660243 0.39770029425140807 0 1 309,116.0952380952381 L309,135.02380952380952 A143.572835448031 143.572835448031 0.39770029425140807 0 0 253.3943635619977,146.229079930732 L63.93665597149119,225.81743229925442 A162.50140687660243 162.50140687660243 0.39770029425140807 0 1 1,238.50000000000003 Z\" style=\"fill: rgb(251, 180, 174);\"/><title>other → bananas\n*\n3.00</title></g><g class=\"link\" style=\"opacity: 0.8;\"><path d=\"M1,26.5 A147.02694294699015 147.02694294699015 0.5147498492122282 0 1 73.38388246936344,45.55235362942728 L251.80498682242404,146.4693584537091 A116.17514358767666 116.17514358767666 0.5147498492122282 0 0 309,161.52380952380952 L309,180.45238095238096 A135.1037150162481 135.1037150162481 0.5147498492122282 0 1 242.48612687651155,162.94508804711404 L64.06502252345098,62.0280832228322 A128.0983715184187 128.0983715184187 0.5147498492122282 0 0 1,45.42857142857143 Z\" style=\"fill: rgb(251, 180, 174);\"/><title>farm1 → James\n*\n3.00</title></g><g class=\"link\" style=\"opacity: 0.8;\"><path d=\"M1,45.42857142857143 A128.0983715184187 128.0983715184187 0.5937958173789004 0 1 72.67246156674351,67.3560851816198 L254.97878166851987,190.4250986179118 A96.55075247079965 96.55075247079965 0.5937958173789004 0 0 309,206.95238095238096 L309,238.5 A128.0983715184187 128.0983715184187 0.5937958173789004 0 1 237.32753843325648,216.57248624695163 L55.02121833148014,93.50347281065963 A96.55075247079965 96.55075247079965 0.5937958173789004 0 0 1,76.97619047619048 Z\" style=\"fill: rgb(251, 180, 174);\"/><title>farm1 → Mary\n*\n5.00</title></g><g class=\"link\" style=\"opacity: 0.8;\"><path d=\"M1,116.72619047619047 A139.69661431335962 139.69661431335962 0.34954482662189124 0 0 48.84192667460024,108.2785536928586 L239.54983486302962,38.76308826586249 A202.7918524085977 202.7918524085977 0.34954482662189124 0 1 309,26.500000000000004 L309,89.5952380952381 A139.69661431335962 139.69661431335962 0.34954482662189124 0 0 261.15807332539976,98.04287487856998 L70.45016513697038,167.55834030556608 A202.7918524085977 202.7918524085977 0.34954482662189124 0 1 1,179.82142857142856 Z\" style=\"fill: rgb(251, 180, 174);\"/><title>farm3 → apples\n*\n10.0</title></g></g><g class=\"nodes\"><g class=\"node\" transform=\"translate(309,206.95238095238096)\"><title>Mary</title><text dy=\".35em\" text-anchor=\"start\" transform=\"translate(4,15.773809523809518)\" style=\"display: inline;\">Mary</text><line x1=\"0\" x2=\"0\" y1=\"0\" y2=\"31.547619047619037\" style=\"display: inline; stroke: rgb(0, 0, 0);\"/><rect x=\"-5\" y=\"-5\" width=\"10\" style=\"fill: none; visibility: hidden; pointer-events: all;\" height=\"36.54761904761904\"/></g><g class=\"node\" transform=\"translate(309,161.52380952380952)\"><title>James</title><text dy=\".35em\" text-anchor=\"start\" transform=\"translate(4,9.464285714285708)\" style=\"display: inline;\">James</text><line x1=\"0\" x2=\"0\" y1=\"0\" y2=\"18.928571428571416\" style=\"display: inline; stroke: rgb(0, 0, 0);\"/><rect x=\"-5\" y=\"-5\" width=\"10\" style=\"fill: none; visibility: hidden; pointer-events: all;\" height=\"23.928571428571416\"/></g><g class=\"node\" transform=\"translate(0,116.72619047619048)\"><title>farm3</title><text dy=\".35em\" text-anchor=\"end\" transform=\"translate(-4,31.54761904761905)\" style=\"display: inline;\">farm3</text><line x1=\"0\" x2=\"0\" y1=\"0\" y2=\"63.0952380952381\" style=\"display: inline; stroke: rgb(0, 0, 0);\"/><rect x=\"-5\" y=\"-5\" width=\"10\" style=\"fill: none; visibility: hidden; pointer-events: all;\" height=\"68.0952380952381\"/></g><g class=\"node\" transform=\"translate(309,26.5)\"><title>apples</title><text dy=\".35em\" text-anchor=\"start\" transform=\"translate(4,31.54761904761905)\" style=\"display: inline;\">apples</text><line x1=\"0\" x2=\"0\" y1=\"0\" y2=\"63.0952380952381\" style=\"display: inline; stroke: rgb(0, 0, 0);\"/><rect x=\"-5\" y=\"-5\" width=\"10\" style=\"fill: none; visibility: hidden; pointer-events: all;\" height=\"68.0952380952381\"/></g><g class=\"node\" transform=\"translate(0,219.57142857142858)\"><title>other</title><text dy=\".35em\" text-anchor=\"end\" transform=\"translate(-4,9.464285714285708)\" style=\"display: inline;\">other</text><line x1=\"0\" x2=\"0\" y1=\"0\" y2=\"18.928571428571416\" style=\"display: inline; stroke: rgb(0, 0, 0);\"/><rect x=\"-5\" y=\"-5\" width=\"10\" style=\"fill: none; visibility: hidden; pointer-events: all;\" height=\"23.928571428571416\"/></g><g class=\"node\" transform=\"translate(309,116.0952380952381)\"><title>bananas</title><text dy=\".35em\" text-anchor=\"start\" transform=\"translate(4,9.464285714285708)\" style=\"display: inline;\">bananas</text><line x1=\"0\" x2=\"0\" y1=\"0\" y2=\"18.928571428571416\" style=\"display: inline; stroke: rgb(0, 0, 0);\"/><rect x=\"-5\" y=\"-5\" width=\"10\" style=\"fill: none; visibility: hidden; pointer-events: all;\" height=\"23.928571428571416\"/></g><g class=\"node\" transform=\"translate(0,26.5)\"><title>farm1</title><text dy=\".35em\" text-anchor=\"end\" transform=\"translate(-4,25.23809523809524)\" style=\"display: inline;\">farm1</text><line x1=\"0\" x2=\"0\" y1=\"0\" y2=\"50.47619047619048\" style=\"display: inline; stroke: rgb(0, 0, 0);\"/><rect x=\"-5\" y=\"-5\" width=\"10\" style=\"fill: none; visibility: hidden; pointer-events: all;\" height=\"55.47619047619048\"/></g></g><g class=\"slice-titles\"/></g></svg>"
      }
     },
     "f321927892d34f7fa8913ec279afffb5": {
      "model_module": "@jupyter-widgets/base",
      "model_module_version": "1.0.0",
      "model_name": "LayoutModel",
      "state": {
       "height": "300",
       "width": "570"
      }
     }
    },
    "version_major": 2,
    "version_minor": 0
   }
  }
 },
 "nbformat": 4,
 "nbformat_minor": 2
}
