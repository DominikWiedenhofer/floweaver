{
 "cells": [
  {
   "cell_type": "markdown",
   "metadata": {},
   "source": [
    "# Dimension tables: efficiently adding details of processes and flows\n",
    "\n",
    "In the [Quickstart tutorial](./Quickstart.ipynb) we saw how to draw some simple Sankey diagrams and partition them in different ways, such as this:\n",
    "\n",
    "![](./quickstart_example1.png)\n",
    "\n",
    "But to do the grouping on the right-hand side we had to explicitly list which people were \"Men\" and which were \"Women\", using a partition like this:\n",
    "\n",
    "```python\n",
    "customers_by_gender = Partition.Simple('process', [\n",
    "    ('Men', ['Fred', 'James']),\n",
    "    ('Women', ['Susan', 'Mary']),\n",
    "])\n",
    "```\n",
    "\n",
    "We can show this type of information more efficiently -- and with less code -- by using *dimension tables*.\n",
    "\n",
    "## Dimension tables\n",
    "\n",
    "The table we've seen before is a **flow fact table** -- it lists basic information about each flow:\n",
    "\n",
    "- *source*: where the flow comes from\n",
    "- *target*: where the flow goes to\n",
    "- *type* or *material*: what is flowing\n",
    "- *value*: the size (in tonnes, GJ, £ etc) of the flow\n",
    "\n",
    "An example of this type of table is shown at the top right of this diagram:\n",
    "\n",
    "![](./dimension_tables.png)\n",
    "\n",
    "The **dimension tables** add extra information about the source/target and type of the flows (the diagram above also shows extra information about the time period the flow relates to, but we're not worrying about time in this tutorial). For example, \"farm2\" has a *location* attribute set to \"Cambridge\".\n",
    "\n",
    "This tutorial will show how to use dimension tables in floweaver."
   ]
  },
  {
   "cell_type": "code",
   "execution_count": 1,
   "metadata": {},
   "outputs": [
    {
     "data": {
      "text/html": [
       "<div>\n",
       "<style>\n",
       "    .dataframe thead tr:only-child th {\n",
       "        text-align: right;\n",
       "    }\n",
       "\n",
       "    .dataframe thead th {\n",
       "        text-align: left;\n",
       "    }\n",
       "\n",
       "    .dataframe tbody tr th {\n",
       "        vertical-align: top;\n",
       "    }\n",
       "</style>\n",
       "<table border=\"1\" class=\"dataframe\">\n",
       "  <thead>\n",
       "    <tr style=\"text-align: right;\">\n",
       "      <th></th>\n",
       "      <th>source</th>\n",
       "      <th>target</th>\n",
       "      <th>type</th>\n",
       "      <th>value</th>\n",
       "    </tr>\n",
       "  </thead>\n",
       "  <tbody>\n",
       "    <tr>\n",
       "      <th>0</th>\n",
       "      <td>farm1</td>\n",
       "      <td>Mary</td>\n",
       "      <td>apples</td>\n",
       "      <td>5</td>\n",
       "    </tr>\n",
       "    <tr>\n",
       "      <th>1</th>\n",
       "      <td>farm1</td>\n",
       "      <td>James</td>\n",
       "      <td>apples</td>\n",
       "      <td>3</td>\n",
       "    </tr>\n",
       "    <tr>\n",
       "      <th>2</th>\n",
       "      <td>farm2</td>\n",
       "      <td>Fred</td>\n",
       "      <td>apples</td>\n",
       "      <td>10</td>\n",
       "    </tr>\n",
       "    <tr>\n",
       "      <th>3</th>\n",
       "      <td>farm2</td>\n",
       "      <td>Fred</td>\n",
       "      <td>bananas</td>\n",
       "      <td>10</td>\n",
       "    </tr>\n",
       "    <tr>\n",
       "      <th>4</th>\n",
       "      <td>farm2</td>\n",
       "      <td>Susan</td>\n",
       "      <td>bananas</td>\n",
       "      <td>5</td>\n",
       "    </tr>\n",
       "    <tr>\n",
       "      <th>5</th>\n",
       "      <td>farm3</td>\n",
       "      <td>Susan</td>\n",
       "      <td>apples</td>\n",
       "      <td>10</td>\n",
       "    </tr>\n",
       "    <tr>\n",
       "      <th>6</th>\n",
       "      <td>farm4</td>\n",
       "      <td>Susan</td>\n",
       "      <td>bananas</td>\n",
       "      <td>1</td>\n",
       "    </tr>\n",
       "    <tr>\n",
       "      <th>7</th>\n",
       "      <td>farm5</td>\n",
       "      <td>Susan</td>\n",
       "      <td>bananas</td>\n",
       "      <td>1</td>\n",
       "    </tr>\n",
       "    <tr>\n",
       "      <th>8</th>\n",
       "      <td>farm6</td>\n",
       "      <td>Susan</td>\n",
       "      <td>bananas</td>\n",
       "      <td>1</td>\n",
       "    </tr>\n",
       "  </tbody>\n",
       "</table>\n",
       "</div>"
      ],
      "text/plain": [
       "  source target     type  value\n",
       "0  farm1   Mary   apples      5\n",
       "1  farm1  James   apples      3\n",
       "2  farm2   Fred   apples     10\n",
       "3  farm2   Fred  bananas     10\n",
       "4  farm2  Susan  bananas      5\n",
       "5  farm3  Susan   apples     10\n",
       "6  farm4  Susan  bananas      1\n",
       "7  farm5  Susan  bananas      1\n",
       "8  farm6  Susan  bananas      1"
      ]
     },
     "execution_count": 1,
     "metadata": {},
     "output_type": "execute_result"
    }
   ],
   "source": [
    "# Load the same data used in the quickstart tutorial\n",
    "import pandas as pd\n",
    "flows = pd.read_csv('simple_fruit_sales.csv')\n",
    "flows"
   ]
  },
  {
   "cell_type": "code",
   "execution_count": 5,
   "metadata": {},
   "outputs": [
    {
     "data": {
      "text/html": [
       "<div>\n",
       "<style>\n",
       "    .dataframe thead tr:only-child th {\n",
       "        text-align: right;\n",
       "    }\n",
       "\n",
       "    .dataframe thead th {\n",
       "        text-align: left;\n",
       "    }\n",
       "\n",
       "    .dataframe tbody tr th {\n",
       "        vertical-align: top;\n",
       "    }\n",
       "</style>\n",
       "<table border=\"1\" class=\"dataframe\">\n",
       "  <thead>\n",
       "    <tr style=\"text-align: right;\">\n",
       "      <th></th>\n",
       "      <th>type</th>\n",
       "      <th>location</th>\n",
       "      <th>organic</th>\n",
       "      <th>sex</th>\n",
       "    </tr>\n",
       "    <tr>\n",
       "      <th>id</th>\n",
       "      <th></th>\n",
       "      <th></th>\n",
       "      <th></th>\n",
       "      <th></th>\n",
       "    </tr>\n",
       "  </thead>\n",
       "  <tbody>\n",
       "    <tr>\n",
       "      <th>farm1</th>\n",
       "      <td>farm</td>\n",
       "      <td>Barton</td>\n",
       "      <td>yes</td>\n",
       "      <td>NaN</td>\n",
       "    </tr>\n",
       "    <tr>\n",
       "      <th>farm2</th>\n",
       "      <td>farm</td>\n",
       "      <td>Barton</td>\n",
       "      <td>yes</td>\n",
       "      <td>NaN</td>\n",
       "    </tr>\n",
       "    <tr>\n",
       "      <th>farm3</th>\n",
       "      <td>farm</td>\n",
       "      <td>Ely</td>\n",
       "      <td>no</td>\n",
       "      <td>NaN</td>\n",
       "    </tr>\n",
       "    <tr>\n",
       "      <th>farm4</th>\n",
       "      <td>farm</td>\n",
       "      <td>Ely</td>\n",
       "      <td>yes</td>\n",
       "      <td>NaN</td>\n",
       "    </tr>\n",
       "    <tr>\n",
       "      <th>farm5</th>\n",
       "      <td>farm</td>\n",
       "      <td>Duxford</td>\n",
       "      <td>no</td>\n",
       "      <td>NaN</td>\n",
       "    </tr>\n",
       "    <tr>\n",
       "      <th>farm6</th>\n",
       "      <td>farm</td>\n",
       "      <td>Milton</td>\n",
       "      <td>yes</td>\n",
       "      <td>NaN</td>\n",
       "    </tr>\n",
       "    <tr>\n",
       "      <th>Mary</th>\n",
       "      <td>customer</td>\n",
       "      <td>Cambridge</td>\n",
       "      <td>NaN</td>\n",
       "      <td>Women</td>\n",
       "    </tr>\n",
       "    <tr>\n",
       "      <th>James</th>\n",
       "      <td>customer</td>\n",
       "      <td>Milton</td>\n",
       "      <td>NaN</td>\n",
       "      <td>Men</td>\n",
       "    </tr>\n",
       "    <tr>\n",
       "      <th>Fred</th>\n",
       "      <td>customer</td>\n",
       "      <td>Cambridge</td>\n",
       "      <td>NaN</td>\n",
       "      <td>Women</td>\n",
       "    </tr>\n",
       "    <tr>\n",
       "      <th>Susan</th>\n",
       "      <td>customer</td>\n",
       "      <td>Cambridge</td>\n",
       "      <td>NaN</td>\n",
       "      <td>Men</td>\n",
       "    </tr>\n",
       "  </tbody>\n",
       "</table>\n",
       "</div>"
      ],
      "text/plain": [
       "           type   location organic    sex\n",
       "id                                       \n",
       "farm1      farm     Barton     yes    NaN\n",
       "farm2      farm     Barton     yes    NaN\n",
       "farm3      farm        Ely      no    NaN\n",
       "farm4      farm        Ely     yes    NaN\n",
       "farm5      farm    Duxford      no    NaN\n",
       "farm6      farm     Milton     yes    NaN\n",
       "Mary   customer  Cambridge     NaN  Women\n",
       "James  customer     Milton     NaN    Men\n",
       "Fred   customer  Cambridge     NaN  Women\n",
       "Susan  customer  Cambridge     NaN    Men"
      ]
     },
     "execution_count": 5,
     "metadata": {},
     "output_type": "execute_result"
    }
   ],
   "source": [
    "# Load another table giving extra information about the \n",
    "# farms and customers. `index_col` says the first column\n",
    "# can be used to lookup rows.\n",
    "processes = pd.read_csv('simple_fruit_sales_processes.csv', \n",
    "                        index_col=0)\n",
    "processes"
   ]
  },
  {
   "cell_type": "markdown",
   "metadata": {},
   "source": [
    "Each `id` in this table matches a `source` or `target` in the flows table above. We can use this extra information to build the Sankey."
   ]
  },
  {
   "cell_type": "code",
   "execution_count": 9,
   "metadata": {
    "collapsed": true
   },
   "outputs": [],
   "source": [
    "# Setup\n",
    "from floweaver import *\n",
    "from floweaver.jupyter import show_sankey\n",
    "\n",
    "def show(sdd, flows, **kwargs):\n",
    "    # Set the default size to fit the documentation better.\n",
    "    kwargs.setdefault('width', 570)\n",
    "    kwargs.setdefault('height', 300)\n",
    "    return show_sankey(sdd, flows, **kwargs)"
   ]
  },
  {
   "cell_type": "markdown",
   "metadata": {},
   "source": [
    "Because we now have two tables (before we only had one so didn't have to worry) we must put them together into a Dataset:"
   ]
  },
  {
   "cell_type": "code",
   "execution_count": 10,
   "metadata": {
    "collapsed": true
   },
   "outputs": [],
   "source": [
    "dataset = Dataset(flows, dim_process=processes)"
   ]
  },
  {
   "cell_type": "markdown",
   "metadata": {},
   "source": [
    "Now we can use the `type` column in the process table to more easily pick out the relevant processes:"
   ]
  },
  {
   "cell_type": "code",
   "execution_count": 11,
   "metadata": {
    "collapsed": true
   },
   "outputs": [],
   "source": [
    "nodes = {\n",
    "    'farms': ProcessGroup('type == \"farm\"'),\n",
    "    'customers': ProcessGroup('type == \"customer\"'),\n",
    "}"
   ]
  },
  {
   "cell_type": "markdown",
   "metadata": {},
   "source": [
    "Compare this to how the same thing was written in the Quickstart:\n",
    "```python\n",
    "nodes = {\n",
    "    'farms': ProcessGroup(['farm1', 'farm2', 'farm3', \n",
    "                           'farm4', 'farm5', 'farm6']),\n",
    "    'customers': ProcessGroup(['James', 'Mary', 'Fred', 'Susan']),\n",
    "}\n",
    "```\n",
    "\n",
    "Because we already know from the process dimension table that James, Mary, Fred and Susan are \"customers\", we don't have to list them all by name in the ProcessGroup definition -- we can write the *query* `type == \"customer\"` instead."
   ]
  },
  {
   "cell_type": "raw",
   "metadata": {
    "raw_mimetype": "text/restructuredtext"
   },
   "source": [
    ".. note::\n",
    "\n",
    "    See the API Documentation for :class:`floweaver.ProcessGroup` for more details."
   ]
  },
  {
   "cell_type": "markdown",
   "metadata": {},
   "source": [
    "The rest of the Sankey diagram definition is the same as before:"
   ]
  },
  {
   "cell_type": "code",
   "execution_count": 13,
   "metadata": {},
   "outputs": [
    {
     "data": {
      "application/vnd.jupyter.widget-view+json": {
       "model_id": "cc511269e9024c079315ff3f5ff5584d",
       "version_major": 2,
       "version_minor": 0
      },
      "text/plain": [
       "A Jupyter Widget"
      ]
     },
     "metadata": {},
     "output_type": "display_data"
    }
   ],
   "source": [
    "ordering = [\n",
    "    ['farms'],       # put \"farms\" on the left...\n",
    "    ['customers'],   # ... and \"customers\" on the right.\n",
    "]\n",
    "bundles = [\n",
    "    Bundle('farms', 'customers'),\n",
    "]\n",
    "sdd = SankeyDefinition(nodes, bundles, ordering)\n",
    "show(sdd, dataset)"
   ]
  },
  {
   "cell_type": "markdown",
   "metadata": {},
   "source": [
    "Again, we need to set the partition on the ProcessGroups to see something interesting. Here again, we can use the process dimension table to make this easier:"
   ]
  },
  {
   "cell_type": "code",
   "execution_count": 17,
   "metadata": {},
   "outputs": [
    {
     "data": {
      "application/vnd.jupyter.widget-view+json": {
       "model_id": "3185edb425604a9eb541150a444ea43b",
       "version_major": 2,
       "version_minor": 0
      },
      "text/plain": [
       "A Jupyter Widget"
      ]
     },
     "metadata": {},
     "output_type": "display_data"
    }
   ],
   "source": [
    "# Create a Partition which splits based on the `sex` column\n",
    "# of the dimension table\n",
    "customers_by_gender = Partition.Simple('process.sex', \n",
    "                                       ['Men', 'Women'])\n",
    "\n",
    "nodes['customers'].partition = customers_by_gender\n",
    "show(sdd, dataset)"
   ]
  },
  {
   "cell_type": "markdown",
   "metadata": {},
   "source": [
    "For reference, this is what we wrote before in the Quickstart:\n",
    "```python\n",
    "customers_by_gender = Partition.Simple('process', [\n",
    "    ('Men', ['Fred', 'James']),\n",
    "    ('Women', ['Susan', 'Mary']),\n",
    "])\n",
    "```\n",
    "\n",
    "And we can use other columns of the dimension table to set other partitions:"
   ]
  },
  {
   "cell_type": "code",
   "execution_count": 19,
   "metadata": {},
   "outputs": [
    {
     "data": {
      "application/vnd.jupyter.widget-view+json": {
       "model_id": "d1f2e367e380401d85ca8e488fd533e7",
       "version_major": 2,
       "version_minor": 0
      },
      "text/plain": [
       "A Jupyter Widget"
      ]
     },
     "metadata": {},
     "output_type": "display_data"
    }
   ],
   "source": [
    "farms_by_organic = Partition.Simple('process.organic', ['yes', 'no'])\n",
    "\n",
    "nodes['farms'].partition = farms_by_organic\n",
    "show(sdd, dataset)"
   ]
  },
  {
   "cell_type": "markdown",
   "metadata": {},
   "source": [
    "Finally, a tip for doing quick exploration of the data with partitions: you can automatically get a Partition which includes all the values that actually occur in your dataset using the `dataset.partition` method:"
   ]
  },
  {
   "cell_type": "code",
   "execution_count": 29,
   "metadata": {},
   "outputs": [
    {
     "data": {
      "application/vnd.jupyter.widget-view+json": {
       "model_id": "072c93aaecff4f6d8be0d3aac0ed1a02",
       "version_major": 2,
       "version_minor": 0
      },
      "text/plain": [
       "A Jupyter Widget"
      ]
     },
     "metadata": {},
     "output_type": "display_data"
    }
   ],
   "source": [
    "# This is the logical thing to write but\n",
    "# it doesn't actually work at the moment :(\n",
    "# nodes['farms'].partition = dataset.partition('process.organic')\n",
    "\n",
    "# It works with 'source.organic'... we can explain later\n",
    "nodes['farms'].partition = dataset.partition('source.organic')\n",
    "\n",
    "# This should be the same as before\n",
    "show(sdd, dataset)"
   ]
  },
  {
   "cell_type": "markdown",
   "metadata": {},
   "source": [
    "## Summary\n",
    "\n",
    "The process dimension table adds extra information about each process. You can use this extra information to:\n",
    "\n",
    "1. Pick out the processes you want to include in a ProcessGroup (selection); and\n",
    "2. Split apart groups of processes based on different attributes (partitions).\n",
    "\n",
    "Things to try:\n",
    "\n",
    "- Make a diagram showing the locations of farms on the left and the locations of customers on the right"
   ]
  },
  {
   "cell_type": "code",
   "execution_count": null,
   "metadata": {
    "collapsed": true
   },
   "outputs": [],
   "source": []
  }
 ],
 "metadata": {
  "celltoolbar": "Raw Cell Format",
  "kernelspec": {
   "display_name": "Python 3",
   "language": "python",
   "name": "python3"
  },
  "language_info": {
   "codemirror_mode": {
    "name": "ipython",
    "version": 3
   },
   "file_extension": ".py",
   "mimetype": "text/x-python",
   "name": "python",
   "nbconvert_exporter": "python",
   "pygments_lexer": "ipython3",
   "version": "3.6.3"
  },
  "widgets": {
   "application/vnd.jupyter.widget-state+json": {
    "state": {
     "041d4034c4244f059902249d9efaa053": {
      "model_module": "jupyter-sankey-widget",
      "model_module_version": "^0.2.3",
      "model_name": "SankeyModel",
      "state": {
       "_model_module_version": "^0.2.3",
       "_view_module_version": "^0.2.3",
       "layout": "IPY_MODEL_8947b091b43441e0b1094a6786390741",
       "links": [
        {
         "bundles": [
          "0"
         ],
         "color": "#FBB4AE",
         "opacity": 1,
         "source": "farms^yes",
         "target": "customers^Men",
         "time": "*",
         "title": "*",
         "type": "*",
         "value": 10
        },
        {
         "bundles": [
          "0"
         ],
         "color": "#FBB4AE",
         "opacity": 1,
         "source": "farms^yes",
         "target": "customers^Women",
         "time": "*",
         "title": "*",
         "type": "*",
         "value": 25
        },
        {
         "bundles": [
          "0"
         ],
         "color": "#FBB4AE",
         "opacity": 1,
         "source": "farms^no",
         "target": "customers^Men",
         "time": "*",
         "title": "*",
         "type": "*",
         "value": 11
        }
       ],
       "margins": {
        "bottom": 10,
        "left": 130,
        "right": 130,
        "top": 25
       },
       "nodes": [
        {
         "direction": "r",
         "id": "farms^yes",
         "style": "process",
         "title": "yes",
         "visibility": "visible"
        },
        {
         "direction": "r",
         "id": "farms^no",
         "style": "process",
         "title": "no",
         "visibility": "visible"
        },
        {
         "direction": "r",
         "id": "customers^Men",
         "style": "process",
         "title": "Men",
         "visibility": "visible"
        },
        {
         "direction": "r",
         "id": "customers^Women",
         "style": "process",
         "title": "Women",
         "visibility": "visible"
        }
       ],
       "order": [
        [
         [
          "farms^yes",
          "farms^no"
         ]
        ],
        [
         [
          "customers^Men",
          "customers^Women"
         ]
        ]
       ],
       "png": "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",
       "scale": 2.880434782608696,
       "svg": "<?xml version=\"1.0\" standalone=\"no\"?><!DOCTYPE svg PUBLIC \"-//W3C//DTD SVG 1.1//EN\" \"http://www.w3.org/Graphics/SVG/1.1/DTD/svg11.dtd\"><svg xmlns=\"http://www.w3.org/2000/svg\" width=\"570\" height=\"300\" viewBox=\"0 0 570 300\" style=\"font-family: &quot;Helvetica Neue&quot;,Helvetica,Arial,sans-serif;\"><g class=\"sankey\" transform=\"translate(130,25)\"><g class=\"groups\"/><g class=\"links\"><g class=\"link\" style=\"opacity: 0.8;\"><path d=\"M1,26.5 A0 0 0 0 0 1,26.5 L309,26.5 A0 0 0 0 0 309,26.5 L309,55.30434782608695 A0 0 0 0 0 309,55.30434782608695 L1,55.30434782608695 A0 0 0 0 0 1,55.30434782608695 Z\" style=\"fill: rgb(251, 180, 174);\"/><title>yes → Men\n*\n10.0</title></g><g class=\"link\" style=\"opacity: 0.8;\"><path d=\"M1,206.81521739130437 A100.80225333518403 100.80225333518403 0.5618258264736977 0 0 54.7006114744039,191.32028264442047 L238.4198829170977,75.66974551151684 A132.48703594387968 132.48703594387968 0.5618258264736977 0 1 309,55.30434782608695 L309,86.98913043478261 A100.80225333518403 100.80225333518403 0.5618258264736977 0 0 255.2993885255961,102.48406518166648 L71.58011708290229,218.13460231457012 A132.48703594387968 132.48703594387968 0.5618258264736977 0 1 1,238.5 Z\" style=\"fill: rgb(251, 180, 174);\"/><title>no → Men\n*\n11.0</title></g><g class=\"link\" style=\"opacity: 0.8;\"><path d=\"M1,55.30434782608696 A180.66469484670606 180.66469484670606 0.42517856208393834 0 1 75.52119701090461,71.38981202653147 L264.1820950592448,156.8151472678462 A108.65382528148868 108.65382528148868 0.42517856208393834 0 0 309,166.48913043478262 L309,238.5 A180.66469484670606 180.66469484670606 0.42517856208393834 0 1 234.47880298909539,222.4145357995555 L45.81790494075524,136.98920055824075 A108.65382528148868 108.65382528148868 0.42517856208393834 0 0 1,127.31521739130434 Z\" style=\"fill: rgb(251, 180, 174);\"/><title>yes → Women\n*\n25.0</title></g></g><g class=\"nodes\"><g class=\"node\" transform=\"translate(0,26.5)\"><title>yes</title><text dy=\".35em\" text-anchor=\"end\" transform=\"translate(-4,50.40760869565218)\" style=\"display: inline;\">yes</text><line x1=\"0\" x2=\"0\" y1=\"0\" y2=\"100.81521739130436\" style=\"display: inline; stroke: rgb(136, 136, 136); stroke-width: 4px;\"/><rect x=\"-5\" y=\"-5\" width=\"10\" style=\"fill: none; visibility: hidden; pointer-events: all;\" height=\"105.81521739130436\"/></g><g class=\"node\" transform=\"translate(0,206.81521739130437)\"><title>no</title><text dy=\".35em\" text-anchor=\"end\" transform=\"translate(-4,15.842391304347828)\" style=\"display: inline;\">no</text><line x1=\"0\" x2=\"0\" y1=\"0\" y2=\"31.684782608695656\" style=\"display: inline; stroke: rgb(136, 136, 136); stroke-width: 4px;\"/><rect x=\"-5\" y=\"-5\" width=\"10\" style=\"fill: none; visibility: hidden; pointer-events: all;\" height=\"36.684782608695656\"/></g><g class=\"node\" transform=\"translate(309,26.5)\"><title>Men</title><text dy=\".35em\" text-anchor=\"start\" transform=\"translate(4,30.244565217391305)\" style=\"display: inline;\">Men</text><line x1=\"0\" x2=\"0\" y1=\"0\" y2=\"60.48913043478261\" style=\"display: inline; stroke: rgb(136, 136, 136); stroke-width: 4px;\"/><rect x=\"-5\" y=\"-5\" width=\"10\" style=\"fill: none; visibility: hidden; pointer-events: all;\" height=\"65.48913043478261\"/></g><g class=\"node\" transform=\"translate(309,166.48913043478262)\"><title>Women</title><text dy=\".35em\" text-anchor=\"start\" transform=\"translate(4,36.00543478260869)\" style=\"display: inline;\">Women</text><line x1=\"0\" x2=\"0\" y1=\"0\" y2=\"72.01086956521738\" style=\"display: inline; stroke: rgb(136, 136, 136); stroke-width: 4px;\"/><rect x=\"-5\" y=\"-5\" width=\"10\" style=\"fill: none; visibility: hidden; pointer-events: all;\" height=\"77.01086956521738\"/></g></g><g class=\"slice-titles\"/></g></svg>"
      }
     },
     "072c93aaecff4f6d8be0d3aac0ed1a02": {
      "model_module": "jupyter-sankey-widget",
      "model_module_version": "^0.2.3",
      "model_name": "SankeyModel",
      "state": {
       "_model_module_version": "^0.2.3",
       "_view_module_version": "^0.2.3",
       "layout": "IPY_MODEL_5b7279e9b55c4b209f41c84a0951ccd2",
       "links": [
        {
         "bundles": [
          "0"
         ],
         "color": "#FBB4AE",
         "opacity": 1,
         "source": "farms^yes",
         "target": "customers^Men",
         "time": "*",
         "title": "*",
         "type": "*",
         "value": 10
        },
        {
         "bundles": [
          "0"
         ],
         "color": "#FBB4AE",
         "opacity": 1,
         "source": "farms^yes",
         "target": "customers^Women",
         "time": "*",
         "title": "*",
         "type": "*",
         "value": 25
        },
        {
         "bundles": [
          "0"
         ],
         "color": "#FBB4AE",
         "opacity": 1,
         "source": "farms^no",
         "target": "customers^Men",
         "time": "*",
         "title": "*",
         "type": "*",
         "value": 11
        }
       ],
       "margins": {
        "bottom": 10,
        "left": 130,
        "right": 130,
        "top": 25
       },
       "nodes": [
        {
         "direction": "r",
         "id": "farms^yes",
         "style": "process",
         "title": "yes",
         "visibility": "visible"
        },
        {
         "direction": "r",
         "id": "farms^no",
         "style": "process",
         "title": "no",
         "visibility": "visible"
        },
        {
         "direction": "r",
         "id": "customers^Men",
         "style": "process",
         "title": "Men",
         "visibility": "visible"
        },
        {
         "direction": "r",
         "id": "customers^Women",
         "style": "process",
         "title": "Women",
         "visibility": "visible"
        }
       ],
       "order": [
        [
         [
          "farms^yes",
          "farms^no"
         ]
        ],
        [
         [
          "customers^Men",
          "customers^Women"
         ]
        ]
       ],
       "png": "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",
       "scale": 2.880434782608696,
       "svg": "<?xml version=\"1.0\" standalone=\"no\"?><!DOCTYPE svg PUBLIC \"-//W3C//DTD SVG 1.1//EN\" \"http://www.w3.org/Graphics/SVG/1.1/DTD/svg11.dtd\"><svg xmlns=\"http://www.w3.org/2000/svg\" width=\"570\" height=\"300\" viewBox=\"0 0 570 300\" style=\"font-family: &quot;Helvetica Neue&quot;,Helvetica,Arial,sans-serif;\"><g class=\"sankey\" transform=\"translate(130,25)\"><g class=\"groups\"/><g class=\"links\"><g class=\"link\" style=\"opacity: 0.8;\"><path d=\"M1,26.5 A0 0 0 0 0 1,26.5 L309,26.5 A0 0 0 0 0 309,26.5 L309,55.30434782608695 A0 0 0 0 0 309,55.30434782608695 L1,55.30434782608695 A0 0 0 0 0 1,55.30434782608695 Z\" style=\"fill: rgb(251, 180, 174);\"/><title>yes → Men\n*\n10.0</title></g><g class=\"link\" style=\"opacity: 0.8;\"><path d=\"M1,206.81521739130437 A100.80225333518403 100.80225333518403 0.5618258264736977 0 0 54.7006114744039,191.32028264442047 L238.4198829170977,75.66974551151684 A132.48703594387968 132.48703594387968 0.5618258264736977 0 1 309,55.30434782608695 L309,86.98913043478261 A100.80225333518403 100.80225333518403 0.5618258264736977 0 0 255.2993885255961,102.48406518166648 L71.58011708290229,218.13460231457012 A132.48703594387968 132.48703594387968 0.5618258264736977 0 1 1,238.5 Z\" style=\"fill: rgb(251, 180, 174);\"/><title>no → Men\n*\n11.0</title></g><g class=\"link\" style=\"opacity: 0.8;\"><path d=\"M1,55.30434782608696 A180.66469484670606 180.66469484670606 0.42517856208393834 0 1 75.52119701090461,71.38981202653147 L264.1820950592448,156.8151472678462 A108.65382528148868 108.65382528148868 0.42517856208393834 0 0 309,166.48913043478262 L309,238.5 A180.66469484670606 180.66469484670606 0.42517856208393834 0 1 234.47880298909539,222.4145357995555 L45.81790494075524,136.98920055824075 A108.65382528148868 108.65382528148868 0.42517856208393834 0 0 1,127.31521739130434 Z\" style=\"fill: rgb(251, 180, 174);\"/><title>yes → Women\n*\n25.0</title></g></g><g class=\"nodes\"><g class=\"node\" transform=\"translate(0,26.5)\"><title>yes</title><text dy=\".35em\" text-anchor=\"end\" transform=\"translate(-4,50.40760869565218)\" style=\"display: inline;\">yes</text><line x1=\"0\" x2=\"0\" y1=\"0\" y2=\"100.81521739130436\" style=\"display: inline; stroke: rgb(136, 136, 136); stroke-width: 4px;\"/><rect x=\"-5\" y=\"-5\" width=\"10\" style=\"fill: none; visibility: hidden; pointer-events: all;\" height=\"105.81521739130436\"/></g><g class=\"node\" transform=\"translate(0,206.81521739130437)\"><title>no</title><text dy=\".35em\" text-anchor=\"end\" transform=\"translate(-4,15.842391304347828)\" style=\"display: inline;\">no</text><line x1=\"0\" x2=\"0\" y1=\"0\" y2=\"31.684782608695656\" style=\"display: inline; stroke: rgb(136, 136, 136); stroke-width: 4px;\"/><rect x=\"-5\" y=\"-5\" width=\"10\" style=\"fill: none; visibility: hidden; pointer-events: all;\" height=\"36.684782608695656\"/></g><g class=\"node\" transform=\"translate(309,26.5)\"><title>Men</title><text dy=\".35em\" text-anchor=\"start\" transform=\"translate(4,30.244565217391305)\" style=\"display: inline;\">Men</text><line x1=\"0\" x2=\"0\" y1=\"0\" y2=\"60.48913043478261\" style=\"display: inline; stroke: rgb(136, 136, 136); stroke-width: 4px;\"/><rect x=\"-5\" y=\"-5\" width=\"10\" style=\"fill: none; visibility: hidden; pointer-events: all;\" height=\"65.48913043478261\"/></g><g class=\"node\" transform=\"translate(309,166.48913043478262)\"><title>Women</title><text dy=\".35em\" text-anchor=\"start\" transform=\"translate(4,36.00543478260869)\" style=\"display: inline;\">Women</text><line x1=\"0\" x2=\"0\" y1=\"0\" y2=\"72.01086956521738\" style=\"display: inline; stroke: rgb(136, 136, 136); stroke-width: 4px;\"/><rect x=\"-5\" y=\"-5\" width=\"10\" style=\"fill: none; visibility: hidden; pointer-events: all;\" height=\"77.01086956521738\"/></g></g><g class=\"slice-titles\"/></g></svg>"
      }
     },
     "11ee13b8e6584d4cbda034ac8b56962c": {
      "model_module": "@jupyter-widgets/base",
      "model_module_version": "1.0.0",
      "model_name": "LayoutModel",
      "state": {
       "height": "300",
       "width": "570"
      }
     },
     "1f7e8510129b4631972424411fa5c015": {
      "model_module": "jupyter-sankey-widget",
      "model_module_version": "^0.2.3",
      "model_name": "SankeyModel",
      "state": {
       "_model_module_version": "^0.2.3",
       "_view_module_version": "^0.2.3",
       "layout": "IPY_MODEL_e2059fafda244dfa960c664e054653ff",
       "links": [
        {
         "bundles": [
          "0"
         ],
         "color": "#FBB4AE",
         "opacity": 1,
         "source": "farms^yes",
         "target": "customers^Men",
         "time": "*",
         "title": "*",
         "type": "*",
         "value": 10
        },
        {
         "bundles": [
          "0"
         ],
         "color": "#FBB4AE",
         "opacity": 1,
         "source": "farms^yes",
         "target": "customers^Women",
         "time": "*",
         "title": "*",
         "type": "*",
         "value": 25
        },
        {
         "bundles": [
          "0"
         ],
         "color": "#FBB4AE",
         "opacity": 1,
         "source": "farms^no",
         "target": "customers^Men",
         "time": "*",
         "title": "*",
         "type": "*",
         "value": 11
        }
       ],
       "margins": {
        "bottom": 10,
        "left": 130,
        "right": 130,
        "top": 25
       },
       "nodes": [
        {
         "direction": "r",
         "id": "farms^yes",
         "style": "process",
         "title": "yes",
         "visibility": "visible"
        },
        {
         "direction": "r",
         "id": "farms^no",
         "style": "process",
         "title": "no",
         "visibility": "visible"
        },
        {
         "direction": "r",
         "id": "customers^Men",
         "style": "process",
         "title": "Men",
         "visibility": "visible"
        },
        {
         "direction": "r",
         "id": "customers^Women",
         "style": "process",
         "title": "Women",
         "visibility": "visible"
        }
       ],
       "order": [
        [
         [
          "farms^yes",
          "farms^no"
         ]
        ],
        [
         [
          "customers^Men",
          "customers^Women"
         ]
        ]
       ],
       "png": "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",
       "scale": 2.880434782608696,
       "svg": "<?xml version=\"1.0\" standalone=\"no\"?><!DOCTYPE svg PUBLIC \"-//W3C//DTD SVG 1.1//EN\" \"http://www.w3.org/Graphics/SVG/1.1/DTD/svg11.dtd\"><svg xmlns=\"http://www.w3.org/2000/svg\" width=\"570\" height=\"300\" viewBox=\"0 0 570 300\" style=\"font-family: &quot;Helvetica Neue&quot;,Helvetica,Arial,sans-serif;\"><g class=\"sankey\" transform=\"translate(130,25)\"><g class=\"groups\"/><g class=\"links\"><g class=\"link\" style=\"opacity: 0.8;\"><path d=\"M1,26.5 A0 0 0 0 0 1,26.5 L309,26.5 A0 0 0 0 0 309,26.5 L309,55.30434782608695 A0 0 0 0 0 309,55.30434782608695 L1,55.30434782608695 A0 0 0 0 0 1,55.30434782608695 Z\" style=\"fill: rgb(251, 180, 174);\"/><title>yes → Men\n*\n10.0</title></g><g class=\"link\" style=\"opacity: 0.8;\"><path d=\"M1,206.81521739130437 A100.80225333518403 100.80225333518403 0.5618258264736977 0 0 54.7006114744039,191.32028264442047 L238.4198829170977,75.66974551151684 A132.48703594387968 132.48703594387968 0.5618258264736977 0 1 309,55.30434782608695 L309,86.98913043478261 A100.80225333518403 100.80225333518403 0.5618258264736977 0 0 255.2993885255961,102.48406518166648 L71.58011708290229,218.13460231457012 A132.48703594387968 132.48703594387968 0.5618258264736977 0 1 1,238.5 Z\" style=\"fill: rgb(251, 180, 174);\"/><title>no → Men\n*\n11.0</title></g><g class=\"link\" style=\"opacity: 0.8;\"><path d=\"M1,55.30434782608696 A180.66469484670606 180.66469484670606 0.42517856208393834 0 1 75.52119701090461,71.38981202653147 L264.1820950592448,156.8151472678462 A108.65382528148868 108.65382528148868 0.42517856208393834 0 0 309,166.48913043478262 L309,238.5 A180.66469484670606 180.66469484670606 0.42517856208393834 0 1 234.47880298909539,222.4145357995555 L45.81790494075524,136.98920055824075 A108.65382528148868 108.65382528148868 0.42517856208393834 0 0 1,127.31521739130434 Z\" style=\"fill: rgb(251, 180, 174);\"/><title>yes → Women\n*\n25.0</title></g></g><g class=\"nodes\"><g class=\"node\" transform=\"translate(0,26.5)\"><title>yes</title><text dy=\".35em\" text-anchor=\"end\" transform=\"translate(-4,50.40760869565218)\" style=\"display: inline;\">yes</text><line x1=\"0\" x2=\"0\" y1=\"0\" y2=\"100.81521739130436\" style=\"display: inline; stroke: rgb(136, 136, 136); stroke-width: 4px;\"/><rect x=\"-5\" y=\"-5\" width=\"10\" style=\"fill: none; visibility: hidden; pointer-events: all;\" height=\"105.81521739130436\"/></g><g class=\"node\" transform=\"translate(0,206.81521739130437)\"><title>no</title><text dy=\".35em\" text-anchor=\"end\" transform=\"translate(-4,15.842391304347828)\" style=\"display: inline;\">no</text><line x1=\"0\" x2=\"0\" y1=\"0\" y2=\"31.684782608695656\" style=\"display: inline; stroke: rgb(136, 136, 136); stroke-width: 4px;\"/><rect x=\"-5\" y=\"-5\" width=\"10\" style=\"fill: none; visibility: hidden; pointer-events: all;\" height=\"36.684782608695656\"/></g><g class=\"node\" transform=\"translate(309,26.5)\"><title>Men</title><text dy=\".35em\" text-anchor=\"start\" transform=\"translate(4,30.244565217391305)\" style=\"display: inline;\">Men</text><line x1=\"0\" x2=\"0\" y1=\"0\" y2=\"60.48913043478261\" style=\"display: inline; stroke: rgb(136, 136, 136); stroke-width: 4px;\"/><rect x=\"-5\" y=\"-5\" width=\"10\" style=\"fill: none; visibility: hidden; pointer-events: all;\" height=\"65.48913043478261\"/></g><g class=\"node\" transform=\"translate(309,166.48913043478262)\"><title>Women</title><text dy=\".35em\" text-anchor=\"start\" transform=\"translate(4,36.00543478260869)\" style=\"display: inline;\">Women</text><line x1=\"0\" x2=\"0\" y1=\"0\" y2=\"72.01086956521738\" style=\"display: inline; stroke: rgb(136, 136, 136); stroke-width: 4px;\"/><rect x=\"-5\" y=\"-5\" width=\"10\" style=\"fill: none; visibility: hidden; pointer-events: all;\" height=\"77.01086956521738\"/></g></g><g class=\"slice-titles\"/></g></svg>"
      }
     },
     "316481dccd0040968b9412a541630a44": {
      "model_module": "jupyter-sankey-widget",
      "model_module_version": "^0.2.3",
      "model_name": "SankeyModel",
      "state": {
       "_model_module_version": "^0.2.3",
       "_view_module_version": "^0.2.3",
       "layout": "IPY_MODEL_92b6030bcbca44199e134e01a9389148",
       "links": [
        {
         "bundles": [
          "0"
         ],
         "color": "#FBB4AE",
         "opacity": 1,
         "source": "farms^yes",
         "target": "customers^Men",
         "time": "*",
         "title": "*",
         "type": "*",
         "value": 10
        },
        {
         "bundles": [
          "0"
         ],
         "color": "#FBB4AE",
         "opacity": 1,
         "source": "farms^yes",
         "target": "customers^Women",
         "time": "*",
         "title": "*",
         "type": "*",
         "value": 25
        },
        {
         "bundles": [
          "0"
         ],
         "color": "#FBB4AE",
         "opacity": 1,
         "source": "farms^no",
         "target": "customers^Men",
         "time": "*",
         "title": "*",
         "type": "*",
         "value": 11
        }
       ],
       "margins": {
        "bottom": 10,
        "left": 130,
        "right": 130,
        "top": 25
       },
       "nodes": [
        {
         "direction": "r",
         "id": "farms^yes",
         "style": "process",
         "title": "yes",
         "visibility": "visible"
        },
        {
         "direction": "r",
         "id": "farms^no",
         "style": "process",
         "title": "no",
         "visibility": "visible"
        },
        {
         "direction": "r",
         "id": "customers^Men",
         "style": "process",
         "title": "Men",
         "visibility": "visible"
        },
        {
         "direction": "r",
         "id": "customers^Women",
         "style": "process",
         "title": "Women",
         "visibility": "visible"
        }
       ],
       "order": [
        [
         [
          "farms^yes",
          "farms^no"
         ]
        ],
        [
         [
          "customers^Men",
          "customers^Women"
         ]
        ]
       ],
       "png": "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",
       "scale": 2.880434782608696,
       "svg": "<?xml version=\"1.0\" standalone=\"no\"?><!DOCTYPE svg PUBLIC \"-//W3C//DTD SVG 1.1//EN\" \"http://www.w3.org/Graphics/SVG/1.1/DTD/svg11.dtd\"><svg xmlns=\"http://www.w3.org/2000/svg\" width=\"570\" height=\"300\" viewBox=\"0 0 570 300\" style=\"font-family: &quot;Helvetica Neue&quot;,Helvetica,Arial,sans-serif;\"><g class=\"sankey\" transform=\"translate(130,25)\"><g class=\"groups\"/><g class=\"links\"><g class=\"link\" style=\"opacity: 0.8;\"><path d=\"M1,26.5 A0 0 0 0 0 1,26.5 L309,26.5 A0 0 0 0 0 309,26.5 L309,55.30434782608695 A0 0 0 0 0 309,55.30434782608695 L1,55.30434782608695 A0 0 0 0 0 1,55.30434782608695 Z\" style=\"fill: rgb(251, 180, 174);\"/><title>yes → Men\n*\n10.0</title></g><g class=\"link\" style=\"opacity: 0.8;\"><path d=\"M1,206.81521739130437 A100.80225333518403 100.80225333518403 0.5618258264736977 0 0 54.7006114744039,191.32028264442047 L238.4198829170977,75.66974551151684 A132.48703594387968 132.48703594387968 0.5618258264736977 0 1 309,55.30434782608695 L309,86.98913043478261 A100.80225333518403 100.80225333518403 0.5618258264736977 0 0 255.2993885255961,102.48406518166648 L71.58011708290229,218.13460231457012 A132.48703594387968 132.48703594387968 0.5618258264736977 0 1 1,238.5 Z\" style=\"fill: rgb(251, 180, 174);\"/><title>no → Men\n*\n11.0</title></g><g class=\"link\" style=\"opacity: 0.8;\"><path d=\"M1,55.30434782608696 A180.66469484670606 180.66469484670606 0.42517856208393834 0 1 75.52119701090461,71.38981202653147 L264.1820950592448,156.8151472678462 A108.65382528148868 108.65382528148868 0.42517856208393834 0 0 309,166.48913043478262 L309,238.5 A180.66469484670606 180.66469484670606 0.42517856208393834 0 1 234.47880298909539,222.4145357995555 L45.81790494075524,136.98920055824075 A108.65382528148868 108.65382528148868 0.42517856208393834 0 0 1,127.31521739130434 Z\" style=\"fill: rgb(251, 180, 174);\"/><title>yes → Women\n*\n25.0</title></g></g><g class=\"nodes\"><g class=\"node\" transform=\"translate(0,26.5)\"><title>yes</title><text dy=\".35em\" text-anchor=\"end\" transform=\"translate(-4,50.40760869565218)\" style=\"display: inline;\">yes</text><line x1=\"0\" x2=\"0\" y1=\"0\" y2=\"100.81521739130436\" style=\"display: inline; stroke: rgb(136, 136, 136); stroke-width: 4px;\"/><rect x=\"-5\" y=\"-5\" width=\"10\" style=\"fill: none; visibility: hidden; pointer-events: all;\" height=\"105.81521739130436\"/></g><g class=\"node\" transform=\"translate(0,206.81521739130437)\"><title>no</title><text dy=\".35em\" text-anchor=\"end\" transform=\"translate(-4,15.842391304347828)\" style=\"display: inline;\">no</text><line x1=\"0\" x2=\"0\" y1=\"0\" y2=\"31.684782608695656\" style=\"display: inline; stroke: rgb(136, 136, 136); stroke-width: 4px;\"/><rect x=\"-5\" y=\"-5\" width=\"10\" style=\"fill: none; visibility: hidden; pointer-events: all;\" height=\"36.684782608695656\"/></g><g class=\"node\" transform=\"translate(309,26.5)\"><title>Men</title><text dy=\".35em\" text-anchor=\"start\" transform=\"translate(4,30.244565217391305)\" style=\"display: inline;\">Men</text><line x1=\"0\" x2=\"0\" y1=\"0\" y2=\"60.48913043478261\" style=\"display: inline; stroke: rgb(136, 136, 136); stroke-width: 4px;\"/><rect x=\"-5\" y=\"-5\" width=\"10\" style=\"fill: none; visibility: hidden; pointer-events: all;\" height=\"65.48913043478261\"/></g><g class=\"node\" transform=\"translate(309,166.48913043478262)\"><title>Women</title><text dy=\".35em\" text-anchor=\"start\" transform=\"translate(4,36.00543478260869)\" style=\"display: inline;\">Women</text><line x1=\"0\" x2=\"0\" y1=\"0\" y2=\"72.01086956521738\" style=\"display: inline; stroke: rgb(136, 136, 136); stroke-width: 4px;\"/><rect x=\"-5\" y=\"-5\" width=\"10\" style=\"fill: none; visibility: hidden; pointer-events: all;\" height=\"77.01086956521738\"/></g></g><g class=\"slice-titles\"/></g></svg>"
      }
     },
     "3185edb425604a9eb541150a444ea43b": {
      "model_module": "jupyter-sankey-widget",
      "model_module_version": "^0.2.3",
      "model_name": "SankeyModel",
      "state": {
       "_model_module_version": "^0.2.3",
       "_view_module_version": "^0.2.3",
       "layout": "IPY_MODEL_5e9ce81553184f9f8d81d3043ad317a2",
       "links": [
        {
         "bundles": [
          "0"
         ],
         "color": "#FBB4AE",
         "opacity": 1,
         "source": "farms^*",
         "target": "customers^Men",
         "time": "*",
         "title": "*",
         "type": "*",
         "value": 21
        },
        {
         "bundles": [
          "0"
         ],
         "color": "#FBB4AE",
         "opacity": 1,
         "source": "farms^*",
         "target": "customers^Women",
         "time": "*",
         "title": "*",
         "type": "*",
         "value": 25
        }
       ],
       "margins": {
        "bottom": 10,
        "left": 130,
        "right": 130,
        "top": 25
       },
       "nodes": [
        {
         "direction": "r",
         "id": "farms^*",
         "style": "process",
         "title": "farms",
         "visibility": "visible"
        },
        {
         "direction": "r",
         "id": "customers^Men",
         "style": "process",
         "title": "Men",
         "visibility": "visible"
        },
        {
         "direction": "r",
         "id": "customers^Women",
         "style": "process",
         "title": "Women",
         "visibility": "visible"
        }
       ],
       "order": [
        [
         [
          "farms^*"
         ]
        ],
        [
         [
          "customers^Men",
          "customers^Women"
         ]
        ]
       ],
       "png": "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",
       "scale": 2.880434782608696,
       "svg": "<?xml version=\"1.0\" standalone=\"no\"?><!DOCTYPE svg PUBLIC \"-//W3C//DTD SVG 1.1//EN\" \"http://www.w3.org/Graphics/SVG/1.1/DTD/svg11.dtd\"><svg xmlns=\"http://www.w3.org/2000/svg\" width=\"570\" height=\"300\" viewBox=\"0 0 570 300\" style=\"font-family: &quot;Helvetica Neue&quot;,Helvetica,Arial,sans-serif;\"><g class=\"sankey\" transform=\"translate(130,25)\"><g class=\"groups\"/><g class=\"links\"><g class=\"link\" style=\"opacity: 0.8;\"><path d=\"M1,66.25 A333.6952932731746 333.6952932731746 0.1572842447112306 0 0 53.26888105199893,62.130969261374425 L247.2563099609704,31.36568971954693 A394.18442370795725 394.18442370795725 0.1572842447112306 0 1 309,26.5 L309,86.98913043478261 A333.6952932731746 333.6952932731746 0.1572842447112306 0 0 256.73111894800104,91.10816117340818 L62.74369003902957,121.87344071523569 A394.18442370795725 394.18442370795725 0.1572842447112306 0 1 1,126.73913043478262 Z\" style=\"fill: rgb(251, 180, 174);\"/><title>farms → Men\n*\n21.0</title></g><g class=\"link\" style=\"opacity: 0.8;\"><path d=\"M1,126.73913043478262 A399.9452932731747 399.9452932731747 0.1572842447112306 0 1 63.64605279969916,131.6759305334649 L257.6334817086707,162.44121007529242 A327.9344237079573 327.9344237079573 0.1572842447112306 0 0 309,166.48913043478262 L309,238.5 A399.9452932731747 399.9452932731747 0.1572842447112306 0 1 246.35394720030084,233.56319990131772 L52.366518291329356,202.7979203594902 A327.9344237079573 327.9344237079573 0.1572842447112306 0 0 1,198.75 Z\" style=\"fill: rgb(251, 180, 174);\"/><title>farms → Women\n*\n25.0</title></g></g><g class=\"nodes\"><g class=\"node\" transform=\"translate(0,66.25)\"><title>farms</title><text dy=\".35em\" text-anchor=\"end\" transform=\"translate(-4,66.25)\" style=\"display: inline;\">farms</text><line x1=\"0\" x2=\"0\" y1=\"0\" y2=\"132.5\" style=\"display: inline; stroke: rgb(136, 136, 136); stroke-width: 4px;\"/><rect x=\"-5\" y=\"-5\" width=\"10\" style=\"fill: none; visibility: hidden; pointer-events: all;\" height=\"137.5\"/></g><g class=\"node\" transform=\"translate(309,26.5)\"><title>Men</title><text dy=\".35em\" text-anchor=\"start\" transform=\"translate(4,30.244565217391305)\" style=\"display: inline;\">Men</text><line x1=\"0\" x2=\"0\" y1=\"0\" y2=\"60.48913043478261\" style=\"display: inline; stroke: rgb(136, 136, 136); stroke-width: 4px;\"/><rect x=\"-5\" y=\"-5\" width=\"10\" style=\"fill: none; visibility: hidden; pointer-events: all;\" height=\"65.48913043478261\"/></g><g class=\"node\" transform=\"translate(309,166.48913043478262)\"><title>Women</title><text dy=\".35em\" text-anchor=\"start\" transform=\"translate(4,36.00543478260869)\" style=\"display: inline;\">Women</text><line x1=\"0\" x2=\"0\" y1=\"0\" y2=\"72.01086956521738\" style=\"display: inline; stroke: rgb(136, 136, 136); stroke-width: 4px;\"/><rect x=\"-5\" y=\"-5\" width=\"10\" style=\"fill: none; visibility: hidden; pointer-events: all;\" height=\"77.01086956521738\"/></g></g><g class=\"slice-titles\"/></g></svg>"
      }
     },
     "330fd14a42404d27b05b6902990596d1": {
      "model_module": "@jupyter-widgets/base",
      "model_module_version": "1.0.0",
      "model_name": "LayoutModel",
      "state": {
       "height": "300",
       "width": "570"
      }
     },
     "39622a8f272e459b89177b120a8633c2": {
      "model_module": "@jupyter-widgets/base",
      "model_module_version": "1.0.0",
      "model_name": "LayoutModel",
      "state": {
       "height": "300",
       "width": "570"
      }
     },
     "4a504ee858984e7eb3c3b2a95a2aafe6": {
      "model_module": "@jupyter-widgets/base",
      "model_module_version": "1.0.0",
      "model_name": "LayoutModel",
      "state": {
       "height": "300",
       "width": "570"
      }
     },
     "5b7279e9b55c4b209f41c84a0951ccd2": {
      "model_module": "@jupyter-widgets/base",
      "model_module_version": "1.0.0",
      "model_name": "LayoutModel",
      "state": {
       "height": "300",
       "width": "570"
      }
     },
     "5e9ce81553184f9f8d81d3043ad317a2": {
      "model_module": "@jupyter-widgets/base",
      "model_module_version": "1.0.0",
      "model_name": "LayoutModel",
      "state": {
       "height": "300",
       "width": "570"
      }
     },
     "7401efaa61444dd2a3709032408cd58c": {
      "model_module": "jupyter-sankey-widget",
      "model_module_version": "^0.2.3",
      "model_name": "SankeyModel",
      "state": {
       "_model_module_version": "^0.2.3",
       "_view_module_version": "^0.2.3",
       "layout": "IPY_MODEL_83360e2b6b1a41d99a6145aa2399de77",
       "links": [
        {
         "bundles": [
          "0"
         ],
         "color": "#FBB4AE",
         "opacity": 1,
         "source": "farms^yes",
         "target": "customers^Men",
         "time": "*",
         "title": "*",
         "type": "*",
         "value": 10
        },
        {
         "bundles": [
          "0"
         ],
         "color": "#FBB4AE",
         "opacity": 1,
         "source": "farms^yes",
         "target": "customers^Women",
         "time": "*",
         "title": "*",
         "type": "*",
         "value": 25
        },
        {
         "bundles": [
          "0"
         ],
         "color": "#FBB4AE",
         "opacity": 1,
         "source": "farms^no",
         "target": "customers^Men",
         "time": "*",
         "title": "*",
         "type": "*",
         "value": 11
        }
       ],
       "margins": {
        "bottom": 10,
        "left": 130,
        "right": 130,
        "top": 25
       },
       "nodes": [
        {
         "direction": "r",
         "id": "farms^yes",
         "style": "process",
         "title": "yes",
         "visibility": "visible"
        },
        {
         "direction": "r",
         "id": "farms^no",
         "style": "process",
         "title": "no",
         "visibility": "visible"
        },
        {
         "direction": "r",
         "id": "customers^Men",
         "style": "process",
         "title": "Men",
         "visibility": "visible"
        },
        {
         "direction": "r",
         "id": "customers^Women",
         "style": "process",
         "title": "Women",
         "visibility": "visible"
        }
       ],
       "order": [
        [
         [
          "farms^yes",
          "farms^no"
         ]
        ],
        [
         [
          "customers^Men",
          "customers^Women"
         ]
        ]
       ]
      }
     },
     "7c9230f93e544597bf83c24904e13f6e": {
      "model_module": "jupyter-sankey-widget",
      "model_module_version": "^0.2.3",
      "model_name": "SankeyModel",
      "state": {
       "_model_module_version": "^0.2.3",
       "_view_module_version": "^0.2.3",
       "layout": "IPY_MODEL_330fd14a42404d27b05b6902990596d1",
       "links": [
        {
         "bundles": [
          "0"
         ],
         "color": "#FBB4AE",
         "opacity": 1,
         "source": "farms^yes",
         "target": "customers^Men",
         "time": "*",
         "title": "*",
         "type": "*",
         "value": 10
        },
        {
         "bundles": [
          "0"
         ],
         "color": "#FBB4AE",
         "opacity": 1,
         "source": "farms^yes",
         "target": "customers^Women",
         "time": "*",
         "title": "*",
         "type": "*",
         "value": 25
        },
        {
         "bundles": [
          "0"
         ],
         "color": "#FBB4AE",
         "opacity": 1,
         "source": "farms^no",
         "target": "customers^Men",
         "time": "*",
         "title": "*",
         "type": "*",
         "value": 11
        }
       ],
       "margins": {
        "bottom": 10,
        "left": 130,
        "right": 130,
        "top": 25
       },
       "nodes": [
        {
         "direction": "r",
         "id": "farms^yes",
         "style": "process",
         "title": "yes",
         "visibility": "visible"
        },
        {
         "direction": "r",
         "id": "farms^no",
         "style": "process",
         "title": "no",
         "visibility": "visible"
        },
        {
         "direction": "r",
         "id": "customers^Men",
         "style": "process",
         "title": "Men",
         "visibility": "visible"
        },
        {
         "direction": "r",
         "id": "customers^Women",
         "style": "process",
         "title": "Women",
         "visibility": "visible"
        }
       ],
       "order": [
        [
         [
          "farms^yes",
          "farms^no"
         ]
        ],
        [
         [
          "customers^Men",
          "customers^Women"
         ]
        ]
       ],
       "png": "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",
       "scale": 2.880434782608696,
       "svg": "<?xml version=\"1.0\" standalone=\"no\"?><!DOCTYPE svg PUBLIC \"-//W3C//DTD SVG 1.1//EN\" \"http://www.w3.org/Graphics/SVG/1.1/DTD/svg11.dtd\"><svg xmlns=\"http://www.w3.org/2000/svg\" width=\"570\" height=\"300\" viewBox=\"0 0 570 300\" style=\"font-family: &quot;Helvetica Neue&quot;,Helvetica,Arial,sans-serif;\"><g class=\"sankey\" transform=\"translate(130,25)\"><g class=\"groups\"/><g class=\"links\"><g class=\"link\" style=\"opacity: 0.8;\"><path d=\"M1,26.5 A0 0 0 0 0 1,26.5 L309,26.5 A0 0 0 0 0 309,26.5 L309,55.30434782608695 A0 0 0 0 0 309,55.30434782608695 L1,55.30434782608695 A0 0 0 0 0 1,55.30434782608695 Z\" style=\"fill: rgb(251, 180, 174);\"/><title>yes → Men\n*\n10.0</title></g><g class=\"link\" style=\"opacity: 0.8;\"><path d=\"M1,206.81521739130437 A100.80225333518403 100.80225333518403 0.5618258264736977 0 0 54.7006114744039,191.32028264442047 L238.4198829170977,75.66974551151684 A132.48703594387968 132.48703594387968 0.5618258264736977 0 1 309,55.30434782608695 L309,86.98913043478261 A100.80225333518403 100.80225333518403 0.5618258264736977 0 0 255.2993885255961,102.48406518166648 L71.58011708290229,218.13460231457012 A132.48703594387968 132.48703594387968 0.5618258264736977 0 1 1,238.5 Z\" style=\"fill: rgb(251, 180, 174);\"/><title>no → Men\n*\n11.0</title></g><g class=\"link\" style=\"opacity: 0.8;\"><path d=\"M1,55.30434782608696 A180.66469484670606 180.66469484670606 0.42517856208393834 0 1 75.52119701090461,71.38981202653147 L264.1820950592448,156.8151472678462 A108.65382528148868 108.65382528148868 0.42517856208393834 0 0 309,166.48913043478262 L309,238.5 A180.66469484670606 180.66469484670606 0.42517856208393834 0 1 234.47880298909539,222.4145357995555 L45.81790494075524,136.98920055824075 A108.65382528148868 108.65382528148868 0.42517856208393834 0 0 1,127.31521739130434 Z\" style=\"fill: rgb(251, 180, 174);\"/><title>yes → Women\n*\n25.0</title></g></g><g class=\"nodes\"><g class=\"node\" transform=\"translate(0,26.5)\"><title>yes</title><text dy=\".35em\" text-anchor=\"end\" transform=\"translate(-4,50.40760869565218)\" style=\"display: inline;\">yes</text><line x1=\"0\" x2=\"0\" y1=\"0\" y2=\"100.81521739130436\" style=\"display: inline; stroke: rgb(136, 136, 136); stroke-width: 4px;\"/><rect x=\"-5\" y=\"-5\" width=\"10\" style=\"fill: none; visibility: hidden; pointer-events: all;\" height=\"105.81521739130436\"/></g><g class=\"node\" transform=\"translate(0,206.81521739130437)\"><title>no</title><text dy=\".35em\" text-anchor=\"end\" transform=\"translate(-4,15.842391304347828)\" style=\"display: inline;\">no</text><line x1=\"0\" x2=\"0\" y1=\"0\" y2=\"31.684782608695656\" style=\"display: inline; stroke: rgb(136, 136, 136); stroke-width: 4px;\"/><rect x=\"-5\" y=\"-5\" width=\"10\" style=\"fill: none; visibility: hidden; pointer-events: all;\" height=\"36.684782608695656\"/></g><g class=\"node\" transform=\"translate(309,26.5)\"><title>Men</title><text dy=\".35em\" text-anchor=\"start\" transform=\"translate(4,30.244565217391305)\" style=\"display: inline;\">Men</text><line x1=\"0\" x2=\"0\" y1=\"0\" y2=\"60.48913043478261\" style=\"display: inline; stroke: rgb(136, 136, 136); stroke-width: 4px;\"/><rect x=\"-5\" y=\"-5\" width=\"10\" style=\"fill: none; visibility: hidden; pointer-events: all;\" height=\"65.48913043478261\"/></g><g class=\"node\" transform=\"translate(309,166.48913043478262)\"><title>Women</title><text dy=\".35em\" text-anchor=\"start\" transform=\"translate(4,36.00543478260869)\" style=\"display: inline;\">Women</text><line x1=\"0\" x2=\"0\" y1=\"0\" y2=\"72.01086956521738\" style=\"display: inline; stroke: rgb(136, 136, 136); stroke-width: 4px;\"/><rect x=\"-5\" y=\"-5\" width=\"10\" style=\"fill: none; visibility: hidden; pointer-events: all;\" height=\"77.01086956521738\"/></g></g><g class=\"slice-titles\"/></g></svg>"
      }
     },
     "83360e2b6b1a41d99a6145aa2399de77": {
      "model_module": "@jupyter-widgets/base",
      "model_module_version": "1.0.0",
      "model_name": "LayoutModel",
      "state": {
       "height": "300",
       "width": "570"
      }
     },
     "8947b091b43441e0b1094a6786390741": {
      "model_module": "@jupyter-widgets/base",
      "model_module_version": "1.0.0",
      "model_name": "LayoutModel",
      "state": {
       "height": "300",
       "width": "570"
      }
     },
     "8bf4092c5eb742a1b0cacc30efc759a7": {
      "model_module": "jupyter-sankey-widget",
      "model_module_version": "^0.2.3",
      "model_name": "SankeyModel",
      "state": {
       "_model_module_version": "^0.2.3",
       "_view_module_version": "^0.2.3",
       "layout": "IPY_MODEL_39622a8f272e459b89177b120a8633c2",
       "links": [
        {
         "bundles": [
          "0"
         ],
         "color": "#FBB4AE",
         "opacity": 1,
         "source": "farms^yes",
         "target": "customers^Men",
         "time": "*",
         "title": "*",
         "type": "*",
         "value": 10
        },
        {
         "bundles": [
          "0"
         ],
         "color": "#FBB4AE",
         "opacity": 1,
         "source": "farms^yes",
         "target": "customers^Women",
         "time": "*",
         "title": "*",
         "type": "*",
         "value": 25
        },
        {
         "bundles": [
          "0"
         ],
         "color": "#FBB4AE",
         "opacity": 1,
         "source": "farms^no",
         "target": "customers^Men",
         "time": "*",
         "title": "*",
         "type": "*",
         "value": 11
        }
       ],
       "margins": {
        "bottom": 10,
        "left": 130,
        "right": 130,
        "top": 25
       },
       "nodes": [
        {
         "direction": "r",
         "id": "farms^yes",
         "style": "process",
         "title": "yes",
         "visibility": "visible"
        },
        {
         "direction": "r",
         "id": "farms^no",
         "style": "process",
         "title": "no",
         "visibility": "visible"
        },
        {
         "direction": "r",
         "id": "customers^Men",
         "style": "process",
         "title": "Men",
         "visibility": "visible"
        },
        {
         "direction": "r",
         "id": "customers^Women",
         "style": "process",
         "title": "Women",
         "visibility": "visible"
        }
       ],
       "order": [
        [
         [
          "farms^yes",
          "farms^no"
         ]
        ],
        [
         [
          "customers^Men",
          "customers^Women"
         ]
        ]
       ],
       "png": "iVBORw0KGgoAAAANSUhEUgAAAjoAAAEsCAYAAADKLxnbAAAgAElEQVR4nO3de5hjVZnv8RdoDqigOLYMRzlHeERkRkZRRmG84oiKyKgwqCh4dwAFFAfkqOhYKNqtqGDbCkd0WhCbnnTetSt5V9KUqAG5tdByV1ABRXHUQeTqsbPXrlnnj53SqqLoru6uZOXy/TzP73m6dlKhsvbtR7KSLQIAAAAAAAAAAAAAAAAAAAAAAAAAAAAAAAAAAAAAAAAAAAAAAAAAAAAAAAAAAAAAAAAAAAAAAAAAAAAAAAAAAAAAAAAAAAAAAAAAAAAAAAAAAAAAAAAAAAAAAAAAAAAAAAAAAAAAAAAAAAAAAAAAAAAAAAAAAAAAAAAAAAAAAAAAAAAAAAAAAAAAAAAAAAAAAAAAAAAAAAAAAAAAAAAAAAAAAAAAAAAAAAAAw2/JkiVjU1m1/IuWez2aEEIGNauWf9FWLf+iTR3XUh9jASS2dOnSOD25d+sIIWRQM/uYlvoYCyAxig4hZJhC0QEwA0WHEDJMoegAmIGiQwgZplB0AMxA0SGEDFMoOgBmoOgQQoYpFB0AM1B0CCHDFIoOgBkoOoSQYQpFB8AMFB1CyDCFogNgBooOIWSYQtEBMANFhxAyTKHoAJiBokMIGaZQdADMQNEhhAxTKDoAZqDoEEKGKRQdADNQdAghwxSKDoAZKDqEkGEKRQfADBQdQsgwhaIDYAaKDiFkmELRATADRYcQMkyh6ACYgaJDCBmmUHQAzEDRIYQMUyg6AGag6BBChikUHQAzUHQIIcMUig6AGSg6hJBhykaKzvUiEkXki49wSHxm5/YoIvt08dALoFcoOoSQYco8i86vRGSrOQ6JY0LRAYYLRYcQMkyZR9FZJ2WR2W+OQ+JNInKtUHSA4UHRIYQMU+ZRdL4pIreKyGdn3banlAXnY/LwonOciPxERNaLyI0icuSs310vIu8XkXNF5B4R+aOIqIjstMUHaQBbhqJDCBmmzKPoVETkUyJy+6zbPiwid4rIITKz6JwqIv8tIstE5DAROavz8zHTfne9iPxJRM4Ukb1F5IjOsi8s0KEawOZ6WNGxbFXu3Tdzryty03Nzq55deF0WvPtCMPfZ4N3p7bp+JK/rCYV3byvq1X8Olr0i99m+hBCy0Al+/PmFjf9T7t3b8rr7QPDutODd0mDu83ldl+WmX8m9+2rudUVed9+cR9GpishzpCwzz5522zopS8z0orNYysJy5qzHOV/KeT5T1otIa9Z9VovINVtweAawEBbyFZ3g9fLgnc+9uyCYOyuYntI2d2TIsgOiVZ8WW63tUz9fAP0nNpu7Bq8H5nU9pm368cLrl4Pp6uDdpV14Rafa+fcdInJ6599PkbLcvEhmFp3DO//ed9bjHNZZvmvn5/VSviI03XIR+emWjQyALdbzt67MfacwPS+YfnrSZ+8JvvrKuCbbLfU4AOi+WKlsEy+q7FHU3SGhpicVVv1qaLhLevzW1VTROUNEbun8+wMi8lsR2VpmFp3jOv8u5kgUkWd1fn+9iJw467+1XERuW6ChA7C5+mWOTvB6eeHdN9p1d2rR1MPbtdoz44oVvAIEDLDYvOCx0bIDQt2dXL4l3hdzdKaKzv5SlpVniMjlInJOZ/n0ovOWzr8PlnLuzexMHaMoOkC/6pei80hpezfe9rq0Xa/+c5yo7556vAA8sti84LEhyw4INT0pr7uVwes1vT5mbELR2UrKeTZni8ikiLyis3x60dldyonHR896nJNE5DIR2abzM0UH6Ff9XnRmJ3i9OJj7bOHdEXFN5ekxxrm+9AtAj+R13T/U9KTc9MLUx4dNLDoi5Tck/7eI/EFEtu0sm/2pq6+KyINSzsE5TMq3vHIR+eC0x6HoAP1q0IrOw4uPu7Tw2bLCZ0fxig/QfbHV2j768QODd6fnpgs6vyZB0XmxlKXmvGnLZhedbaT8xuS7pCw0t4rICbMel6ID9KtBLzqz0/ZuPFj1X2Oj9vex1VqUenyBYRBb2U5t7w4L5r4YTK9KvZ9vQdEBMGqGrehMT2i4S9rmlhTN7FWxVtsx9VgDgyQ2l21XWPV1hXdfT70vU3QAbLZhLjoPi+m5RVMPp/QAjyw2m7uGujs5mGsl32cpOgC21EgVnU6C6VW56eeC15fGdeu23fgoAcMttlqLgq++srDqV1PvnxQdAAtqFIvOzNLjWm3Tj+bN6rM3PlrAcIm12l/n5t4XvF6cel+k6ADoilEvOtPTNr1o0mfviWaLU68XoJtis/nESXMf6veJxRQdAFuMojNHTNcGr5+ItcoeqdcPsJCirVw86d3Jwbsrk+9nFB0AvUDR2Vj0nLjGvTD1egK2RPT+8ZMN94Hg9Yr0+xRFB0APUXTml3a9Wi1s/FAmL2OQxOYFj83NvS+v6+Wp9yGKDoAkKDqblmD63dzcsbGV7ZR63QGPJFYq27Rr1aMW+srggxCKDoAZKDqbl+D1inbdnRqbzV1Tr0NgurxZfXYwdan3kVSh6ACYgaKzZQler8nremZ+kT4n9brEaIsTbudg+pnU+0TqUHSAwXChiPxOyovJTdlKyovKTb/43HEi8hMpLyh3o4gcOetx9haRCRG5X0QeEJG6iMy48CVFZ0HzzWDZK+LY2NYLuTEAGxLXrds2N333KM3D2VAoOsBgmLp67kumLXt+Z9krOz+fKiL/LSLLROQwETmr8/Mxndu3F5FfiYgXkYNF5M0icoOUhWirqQel6Cx8glWt3dA3xysrj+rWBgKIiMSm7h9Ma6m3+X4KRQcYDNuKyO+lLDFTviB/eZVnsZSv4pw56/fOl7LciIg8W8pi9LJptz9TRKoi8ripBRSdLsb0kkmvJ/AFhFho0VYu5m2quUPRAQbH2VK+VTX16sudIrK88+/DpSwx+876ncM6y3cVkceKyN0i8gsROblz361m3Z+i04uYrg3enRYn6rvPHn9gUxVNPXwUP00131B0gMHxQilLy/4i8rzOv5/fue24zs/FHIki8qzO/Z4mIv8uZeGJIvJbKUvPn1F0epvC65djU/fv5oaD4RSz7KmF6fmpt+F+D0UHGBxbSflqzBki8lkR+bn85RWZt0hZXA6WcsLx7Gw/x2M9S8pXhKKIHDB1A0UnTdqmq4q6OyS2Wou6tP1gSJSTjavHB69rU2+3gxCKDjBYlojI7Z18ctry3aWceHz0rPufJCKXSTmP510i8keZWXoe1fm9P386i6KTNm3Ti/KGvj1WKjss+NaDgZf7bN/g3Xjq7XSQQtEBBsveUr4CE0Vkz1m3fVVEHhSRD0s5N+cMEclF5IOd23eR8iPlF4nIoVK++pNJ+VHzJ009CEWnPxLMfT/U3cmxUdmle5sTBkXMsp3app9MvV0OYig6wOC5VUS+P8fybURkTMoJy+s79zth1n1eLiJXd26/V0RaIrLf9DtQdPorwfQHbXNL4prK0xd2M8KgKLy+Jph+N/W2OKih6ACDZepj5LO/CHDBUHT6OKbnhoa+uFvrHv0lNpu75qbnJt/uBjwUHWAwbC8iR4jIf4jIr0Xkf3TrP0TR6f8E77Tt3WFcOX04xVZrUe716ODdlam3tWEIRQcYDH8lIm0RuUPKt5+6hqIzOAleL869Hh0vrjxu42sWgyDPKvuM8gU4uxGKDoAZKDqDl+D1iknTD3Pl9MEVa7Udg9ePBa/XpN6ehi0UHQAzUHQGN8HrNaHhPh8b2T6ptyPMX9HMXlW+Opd+GxqEBHOtvJGtyr1+KXj9WF7XYwobPzT48efn5p4VrbpXXJPtFi/S/xkrlb+KExOPSb2OAfQRis5wpPDuG9GPHxhjfNhlPtAfYq32pNzrOam3lX5NMPf93OuK4PUjhXevj41sn2j26NTrDcCAo+gMV4Jpve3dEXHFitnfjo2ECnPvSL1t9Fva3o1Pmn44+vEDeRsWQNdQdIYzwVwrt+rx0Z33hNTb2CiLZnu1TVel3h76IW1T3zYdK2r66jjhdk69bgCMCIrOcCeYXtU2HePK6b0VzR4d/Or/E0yvTr0NJN3+vNNJc8fGiyp7pF4nAEYURWeUol/KG9X9Nr5VYEuEpvvHUNc16dd3mpQfl9f3Rqs+LfW6AACKziim7lYWVj04VirbpN7+hkmccDvn5s5Kvn4TJHj9XqjpSdFsr9TrAQBmoOiMboK5Zm7urXwcd8vEGLcqGtU3lZ8aSr9ee7f96A9yc2eFpvvH2GotSr0eAGBOFB0SvLs0WPVfmSC66WLD7Zl7d0HqddjT7cW0XjT07dFWLk49/gCwURQdMu0E9oPg3ae4cvrGxVZr+8mG+0Aw/UHq9dartE19YeOH8pYngIFC0SFzpfD6f+Ma98LU22c/CjV9QfDaSL2OepVQ1zXtevYG3p4CMJAoOmRDader1WjZ67hyuki0lYuD16Wp10mvErz7druhb2bdAxhoFB0ynwTvvp2bvjvWajum3mZTaJsenptekno99GZd6xW51/fGVotv1wYw+Cg6ZFMSvF4erPqhaJUnp952eyFmF+6We12Retx7lbbXpbFR2SX1uAPAgqHokM1JML06N/1cbu5Zqbfhbojr1m2bW/W43HRt6rHuSepuZbtWe2bqcQeABUfRIVseXRFs9cuG5crpuVWeF0xr6ce1+wnmWoVVX5d6zAGgayg6ZKESvBtv17M3DOqV02OW7RS8fiL1OPZwfZ0Ws2yn1OMOAF1F0SELnWD63XIy6+CcRAur/lP5d6cfv66vH+/Gc5/tm3rMAaAnKDqkWwmmV4W6+7fY0Kek3s4fSWw2d81Nz009Vj2J6drcqsfxcXEAI4WiQ7qd4PWaYO6LeV2fm3p7nxJbrUVF0/1L8O7K1OPTixSm58fswt1SjzsA9BxFh/Q0pt+KDXdQyssI5Flln2Dqko9FDxIa7pKiqYenGmsASI6iQ1IkeG0UPjuql1dOj7XajqGhHw1er0n9/Hsyxqaf4cKbAEYeRYekTGi4S3KvJ3b7yumhVjkoePft1M+3J2PqtRFq+oJujicADAyKDumHBK9r2/Xq6bFW2WMht+9YqeySW3V56ufXkzE0vTrU9CQu3QAA01B0SP9Fz9nSVyTi2NjWua++LXi9PP3z6X7apquiVZ+2UMcFABgaFB3SrwneVYrG6tfGVmvRpmzT0Wyvtumq1H9/T1LXywufHRXHxrbu1jECAAYaRYf0e4K5idy7d27syunR7NHB9JRgenXqv7knseryWOECnACwQRQdMjCp6+XB9JS5rpwevL401HVN8r+xBwnmJoJlr0hxvACAgUPRIYOWYHp1MPfZtnd/E5vNJ+bmzkr9N/XkeXu9pl13p8ZKZYfUxw0AGBgUHTKICd6tK7y7PZj+Nnj3k9R/T9efr6lre7d36uMFAAwcig4ZtATvbgpe7wk+e2gquem9ba+35979MPXft8DP9cqioe/e1AnZAIAOig4ZlATvfliY+2Xw+tD0kjMj5h7ITe/MvV6f+u/d4pieG5vNXVMfIwBgoFF0yEDE9Jbg9b5HLDizknt9qG3u18G7G5P/7ZuYYPrdwutrUh8bAGAoUHRIPyd4d13w+pv5FpyHRx8K5n6Xe/fj1M9lPmnXq6fHLNsp9XEBAIYGRYf0awrvbgvePbD5JWf2qzzunuDdT1M/r7kSrGp5o7pf6uMBAAwdig7ptwTvbiy8u3uhCs4cr/Lcl1t2R97Qa9M/V1076fWE2Fy2XepjAQAMJYoO6ZuY+2Hu9c4NTjZewOSmD+bmfhm8SzJxuTA9P2bZU1MfAwBgqFF0SJ/kx8Hcvb0oOHPN42l7/c/cu5t68VyDd5e2Td+Yet8HgJFA0SEpE7y7rvDu12kKzhwx/a/c3K1de87mzoruvCek3u8BYGRQdEiqFKY/C97dn7zczPW2lnd/yL27LffZgjzXYK4ZsuyA1Ps7AIycJUuWHDAVO+crx0bLDiia2ava3h3WNndkbvruSa8nBNNT2qYfb3tdGsydldf1a8FcK/XJkgxeQsPdEKybk40XMu7+vOF+vrkTl4Pp1ZMN98Fo9ujU+zoAYDNEW7k4t8rz2rXqUW3TscL0vNQnUtKfCd6ty73+Inj3YPoCs4mv8Fj1oeD1rtBwN8z3+bZNV0WzvVLvowCALogNfUq07IDc3LG56eeC10bqEy1Jl+DdzYV3f0hdWBboVZ7f5N7d/MjPVS/PffVtcWxs69T7IQCgh6LZ4uD1wMmG+0DudUUwvSr1CZh0ueCYXlt4d1evPjLe05i7O3/YldP1nFip7JJ6XwMA9IG4YsX20bIDgtdPMN9nGKM/7dfJxguZ3PTeYHpDbLhDUu9TAIA+ltd1/7bpR4PX76U/SZPNTfDu+mDud6kLSA9f2fl1sOza3Nx3cnPHxhbXqgIAbECsVLYJfvxFwevS4N2VqU/cZN4FZ13hszuC6cBNNt6clHOO3I8ePg56RfD6kdhs7pp6XwIA9LlYqexQWPV1hXffSH0iJxuI6c3Bu3tSl48eFZwHC+9+EeY1Lu6svFl9dur9CAAwAGLD7Rm8fqz8VEsfnNzJurycbPyroZxsPHfJuXtTPmI+lcL0/FBzL+eTWACAjYqVyg7tWvWotnfjyU/0I5zQyG4N3t2Xunz0JOYeyL27bYvHzLReNKpvildWHpV6PwIADIBQdy/J6/q11Cf9UUrw7vrCu98mLx+9exXnP4N31y3oGJprTVp2PNe9AgDMS9u7vwlelwbTH6QuAsOacrKxu73w7oHU5aNHBefe3PSWro6r6dpg2VicqO+eeh8CAAyA2KjsMtlwHwyml6UuBkMVczcFryMx2Th4fSg398vg3Q97O8bV5Xld90+9DwEABkCs1XbMvXtnMDeRvCQMcIJ3PyxP+qMx2Th4vSc3d1PScTe9sKjpq2OrtSj1fgQA6HOx1VpUNFa/NpiuTl0aBi6mtxTe3Zu+fHQ/hXcPFN7dPq+PjPcooa5rcl99W6xUdki9HwEABkCwyguLhjsn9Qms3xO8uy54/U3q8tHDkvPb4N31qcf9EdeHue+Hmp4UJ9zOqfchAMAAiGsqTw/efYqJy3PmtmCjMdk4eHdf/rCLcvZvgukPgumn45rK01PvQwCAARAn3M7Bqv8azH0/9UksdYJ3Nxbe3Z2+fPQi+lAwvSs3vTb1uG9uCqt+NfjxF6XehwAAAyBWKjvkvvq2ck5E+pNYT2Puh7npnaMz2dj9IXh3c/JxX6AE02ph44fGdeu2Tb0fAQD6XGy1FhV1d0jbdFXqE1iP8uNgozHZOJh7sPDu5/002XhBC4/Xi4um+5d4ceVxqfcjAMAAiE3dv/D65dQnsO6cFN11hXe/Tl4+ehb9r2C6ydenGsQEr5dPmvtQtMqTU+9DAIABEGuVPYLXT+Sma1OfxBYkpj8L3t2fvnz0Iu7+3PRnycc8ReExvTr47HN5Vtkn9T4EABgA0Wxxbtn7Q8NdkvoktpknvhuCjcpk4+yh4N2vg2UDO9l4QWPVbwSvB8YYt0q9HwEA+ly8svKodq16VPDOJz+BzafgeLcu9/qL4N2D6ctHD2Lu3ty7H6ce935MMK21Td8YV6zYPvV+BADoc7FS2SY23EG56bdSn8A2UHJuLj9l1AcFpOvRh3LTO3Pr8fWpBjDB6/dyqx7HldMBAPOSW+V5udcvpT6B/flEZnpt8O6uUfnIePn9P+7G1OM+aAmmV7VNP86V0wEA8xIn6ru3TceC6VXJTmCmPx2hycYPFN7dlrowDEMKny3LrfK81PsQAGAARHfeEyYtOz6Ya/XqRBW8uz6Y+1368tGr6G+Cd9elLghDl7pbWTSzV8VKZZvU+xEAoM/FFSu2LxrVNwWrWhcLzrrCZ3cE09GYbOz1vuDdLckLwZAneG0U9ewtcWLiMan3IwDAAIh+/MDcuwsW9IRkenPw7p705aMnBeehouF+GTyTjXtaeEwvm2y4D8ZGZZfU+xAAYADkPts3N3dW8HrNFhSca4N3vxqVycbB6z3Bu5tSn/RHOcH06tBwn2ceDwBgXmJDnxIa+tHg3ZWbdsLJbg3e3Ze+fPQgpg/mpncM6/WpBjXBtNquZ2+IZo9OvR8BAPpcbGU7TfrsPcH0uxs8uZTXp/pt8vLRs5Ljfhe8uz71SZ1ssPBcFrw7La/rc/nWZQDABsXmsu3a9ewNwbvx2SeUwrvbg3cPJC8fPUjRcPcF736S+iRONrH0eG3kVj0+Npu7pt6XAAB9LMa4VbDVL8ut+o3c3E3B3O9Tl4/eRB8KXu8KplyfasATTKuT3p0c/PiLYqvF5SYAADPF5rLtcsveH7y7MXj3m/QlpNtxfwje3Zz6BE26FNNz87q+K064vVPvWwCAxPJGdb+Hfe9Ow90YvN6V27B9yso92LngaPqTMelJgrlW21fPaJsezttcADBCovePD6af3siJ4rrc9M5gQzBfx9zdoeFuSH3iJYlj7ju513NCTU8qGqtf265XnxGby7ZLvT8CABZQYeOHburlItpeb89N701eWDb9VZz7C9OfJT/Bkr5O2/SivK5fC96dlns9uqi7Q/KL9Dkxu3C32Lzgsan3WQDAPMTswt1yryu27KSgPwne3Z2+wMwn+p9cn4osVEJd1+Sm38rNnR189QvBu0+Fhn509fIvffs/vrTML1myZGzJkiVjqfdzABg5cd26bSfNHZubrl3AA//N5YUu+3Aej7l7c+9+nPrESEYjS5cujdOTen8HgJGS+2zfub4rZ6ESGnpDsH6ZuKwPFV7vzI3rU5HehaIDAAnEWm3HtulYDw/41+Wmvwjm7k/0Ks7vc+P6VKT3oegAQI8VNX11+emSBAf+8tWU23o3cdk9kHu9PfXJjoxuKDoA0COxVntS7vWc1Af+P8fcrcG6N3G58O43uSnXpyJJQ9EBgC6LrdaivK7vCl6vSH3Qnzt6c/kJqIWax6P3Be9uSf+8CKHoAEBXtb3bO5iuTn2wn0+Cd9cH734VTB/c3MnGwbtfBc9kY9I/oegAQBfESmWH4PUjwes1qQ/0m5yGXpt7/XnwmzJx2d2Tm3J9KtJ3oegAwAILNffy4PWi1Af4LU+2LvfuttzcHx7501T6YOGzO7g+FenXUHQAYIHESmWX3KrLUx/Yu5KGuzWfPXHZ3O+Cd0w2Jn0dig4AbKE4NrZ14bOj8rpenvqg3oPclJvekZu7tQ/+FkI2GooOAGyBaLZX23RV6oN5LxK8XhMa+tFYqewQzRZPej0xeHdp6r+LkA2FogMAmyG2WtuHujs5mF6d+kDeiwRTl2eVfR42DhMTjynq2VuC10bqv5GQuULRAYBNFGr6glE5sQfTq3KvR8dWa9GGxiRWKtsUVj04r7uVqf9mQqaHogMA8xRt5eK2r56R+sDds5ieG5vNXTd1nPJGdb+hnZRNBi4UHQCYh7bpG0dlPkrw+r2isfq1WzpmcaK+e7BsLDddm/o5kdENRQcANiBm2VML0/NTH6x7leDd6dH7xy/oGLrznjDp9YTc9JLUz4+MXig6ADCH2Fy2XW7ufcGPxqsRwaqWN6r7dXVMr6w8qt3QN7dNfernS0YnFB0AmCVvVPcLVrXUB+heJHhdm5t7X2wu265X4xvHxrYOvvrKtrkLUj9/Mvyh6ABAR/T+8cG7T6U+MPcqhen5McuemnLM81r174O5swbymmBkIELRAQARiZa9LphrpT4o9yLBu0vb3h2Resyniw19SvD6seDdlanHhwxXKDoARlrMLtwt97oi9cG4ZzF3Vmw2n5h63B9JbGU75V7fG7x+L/lYkaEIRQfASIqt1qLc3LHlF+KlPxh3O6Gua4LXl6Ye9/mKK1Zs3zZ9YzCtpR47Mtih6AAYOXlW2SeYutQH4F4kmF4dTE+JZo9OPe6bI8a4VfB6YOHdN1KPJRnMUHQAjIxoKxcHr59IfeDtWRrZqrZ3e6ce94USG9k+oeE+z8Rlsimh6AAYenHFiu1zr0fndb089UG3FwleL88b+vY4NrZ16rHvhths7hq8fiR4vSL1WJP+D0UHwFArrHpwMNdMfbDtXfScWKs9KfW490K8uPK4vK7HBHPfST/upF9D0QEwlNqN8b8bpUs35Oa+ExvuoNTjnkJsLtuubXp4MM2SrwfSd6HoABgqcU3l6YXPlqU+uPYybdOPx1ptx9Rj3w+C15cW5v499Toh/ROKDoChEGuVPYKvfiH1QbWXCaYuzyr7pB77ftSu1Z7Z9tUzgunVqdcTSZsNFJ0vi0gUkV1mbT5Hd5Z/fo5N6/cicll3tloAmEOcqO8eTD8zSp/ECaZX5eaOja3WotTj3++iVZ4crPqh4EdjIjp5eDZQdF4vZaF53azNptJZfsOs5U/rLP9k1zZYABARievWbRsb7qDc3NmjVHDK6IqYXbhb6nUwaGKttmPR0HcH776dfh2SXmYDReeJIvLfIvKZacu2kvJVm+93btt52m1vlbLo/GOXN1cAo6pdrz5j0vTDueklqQ+evU4w1yps/NDU62DQxXXrti1s/NBgWk29TklvspE5Oj8SkUun/fwcKcvMS0QkF5E3TbvtbBFpi8ijOj8vEpHTROTOzvIficg7Zj3+ehE5VUTOE5EHROS/ROTfROR5InJV5/afS/nq0nTHichPOrffKCJHzvG47xeRc0XkHhH5o4ioiOz0CJs+gH4VJ9zOubm3BtPVqQ+YqdL2ujR6//jU62LYhIa+ODc9N/X6Jd3NRorOl6UsCVNvA58iZXHYWspXdb4+7b7Xd5ZN+bqUhePjInKoiJwpIpMicvK0+6zvZImUJWq5lEXqARF5r4g8S0QuFJE/icjjOr9zqpSvJi0TkcNE5KzOz8fMetw/df6be4vIEZ1lX5jHpg8gtWi2uF2rHjXqX/sfvDbyRnW/1Otj2MU1lae3vS4Npj9Ivc7JwmcjRWdqns5zOj9/W8o5OiLlKy93dv69g4gUUr6CIyKyV+f33jPr8c6WssRs1/l5vYg0pt3+vzq/d/a0Zc/tLHuxiCzu/Pn2flgAAAjtSURBVM6Zsx73fBH51bSf14tIa9Z9VovINQKgP0Wr/O9Oufl66gNjX8Sy98dWa/vU62WUxEZll0nvTg6mlyVf/2TBspGiMzVP5zgpy8n/E5F/6dz2fCkLyNOknJcTRWTqwrjHd36e/bUOr+os37fz89RbV1N26tx+7LRle3eWvVpEDp/1+1MO6yzfddrjfnjWfZaLyE8FQH+IlcouseEOCZaNBa+N1AfDvonpt6JVn5Z6/YyyWKnsUJh7R/B6UfLtgWxx5vE9Oj8SkW/KX8rMbp3li0TkfilftTlVynIx9T8fnxSRe+d4rBd0HuP5nZ/Xi8iJ026fKjpvn7ZsqugcImXhilK+ejQ7Ucq3uuZ6XJGy6Nw2x98EoNtic9l2ccLtXdj4oe26OzWY1lIf/Poudb288NlRqdcV/iK2WosKr68J3lWSbx9kszOPovNlKQvCp+XhRaEu5SRfLyKXTFt+ipTzcbaddf83S1lIntz5eVOLzls6/z64s3x2pooWRQdIIbaynWLD7Rnq7iV5XY9p++oZbe/GUx/o+j3B3Flxwu288RFGKqGmL8i9npN6WyGbnnkUnal5Oj+TmXNnRETeJyJ/kPIj52PTlk+9cjP701KZiNwi5cfURTa96Owu5VtpR8963JOk/KLCbR7hcUUoOsD8LFmy5ICp2DlfOTY09MWh5l4eG+6QtunhbXNH5t69Mzf3vmD66byuX+MVms1L8HpR9OMHpl7nmL/yG7jd6cHr2tTbD5lf5lF0pubpRCnnwkz3t53lUUQOmHXbxVJOPD5ZypJyZud+b5h2n00tOiIiXxWRB6Wcg3OYiJwh5UfdP7iBxxWh6ADzM/ugkPogNYwJXq+ZNPehWKnskHp9Y/PECbfzZMN9IHh3aertiWw487zW1c1SvhU119c4/Fpmzs+ZsqOInCMid0v5PTo3SvnW03SbU3S2kfLVo7s6v3+riJywkccVoegA80PR6W6C6eq2d3unXs9YGHFi4jHl9zy5Zupti8wdLuoJYAaKTncSvF6Re/dOrk81nGKrtaio6atz0wtTb2tkZig6AGag6HQjek6s1Z6Uet2iN/K67l+YW55+uyO5p+gAmIWis3AJ5r5T1N0hGx91DKM4Ud89eHdabkxcThmKDoAZKDoLk2DZWMwyLrAHiWaLc3PvG8WL0fZDKDoAZqDobFmCd+O5z2Z/fTsg8crKo9rmjgze+dTb6SiFogNgBorOZsZ0be71vXHdutnflArMECuVbUKtclDu3QXJt9sRCEUHwAwUnc2JrojZhbulXncYPLFR+/tg7ovpt+HhDUUHwAwUnU2I6SVt08NTrzMMvtjQp4S6+7dgelXy7XrIQtEBMANFZ34Jpp+JtnJx6vWF4RLdeU/IrXp88Pq91Nv4sISiA2AGis6GE0xroaYvSL2eMNziihXbF94dEUzrqbf5QQ9FBxgO60Xk/SJyrojcIyJ/FBGV8roqUxaJyGkicqeU12X5kYi8Y/YDUXTmTjC9rGjo2/lmY/RSHBvbOtTcywvT81PvA4Maig4wHNaLyJ+kvHru3iJyRGfZF6bd5+udZR8XkUM7952U8sq7f0bReXiCd6fzNhVSyy/S5+R1PTN4vSb1PjFIoegAw2G9iLRmLVstItd0/r2XlFfHfc+s+5wtIg+IyHZTCyg6M/If7Xr1GV1aZ8Bmic3mrm3TjwbvruyDfaTvQ9EBhsN6EfnwrGXLReSnnX8fL2XR2XHWfV7VWf7nL7ij6Lh1wfS7RVMPjzFu1aX1BWyx2Mp2yut6TPB6cep9pp9D0QGGw3oROXHWsuUiclvn358UkXvn+L0XSFl0nj+1YKSLjrnv5N69M1YqO3RjJQHdEFutReUXEOqK5PtQH4aiAwyHjRWdU6ScjzP7W3vfLGXRefLUglEsOsFcs2hU3xSby7YTYIDFhtuzbfrx4PWK1PtVv4SiAwyHjRWdqVduXj/rPpmI3CIif36LZpSKTtu78WjZ6/gkFYZNbF7w2Lyhb2+bjvx1tSg6wHDYWNEREblYyonHJ4vIIVJ+6iqKyBum/9JIFJ1GtirUKgcxBwejIPjxFwXvTk++31F0AGyB+RSdHUXkHBG5W8rv0blRRN4y+4GGtuiYrg1el+Z1fW6X1gHQ16LZowuvr8m9njNKH1Gn6ACYYdiKTrCq5d69M2bZTht/9sBoiGaLc3NvzRvZqtT7KEUHQE8NQ9EJplfndT0zrnEv5O0pYMNiw+05adnx7Xq1mnrfpegA6LpBLjrBqpabOzY2m09MPY7AIIqNyi6Fd0cUpl/JTdem3qcpOgAW3KAVnWBam7Ts+Lim8vTUYwcMkzgx8Zjoxw8MXj8Ryu+YSr6/U3QAbLFBKDrBOz/p9UQuzwD0Tm7uWXld31WYWx5ML0t9HKDoANgsfVx0Lsi9nphnlX1SjxEw6uLY2NZt7/6mbe7I4LPPBdPv9sExgqIDYOP6oegE06vb5i6Y9Hpi8OMv4pIMQP+LtcoehXevb5uO5XW3MnXBoegAmFOKohPMfT/3umKy4T5AsQGGQ6xUtokXVfYorHrwpNcTc3Nnp5jrQ9EBMEM3i07w+r3C69fadXdq0ai+Ka/r/nHC7Zz6OQPonVir/XUw9w+Fd6/PLXt/21fPyOtuZWi4Syg6ALpuS4pOMDeRe/fN4LPPBb/6/+QNfXtR01fnF+lzoq1cnPq5Aehv8eLK49rjlb+NfvzA3FffFmp6Utv0k7nXL+XefTNY1TZ1IjRFB8AMS5YsGZvKquXL6rm5txbeHdGuV/+58Pqa2HAHBVv9suDHX5TXdf92Y/zvYqOyS+q/G8BoiRNu59hwe+Y+2zeY+4dQdy+JfvzAopm9qmisfm3b9PCiUX3Tyi8ty1YtX1afOq6l/rsBAAAAAAAAAAAAAAAAAAAAAAAAAAAAAAAAAAAAAAAAAAAAAAAAAAAAAAAAAAAAAAAAAAAAAAAAAAAAAAAAAAAAAAAAAAAAAAAAAAAAAAAAAAAAAAAAAAAAAAAAAAAAAAAAAAAAAAAAAAAAAAAAAAAAAAAAAAAAAMDw+P9bgplnkesmhQAAAABJRU5ErkJggg==",
       "scale": 2.880434782608696,
       "svg": "<?xml version=\"1.0\" standalone=\"no\"?><!DOCTYPE svg PUBLIC \"-//W3C//DTD SVG 1.1//EN\" \"http://www.w3.org/Graphics/SVG/1.1/DTD/svg11.dtd\"><svg xmlns=\"http://www.w3.org/2000/svg\" width=\"570\" height=\"300\" viewBox=\"0 0 570 300\" style=\"font-family: &quot;Helvetica Neue&quot;,Helvetica,Arial,sans-serif;\"><g class=\"sankey\" transform=\"translate(130,25)\"><g class=\"groups\"/><g class=\"links\"><g class=\"link\" style=\"opacity: 0.8;\"><path d=\"M1,26.5 A0 0 0 0 0 1,26.5 L309,26.5 A0 0 0 0 0 309,26.5 L309,55.30434782608695 A0 0 0 0 0 309,55.30434782608695 L1,55.30434782608695 A0 0 0 0 0 1,55.30434782608695 Z\" style=\"fill: rgb(251, 180, 174);\"/><title>yes → Men\n*\n10.0</title></g><g class=\"link\" style=\"opacity: 0.8;\"><path d=\"M1,206.81521739130437 A100.80225333518403 100.80225333518403 0.5618258264736977 0 0 54.7006114744039,191.32028264442047 L238.4198829170977,75.66974551151684 A132.48703594387968 132.48703594387968 0.5618258264736977 0 1 309,55.30434782608695 L309,86.98913043478261 A100.80225333518403 100.80225333518403 0.5618258264736977 0 0 255.2993885255961,102.48406518166648 L71.58011708290229,218.13460231457012 A132.48703594387968 132.48703594387968 0.5618258264736977 0 1 1,238.5 Z\" style=\"fill: rgb(251, 180, 174);\"/><title>no → Men\n*\n11.0</title></g><g class=\"link\" style=\"opacity: 0.8;\"><path d=\"M1,55.30434782608696 A180.66469484670606 180.66469484670606 0.42517856208393834 0 1 75.52119701090461,71.38981202653147 L264.1820950592448,156.8151472678462 A108.65382528148868 108.65382528148868 0.42517856208393834 0 0 309,166.48913043478262 L309,238.5 A180.66469484670606 180.66469484670606 0.42517856208393834 0 1 234.47880298909539,222.4145357995555 L45.81790494075524,136.98920055824075 A108.65382528148868 108.65382528148868 0.42517856208393834 0 0 1,127.31521739130434 Z\" style=\"fill: rgb(251, 180, 174);\"/><title>yes → Women\n*\n25.0</title></g></g><g class=\"nodes\"><g class=\"node\" transform=\"translate(0,26.5)\"><title>yes</title><text dy=\".35em\" text-anchor=\"end\" transform=\"translate(-4,50.40760869565218)\" style=\"display: inline;\">yes</text><line x1=\"0\" x2=\"0\" y1=\"0\" y2=\"100.81521739130436\" style=\"display: inline; stroke: rgb(136, 136, 136); stroke-width: 4px;\"/><rect x=\"-5\" y=\"-5\" width=\"10\" style=\"fill: none; visibility: hidden; pointer-events: all;\" height=\"105.81521739130436\"/></g><g class=\"node\" transform=\"translate(0,206.81521739130437)\"><title>no</title><text dy=\".35em\" text-anchor=\"end\" transform=\"translate(-4,15.842391304347828)\" style=\"display: inline;\">no</text><line x1=\"0\" x2=\"0\" y1=\"0\" y2=\"31.684782608695656\" style=\"display: inline; stroke: rgb(136, 136, 136); stroke-width: 4px;\"/><rect x=\"-5\" y=\"-5\" width=\"10\" style=\"fill: none; visibility: hidden; pointer-events: all;\" height=\"36.684782608695656\"/></g><g class=\"node\" transform=\"translate(309,26.5)\"><title>Men</title><text dy=\".35em\" text-anchor=\"start\" transform=\"translate(4,30.244565217391305)\" style=\"display: inline;\">Men</text><line x1=\"0\" x2=\"0\" y1=\"0\" y2=\"60.48913043478261\" style=\"display: inline; stroke: rgb(136, 136, 136); stroke-width: 4px;\"/><rect x=\"-5\" y=\"-5\" width=\"10\" style=\"fill: none; visibility: hidden; pointer-events: all;\" height=\"65.48913043478261\"/></g><g class=\"node\" transform=\"translate(309,166.48913043478262)\"><title>Women</title><text dy=\".35em\" text-anchor=\"start\" transform=\"translate(4,36.00543478260869)\" style=\"display: inline;\">Women</text><line x1=\"0\" x2=\"0\" y1=\"0\" y2=\"72.01086956521738\" style=\"display: inline; stroke: rgb(136, 136, 136); stroke-width: 4px;\"/><rect x=\"-5\" y=\"-5\" width=\"10\" style=\"fill: none; visibility: hidden; pointer-events: all;\" height=\"77.01086956521738\"/></g></g><g class=\"slice-titles\"/></g></svg>"
      }
     },
     "92b6030bcbca44199e134e01a9389148": {
      "model_module": "@jupyter-widgets/base",
      "model_module_version": "1.0.0",
      "model_name": "LayoutModel",
      "state": {
       "height": "300",
       "width": "570"
      }
     },
     "9ddfbb30605c46bc8da915f7dab0a3ba": {
      "model_module": "@jupyter-widgets/base",
      "model_module_version": "1.0.0",
      "model_name": "LayoutModel",
      "state": {
       "height": "300",
       "width": "570"
      }
     },
     "a3f8b14c1e284008944cf5298112eb9b": {
      "model_module": "@jupyter-widgets/base",
      "model_module_version": "1.0.0",
      "model_name": "LayoutModel",
      "state": {
       "height": "300",
       "width": "570"
      }
     },
     "afadee38931e4370943b3dfb95edcefd": {
      "model_module": "jupyter-sankey-widget",
      "model_module_version": "^0.2.3",
      "model_name": "SankeyModel",
      "state": {
       "_model_module_version": "^0.2.3",
       "_view_module_version": "^0.2.3",
       "layout": "IPY_MODEL_a3f8b14c1e284008944cf5298112eb9b",
       "links": [
        {
         "bundles": [
          "0"
         ],
         "color": "#FBB4AE",
         "opacity": 1,
         "source": "farms^_",
         "target": "customers^Men",
         "time": "*",
         "title": "*",
         "type": "*",
         "value": 21
        },
        {
         "bundles": [
          "0"
         ],
         "color": "#FBB4AE",
         "opacity": 1,
         "source": "farms^_",
         "target": "customers^Women",
         "time": "*",
         "title": "*",
         "type": "*",
         "value": 25
        }
       ],
       "margins": {
        "bottom": 10,
        "left": 130,
        "right": 130,
        "top": 25
       },
       "nodes": [
        {
         "direction": "r",
         "id": "farms^_",
         "style": "process",
         "title": "_",
         "visibility": "visible"
        },
        {
         "direction": "r",
         "id": "customers^Men",
         "style": "process",
         "title": "Men",
         "visibility": "visible"
        },
        {
         "direction": "r",
         "id": "customers^Women",
         "style": "process",
         "title": "Women",
         "visibility": "visible"
        }
       ],
       "order": [
        [
         [
          "farms^_"
         ]
        ],
        [
         [
          "customers^Men",
          "customers^Women"
         ]
        ]
       ],
       "png": "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",
       "scale": 2.880434782608696,
       "svg": "<?xml version=\"1.0\" standalone=\"no\"?><!DOCTYPE svg PUBLIC \"-//W3C//DTD SVG 1.1//EN\" \"http://www.w3.org/Graphics/SVG/1.1/DTD/svg11.dtd\"><svg xmlns=\"http://www.w3.org/2000/svg\" width=\"570\" height=\"300\" viewBox=\"0 0 570 300\" style=\"font-family: &quot;Helvetica Neue&quot;,Helvetica,Arial,sans-serif;\"><g class=\"sankey\" transform=\"translate(130,25)\"><g class=\"groups\"/><g class=\"links\"><g class=\"link\" style=\"opacity: 0.8;\"><path d=\"M1,66.25 A333.6952932731746 333.6952932731746 0.1572842447112306 0 0 53.26888105199893,62.130969261374425 L247.2563099609704,31.36568971954693 A394.18442370795725 394.18442370795725 0.1572842447112306 0 1 309,26.5 L309,86.98913043478261 A333.6952932731746 333.6952932731746 0.1572842447112306 0 0 256.73111894800104,91.10816117340818 L62.74369003902957,121.87344071523569 A394.18442370795725 394.18442370795725 0.1572842447112306 0 1 1,126.73913043478262 Z\" style=\"fill: rgb(251, 180, 174);\"/><title>_ → Men\n*\n21.0</title></g><g class=\"link\" style=\"opacity: 0.8;\"><path d=\"M1,126.73913043478262 A399.9452932731747 399.9452932731747 0.1572842447112306 0 1 63.64605279969916,131.6759305334649 L257.6334817086707,162.44121007529242 A327.9344237079573 327.9344237079573 0.1572842447112306 0 0 309,166.48913043478262 L309,238.5 A399.9452932731747 399.9452932731747 0.1572842447112306 0 1 246.35394720030084,233.56319990131772 L52.366518291329356,202.7979203594902 A327.9344237079573 327.9344237079573 0.1572842447112306 0 0 1,198.75 Z\" style=\"fill: rgb(251, 180, 174);\"/><title>_ → Women\n*\n25.0</title></g></g><g class=\"nodes\"><g class=\"node\" transform=\"translate(0,66.25)\"><title>_</title><text dy=\".35em\" text-anchor=\"end\" transform=\"translate(-4,66.25)\" style=\"display: inline;\">_</text><line x1=\"0\" x2=\"0\" y1=\"0\" y2=\"132.5\" style=\"display: inline; stroke: rgb(136, 136, 136); stroke-width: 4px;\"/><rect x=\"-5\" y=\"-5\" width=\"10\" style=\"fill: none; visibility: hidden; pointer-events: all;\" height=\"137.5\"/></g><g class=\"node\" transform=\"translate(309,26.5)\"><title>Men</title><text dy=\".35em\" text-anchor=\"start\" transform=\"translate(4,30.244565217391305)\" style=\"display: inline;\">Men</text><line x1=\"0\" x2=\"0\" y1=\"0\" y2=\"60.48913043478261\" style=\"display: inline; stroke: rgb(136, 136, 136); stroke-width: 4px;\"/><rect x=\"-5\" y=\"-5\" width=\"10\" style=\"fill: none; visibility: hidden; pointer-events: all;\" height=\"65.48913043478261\"/></g><g class=\"node\" transform=\"translate(309,166.48913043478262)\"><title>Women</title><text dy=\".35em\" text-anchor=\"start\" transform=\"translate(4,36.00543478260869)\" style=\"display: inline;\">Women</text><line x1=\"0\" x2=\"0\" y1=\"0\" y2=\"72.01086956521738\" style=\"display: inline; stroke: rgb(136, 136, 136); stroke-width: 4px;\"/><rect x=\"-5\" y=\"-5\" width=\"10\" style=\"fill: none; visibility: hidden; pointer-events: all;\" height=\"77.01086956521738\"/></g></g><g class=\"slice-titles\"/></g></svg>"
      }
     },
     "cc511269e9024c079315ff3f5ff5584d": {
      "model_module": "jupyter-sankey-widget",
      "model_module_version": "^0.2.3",
      "model_name": "SankeyModel",
      "state": {
       "_model_module_version": "^0.2.3",
       "_view_module_version": "^0.2.3",
       "layout": "IPY_MODEL_11ee13b8e6584d4cbda034ac8b56962c",
       "links": [
        {
         "bundles": [
          "0"
         ],
         "color": "#FBB4AE",
         "opacity": 1,
         "source": "farms^*",
         "target": "customers^*",
         "time": "*",
         "title": "*",
         "type": "*",
         "value": 46
        }
       ],
       "margins": {
        "bottom": 10,
        "left": 130,
        "right": 130,
        "top": 25
       },
       "nodes": [
        {
         "direction": "r",
         "id": "farms^*",
         "style": "process",
         "title": "farms",
         "visibility": "visible"
        },
        {
         "direction": "r",
         "id": "customers^*",
         "style": "process",
         "title": "customers",
         "visibility": "visible"
        }
       ],
       "order": [
        [
         [
          "farms^*"
         ]
        ],
        [
         [
          "customers^*"
         ]
        ]
       ],
       "png": "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",
       "scale": 2.880434782608696,
       "svg": "<?xml version=\"1.0\" standalone=\"no\"?><!DOCTYPE svg PUBLIC \"-//W3C//DTD SVG 1.1//EN\" \"http://www.w3.org/Graphics/SVG/1.1/DTD/svg11.dtd\"><svg xmlns=\"http://www.w3.org/2000/svg\" width=\"570\" height=\"300\" viewBox=\"0 0 570 300\" style=\"font-family: &quot;Helvetica Neue&quot;,Helvetica,Arial,sans-serif;\"><g class=\"sankey\" transform=\"translate(130,25)\"><g class=\"groups\"/><g class=\"links\"><g class=\"link\" style=\"opacity: 0.8;\"><path d=\"M1,66.25 A0 0 0 0 0 1,66.25 L309,66.25 A0 0 0 0 0 309,66.25 L309,198.75 A0 0 0 0 0 309,198.75 L1,198.75 A0 0 0 0 0 1,198.75 Z\" style=\"fill: rgb(251, 180, 174);\"/><title>farms → customers\n*\n46.0</title></g></g><g class=\"nodes\"><g class=\"node\" transform=\"translate(0,66.25)\"><title>farms</title><text dy=\".35em\" text-anchor=\"end\" transform=\"translate(-4,66.25)\" style=\"display: inline;\">farms</text><line x1=\"0\" x2=\"0\" y1=\"0\" y2=\"132.5\" style=\"display: inline; stroke: rgb(136, 136, 136); stroke-width: 4px;\"/><rect x=\"-5\" y=\"-5\" width=\"10\" style=\"fill: none; visibility: hidden; pointer-events: all;\" height=\"137.5\"/></g><g class=\"node\" transform=\"translate(309,66.25)\"><title>customers</title><text dy=\".35em\" text-anchor=\"start\" transform=\"translate(4,66.25)\" style=\"display: inline;\">customers</text><line x1=\"0\" x2=\"0\" y1=\"0\" y2=\"132.5\" style=\"display: inline; stroke: rgb(136, 136, 136); stroke-width: 4px;\"/><rect x=\"-5\" y=\"-5\" width=\"10\" style=\"fill: none; visibility: hidden; pointer-events: all;\" height=\"137.5\"/></g></g><g class=\"slice-titles\"/></g></svg>"
      }
     },
     "d1f2e367e380401d85ca8e488fd533e7": {
      "model_module": "jupyter-sankey-widget",
      "model_module_version": "^0.2.3",
      "model_name": "SankeyModel",
      "state": {
       "_model_module_version": "^0.2.3",
       "_view_module_version": "^0.2.3",
       "layout": "IPY_MODEL_9ddfbb30605c46bc8da915f7dab0a3ba",
       "links": [
        {
         "bundles": [
          "0"
         ],
         "color": "#FBB4AE",
         "opacity": 1,
         "source": "farms^yes",
         "target": "customers^Men",
         "time": "*",
         "title": "*",
         "type": "*",
         "value": 10
        },
        {
         "bundles": [
          "0"
         ],
         "color": "#FBB4AE",
         "opacity": 1,
         "source": "farms^yes",
         "target": "customers^Women",
         "time": "*",
         "title": "*",
         "type": "*",
         "value": 25
        },
        {
         "bundles": [
          "0"
         ],
         "color": "#FBB4AE",
         "opacity": 1,
         "source": "farms^no",
         "target": "customers^Men",
         "time": "*",
         "title": "*",
         "type": "*",
         "value": 11
        }
       ],
       "margins": {
        "bottom": 10,
        "left": 130,
        "right": 130,
        "top": 25
       },
       "nodes": [
        {
         "direction": "r",
         "id": "farms^yes",
         "style": "process",
         "title": "yes",
         "visibility": "visible"
        },
        {
         "direction": "r",
         "id": "farms^no",
         "style": "process",
         "title": "no",
         "visibility": "visible"
        },
        {
         "direction": "r",
         "id": "customers^Men",
         "style": "process",
         "title": "Men",
         "visibility": "visible"
        },
        {
         "direction": "r",
         "id": "customers^Women",
         "style": "process",
         "title": "Women",
         "visibility": "visible"
        }
       ],
       "order": [
        [
         [
          "farms^yes",
          "farms^no"
         ]
        ],
        [
         [
          "customers^Men",
          "customers^Women"
         ]
        ]
       ],
       "png": "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",
       "scale": 2.880434782608696,
       "svg": "<?xml version=\"1.0\" standalone=\"no\"?><!DOCTYPE svg PUBLIC \"-//W3C//DTD SVG 1.1//EN\" \"http://www.w3.org/Graphics/SVG/1.1/DTD/svg11.dtd\"><svg xmlns=\"http://www.w3.org/2000/svg\" width=\"570\" height=\"300\" viewBox=\"0 0 570 300\" style=\"font-family: &quot;Helvetica Neue&quot;,Helvetica,Arial,sans-serif;\"><g class=\"sankey\" transform=\"translate(130,25)\"><g class=\"groups\"/><g class=\"links\"><g class=\"link\" style=\"opacity: 0.8;\"><path d=\"M1,26.5 A0 0 0 0 0 1,26.5 L309,26.5 A0 0 0 0 0 309,26.5 L309,55.30434782608695 A0 0 0 0 0 309,55.30434782608695 L1,55.30434782608695 A0 0 0 0 0 1,55.30434782608695 Z\" style=\"fill: rgb(251, 180, 174);\"/><title>yes → Men\n*\n10.0</title></g><g class=\"link\" style=\"opacity: 0.8;\"><path d=\"M1,206.81521739130437 A100.80225333518403 100.80225333518403 0.5618258264736977 0 0 54.7006114744039,191.32028264442047 L238.4198829170977,75.66974551151684 A132.48703594387968 132.48703594387968 0.5618258264736977 0 1 309,55.30434782608695 L309,86.98913043478261 A100.80225333518403 100.80225333518403 0.5618258264736977 0 0 255.2993885255961,102.48406518166648 L71.58011708290229,218.13460231457012 A132.48703594387968 132.48703594387968 0.5618258264736977 0 1 1,238.5 Z\" style=\"fill: rgb(251, 180, 174);\"/><title>no → Men\n*\n11.0</title></g><g class=\"link\" style=\"opacity: 0.8;\"><path d=\"M1,55.30434782608696 A180.66469484670606 180.66469484670606 0.42517856208393834 0 1 75.52119701090461,71.38981202653147 L264.1820950592448,156.8151472678462 A108.65382528148868 108.65382528148868 0.42517856208393834 0 0 309,166.48913043478262 L309,238.5 A180.66469484670606 180.66469484670606 0.42517856208393834 0 1 234.47880298909539,222.4145357995555 L45.81790494075524,136.98920055824075 A108.65382528148868 108.65382528148868 0.42517856208393834 0 0 1,127.31521739130434 Z\" style=\"fill: rgb(251, 180, 174);\"/><title>yes → Women\n*\n25.0</title></g></g><g class=\"nodes\"><g class=\"node\" transform=\"translate(0,26.5)\"><title>yes</title><text dy=\".35em\" text-anchor=\"end\" transform=\"translate(-4,50.40760869565218)\" style=\"display: inline;\">yes</text><line x1=\"0\" x2=\"0\" y1=\"0\" y2=\"100.81521739130436\" style=\"display: inline; stroke: rgb(136, 136, 136); stroke-width: 4px;\"/><rect x=\"-5\" y=\"-5\" width=\"10\" style=\"fill: none; visibility: hidden; pointer-events: all;\" height=\"105.81521739130436\"/></g><g class=\"node\" transform=\"translate(0,206.81521739130437)\"><title>no</title><text dy=\".35em\" text-anchor=\"end\" transform=\"translate(-4,15.842391304347828)\" style=\"display: inline;\">no</text><line x1=\"0\" x2=\"0\" y1=\"0\" y2=\"31.684782608695656\" style=\"display: inline; stroke: rgb(136, 136, 136); stroke-width: 4px;\"/><rect x=\"-5\" y=\"-5\" width=\"10\" style=\"fill: none; visibility: hidden; pointer-events: all;\" height=\"36.684782608695656\"/></g><g class=\"node\" transform=\"translate(309,26.5)\"><title>Men</title><text dy=\".35em\" text-anchor=\"start\" transform=\"translate(4,30.244565217391305)\" style=\"display: inline;\">Men</text><line x1=\"0\" x2=\"0\" y1=\"0\" y2=\"60.48913043478261\" style=\"display: inline; stroke: rgb(136, 136, 136); stroke-width: 4px;\"/><rect x=\"-5\" y=\"-5\" width=\"10\" style=\"fill: none; visibility: hidden; pointer-events: all;\" height=\"65.48913043478261\"/></g><g class=\"node\" transform=\"translate(309,166.48913043478262)\"><title>Women</title><text dy=\".35em\" text-anchor=\"start\" transform=\"translate(4,36.00543478260869)\" style=\"display: inline;\">Women</text><line x1=\"0\" x2=\"0\" y1=\"0\" y2=\"72.01086956521738\" style=\"display: inline; stroke: rgb(136, 136, 136); stroke-width: 4px;\"/><rect x=\"-5\" y=\"-5\" width=\"10\" style=\"fill: none; visibility: hidden; pointer-events: all;\" height=\"77.01086956521738\"/></g></g><g class=\"slice-titles\"/></g></svg>"
      }
     },
     "e2059fafda244dfa960c664e054653ff": {
      "model_module": "@jupyter-widgets/base",
      "model_module_version": "1.0.0",
      "model_name": "LayoutModel",
      "state": {
       "height": "300",
       "width": "570"
      }
     },
     "f12b7f01c9724b4b928fbf39593c0661": {
      "model_module": "jupyter-sankey-widget",
      "model_module_version": "^0.2.3",
      "model_name": "SankeyModel",
      "state": {
       "_model_module_version": "^0.2.3",
       "_view_module_version": "^0.2.3",
       "layout": "IPY_MODEL_4a504ee858984e7eb3c3b2a95a2aafe6",
       "links": [
        {
         "bundles": [
          "0"
         ],
         "color": "#FBB4AE",
         "opacity": 1,
         "source": "farms^*",
         "target": "customers^Men",
         "time": "*",
         "title": "*",
         "type": "*",
         "value": 21
        },
        {
         "bundles": [
          "0"
         ],
         "color": "#FBB4AE",
         "opacity": 1,
         "source": "farms^*",
         "target": "customers^Women",
         "time": "*",
         "title": "*",
         "type": "*",
         "value": 25
        }
       ],
       "margins": {
        "bottom": 10,
        "left": 130,
        "right": 130,
        "top": 25
       },
       "nodes": [
        {
         "direction": "r",
         "id": "farms^*",
         "style": "process",
         "title": "farms",
         "visibility": "visible"
        },
        {
         "direction": "r",
         "id": "customers^Men",
         "style": "process",
         "title": "Men",
         "visibility": "visible"
        },
        {
         "direction": "r",
         "id": "customers^Women",
         "style": "process",
         "title": "Women",
         "visibility": "visible"
        }
       ],
       "order": [
        [
         [
          "farms^*"
         ]
        ],
        [
         [
          "customers^Men",
          "customers^Women"
         ]
        ]
       ],
       "png": "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",
       "scale": 2.880434782608696,
       "svg": "<?xml version=\"1.0\" standalone=\"no\"?><!DOCTYPE svg PUBLIC \"-//W3C//DTD SVG 1.1//EN\" \"http://www.w3.org/Graphics/SVG/1.1/DTD/svg11.dtd\"><svg xmlns=\"http://www.w3.org/2000/svg\" width=\"570\" height=\"300\" viewBox=\"0 0 570 300\" style=\"font-family: &quot;Helvetica Neue&quot;,Helvetica,Arial,sans-serif;\"><g class=\"sankey\" transform=\"translate(130,25)\"><g class=\"groups\"/><g class=\"links\"><g class=\"link\" style=\"opacity: 0.8;\"><path d=\"M1,66.25 A333.6952932731746 333.6952932731746 0.1572842447112306 0 0 53.26888105199893,62.130969261374425 L247.2563099609704,31.36568971954693 A394.18442370795725 394.18442370795725 0.1572842447112306 0 1 309,26.5 L309,86.98913043478261 A333.6952932731746 333.6952932731746 0.1572842447112306 0 0 256.73111894800104,91.10816117340818 L62.74369003902957,121.87344071523569 A394.18442370795725 394.18442370795725 0.1572842447112306 0 1 1,126.73913043478262 Z\" style=\"fill: rgb(251, 180, 174);\"/><title>farms → Men\n*\n21.0</title></g><g class=\"link\" style=\"opacity: 0.8;\"><path d=\"M1,126.73913043478262 A399.9452932731747 399.9452932731747 0.1572842447112306 0 1 63.64605279969916,131.6759305334649 L257.6334817086707,162.44121007529242 A327.9344237079573 327.9344237079573 0.1572842447112306 0 0 309,166.48913043478262 L309,238.5 A399.9452932731747 399.9452932731747 0.1572842447112306 0 1 246.35394720030084,233.56319990131772 L52.366518291329356,202.7979203594902 A327.9344237079573 327.9344237079573 0.1572842447112306 0 0 1,198.75 Z\" style=\"fill: rgb(251, 180, 174);\"/><title>farms → Women\n*\n25.0</title></g></g><g class=\"nodes\"><g class=\"node\" transform=\"translate(0,66.25)\"><title>farms</title><text dy=\".35em\" text-anchor=\"end\" transform=\"translate(-4,66.25)\" style=\"display: inline;\">farms</text><line x1=\"0\" x2=\"0\" y1=\"0\" y2=\"132.5\" style=\"display: inline; stroke: rgb(136, 136, 136); stroke-width: 4px;\"/><rect x=\"-5\" y=\"-5\" width=\"10\" style=\"fill: none; visibility: hidden; pointer-events: all;\" height=\"137.5\"/></g><g class=\"node\" transform=\"translate(309,26.5)\"><title>Men</title><text dy=\".35em\" text-anchor=\"start\" transform=\"translate(4,30.244565217391305)\" style=\"display: inline;\">Men</text><line x1=\"0\" x2=\"0\" y1=\"0\" y2=\"60.48913043478261\" style=\"display: inline; stroke: rgb(136, 136, 136); stroke-width: 4px;\"/><rect x=\"-5\" y=\"-5\" width=\"10\" style=\"fill: none; visibility: hidden; pointer-events: all;\" height=\"65.48913043478261\"/></g><g class=\"node\" transform=\"translate(309,166.48913043478262)\"><title>Women</title><text dy=\".35em\" text-anchor=\"start\" transform=\"translate(4,36.00543478260869)\" style=\"display: inline;\">Women</text><line x1=\"0\" x2=\"0\" y1=\"0\" y2=\"72.01086956521738\" style=\"display: inline; stroke: rgb(136, 136, 136); stroke-width: 4px;\"/><rect x=\"-5\" y=\"-5\" width=\"10\" style=\"fill: none; visibility: hidden; pointer-events: all;\" height=\"77.01086956521738\"/></g></g><g class=\"slice-titles\"/></g></svg>"
      }
     }
    },
    "version_major": 2,
    "version_minor": 0
   }
  }
 },
 "nbformat": 4,
 "nbformat_minor": 2
}
