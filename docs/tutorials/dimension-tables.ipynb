{
 "cells": [
  {
   "cell_type": "markdown",
   "metadata": {},
   "source": [
    "# Dimension tables: efficiently adding details of processes and flows\n",
    "\n",
    "In the [Quickstart tutorial](./Quickstart.ipynb) we saw how to draw some simple Sankey diagrams and partition them in different ways, such as this:\n",
    "\n",
    "![](./quickstart_example1.png)\n",
    "\n",
    "But to do the grouping on the right-hand side we had to explicitly list which people were \"Men\" and which were \"Women\", using a partition like this:\n",
    "\n",
    "```python\n",
    "customers_by_gender = Partition.Simple('process', [\n",
    "    ('Men', ['Fred', 'James']),\n",
    "    ('Women', ['Susan', 'Mary']),\n",
    "])\n",
    "```\n",
    "\n",
    "We can show this type of information more efficiently -- and with less code -- by using *dimension tables*.\n",
    "\n",
    "## Dimension tables\n",
    "\n",
    "The table we've seen before is a **flow fact table** -- it lists basic information about each flow:\n",
    "\n",
    "- *source*: where the flow comes from\n",
    "- *target*: where the flow goes to\n",
    "- *type* or *material*: what is flowing\n",
    "- *value*: the size (in tonnes, GJ, £ etc) of the flow\n",
    "\n",
    "An example of this type of table is shown at the top right of this diagram:\n",
    "\n",
    "![](./dimension_tables.png)\n",
    "\n",
    "The **dimension tables** add extra information about the source/target and type of the flows (the diagram above also shows extra information about the time period the flow relates to, but we're not worrying about time in this tutorial). For example, \"farm2\" has a *location* attribute set to \"Cambridge\".\n",
    "\n",
    "This tutorial will show how to use dimension tables in floweaver."
   ]
  },
  {
   "cell_type": "code",
   "execution_count": 1,
   "metadata": {},
   "outputs": [
    {
     "data": {
      "text/html": [
       "<div>\n",
       "<table border=\"1\" class=\"dataframe\">\n",
       "  <thead>\n",
       "    <tr style=\"text-align: right;\">\n",
       "      <th></th>\n",
       "      <th>source</th>\n",
       "      <th>target</th>\n",
       "      <th>type</th>\n",
       "      <th>value</th>\n",
       "    </tr>\n",
       "  </thead>\n",
       "  <tbody>\n",
       "    <tr>\n",
       "      <th>0</th>\n",
       "      <td>farm1</td>\n",
       "      <td>Mary</td>\n",
       "      <td>apples</td>\n",
       "      <td>5</td>\n",
       "    </tr>\n",
       "    <tr>\n",
       "      <th>1</th>\n",
       "      <td>farm1</td>\n",
       "      <td>James</td>\n",
       "      <td>apples</td>\n",
       "      <td>3</td>\n",
       "    </tr>\n",
       "    <tr>\n",
       "      <th>2</th>\n",
       "      <td>farm2</td>\n",
       "      <td>Fred</td>\n",
       "      <td>apples</td>\n",
       "      <td>10</td>\n",
       "    </tr>\n",
       "    <tr>\n",
       "      <th>3</th>\n",
       "      <td>farm2</td>\n",
       "      <td>Fred</td>\n",
       "      <td>bananas</td>\n",
       "      <td>10</td>\n",
       "    </tr>\n",
       "    <tr>\n",
       "      <th>4</th>\n",
       "      <td>farm2</td>\n",
       "      <td>Susan</td>\n",
       "      <td>bananas</td>\n",
       "      <td>5</td>\n",
       "    </tr>\n",
       "    <tr>\n",
       "      <th>5</th>\n",
       "      <td>farm3</td>\n",
       "      <td>Susan</td>\n",
       "      <td>apples</td>\n",
       "      <td>10</td>\n",
       "    </tr>\n",
       "    <tr>\n",
       "      <th>6</th>\n",
       "      <td>farm4</td>\n",
       "      <td>Susan</td>\n",
       "      <td>bananas</td>\n",
       "      <td>1</td>\n",
       "    </tr>\n",
       "    <tr>\n",
       "      <th>7</th>\n",
       "      <td>farm5</td>\n",
       "      <td>Susan</td>\n",
       "      <td>bananas</td>\n",
       "      <td>1</td>\n",
       "    </tr>\n",
       "    <tr>\n",
       "      <th>8</th>\n",
       "      <td>farm6</td>\n",
       "      <td>Susan</td>\n",
       "      <td>bananas</td>\n",
       "      <td>1</td>\n",
       "    </tr>\n",
       "  </tbody>\n",
       "</table>\n",
       "</div>"
      ],
      "text/plain": [
       "  source target     type  value\n",
       "0  farm1   Mary   apples      5\n",
       "1  farm1  James   apples      3\n",
       "2  farm2   Fred   apples     10\n",
       "3  farm2   Fred  bananas     10\n",
       "4  farm2  Susan  bananas      5\n",
       "5  farm3  Susan   apples     10\n",
       "6  farm4  Susan  bananas      1\n",
       "7  farm5  Susan  bananas      1\n",
       "8  farm6  Susan  bananas      1"
      ]
     },
     "execution_count": 1,
     "metadata": {},
     "output_type": "execute_result"
    }
   ],
   "source": [
    "# Load the same data used in the quickstart tutorial\n",
    "import pandas as pd\n",
    "flows = pd.read_csv('simple_fruit_sales.csv')\n",
    "flows"
   ]
  },
  {
   "cell_type": "code",
   "execution_count": 2,
   "metadata": {},
   "outputs": [
    {
     "data": {
      "text/html": [
       "<div>\n",
       "<table border=\"1\" class=\"dataframe\">\n",
       "  <thead>\n",
       "    <tr style=\"text-align: right;\">\n",
       "      <th></th>\n",
       "      <th>type</th>\n",
       "      <th>location</th>\n",
       "      <th>organic</th>\n",
       "      <th>sex</th>\n",
       "    </tr>\n",
       "    <tr>\n",
       "      <th>id</th>\n",
       "      <th></th>\n",
       "      <th></th>\n",
       "      <th></th>\n",
       "      <th></th>\n",
       "    </tr>\n",
       "  </thead>\n",
       "  <tbody>\n",
       "    <tr>\n",
       "      <th>farm1</th>\n",
       "      <td>farm</td>\n",
       "      <td>Barton</td>\n",
       "      <td>yes</td>\n",
       "      <td>NaN</td>\n",
       "    </tr>\n",
       "    <tr>\n",
       "      <th>farm2</th>\n",
       "      <td>farm</td>\n",
       "      <td>Barton</td>\n",
       "      <td>yes</td>\n",
       "      <td>NaN</td>\n",
       "    </tr>\n",
       "    <tr>\n",
       "      <th>farm3</th>\n",
       "      <td>farm</td>\n",
       "      <td>Ely</td>\n",
       "      <td>no</td>\n",
       "      <td>NaN</td>\n",
       "    </tr>\n",
       "    <tr>\n",
       "      <th>farm4</th>\n",
       "      <td>farm</td>\n",
       "      <td>Ely</td>\n",
       "      <td>yes</td>\n",
       "      <td>NaN</td>\n",
       "    </tr>\n",
       "    <tr>\n",
       "      <th>farm5</th>\n",
       "      <td>farm</td>\n",
       "      <td>Duxford</td>\n",
       "      <td>no</td>\n",
       "      <td>NaN</td>\n",
       "    </tr>\n",
       "    <tr>\n",
       "      <th>farm6</th>\n",
       "      <td>farm</td>\n",
       "      <td>Milton</td>\n",
       "      <td>yes</td>\n",
       "      <td>NaN</td>\n",
       "    </tr>\n",
       "    <tr>\n",
       "      <th>Mary</th>\n",
       "      <td>customer</td>\n",
       "      <td>Cambridge</td>\n",
       "      <td>NaN</td>\n",
       "      <td>Women</td>\n",
       "    </tr>\n",
       "    <tr>\n",
       "      <th>James</th>\n",
       "      <td>customer</td>\n",
       "      <td>Milton</td>\n",
       "      <td>NaN</td>\n",
       "      <td>Men</td>\n",
       "    </tr>\n",
       "    <tr>\n",
       "      <th>Fred</th>\n",
       "      <td>customer</td>\n",
       "      <td>Cambridge</td>\n",
       "      <td>NaN</td>\n",
       "      <td>Women</td>\n",
       "    </tr>\n",
       "    <tr>\n",
       "      <th>Susan</th>\n",
       "      <td>customer</td>\n",
       "      <td>Cambridge</td>\n",
       "      <td>NaN</td>\n",
       "      <td>Men</td>\n",
       "    </tr>\n",
       "  </tbody>\n",
       "</table>\n",
       "</div>"
      ],
      "text/plain": [
       "           type   location organic    sex\n",
       "id                                       \n",
       "farm1      farm     Barton     yes    NaN\n",
       "farm2      farm     Barton     yes    NaN\n",
       "farm3      farm        Ely      no    NaN\n",
       "farm4      farm        Ely     yes    NaN\n",
       "farm5      farm    Duxford      no    NaN\n",
       "farm6      farm     Milton     yes    NaN\n",
       "Mary   customer  Cambridge     NaN  Women\n",
       "James  customer     Milton     NaN    Men\n",
       "Fred   customer  Cambridge     NaN  Women\n",
       "Susan  customer  Cambridge     NaN    Men"
      ]
     },
     "execution_count": 2,
     "metadata": {},
     "output_type": "execute_result"
    }
   ],
   "source": [
    "# Load another table giving extra information about the \n",
    "# farms and customers. `index_col` says the first column\n",
    "# can be used to lookup rows.\n",
    "processes = pd.read_csv('simple_fruit_sales_processes.csv', \n",
    "                        index_col=0)\n",
    "processes"
   ]
  },
  {
   "cell_type": "markdown",
   "metadata": {},
   "source": [
    "Each `id` in this table matches a `source` or `target` in the flows table above. We can use this extra information to build the Sankey."
   ]
  },
  {
   "cell_type": "code",
   "execution_count": 3,
   "metadata": {
    "collapsed": true
   },
   "outputs": [],
   "source": [
    "# Setup\n",
    "from floweaver import *\n",
    "\n",
    "# Set the default size to fit the documentation better.\n",
    "size = dict(width=570, height=300)"
   ]
  },
  {
   "cell_type": "markdown",
   "metadata": {},
   "source": [
    "Because we now have two tables (before we only had one so didn't have to worry) we must put them together into a Dataset:"
   ]
  },
  {
   "cell_type": "code",
   "execution_count": 4,
   "metadata": {
    "collapsed": true
   },
   "outputs": [],
   "source": [
    "dataset = Dataset(flows, dim_process=processes)"
   ]
  },
  {
   "cell_type": "markdown",
   "metadata": {},
   "source": [
    "Now we can use the `type` column in the process table to more easily pick out the relevant processes:"
   ]
  },
  {
   "cell_type": "code",
   "execution_count": 5,
   "metadata": {
    "collapsed": true
   },
   "outputs": [],
   "source": [
    "nodes = {\n",
    "    'farms': ProcessGroup('type == \"farm\"'),\n",
    "    'customers': ProcessGroup('type == \"customer\"'),\n",
    "}"
   ]
  },
  {
   "cell_type": "markdown",
   "metadata": {},
   "source": [
    "Compare this to how the same thing was written in the Quickstart:\n",
    "```python\n",
    "nodes = {\n",
    "    'farms': ProcessGroup(['farm1', 'farm2', 'farm3', \n",
    "                           'farm4', 'farm5', 'farm6']),\n",
    "    'customers': ProcessGroup(['James', 'Mary', 'Fred', 'Susan']),\n",
    "}\n",
    "```\n",
    "\n",
    "Because we already know from the process dimension table that James, Mary, Fred and Susan are \"customers\", we don't have to list them all by name in the ProcessGroup definition -- we can write the *query* `type == \"customer\"` instead."
   ]
  },
  {
   "cell_type": "raw",
   "metadata": {
    "raw_mimetype": "text/restructuredtext"
   },
   "source": [
    ".. note::\n",
    "\n",
    "    See the API Documentation for :class:`floweaver.ProcessGroup` for more details."
   ]
  },
  {
   "cell_type": "markdown",
   "metadata": {},
   "source": [
    "The rest of the Sankey diagram definition is the same as before:"
   ]
  },
  {
   "cell_type": "code",
   "execution_count": 6,
   "metadata": {},
   "outputs": [
    {
     "data": {
      "application/vnd.jupyter.widget-view+json": {
       "model_id": "322f10a8f92f4ce2acde8c4c128c27ac",
       "version_major": 2,
       "version_minor": 0
      },
      "text/html": [
       "<p>Failed to display Jupyter Widget of type <code>SankeyWidget</code>.</p>\n",
       "<p>\n",
       "  If you're reading this message in the Jupyter Notebook or JupyterLab Notebook, it may mean\n",
       "  that the widgets JavaScript is still loading. If this message persists, it\n",
       "  likely means that the widgets JavaScript library is either not installed or\n",
       "  not enabled. See the <a href=\"https://ipywidgets.readthedocs.io/en/stable/user_install.html\">Jupyter\n",
       "  Widgets Documentation</a> for setup instructions.\n",
       "</p>\n",
       "<p>\n",
       "  If you're reading this message in another frontend (for example, a static\n",
       "  rendering on GitHub or <a href=\"https://nbviewer.jupyter.org/\">NBViewer</a>),\n",
       "  it may mean that your frontend doesn't currently support widgets.\n",
       "</p>\n"
      ],
      "text/plain": [
       "SankeyWidget(layout=Layout(height='300', width='570'), links=[{'type': '*', 'time': '*', 'target': 'customers^*', 'title': '*', 'source': 'farms^*', 'value': 46.0, 'opacity': 1.0, 'color': '#FBB4AE'}], margins={'left': 130, 'bottom': 10, 'top': 25, 'right': 130}, nodes=[{'style': {'hidden': False, 'type': 'process', 'direction': 'r'}, 'id': 'farms^*', 'title': 'farms'}, {'style': {'hidden': False, 'type': 'process', 'direction': 'r'}, 'id': 'customers^*', 'title': 'customers'}], order=[(('farms^*',),), (('customers^*',),)])"
      ]
     },
     "metadata": {},
     "output_type": "display_data"
    }
   ],
   "source": [
    "ordering = [\n",
    "    ['farms'],       # put \"farms\" on the left...\n",
    "    ['customers'],   # ... and \"customers\" on the right.\n",
    "]\n",
    "bundles = [\n",
    "    Bundle('farms', 'customers'),\n",
    "]\n",
    "sdd = SankeyDefinition(nodes, bundles, ordering)\n",
    "weave(sdd, dataset).to_widget(**size)"
   ]
  },
  {
   "cell_type": "markdown",
   "metadata": {},
   "source": [
    "Again, we need to set the partition on the ProcessGroups to see something interesting. Here again, we can use the process dimension table to make this easier:"
   ]
  },
  {
   "cell_type": "code",
   "execution_count": 7,
   "metadata": {},
   "outputs": [
    {
     "data": {
      "application/vnd.jupyter.widget-view+json": {
       "model_id": "cce1ba02a5064e3fbcd62c2f18e3a3f2",
       "version_major": 2,
       "version_minor": 0
      },
      "text/html": [
       "<p>Failed to display Jupyter Widget of type <code>SankeyWidget</code>.</p>\n",
       "<p>\n",
       "  If you're reading this message in the Jupyter Notebook or JupyterLab Notebook, it may mean\n",
       "  that the widgets JavaScript is still loading. If this message persists, it\n",
       "  likely means that the widgets JavaScript library is either not installed or\n",
       "  not enabled. See the <a href=\"https://ipywidgets.readthedocs.io/en/stable/user_install.html\">Jupyter\n",
       "  Widgets Documentation</a> for setup instructions.\n",
       "</p>\n",
       "<p>\n",
       "  If you're reading this message in another frontend (for example, a static\n",
       "  rendering on GitHub or <a href=\"https://nbviewer.jupyter.org/\">NBViewer</a>),\n",
       "  it may mean that your frontend doesn't currently support widgets.\n",
       "</p>\n"
      ],
      "text/plain": [
       "SankeyWidget(groups=[{'type': 'process', 'id': 'customers', 'title': '', 'nodes': ['customers^Men', 'customers^Women']}], layout=Layout(height='300', width='570'), links=[{'type': '*', 'time': '*', 'target': 'customers^Men', 'title': '*', 'source': 'farms^*', 'value': 21.0, 'opacity': 1.0, 'color': '#FBB4AE'}, {'type': '*', 'time': '*', 'target': 'customers^Women', 'title': '*', 'source': 'farms^*', 'value': 25.0, 'opacity': 1.0, 'color': '#FBB4AE'}], margins={'left': 130, 'bottom': 10, 'top': 25, 'right': 130}, nodes=[{'style': {'hidden': False, 'type': 'process', 'direction': 'r'}, 'id': 'customers^Women', 'title': 'Women'}, {'style': {'hidden': False, 'type': 'process', 'direction': 'r'}, 'id': 'farms^*', 'title': 'farms'}, {'style': {'hidden': False, 'type': 'process', 'direction': 'r'}, 'id': 'customers^Men', 'title': 'Men'}], order=[(('farms^*',),), (('customers^Men', 'customers^Women'),)])"
      ]
     },
     "metadata": {},
     "output_type": "display_data"
    }
   ],
   "source": [
    "# Create a Partition which splits based on the `sex` column\n",
    "# of the dimension table\n",
    "customers_by_gender = Partition.Simple('process.sex', \n",
    "                                       ['Men', 'Women'])\n",
    "\n",
    "nodes['customers'].partition = customers_by_gender\n",
    "weave(sdd, dataset).to_widget(**size)"
   ]
  },
  {
   "cell_type": "markdown",
   "metadata": {},
   "source": [
    "For reference, this is what we wrote before in the Quickstart:\n",
    "```python\n",
    "customers_by_gender = Partition.Simple('process', [\n",
    "    ('Men', ['Fred', 'James']),\n",
    "    ('Women', ['Susan', 'Mary']),\n",
    "])\n",
    "```\n",
    "\n",
    "And we can use other columns of the dimension table to set other partitions:"
   ]
  },
  {
   "cell_type": "code",
   "execution_count": 8,
   "metadata": {},
   "outputs": [
    {
     "data": {
      "application/vnd.jupyter.widget-view+json": {
       "model_id": "45bcd8909b7b4f21bfe6f323795d57c5",
       "version_major": 2,
       "version_minor": 0
      },
      "text/html": [
       "<p>Failed to display Jupyter Widget of type <code>SankeyWidget</code>.</p>\n",
       "<p>\n",
       "  If you're reading this message in the Jupyter Notebook or JupyterLab Notebook, it may mean\n",
       "  that the widgets JavaScript is still loading. If this message persists, it\n",
       "  likely means that the widgets JavaScript library is either not installed or\n",
       "  not enabled. See the <a href=\"https://ipywidgets.readthedocs.io/en/stable/user_install.html\">Jupyter\n",
       "  Widgets Documentation</a> for setup instructions.\n",
       "</p>\n",
       "<p>\n",
       "  If you're reading this message in another frontend (for example, a static\n",
       "  rendering on GitHub or <a href=\"https://nbviewer.jupyter.org/\">NBViewer</a>),\n",
       "  it may mean that your frontend doesn't currently support widgets.\n",
       "</p>\n"
      ],
      "text/plain": [
       "SankeyWidget(groups=[{'type': 'process', 'id': 'farms', 'title': '', 'nodes': ['farms^yes', 'farms^no']}, {'type': 'process', 'id': 'customers', 'title': '', 'nodes': ['customers^Men', 'customers^Women']}], layout=Layout(height='300', width='570'), links=[{'type': '*', 'time': '*', 'target': 'customers^Men', 'title': '*', 'source': 'farms^yes', 'value': 10.0, 'opacity': 1.0, 'color': '#FBB4AE'}, {'type': '*', 'time': '*', 'target': 'customers^Women', 'title': '*', 'source': 'farms^yes', 'value': 25.0, 'opacity': 1.0, 'color': '#FBB4AE'}, {'type': '*', 'time': '*', 'target': 'customers^Men', 'title': '*', 'source': 'farms^no', 'value': 11.0, 'opacity': 1.0, 'color': '#FBB4AE'}], margins={'left': 130, 'bottom': 10, 'top': 25, 'right': 130}, nodes=[{'style': {'hidden': False, 'type': 'process', 'direction': 'r'}, 'id': 'customers^Women', 'title': 'Women'}, {'style': {'hidden': False, 'type': 'process', 'direction': 'r'}, 'id': 'farms^yes', 'title': 'yes'}, {'style': {'hidden': False, 'type': 'process', 'direction': 'r'}, 'id': 'farms^no', 'title': 'no'}, {'style': {'hidden': False, 'type': 'process', 'direction': 'r'}, 'id': 'customers^Men', 'title': 'Men'}], order=[(('farms^yes', 'farms^no'),), (('customers^Men', 'customers^Women'),)])"
      ]
     },
     "metadata": {},
     "output_type": "display_data"
    }
   ],
   "source": [
    "farms_by_organic = Partition.Simple('process.organic', ['yes', 'no'])\n",
    "\n",
    "nodes['farms'].partition = farms_by_organic\n",
    "weave(sdd, dataset).to_widget(**size)"
   ]
  },
  {
   "cell_type": "markdown",
   "metadata": {},
   "source": [
    "Finally, a tip for doing quick exploration of the data with partitions: you can automatically get a Partition which includes all the values that actually occur in your dataset using the `dataset.partition` method:"
   ]
  },
  {
   "cell_type": "code",
   "execution_count": 9,
   "metadata": {},
   "outputs": [
    {
     "data": {
      "application/vnd.jupyter.widget-view+json": {
       "model_id": "cb26b203b8c046b59cb30ae668b70015",
       "version_major": 2,
       "version_minor": 0
      },
      "text/html": [
       "<p>Failed to display Jupyter Widget of type <code>SankeyWidget</code>.</p>\n",
       "<p>\n",
       "  If you're reading this message in the Jupyter Notebook or JupyterLab Notebook, it may mean\n",
       "  that the widgets JavaScript is still loading. If this message persists, it\n",
       "  likely means that the widgets JavaScript library is either not installed or\n",
       "  not enabled. See the <a href=\"https://ipywidgets.readthedocs.io/en/stable/user_install.html\">Jupyter\n",
       "  Widgets Documentation</a> for setup instructions.\n",
       "</p>\n",
       "<p>\n",
       "  If you're reading this message in another frontend (for example, a static\n",
       "  rendering on GitHub or <a href=\"https://nbviewer.jupyter.org/\">NBViewer</a>),\n",
       "  it may mean that your frontend doesn't currently support widgets.\n",
       "</p>\n"
      ],
      "text/plain": [
       "SankeyWidget(groups=[{'type': 'process', 'id': 'farms', 'title': '', 'nodes': ['farms^yes', 'farms^no']}, {'type': 'process', 'id': 'customers', 'title': '', 'nodes': ['customers^Men', 'customers^Women']}], layout=Layout(height='300', width='570'), links=[{'type': '*', 'time': '*', 'target': 'customers^Men', 'title': '*', 'source': 'farms^yes', 'value': 10.0, 'opacity': 1.0, 'color': '#FBB4AE'}, {'type': '*', 'time': '*', 'target': 'customers^Women', 'title': '*', 'source': 'farms^yes', 'value': 25.0, 'opacity': 1.0, 'color': '#FBB4AE'}, {'type': '*', 'time': '*', 'target': 'customers^Men', 'title': '*', 'source': 'farms^no', 'value': 11.0, 'opacity': 1.0, 'color': '#FBB4AE'}], margins={'left': 130, 'bottom': 10, 'top': 25, 'right': 130}, nodes=[{'style': {'hidden': False, 'type': 'process', 'direction': 'r'}, 'id': 'customers^Women', 'title': 'Women'}, {'style': {'hidden': False, 'type': 'process', 'direction': 'r'}, 'id': 'farms^yes', 'title': 'yes'}, {'style': {'hidden': False, 'type': 'process', 'direction': 'r'}, 'id': 'farms^no', 'title': 'no'}, {'style': {'hidden': False, 'type': 'process', 'direction': 'r'}, 'id': 'customers^Men', 'title': 'Men'}], order=[(('farms^yes', 'farms^no'),), (('customers^Men', 'customers^Women'),)])"
      ]
     },
     "metadata": {},
     "output_type": "display_data"
    }
   ],
   "source": [
    "# This is the logical thing to write but\n",
    "# it doesn't actually work at the moment :(\n",
    "# nodes['farms'].partition = dataset.partition('process.organic')\n",
    "\n",
    "# It works with 'source.organic'... we can explain later\n",
    "nodes['farms'].partition = dataset.partition('source.organic')\n",
    "\n",
    "# This should be the same as before\n",
    "weave(sdd, dataset).to_widget(**size)"
   ]
  },
  {
   "cell_type": "markdown",
   "metadata": {},
   "source": [
    "## Summary\n",
    "\n",
    "The process dimension table adds extra information about each process. You can use this extra information to:\n",
    "\n",
    "1. Pick out the processes you want to include in a ProcessGroup (selection); and\n",
    "2. Split apart groups of processes based on different attributes (partitions).\n",
    "\n",
    "Things to try:\n",
    "\n",
    "- Make a diagram showing the locations of farms on the left and the locations of customers on the right"
   ]
  },
  {
   "cell_type": "code",
   "execution_count": null,
   "metadata": {
    "collapsed": true
   },
   "outputs": [],
   "source": []
  }
 ],
 "metadata": {
  "celltoolbar": "Raw Cell Format",
  "kernelspec": {
   "display_name": "Python 3",
   "language": "python",
   "name": "python3"
  },
  "language_info": {
   "codemirror_mode": {
    "name": "ipython",
    "version": 3
   },
   "file_extension": ".py",
   "mimetype": "text/x-python",
   "name": "python",
   "nbconvert_exporter": "python",
   "pygments_lexer": "ipython3",
   "version": "3.5.2"
  },
  "widgets": {
   "application/vnd.jupyter.widget-state+json": {
    "state": {
     "1cbf16c85a674e368b9fd4149e22def2": {
      "model_module": "@jupyter-widgets/base",
      "model_module_version": "1.0.0",
      "model_name": "LayoutModel",
      "state": {
       "height": "300",
       "width": "570"
      }
     },
     "21dbf7d2d3fc462083677a2a265f8a10": {
      "model_module": "@jupyter-widgets/base",
      "model_module_version": "1.0.0",
      "model_name": "LayoutModel",
      "state": {
       "height": "300",
       "width": "570"
      }
     },
     "322f10a8f92f4ce2acde8c4c128c27ac": {
      "model_module": "jupyter-sankey-widget",
      "model_module_version": "^0.2.3",
      "model_name": "SankeyModel",
      "state": {
       "_model_module_version": "^0.2.3",
       "_view_module_version": "^0.2.3",
       "layout": "IPY_MODEL_e9f081f0e0304c7598b4d90b72da5d1d",
       "links": [
        {
         "color": "#FBB4AE",
         "opacity": 1,
         "source": "farms^*",
         "target": "customers^*",
         "time": "*",
         "title": "*",
         "type": "*",
         "value": 46
        }
       ],
       "margins": {
        "bottom": 10,
        "left": 130,
        "right": 130,
        "top": 25
       },
       "nodes": [
        {
         "id": "farms^*",
         "style": {
          "direction": "r",
          "hidden": false,
          "type": "process"
         },
         "title": "farms"
        },
        {
         "id": "customers^*",
         "style": {
          "direction": "r",
          "hidden": false,
          "type": "process"
         },
         "title": "customers"
        }
       ],
       "order": [
        [
         [
          "farms^*"
         ]
        ],
        [
         [
          "customers^*"
         ]
        ]
       ],
       "png": "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",
       "scale": 2.880434782608696,
       "svg": "<?xml version=\"1.0\" standalone=\"no\"?><!DOCTYPE svg PUBLIC \"-//W3C//DTD SVG 1.1//EN\" \"http://www.w3.org/Graphics/SVG/1.1/DTD/svg11.dtd\"><svg xmlns=\"http://www.w3.org/2000/svg\" width=\"570\" height=\"300\" viewBox=\"0 0 570 300\"><g class=\"sankey\" transform=\"translate(130,25)\"><g class=\"groups\"/><g class=\"links\"><g class=\"link\" style=\"opacity: 0.8;\"><path d=\"M1,66.25 A0 0 0 0 0 1,66.25 L309,66.25 A0 0 0 0 0 309,66.25 L309,198.75 A0 0 0 0 0 309,198.75 L1,198.75 A0 0 0 0 0 1,198.75 Z\" style=\"fill: rgb(251, 180, 174);\"/><title>farms → customers\n*\n46.0</title></g></g><g class=\"nodes\"><g class=\"node\" transform=\"translate(0,66.25)\"><title>farms</title><text dy=\".35em\" text-anchor=\"end\" transform=\"translate(-4,66.25)\" style=\"display: inline;\">farms</text><line x1=\"0\" x2=\"0\" y1=\"0\" y2=\"132.5\" style=\"display: inline; stroke: rgb(0, 0, 0);\"/><rect x=\"-5\" y=\"-5\" width=\"10\" style=\"fill: none; visibility: hidden; pointer-events: all;\" height=\"137.5\"/></g><g class=\"node\" transform=\"translate(309,66.25)\"><title>customers</title><text dy=\".35em\" text-anchor=\"start\" transform=\"translate(4,66.25)\" style=\"display: inline;\">customers</text><line x1=\"0\" x2=\"0\" y1=\"0\" y2=\"132.5\" style=\"display: inline; stroke: rgb(0, 0, 0);\"/><rect x=\"-5\" y=\"-5\" width=\"10\" style=\"fill: none; visibility: hidden; pointer-events: all;\" height=\"137.5\"/></g></g><g class=\"slice-titles\"/></g></svg>"
      }
     },
     "3725dc91edae429499da3bab554c1081": {
      "model_module": "@jupyter-widgets/base",
      "model_module_version": "1.0.0",
      "model_name": "LayoutModel",
      "state": {
       "height": "300",
       "width": "570"
      }
     },
     "45bcd8909b7b4f21bfe6f323795d57c5": {
      "model_module": "jupyter-sankey-widget",
      "model_module_version": "^0.2.3",
      "model_name": "SankeyModel",
      "state": {
       "_model_module_version": "^0.2.3",
       "_view_module_version": "^0.2.3",
       "groups": [
        {
         "id": "farms",
         "nodes": [
          "farms^yes",
          "farms^no"
         ],
         "rect": {
          "bottom": 238.50000000000003,
          "left": 0,
          "right": 1,
          "top": 26.5
         },
         "title": "",
         "type": "process"
        },
        {
         "id": "customers",
         "nodes": [
          "customers^Men",
          "customers^Women"
         ],
         "rect": {
          "bottom": 238.5,
          "left": 309,
          "right": 310,
          "top": 26.5
         },
         "title": "",
         "type": "process"
        }
       ],
       "layout": "IPY_MODEL_21dbf7d2d3fc462083677a2a265f8a10",
       "links": [
        {
         "color": "#FBB4AE",
         "opacity": 1,
         "source": "farms^yes",
         "target": "customers^Men",
         "time": "*",
         "title": "*",
         "type": "*",
         "value": 10
        },
        {
         "color": "#FBB4AE",
         "opacity": 1,
         "source": "farms^yes",
         "target": "customers^Women",
         "time": "*",
         "title": "*",
         "type": "*",
         "value": 25
        },
        {
         "color": "#FBB4AE",
         "opacity": 1,
         "source": "farms^no",
         "target": "customers^Men",
         "time": "*",
         "title": "*",
         "type": "*",
         "value": 11
        }
       ],
       "margins": {
        "bottom": 10,
        "left": 130,
        "right": 130,
        "top": 25
       },
       "nodes": [
        {
         "id": "customers^Women",
         "style": {
          "direction": "r",
          "hidden": false,
          "type": "process"
         },
         "title": "Women"
        },
        {
         "id": "farms^yes",
         "style": {
          "direction": "r",
          "hidden": false,
          "type": "process"
         },
         "title": "yes"
        },
        {
         "id": "farms^no",
         "style": {
          "direction": "r",
          "hidden": false,
          "type": "process"
         },
         "title": "no"
        },
        {
         "id": "customers^Men",
         "style": {
          "direction": "r",
          "hidden": false,
          "type": "process"
         },
         "title": "Men"
        }
       ],
       "order": [
        [
         [
          "farms^yes",
          "farms^no"
         ]
        ],
        [
         [
          "customers^Men",
          "customers^Women"
         ]
        ]
       ],
       "png": "iVBORw0KGgoAAAANSUhEUgAAAjoAAAEsCAYAAADKLxnbAAAgAElEQVR4nO3deZRcZZ3/8S8QBBEQNWJGc0b4iYA7ozOCo46oURGRReOCMuCCiIosghsuNIoKuGFgRhT9RRFDplLf53bV96lKWsQCZQkkLAIKKiAoiBsSFn9z6j635/n9UZWhKTpJJ6mup5b365zPOV23qqur7vo5t5+qKwIAAAAAAAAAAAAAAAAAAAAAAAAAAAAAAAAAAAAAAAAAAAAAAAAAAAAAAAAAAAAAAAAAAAAAAAAAAAAAAAAAAAAAAAAAAAAAAAAAAAAAAAAAAAAAAAAAAAAAAAAAAAAAAAAAAAAAAAAAAAAAAAAAAAAAAAAAAAAAAAAAAAAAAAAAAAAAAAAAAAAAAAAAAAAAAAAAAAAAAAAAAAAAAAAAAAAAAAAAAAAAAAAAI+MVIrJv7vUoQggZ9Jz53iO+LCL7Jt6vAugjp4jIWO7dakIIGfQcd/CBd4vIWOL9KoA+QtEhhAxNKDoAOlF0CCFDE4oOgE4UHULI0ISiA6ATRYcQMjSh6ADoRNEhhAxNKDoAOlF0CCFDE4oOgE4UHULI0ISiA6ATRYcQMjSh6ADoRNEhhAxNKDoAOlF0CCFDE4oOgE4UHULI0ISiA6ATRYcQMjSh6ADoRNEhhAxNKDoAOlF0CCFDE4oOgE4UHULI0ISiA6ATRYcQMjSh6ADoRNEhhAxNKDoAOlF0CCFDE4oOgE4UHULI0ISiA6ATRYcQMjSh6ADoRNEhhAxNKDoAOlF0CCFDE4oOgE4UHULI0GQdRef5InKXiPxdRKKIHL+efeKWInJz+3F3icjnu77XBdBTFB1CyNBkA2d0vicPF5jHrOMxC9uPiSIyp7u7WwApUHQIIUOTGRSdmrRKzFHreMxqEVkuFB1gaFB0CCFDkxkUnUNF5E4RuU1Etuq4f38R+S8ROUumLzoHSKsI/UZE7hCRb4nI49v3HSMPnwk6SkTOFJE10jp79MlN2jsD6AqKDiFkaDKDorNQRD4krUJyWMf9l4nIC2T6onOQiPyPiBzevr2jiKwUkUtEZAsR2UFEnt3+vVUicqyIPE9EzmhPe8km7qMBbKZTRGQsmJZzy5bm3v0g97o4Nz0vt/I3C6+LgndfC+bODN6d1qzqyXlVP1x4d0RRLb85WPba3GcvIoSQbif48X8tbPyNuXdH5FV3QvDu1ODd6cHcV/OqLspN/zP37tu518V51f0gN3fhUfu95hey4aKzrYjcIyK/kFZJERHZV0Ss/fN0RedXInJNx/Pt137cgvbt7du3l055zBwR+W8ROXkj9ssAuqgrZ3SC18uCdz737oJg7qxg+rGmuXeGLNs3WvmZsdHYNvUbBdB/Yr0+P3hdkFf1/U3TUwqv/xFMlwXvLp3FMzoiIh+VVil5U/v2j+Thsy6dRWd++/bZHc/3lPb0L7Vvry06J3Y87rci8o2ZzxUA3dS7f12Z+3Fh+v1g+sVJn30g+PLr4vJsl9QzAMDsi6XSVnFFabei6g4IFT2xsPK3Q81dkuhfVyKtUnKvtMbcvFhELp7yuM6is1f79n3SGpszNWukNVZn7XNGETmy4+/eKiLnbOQsA9AlycfoBK+XFd59r1l1nyrqurBZqTw/Ll7MGSBggMX6BTtGy/YNVXdS61/ifTVGZ61TpFVMbhORV02Zvq4zOmds4G1TdIA+lLzorCtN78abXk9vVstvjhPVXVPPKADrFusX7BiybN9Q0RPzqlsSvK5Ksd/YyKLzBBF5QESu7HjcdGN0bhaRFdM85+fl4ZJE0QH6UN8Wnc4ErxcFc2cW3r09Li/tEWPcYoPvDsCsyau6T6joibnphan3D5tYdERE9hSRp3VMm67o7C8iQUTePGXaW0Tk9yLyxPZtig7Qhwam6Dy6+LhLC58tKnx2GGd8gNkXG41tox9fELw7LTft+viaWSw686Q1nuYhEfmziNTX8Ra3az/uAWkVljvkkQOLXyutsz+3i8i1IpKJyB7t+94ore/niSLyVxH5+pS/G9rPecmmzHcAm2dgi05nmt6NByt/JNYq/xwbDb7RFOiC2Mh2anr3pmDuG8H0ytTb+SYWHQAjbGiKztSEmrukae5LRT17faxUdkg9k4FBEuuLtimsfHDh3XdTb8sUHQCbayiLzqNiel5R14WUHmDdYr0+P1TdScFcI/k2S9EB0CWjUXTaCaZX5qZfCV5fGVev3jr1zAdSi43GnODLryus/O3U2ydFB8BsGKmi88jS4xpN00/n9fI/pV4IQK/FSuUpubljg9eLUm+LFB0As2lki87UNE1XTPrsA9FsbuoFAsymWK8/edLcJwZhYDFFB0A3UHSmxnRl8Pq5WCntlnrBAN0UbcncSe9OCt5dkXw7o+gA6CGKzjqj58bl7mWpFxCwOaL3T5isuROC18vTb1MUHQC9R9HZQJrVcrmw8UMYvIxBEusX7JibOzav6mWpt6FehqIDoBNFZ4YJphfn5o6OjWyn1AsNWJdYKm3VrJQPm40rgw9CKDoAOlF0NjLB6+XNqvtUrNfnp154wFR5vfxPwdSl3kZShqIDoBNFZxMTvK7Kq/r1fIW+MPVCxGiLE27nYHpG6m2iH0LRAfrXdiLyB2ldEO5+Eam2p88XkbtEZFJE7p7y+ANEZLWI/EZaF437log8fsr9zxCRiohcLyLXicjlInLcNH+XotOd/CBY9to4NrZll9YHYIPi6tVb56ZHjto4nPWFogP0ty1E5DYR0Y7p80Xkxim3DxKR/xGRw9u3dxSRldK6Mu4W7WnXi8jnp/zOm0XkwWn+JkWniwlWtmZN3xGvKD12c1YEYENiXfcJppXU63y/haID9L8xEWmKyBOnTPukiHx8yu1ficg1Hb+3n7TOBi0QkW3bP7+n4zGnTPP3KDqzEdNLJr1+mC8gRLdFWzKXf1OtOxQdoP/9H2mdrfnglGm/EJGntX+eL60Sc3bH7z2lPf1L7dtXi8jfReQrIrK+SxxQdGYzpiuDd6fGiequm7daACJFXReO6qepZhqKDjAYfiYiV7V/3kdEJqbct5e0Cs190hqbMzVrpDVWR0RkJ2mVnnvaj79FWv++6kTR6VEKr/8R67pP91YTjIqYZc8oTM9PvQ4PQig6wGA4UlrlZE8R+aaIvHPKfWvP6Jwxw+faSkT2l9a/uiZF5Lkd91N0epym6dKi6g6IjcaczVlJMPxag43LxwSvK1Ovt4MSig4wGHYUkf8nIl8TkTul9YmsqW4WkRXT/N7nReRV0jqbc1bHfbtLqyC9rWM6RSdRmqYr8pq+K5ZK22/m+oIhlPvsRcG78dTr6aCFogMMjgtFpBCR705z3/4iEuSR/4p6i4j8XlqDmOeJSC4iL51y/5HSGrPz9I7nougkTjD301B1J8VaaV53Vh0MsphlOzVNP596vRzUUHSAwfF6aZ2BecU67n+tiFwpIreLyLUikonIHu37tpFWgblWWt+hc4OIXLqO56Lo9EmC6VVNc1+Ky0t7TLOcMAIKrwcG04tTr4uDHIoOMDjmi8hv5eHvxZktFJ1+jOl5oab/NsvLHn0i1uvzc9Pzkq93QxCKDjA4ThCRU3vwdyg6fZzgnTa9exNXTh9OsdGYk3s9Knh3Rep1bVhC0QH62ydE5N3S+sK/X8ijx9PMBorOACR4vSj3elS8qPT4DS5RDIQ8K+016hfgnI1QdID+dqSIPCCtT1od26O/SdEZoASvl0+afpIrpw+uWKnsELx+JnhdlXp9GsZ85JCD7haRz6ZezgD6B0VnABO8rgo199VYy/ZKvQJh5op69vrW2bn069AgJJhr5LVsae717OD1M3lV31/Y+CHBj/9rbu4F0cp7xuXZLnGF/kMslZ4YJyYel3oZA+g/FJ0BT+Hd96IfXxBjnO2B69hEsVJ5au713NTrSr8mmPtp7nVx8Hpy4d1bYi3bK5p1fn8YAGwSis6QJJhWm969PS5evG3qlQoPK8y9O/W60W9pejc+afrJ6McX8G9YALONojNkCeYauZWPie77T0q9co2yaLZn03Rp6vWhH9I09U3TsaKib4gTbufUywbAaKHoDGmC6ZVN0zGunN5b0Wy74Jd9PJhenXodSLr+eaeT5o6OK0q7pV4mAEYbRWckomfntfLeqVe2YRfq7lWhqsvTL+80aX1cXj8YrfzM1MsCANai6IxSqm5JYeX9Y6m0VeoVb5jECbdzbu6s5Ms3QYLXn4SKnhjN9ky9HABgOhSdEUwwV8/NHc7HcTdPjHGLolY+tPWpofTLtXfrj16Vmzsr1N2rYqMxJ/VyAID1oeiMcIJ3lwYrf4QBohsv1tzuuXcXpF6GPV1fTKtFTd8Vbcnc1PMfAGaKokNWB9Orgndf4MrpGxYbjW0na+6EYHpV6uXWqzRNfWHjh/AvTwCDiKJDHpHC67ficvey1CtmPwoVfWnwWku9jHqVUNXlzWr2Vv49BWCQUXTItGlWy+Vo2cFcOV0k2pK5wevpqZdJrxK8+1Gzpu9g2QMYBhQdst4E736Umx4ZK5UdUq+sKTRNF+aml6ReDr1Z1np57vWDsdHg27UBDA2KDplRgtfLgpU/Ea30tNQrbS/E7MJdcq+LU8/3XqXp9fRYK81LPd8BoNsoOmSjEkyvzk2/kpt7QeqVdzbE1au3zq38odx0Zep53ZNU3ZJmpfL81PMdAGYLRYdsRnRxsGWvHpYrp+dWenEwraSfr7OfYK5RWPng1PMcAGYbRYdsdoJ3481q9tZBvXJ6zLKdgtfPpZ6PPVxep8Ys2yn1fAeAXqDokK4lmF7cGsw6OAfRwspvbL3u9PNv1pePd+O5z16Uep4DQC9RdEjXE0yvDFX32VjTp6dewdcl1uvzc9PzUs+rnsR0ZW7lD/FxcQCjiKJDZi3B66pg7ht5Vf8l9Yq+Vmw05hR1977g3RWp508vUpieH7MLd0k93wEgFYoO6U1Mfxhrbr+UlxHIs9JewdQlnxc9SKi5S4q6Lkw1rwGgX1B0SE8TvNYKnx3Wyyunx0plh1DTTwevq1K//57MY9MzuPAmALRQdEiShJq7JPd6/GxfOT1USvsF736U+v32ZJ56rYWKvnQ25ycADBqKDkma4HVls1o+LVZKu3VzxY6l0rzcyuekfn89mYemV4eKnsilGwDg0Sg6pI+i527uGYk4NrZl7stHBK+XpX8/s5+m6dJo5Wd2aX8AAEOHokP6LsG7UlFbdlBsNOZszMoczfZsmi5N/fp7kqpeVvjssDg2tuUs7RsAYChQdEjfJpibyL17z4aunB7NtgumHwumV6d+zT2Jlc+JJS7ACQAzQdEh/Z+qXhZMPzbdldOD11eGqi5P/hp7kGBuIlj22gT7CQAYWBQdMjAJplcHc2c2vXtWrNefnJs7K/Vr6sn79rqqWXWfiqXS9ql3GAAwaCg6ZKASvFtdeHdbMP1j8O5XqV/PrL9fU9f07rmpdxQAMKgoOmRgEry7MXi9N/jsobXJTe9rer0t9+6a1K+vy+/1iqKmR27sgGwAwCNRdEjfJ3h3TWHud8HrQ1NLziNi7oHc9M7c6/WpX+9mx/S8WK/PT71zAIBhQNEh/R3Tm4PXNessOB3JvT7UNHd38O6G5K99IxNMLy68Hph6pwAAw4SiQ/oywbvrgtd7ZlpwHh19KJj7U+7dL1O/l5mkWS2fFrNsp9Q7BAAYNhQd0ncpvLs1ePfAppeczrM87t7g3a9Tv6/pEqxsea28d+odAQAMK4oO6ZsE724ovPtLtwrONGd51uSW3Z7X9Nr071VXTnr9cKwv2ib1TgAAhhlFh6SPuWtyr3eud7BxF5ObPpib+13wLsnA5cL0/Jhlz0i98QPAKKDokNT5ZTB3Xy8KznTjeJpe/5B7d2Mv3mvw7tKm6dtSb/QAMEooOiRJgnfXFd7dnabgTBPTP+fmbpm192zurOi+/6TUGzwAjBqKDul5CtPfBO/uT15upvu3lnd/y727NfdZV95rMFcPWbZv6g0dAEbVHiKyZ26lF0fL9i3q2eub3r2pae6duemRk14/HEw/1jQ9pen19GDurLyq3wnmGqkPlmTwEmru58Fmc7BxN+Puz2vut5s6cDmYXj1Zcx+NZtul3sgBAJsg2pK5uZVe3KyUD2uajhWm3099ICX9meDd6tzrHcG7B9MXmI08w2Plh4LXu0LN/Xym77dpujSa7Zl6GwUAzIJY06dHy/bNzR2dm34leK2lPtCSdAne3VR497fUhaVLZ3nuyb27ad3vVS/LffmIODa2ZertEADQQ9FsbvC6YLLmTsi9Lg6mV6Y+AJNZLjim1xbe3dWrj4z3NOb+kj/qyul6biyV5qXe1gAAfSAuXrxttGzf4PVzjPcZxuiv+3WwcTeTm94XTH8ea+6A1NsUAKCP5VXdp2n66eD1J+kP0mRTE7y7Ppj7U+oC0sMzO3cHy67Nzf04N3d0bHCtKgDAesRSaavgx18evJ4evLsi9YGbzLjgrC58dnswHbjBxpuS1pgj94tHzwe9PHg9Odbr81NvSwCAPhdLpe0LKx9cePe91Adysp6Y3hS8uzd1+ehRwXmw8O6OMKP54s7K6+V/Sr0dAQAGQKy53YPXz7Q+1dIHB3eyOm8NNv79UA42nr7k/GVjPmK+NoXp+aHiXsMnsQAAGxRLpe2blfJhTe/Gkx/oRzihlt0SvFuTunz0JOYeyL27dbPnmWm1qJUPjVeUHpt6OwIADIBQda/Iq/qd1Af9UUrw7vrCuz8mLx+9O4vzh+DddV2dh+Yak5Ydw3WvAAAz0vTuWcHr6cH0qtRFYFjTGmzsbiu8eyB1+ehRwbkvN715Vuer6cpg2VicqO6aehsCAAyAWCvNm6y5jwbTn6UuBkMVczcGryMx2Dh4fSg397vg3TW9ncflc/Kq7pN6GwIADIBYqeyQe/eeYG4ieUkY4ATvrmkd9EdjsHHwem9u7sak8930wqKib4iNxpzU2xEAoM/FRmNOUVt2UDBdlro0DFxMby68uy99+Zj9FN49UHh324w+Mt6jhKouz335iFgqbZ96OwIADIBgpZcVNXdu6gNYvyd4d13wek/q8tHDkvPH4N31qef7OpeHuZ+Gip4YJ9zOqbchAMAAiMtLewTvvsDA5Wlza7DRGGwcvFuTP+qinP2bYHpVMP1iXF7aI/U2BAAYAHHC7Rys/JFg7qepD2KpE7y7ofDuL+nLRy+iDwXTu3LTa1PP901NYeVvBz/+8tTbEABgAMRSafvcl49ojYlIfxDracxdk5veOTqDjd3fgnc3JZ/vXUowLRc2fkhcvXrr1NsRAKDPxUZjTlF1BzRNl6Y+gPUovww2GoONg7kHC+9+20+DjbtaeLxeVNTd++JFpcen3o4AAAMg1nWfwut/pD6Azc5B0V1XeHd38vLRs+ifg+lGX59qEBO8XjZp7hPRSk9LvQ0BAAZArJR2C14/l5uuTH0Q60pMfxO8uz99+ehF3P256W+Sz/MUhcf06uCzr+RZaa/U2xAAYABEs7m5ZceFmrsk9UFsEw98Pw82KoONs4eCd3cHywZ2sHFXY+XvBa8LYoxbpN6OAAB9Ll5RemyzUj4seOeTH8BmUnC8W517vSN492D68tGDmLsv9+6Xqed7PyaYVpqmb4uLF2+bejsCAPS5WCptFWtuv9z0h6kPYOspOTe1PmXUBwVk1qMP5aZ35tbj61MNYILXn+RW/hBXTgcAzEhupRfnXs9OfQD73wOZ6bXBu7tG5SPjre//cTeknu+DlmB6ZdP0FK6cDgCYkThR3bVpOhZMr0x2ADP99QgNNn6g8O7W1IVhGFL4bFFupRen3oYAAAMguu8/adKyY4K5Rq8OVMG764O5P6UvH72K3hO8uy51QRi6VN2Sop69PpZKW6XejgAAfS4uXrxtUSsfGqxss1hwVhc+uz2YjsZgY69rgnc3Jy8EQ57gtVZUs3+PExOPS70dAQAGQPTjC3LvLujqAcn0puDdvenLR08KzkNFzf0ueAYb97TwmP5ssuY+Gmuleam3IQDAAMh99qLc3FnB66rNKDjXBu9+PyqDjYPXe4N3N6Y+6I9ygunVoea+yjgeAMCMxJo+PdT008G7KzbugJPdErxbk7589CCmD+amtw/r9akGNcG03Kxmb41m26XejgAAfS42sp0mffaBYHrxeg8uretT/TF5+ehZyXF/Ct5dn/qgTtZbeH4WvDs1r+q/8K3LAID1ivVF2zSr2VuDd+OdB5TCu9uCdw8kLx89SFFza4J3v0p9ECcbWXq81nIrHxPr9fmptyUAQB+LMW4RbNmrcyt/Lzd3YzD319TlozfRh4LXu4Ip16ca8ATT8qR3JwU//vLYaHC5CQDAI8X6om1yy44L3t0QvLsnfQmZ7bi/Be9uSn2AJrMU0/Pyqr43Trjnpt62AACJ5bXy3o/63p2auyF4vSu3YfuUlXuwfcHR9Adj0pMEc42mL3+5abqQf3MBwAiJ3j8hmH5xAweK63LTO4MNwXgdc38JNffz1Adekjjmfpx7PTdU9MSituygZrX8nFhftE3q7REA0EWFjR+ysZeLaHq9LTe9L3lh2fizOPcXpr9JfoAlfZ2m6Yq8qt8J3p2aez2qqLoD8hX6wphduEusX7Bj6m0WADADMbtwl9zr4s07KOivgnd/SV9gZhL9A9enIt1KqOry3PSHublvBl/+WvDuC6Gmnw5Vd9Lp7/73r4nIq1Jv4wAwkuLq1VtPmjs6N13ZxR3/Ta0LXfbhOB5z9+Xe/TL1gZGMTo47+MC7RWQs9bYOACMn99mLpvuunG4l1PTnwfpl4LI+VHi9MzeuT0V6G4oOAPRYrFR2aJqO9XBnf11uekcwd3+iszh/zY3rU5E0oegAQA8VFX1D69MlCXb6rbMpt/Zu4LJ7IPd6W+oDHRntUHQAoAdipfLU3Ou5qXf6/xtztwSbvYHLhXf35KZcn4okD0UHAGZRbDTm5FV9b/B6eeod/vTRm1qfgOrWOB5dE7y7Of37IqQVig4AzJKmd88NpstS7+hnkuDd9cG73wfTBzd1sHHw7vfBM9iY9FcoOgDQZbFU2j54PTl4XZV6J7/Rqem1udffBr8xA5fdvbkp16cifRmKDgB0Uai41wSvK1Lv3Dc/2ercu1tzc39b96ep9MHCZ7dzfSrSz6HoAEAXxFJpXm7lc1Lv1GclNXdL3jlw2dyfgncMNiZ9H4oOAGyGODa2ZeGzw/KqXpZ6h96D3Jib3p6bu6UPXgshMwpFBwA2UTTbs2m6NPWOvBcJXleFmn46lkrbR7O5k16PD95dmvp1EbKhUHQAYCPFRmPbUHUnBdOrU+/Ee5Fg6vKstNej5sPExOOKavbvwWst9WskZF2h6ADARggVfemoHNiD6ZW516NiozFnffMklkpbFVbeP6+6JalfMyGdoegAwAxEWzK36ctfTr3T7llMz4v1+vyNnU95rbz30A7KJgMZig4AbEDT9G2jMh4leP1JUVt20ObOszhR3TVYNpabrkz9nshoh6IDAOsQs+wZhen5qXfUvUrw7rTo/RO6Og/d95806fXDueklqd8fGc1QdACgQ6wv2iY3d2zwo3E2IljZ8lp571mdp1eUHtus6Tuapj71+yWjFYoOAEyR18p7Bytb6p1zLxK8rszNHRvri7bp1fyNY2NbBl9+XdPcBanfPxmNUHQAQESi908I3n0h9U65VylMz49Z9oyU8zyvlP85mDtrIK8JRgYmFB0AIy9adnAw10i9Q+5FgneXNr17e+p5PlWs6dOD188E765IPX/I8IWiA2BkxezCXXKvi1PviHsWc2fFev3Jqef7usRGtlPu9YPB60+SzysyNKHoABg5sdGYk5s7uvWFeOl3xLOdUNXlwesrU8/3mYqLF2/bNH1bMK2knndk8EPRATBS8qy0VzB1qXe+vUgwvTqYfiyabZd6vm+KGOMWweuCwrvvpZ6XZHBD0QEwEqItmRu8fi71TrdnqWVLm949N/V875ZYy/YKNfdVBi6TjQ1FB8BQi4sXb5t7PSqv6mWpd7i9SPB6WV7Td8WxsS1Tz/vZEOv1+cHrycHr5annNRmMUHQADK3CyvsHc/XUO9reRc+NlcpTU8/3XogXlR6fV/X9wdyP08930s+h6AAYOs3a+PNG6dINubkfx5rbL/V8TyHWF23TNF0YTLPky4H0ZSg6AIZGXF7ao/DZotQ71l6maXpKrFR2SD3v+0Hw+srC3P9NvUxIf4WiA2DgxUppt+DLX0u9Q+1lgqnLs9Jeqed9P2pWKs9v+vKXg+nVqZcTSZ91FJ0bRKQpIpMicpeIHDjlvueISBSRwzt+51ci8ncR+bOIHDYb6y4APEKcqO4aTM8YpU/iBNMrc3NHx0ZjTur53++ilZ4WrPyJ4EdjIDqZPus5o/MtESlE5Akd00+QVtH54TS/c7mI7NzN9RQAHiGuXr11rLn9cnPfHKWC04oujtmFu6ReBoMmVio7FDU9Mnj3o/TLkPQ66yk6b5ZWoVnYMX25iPxaWmdutpgyfScRWTULqygAiDSr5edMmn4yN70k9Y6z1wnmGoWNH5J6GQy6uHr11oWNHxJMy6mXKeld1lN0dpLWGZ1vT5m2jYjcJiIfklYJeuGU+xaKyOlTbr9ORFaKyK0icqeI/EBE/mHK/ce0nyOKyPtE5EwRub/92HeKyJYi8lURWSMid8ij/1UmInKAiKwWkd+0H/MtEXn8NM9/VPv510jrX3GfnOa5APSbOOF2zs0dHkyXpd5ZpkrT6+nR+85T69hMoab/lpuel3r5ktnPBgYjXy6tArHWq0XkfBF5hrQKxCem3PdtEXlV++cDpDW+59D27W1EpCqtQrL2wwE7iMiz289ztYh8QESeJ61CVIjIIhH5cHva+SKSi8jTpvy9g0Tkf+ThArSjtIrVJdI60zT1+VeJyLHt5zqjPe0l63jPAFKKZnOblfJho/61/8FrLa+V9069PIZdXF7ao+n19GB6VeplTplF82MAAAlJSURBVGYnGyg6p0irFOzRvn2GPDzQ+DYRaUx57C9E5DHtn28RkSs7nmv39nN9fMq07dvTlkyZtmt7mpsy7entaW+dMu1XInJNx9/Yr/24BR3Pv3TKY+aIyH+LyMkCoD9EK/1ju9x8N/VOsS9i2XGx0dg29XIZJbFWmjfp3UnB9GfJlz/pajZQdPaRVlH4cPv2NSLylPbP35TWJ7MeJ60iVG9Pn9/+nUXTPN8aEbloyu21ReTEKdO2aU/71JRpW3W8jrV/4+yO539Ke/qX1vP8IiK/FZFvTPP6APRCLJXmxZo7IFg2FrzWUu8I+yamP4xWfmbq5TPKYqm0fWHu3cHriuTrA+lKNlB0thKRv4mIiciTReTaKfcdIq0S8QZpFZDj2tP3ak8/dZrnu11Erptye20ROXLKtDntacd0rn4icnzH37hPWv9am5o10hqrs67nF2mNGzpnmtcHoNtifdE2ccI9t7DxQ5pV96lgWkm94+u7VPWywmd8L0cfiY3GnMLrgcG7UvL1g2xWZvCFgctE5EEROUJa/7paa0cRCdI6c2Mi8qz29HWdbRFZ9xmdjS06a//GGbJ+FB2gV2Ij2ynW3O6h6l6RV/X9TV/+ctO78dQ7uX5PMHdWnHB8L0cfCxV9ae713NTrCtm0zKDovE9aZeHX0hqMPNVl0ioNv+yYfou0BgZP9UxZ9xidjS06IiI3i8iKaV7v5+XhQdEUHWATPEVE5uVWenGo6b+FintNrLkDmqYLm+bemXv3ntzcscH0i3lVv8MZmk1L8Loi+vEFG1wa6Butb+B2pwWvK1OvP2TmmUHR+UdplYW/S2v8zFSfbd/33Y7paz919Y727ceIyLi0PnW145THbU7R2V9aZ5TePGXaW0Tk9yLyxPU8vwhFB1ivU0RkLPXOaVgTvK6aNPeJWCptn3pBY9PECbfzZM2dELy7NPX6RDacGV7r6mZpfVFgp72lVSTeNs19+4nIVdIqFb8TkQvkkd+j80ZpfWdOFJG/isjXReSl0hpnE0XkXhH5T2kNiF477W/t51nrtdL6dNft0ho/lMnDnxCb7vnntZ8riMgD0vooOoAOFJ1ZSjBd1vTuuakXMLojTkw8rvU9T66eet0i6w4X9QTQiaLT5QSvl+fevYfrUw2n2GjMKSr6htz0wtTrGnl0KDoAOlF0uho9N1YqT029UNEbeVX3Kcydk369I2tD0QHQiaLThQRzPy6q7oDUCxNpxInqrsG7U3Nj4HLqUHQAdKLobGaCZWMxy3ZKvSCRXjSbm5s7dhQvRtsvoegA6ETR2cQE78Zzn70o9QJE/4lXlB7bNPfO4J1PvZ6OWig6ADpRdDY2pitzrx+Mq1dvnXrhob/FUmmrUCntl3t3QfL1dkRC0QHQiaKzUdHFMbtwl9QLDYMn1ir/HMx9I/06PNyh6ADoRNGZSUwvaZouTL2wMPhiTZ8equ6zwfTK5Ov1EIaiA6ATRWcDCaZnRFsyN/WCwnCJ7vtPyq18TPD6k9Tr+DCFogOgE0VnHQmmlVDRl6ZeQBhucfHibQvv3h5Mq6nX+WEIRQcYTMdI6/omUUSOEpEzRWSNiNwlIp+c5vGvk9aVdm+V1rVRfiCPvCbLVBSdjgTTnxU1fRffbIxeimNjW4aKe01hen7qbWCQQ9EBBtMOIvJsaRWdVSJyrIg8T0TOaE97yZTHrr3K7qHt29uISFVaV9ndYZrnpuhMSfDuNP5NhdTyFfrCvKpfD15Xpd4mBi0UHWBwbS+tUrN0yrQ5IvLfInLylGm3SOvqt1Pt3v7dj0/zvBSdVv6rWS0/p3uLC9h8sV6f3zT9dPDuij7YRgYiFB1gcK0tOid2TP+tiHyj/fP89mMWTfP7a0Tkommmj3TRCaYXF3VdGGPcokvLCei62Mh2yqv6/uD1otTbTL+HogMMrrVF58iO6beKyDntn/dqP+bUaX7/dhG5bprpo1l0zP049+49sVTavkvLB5h1sdGY0/oCQl2cfBvq01B0gME1k6Kz9ozO2dP8Pmd0vFsdzNWLWvnQWF+0TZeWC5BErLndm6anBK+Xp96u+ikUHWBwzaToiLTG6KzseMwzZcTH6DS9G4+WHcwnqTBsYv2CHfOavqtpynW1KDrAQJtp0Vn7qat3tG8/RkTGpfWpqx2ned7hLjq1bGmolPZjDA5GQfDjLw/enZZ8u6PoANhIb5TW9+FEEfmriHxdROaJyB0iEkTkARG5ZMrj9xORq6RVgn4nIhfIKH2PjunK4PX0vKr/MgvLAuh70Wy7wuuBuddzR+0j6hQdAJ2GpugEK1vu3Xtilu2UeqYC/SKazc3NHZ7XsqWpt1GKDoAUBrroBNOr86p+PS53L+PfU8D6xZrbfdKyY5rVcjn1tkvRAdArA1l0gpUtN3d0rNefnHoGAoMo1krzCu/eXpj+Z266MvU2TdEBMFsGpugE08qkZcfE5aU9Us80YJjEiYnHRT++IHj9XGh9x1Ty7Z2iA6Bb+rroBO/8pNfjuTwD0Du5uRfkVX1vYe6cYPqz1PsBig6AzdGPReeC3OvxeVbaK/XMAUZdHBvbsunds5rm3hl89pVgenEf7CMoOgBmLGnRCaZXN81dMOn1+ODHX84lGYD+Fyul3Qrv3tI0HcurbknqckPRAbA+PS06wdxPc6+LJ2vuBIoNMBxiqbRVXFHarbDy/pNej8/NfTPVWB+KDoBOs1J0gtefFF6/06y6TxW18qF5VfeJE27n1G8WQO/ESuUpwdxLCu/eklt2XNOXv5xX3ZJQc5dQdAD0yiYVnWBuIvfuB8FnXwl+2cfzmr6rqOgb8hX6wmhL5qZ+UwD6W7yo9PjmeOnZ0Y8vyH35iFDRE5umn8+9np1794NgZduUgdAUHQCdXiEi++amR+bmDi+8e3uzWn5z4fXAWHP7BVv26uDHX55XdZ9mbfx5sVaal/oFAxgtccLtHGtu99xnLwrmXhKq7hXRjy8o6tnri9qyg5qmC4ta+dDcl4/40rsOP1NE9k39mgEAAAAAAAAAAAAAAAAAAAAAAAAAAAAAAAAAAAAAAAAAAAAAAAAAAAAAAAAAAAAAAAAAAAAAAAAAAAAAAAAAAAAAAAAAAAAAAAAAAAAAAAAAAAAAAAAAAAAAAAAAAAAAAAAAAAAAAAAAAAAAAAAAAAAAAAAAAAAAwHD5/0EG2f8op6JKAAAAAElFTkSuQmCC",
       "scale": 2.880434782608696,
       "svg": "<?xml version=\"1.0\" standalone=\"no\"?><!DOCTYPE svg PUBLIC \"-//W3C//DTD SVG 1.1//EN\" \"http://www.w3.org/Graphics/SVG/1.1/DTD/svg11.dtd\"><svg xmlns=\"http://www.w3.org/2000/svg\" width=\"570\" height=\"300\" viewBox=\"0 0 570 300\"><g class=\"sankey\" transform=\"translate(130,25)\"><g class=\"groups\"><g class=\"group\" style=\"display: none;\" transform=\"translate(0,26.5)\"><rect x=\"-10\" y=\"-20\" width=\"21\" height=\"242.00000000000003\" style=\"fill: rgb(238, 238, 238); stroke: rgb(187, 187, 187); stroke-width: 0.5;\"/><text x=\"-10\" y=\"-25\" style=\"fill: rgb(153, 153, 153);\"/></g><g class=\"group\" style=\"display: none;\" transform=\"translate(309,26.5)\"><rect x=\"-10\" y=\"-20\" width=\"21\" height=\"242\" style=\"fill: rgb(238, 238, 238); stroke: rgb(187, 187, 187); stroke-width: 0.5;\"/><text x=\"-10\" y=\"-25\" style=\"fill: rgb(153, 153, 153);\"/></g></g><g class=\"links\"><g class=\"link\" style=\"opacity: 0.8;\"><path d=\"M1,26.5 A0 0 0 0 0 1,26.5 L309,26.5 A0 0 0 0 0 309,26.5 L309,55.30434782608695 A0 0 0 0 0 309,55.30434782608695 L1,55.30434782608695 A0 0 0 0 0 1,55.30434782608695 Z\" style=\"fill: rgb(251, 180, 174);\"/><title>yes → Men\n*\n10.0</title></g><g class=\"link\" style=\"opacity: 0.8;\"><path d=\"M1,206.81521739130437 A100.80225333518403 100.80225333518403 0.5618258264736977 0 0 54.7006114744039,191.32028264442047 L238.4198829170977,75.66974551151684 A132.48703594387968 132.48703594387968 0.5618258264736977 0 1 309,55.30434782608695 L309,86.98913043478261 A100.80225333518403 100.80225333518403 0.5618258264736977 0 0 255.2993885255961,102.48406518166648 L71.58011708290229,218.13460231457012 A132.48703594387968 132.48703594387968 0.5618258264736977 0 1 1,238.5 Z\" style=\"fill: rgb(251, 180, 174);\"/><title>no → Men\n*\n11.0</title></g><g class=\"link\" style=\"opacity: 0.8;\"><path d=\"M1,55.30434782608696 A180.66469484670606 180.66469484670606 0.42517856208393834 0 1 75.52119701090461,71.38981202653147 L264.1820950592448,156.8151472678462 A108.65382528148868 108.65382528148868 0.42517856208393834 0 0 309,166.48913043478262 L309,238.5 A180.66469484670606 180.66469484670606 0.42517856208393834 0 1 234.47880298909539,222.4145357995555 L45.81790494075524,136.98920055824075 A108.65382528148868 108.65382528148868 0.42517856208393834 0 0 1,127.31521739130434 Z\" style=\"fill: rgb(251, 180, 174);\"/><title>yes → Women\n*\n25.0</title></g></g><g class=\"nodes\"><g class=\"node\" transform=\"translate(309,166.48913043478262)\"><title>Women</title><text dy=\".35em\" text-anchor=\"start\" transform=\"translate(4,36.00543478260869)\" style=\"display: inline;\">Women</text><line x1=\"0\" x2=\"0\" y1=\"0\" y2=\"72.01086956521738\" style=\"display: inline; stroke: rgb(0, 0, 0);\"/><rect x=\"-5\" y=\"-5\" width=\"10\" style=\"fill: none; visibility: hidden; pointer-events: all;\" height=\"77.01086956521738\"/></g><g class=\"node\" transform=\"translate(0,26.5)\"><title>yes</title><text dy=\".35em\" text-anchor=\"end\" transform=\"translate(-4,50.40760869565218)\" style=\"display: inline;\">yes</text><line x1=\"0\" x2=\"0\" y1=\"0\" y2=\"100.81521739130436\" style=\"display: inline; stroke: rgb(0, 0, 0);\"/><rect x=\"-5\" y=\"-5\" width=\"10\" style=\"fill: none; visibility: hidden; pointer-events: all;\" height=\"105.81521739130436\"/></g><g class=\"node\" transform=\"translate(0,206.81521739130437)\"><title>no</title><text dy=\".35em\" text-anchor=\"end\" transform=\"translate(-4,15.842391304347828)\" style=\"display: inline;\">no</text><line x1=\"0\" x2=\"0\" y1=\"0\" y2=\"31.684782608695656\" style=\"display: inline; stroke: rgb(0, 0, 0);\"/><rect x=\"-5\" y=\"-5\" width=\"10\" style=\"fill: none; visibility: hidden; pointer-events: all;\" height=\"36.684782608695656\"/></g><g class=\"node\" transform=\"translate(309,26.5)\"><title>Men</title><text dy=\".35em\" text-anchor=\"start\" transform=\"translate(4,30.244565217391305)\" style=\"display: inline;\">Men</text><line x1=\"0\" x2=\"0\" y1=\"0\" y2=\"60.48913043478261\" style=\"display: inline; stroke: rgb(0, 0, 0);\"/><rect x=\"-5\" y=\"-5\" width=\"10\" style=\"fill: none; visibility: hidden; pointer-events: all;\" height=\"65.48913043478261\"/></g></g><g class=\"slice-titles\"/></g></svg>"
      }
     },
     "cb26b203b8c046b59cb30ae668b70015": {
      "model_module": "jupyter-sankey-widget",
      "model_module_version": "^0.2.3",
      "model_name": "SankeyModel",
      "state": {
       "_model_module_version": "^0.2.3",
       "_view_module_version": "^0.2.3",
       "groups": [
        {
         "id": "farms",
         "nodes": [
          "farms^yes",
          "farms^no"
         ],
         "rect": {
          "bottom": 238.50000000000003,
          "left": 0,
          "right": 1,
          "top": 26.5
         },
         "title": "",
         "type": "process"
        },
        {
         "id": "customers",
         "nodes": [
          "customers^Men",
          "customers^Women"
         ],
         "rect": {
          "bottom": 238.5,
          "left": 309,
          "right": 310,
          "top": 26.5
         },
         "title": "",
         "type": "process"
        }
       ],
       "layout": "IPY_MODEL_1cbf16c85a674e368b9fd4149e22def2",
       "links": [
        {
         "color": "#FBB4AE",
         "opacity": 1,
         "source": "farms^yes",
         "target": "customers^Men",
         "time": "*",
         "title": "*",
         "type": "*",
         "value": 10
        },
        {
         "color": "#FBB4AE",
         "opacity": 1,
         "source": "farms^yes",
         "target": "customers^Women",
         "time": "*",
         "title": "*",
         "type": "*",
         "value": 25
        },
        {
         "color": "#FBB4AE",
         "opacity": 1,
         "source": "farms^no",
         "target": "customers^Men",
         "time": "*",
         "title": "*",
         "type": "*",
         "value": 11
        }
       ],
       "margins": {
        "bottom": 10,
        "left": 130,
        "right": 130,
        "top": 25
       },
       "nodes": [
        {
         "id": "customers^Women",
         "style": {
          "direction": "r",
          "hidden": false,
          "type": "process"
         },
         "title": "Women"
        },
        {
         "id": "farms^yes",
         "style": {
          "direction": "r",
          "hidden": false,
          "type": "process"
         },
         "title": "yes"
        },
        {
         "id": "farms^no",
         "style": {
          "direction": "r",
          "hidden": false,
          "type": "process"
         },
         "title": "no"
        },
        {
         "id": "customers^Men",
         "style": {
          "direction": "r",
          "hidden": false,
          "type": "process"
         },
         "title": "Men"
        }
       ],
       "order": [
        [
         [
          "farms^yes",
          "farms^no"
         ]
        ],
        [
         [
          "customers^Men",
          "customers^Women"
         ]
        ]
       ],
       "png": "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",
       "scale": 2.880434782608696,
       "svg": "<?xml version=\"1.0\" standalone=\"no\"?><!DOCTYPE svg PUBLIC \"-//W3C//DTD SVG 1.1//EN\" \"http://www.w3.org/Graphics/SVG/1.1/DTD/svg11.dtd\"><svg xmlns=\"http://www.w3.org/2000/svg\" width=\"570\" height=\"300\" viewBox=\"0 0 570 300\"><g class=\"sankey\" transform=\"translate(130,25)\"><g class=\"groups\"><g class=\"group\" style=\"display: none;\" transform=\"translate(0,26.5)\"><rect x=\"-10\" y=\"-20\" width=\"21\" height=\"242.00000000000003\" style=\"fill: rgb(238, 238, 238); stroke: rgb(187, 187, 187); stroke-width: 0.5;\"/><text x=\"-10\" y=\"-25\" style=\"fill: rgb(153, 153, 153);\"/></g><g class=\"group\" style=\"display: none;\" transform=\"translate(309,26.5)\"><rect x=\"-10\" y=\"-20\" width=\"21\" height=\"242\" style=\"fill: rgb(238, 238, 238); stroke: rgb(187, 187, 187); stroke-width: 0.5;\"/><text x=\"-10\" y=\"-25\" style=\"fill: rgb(153, 153, 153);\"/></g></g><g class=\"links\"><g class=\"link\" style=\"opacity: 0.8;\"><path d=\"M1,26.5 A0 0 0 0 0 1,26.5 L309,26.5 A0 0 0 0 0 309,26.5 L309,55.30434782608695 A0 0 0 0 0 309,55.30434782608695 L1,55.30434782608695 A0 0 0 0 0 1,55.30434782608695 Z\" style=\"fill: rgb(251, 180, 174);\"/><title>yes → Men\n*\n10.0</title></g><g class=\"link\" style=\"opacity: 0.8;\"><path d=\"M1,206.81521739130437 A100.80225333518403 100.80225333518403 0.5618258264736977 0 0 54.7006114744039,191.32028264442047 L238.4198829170977,75.66974551151684 A132.48703594387968 132.48703594387968 0.5618258264736977 0 1 309,55.30434782608695 L309,86.98913043478261 A100.80225333518403 100.80225333518403 0.5618258264736977 0 0 255.2993885255961,102.48406518166648 L71.58011708290229,218.13460231457012 A132.48703594387968 132.48703594387968 0.5618258264736977 0 1 1,238.5 Z\" style=\"fill: rgb(251, 180, 174);\"/><title>no → Men\n*\n11.0</title></g><g class=\"link\" style=\"opacity: 0.8;\"><path d=\"M1,55.30434782608696 A180.66469484670606 180.66469484670606 0.42517856208393834 0 1 75.52119701090461,71.38981202653147 L264.1820950592448,156.8151472678462 A108.65382528148868 108.65382528148868 0.42517856208393834 0 0 309,166.48913043478262 L309,238.5 A180.66469484670606 180.66469484670606 0.42517856208393834 0 1 234.47880298909539,222.4145357995555 L45.81790494075524,136.98920055824075 A108.65382528148868 108.65382528148868 0.42517856208393834 0 0 1,127.31521739130434 Z\" style=\"fill: rgb(251, 180, 174);\"/><title>yes → Women\n*\n25.0</title></g></g><g class=\"nodes\"><g class=\"node\" transform=\"translate(309,166.48913043478262)\"><title>Women</title><text dy=\".35em\" text-anchor=\"start\" transform=\"translate(4,36.00543478260869)\" style=\"display: inline;\">Women</text><line x1=\"0\" x2=\"0\" y1=\"0\" y2=\"72.01086956521738\" style=\"display: inline; stroke: rgb(0, 0, 0);\"/><rect x=\"-5\" y=\"-5\" width=\"10\" style=\"fill: none; visibility: hidden; pointer-events: all;\" height=\"77.01086956521738\"/></g><g class=\"node\" transform=\"translate(0,26.5)\"><title>yes</title><text dy=\".35em\" text-anchor=\"end\" transform=\"translate(-4,50.40760869565218)\" style=\"display: inline;\">yes</text><line x1=\"0\" x2=\"0\" y1=\"0\" y2=\"100.81521739130436\" style=\"display: inline; stroke: rgb(0, 0, 0);\"/><rect x=\"-5\" y=\"-5\" width=\"10\" style=\"fill: none; visibility: hidden; pointer-events: all;\" height=\"105.81521739130436\"/></g><g class=\"node\" transform=\"translate(0,206.81521739130437)\"><title>no</title><text dy=\".35em\" text-anchor=\"end\" transform=\"translate(-4,15.842391304347828)\" style=\"display: inline;\">no</text><line x1=\"0\" x2=\"0\" y1=\"0\" y2=\"31.684782608695656\" style=\"display: inline; stroke: rgb(0, 0, 0);\"/><rect x=\"-5\" y=\"-5\" width=\"10\" style=\"fill: none; visibility: hidden; pointer-events: all;\" height=\"36.684782608695656\"/></g><g class=\"node\" transform=\"translate(309,26.5)\"><title>Men</title><text dy=\".35em\" text-anchor=\"start\" transform=\"translate(4,30.244565217391305)\" style=\"display: inline;\">Men</text><line x1=\"0\" x2=\"0\" y1=\"0\" y2=\"60.48913043478261\" style=\"display: inline; stroke: rgb(0, 0, 0);\"/><rect x=\"-5\" y=\"-5\" width=\"10\" style=\"fill: none; visibility: hidden; pointer-events: all;\" height=\"65.48913043478261\"/></g></g><g class=\"slice-titles\"/></g></svg>"
      }
     },
     "cce1ba02a5064e3fbcd62c2f18e3a3f2": {
      "model_module": "jupyter-sankey-widget",
      "model_module_version": "^0.2.3",
      "model_name": "SankeyModel",
      "state": {
       "_model_module_version": "^0.2.3",
       "_view_module_version": "^0.2.3",
       "groups": [
        {
         "id": "customers",
         "nodes": [
          "customers^Men",
          "customers^Women"
         ],
         "rect": {
          "bottom": 238.5,
          "left": 309,
          "right": 310,
          "top": 26.5
         },
         "title": "",
         "type": "process"
        }
       ],
       "layout": "IPY_MODEL_3725dc91edae429499da3bab554c1081",
       "links": [
        {
         "color": "#FBB4AE",
         "opacity": 1,
         "source": "farms^*",
         "target": "customers^Men",
         "time": "*",
         "title": "*",
         "type": "*",
         "value": 21
        },
        {
         "color": "#FBB4AE",
         "opacity": 1,
         "source": "farms^*",
         "target": "customers^Women",
         "time": "*",
         "title": "*",
         "type": "*",
         "value": 25
        }
       ],
       "margins": {
        "bottom": 10,
        "left": 130,
        "right": 130,
        "top": 25
       },
       "nodes": [
        {
         "id": "customers^Women",
         "style": {
          "direction": "r",
          "hidden": false,
          "type": "process"
         },
         "title": "Women"
        },
        {
         "id": "farms^*",
         "style": {
          "direction": "r",
          "hidden": false,
          "type": "process"
         },
         "title": "farms"
        },
        {
         "id": "customers^Men",
         "style": {
          "direction": "r",
          "hidden": false,
          "type": "process"
         },
         "title": "Men"
        }
       ],
       "order": [
        [
         [
          "farms^*"
         ]
        ],
        [
         [
          "customers^Men",
          "customers^Women"
         ]
        ]
       ],
       "png": "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",
       "scale": 2.880434782608696,
       "svg": "<?xml version=\"1.0\" standalone=\"no\"?><!DOCTYPE svg PUBLIC \"-//W3C//DTD SVG 1.1//EN\" \"http://www.w3.org/Graphics/SVG/1.1/DTD/svg11.dtd\"><svg xmlns=\"http://www.w3.org/2000/svg\" width=\"570\" height=\"300\" viewBox=\"0 0 570 300\"><g class=\"sankey\" transform=\"translate(130,25)\"><g class=\"groups\"><g class=\"group\" style=\"display: none;\" transform=\"translate(309,26.5)\"><rect x=\"-10\" y=\"-20\" width=\"21\" height=\"242\" style=\"fill: rgb(238, 238, 238); stroke: rgb(187, 187, 187); stroke-width: 0.5;\"/><text x=\"-10\" y=\"-25\" style=\"fill: rgb(153, 153, 153);\"/></g></g><g class=\"links\"><g class=\"link\" style=\"opacity: 0.8;\"><path d=\"M1,66.25 A333.6952932731746 333.6952932731746 0.1572842447112306 0 0 53.26888105199893,62.130969261374425 L247.2563099609704,31.36568971954693 A394.18442370795725 394.18442370795725 0.1572842447112306 0 1 309,26.5 L309,86.98913043478261 A333.6952932731746 333.6952932731746 0.1572842447112306 0 0 256.73111894800104,91.10816117340818 L62.74369003902957,121.87344071523569 A394.18442370795725 394.18442370795725 0.1572842447112306 0 1 1,126.73913043478262 Z\" style=\"fill: rgb(251, 180, 174);\"/><title>farms → Men\n*\n21.0</title></g><g class=\"link\" style=\"opacity: 0.8;\"><path d=\"M1,126.73913043478262 A399.9452932731747 399.9452932731747 0.1572842447112306 0 1 63.64605279969916,131.6759305334649 L257.6334817086707,162.44121007529242 A327.9344237079573 327.9344237079573 0.1572842447112306 0 0 309,166.48913043478262 L309,238.5 A399.9452932731747 399.9452932731747 0.1572842447112306 0 1 246.35394720030084,233.56319990131772 L52.366518291329356,202.7979203594902 A327.9344237079573 327.9344237079573 0.1572842447112306 0 0 1,198.75 Z\" style=\"fill: rgb(251, 180, 174);\"/><title>farms → Women\n*\n25.0</title></g></g><g class=\"nodes\"><g class=\"node\" transform=\"translate(309,166.48913043478262)\"><title>Women</title><text dy=\".35em\" text-anchor=\"start\" transform=\"translate(4,36.00543478260869)\" style=\"display: inline;\">Women</text><line x1=\"0\" x2=\"0\" y1=\"0\" y2=\"72.01086956521738\" style=\"display: inline; stroke: rgb(0, 0, 0);\"/><rect x=\"-5\" y=\"-5\" width=\"10\" style=\"fill: none; visibility: hidden; pointer-events: all;\" height=\"77.01086956521738\"/></g><g class=\"node\" transform=\"translate(0,66.25)\"><title>farms</title><text dy=\".35em\" text-anchor=\"end\" transform=\"translate(-4,66.25)\" style=\"display: inline;\">farms</text><line x1=\"0\" x2=\"0\" y1=\"0\" y2=\"132.5\" style=\"display: inline; stroke: rgb(0, 0, 0);\"/><rect x=\"-5\" y=\"-5\" width=\"10\" style=\"fill: none; visibility: hidden; pointer-events: all;\" height=\"137.5\"/></g><g class=\"node\" transform=\"translate(309,26.5)\"><title>Men</title><text dy=\".35em\" text-anchor=\"start\" transform=\"translate(4,30.244565217391305)\" style=\"display: inline;\">Men</text><line x1=\"0\" x2=\"0\" y1=\"0\" y2=\"60.48913043478261\" style=\"display: inline; stroke: rgb(0, 0, 0);\"/><rect x=\"-5\" y=\"-5\" width=\"10\" style=\"fill: none; visibility: hidden; pointer-events: all;\" height=\"65.48913043478261\"/></g></g><g class=\"slice-titles\"/></g></svg>"
      }
     },
     "e9f081f0e0304c7598b4d90b72da5d1d": {
      "model_module": "@jupyter-widgets/base",
      "model_module_version": "1.0.0",
      "model_name": "LayoutModel",
      "state": {
       "height": "300",
       "width": "570"
      }
     }
    },
    "version_major": 2,
    "version_minor": 0
   }
  }
 },
 "nbformat": 4,
 "nbformat_minor": 2
}
