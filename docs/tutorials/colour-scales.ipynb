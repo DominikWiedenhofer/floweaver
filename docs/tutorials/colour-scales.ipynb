{
 "cells": [
  {
   "cell_type": "markdown",
   "metadata": {},
   "source": [
    "# Colour-intensity scales\n",
    "\n",
    "In this tutorial we will look at how to use colours in the Sankey diagram. We have already seen how to use a palette, but in this tutorial we will also create a Sankey where the intensity of the colour is proportional to a numerical value."
   ]
  },
  {
   "cell_type": "markdown",
   "metadata": {},
   "source": [
    "First step is to import all the requried packages and data:"
   ]
  },
  {
   "cell_type": "code",
   "execution_count": null,
   "metadata": {
    "collapsed": true
   },
   "outputs": [],
   "source": [
    "import pandas as pd\n",
    "import numpy as np\n",
    "from floweaver import *\n",
    "\n",
    "df1 = pd.read_csv('holiday_data.csv')"
   ]
  },
  {
   "cell_type": "markdown",
   "metadata": {},
   "source": [
    "Now take a look at the dataset we are using. This is a very insightful [made-up] dataset about how differnt types of people lose weight while on holiday enjoying themselves."
   ]
  },
  {
   "cell_type": "code",
   "execution_count": null,
   "metadata": {},
   "outputs": [],
   "source": [
    "dataset = Dataset(df1)\n",
    "df1"
   ]
  },
  {
   "cell_type": "markdown",
   "metadata": {},
   "source": [
    "We now define the partitions of the data. Rather than listing the categories by hand, we use `np.unique` to pick out a list of the unique values that occur in the dataset."
   ]
  },
  {
   "cell_type": "code",
   "execution_count": null,
   "metadata": {
    "collapsed": true
   },
   "outputs": [],
   "source": [
    "partition_job = Partition.Simple('Employment Job', np.unique(df1['Employment Job']))\n",
    "partition_activity = Partition.Simple('Activity', np.unique(df1['Activity']))"
   ]
  },
  {
   "cell_type": "markdown",
   "metadata": {},
   "source": [
    "In fact, this is pretty common so there is a built-in function to do this:"
   ]
  },
  {
   "cell_type": "code",
   "execution_count": null,
   "metadata": {
    "collapsed": true
   },
   "outputs": [],
   "source": [
    "# these statements or the ones above do the same thing\n",
    "partition_job = dataset.partition('Employment Job')\n",
    "partition_activity = dataset.partition('Activity')"
   ]
  },
  {
   "cell_type": "markdown",
   "metadata": {},
   "source": [
    "We then go on to define the structure of our sankey. We define nodes, bundles and the order. In this case its pretty straightforward:"
   ]
  },
  {
   "cell_type": "code",
   "execution_count": null,
   "metadata": {
    "collapsed": true
   },
   "outputs": [],
   "source": [
    "nodes = {\n",
    "    'Activity': ProcessGroup(['Activity'], partition_activity),\n",
    "    'Job': ProcessGroup(['Employment Job'], partition_job),\n",
    "}\n",
    "\n",
    "bundles = [\n",
    "    Bundle('Activity', 'Job'),\n",
    "]\n",
    "\n",
    "ordering = [\n",
    "    ['Activity'],\n",
    "    ['Job'],\n",
    "]"
   ]
  },
  {
   "cell_type": "markdown",
   "metadata": {},
   "source": [
    "Now we will plot a Sankey that shows the share of time dedicated to each activity by each type of person. "
   ]
  },
  {
   "cell_type": "code",
   "execution_count": null,
   "metadata": {},
   "outputs": [],
   "source": [
    "# These are the same each time, so just write them here once\n",
    "size_options = dict(width=500, height=400,\n",
    "                    margins=dict(left=100, right=100))\n",
    "\n",
    "sdd = SankeyDefinition(nodes, bundles, ordering)\n",
    "weave(sdd, dataset, measures='Calories Burnt').to_widget(**size_options)"
   ]
  },
  {
   "cell_type": "markdown",
   "metadata": {},
   "source": [
    "We can start using colour by specifying that we want to partition the flows according to type of person. Notice that this time we are using a pre-determined palette. \n",
    "\n",
    "You can find all sorts of palettes [listed here](https://jiffyclub.github.io/palettable/colorbrewer/qualitative/)."
   ]
  },
  {
   "cell_type": "code",
   "execution_count": null,
   "metadata": {},
   "outputs": [],
   "source": [
    "sdd = SankeyDefinition(nodes, bundles, ordering, flow_partition=partition_job)\n",
    "\n",
    "weave(sdd, dataset, palette='Set2_8', measures='Calories Burnt').to_widget(**size_options)"
   ]
  },
  {
   "cell_type": "markdown",
   "metadata": {},
   "source": [
    "Now, if we want to make the colour of the flow to be proprtional to a numerical value. Use the `hue` parameter to set the name of the variable that you want to display in colour. To start off, let's use \"value\", which is the width of the lines: wider lines will be shown in a darker colour."
   ]
  },
  {
   "cell_type": "code",
   "execution_count": null,
   "metadata": {},
   "outputs": [],
   "source": [
    "weave(sdd, dataset, link_color=QuantitativeScale('Calories Burnt'), measures='Calories Burnt').to_widget(**size_options)"
   ]
  },
  {
   "cell_type": "markdown",
   "metadata": {},
   "source": [
    "It's more interesting to use colour to show a different attribute from the flow table. But because a line in the Sankey diagram is an aggregation of multiple flows in the original data, we need to specify how the new dimension will be aggregated. For example, we'll use the *mean* of the flows within each Sankey link to set the colour. In this case we will use the colour to show how much each type of person emjoys each activity. We can be interested in either the cumulative enjoyment, or the mean enjoyment: try both!\n",
    "\n",
    "Aggregation is specified with the `ameasures` parameter, which should be set to a dictionary mapping dimension names to aggregation functions (`'mean'`, `'sum'` etc)."
   ]
  },
  {
   "cell_type": "code",
   "execution_count": null,
   "metadata": {},
   "outputs": [],
   "source": [
    "weave(sdd, dataset, measures={'Calories Burnt': 'sum', 'Enjoyment': 'mean'}, link_width='Calories Burnt',\n",
    "      link_color=QuantitativeScale('Enjoyment')).to_widget(**size_options)"
   ]
  },
  {
   "cell_type": "code",
   "execution_count": null,
   "metadata": {},
   "outputs": [],
   "source": [
    "weave(sdd, dataset, measures={'Calories Burnt': 'sum', 'Enjoyment': 'mean'}, link_width='Calories Burnt',\n",
    "      link_color=QuantitativeScale('Enjoyment', intensity='Calories Burnt')).to_widget(**size_options)"
   ]
  },
  {
   "cell_type": "markdown",
   "metadata": {},
   "source": [
    "You can change the colour palette using the `palette` attribute. The palette names are different from before, because those were *categorical* (or *qualitative*) scales, and this is now a *sequential* scale. The palette names are [listed here](https://jiffyclub.github.io/palettable/colorbrewer/sequential/)."
   ]
  },
  {
   "cell_type": "code",
   "execution_count": null,
   "metadata": {},
   "outputs": [],
   "source": [
    "scale = QuantitativeScale('Enjoyment', palette='Blues_9')\n",
    "weave(sdd, dataset, \n",
    "      measures={'Calories Burnt': 'sum', 'Enjoyment': 'mean'}, \n",
    "      link_width='Calories Burnt',\n",
    "      link_color=scale) \\\n",
    "    .to_widget(**size_options)"
   ]
  },
  {
   "cell_type": "code",
   "execution_count": null,
   "metadata": {},
   "outputs": [],
   "source": [
    "scale.domain"
   ]
  },
  {
   "cell_type": "markdown",
   "metadata": {},
   "source": [
    "It is possible to create a colorbar / scale to show the range of intensity values, but it's not currently as easy as it should be. This should be improved in future."
   ]
  }
 ],
 "metadata": {
  "kernelspec": {
   "display_name": "Python 3",
   "language": "python",
   "name": "python3"
  },
  "language_info": {
   "codemirror_mode": {
    "name": "ipython",
    "version": 3
   },
   "file_extension": ".py",
   "mimetype": "text/x-python",
   "name": "python",
   "nbconvert_exporter": "python",
   "pygments_lexer": "ipython3",
   "version": "3.6.3"
  },
  "widgets": {
   "application/vnd.jupyter.widget-state+json": {
    "state": {
     "091d3a436d7a4b4aad390c4cc2d2a715": {
      "model_module": "jupyter-sankey-widget",
      "model_module_version": "^0.2.3",
      "model_name": "SankeyModel",
      "state": {
       "_model_module_version": "^0.2.3",
       "_view_module_version": "^0.2.3",
       "groups": [
        {
         "id": "Activity",
         "nodes": [
          "Activity^Reading",
          "Activity^Swimming",
          "Activity^Sleeping",
          "Activity^Travelling",
          "Activity^Working out"
         ],
         "rect": {
          "bottom": 341.99999999999994,
          "left": 0,
          "right": 1,
          "top": 38
         },
         "title": "",
         "type": "process"
        },
        {
         "id": "Job",
         "nodes": [
          "Job^Student",
          "Job^Trainee",
          "Job^Administrator",
          "Job^Manager",
          "Job^Pensioner"
         ],
         "rect": {
          "bottom": 342,
          "left": 299,
          "right": 300,
          "top": 38
         },
         "title": "",
         "type": "process"
        }
       ],
       "layout": "IPY_MODEL_9f89edfd03fe440a88c3a739de908cfc",
       "links": [
        {
         "color": "#ee3a2c",
         "opacity": 1,
         "source": "Activity^Working out",
         "target": "Job^Administrator",
         "time": "*",
         "title": "Administrator",
         "type": "Administrator",
         "value": 7.5
        },
        {
         "color": "#900a12",
         "opacity": 1,
         "source": "Activity^Working out",
         "target": "Job^Manager",
         "time": "*",
         "title": "Manager",
         "type": "Manager",
         "value": 11
        },
        {
         "color": "#e32f27",
         "opacity": 1,
         "source": "Activity^Working out",
         "target": "Job^Student",
         "time": "*",
         "title": "Student",
         "type": "Student",
         "value": 8
        },
        {
         "color": "#fff5f0",
         "opacity": 1,
         "source": "Activity^Working out",
         "target": "Job^Pensioner",
         "time": "*",
         "title": "Pensioner",
         "type": "Pensioner",
         "value": 0
        },
        {
         "color": "#67000d",
         "opacity": 1,
         "source": "Activity^Working out",
         "target": "Job^Trainee",
         "time": "*",
         "title": "Trainee",
         "type": "Trainee",
         "value": 12
        },
        {
         "color": "#fee0d2",
         "opacity": 1,
         "source": "Activity^Reading",
         "target": "Job^Administrator",
         "time": "*",
         "title": "Administrator",
         "type": "Administrator",
         "value": 1.5
        },
        {
         "color": "#fdd4c2",
         "opacity": 1,
         "source": "Activity^Reading",
         "target": "Job^Manager",
         "time": "*",
         "title": "Manager",
         "type": "Manager",
         "value": 2
        },
        {
         "color": "#fdc7b2",
         "opacity": 1,
         "source": "Activity^Reading",
         "target": "Job^Student",
         "time": "*",
         "title": "Student",
         "type": "Student",
         "value": 2.5
        },
        {
         "color": "#fcbba1",
         "opacity": 1,
         "source": "Activity^Reading",
         "target": "Job^Pensioner",
         "time": "*",
         "title": "Pensioner",
         "type": "Pensioner",
         "value": 3
        },
        {
         "color": "#fee7dc",
         "opacity": 1,
         "source": "Activity^Reading",
         "target": "Job^Trainee",
         "time": "*",
         "title": "Trainee",
         "type": "Trainee",
         "value": 1
        },
        {
         "color": "#fc9272",
         "opacity": 1,
         "source": "Activity^Swimming",
         "target": "Job^Administrator",
         "time": "*",
         "title": "Administrator",
         "type": "Administrator",
         "value": 4.5
        },
        {
         "color": "#fdd4c2",
         "opacity": 1,
         "source": "Activity^Swimming",
         "target": "Job^Manager",
         "time": "*",
         "title": "Manager",
         "type": "Manager",
         "value": 2
        },
        {
         "color": "#fc9272",
         "opacity": 1,
         "source": "Activity^Swimming",
         "target": "Job^Student",
         "time": "*",
         "title": "Student",
         "type": "Student",
         "value": 4.5
        },
        {
         "color": "#ca181d",
         "opacity": 1,
         "source": "Activity^Swimming",
         "target": "Job^Pensioner",
         "time": "*",
         "title": "Pensioner",
         "type": "Pensioner",
         "value": 9
        },
        {
         "color": "#fdd4c2",
         "opacity": 1,
         "source": "Activity^Swimming",
         "target": "Job^Trainee",
         "time": "*",
         "title": "Trainee",
         "type": "Trainee",
         "value": 2
        },
        {
         "color": "#fee0d2",
         "opacity": 1,
         "source": "Activity^Travelling",
         "target": "Job^Administrator",
         "time": "*",
         "title": "Administrator",
         "type": "Administrator",
         "value": 1.5
        },
        {
         "color": "#fee0d2",
         "opacity": 1,
         "source": "Activity^Travelling",
         "target": "Job^Manager",
         "time": "*",
         "title": "Manager",
         "type": "Manager",
         "value": 1.5
        },
        {
         "color": "#fee7dc",
         "opacity": 1,
         "source": "Activity^Travelling",
         "target": "Job^Student",
         "time": "*",
         "title": "Student",
         "type": "Student",
         "value": 1
        },
        {
         "color": "#fcbba1",
         "opacity": 1,
         "source": "Activity^Travelling",
         "target": "Job^Pensioner",
         "time": "*",
         "title": "Pensioner",
         "type": "Pensioner",
         "value": 3
        },
        {
         "color": "#fcbba1",
         "opacity": 1,
         "source": "Activity^Travelling",
         "target": "Job^Trainee",
         "time": "*",
         "title": "Trainee",
         "type": "Trainee",
         "value": 3
        },
        {
         "color": "#ca181d",
         "opacity": 1,
         "source": "Activity^Sleeping",
         "target": "Job^Administrator",
         "time": "*",
         "title": "Administrator",
         "type": "Administrator",
         "value": 9
        },
        {
         "color": "#ee3a2c",
         "opacity": 1,
         "source": "Activity^Sleeping",
         "target": "Job^Manager",
         "time": "*",
         "title": "Manager",
         "type": "Manager",
         "value": 7.5
        },
        {
         "color": "#e32f27",
         "opacity": 1,
         "source": "Activity^Sleeping",
         "target": "Job^Student",
         "time": "*",
         "title": "Student",
         "type": "Student",
         "value": 8
        },
        {
         "color": "#ca181d",
         "opacity": 1,
         "source": "Activity^Sleeping",
         "target": "Job^Pensioner",
         "time": "*",
         "title": "Pensioner",
         "type": "Pensioner",
         "value": 9
        },
        {
         "color": "#fb694a",
         "opacity": 1,
         "source": "Activity^Sleeping",
         "target": "Job^Trainee",
         "time": "*",
         "title": "Trainee",
         "type": "Trainee",
         "value": 6
        }
       ],
       "margins": {
        "left": 100,
        "right": 100
       },
       "nodes": [
        {
         "id": "Job^Administrator",
         "style": {
          "direction": "r",
          "hidden": false,
          "type": "process"
         },
         "title": "Administrator"
        },
        {
         "id": "Job^Trainee",
         "style": {
          "direction": "r",
          "hidden": false,
          "type": "process"
         },
         "title": "Trainee"
        },
        {
         "id": "Activity^Working out",
         "style": {
          "direction": "r",
          "hidden": false,
          "type": "process"
         },
         "title": "Working out"
        },
        {
         "id": "Job^Manager",
         "style": {
          "direction": "r",
          "hidden": false,
          "type": "process"
         },
         "title": "Manager"
        },
        {
         "id": "Activity^Reading",
         "style": {
          "direction": "r",
          "hidden": false,
          "type": "process"
         },
         "title": "Reading"
        },
        {
         "id": "Activity^Swimming",
         "style": {
          "direction": "r",
          "hidden": false,
          "type": "process"
         },
         "title": "Swimming"
        },
        {
         "id": "Activity^Travelling",
         "style": {
          "direction": "r",
          "hidden": false,
          "type": "process"
         },
         "title": "Travelling"
        },
        {
         "id": "Job^Student",
         "style": {
          "direction": "r",
          "hidden": false,
          "type": "process"
         },
         "title": "Student"
        },
        {
         "id": "Activity^Sleeping",
         "style": {
          "direction": "r",
          "hidden": false,
          "type": "process"
         },
         "title": "Sleeping"
        },
        {
         "id": "Job^Pensioner",
         "style": {
          "direction": "r",
          "hidden": false,
          "type": "process"
         },
         "title": "Pensioner"
        }
       ],
       "order": [
        [
         [
          "Activity^Reading",
          "Activity^Swimming",
          "Activity^Sleeping",
          "Activity^Travelling",
          "Activity^Working out"
         ]
        ],
        [
         [
          "Job^Student",
          "Job^Trainee",
          "Job^Administrator",
          "Job^Manager",
          "Job^Pensioner"
         ]
        ]
       ],
       "png": "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",
       "scale": 1.5833333333333333,
       "svg": "<?xml version=\"1.0\" standalone=\"no\"?><!DOCTYPE svg PUBLIC \"-//W3C//DTD SVG 1.1//EN\" \"http://www.w3.org/Graphics/SVG/1.1/DTD/svg11.dtd\"><svg xmlns=\"http://www.w3.org/2000/svg\" width=\"500\" height=\"400\" viewBox=\"0 0 500 400\"><g class=\"sankey\" transform=\"translate(100,10)\"><g class=\"groups\"><g class=\"group\" style=\"display: none;\" transform=\"translate(0,38)\"><rect x=\"-10\" y=\"-20\" width=\"21\" height=\"333.99999999999994\" style=\"fill: rgb(238, 238, 238); stroke: rgb(187, 187, 187); stroke-width: 0.5;\"/><text x=\"-10\" y=\"-25\" style=\"fill: rgb(153, 153, 153);\"/></g><g class=\"group\" style=\"display: none;\" transform=\"translate(299,38)\"><rect x=\"-10\" y=\"-20\" width=\"21\" height=\"334\" style=\"fill: rgb(238, 238, 238); stroke: rgb(187, 187, 187); stroke-width: 0.5;\"/><text x=\"-10\" y=\"-25\" style=\"fill: rgb(153, 153, 153);\"/></g></g><g class=\"links\"><g class=\"link\" style=\"opacity: 0.8;\"><path d=\"M1,342 A0 0 0 0 0 1,342 L299,342 A0 0 0 0 0 299,342 L299,342 A0 0 0 0 0 299,342 L1,342 A0 0 0 0 0 1,342 Z\" style=\"fill: rgb(255, 245, 240);\"/><title>Working out → Pensioner\nPensioner\n0.00</title></g><g class=\"link\" style=\"opacity: 0.8;\"><path d=\"M1,41.75 A223.3688582611592 223.3688582611592 0.2536034822873814 0 1 57.041862582052104,48.8945384466938 L243.4599250262861,97.21109898565894 A221.3688582611592 221.3688582611592 0.2536034822873814 0 0 299,104.29166666666667 L299,106.29166666666667 A223.3688582611592 223.3688582611592 0.2536034822873814 0 1 242.9581374179479,99.14712821997287 L56.540074973713885,50.830567681007736 A221.3688582611592 221.3688582611592 0.2536034822873814 0 0 1,43.75 Z\" style=\"fill: rgb(254, 231, 220);\"/><title>Reading → Trainee\nTrainee\n1.00</title></g><g class=\"link\" style=\"opacity: 0.8;\"><path d=\"M1,236.49999999999997 A101.37959186711122 101.37959186711122 0.6531509188857365 0 0 62.6075459381297,215.6333383405472 L236.17707047620968,82.81998241300518 A103.37959186711122 103.37959186711122 0.6531509188857365 0 1 299,61.541666666666664 L299,63.541666666666664 A101.37959186711122 101.37959186711122 0.6531509188857365 0 0 237.3924540618703,84.40832832611942 L63.822929523790314,217.22168425366146 A103.37959186711122 103.37959186711122 0.6531509188857365 0 1 1,238.49999999999997 Z\" style=\"fill: rgb(254, 231, 220);\"/><title>Travelling → Student\nStudent\n1.00</title></g><g class=\"link\" style=\"opacity: 0.8;\"><path d=\"M1,43.54166666666667 A124.81569753187316 124.81569753187316 0.4963571053807381 0 1 60.44040844580046,58.60402167921398 L240.69062693556836,156.22425231218975 A122.44069753187316 122.44069753187316 0.4963571053807381 0 0 299,171 L299,173.375 A124.81569753187316 124.81569753187316 0.4963571053807381 0 1 239.55959155419956,158.31264498745267 L59.309373064431654,60.69241435447692 A122.44069753187316 122.44069753187316 0.4963571053807381 0 0 1,45.91666666666667 Z\" style=\"fill: rgb(254, 224, 210);\"/><title>Reading → Administrator\nAdministrator\n1.50</title></g><g class=\"link\" style=\"opacity: 0.8;\"><path d=\"M1,243.04166666666666 A281.89266069887833 281.89266069887833 0.19690139360043046 0 0 56.14709570419668,237.59478725461702 L243.38827938512722,200.24277042095903 A284.26766069887833 284.26766069887833 0.19690139360043046 0 1 299,194.75 L299,197.125 A281.89266069887833 281.89266069887833 0.19690139360043046 0 0 243.8529042958033,202.57187941204964 L56.61172061487279,239.92389624570762 A284.26766069887833 284.26766069887833 0.19690139360043046 0 1 1,245.41666666666666 Z\" style=\"fill: rgb(254, 224, 210);\"/><title>Travelling → Administrator\nAdministrator\n1.50</title></g><g class=\"link\" style=\"opacity: 0.8;\"><path d=\"M1,245.41666666666666 A1001.1875 1001.1875 0.03984611530249538 0 1 40.88287684947496,246.2113606697124 L259.2117326342806,254.91552448991771 A998.8125 998.8125 0.03984611530249538 0 0 299,255.70833333333331 L299,258.0833333333333 A1001.1875 1001.1875 0.03984611530249538 0 1 259.11712315052506,257.28863933028754 L40.78826736571941,248.58447551008226 A998.8125 998.8125 0.03984611530249538 0 0 1,247.79166666666666 Z\" style=\"fill: rgb(254, 224, 210);\"/><title>Travelling → Manager\nManager\n1.50</title></g><g class=\"link\" style=\"opacity: 0.8;\"><path d=\"M1,45.91666666666667 A99.84984594751342 99.84984594751342 0.7034332835054028 0 1 65.58685491304226,69.61843379282182 L236.46147113710987,214.54991751779457 A96.68317928084676 96.68317928084676 0.7034332835054028 0 0 299,237.5 L299,240.66666666666669 A99.84984594751342 99.84984594751342 0.7034332835054028 0 1 234.41314508695774,216.96489954051154 L63.53852886289014,72.03341581553876 A96.68317928084676 96.68317928084676 0.7034332835054028 0 0 1,49.08333333333334 Z\" style=\"fill: rgb(253, 212, 194);\"/><title>Reading → Manager\nManager\n2.00</title></g><g class=\"link\" style=\"opacity: 0.8;\"><path d=\"M1,99.75 A117.24904149418488 117.24904149418488 0.5427269338733045 0 1 61.55596327095664,116.59827932759751 L240.07953453707907,224.27342632154168 A114.08237482751822 114.08237482751822 0.5427269338733045 0 0 299,240.66666666666666 L299,243.83333333333334 A117.24904149418488 117.24904149418488 0.5427269338733045 0 1 238.44403672904335,226.9850540057358 L59.920465462920916,119.30990701179167 A114.08237482751822 114.08237482751822 0.5427269338733045 0 0 1,102.91666666666666 Z\" style=\"fill: rgb(253, 212, 194);\"/><title>Swimming → Manager\nManager\n2.00</title></g><g class=\"link\" style=\"opacity: 0.8;\"><path d=\"M1,89.45833333333333 A805.3161810776943 805.3161810776943 0.06828159954388568 0 1 55.945557597656475,91.33494779394576 L244.2704994862743,104.21409810164766 A802.1495144110276 802.1495144110276 0.06828159954388568 0 0 299,106.08333333333333 L299,109.24999999999999 A805.3161810776943 805.3161810776943 0.06828159954388568 0 1 244.05444240234354,107.37338553938756 L55.7295005137257,94.49423523168565 A802.1495144110276 802.1495144110276 0.06828159954388568 0 0 1,92.62499999999999 Z\" style=\"fill: rgb(253, 212, 194);\"/><title>Swimming → Trainee\nTrainee\n2.00</title></g><g class=\"link\" style=\"opacity: 0.8;\"><path d=\"M1,38 A0 0 0 0 0 1,38 L299,38 A0 0 0 0 0 299,38 L299,41.95833333333333 A0 0 0 0 0 299,41.95833333333333 L1,41.95833333333333 A0 0 0 0 0 1,41.95833333333333 Z\" style=\"fill: rgb(253, 199, 178);\"/><title>Reading → Student\nStudent\n2.50</title></g><g class=\"link\" style=\"opacity: 0.8;\"><path d=\"M1,49.083333333333336 A92.86722376593657 92.86722376593657 0.8735752043601149 0 1 72.19474718758069,82.32145998310517 L231.44674262365075,272.4619468011622 A88.11722376593657 88.11722376593657 0.8735752043601149 0 0 299,304 L299,308.75 A92.86722376593657 92.86722376593657 0.8735752043601149 0 1 227.8052528124193,275.51187335022814 L68.55325737634924,85.37138653217116 A88.11722376593657 88.11722376593657 0.8735752043601149 0 0 1,53.833333333333336 Z\" style=\"fill: rgb(252, 187, 161);\"/><title>Reading → Pensioner\nPensioner\n3.00</title></g><g class=\"link\" style=\"opacity: 0.8;\"><path d=\"M1,247.79166666666666 A164.69659117373078 164.69659117373078 0.3577430758609035 0 1 58.67033784264986,258.2186909214434 L242.99292733363802,327.12370064096774 A159.94659117373078 159.94659117373078 0.3577430758609035 0 0 299,337.25 L299,342 A164.69659117373078 164.69659117373078 0.3577430758609035 0 1 241.32966215735013,331.5729757452233 L57.00707266636199,262.66796602569895 A159.94659117373078 159.94659117373078 0.3577430758609035 0 0 1,252.54166666666666 Z\" style=\"fill: rgb(252, 187, 161);\"/><title>Travelling → Pensioner\nPensioner\n3.00</title></g><g class=\"link\" style=\"opacity: 0.8;\"><path d=\"M1,238.29166666666666 A126.98685299756013 126.98685299756013 0.46838954931873333 0 0 58.3281985251829,224.61473595343767 L239.52741458305084,132.93852242019952 A131.73685299756013 131.73685299756013 0.46838954931873333 0 1 299,118.75 L299,123.5 A126.98685299756013 126.98685299756013 0.46838954931873333 0 0 241.6718014748171,137.17693071322898 L60.47258541694917,228.85314424646714 A131.73685299756013 131.73685299756013 0.46838954931873333 0 1 1,243.04166666666666 Z\" style=\"fill: rgb(252, 187, 161);\"/><title>Travelling → Trainee\nTrainee\n3.00</title></g><g class=\"link\" style=\"opacity: 0.8;\"><path d=\"M1,92.625 A180.63599071207432 180.63599071207432 0.3245292430331461 0 1 58.59806839165175,102.05402923537731 L243.67382789918577,164.31788907966737 A173.51099071207432 173.51099071207432 0.3245292430331461 0 0 299,173.375 L299,180.5 A180.63599071207432 180.63599071207432 0.3245292430331461 0 1 241.40193160834826,171.07097076462267 L56.32617210081425,108.80711092033262 A173.51099071207432 173.51099071207432 0.3245292430331461 0 0 1,99.75 Z\" style=\"fill: rgb(252, 146, 114);\"/><title>Swimming → Administrator\nAdministrator\n4.50</title></g><g class=\"link\" style=\"opacity: 0.8;\"><path d=\"M1,82.33333333333333 A332.41573142414865 332.41573142414865 0.16503007490878074 0 0 55.60992031166275,77.81693875176748 L243.21957045715973,46.571532332836306 A339.54073142414865 339.54073142414865 0.16503007490878074 0 1 299,41.958333333333336 L299,49.083333333333336 A332.41573142414865 332.41573142414865 0.16503007490878074 0 0 244.39007968833724,53.599727914899184 L56.78042954284028,84.84513433383037 A339.54073142414865 339.54073142414865 0.16503007490878074 0 1 1,89.45833333333333 Z\" style=\"fill: rgb(252, 146, 114);\"/><title>Swimming → Student\nStudent\n4.50</title></g><g class=\"link\" style=\"opacity: 0.8;\"><path d=\"M1,158.33333333333331 A273.9999363327675 273.9999363327675 0.20007514059571307 0 0 55.455561954238924,152.86748586566446 L242.65637980206503,114.9053568217141 A283.4999363327675 283.4999363327675 0.20007514059571307 0 1 299,109.25 L299,118.75 A273.9999363327675 273.9999363327675 0.20007514059571307 0 0 244.54443804576107,124.21584746766888 L57.34362019793496,162.17797651161922 A283.4999363327675 283.4999363327675 0.20007514059571307 0 1 1,167.83333333333331 Z\" style=\"fill: rgb(251, 105, 74);\"/><title>Sleeping → Trainee\nTrainee\n6.00</title></g><g class=\"link\" style=\"opacity: 0.8;\"><path d=\"M1,312.7083333333333 A126.64671953857246 126.64671953857246 0.45421899231175056 0 0 56.56759458870806,299.8668597261625 L238.22212291724017,211.17055137279115 A138.52171953857246 138.52171953857246 0.45421899231175056 0 1 299,197.125 L299,209 A126.64671953857246 126.64671953857246 0.45421899231175056 0 0 243.43240541129197,221.8414736071708 L61.77787708275983,310.53778196054213 A138.52171953857246 138.52171953857246 0.45421899231175056 0 1 1,324.5833333333333 Z\" style=\"fill: rgb(238, 58, 44);\"/><title>Working out → Administrator\nAdministrator\n7.50</title></g><g class=\"link\" style=\"opacity: 0.8;\"><path d=\"M1,182.08333333333331 A230.91821862348178 230.91821862348178 0.25047861700861906 0 1 58.23716054860874,189.2893905874007 L244.70626801916046,236.99784852869044 A219.04321862348178 219.04321862348178 0.25047861700861906 0 0 299,243.83333333333331 L299,255.70833333333331 A230.91821862348178 230.91821862348178 0.25047861700861906 0 1 241.76283945139124,248.50227607926593 L55.29373198083955,200.7938181379762 A219.04321862348178 219.04321862348178 0.25047861700861906 0 0 1,193.95833333333331 Z\" style=\"fill: rgb(238, 58, 44);\"/><title>Sleeping → Manager\nManager\n7.50</title></g><g class=\"link\" style=\"opacity: 0.8;\"><path d=\"M1,281.04166666666663 A87.50844776714516 87.50844776714516 0.7776470253815808 0 0 62.39633932687606,255.88879561784125 L228.71666764958778,92.12703039855549 A100.17511443381181 100.17511443381181 0.7776470253815808 0 1 299,63.333333333333336 L299,76 A87.50844776714516 87.50844776714516 0.7776470253815808 0 0 237.60366067312393,101.15287104882538 L71.28333235041221,264.9146362681111 A100.17511443381181 100.17511443381181 0.7776470253815808 0 1 1,293.70833333333326 Z\" style=\"fill: rgb(227, 47, 39);\"/><title>Working out → Student\nStudent\n8.00</title></g><g class=\"link\" style=\"opacity: 0.8;\"><path d=\"M1,145.66666666666666 A146.07237201610585 146.07237201610585 0.38454220615286583 0 0 55.79683222195954,134.99903993243797 L239.45146012405448,60.676003387540405 A158.73903868277253 158.73903868277253 0.38454220615286583 0 1 299,49.083333333333336 L299,61.75000000000001 A146.07237201610585 146.07237201610585 0.38454220615286583 0 0 244.20316777804047,72.41762673422868 L60.54853987594554,146.74066327912627 A158.73903868277253 158.73903868277253 0.38454220615286583 0 1 1,158.33333333333334 Z\" style=\"fill: rgb(227, 47, 39);\"/><title>Sleeping → Student\nStudent\n8.00</title></g><g class=\"link\" style=\"opacity: 0.8;\"><path d=\"M1,102.91666666666667 A102.71546558704452 102.71546558704452 0.749798360425687 0 1 70.99968679870085,130.4622531873783 L235.7118034238813,283.8454529333746 A92.86722376593657 92.86722376593657 0.749798360425687 0 0 299,308.75 L299,323 A107.11722376593657 107.11722376593657 0.749798360425687 0 1 226.0005536994065,294.273977699078 L61.288437074226046,140.89077795308165 A88.46546558704452 88.46546558704452 0.749798360425687 0 0 1,117.16666666666667 Z\" style=\"fill: rgb(202, 24, 29);\"/><title>Swimming → Pensioner\nPensioner\n9.00</title></g><g class=\"link\" style=\"opacity: 0.8;\"><path d=\"M1,167.83333333333331 A1007.125 1007.125 0.05130214743428074 0 1 52.64501410235097,169.15837402563477 L248.08572086198663,179.19370755629262 A992.875 992.875 0.05130214743428074 0 0 299,180.5 L299,194.75 A1007.125 1007.125 0.05130214743428074 0 1 247.35498589764902,193.42495930769854 L51.91427913801337,183.3896257770407 A992.875 992.875 0.05130214743428074 0 0 1,182.08333333333331 Z\" style=\"fill: rgb(202, 24, 29);\"/><title>Sleeping → Administrator\nAdministrator\n9.00</title></g><g class=\"link\" style=\"opacity: 0.8;\"><path d=\"M1,193.95833333333331 A129.7083730222796 129.7083730222796 0.5018898969664565 0 1 63.40052202094814,209.95462747390397 L243.4549138933222,308.7610881023165 A115.45837302227962 115.45837302227962 0.5018898969664565 0 0 299,323 L299,337.25 A129.7083730222796 129.7083730222796 0.5018898969664565 0 1 236.59947797905187,321.2537058594293 L56.54508610667779,222.44724523101686 A115.45837302227962 115.45837302227962 0.5018898969664565 0 0 1,208.20833333333331 Z\" style=\"fill: rgb(202, 24, 29);\"/><title>Sleeping → Pensioner\nPensioner\n9.00</title></g><g class=\"link\" style=\"opacity: 0.8;\"><path d=\"M1,324.5833333333333 A201.5764411027569 201.5764411027569 0.2691792787460652 0 0 54.607311251117835,317.32446165773604 L240.76089415101535,265.96938816415627 A218.99310776942357 218.99310776942357 0.2691792787460652 0 1 299,258.0833333333333 L299,275.49999999999994 A201.5764411027569 201.5764411027569 0.2691792787460652 0 0 245.39268874888216,282.7588716755972 L59.23910584898465,334.113945169177 A218.99310776942357 218.99310776942357 0.2691792787460652 0 1 1,341.99999999999994 Z\" style=\"fill: rgb(144, 10, 18);\"/><title>Working out → Manager\nManager\n11.0</title></g><g class=\"link\" style=\"opacity: 0.8;\"><path d=\"M1,293.7083333333333 A100.17511443381181 100.17511443381181 0.6437838207137793 0 0 61.12772281719544,273.6563148247652 L230.99929173870166,146.17758359645282 A113.29181303549572 113.29181303549572 0.6437838207137793 0 1 299,123.5 L299,142.5 A94.29181303549572 94.29181303549572 0.6437838207137793 0 0 242.40358850425756,161.3743600731643 L72.53201958275136,288.85309130147664 A119.17511443381181 119.17511443381181 0.6437838207137793 0 1 1,312.7083333333333 Z\" style=\"fill: rgb(103, 0, 13);\"/><title>Working out → Trainee\nTrainee\n12.0</title></g></g><g class=\"nodes\"><g class=\"node\" transform=\"translate(299,171)\"><title>Administrator</title><text dy=\".35em\" text-anchor=\"start\" transform=\"translate(4,19)\" style=\"display: inline;\">Administrator</text><line x1=\"0\" x2=\"0\" y1=\"0\" y2=\"38\" style=\"display: inline; stroke: rgb(0, 0, 0);\"/><rect x=\"-5\" y=\"-5\" width=\"10\" style=\"fill: none; visibility: hidden; pointer-events: all;\" height=\"43\"/></g><g class=\"node\" transform=\"translate(299,104.5)\"><title>Trainee</title><text dy=\".35em\" text-anchor=\"start\" transform=\"translate(4,19)\" style=\"display: inline;\">Trainee</text><line x1=\"0\" x2=\"0\" y1=\"0\" y2=\"38\" style=\"display: inline; stroke: rgb(0, 0, 0);\"/><rect x=\"-5\" y=\"-5\" width=\"10\" style=\"fill: none; visibility: hidden; pointer-events: all;\" height=\"43\"/></g><g class=\"node\" transform=\"translate(0,281.04166666666663)\"><title>Working out</title><text dy=\".35em\" text-anchor=\"end\" transform=\"translate(-4,30.479166666666657)\" style=\"display: inline;\">Working out</text><line x1=\"0\" x2=\"0\" y1=\"0\" y2=\"60.958333333333314\" style=\"display: inline; stroke: rgb(0, 0, 0);\"/><rect x=\"-5\" y=\"-5\" width=\"10\" style=\"fill: none; visibility: hidden; pointer-events: all;\" height=\"65.95833333333331\"/></g><g class=\"node\" transform=\"translate(299,237.5)\"><title>Manager</title><text dy=\".35em\" text-anchor=\"start\" transform=\"translate(4,19)\" style=\"display: inline;\">Manager</text><line x1=\"0\" x2=\"0\" y1=\"0\" y2=\"38\" style=\"display: inline; stroke: rgb(0, 0, 0);\"/><rect x=\"-5\" y=\"-5\" width=\"10\" style=\"fill: none; visibility: hidden; pointer-events: all;\" height=\"43\"/></g><g class=\"node\" transform=\"translate(0,38)\"><title>Reading</title><text dy=\".35em\" text-anchor=\"end\" transform=\"translate(-4,7.916666666666664)\" style=\"display: inline;\">Reading</text><line x1=\"0\" x2=\"0\" y1=\"0\" y2=\"15.833333333333329\" style=\"display: inline; stroke: rgb(0, 0, 0);\"/><rect x=\"-5\" y=\"-5\" width=\"10\" style=\"fill: none; visibility: hidden; pointer-events: all;\" height=\"20.83333333333333\"/></g><g class=\"node\" transform=\"translate(0,82.33333333333333)\"><title>Swimming</title><text dy=\".35em\" text-anchor=\"end\" transform=\"translate(-4,17.416666666666664)\" style=\"display: inline;\">Swimming</text><line x1=\"0\" x2=\"0\" y1=\"0\" y2=\"34.83333333333333\" style=\"display: inline; stroke: rgb(0, 0, 0);\"/><rect x=\"-5\" y=\"-5\" width=\"10\" style=\"fill: none; visibility: hidden; pointer-events: all;\" height=\"39.83333333333333\"/></g><g class=\"node\" transform=\"translate(0,236.70833333333331)\"><title>Travelling</title><text dy=\".35em\" text-anchor=\"end\" transform=\"translate(-4,7.916666666666671)\" style=\"display: inline;\">Travelling</text><line x1=\"0\" x2=\"0\" y1=\"0\" y2=\"15.833333333333343\" style=\"display: inline; stroke: rgb(0, 0, 0);\"/><rect x=\"-5\" y=\"-5\" width=\"10\" style=\"fill: none; visibility: hidden; pointer-events: all;\" height=\"20.833333333333343\"/></g><g class=\"node\" transform=\"translate(299,38)\"><title>Student</title><text dy=\".35em\" text-anchor=\"start\" transform=\"translate(4,19)\" style=\"display: inline;\">Student</text><line x1=\"0\" x2=\"0\" y1=\"0\" y2=\"38\" style=\"display: inline; stroke: rgb(0, 0, 0);\"/><rect x=\"-5\" y=\"-5\" width=\"10\" style=\"fill: none; visibility: hidden; pointer-events: all;\" height=\"43\"/></g><g class=\"node\" transform=\"translate(0,145.66666666666666)\"><title>Sleeping</title><text dy=\".35em\" text-anchor=\"end\" transform=\"translate(-4,31.27083333333333)\" style=\"display: inline;\">Sleeping</text><line x1=\"0\" x2=\"0\" y1=\"0\" y2=\"62.54166666666666\" style=\"display: inline; stroke: rgb(0, 0, 0);\"/><rect x=\"-5\" y=\"-5\" width=\"10\" style=\"fill: none; visibility: hidden; pointer-events: all;\" height=\"67.54166666666666\"/></g><g class=\"node\" transform=\"translate(299,304)\"><title>Pensioner</title><text dy=\".35em\" text-anchor=\"start\" transform=\"translate(4,19)\" style=\"display: inline;\">Pensioner</text><line x1=\"0\" x2=\"0\" y1=\"0\" y2=\"38\" style=\"display: inline; stroke: rgb(0, 0, 0);\"/><rect x=\"-5\" y=\"-5\" width=\"10\" style=\"fill: none; visibility: hidden; pointer-events: all;\" height=\"43\"/></g></g><g class=\"slice-titles\"/></g></svg>"
      }
     },
     "0d3527405a214bfc8f7671f4ebd5affd": {
      "model_module": "jupyter-sankey-widget",
      "model_module_version": "^0.2.3",
      "model_name": "SankeyModel",
      "state": {
       "_model_module_version": "^0.2.3",
       "_view_module_version": "^0.2.3",
       "groups": [
        {
         "id": "Activity",
         "nodes": [
          "Activity^Reading",
          "Activity^Swimming",
          "Activity^Sleeping",
          "Activity^Travelling",
          "Activity^Working out"
         ],
         "rect": {
          "bottom": 341.99999999999994,
          "left": 0,
          "right": 1,
          "top": 38
         },
         "title": "",
         "type": "process"
        },
        {
         "id": "Job",
         "nodes": [
          "Job^Student",
          "Job^Trainee",
          "Job^Administrator",
          "Job^Manager",
          "Job^Pensioner"
         ],
         "rect": {
          "bottom": 342,
          "left": 299,
          "right": 300,
          "top": 38
         },
         "title": "",
         "type": "process"
        }
       ],
       "layout": "IPY_MODEL_28cdac56612d4305bbda29dd7cc14ca0",
       "links": [
        {
         "color": "#FBB4AE",
         "opacity": 1,
         "source": "Activity^Working out",
         "target": "Job^Administrator",
         "time": "*",
         "title": "*",
         "type": "*",
         "value": 7.5
        },
        {
         "color": "#FBB4AE",
         "opacity": 1,
         "source": "Activity^Working out",
         "target": "Job^Manager",
         "time": "*",
         "title": "*",
         "type": "*",
         "value": 11
        },
        {
         "color": "#FBB4AE",
         "opacity": 1,
         "source": "Activity^Working out",
         "target": "Job^Student",
         "time": "*",
         "title": "*",
         "type": "*",
         "value": 8
        },
        {
         "color": "#FBB4AE",
         "opacity": 1,
         "source": "Activity^Working out",
         "target": "Job^Pensioner",
         "time": "*",
         "title": "*",
         "type": "*",
         "value": 0
        },
        {
         "color": "#FBB4AE",
         "opacity": 1,
         "source": "Activity^Working out",
         "target": "Job^Trainee",
         "time": "*",
         "title": "*",
         "type": "*",
         "value": 12
        },
        {
         "color": "#FBB4AE",
         "opacity": 1,
         "source": "Activity^Reading",
         "target": "Job^Administrator",
         "time": "*",
         "title": "*",
         "type": "*",
         "value": 1.5
        },
        {
         "color": "#FBB4AE",
         "opacity": 1,
         "source": "Activity^Reading",
         "target": "Job^Manager",
         "time": "*",
         "title": "*",
         "type": "*",
         "value": 2
        },
        {
         "color": "#FBB4AE",
         "opacity": 1,
         "source": "Activity^Reading",
         "target": "Job^Student",
         "time": "*",
         "title": "*",
         "type": "*",
         "value": 2.5
        },
        {
         "color": "#FBB4AE",
         "opacity": 1,
         "source": "Activity^Reading",
         "target": "Job^Pensioner",
         "time": "*",
         "title": "*",
         "type": "*",
         "value": 3
        },
        {
         "color": "#FBB4AE",
         "opacity": 1,
         "source": "Activity^Reading",
         "target": "Job^Trainee",
         "time": "*",
         "title": "*",
         "type": "*",
         "value": 1
        },
        {
         "color": "#FBB4AE",
         "opacity": 1,
         "source": "Activity^Swimming",
         "target": "Job^Administrator",
         "time": "*",
         "title": "*",
         "type": "*",
         "value": 4.5
        },
        {
         "color": "#FBB4AE",
         "opacity": 1,
         "source": "Activity^Swimming",
         "target": "Job^Manager",
         "time": "*",
         "title": "*",
         "type": "*",
         "value": 2
        },
        {
         "color": "#FBB4AE",
         "opacity": 1,
         "source": "Activity^Swimming",
         "target": "Job^Student",
         "time": "*",
         "title": "*",
         "type": "*",
         "value": 4.5
        },
        {
         "color": "#FBB4AE",
         "opacity": 1,
         "source": "Activity^Swimming",
         "target": "Job^Pensioner",
         "time": "*",
         "title": "*",
         "type": "*",
         "value": 9
        },
        {
         "color": "#FBB4AE",
         "opacity": 1,
         "source": "Activity^Swimming",
         "target": "Job^Trainee",
         "time": "*",
         "title": "*",
         "type": "*",
         "value": 2
        },
        {
         "color": "#FBB4AE",
         "opacity": 1,
         "source": "Activity^Travelling",
         "target": "Job^Administrator",
         "time": "*",
         "title": "*",
         "type": "*",
         "value": 1.5
        },
        {
         "color": "#FBB4AE",
         "opacity": 1,
         "source": "Activity^Travelling",
         "target": "Job^Manager",
         "time": "*",
         "title": "*",
         "type": "*",
         "value": 1.5
        },
        {
         "color": "#FBB4AE",
         "opacity": 1,
         "source": "Activity^Travelling",
         "target": "Job^Student",
         "time": "*",
         "title": "*",
         "type": "*",
         "value": 1
        },
        {
         "color": "#FBB4AE",
         "opacity": 1,
         "source": "Activity^Travelling",
         "target": "Job^Pensioner",
         "time": "*",
         "title": "*",
         "type": "*",
         "value": 3
        },
        {
         "color": "#FBB4AE",
         "opacity": 1,
         "source": "Activity^Travelling",
         "target": "Job^Trainee",
         "time": "*",
         "title": "*",
         "type": "*",
         "value": 3
        },
        {
         "color": "#FBB4AE",
         "opacity": 1,
         "source": "Activity^Sleeping",
         "target": "Job^Administrator",
         "time": "*",
         "title": "*",
         "type": "*",
         "value": 9
        },
        {
         "color": "#FBB4AE",
         "opacity": 1,
         "source": "Activity^Sleeping",
         "target": "Job^Manager",
         "time": "*",
         "title": "*",
         "type": "*",
         "value": 7.5
        },
        {
         "color": "#FBB4AE",
         "opacity": 1,
         "source": "Activity^Sleeping",
         "target": "Job^Student",
         "time": "*",
         "title": "*",
         "type": "*",
         "value": 8
        },
        {
         "color": "#FBB4AE",
         "opacity": 1,
         "source": "Activity^Sleeping",
         "target": "Job^Pensioner",
         "time": "*",
         "title": "*",
         "type": "*",
         "value": 9
        },
        {
         "color": "#FBB4AE",
         "opacity": 1,
         "source": "Activity^Sleeping",
         "target": "Job^Trainee",
         "time": "*",
         "title": "*",
         "type": "*",
         "value": 6
        }
       ],
       "margins": {
        "left": 100,
        "right": 100
       },
       "nodes": [
        {
         "id": "Job^Administrator",
         "style": {
          "direction": "r",
          "hidden": false,
          "type": "process"
         },
         "title": "Administrator"
        },
        {
         "id": "Job^Trainee",
         "style": {
          "direction": "r",
          "hidden": false,
          "type": "process"
         },
         "title": "Trainee"
        },
        {
         "id": "Activity^Working out",
         "style": {
          "direction": "r",
          "hidden": false,
          "type": "process"
         },
         "title": "Working out"
        },
        {
         "id": "Job^Manager",
         "style": {
          "direction": "r",
          "hidden": false,
          "type": "process"
         },
         "title": "Manager"
        },
        {
         "id": "Activity^Reading",
         "style": {
          "direction": "r",
          "hidden": false,
          "type": "process"
         },
         "title": "Reading"
        },
        {
         "id": "Activity^Swimming",
         "style": {
          "direction": "r",
          "hidden": false,
          "type": "process"
         },
         "title": "Swimming"
        },
        {
         "id": "Activity^Travelling",
         "style": {
          "direction": "r",
          "hidden": false,
          "type": "process"
         },
         "title": "Travelling"
        },
        {
         "id": "Job^Student",
         "style": {
          "direction": "r",
          "hidden": false,
          "type": "process"
         },
         "title": "Student"
        },
        {
         "id": "Activity^Sleeping",
         "style": {
          "direction": "r",
          "hidden": false,
          "type": "process"
         },
         "title": "Sleeping"
        },
        {
         "id": "Job^Pensioner",
         "style": {
          "direction": "r",
          "hidden": false,
          "type": "process"
         },
         "title": "Pensioner"
        }
       ],
       "order": [
        [
         [
          "Activity^Reading",
          "Activity^Swimming",
          "Activity^Sleeping",
          "Activity^Travelling",
          "Activity^Working out"
         ]
        ],
        [
         [
          "Job^Student",
          "Job^Trainee",
          "Job^Administrator",
          "Job^Manager",
          "Job^Pensioner"
         ]
        ]
       ],
       "png": "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",
       "scale": 1.5833333333333333,
       "svg": "<?xml version=\"1.0\" standalone=\"no\"?><!DOCTYPE svg PUBLIC \"-//W3C//DTD SVG 1.1//EN\" \"http://www.w3.org/Graphics/SVG/1.1/DTD/svg11.dtd\"><svg xmlns=\"http://www.w3.org/2000/svg\" width=\"500\" height=\"400\" viewBox=\"0 0 500 400\"><g class=\"sankey\" transform=\"translate(100,10)\"><g class=\"groups\"><g class=\"group\" style=\"display: none;\" transform=\"translate(0,38)\"><rect x=\"-10\" y=\"-20\" width=\"21\" height=\"333.99999999999994\" style=\"fill: rgb(238, 238, 238); stroke: rgb(187, 187, 187); stroke-width: 0.5;\"/><text x=\"-10\" y=\"-25\" style=\"fill: rgb(153, 153, 153);\"/></g><g class=\"group\" style=\"display: none;\" transform=\"translate(299,38)\"><rect x=\"-10\" y=\"-20\" width=\"21\" height=\"334\" style=\"fill: rgb(238, 238, 238); stroke: rgb(187, 187, 187); stroke-width: 0.5;\"/><text x=\"-10\" y=\"-25\" style=\"fill: rgb(153, 153, 153);\"/></g></g><g class=\"links\"><g class=\"link\" style=\"opacity: 0.8;\"><path d=\"M1,342 A0 0 0 0 0 1,342 L299,342 A0 0 0 0 0 299,342 L299,342 A0 0 0 0 0 299,342 L1,342 A0 0 0 0 0 1,342 Z\" style=\"fill: rgb(251, 180, 174);\"/><title>Working out → Pensioner\n*\n0.00</title></g><g class=\"link\" style=\"opacity: 0.8;\"><path d=\"M1,41.75 A223.3688582611592 223.3688582611592 0.2536034822873814 0 1 57.041862582052104,48.8945384466938 L243.4599250262861,97.21109898565894 A221.3688582611592 221.3688582611592 0.2536034822873814 0 0 299,104.29166666666667 L299,106.29166666666667 A223.3688582611592 223.3688582611592 0.2536034822873814 0 1 242.9581374179479,99.14712821997287 L56.540074973713885,50.830567681007736 A221.3688582611592 221.3688582611592 0.2536034822873814 0 0 1,43.75 Z\" style=\"fill: rgb(251, 180, 174);\"/><title>Reading → Trainee\n*\n1.00</title></g><g class=\"link\" style=\"opacity: 0.8;\"><path d=\"M1,236.49999999999997 A101.37959186711122 101.37959186711122 0.6531509188857365 0 0 62.6075459381297,215.6333383405472 L236.17707047620968,82.81998241300518 A103.37959186711122 103.37959186711122 0.6531509188857365 0 1 299,61.541666666666664 L299,63.541666666666664 A101.37959186711122 101.37959186711122 0.6531509188857365 0 0 237.3924540618703,84.40832832611942 L63.822929523790314,217.22168425366146 A103.37959186711122 103.37959186711122 0.6531509188857365 0 1 1,238.49999999999997 Z\" style=\"fill: rgb(251, 180, 174);\"/><title>Travelling → Student\n*\n1.00</title></g><g class=\"link\" style=\"opacity: 0.8;\"><path d=\"M1,43.54166666666667 A124.81569753187316 124.81569753187316 0.4963571053807381 0 1 60.44040844580046,58.60402167921398 L240.69062693556836,156.22425231218975 A122.44069753187316 122.44069753187316 0.4963571053807381 0 0 299,171 L299,173.375 A124.81569753187316 124.81569753187316 0.4963571053807381 0 1 239.55959155419956,158.31264498745267 L59.309373064431654,60.69241435447692 A122.44069753187316 122.44069753187316 0.4963571053807381 0 0 1,45.91666666666667 Z\" style=\"fill: rgb(251, 180, 174);\"/><title>Reading → Administrator\n*\n1.50</title></g><g class=\"link\" style=\"opacity: 0.8;\"><path d=\"M1,243.04166666666666 A281.89266069887833 281.89266069887833 0.19690139360043046 0 0 56.14709570419668,237.59478725461702 L243.38827938512722,200.24277042095903 A284.26766069887833 284.26766069887833 0.19690139360043046 0 1 299,194.75 L299,197.125 A281.89266069887833 281.89266069887833 0.19690139360043046 0 0 243.8529042958033,202.57187941204964 L56.61172061487279,239.92389624570762 A284.26766069887833 284.26766069887833 0.19690139360043046 0 1 1,245.41666666666666 Z\" style=\"fill: rgb(251, 180, 174);\"/><title>Travelling → Administrator\n*\n1.50</title></g><g class=\"link\" style=\"opacity: 0.8;\"><path d=\"M1,245.41666666666666 A1001.1875 1001.1875 0.03984611530249538 0 1 40.88287684947496,246.2113606697124 L259.2117326342806,254.91552448991771 A998.8125 998.8125 0.03984611530249538 0 0 299,255.70833333333331 L299,258.0833333333333 A1001.1875 1001.1875 0.03984611530249538 0 1 259.11712315052506,257.28863933028754 L40.78826736571941,248.58447551008226 A998.8125 998.8125 0.03984611530249538 0 0 1,247.79166666666666 Z\" style=\"fill: rgb(251, 180, 174);\"/><title>Travelling → Manager\n*\n1.50</title></g><g class=\"link\" style=\"opacity: 0.8;\"><path d=\"M1,45.91666666666667 A99.84984594751342 99.84984594751342 0.7034332835054028 0 1 65.58685491304226,69.61843379282182 L236.46147113710987,214.54991751779457 A96.68317928084676 96.68317928084676 0.7034332835054028 0 0 299,237.5 L299,240.66666666666669 A99.84984594751342 99.84984594751342 0.7034332835054028 0 1 234.41314508695774,216.96489954051154 L63.53852886289014,72.03341581553876 A96.68317928084676 96.68317928084676 0.7034332835054028 0 0 1,49.08333333333334 Z\" style=\"fill: rgb(251, 180, 174);\"/><title>Reading → Manager\n*\n2.00</title></g><g class=\"link\" style=\"opacity: 0.8;\"><path d=\"M1,99.75 A117.24904149418488 117.24904149418488 0.5427269338733045 0 1 61.55596327095664,116.59827932759751 L240.07953453707907,224.27342632154168 A114.08237482751822 114.08237482751822 0.5427269338733045 0 0 299,240.66666666666666 L299,243.83333333333334 A117.24904149418488 117.24904149418488 0.5427269338733045 0 1 238.44403672904335,226.9850540057358 L59.920465462920916,119.30990701179167 A114.08237482751822 114.08237482751822 0.5427269338733045 0 0 1,102.91666666666666 Z\" style=\"fill: rgb(251, 180, 174);\"/><title>Swimming → Manager\n*\n2.00</title></g><g class=\"link\" style=\"opacity: 0.8;\"><path d=\"M1,89.45833333333333 A805.3161810776943 805.3161810776943 0.06828159954388568 0 1 55.945557597656475,91.33494779394576 L244.2704994862743,104.21409810164766 A802.1495144110276 802.1495144110276 0.06828159954388568 0 0 299,106.08333333333333 L299,109.24999999999999 A805.3161810776943 805.3161810776943 0.06828159954388568 0 1 244.05444240234354,107.37338553938756 L55.7295005137257,94.49423523168565 A802.1495144110276 802.1495144110276 0.06828159954388568 0 0 1,92.62499999999999 Z\" style=\"fill: rgb(251, 180, 174);\"/><title>Swimming → Trainee\n*\n2.00</title></g><g class=\"link\" style=\"opacity: 0.8;\"><path d=\"M1,38 A0 0 0 0 0 1,38 L299,38 A0 0 0 0 0 299,38 L299,41.95833333333333 A0 0 0 0 0 299,41.95833333333333 L1,41.95833333333333 A0 0 0 0 0 1,41.95833333333333 Z\" style=\"fill: rgb(251, 180, 174);\"/><title>Reading → Student\n*\n2.50</title></g><g class=\"link\" style=\"opacity: 0.8;\"><path d=\"M1,49.083333333333336 A92.86722376593657 92.86722376593657 0.8735752043601149 0 1 72.19474718758069,82.32145998310517 L231.44674262365075,272.4619468011622 A88.11722376593657 88.11722376593657 0.8735752043601149 0 0 299,304 L299,308.75 A92.86722376593657 92.86722376593657 0.8735752043601149 0 1 227.8052528124193,275.51187335022814 L68.55325737634924,85.37138653217116 A88.11722376593657 88.11722376593657 0.8735752043601149 0 0 1,53.833333333333336 Z\" style=\"fill: rgb(251, 180, 174);\"/><title>Reading → Pensioner\n*\n3.00</title></g><g class=\"link\" style=\"opacity: 0.8;\"><path d=\"M1,247.79166666666666 A164.69659117373078 164.69659117373078 0.3577430758609035 0 1 58.67033784264986,258.2186909214434 L242.99292733363802,327.12370064096774 A159.94659117373078 159.94659117373078 0.3577430758609035 0 0 299,337.25 L299,342 A164.69659117373078 164.69659117373078 0.3577430758609035 0 1 241.32966215735013,331.5729757452233 L57.00707266636199,262.66796602569895 A159.94659117373078 159.94659117373078 0.3577430758609035 0 0 1,252.54166666666666 Z\" style=\"fill: rgb(251, 180, 174);\"/><title>Travelling → Pensioner\n*\n3.00</title></g><g class=\"link\" style=\"opacity: 0.8;\"><path d=\"M1,238.29166666666666 A126.98685299756013 126.98685299756013 0.46838954931873333 0 0 58.3281985251829,224.61473595343767 L239.52741458305084,132.93852242019952 A131.73685299756013 131.73685299756013 0.46838954931873333 0 1 299,118.75 L299,123.5 A126.98685299756013 126.98685299756013 0.46838954931873333 0 0 241.6718014748171,137.17693071322898 L60.47258541694917,228.85314424646714 A131.73685299756013 131.73685299756013 0.46838954931873333 0 1 1,243.04166666666666 Z\" style=\"fill: rgb(251, 180, 174);\"/><title>Travelling → Trainee\n*\n3.00</title></g><g class=\"link\" style=\"opacity: 0.8;\"><path d=\"M1,92.625 A180.63599071207432 180.63599071207432 0.3245292430331461 0 1 58.59806839165175,102.05402923537731 L243.67382789918577,164.31788907966737 A173.51099071207432 173.51099071207432 0.3245292430331461 0 0 299,173.375 L299,180.5 A180.63599071207432 180.63599071207432 0.3245292430331461 0 1 241.40193160834826,171.07097076462267 L56.32617210081425,108.80711092033262 A173.51099071207432 173.51099071207432 0.3245292430331461 0 0 1,99.75 Z\" style=\"fill: rgb(251, 180, 174);\"/><title>Swimming → Administrator\n*\n4.50</title></g><g class=\"link\" style=\"opacity: 0.8;\"><path d=\"M1,82.33333333333333 A332.41573142414865 332.41573142414865 0.16503007490878074 0 0 55.60992031166275,77.81693875176748 L243.21957045715973,46.571532332836306 A339.54073142414865 339.54073142414865 0.16503007490878074 0 1 299,41.958333333333336 L299,49.083333333333336 A332.41573142414865 332.41573142414865 0.16503007490878074 0 0 244.39007968833724,53.599727914899184 L56.78042954284028,84.84513433383037 A339.54073142414865 339.54073142414865 0.16503007490878074 0 1 1,89.45833333333333 Z\" style=\"fill: rgb(251, 180, 174);\"/><title>Swimming → Student\n*\n4.50</title></g><g class=\"link\" style=\"opacity: 0.8;\"><path d=\"M1,158.33333333333331 A273.9999363327675 273.9999363327675 0.20007514059571307 0 0 55.455561954238924,152.86748586566446 L242.65637980206503,114.9053568217141 A283.4999363327675 283.4999363327675 0.20007514059571307 0 1 299,109.25 L299,118.75 A273.9999363327675 273.9999363327675 0.20007514059571307 0 0 244.54443804576107,124.21584746766888 L57.34362019793496,162.17797651161922 A283.4999363327675 283.4999363327675 0.20007514059571307 0 1 1,167.83333333333331 Z\" style=\"fill: rgb(251, 180, 174);\"/><title>Sleeping → Trainee\n*\n6.00</title></g><g class=\"link\" style=\"opacity: 0.8;\"><path d=\"M1,312.7083333333333 A126.64671953857246 126.64671953857246 0.45421899231175056 0 0 56.56759458870806,299.8668597261625 L238.22212291724017,211.17055137279115 A138.52171953857246 138.52171953857246 0.45421899231175056 0 1 299,197.125 L299,209 A126.64671953857246 126.64671953857246 0.45421899231175056 0 0 243.43240541129197,221.8414736071708 L61.77787708275983,310.53778196054213 A138.52171953857246 138.52171953857246 0.45421899231175056 0 1 1,324.5833333333333 Z\" style=\"fill: rgb(251, 180, 174);\"/><title>Working out → Administrator\n*\n7.50</title></g><g class=\"link\" style=\"opacity: 0.8;\"><path d=\"M1,182.08333333333331 A230.91821862348178 230.91821862348178 0.25047861700861906 0 1 58.23716054860874,189.2893905874007 L244.70626801916046,236.99784852869044 A219.04321862348178 219.04321862348178 0.25047861700861906 0 0 299,243.83333333333331 L299,255.70833333333331 A230.91821862348178 230.91821862348178 0.25047861700861906 0 1 241.76283945139124,248.50227607926593 L55.29373198083955,200.7938181379762 A219.04321862348178 219.04321862348178 0.25047861700861906 0 0 1,193.95833333333331 Z\" style=\"fill: rgb(251, 180, 174);\"/><title>Sleeping → Manager\n*\n7.50</title></g><g class=\"link\" style=\"opacity: 0.8;\"><path d=\"M1,281.04166666666663 A87.50844776714516 87.50844776714516 0.7776470253815808 0 0 62.39633932687606,255.88879561784125 L228.71666764958778,92.12703039855549 A100.17511443381181 100.17511443381181 0.7776470253815808 0 1 299,63.333333333333336 L299,76 A87.50844776714516 87.50844776714516 0.7776470253815808 0 0 237.60366067312393,101.15287104882538 L71.28333235041221,264.9146362681111 A100.17511443381181 100.17511443381181 0.7776470253815808 0 1 1,293.70833333333326 Z\" style=\"fill: rgb(251, 180, 174);\"/><title>Working out → Student\n*\n8.00</title></g><g class=\"link\" style=\"opacity: 0.8;\"><path d=\"M1,145.66666666666666 A146.07237201610585 146.07237201610585 0.38454220615286583 0 0 55.79683222195954,134.99903993243797 L239.45146012405448,60.676003387540405 A158.73903868277253 158.73903868277253 0.38454220615286583 0 1 299,49.083333333333336 L299,61.75000000000001 A146.07237201610585 146.07237201610585 0.38454220615286583 0 0 244.20316777804047,72.41762673422868 L60.54853987594554,146.74066327912627 A158.73903868277253 158.73903868277253 0.38454220615286583 0 1 1,158.33333333333334 Z\" style=\"fill: rgb(251, 180, 174);\"/><title>Sleeping → Student\n*\n8.00</title></g><g class=\"link\" style=\"opacity: 0.8;\"><path d=\"M1,102.91666666666667 A102.71546558704452 102.71546558704452 0.749798360425687 0 1 70.99968679870085,130.4622531873783 L235.7118034238813,283.8454529333746 A92.86722376593657 92.86722376593657 0.749798360425687 0 0 299,308.75 L299,323 A107.11722376593657 107.11722376593657 0.749798360425687 0 1 226.0005536994065,294.273977699078 L61.288437074226046,140.89077795308165 A88.46546558704452 88.46546558704452 0.749798360425687 0 0 1,117.16666666666667 Z\" style=\"fill: rgb(251, 180, 174);\"/><title>Swimming → Pensioner\n*\n9.00</title></g><g class=\"link\" style=\"opacity: 0.8;\"><path d=\"M1,167.83333333333331 A1007.125 1007.125 0.05130214743428074 0 1 52.64501410235097,169.15837402563477 L248.08572086198663,179.19370755629262 A992.875 992.875 0.05130214743428074 0 0 299,180.5 L299,194.75 A1007.125 1007.125 0.05130214743428074 0 1 247.35498589764902,193.42495930769854 L51.91427913801337,183.3896257770407 A992.875 992.875 0.05130214743428074 0 0 1,182.08333333333331 Z\" style=\"fill: rgb(251, 180, 174);\"/><title>Sleeping → Administrator\n*\n9.00</title></g><g class=\"link\" style=\"opacity: 0.8;\"><path d=\"M1,193.95833333333331 A129.7083730222796 129.7083730222796 0.5018898969664565 0 1 63.40052202094814,209.95462747390397 L243.4549138933222,308.7610881023165 A115.45837302227962 115.45837302227962 0.5018898969664565 0 0 299,323 L299,337.25 A129.7083730222796 129.7083730222796 0.5018898969664565 0 1 236.59947797905187,321.2537058594293 L56.54508610667779,222.44724523101686 A115.45837302227962 115.45837302227962 0.5018898969664565 0 0 1,208.20833333333331 Z\" style=\"fill: rgb(251, 180, 174);\"/><title>Sleeping → Pensioner\n*\n9.00</title></g><g class=\"link\" style=\"opacity: 0.8;\"><path d=\"M1,324.5833333333333 A201.5764411027569 201.5764411027569 0.2691792787460652 0 0 54.607311251117835,317.32446165773604 L240.76089415101535,265.96938816415627 A218.99310776942357 218.99310776942357 0.2691792787460652 0 1 299,258.0833333333333 L299,275.49999999999994 A201.5764411027569 201.5764411027569 0.2691792787460652 0 0 245.39268874888216,282.7588716755972 L59.23910584898465,334.113945169177 A218.99310776942357 218.99310776942357 0.2691792787460652 0 1 1,341.99999999999994 Z\" style=\"fill: rgb(251, 180, 174);\"/><title>Working out → Manager\n*\n11.0</title></g><g class=\"link\" style=\"opacity: 0.8;\"><path d=\"M1,293.7083333333333 A100.17511443381181 100.17511443381181 0.6437838207137793 0 0 61.12772281719544,273.6563148247652 L230.99929173870166,146.17758359645282 A113.29181303549572 113.29181303549572 0.6437838207137793 0 1 299,123.5 L299,142.5 A94.29181303549572 94.29181303549572 0.6437838207137793 0 0 242.40358850425756,161.3743600731643 L72.53201958275136,288.85309130147664 A119.17511443381181 119.17511443381181 0.6437838207137793 0 1 1,312.7083333333333 Z\" style=\"fill: rgb(251, 180, 174);\"/><title>Working out → Trainee\n*\n12.0</title></g></g><g class=\"nodes\"><g class=\"node\" transform=\"translate(299,171)\"><title>Administrator</title><text dy=\".35em\" text-anchor=\"start\" transform=\"translate(4,19)\" style=\"display: inline;\">Administrator</text><line x1=\"0\" x2=\"0\" y1=\"0\" y2=\"38\" style=\"display: inline; stroke: rgb(0, 0, 0);\"/><rect x=\"-5\" y=\"-5\" width=\"10\" style=\"fill: none; visibility: hidden; pointer-events: all;\" height=\"43\"/></g><g class=\"node\" transform=\"translate(299,104.5)\"><title>Trainee</title><text dy=\".35em\" text-anchor=\"start\" transform=\"translate(4,19)\" style=\"display: inline;\">Trainee</text><line x1=\"0\" x2=\"0\" y1=\"0\" y2=\"38\" style=\"display: inline; stroke: rgb(0, 0, 0);\"/><rect x=\"-5\" y=\"-5\" width=\"10\" style=\"fill: none; visibility: hidden; pointer-events: all;\" height=\"43\"/></g><g class=\"node\" transform=\"translate(0,281.04166666666663)\"><title>Working out</title><text dy=\".35em\" text-anchor=\"end\" transform=\"translate(-4,30.479166666666657)\" style=\"display: inline;\">Working out</text><line x1=\"0\" x2=\"0\" y1=\"0\" y2=\"60.958333333333314\" style=\"display: inline; stroke: rgb(0, 0, 0);\"/><rect x=\"-5\" y=\"-5\" width=\"10\" style=\"fill: none; visibility: hidden; pointer-events: all;\" height=\"65.95833333333331\"/></g><g class=\"node\" transform=\"translate(299,237.5)\"><title>Manager</title><text dy=\".35em\" text-anchor=\"start\" transform=\"translate(4,19)\" style=\"display: inline;\">Manager</text><line x1=\"0\" x2=\"0\" y1=\"0\" y2=\"38\" style=\"display: inline; stroke: rgb(0, 0, 0);\"/><rect x=\"-5\" y=\"-5\" width=\"10\" style=\"fill: none; visibility: hidden; pointer-events: all;\" height=\"43\"/></g><g class=\"node\" transform=\"translate(0,38)\"><title>Reading</title><text dy=\".35em\" text-anchor=\"end\" transform=\"translate(-4,7.916666666666664)\" style=\"display: inline;\">Reading</text><line x1=\"0\" x2=\"0\" y1=\"0\" y2=\"15.833333333333329\" style=\"display: inline; stroke: rgb(0, 0, 0);\"/><rect x=\"-5\" y=\"-5\" width=\"10\" style=\"fill: none; visibility: hidden; pointer-events: all;\" height=\"20.83333333333333\"/></g><g class=\"node\" transform=\"translate(0,82.33333333333333)\"><title>Swimming</title><text dy=\".35em\" text-anchor=\"end\" transform=\"translate(-4,17.416666666666664)\" style=\"display: inline;\">Swimming</text><line x1=\"0\" x2=\"0\" y1=\"0\" y2=\"34.83333333333333\" style=\"display: inline; stroke: rgb(0, 0, 0);\"/><rect x=\"-5\" y=\"-5\" width=\"10\" style=\"fill: none; visibility: hidden; pointer-events: all;\" height=\"39.83333333333333\"/></g><g class=\"node\" transform=\"translate(0,236.70833333333331)\"><title>Travelling</title><text dy=\".35em\" text-anchor=\"end\" transform=\"translate(-4,7.916666666666671)\" style=\"display: inline;\">Travelling</text><line x1=\"0\" x2=\"0\" y1=\"0\" y2=\"15.833333333333343\" style=\"display: inline; stroke: rgb(0, 0, 0);\"/><rect x=\"-5\" y=\"-5\" width=\"10\" style=\"fill: none; visibility: hidden; pointer-events: all;\" height=\"20.833333333333343\"/></g><g class=\"node\" transform=\"translate(299,38)\"><title>Student</title><text dy=\".35em\" text-anchor=\"start\" transform=\"translate(4,19)\" style=\"display: inline;\">Student</text><line x1=\"0\" x2=\"0\" y1=\"0\" y2=\"38\" style=\"display: inline; stroke: rgb(0, 0, 0);\"/><rect x=\"-5\" y=\"-5\" width=\"10\" style=\"fill: none; visibility: hidden; pointer-events: all;\" height=\"43\"/></g><g class=\"node\" transform=\"translate(0,145.66666666666666)\"><title>Sleeping</title><text dy=\".35em\" text-anchor=\"end\" transform=\"translate(-4,31.27083333333333)\" style=\"display: inline;\">Sleeping</text><line x1=\"0\" x2=\"0\" y1=\"0\" y2=\"62.54166666666666\" style=\"display: inline; stroke: rgb(0, 0, 0);\"/><rect x=\"-5\" y=\"-5\" width=\"10\" style=\"fill: none; visibility: hidden; pointer-events: all;\" height=\"67.54166666666666\"/></g><g class=\"node\" transform=\"translate(299,304)\"><title>Pensioner</title><text dy=\".35em\" text-anchor=\"start\" transform=\"translate(4,19)\" style=\"display: inline;\">Pensioner</text><line x1=\"0\" x2=\"0\" y1=\"0\" y2=\"38\" style=\"display: inline; stroke: rgb(0, 0, 0);\"/><rect x=\"-5\" y=\"-5\" width=\"10\" style=\"fill: none; visibility: hidden; pointer-events: all;\" height=\"43\"/></g></g><g class=\"slice-titles\"/></g></svg>"
      }
     },
     "121b64f41d23470eacc2ade86e751474": {
      "model_module": "@jupyter-widgets/base",
      "model_module_version": "1.0.0",
      "model_name": "LayoutModel",
      "state": {
       "height": "400",
       "width": "500"
      }
     },
     "28cdac56612d4305bbda29dd7cc14ca0": {
      "model_module": "@jupyter-widgets/base",
      "model_module_version": "1.0.0",
      "model_name": "LayoutModel",
      "state": {
       "height": "400",
       "width": "500"
      }
     },
     "519542b7b13c4a67aebed2e2c60485b0": {
      "model_module": "jupyter-sankey-widget",
      "model_module_version": "^0.2.3",
      "model_name": "SankeyModel",
      "state": {
       "_model_module_version": "^0.2.3",
       "_view_module_version": "^0.2.3",
       "groups": [
        {
         "id": "Activity",
         "nodes": [
          "Activity^Reading",
          "Activity^Swimming",
          "Activity^Sleeping",
          "Activity^Travelling",
          "Activity^Working out"
         ],
         "rect": {
          "bottom": 341.99999999999994,
          "left": 0,
          "right": 1,
          "top": 38
         },
         "title": "",
         "type": "process"
        },
        {
         "id": "Job",
         "nodes": [
          "Job^Student",
          "Job^Trainee",
          "Job^Administrator",
          "Job^Manager",
          "Job^Pensioner"
         ],
         "rect": {
          "bottom": 342,
          "left": 299,
          "right": 300,
          "top": 38
         },
         "title": "",
         "type": "process"
        }
       ],
       "layout": "IPY_MODEL_121b64f41d23470eacc2ade86e751474",
       "links": [
        {
         "color": "#66C2A5",
         "opacity": 1,
         "source": "Activity^Working out",
         "target": "Job^Administrator",
         "time": "*",
         "title": "Administrator",
         "type": "Administrator",
         "value": 7.5
        },
        {
         "color": "#FC8D62",
         "opacity": 1,
         "source": "Activity^Working out",
         "target": "Job^Manager",
         "time": "*",
         "title": "Manager",
         "type": "Manager",
         "value": 11
        },
        {
         "color": "#8DA0CB",
         "opacity": 1,
         "source": "Activity^Working out",
         "target": "Job^Student",
         "time": "*",
         "title": "Student",
         "type": "Student",
         "value": 8
        },
        {
         "color": "#E78AC3",
         "opacity": 1,
         "source": "Activity^Working out",
         "target": "Job^Pensioner",
         "time": "*",
         "title": "Pensioner",
         "type": "Pensioner",
         "value": 0
        },
        {
         "color": "#A6D854",
         "opacity": 1,
         "source": "Activity^Working out",
         "target": "Job^Trainee",
         "time": "*",
         "title": "Trainee",
         "type": "Trainee",
         "value": 12
        },
        {
         "color": "#66C2A5",
         "opacity": 1,
         "source": "Activity^Reading",
         "target": "Job^Administrator",
         "time": "*",
         "title": "Administrator",
         "type": "Administrator",
         "value": 1.5
        },
        {
         "color": "#FC8D62",
         "opacity": 1,
         "source": "Activity^Reading",
         "target": "Job^Manager",
         "time": "*",
         "title": "Manager",
         "type": "Manager",
         "value": 2
        },
        {
         "color": "#8DA0CB",
         "opacity": 1,
         "source": "Activity^Reading",
         "target": "Job^Student",
         "time": "*",
         "title": "Student",
         "type": "Student",
         "value": 2.5
        },
        {
         "color": "#E78AC3",
         "opacity": 1,
         "source": "Activity^Reading",
         "target": "Job^Pensioner",
         "time": "*",
         "title": "Pensioner",
         "type": "Pensioner",
         "value": 3
        },
        {
         "color": "#A6D854",
         "opacity": 1,
         "source": "Activity^Reading",
         "target": "Job^Trainee",
         "time": "*",
         "title": "Trainee",
         "type": "Trainee",
         "value": 1
        },
        {
         "color": "#66C2A5",
         "opacity": 1,
         "source": "Activity^Swimming",
         "target": "Job^Administrator",
         "time": "*",
         "title": "Administrator",
         "type": "Administrator",
         "value": 4.5
        },
        {
         "color": "#FC8D62",
         "opacity": 1,
         "source": "Activity^Swimming",
         "target": "Job^Manager",
         "time": "*",
         "title": "Manager",
         "type": "Manager",
         "value": 2
        },
        {
         "color": "#8DA0CB",
         "opacity": 1,
         "source": "Activity^Swimming",
         "target": "Job^Student",
         "time": "*",
         "title": "Student",
         "type": "Student",
         "value": 4.5
        },
        {
         "color": "#E78AC3",
         "opacity": 1,
         "source": "Activity^Swimming",
         "target": "Job^Pensioner",
         "time": "*",
         "title": "Pensioner",
         "type": "Pensioner",
         "value": 9
        },
        {
         "color": "#A6D854",
         "opacity": 1,
         "source": "Activity^Swimming",
         "target": "Job^Trainee",
         "time": "*",
         "title": "Trainee",
         "type": "Trainee",
         "value": 2
        },
        {
         "color": "#66C2A5",
         "opacity": 1,
         "source": "Activity^Travelling",
         "target": "Job^Administrator",
         "time": "*",
         "title": "Administrator",
         "type": "Administrator",
         "value": 1.5
        },
        {
         "color": "#FC8D62",
         "opacity": 1,
         "source": "Activity^Travelling",
         "target": "Job^Manager",
         "time": "*",
         "title": "Manager",
         "type": "Manager",
         "value": 1.5
        },
        {
         "color": "#8DA0CB",
         "opacity": 1,
         "source": "Activity^Travelling",
         "target": "Job^Student",
         "time": "*",
         "title": "Student",
         "type": "Student",
         "value": 1
        },
        {
         "color": "#E78AC3",
         "opacity": 1,
         "source": "Activity^Travelling",
         "target": "Job^Pensioner",
         "time": "*",
         "title": "Pensioner",
         "type": "Pensioner",
         "value": 3
        },
        {
         "color": "#A6D854",
         "opacity": 1,
         "source": "Activity^Travelling",
         "target": "Job^Trainee",
         "time": "*",
         "title": "Trainee",
         "type": "Trainee",
         "value": 3
        },
        {
         "color": "#66C2A5",
         "opacity": 1,
         "source": "Activity^Sleeping",
         "target": "Job^Administrator",
         "time": "*",
         "title": "Administrator",
         "type": "Administrator",
         "value": 9
        },
        {
         "color": "#FC8D62",
         "opacity": 1,
         "source": "Activity^Sleeping",
         "target": "Job^Manager",
         "time": "*",
         "title": "Manager",
         "type": "Manager",
         "value": 7.5
        },
        {
         "color": "#8DA0CB",
         "opacity": 1,
         "source": "Activity^Sleeping",
         "target": "Job^Student",
         "time": "*",
         "title": "Student",
         "type": "Student",
         "value": 8
        },
        {
         "color": "#E78AC3",
         "opacity": 1,
         "source": "Activity^Sleeping",
         "target": "Job^Pensioner",
         "time": "*",
         "title": "Pensioner",
         "type": "Pensioner",
         "value": 9
        },
        {
         "color": "#A6D854",
         "opacity": 1,
         "source": "Activity^Sleeping",
         "target": "Job^Trainee",
         "time": "*",
         "title": "Trainee",
         "type": "Trainee",
         "value": 6
        }
       ],
       "margins": {
        "left": 100,
        "right": 100
       },
       "nodes": [
        {
         "id": "Job^Administrator",
         "style": {
          "direction": "r",
          "hidden": false,
          "type": "process"
         },
         "title": "Administrator"
        },
        {
         "id": "Job^Trainee",
         "style": {
          "direction": "r",
          "hidden": false,
          "type": "process"
         },
         "title": "Trainee"
        },
        {
         "id": "Activity^Working out",
         "style": {
          "direction": "r",
          "hidden": false,
          "type": "process"
         },
         "title": "Working out"
        },
        {
         "id": "Job^Manager",
         "style": {
          "direction": "r",
          "hidden": false,
          "type": "process"
         },
         "title": "Manager"
        },
        {
         "id": "Activity^Reading",
         "style": {
          "direction": "r",
          "hidden": false,
          "type": "process"
         },
         "title": "Reading"
        },
        {
         "id": "Activity^Swimming",
         "style": {
          "direction": "r",
          "hidden": false,
          "type": "process"
         },
         "title": "Swimming"
        },
        {
         "id": "Activity^Travelling",
         "style": {
          "direction": "r",
          "hidden": false,
          "type": "process"
         },
         "title": "Travelling"
        },
        {
         "id": "Job^Student",
         "style": {
          "direction": "r",
          "hidden": false,
          "type": "process"
         },
         "title": "Student"
        },
        {
         "id": "Activity^Sleeping",
         "style": {
          "direction": "r",
          "hidden": false,
          "type": "process"
         },
         "title": "Sleeping"
        },
        {
         "id": "Job^Pensioner",
         "style": {
          "direction": "r",
          "hidden": false,
          "type": "process"
         },
         "title": "Pensioner"
        }
       ],
       "order": [
        [
         [
          "Activity^Reading",
          "Activity^Swimming",
          "Activity^Sleeping",
          "Activity^Travelling",
          "Activity^Working out"
         ]
        ],
        [
         [
          "Job^Student",
          "Job^Trainee",
          "Job^Administrator",
          "Job^Manager",
          "Job^Pensioner"
         ]
        ]
       ],
       "png": "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",
       "scale": 1.5833333333333333,
       "svg": "<?xml version=\"1.0\" standalone=\"no\"?><!DOCTYPE svg PUBLIC \"-//W3C//DTD SVG 1.1//EN\" \"http://www.w3.org/Graphics/SVG/1.1/DTD/svg11.dtd\"><svg xmlns=\"http://www.w3.org/2000/svg\" width=\"500\" height=\"400\" viewBox=\"0 0 500 400\"><g class=\"sankey\" transform=\"translate(100,10)\"><g class=\"groups\"><g class=\"group\" style=\"display: none;\" transform=\"translate(0,38)\"><rect x=\"-10\" y=\"-20\" width=\"21\" height=\"333.99999999999994\" style=\"fill: rgb(238, 238, 238); stroke: rgb(187, 187, 187); stroke-width: 0.5;\"/><text x=\"-10\" y=\"-25\" style=\"fill: rgb(153, 153, 153);\"/></g><g class=\"group\" style=\"display: none;\" transform=\"translate(299,38)\"><rect x=\"-10\" y=\"-20\" width=\"21\" height=\"334\" style=\"fill: rgb(238, 238, 238); stroke: rgb(187, 187, 187); stroke-width: 0.5;\"/><text x=\"-10\" y=\"-25\" style=\"fill: rgb(153, 153, 153);\"/></g></g><g class=\"links\"><g class=\"link\" style=\"opacity: 0.8;\"><path d=\"M1,342 A0 0 0 0 0 1,342 L299,342 A0 0 0 0 0 299,342 L299,342 A0 0 0 0 0 299,342 L1,342 A0 0 0 0 0 1,342 Z\" style=\"fill: rgb(231, 138, 195);\"/><title>Working out → Pensioner\nPensioner\n0.00</title></g><g class=\"link\" style=\"opacity: 0.8;\"><path d=\"M1,41.75 A223.3688582611592 223.3688582611592 0.2536034822873814 0 1 57.041862582052104,48.8945384466938 L243.4599250262861,97.21109898565894 A221.3688582611592 221.3688582611592 0.2536034822873814 0 0 299,104.29166666666667 L299,106.29166666666667 A223.3688582611592 223.3688582611592 0.2536034822873814 0 1 242.9581374179479,99.14712821997287 L56.540074973713885,50.830567681007736 A221.3688582611592 221.3688582611592 0.2536034822873814 0 0 1,43.75 Z\" style=\"fill: rgb(166, 216, 84);\"/><title>Reading → Trainee\nTrainee\n1.00</title></g><g class=\"link\" style=\"opacity: 0.8;\"><path d=\"M1,236.49999999999997 A101.37959186711122 101.37959186711122 0.6531509188857365 0 0 62.6075459381297,215.6333383405472 L236.17707047620968,82.81998241300518 A103.37959186711122 103.37959186711122 0.6531509188857365 0 1 299,61.541666666666664 L299,63.541666666666664 A101.37959186711122 101.37959186711122 0.6531509188857365 0 0 237.3924540618703,84.40832832611942 L63.822929523790314,217.22168425366146 A103.37959186711122 103.37959186711122 0.6531509188857365 0 1 1,238.49999999999997 Z\" style=\"fill: rgb(141, 160, 203);\"/><title>Travelling → Student\nStudent\n1.00</title></g><g class=\"link\" style=\"opacity: 0.8;\"><path d=\"M1,43.54166666666667 A124.81569753187316 124.81569753187316 0.4963571053807381 0 1 60.44040844580046,58.60402167921398 L240.69062693556836,156.22425231218975 A122.44069753187316 122.44069753187316 0.4963571053807381 0 0 299,171 L299,173.375 A124.81569753187316 124.81569753187316 0.4963571053807381 0 1 239.55959155419956,158.31264498745267 L59.309373064431654,60.69241435447692 A122.44069753187316 122.44069753187316 0.4963571053807381 0 0 1,45.91666666666667 Z\" style=\"fill: rgb(102, 194, 165);\"/><title>Reading → Administrator\nAdministrator\n1.50</title></g><g class=\"link\" style=\"opacity: 0.8;\"><path d=\"M1,243.04166666666666 A281.89266069887833 281.89266069887833 0.19690139360043046 0 0 56.14709570419668,237.59478725461702 L243.38827938512722,200.24277042095903 A284.26766069887833 284.26766069887833 0.19690139360043046 0 1 299,194.75 L299,197.125 A281.89266069887833 281.89266069887833 0.19690139360043046 0 0 243.8529042958033,202.57187941204964 L56.61172061487279,239.92389624570762 A284.26766069887833 284.26766069887833 0.19690139360043046 0 1 1,245.41666666666666 Z\" style=\"fill: rgb(102, 194, 165);\"/><title>Travelling → Administrator\nAdministrator\n1.50</title></g><g class=\"link\" style=\"opacity: 0.8;\"><path d=\"M1,245.41666666666666 A1001.1875 1001.1875 0.03984611530249538 0 1 40.88287684947496,246.2113606697124 L259.2117326342806,254.91552448991771 A998.8125 998.8125 0.03984611530249538 0 0 299,255.70833333333331 L299,258.0833333333333 A1001.1875 1001.1875 0.03984611530249538 0 1 259.11712315052506,257.28863933028754 L40.78826736571941,248.58447551008226 A998.8125 998.8125 0.03984611530249538 0 0 1,247.79166666666666 Z\" style=\"fill: rgb(252, 141, 98);\"/><title>Travelling → Manager\nManager\n1.50</title></g><g class=\"link\" style=\"opacity: 0.8;\"><path d=\"M1,45.91666666666667 A99.84984594751342 99.84984594751342 0.7034332835054028 0 1 65.58685491304226,69.61843379282182 L236.46147113710987,214.54991751779457 A96.68317928084676 96.68317928084676 0.7034332835054028 0 0 299,237.5 L299,240.66666666666669 A99.84984594751342 99.84984594751342 0.7034332835054028 0 1 234.41314508695774,216.96489954051154 L63.53852886289014,72.03341581553876 A96.68317928084676 96.68317928084676 0.7034332835054028 0 0 1,49.08333333333334 Z\" style=\"fill: rgb(252, 141, 98);\"/><title>Reading → Manager\nManager\n2.00</title></g><g class=\"link\" style=\"opacity: 0.8;\"><path d=\"M1,99.75 A117.24904149418488 117.24904149418488 0.5427269338733045 0 1 61.55596327095664,116.59827932759751 L240.07953453707907,224.27342632154168 A114.08237482751822 114.08237482751822 0.5427269338733045 0 0 299,240.66666666666666 L299,243.83333333333334 A117.24904149418488 117.24904149418488 0.5427269338733045 0 1 238.44403672904335,226.9850540057358 L59.920465462920916,119.30990701179167 A114.08237482751822 114.08237482751822 0.5427269338733045 0 0 1,102.91666666666666 Z\" style=\"fill: rgb(252, 141, 98);\"/><title>Swimming → Manager\nManager\n2.00</title></g><g class=\"link\" style=\"opacity: 0.8;\"><path d=\"M1,89.45833333333333 A805.3161810776943 805.3161810776943 0.06828159954388568 0 1 55.945557597656475,91.33494779394576 L244.2704994862743,104.21409810164766 A802.1495144110276 802.1495144110276 0.06828159954388568 0 0 299,106.08333333333333 L299,109.24999999999999 A805.3161810776943 805.3161810776943 0.06828159954388568 0 1 244.05444240234354,107.37338553938756 L55.7295005137257,94.49423523168565 A802.1495144110276 802.1495144110276 0.06828159954388568 0 0 1,92.62499999999999 Z\" style=\"fill: rgb(166, 216, 84);\"/><title>Swimming → Trainee\nTrainee\n2.00</title></g><g class=\"link\" style=\"opacity: 0.8;\"><path d=\"M1,38 A0 0 0 0 0 1,38 L299,38 A0 0 0 0 0 299,38 L299,41.95833333333333 A0 0 0 0 0 299,41.95833333333333 L1,41.95833333333333 A0 0 0 0 0 1,41.95833333333333 Z\" style=\"fill: rgb(141, 160, 203);\"/><title>Reading → Student\nStudent\n2.50</title></g><g class=\"link\" style=\"opacity: 0.8;\"><path d=\"M1,49.083333333333336 A92.86722376593657 92.86722376593657 0.8735752043601149 0 1 72.19474718758069,82.32145998310517 L231.44674262365075,272.4619468011622 A88.11722376593657 88.11722376593657 0.8735752043601149 0 0 299,304 L299,308.75 A92.86722376593657 92.86722376593657 0.8735752043601149 0 1 227.8052528124193,275.51187335022814 L68.55325737634924,85.37138653217116 A88.11722376593657 88.11722376593657 0.8735752043601149 0 0 1,53.833333333333336 Z\" style=\"fill: rgb(231, 138, 195);\"/><title>Reading → Pensioner\nPensioner\n3.00</title></g><g class=\"link\" style=\"opacity: 0.8;\"><path d=\"M1,247.79166666666666 A164.69659117373078 164.69659117373078 0.3577430758609035 0 1 58.67033784264986,258.2186909214434 L242.99292733363802,327.12370064096774 A159.94659117373078 159.94659117373078 0.3577430758609035 0 0 299,337.25 L299,342 A164.69659117373078 164.69659117373078 0.3577430758609035 0 1 241.32966215735013,331.5729757452233 L57.00707266636199,262.66796602569895 A159.94659117373078 159.94659117373078 0.3577430758609035 0 0 1,252.54166666666666 Z\" style=\"fill: rgb(231, 138, 195);\"/><title>Travelling → Pensioner\nPensioner\n3.00</title></g><g class=\"link\" style=\"opacity: 0.8;\"><path d=\"M1,238.29166666666666 A126.98685299756013 126.98685299756013 0.46838954931873333 0 0 58.3281985251829,224.61473595343767 L239.52741458305084,132.93852242019952 A131.73685299756013 131.73685299756013 0.46838954931873333 0 1 299,118.75 L299,123.5 A126.98685299756013 126.98685299756013 0.46838954931873333 0 0 241.6718014748171,137.17693071322898 L60.47258541694917,228.85314424646714 A131.73685299756013 131.73685299756013 0.46838954931873333 0 1 1,243.04166666666666 Z\" style=\"fill: rgb(166, 216, 84);\"/><title>Travelling → Trainee\nTrainee\n3.00</title></g><g class=\"link\" style=\"opacity: 0.8;\"><path d=\"M1,92.625 A180.63599071207432 180.63599071207432 0.3245292430331461 0 1 58.59806839165175,102.05402923537731 L243.67382789918577,164.31788907966737 A173.51099071207432 173.51099071207432 0.3245292430331461 0 0 299,173.375 L299,180.5 A180.63599071207432 180.63599071207432 0.3245292430331461 0 1 241.40193160834826,171.07097076462267 L56.32617210081425,108.80711092033262 A173.51099071207432 173.51099071207432 0.3245292430331461 0 0 1,99.75 Z\" style=\"fill: rgb(102, 194, 165);\"/><title>Swimming → Administrator\nAdministrator\n4.50</title></g><g class=\"link\" style=\"opacity: 0.8;\"><path d=\"M1,82.33333333333333 A332.41573142414865 332.41573142414865 0.16503007490878074 0 0 55.60992031166275,77.81693875176748 L243.21957045715973,46.571532332836306 A339.54073142414865 339.54073142414865 0.16503007490878074 0 1 299,41.958333333333336 L299,49.083333333333336 A332.41573142414865 332.41573142414865 0.16503007490878074 0 0 244.39007968833724,53.599727914899184 L56.78042954284028,84.84513433383037 A339.54073142414865 339.54073142414865 0.16503007490878074 0 1 1,89.45833333333333 Z\" style=\"fill: rgb(141, 160, 203);\"/><title>Swimming → Student\nStudent\n4.50</title></g><g class=\"link\" style=\"opacity: 0.8;\"><path d=\"M1,158.33333333333331 A273.9999363327675 273.9999363327675 0.20007514059571307 0 0 55.455561954238924,152.86748586566446 L242.65637980206503,114.9053568217141 A283.4999363327675 283.4999363327675 0.20007514059571307 0 1 299,109.25 L299,118.75 A273.9999363327675 273.9999363327675 0.20007514059571307 0 0 244.54443804576107,124.21584746766888 L57.34362019793496,162.17797651161922 A283.4999363327675 283.4999363327675 0.20007514059571307 0 1 1,167.83333333333331 Z\" style=\"fill: rgb(166, 216, 84);\"/><title>Sleeping → Trainee\nTrainee\n6.00</title></g><g class=\"link\" style=\"opacity: 0.8;\"><path d=\"M1,312.7083333333333 A126.64671953857246 126.64671953857246 0.45421899231175056 0 0 56.56759458870806,299.8668597261625 L238.22212291724017,211.17055137279115 A138.52171953857246 138.52171953857246 0.45421899231175056 0 1 299,197.125 L299,209 A126.64671953857246 126.64671953857246 0.45421899231175056 0 0 243.43240541129197,221.8414736071708 L61.77787708275983,310.53778196054213 A138.52171953857246 138.52171953857246 0.45421899231175056 0 1 1,324.5833333333333 Z\" style=\"fill: rgb(102, 194, 165);\"/><title>Working out → Administrator\nAdministrator\n7.50</title></g><g class=\"link\" style=\"opacity: 0.8;\"><path d=\"M1,182.08333333333331 A230.91821862348178 230.91821862348178 0.25047861700861906 0 1 58.23716054860874,189.2893905874007 L244.70626801916046,236.99784852869044 A219.04321862348178 219.04321862348178 0.25047861700861906 0 0 299,243.83333333333331 L299,255.70833333333331 A230.91821862348178 230.91821862348178 0.25047861700861906 0 1 241.76283945139124,248.50227607926593 L55.29373198083955,200.7938181379762 A219.04321862348178 219.04321862348178 0.25047861700861906 0 0 1,193.95833333333331 Z\" style=\"fill: rgb(252, 141, 98);\"/><title>Sleeping → Manager\nManager\n7.50</title></g><g class=\"link\" style=\"opacity: 0.8;\"><path d=\"M1,281.04166666666663 A87.50844776714516 87.50844776714516 0.7776470253815808 0 0 62.39633932687606,255.88879561784125 L228.71666764958778,92.12703039855549 A100.17511443381181 100.17511443381181 0.7776470253815808 0 1 299,63.333333333333336 L299,76 A87.50844776714516 87.50844776714516 0.7776470253815808 0 0 237.60366067312393,101.15287104882538 L71.28333235041221,264.9146362681111 A100.17511443381181 100.17511443381181 0.7776470253815808 0 1 1,293.70833333333326 Z\" style=\"fill: rgb(141, 160, 203);\"/><title>Working out → Student\nStudent\n8.00</title></g><g class=\"link\" style=\"opacity: 0.8;\"><path d=\"M1,145.66666666666666 A146.07237201610585 146.07237201610585 0.38454220615286583 0 0 55.79683222195954,134.99903993243797 L239.45146012405448,60.676003387540405 A158.73903868277253 158.73903868277253 0.38454220615286583 0 1 299,49.083333333333336 L299,61.75000000000001 A146.07237201610585 146.07237201610585 0.38454220615286583 0 0 244.20316777804047,72.41762673422868 L60.54853987594554,146.74066327912627 A158.73903868277253 158.73903868277253 0.38454220615286583 0 1 1,158.33333333333334 Z\" style=\"fill: rgb(141, 160, 203);\"/><title>Sleeping → Student\nStudent\n8.00</title></g><g class=\"link\" style=\"opacity: 0.8;\"><path d=\"M1,102.91666666666667 A102.71546558704452 102.71546558704452 0.749798360425687 0 1 70.99968679870085,130.4622531873783 L235.7118034238813,283.8454529333746 A92.86722376593657 92.86722376593657 0.749798360425687 0 0 299,308.75 L299,323 A107.11722376593657 107.11722376593657 0.749798360425687 0 1 226.0005536994065,294.273977699078 L61.288437074226046,140.89077795308165 A88.46546558704452 88.46546558704452 0.749798360425687 0 0 1,117.16666666666667 Z\" style=\"fill: rgb(231, 138, 195);\"/><title>Swimming → Pensioner\nPensioner\n9.00</title></g><g class=\"link\" style=\"opacity: 0.8;\"><path d=\"M1,167.83333333333331 A1007.125 1007.125 0.05130214743428074 0 1 52.64501410235097,169.15837402563477 L248.08572086198663,179.19370755629262 A992.875 992.875 0.05130214743428074 0 0 299,180.5 L299,194.75 A1007.125 1007.125 0.05130214743428074 0 1 247.35498589764902,193.42495930769854 L51.91427913801337,183.3896257770407 A992.875 992.875 0.05130214743428074 0 0 1,182.08333333333331 Z\" style=\"fill: rgb(102, 194, 165);\"/><title>Sleeping → Administrator\nAdministrator\n9.00</title></g><g class=\"link\" style=\"opacity: 0.8;\"><path d=\"M1,193.95833333333331 A129.7083730222796 129.7083730222796 0.5018898969664565 0 1 63.40052202094814,209.95462747390397 L243.4549138933222,308.7610881023165 A115.45837302227962 115.45837302227962 0.5018898969664565 0 0 299,323 L299,337.25 A129.7083730222796 129.7083730222796 0.5018898969664565 0 1 236.59947797905187,321.2537058594293 L56.54508610667779,222.44724523101686 A115.45837302227962 115.45837302227962 0.5018898969664565 0 0 1,208.20833333333331 Z\" style=\"fill: rgb(231, 138, 195);\"/><title>Sleeping → Pensioner\nPensioner\n9.00</title></g><g class=\"link\" style=\"opacity: 0.8;\"><path d=\"M1,324.5833333333333 A201.5764411027569 201.5764411027569 0.2691792787460652 0 0 54.607311251117835,317.32446165773604 L240.76089415101535,265.96938816415627 A218.99310776942357 218.99310776942357 0.2691792787460652 0 1 299,258.0833333333333 L299,275.49999999999994 A201.5764411027569 201.5764411027569 0.2691792787460652 0 0 245.39268874888216,282.7588716755972 L59.23910584898465,334.113945169177 A218.99310776942357 218.99310776942357 0.2691792787460652 0 1 1,341.99999999999994 Z\" style=\"fill: rgb(252, 141, 98);\"/><title>Working out → Manager\nManager\n11.0</title></g><g class=\"link\" style=\"opacity: 0.8;\"><path d=\"M1,293.7083333333333 A100.17511443381181 100.17511443381181 0.6437838207137793 0 0 61.12772281719544,273.6563148247652 L230.99929173870166,146.17758359645282 A113.29181303549572 113.29181303549572 0.6437838207137793 0 1 299,123.5 L299,142.5 A94.29181303549572 94.29181303549572 0.6437838207137793 0 0 242.40358850425756,161.3743600731643 L72.53201958275136,288.85309130147664 A119.17511443381181 119.17511443381181 0.6437838207137793 0 1 1,312.7083333333333 Z\" style=\"fill: rgb(166, 216, 84);\"/><title>Working out → Trainee\nTrainee\n12.0</title></g></g><g class=\"nodes\"><g class=\"node\" transform=\"translate(299,171)\"><title>Administrator</title><text dy=\".35em\" text-anchor=\"start\" transform=\"translate(4,19)\" style=\"display: inline;\">Administrator</text><line x1=\"0\" x2=\"0\" y1=\"0\" y2=\"38\" style=\"display: inline; stroke: rgb(0, 0, 0);\"/><rect x=\"-5\" y=\"-5\" width=\"10\" style=\"fill: none; visibility: hidden; pointer-events: all;\" height=\"43\"/></g><g class=\"node\" transform=\"translate(299,104.5)\"><title>Trainee</title><text dy=\".35em\" text-anchor=\"start\" transform=\"translate(4,19)\" style=\"display: inline;\">Trainee</text><line x1=\"0\" x2=\"0\" y1=\"0\" y2=\"38\" style=\"display: inline; stroke: rgb(0, 0, 0);\"/><rect x=\"-5\" y=\"-5\" width=\"10\" style=\"fill: none; visibility: hidden; pointer-events: all;\" height=\"43\"/></g><g class=\"node\" transform=\"translate(0,281.04166666666663)\"><title>Working out</title><text dy=\".35em\" text-anchor=\"end\" transform=\"translate(-4,30.479166666666657)\" style=\"display: inline;\">Working out</text><line x1=\"0\" x2=\"0\" y1=\"0\" y2=\"60.958333333333314\" style=\"display: inline; stroke: rgb(0, 0, 0);\"/><rect x=\"-5\" y=\"-5\" width=\"10\" style=\"fill: none; visibility: hidden; pointer-events: all;\" height=\"65.95833333333331\"/></g><g class=\"node\" transform=\"translate(299,237.5)\"><title>Manager</title><text dy=\".35em\" text-anchor=\"start\" transform=\"translate(4,19)\" style=\"display: inline;\">Manager</text><line x1=\"0\" x2=\"0\" y1=\"0\" y2=\"38\" style=\"display: inline; stroke: rgb(0, 0, 0);\"/><rect x=\"-5\" y=\"-5\" width=\"10\" style=\"fill: none; visibility: hidden; pointer-events: all;\" height=\"43\"/></g><g class=\"node\" transform=\"translate(0,38)\"><title>Reading</title><text dy=\".35em\" text-anchor=\"end\" transform=\"translate(-4,7.916666666666664)\" style=\"display: inline;\">Reading</text><line x1=\"0\" x2=\"0\" y1=\"0\" y2=\"15.833333333333329\" style=\"display: inline; stroke: rgb(0, 0, 0);\"/><rect x=\"-5\" y=\"-5\" width=\"10\" style=\"fill: none; visibility: hidden; pointer-events: all;\" height=\"20.83333333333333\"/></g><g class=\"node\" transform=\"translate(0,82.33333333333333)\"><title>Swimming</title><text dy=\".35em\" text-anchor=\"end\" transform=\"translate(-4,17.416666666666664)\" style=\"display: inline;\">Swimming</text><line x1=\"0\" x2=\"0\" y1=\"0\" y2=\"34.83333333333333\" style=\"display: inline; stroke: rgb(0, 0, 0);\"/><rect x=\"-5\" y=\"-5\" width=\"10\" style=\"fill: none; visibility: hidden; pointer-events: all;\" height=\"39.83333333333333\"/></g><g class=\"node\" transform=\"translate(0,236.70833333333331)\"><title>Travelling</title><text dy=\".35em\" text-anchor=\"end\" transform=\"translate(-4,7.916666666666671)\" style=\"display: inline;\">Travelling</text><line x1=\"0\" x2=\"0\" y1=\"0\" y2=\"15.833333333333343\" style=\"display: inline; stroke: rgb(0, 0, 0);\"/><rect x=\"-5\" y=\"-5\" width=\"10\" style=\"fill: none; visibility: hidden; pointer-events: all;\" height=\"20.833333333333343\"/></g><g class=\"node\" transform=\"translate(299,38)\"><title>Student</title><text dy=\".35em\" text-anchor=\"start\" transform=\"translate(4,19)\" style=\"display: inline;\">Student</text><line x1=\"0\" x2=\"0\" y1=\"0\" y2=\"38\" style=\"display: inline; stroke: rgb(0, 0, 0);\"/><rect x=\"-5\" y=\"-5\" width=\"10\" style=\"fill: none; visibility: hidden; pointer-events: all;\" height=\"43\"/></g><g class=\"node\" transform=\"translate(0,145.66666666666666)\"><title>Sleeping</title><text dy=\".35em\" text-anchor=\"end\" transform=\"translate(-4,31.27083333333333)\" style=\"display: inline;\">Sleeping</text><line x1=\"0\" x2=\"0\" y1=\"0\" y2=\"62.54166666666666\" style=\"display: inline; stroke: rgb(0, 0, 0);\"/><rect x=\"-5\" y=\"-5\" width=\"10\" style=\"fill: none; visibility: hidden; pointer-events: all;\" height=\"67.54166666666666\"/></g><g class=\"node\" transform=\"translate(299,304)\"><title>Pensioner</title><text dy=\".35em\" text-anchor=\"start\" transform=\"translate(4,19)\" style=\"display: inline;\">Pensioner</text><line x1=\"0\" x2=\"0\" y1=\"0\" y2=\"38\" style=\"display: inline; stroke: rgb(0, 0, 0);\"/><rect x=\"-5\" y=\"-5\" width=\"10\" style=\"fill: none; visibility: hidden; pointer-events: all;\" height=\"43\"/></g></g><g class=\"slice-titles\"/></g></svg>"
      }
     },
     "5ba629829fef4f1283bf9bae63158426": {
      "model_module": "@jupyter-widgets/base",
      "model_module_version": "1.0.0",
      "model_name": "LayoutModel",
      "state": {
       "height": "400",
       "width": "500"
      }
     },
     "5f7dd436011740f9a5ce83d72906a4f6": {
      "model_module": "@jupyter-widgets/base",
      "model_module_version": "1.0.0",
      "model_name": "LayoutModel",
      "state": {
       "height": "400",
       "width": "500"
      }
     },
     "8c72379d27bc4566af3941689e20cf93": {
      "model_module": "jupyter-sankey-widget",
      "model_module_version": "^0.2.3",
      "model_name": "SankeyModel",
      "state": {
       "_model_module_version": "^0.2.3",
       "_view_module_version": "^0.2.3",
       "groups": [
        {
         "id": "Activity",
         "nodes": [
          "Activity^Reading",
          "Activity^Swimming",
          "Activity^Sleeping",
          "Activity^Travelling",
          "Activity^Working out"
         ],
         "rect": {
          "bottom": 341.99999999999994,
          "left": 0,
          "right": 1,
          "top": 38
         },
         "title": "",
         "type": "process"
        },
        {
         "id": "Job",
         "nodes": [
          "Job^Student",
          "Job^Trainee",
          "Job^Administrator",
          "Job^Manager",
          "Job^Pensioner"
         ],
         "rect": {
          "bottom": 342,
          "left": 299,
          "right": 300,
          "top": 38
         },
         "title": "",
         "type": "process"
        }
       ],
       "layout": "IPY_MODEL_5ba629829fef4f1283bf9bae63158426",
       "links": [
        {
         "color": "#58a1cf",
         "opacity": 1,
         "source": "Activity^Working out",
         "target": "Job^Administrator",
         "time": "*",
         "title": "Administrator",
         "type": "Administrator",
         "value": 7.5
        },
        {
         "color": "#4695c8",
         "opacity": 1,
         "source": "Activity^Working out",
         "target": "Job^Manager",
         "time": "*",
         "title": "Manager",
         "type": "Manager",
         "value": 11
        },
        {
         "color": "#abd0e6",
         "opacity": 1,
         "source": "Activity^Working out",
         "target": "Job^Student",
         "time": "*",
         "title": "Student",
         "type": "Student",
         "value": 8
        },
        {
         "color": "#f7fbff",
         "opacity": 1,
         "source": "Activity^Working out",
         "target": "Job^Pensioner",
         "time": "*",
         "title": "Pensioner",
         "type": "Pensioner",
         "value": 0
        },
        {
         "color": "#6aaed6",
         "opacity": 1,
         "source": "Activity^Working out",
         "target": "Job^Trainee",
         "time": "*",
         "title": "Trainee",
         "type": "Trainee",
         "value": 12
        },
        {
         "color": "#99c7e0",
         "opacity": 1,
         "source": "Activity^Reading",
         "target": "Job^Administrator",
         "time": "*",
         "title": "Administrator",
         "type": "Administrator",
         "value": 1.5
        },
        {
         "color": "#6aaed6",
         "opacity": 1,
         "source": "Activity^Reading",
         "target": "Job^Manager",
         "time": "*",
         "title": "Manager",
         "type": "Manager",
         "value": 2
        },
        {
         "color": "#99c7e0",
         "opacity": 1,
         "source": "Activity^Reading",
         "target": "Job^Student",
         "time": "*",
         "title": "Student",
         "type": "Student",
         "value": 2.5
        },
        {
         "color": "#99c7e0",
         "opacity": 1,
         "source": "Activity^Reading",
         "target": "Job^Pensioner",
         "time": "*",
         "title": "Pensioner",
         "type": "Pensioner",
         "value": 3
        },
        {
         "color": "#99c7e0",
         "opacity": 1,
         "source": "Activity^Reading",
         "target": "Job^Trainee",
         "time": "*",
         "title": "Trainee",
         "type": "Trainee",
         "value": 1
        },
        {
         "color": "#ccdff1",
         "opacity": 1,
         "source": "Activity^Swimming",
         "target": "Job^Administrator",
         "time": "*",
         "title": "Administrator",
         "type": "Administrator",
         "value": 4.5
        },
        {
         "color": "#82bbdb",
         "opacity": 1,
         "source": "Activity^Swimming",
         "target": "Job^Manager",
         "time": "*",
         "title": "Manager",
         "type": "Manager",
         "value": 2
        },
        {
         "color": "#ccdff1",
         "opacity": 1,
         "source": "Activity^Swimming",
         "target": "Job^Student",
         "time": "*",
         "title": "Student",
         "type": "Student",
         "value": 4.5
        },
        {
         "color": "#d6e6f4",
         "opacity": 1,
         "source": "Activity^Swimming",
         "target": "Job^Pensioner",
         "time": "*",
         "title": "Pensioner",
         "type": "Pensioner",
         "value": 9
        },
        {
         "color": "#82bbdb",
         "opacity": 1,
         "source": "Activity^Swimming",
         "target": "Job^Trainee",
         "time": "*",
         "title": "Trainee",
         "type": "Trainee",
         "value": 2
        },
        {
         "color": "#58a1cf",
         "opacity": 1,
         "source": "Activity^Travelling",
         "target": "Job^Administrator",
         "time": "*",
         "title": "Administrator",
         "type": "Administrator",
         "value": 1.5
        },
        {
         "color": "#08306b",
         "opacity": 1,
         "source": "Activity^Travelling",
         "target": "Job^Manager",
         "time": "*",
         "title": "Manager",
         "type": "Manager",
         "value": 1.5
        },
        {
         "color": "#ecf4fb",
         "opacity": 1,
         "source": "Activity^Travelling",
         "target": "Job^Student",
         "time": "*",
         "title": "Student",
         "type": "Student",
         "value": 1
        },
        {
         "color": "#3787c0",
         "opacity": 1,
         "source": "Activity^Travelling",
         "target": "Job^Pensioner",
         "time": "*",
         "title": "Pensioner",
         "type": "Pensioner",
         "value": 3
        },
        {
         "color": "#82bbdb",
         "opacity": 1,
         "source": "Activity^Travelling",
         "target": "Job^Trainee",
         "time": "*",
         "title": "Trainee",
         "type": "Trainee",
         "value": 3
        },
        {
         "color": "#e1edf8",
         "opacity": 1,
         "source": "Activity^Sleeping",
         "target": "Job^Administrator",
         "time": "*",
         "title": "Administrator",
         "type": "Administrator",
         "value": 9
        },
        {
         "color": "#e1edf8",
         "opacity": 1,
         "source": "Activity^Sleeping",
         "target": "Job^Manager",
         "time": "*",
         "title": "Manager",
         "type": "Manager",
         "value": 7.5
        },
        {
         "color": "#ecf4fb",
         "opacity": 1,
         "source": "Activity^Sleeping",
         "target": "Job^Student",
         "time": "*",
         "title": "Student",
         "type": "Student",
         "value": 8
        },
        {
         "color": "#d6e6f4",
         "opacity": 1,
         "source": "Activity^Sleeping",
         "target": "Job^Pensioner",
         "time": "*",
         "title": "Pensioner",
         "type": "Pensioner",
         "value": 9
        },
        {
         "color": "#ecf4fb",
         "opacity": 1,
         "source": "Activity^Sleeping",
         "target": "Job^Trainee",
         "time": "*",
         "title": "Trainee",
         "type": "Trainee",
         "value": 6
        }
       ],
       "margins": {
        "left": 100,
        "right": 100
       },
       "nodes": [
        {
         "id": "Job^Administrator",
         "style": {
          "direction": "r",
          "hidden": false,
          "type": "process"
         },
         "title": "Administrator"
        },
        {
         "id": "Job^Trainee",
         "style": {
          "direction": "r",
          "hidden": false,
          "type": "process"
         },
         "title": "Trainee"
        },
        {
         "id": "Activity^Working out",
         "style": {
          "direction": "r",
          "hidden": false,
          "type": "process"
         },
         "title": "Working out"
        },
        {
         "id": "Job^Manager",
         "style": {
          "direction": "r",
          "hidden": false,
          "type": "process"
         },
         "title": "Manager"
        },
        {
         "id": "Activity^Reading",
         "style": {
          "direction": "r",
          "hidden": false,
          "type": "process"
         },
         "title": "Reading"
        },
        {
         "id": "Activity^Swimming",
         "style": {
          "direction": "r",
          "hidden": false,
          "type": "process"
         },
         "title": "Swimming"
        },
        {
         "id": "Activity^Travelling",
         "style": {
          "direction": "r",
          "hidden": false,
          "type": "process"
         },
         "title": "Travelling"
        },
        {
         "id": "Job^Student",
         "style": {
          "direction": "r",
          "hidden": false,
          "type": "process"
         },
         "title": "Student"
        },
        {
         "id": "Activity^Sleeping",
         "style": {
          "direction": "r",
          "hidden": false,
          "type": "process"
         },
         "title": "Sleeping"
        },
        {
         "id": "Job^Pensioner",
         "style": {
          "direction": "r",
          "hidden": false,
          "type": "process"
         },
         "title": "Pensioner"
        }
       ],
       "order": [
        [
         [
          "Activity^Reading",
          "Activity^Swimming",
          "Activity^Sleeping",
          "Activity^Travelling",
          "Activity^Working out"
         ]
        ],
        [
         [
          "Job^Student",
          "Job^Trainee",
          "Job^Administrator",
          "Job^Manager",
          "Job^Pensioner"
         ]
        ]
       ],
       "scale": 1.5833333333333333,
       "svg": "<?xml version=\"1.0\" standalone=\"no\"?><!DOCTYPE svg PUBLIC \"-//W3C//DTD SVG 1.1//EN\" \"http://www.w3.org/Graphics/SVG/1.1/DTD/svg11.dtd\"><svg xmlns=\"http://www.w3.org/2000/svg\" width=\"500\" height=\"400\" viewBox=\"0 0 500 400\"><g class=\"sankey\" transform=\"translate(100,10)\"><g class=\"groups\"><g class=\"group\" style=\"display: none;\" transform=\"translate(0,38)\"><rect x=\"-10\" y=\"-20\" width=\"21\" height=\"333.99999999999994\" style=\"fill: rgb(238, 238, 238); stroke: rgb(187, 187, 187); stroke-width: 0.5;\"/><text x=\"-10\" y=\"-25\" style=\"fill: rgb(153, 153, 153);\"/></g><g class=\"group\" style=\"display: none;\" transform=\"translate(299,38)\"><rect x=\"-10\" y=\"-20\" width=\"21\" height=\"334\" style=\"fill: rgb(238, 238, 238); stroke: rgb(187, 187, 187); stroke-width: 0.5;\"/><text x=\"-10\" y=\"-25\" style=\"fill: rgb(153, 153, 153);\"/></g></g><g class=\"links\"><g class=\"link\" style=\"opacity: 0.8;\"><path d=\"M1,342 A0 0 0 0 0 1,342 L299,342 A0 0 0 0 0 299,342 L299,342 A0 0 0 0 0 299,342 L1,342 A0 0 0 0 0 1,342 Z\" style=\"fill: rgb(247, 251, 255);\"/><title>Working out → Pensioner\nPensioner\n0.00</title></g><g class=\"link\" style=\"opacity: 0.8;\"><path d=\"M1,41.75 A223.3688582611592 223.3688582611592 0.2536034822873814 0 1 57.041862582052104,48.8945384466938 L243.4599250262861,97.21109898565894 A221.3688582611592 221.3688582611592 0.2536034822873814 0 0 299,104.29166666666667 L299,106.29166666666667 A223.3688582611592 223.3688582611592 0.2536034822873814 0 1 242.9581374179479,99.14712821997287 L56.540074973713885,50.830567681007736 A221.3688582611592 221.3688582611592 0.2536034822873814 0 0 1,43.75 Z\" style=\"fill: rgb(153, 199, 224);\"/><title>Reading → Trainee\nTrainee\n1.00</title></g><g class=\"link\" style=\"opacity: 0.8;\"><path d=\"M1,236.49999999999997 A101.37959186711122 101.37959186711122 0.6531509188857365 0 0 62.6075459381297,215.6333383405472 L236.17707047620968,82.81998241300518 A103.37959186711122 103.37959186711122 0.6531509188857365 0 1 299,61.541666666666664 L299,63.541666666666664 A101.37959186711122 101.37959186711122 0.6531509188857365 0 0 237.3924540618703,84.40832832611942 L63.822929523790314,217.22168425366146 A103.37959186711122 103.37959186711122 0.6531509188857365 0 1 1,238.49999999999997 Z\" style=\"fill: rgb(236, 244, 251);\"/><title>Travelling → Student\nStudent\n1.00</title></g><g class=\"link\" style=\"opacity: 0.8;\"><path d=\"M1,43.54166666666667 A124.81569753187316 124.81569753187316 0.4963571053807381 0 1 60.44040844580046,58.60402167921398 L240.69062693556836,156.22425231218975 A122.44069753187316 122.44069753187316 0.4963571053807381 0 0 299,171 L299,173.375 A124.81569753187316 124.81569753187316 0.4963571053807381 0 1 239.55959155419956,158.31264498745267 L59.309373064431654,60.69241435447692 A122.44069753187316 122.44069753187316 0.4963571053807381 0 0 1,45.91666666666667 Z\" style=\"fill: rgb(153, 199, 224);\"/><title>Reading → Administrator\nAdministrator\n1.50</title></g><g class=\"link\" style=\"opacity: 0.8;\"><path d=\"M1,243.04166666666666 A281.89266069887833 281.89266069887833 0.19690139360043046 0 0 56.14709570419668,237.59478725461702 L243.38827938512722,200.24277042095903 A284.26766069887833 284.26766069887833 0.19690139360043046 0 1 299,194.75 L299,197.125 A281.89266069887833 281.89266069887833 0.19690139360043046 0 0 243.8529042958033,202.57187941204964 L56.61172061487279,239.92389624570762 A284.26766069887833 284.26766069887833 0.19690139360043046 0 1 1,245.41666666666666 Z\" style=\"fill: rgb(88, 161, 207);\"/><title>Travelling → Administrator\nAdministrator\n1.50</title></g><g class=\"link\" style=\"opacity: 0.8;\"><path d=\"M1,245.41666666666666 A1001.1875 1001.1875 0.03984611530249538 0 1 40.88287684947496,246.2113606697124 L259.2117326342806,254.91552448991771 A998.8125 998.8125 0.03984611530249538 0 0 299,255.70833333333331 L299,258.0833333333333 A1001.1875 1001.1875 0.03984611530249538 0 1 259.11712315052506,257.28863933028754 L40.78826736571941,248.58447551008226 A998.8125 998.8125 0.03984611530249538 0 0 1,247.79166666666666 Z\" style=\"fill: rgb(8, 48, 107);\"/><title>Travelling → Manager\nManager\n1.50</title></g><g class=\"link\" style=\"opacity: 0.8;\"><path d=\"M1,45.91666666666667 A99.84984594751342 99.84984594751342 0.7034332835054028 0 1 65.58685491304226,69.61843379282182 L236.46147113710987,214.54991751779457 A96.68317928084676 96.68317928084676 0.7034332835054028 0 0 299,237.5 L299,240.66666666666669 A99.84984594751342 99.84984594751342 0.7034332835054028 0 1 234.41314508695774,216.96489954051154 L63.53852886289014,72.03341581553876 A96.68317928084676 96.68317928084676 0.7034332835054028 0 0 1,49.08333333333334 Z\" style=\"fill: rgb(106, 174, 214);\"/><title>Reading → Manager\nManager\n2.00</title></g><g class=\"link\" style=\"opacity: 0.8;\"><path d=\"M1,99.75 A117.24904149418488 117.24904149418488 0.5427269338733045 0 1 61.55596327095664,116.59827932759751 L240.07953453707907,224.27342632154168 A114.08237482751822 114.08237482751822 0.5427269338733045 0 0 299,240.66666666666666 L299,243.83333333333334 A117.24904149418488 117.24904149418488 0.5427269338733045 0 1 238.44403672904335,226.9850540057358 L59.920465462920916,119.30990701179167 A114.08237482751822 114.08237482751822 0.5427269338733045 0 0 1,102.91666666666666 Z\" style=\"fill: rgb(130, 187, 219);\"/><title>Swimming → Manager\nManager\n2.00</title></g><g class=\"link\" style=\"opacity: 0.8;\"><path d=\"M1,89.45833333333333 A805.3161810776943 805.3161810776943 0.06828159954388568 0 1 55.945557597656475,91.33494779394576 L244.2704994862743,104.21409810164766 A802.1495144110276 802.1495144110276 0.06828159954388568 0 0 299,106.08333333333333 L299,109.24999999999999 A805.3161810776943 805.3161810776943 0.06828159954388568 0 1 244.05444240234354,107.37338553938756 L55.7295005137257,94.49423523168565 A802.1495144110276 802.1495144110276 0.06828159954388568 0 0 1,92.62499999999999 Z\" style=\"fill: rgb(130, 187, 219);\"/><title>Swimming → Trainee\nTrainee\n2.00</title></g><g class=\"link\" style=\"opacity: 0.8;\"><path d=\"M1,38 A0 0 0 0 0 1,38 L299,38 A0 0 0 0 0 299,38 L299,41.95833333333333 A0 0 0 0 0 299,41.95833333333333 L1,41.95833333333333 A0 0 0 0 0 1,41.95833333333333 Z\" style=\"fill: rgb(153, 199, 224);\"/><title>Reading → Student\nStudent\n2.50</title></g><g class=\"link\" style=\"opacity: 0.8;\"><path d=\"M1,49.083333333333336 A92.86722376593657 92.86722376593657 0.8735752043601149 0 1 72.19474718758069,82.32145998310517 L231.44674262365075,272.4619468011622 A88.11722376593657 88.11722376593657 0.8735752043601149 0 0 299,304 L299,308.75 A92.86722376593657 92.86722376593657 0.8735752043601149 0 1 227.8052528124193,275.51187335022814 L68.55325737634924,85.37138653217116 A88.11722376593657 88.11722376593657 0.8735752043601149 0 0 1,53.833333333333336 Z\" style=\"fill: rgb(153, 199, 224);\"/><title>Reading → Pensioner\nPensioner\n3.00</title></g><g class=\"link\" style=\"opacity: 0.8;\"><path d=\"M1,247.79166666666666 A164.69659117373078 164.69659117373078 0.3577430758609035 0 1 58.67033784264986,258.2186909214434 L242.99292733363802,327.12370064096774 A159.94659117373078 159.94659117373078 0.3577430758609035 0 0 299,337.25 L299,342 A164.69659117373078 164.69659117373078 0.3577430758609035 0 1 241.32966215735013,331.5729757452233 L57.00707266636199,262.66796602569895 A159.94659117373078 159.94659117373078 0.3577430758609035 0 0 1,252.54166666666666 Z\" style=\"fill: rgb(55, 135, 192);\"/><title>Travelling → Pensioner\nPensioner\n3.00</title></g><g class=\"link\" style=\"opacity: 0.8;\"><path d=\"M1,238.29166666666666 A126.98685299756013 126.98685299756013 0.46838954931873333 0 0 58.3281985251829,224.61473595343767 L239.52741458305084,132.93852242019952 A131.73685299756013 131.73685299756013 0.46838954931873333 0 1 299,118.75 L299,123.5 A126.98685299756013 126.98685299756013 0.46838954931873333 0 0 241.6718014748171,137.17693071322898 L60.47258541694917,228.85314424646714 A131.73685299756013 131.73685299756013 0.46838954931873333 0 1 1,243.04166666666666 Z\" style=\"fill: rgb(130, 187, 219);\"/><title>Travelling → Trainee\nTrainee\n3.00</title></g><g class=\"link\" style=\"opacity: 0.8;\"><path d=\"M1,92.625 A180.63599071207432 180.63599071207432 0.3245292430331461 0 1 58.59806839165175,102.05402923537731 L243.67382789918577,164.31788907966737 A173.51099071207432 173.51099071207432 0.3245292430331461 0 0 299,173.375 L299,180.5 A180.63599071207432 180.63599071207432 0.3245292430331461 0 1 241.40193160834826,171.07097076462267 L56.32617210081425,108.80711092033262 A173.51099071207432 173.51099071207432 0.3245292430331461 0 0 1,99.75 Z\" style=\"fill: rgb(204, 223, 241);\"/><title>Swimming → Administrator\nAdministrator\n4.50</title></g><g class=\"link\" style=\"opacity: 0.8;\"><path d=\"M1,82.33333333333333 A332.41573142414865 332.41573142414865 0.16503007490878074 0 0 55.60992031166275,77.81693875176748 L243.21957045715973,46.571532332836306 A339.54073142414865 339.54073142414865 0.16503007490878074 0 1 299,41.958333333333336 L299,49.083333333333336 A332.41573142414865 332.41573142414865 0.16503007490878074 0 0 244.39007968833724,53.599727914899184 L56.78042954284028,84.84513433383037 A339.54073142414865 339.54073142414865 0.16503007490878074 0 1 1,89.45833333333333 Z\" style=\"fill: rgb(204, 223, 241);\"/><title>Swimming → Student\nStudent\n4.50</title></g><g class=\"link\" style=\"opacity: 0.8;\"><path d=\"M1,158.33333333333331 A273.9999363327675 273.9999363327675 0.20007514059571307 0 0 55.455561954238924,152.86748586566446 L242.65637980206503,114.9053568217141 A283.4999363327675 283.4999363327675 0.20007514059571307 0 1 299,109.25 L299,118.75 A273.9999363327675 273.9999363327675 0.20007514059571307 0 0 244.54443804576107,124.21584746766888 L57.34362019793496,162.17797651161922 A283.4999363327675 283.4999363327675 0.20007514059571307 0 1 1,167.83333333333331 Z\" style=\"fill: rgb(236, 244, 251);\"/><title>Sleeping → Trainee\nTrainee\n6.00</title></g><g class=\"link\" style=\"opacity: 0.8;\"><path d=\"M1,312.7083333333333 A126.64671953857246 126.64671953857246 0.45421899231175056 0 0 56.56759458870806,299.8668597261625 L238.22212291724017,211.17055137279115 A138.52171953857246 138.52171953857246 0.45421899231175056 0 1 299,197.125 L299,209 A126.64671953857246 126.64671953857246 0.45421899231175056 0 0 243.43240541129197,221.8414736071708 L61.77787708275983,310.53778196054213 A138.52171953857246 138.52171953857246 0.45421899231175056 0 1 1,324.5833333333333 Z\" style=\"fill: rgb(88, 161, 207);\"/><title>Working out → Administrator\nAdministrator\n7.50</title></g><g class=\"link\" style=\"opacity: 0.8;\"><path d=\"M1,182.08333333333331 A230.91821862348178 230.91821862348178 0.25047861700861906 0 1 58.23716054860874,189.2893905874007 L244.70626801916046,236.99784852869044 A219.04321862348178 219.04321862348178 0.25047861700861906 0 0 299,243.83333333333331 L299,255.70833333333331 A230.91821862348178 230.91821862348178 0.25047861700861906 0 1 241.76283945139124,248.50227607926593 L55.29373198083955,200.7938181379762 A219.04321862348178 219.04321862348178 0.25047861700861906 0 0 1,193.95833333333331 Z\" style=\"fill: rgb(225, 237, 248);\"/><title>Sleeping → Manager\nManager\n7.50</title></g><g class=\"link\" style=\"opacity: 0.8;\"><path d=\"M1,281.04166666666663 A87.50844776714516 87.50844776714516 0.7776470253815808 0 0 62.39633932687606,255.88879561784125 L228.71666764958778,92.12703039855549 A100.17511443381181 100.17511443381181 0.7776470253815808 0 1 299,63.333333333333336 L299,76 A87.50844776714516 87.50844776714516 0.7776470253815808 0 0 237.60366067312393,101.15287104882538 L71.28333235041221,264.9146362681111 A100.17511443381181 100.17511443381181 0.7776470253815808 0 1 1,293.70833333333326 Z\" style=\"fill: rgb(171, 208, 230);\"/><title>Working out → Student\nStudent\n8.00</title></g><g class=\"link\" style=\"opacity: 0.8;\"><path d=\"M1,145.66666666666666 A146.07237201610585 146.07237201610585 0.38454220615286583 0 0 55.79683222195954,134.99903993243797 L239.45146012405448,60.676003387540405 A158.73903868277253 158.73903868277253 0.38454220615286583 0 1 299,49.083333333333336 L299,61.75000000000001 A146.07237201610585 146.07237201610585 0.38454220615286583 0 0 244.20316777804047,72.41762673422868 L60.54853987594554,146.74066327912627 A158.73903868277253 158.73903868277253 0.38454220615286583 0 1 1,158.33333333333334 Z\" style=\"fill: rgb(236, 244, 251);\"/><title>Sleeping → Student\nStudent\n8.00</title></g><g class=\"link\" style=\"opacity: 0.8;\"><path d=\"M1,102.91666666666667 A102.71546558704452 102.71546558704452 0.749798360425687 0 1 70.99968679870085,130.4622531873783 L235.7118034238813,283.8454529333746 A92.86722376593657 92.86722376593657 0.749798360425687 0 0 299,308.75 L299,323 A107.11722376593657 107.11722376593657 0.749798360425687 0 1 226.0005536994065,294.273977699078 L61.288437074226046,140.89077795308165 A88.46546558704452 88.46546558704452 0.749798360425687 0 0 1,117.16666666666667 Z\" style=\"fill: rgb(214, 230, 244);\"/><title>Swimming → Pensioner\nPensioner\n9.00</title></g><g class=\"link\" style=\"opacity: 0.8;\"><path d=\"M1,167.83333333333331 A1007.125 1007.125 0.05130214743428074 0 1 52.64501410235097,169.15837402563477 L248.08572086198663,179.19370755629262 A992.875 992.875 0.05130214743428074 0 0 299,180.5 L299,194.75 A1007.125 1007.125 0.05130214743428074 0 1 247.35498589764902,193.42495930769854 L51.91427913801337,183.3896257770407 A992.875 992.875 0.05130214743428074 0 0 1,182.08333333333331 Z\" style=\"fill: rgb(225, 237, 248);\"/><title>Sleeping → Administrator\nAdministrator\n9.00</title></g><g class=\"link\" style=\"opacity: 0.8;\"><path d=\"M1,193.95833333333331 A129.7083730222796 129.7083730222796 0.5018898969664565 0 1 63.40052202094814,209.95462747390397 L243.4549138933222,308.7610881023165 A115.45837302227962 115.45837302227962 0.5018898969664565 0 0 299,323 L299,337.25 A129.7083730222796 129.7083730222796 0.5018898969664565 0 1 236.59947797905187,321.2537058594293 L56.54508610667779,222.44724523101686 A115.45837302227962 115.45837302227962 0.5018898969664565 0 0 1,208.20833333333331 Z\" style=\"fill: rgb(214, 230, 244);\"/><title>Sleeping → Pensioner\nPensioner\n9.00</title></g><g class=\"link\" style=\"opacity: 0.8;\"><path d=\"M1,324.5833333333333 A201.5764411027569 201.5764411027569 0.2691792787460652 0 0 54.607311251117835,317.32446165773604 L240.76089415101535,265.96938816415627 A218.99310776942357 218.99310776942357 0.2691792787460652 0 1 299,258.0833333333333 L299,275.49999999999994 A201.5764411027569 201.5764411027569 0.2691792787460652 0 0 245.39268874888216,282.7588716755972 L59.23910584898465,334.113945169177 A218.99310776942357 218.99310776942357 0.2691792787460652 0 1 1,341.99999999999994 Z\" style=\"fill: rgb(70, 149, 200);\"/><title>Working out → Manager\nManager\n11.0</title></g><g class=\"link\" style=\"opacity: 0.8;\"><path d=\"M1,293.7083333333333 A100.17511443381181 100.17511443381181 0.6437838207137793 0 0 61.12772281719544,273.6563148247652 L230.99929173870166,146.17758359645282 A113.29181303549572 113.29181303549572 0.6437838207137793 0 1 299,123.5 L299,142.5 A94.29181303549572 94.29181303549572 0.6437838207137793 0 0 242.40358850425756,161.3743600731643 L72.53201958275136,288.85309130147664 A119.17511443381181 119.17511443381181 0.6437838207137793 0 1 1,312.7083333333333 Z\" style=\"fill: rgb(106, 174, 214);\"/><title>Working out → Trainee\nTrainee\n12.0</title></g></g><g class=\"nodes\"><g class=\"node\" transform=\"translate(299,171)\"><title>Administrator</title><text dy=\".35em\" text-anchor=\"start\" transform=\"translate(4,19)\" style=\"display: inline;\">Administrator</text><line x1=\"0\" x2=\"0\" y1=\"0\" y2=\"38\" style=\"display: inline; stroke: rgb(0, 0, 0);\"/><rect x=\"-5\" y=\"-5\" width=\"10\" style=\"fill: none; visibility: hidden; pointer-events: all;\" height=\"43\"/></g><g class=\"node\" transform=\"translate(299,104.5)\"><title>Trainee</title><text dy=\".35em\" text-anchor=\"start\" transform=\"translate(4,19)\" style=\"display: inline;\">Trainee</text><line x1=\"0\" x2=\"0\" y1=\"0\" y2=\"38\" style=\"display: inline; stroke: rgb(0, 0, 0);\"/><rect x=\"-5\" y=\"-5\" width=\"10\" style=\"fill: none; visibility: hidden; pointer-events: all;\" height=\"43\"/></g><g class=\"node\" transform=\"translate(0,281.04166666666663)\"><title>Working out</title><text dy=\".35em\" text-anchor=\"end\" transform=\"translate(-4,30.479166666666657)\" style=\"display: inline;\">Working out</text><line x1=\"0\" x2=\"0\" y1=\"0\" y2=\"60.958333333333314\" style=\"display: inline; stroke: rgb(0, 0, 0);\"/><rect x=\"-5\" y=\"-5\" width=\"10\" style=\"fill: none; visibility: hidden; pointer-events: all;\" height=\"65.95833333333331\"/></g><g class=\"node\" transform=\"translate(299,237.5)\"><title>Manager</title><text dy=\".35em\" text-anchor=\"start\" transform=\"translate(4,19)\" style=\"display: inline;\">Manager</text><line x1=\"0\" x2=\"0\" y1=\"0\" y2=\"38\" style=\"display: inline; stroke: rgb(0, 0, 0);\"/><rect x=\"-5\" y=\"-5\" width=\"10\" style=\"fill: none; visibility: hidden; pointer-events: all;\" height=\"43\"/></g><g class=\"node\" transform=\"translate(0,38)\"><title>Reading</title><text dy=\".35em\" text-anchor=\"end\" transform=\"translate(-4,7.916666666666664)\" style=\"display: inline;\">Reading</text><line x1=\"0\" x2=\"0\" y1=\"0\" y2=\"15.833333333333329\" style=\"display: inline; stroke: rgb(0, 0, 0);\"/><rect x=\"-5\" y=\"-5\" width=\"10\" style=\"fill: none; visibility: hidden; pointer-events: all;\" height=\"20.83333333333333\"/></g><g class=\"node\" transform=\"translate(0,82.33333333333333)\"><title>Swimming</title><text dy=\".35em\" text-anchor=\"end\" transform=\"translate(-4,17.416666666666664)\" style=\"display: inline;\">Swimming</text><line x1=\"0\" x2=\"0\" y1=\"0\" y2=\"34.83333333333333\" style=\"display: inline; stroke: rgb(0, 0, 0);\"/><rect x=\"-5\" y=\"-5\" width=\"10\" style=\"fill: none; visibility: hidden; pointer-events: all;\" height=\"39.83333333333333\"/></g><g class=\"node\" transform=\"translate(0,236.70833333333331)\"><title>Travelling</title><text dy=\".35em\" text-anchor=\"end\" transform=\"translate(-4,7.916666666666671)\" style=\"display: inline;\">Travelling</text><line x1=\"0\" x2=\"0\" y1=\"0\" y2=\"15.833333333333343\" style=\"display: inline; stroke: rgb(0, 0, 0);\"/><rect x=\"-5\" y=\"-5\" width=\"10\" style=\"fill: none; visibility: hidden; pointer-events: all;\" height=\"20.833333333333343\"/></g><g class=\"node\" transform=\"translate(299,38)\"><title>Student</title><text dy=\".35em\" text-anchor=\"start\" transform=\"translate(4,19)\" style=\"display: inline;\">Student</text><line x1=\"0\" x2=\"0\" y1=\"0\" y2=\"38\" style=\"display: inline; stroke: rgb(0, 0, 0);\"/><rect x=\"-5\" y=\"-5\" width=\"10\" style=\"fill: none; visibility: hidden; pointer-events: all;\" height=\"43\"/></g><g class=\"node\" transform=\"translate(0,145.66666666666666)\"><title>Sleeping</title><text dy=\".35em\" text-anchor=\"end\" transform=\"translate(-4,31.27083333333333)\" style=\"display: inline;\">Sleeping</text><line x1=\"0\" x2=\"0\" y1=\"0\" y2=\"62.54166666666666\" style=\"display: inline; stroke: rgb(0, 0, 0);\"/><rect x=\"-5\" y=\"-5\" width=\"10\" style=\"fill: none; visibility: hidden; pointer-events: all;\" height=\"67.54166666666666\"/></g><g class=\"node\" transform=\"translate(299,304)\"><title>Pensioner</title><text dy=\".35em\" text-anchor=\"start\" transform=\"translate(4,19)\" style=\"display: inline;\">Pensioner</text><line x1=\"0\" x2=\"0\" y1=\"0\" y2=\"38\" style=\"display: inline; stroke: rgb(0, 0, 0);\"/><rect x=\"-5\" y=\"-5\" width=\"10\" style=\"fill: none; visibility: hidden; pointer-events: all;\" height=\"43\"/></g></g><g class=\"slice-titles\"/></g></svg>"
      }
     },
     "9f89edfd03fe440a88c3a739de908cfc": {
      "model_module": "@jupyter-widgets/base",
      "model_module_version": "1.0.0",
      "model_name": "LayoutModel",
      "state": {
       "height": "400",
       "width": "500"
      }
     },
     "a7d4abbdd3034cd48b58e58977586c16": {
      "model_module": "jupyter-sankey-widget",
      "model_module_version": "^0.2.3",
      "model_name": "SankeyModel",
      "state": {
       "_model_module_version": "^0.2.3",
       "_view_module_version": "^0.2.3",
       "groups": [
        {
         "id": "Activity",
         "nodes": [
          "Activity^Reading",
          "Activity^Swimming",
          "Activity^Sleeping",
          "Activity^Travelling",
          "Activity^Working out"
         ],
         "rect": {
          "bottom": 341.99999999999994,
          "left": 0,
          "right": 1,
          "top": 38
         },
         "title": "",
         "type": "process"
        },
        {
         "id": "Job",
         "nodes": [
          "Job^Student",
          "Job^Trainee",
          "Job^Administrator",
          "Job^Manager",
          "Job^Pensioner"
         ],
         "rect": {
          "bottom": 342,
          "left": 299,
          "right": 300,
          "top": 38
         },
         "title": "",
         "type": "process"
        }
       ],
       "layout": "IPY_MODEL_c816efa6acce4e50aad5b0cc841a1cbc",
       "links": [
        {
         "color": "#f6553c",
         "opacity": 1,
         "source": "Activity^Working out",
         "target": "Job^Administrator",
         "time": "*",
         "title": "Administrator",
         "type": "Administrator",
         "value": 7.5
        },
        {
         "color": "#f0402f",
         "opacity": 1,
         "source": "Activity^Working out",
         "target": "Job^Manager",
         "time": "*",
         "title": "Manager",
         "type": "Manager",
         "value": 11
        },
        {
         "color": "#fca082",
         "opacity": 1,
         "source": "Activity^Working out",
         "target": "Job^Student",
         "time": "*",
         "title": "Student",
         "type": "Student",
         "value": 8
        },
        {
         "color": "#fff5f0",
         "opacity": 1,
         "source": "Activity^Working out",
         "target": "Job^Pensioner",
         "time": "*",
         "title": "Pensioner",
         "type": "Pensioner",
         "value": 0
        },
        {
         "color": "#fb694a",
         "opacity": 1,
         "source": "Activity^Working out",
         "target": "Job^Trainee",
         "time": "*",
         "title": "Trainee",
         "type": "Trainee",
         "value": 12
        },
        {
         "color": "#fc8e6e",
         "opacity": 1,
         "source": "Activity^Reading",
         "target": "Job^Administrator",
         "time": "*",
         "title": "Administrator",
         "type": "Administrator",
         "value": 1.5
        },
        {
         "color": "#fb694a",
         "opacity": 1,
         "source": "Activity^Reading",
         "target": "Job^Manager",
         "time": "*",
         "title": "Manager",
         "type": "Manager",
         "value": 2
        },
        {
         "color": "#fc8e6e",
         "opacity": 1,
         "source": "Activity^Reading",
         "target": "Job^Student",
         "time": "*",
         "title": "Student",
         "type": "Student",
         "value": 2.5
        },
        {
         "color": "#fc8e6e",
         "opacity": 1,
         "source": "Activity^Reading",
         "target": "Job^Pensioner",
         "time": "*",
         "title": "Pensioner",
         "type": "Pensioner",
         "value": 3
        },
        {
         "color": "#fc8e6e",
         "opacity": 1,
         "source": "Activity^Reading",
         "target": "Job^Trainee",
         "time": "*",
         "title": "Trainee",
         "type": "Trainee",
         "value": 1
        },
        {
         "color": "#fcc4ad",
         "opacity": 1,
         "source": "Activity^Swimming",
         "target": "Job^Administrator",
         "time": "*",
         "title": "Administrator",
         "type": "Administrator",
         "value": 4.5
        },
        {
         "color": "#fb7c5c",
         "opacity": 1,
         "source": "Activity^Swimming",
         "target": "Job^Manager",
         "time": "*",
         "title": "Manager",
         "type": "Manager",
         "value": 2
        },
        {
         "color": "#fcc4ad",
         "opacity": 1,
         "source": "Activity^Swimming",
         "target": "Job^Student",
         "time": "*",
         "title": "Student",
         "type": "Student",
         "value": 4.5
        },
        {
         "color": "#fdd4c2",
         "opacity": 1,
         "source": "Activity^Swimming",
         "target": "Job^Pensioner",
         "time": "*",
         "title": "Pensioner",
         "type": "Pensioner",
         "value": 9
        },
        {
         "color": "#fb7c5c",
         "opacity": 1,
         "source": "Activity^Swimming",
         "target": "Job^Trainee",
         "time": "*",
         "title": "Trainee",
         "type": "Trainee",
         "value": 2
        },
        {
         "color": "#f6553c",
         "opacity": 1,
         "source": "Activity^Travelling",
         "target": "Job^Administrator",
         "time": "*",
         "title": "Administrator",
         "type": "Administrator",
         "value": 1.5
        },
        {
         "color": "#67000d",
         "opacity": 1,
         "source": "Activity^Travelling",
         "target": "Job^Manager",
         "time": "*",
         "title": "Manager",
         "type": "Manager",
         "value": 1.5
        },
        {
         "color": "#ffece3",
         "opacity": 1,
         "source": "Activity^Travelling",
         "target": "Job^Student",
         "time": "*",
         "title": "Student",
         "type": "Student",
         "value": 1
        },
        {
         "color": "#e32f27",
         "opacity": 1,
         "source": "Activity^Travelling",
         "target": "Job^Pensioner",
         "time": "*",
         "title": "Pensioner",
         "type": "Pensioner",
         "value": 3
        },
        {
         "color": "#fb7c5c",
         "opacity": 1,
         "source": "Activity^Travelling",
         "target": "Job^Trainee",
         "time": "*",
         "title": "Trainee",
         "type": "Trainee",
         "value": 3
        },
        {
         "color": "#fee3d6",
         "opacity": 1,
         "source": "Activity^Sleeping",
         "target": "Job^Administrator",
         "time": "*",
         "title": "Administrator",
         "type": "Administrator",
         "value": 9
        },
        {
         "color": "#fee3d6",
         "opacity": 1,
         "source": "Activity^Sleeping",
         "target": "Job^Manager",
         "time": "*",
         "title": "Manager",
         "type": "Manager",
         "value": 7.5
        },
        {
         "color": "#ffece3",
         "opacity": 1,
         "source": "Activity^Sleeping",
         "target": "Job^Student",
         "time": "*",
         "title": "Student",
         "type": "Student",
         "value": 8
        },
        {
         "color": "#fdd4c2",
         "opacity": 1,
         "source": "Activity^Sleeping",
         "target": "Job^Pensioner",
         "time": "*",
         "title": "Pensioner",
         "type": "Pensioner",
         "value": 9
        },
        {
         "color": "#ffece3",
         "opacity": 1,
         "source": "Activity^Sleeping",
         "target": "Job^Trainee",
         "time": "*",
         "title": "Trainee",
         "type": "Trainee",
         "value": 6
        }
       ],
       "margins": {
        "left": 100,
        "right": 100
       },
       "nodes": [
        {
         "id": "Job^Administrator",
         "style": {
          "direction": "r",
          "hidden": false,
          "type": "process"
         },
         "title": "Administrator"
        },
        {
         "id": "Job^Trainee",
         "style": {
          "direction": "r",
          "hidden": false,
          "type": "process"
         },
         "title": "Trainee"
        },
        {
         "id": "Activity^Working out",
         "style": {
          "direction": "r",
          "hidden": false,
          "type": "process"
         },
         "title": "Working out"
        },
        {
         "id": "Job^Manager",
         "style": {
          "direction": "r",
          "hidden": false,
          "type": "process"
         },
         "title": "Manager"
        },
        {
         "id": "Activity^Reading",
         "style": {
          "direction": "r",
          "hidden": false,
          "type": "process"
         },
         "title": "Reading"
        },
        {
         "id": "Activity^Swimming",
         "style": {
          "direction": "r",
          "hidden": false,
          "type": "process"
         },
         "title": "Swimming"
        },
        {
         "id": "Activity^Travelling",
         "style": {
          "direction": "r",
          "hidden": false,
          "type": "process"
         },
         "title": "Travelling"
        },
        {
         "id": "Job^Student",
         "style": {
          "direction": "r",
          "hidden": false,
          "type": "process"
         },
         "title": "Student"
        },
        {
         "id": "Activity^Sleeping",
         "style": {
          "direction": "r",
          "hidden": false,
          "type": "process"
         },
         "title": "Sleeping"
        },
        {
         "id": "Job^Pensioner",
         "style": {
          "direction": "r",
          "hidden": false,
          "type": "process"
         },
         "title": "Pensioner"
        }
       ],
       "order": [
        [
         [
          "Activity^Reading",
          "Activity^Swimming",
          "Activity^Sleeping",
          "Activity^Travelling",
          "Activity^Working out"
         ]
        ],
        [
         [
          "Job^Student",
          "Job^Trainee",
          "Job^Administrator",
          "Job^Manager",
          "Job^Pensioner"
         ]
        ]
       ],
       "png": "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",
       "scale": 1.5833333333333333,
       "svg": "<?xml version=\"1.0\" standalone=\"no\"?><!DOCTYPE svg PUBLIC \"-//W3C//DTD SVG 1.1//EN\" \"http://www.w3.org/Graphics/SVG/1.1/DTD/svg11.dtd\"><svg xmlns=\"http://www.w3.org/2000/svg\" width=\"500\" height=\"400\" viewBox=\"0 0 500 400\"><g class=\"sankey\" transform=\"translate(100,10)\"><g class=\"groups\"><g class=\"group\" style=\"display: none;\" transform=\"translate(0,38)\"><rect x=\"-10\" y=\"-20\" width=\"21\" height=\"333.99999999999994\" style=\"fill: rgb(238, 238, 238); stroke: rgb(187, 187, 187); stroke-width: 0.5;\"/><text x=\"-10\" y=\"-25\" style=\"fill: rgb(153, 153, 153);\"/></g><g class=\"group\" style=\"display: none;\" transform=\"translate(299,38)\"><rect x=\"-10\" y=\"-20\" width=\"21\" height=\"334\" style=\"fill: rgb(238, 238, 238); stroke: rgb(187, 187, 187); stroke-width: 0.5;\"/><text x=\"-10\" y=\"-25\" style=\"fill: rgb(153, 153, 153);\"/></g></g><g class=\"links\"><g class=\"link\" style=\"opacity: 0.8;\"><path d=\"M1,342 A0 0 0 0 0 1,342 L299,342 A0 0 0 0 0 299,342 L299,342 A0 0 0 0 0 299,342 L1,342 A0 0 0 0 0 1,342 Z\" style=\"fill: rgb(255, 245, 240);\"/><title>Working out → Pensioner\nPensioner\n0.00</title></g><g class=\"link\" style=\"opacity: 0.8;\"><path d=\"M1,41.75 A223.3688582611592 223.3688582611592 0.2536034822873814 0 1 57.041862582052104,48.8945384466938 L243.4599250262861,97.21109898565894 A221.3688582611592 221.3688582611592 0.2536034822873814 0 0 299,104.29166666666667 L299,106.29166666666667 A223.3688582611592 223.3688582611592 0.2536034822873814 0 1 242.9581374179479,99.14712821997287 L56.540074973713885,50.830567681007736 A221.3688582611592 221.3688582611592 0.2536034822873814 0 0 1,43.75 Z\" style=\"fill: rgb(252, 142, 110);\"/><title>Reading → Trainee\nTrainee\n1.00</title></g><g class=\"link\" style=\"opacity: 0.8;\"><path d=\"M1,236.49999999999997 A101.37959186711122 101.37959186711122 0.6531509188857365 0 0 62.6075459381297,215.6333383405472 L236.17707047620968,82.81998241300518 A103.37959186711122 103.37959186711122 0.6531509188857365 0 1 299,61.541666666666664 L299,63.541666666666664 A101.37959186711122 101.37959186711122 0.6531509188857365 0 0 237.3924540618703,84.40832832611942 L63.822929523790314,217.22168425366146 A103.37959186711122 103.37959186711122 0.6531509188857365 0 1 1,238.49999999999997 Z\" style=\"fill: rgb(255, 236, 227);\"/><title>Travelling → Student\nStudent\n1.00</title></g><g class=\"link\" style=\"opacity: 0.8;\"><path d=\"M1,43.54166666666667 A124.81569753187316 124.81569753187316 0.4963571053807381 0 1 60.44040844580046,58.60402167921398 L240.69062693556836,156.22425231218975 A122.44069753187316 122.44069753187316 0.4963571053807381 0 0 299,171 L299,173.375 A124.81569753187316 124.81569753187316 0.4963571053807381 0 1 239.55959155419956,158.31264498745267 L59.309373064431654,60.69241435447692 A122.44069753187316 122.44069753187316 0.4963571053807381 0 0 1,45.91666666666667 Z\" style=\"fill: rgb(252, 142, 110);\"/><title>Reading → Administrator\nAdministrator\n1.50</title></g><g class=\"link\" style=\"opacity: 0.8;\"><path d=\"M1,243.04166666666666 A281.89266069887833 281.89266069887833 0.19690139360043046 0 0 56.14709570419668,237.59478725461702 L243.38827938512722,200.24277042095903 A284.26766069887833 284.26766069887833 0.19690139360043046 0 1 299,194.75 L299,197.125 A281.89266069887833 281.89266069887833 0.19690139360043046 0 0 243.8529042958033,202.57187941204964 L56.61172061487279,239.92389624570762 A284.26766069887833 284.26766069887833 0.19690139360043046 0 1 1,245.41666666666666 Z\" style=\"fill: rgb(246, 85, 60);\"/><title>Travelling → Administrator\nAdministrator\n1.50</title></g><g class=\"link\" style=\"opacity: 0.8;\"><path d=\"M1,245.41666666666666 A1001.1875 1001.1875 0.03984611530249538 0 1 40.88287684947496,246.2113606697124 L259.2117326342806,254.91552448991771 A998.8125 998.8125 0.03984611530249538 0 0 299,255.70833333333331 L299,258.0833333333333 A1001.1875 1001.1875 0.03984611530249538 0 1 259.11712315052506,257.28863933028754 L40.78826736571941,248.58447551008226 A998.8125 998.8125 0.03984611530249538 0 0 1,247.79166666666666 Z\" style=\"fill: rgb(103, 0, 13);\"/><title>Travelling → Manager\nManager\n1.50</title></g><g class=\"link\" style=\"opacity: 0.8;\"><path d=\"M1,45.91666666666667 A99.84984594751342 99.84984594751342 0.7034332835054028 0 1 65.58685491304226,69.61843379282182 L236.46147113710987,214.54991751779457 A96.68317928084676 96.68317928084676 0.7034332835054028 0 0 299,237.5 L299,240.66666666666669 A99.84984594751342 99.84984594751342 0.7034332835054028 0 1 234.41314508695774,216.96489954051154 L63.53852886289014,72.03341581553876 A96.68317928084676 96.68317928084676 0.7034332835054028 0 0 1,49.08333333333334 Z\" style=\"fill: rgb(251, 105, 74);\"/><title>Reading → Manager\nManager\n2.00</title></g><g class=\"link\" style=\"opacity: 0.8;\"><path d=\"M1,99.75 A117.24904149418488 117.24904149418488 0.5427269338733045 0 1 61.55596327095664,116.59827932759751 L240.07953453707907,224.27342632154168 A114.08237482751822 114.08237482751822 0.5427269338733045 0 0 299,240.66666666666666 L299,243.83333333333334 A117.24904149418488 117.24904149418488 0.5427269338733045 0 1 238.44403672904335,226.9850540057358 L59.920465462920916,119.30990701179167 A114.08237482751822 114.08237482751822 0.5427269338733045 0 0 1,102.91666666666666 Z\" style=\"fill: rgb(251, 124, 92);\"/><title>Swimming → Manager\nManager\n2.00</title></g><g class=\"link\" style=\"opacity: 0.8;\"><path d=\"M1,89.45833333333333 A805.3161810776943 805.3161810776943 0.06828159954388568 0 1 55.945557597656475,91.33494779394576 L244.2704994862743,104.21409810164766 A802.1495144110276 802.1495144110276 0.06828159954388568 0 0 299,106.08333333333333 L299,109.24999999999999 A805.3161810776943 805.3161810776943 0.06828159954388568 0 1 244.05444240234354,107.37338553938756 L55.7295005137257,94.49423523168565 A802.1495144110276 802.1495144110276 0.06828159954388568 0 0 1,92.62499999999999 Z\" style=\"fill: rgb(251, 124, 92);\"/><title>Swimming → Trainee\nTrainee\n2.00</title></g><g class=\"link\" style=\"opacity: 0.8;\"><path d=\"M1,38 A0 0 0 0 0 1,38 L299,38 A0 0 0 0 0 299,38 L299,41.95833333333333 A0 0 0 0 0 299,41.95833333333333 L1,41.95833333333333 A0 0 0 0 0 1,41.95833333333333 Z\" style=\"fill: rgb(252, 142, 110);\"/><title>Reading → Student\nStudent\n2.50</title></g><g class=\"link\" style=\"opacity: 0.8;\"><path d=\"M1,49.083333333333336 A92.86722376593657 92.86722376593657 0.8735752043601149 0 1 72.19474718758069,82.32145998310517 L231.44674262365075,272.4619468011622 A88.11722376593657 88.11722376593657 0.8735752043601149 0 0 299,304 L299,308.75 A92.86722376593657 92.86722376593657 0.8735752043601149 0 1 227.8052528124193,275.51187335022814 L68.55325737634924,85.37138653217116 A88.11722376593657 88.11722376593657 0.8735752043601149 0 0 1,53.833333333333336 Z\" style=\"fill: rgb(252, 142, 110);\"/><title>Reading → Pensioner\nPensioner\n3.00</title></g><g class=\"link\" style=\"opacity: 0.8;\"><path d=\"M1,247.79166666666666 A164.69659117373078 164.69659117373078 0.3577430758609035 0 1 58.67033784264986,258.2186909214434 L242.99292733363802,327.12370064096774 A159.94659117373078 159.94659117373078 0.3577430758609035 0 0 299,337.25 L299,342 A164.69659117373078 164.69659117373078 0.3577430758609035 0 1 241.32966215735013,331.5729757452233 L57.00707266636199,262.66796602569895 A159.94659117373078 159.94659117373078 0.3577430758609035 0 0 1,252.54166666666666 Z\" style=\"fill: rgb(227, 47, 39);\"/><title>Travelling → Pensioner\nPensioner\n3.00</title></g><g class=\"link\" style=\"opacity: 0.8;\"><path d=\"M1,238.29166666666666 A126.98685299756013 126.98685299756013 0.46838954931873333 0 0 58.3281985251829,224.61473595343767 L239.52741458305084,132.93852242019952 A131.73685299756013 131.73685299756013 0.46838954931873333 0 1 299,118.75 L299,123.5 A126.98685299756013 126.98685299756013 0.46838954931873333 0 0 241.6718014748171,137.17693071322898 L60.47258541694917,228.85314424646714 A131.73685299756013 131.73685299756013 0.46838954931873333 0 1 1,243.04166666666666 Z\" style=\"fill: rgb(251, 124, 92);\"/><title>Travelling → Trainee\nTrainee\n3.00</title></g><g class=\"link\" style=\"opacity: 0.8;\"><path d=\"M1,92.625 A180.63599071207432 180.63599071207432 0.3245292430331461 0 1 58.59806839165175,102.05402923537731 L243.67382789918577,164.31788907966737 A173.51099071207432 173.51099071207432 0.3245292430331461 0 0 299,173.375 L299,180.5 A180.63599071207432 180.63599071207432 0.3245292430331461 0 1 241.40193160834826,171.07097076462267 L56.32617210081425,108.80711092033262 A173.51099071207432 173.51099071207432 0.3245292430331461 0 0 1,99.75 Z\" style=\"fill: rgb(252, 196, 173);\"/><title>Swimming → Administrator\nAdministrator\n4.50</title></g><g class=\"link\" style=\"opacity: 0.8;\"><path d=\"M1,82.33333333333333 A332.41573142414865 332.41573142414865 0.16503007490878074 0 0 55.60992031166275,77.81693875176748 L243.21957045715973,46.571532332836306 A339.54073142414865 339.54073142414865 0.16503007490878074 0 1 299,41.958333333333336 L299,49.083333333333336 A332.41573142414865 332.41573142414865 0.16503007490878074 0 0 244.39007968833724,53.599727914899184 L56.78042954284028,84.84513433383037 A339.54073142414865 339.54073142414865 0.16503007490878074 0 1 1,89.45833333333333 Z\" style=\"fill: rgb(252, 196, 173);\"/><title>Swimming → Student\nStudent\n4.50</title></g><g class=\"link\" style=\"opacity: 0.8;\"><path d=\"M1,158.33333333333331 A273.9999363327675 273.9999363327675 0.20007514059571307 0 0 55.455561954238924,152.86748586566446 L242.65637980206503,114.9053568217141 A283.4999363327675 283.4999363327675 0.20007514059571307 0 1 299,109.25 L299,118.75 A273.9999363327675 273.9999363327675 0.20007514059571307 0 0 244.54443804576107,124.21584746766888 L57.34362019793496,162.17797651161922 A283.4999363327675 283.4999363327675 0.20007514059571307 0 1 1,167.83333333333331 Z\" style=\"fill: rgb(255, 236, 227);\"/><title>Sleeping → Trainee\nTrainee\n6.00</title></g><g class=\"link\" style=\"opacity: 0.8;\"><path d=\"M1,312.7083333333333 A126.64671953857246 126.64671953857246 0.45421899231175056 0 0 56.56759458870806,299.8668597261625 L238.22212291724017,211.17055137279115 A138.52171953857246 138.52171953857246 0.45421899231175056 0 1 299,197.125 L299,209 A126.64671953857246 126.64671953857246 0.45421899231175056 0 0 243.43240541129197,221.8414736071708 L61.77787708275983,310.53778196054213 A138.52171953857246 138.52171953857246 0.45421899231175056 0 1 1,324.5833333333333 Z\" style=\"fill: rgb(246, 85, 60);\"/><title>Working out → Administrator\nAdministrator\n7.50</title></g><g class=\"link\" style=\"opacity: 0.8;\"><path d=\"M1,182.08333333333331 A230.91821862348178 230.91821862348178 0.25047861700861906 0 1 58.23716054860874,189.2893905874007 L244.70626801916046,236.99784852869044 A219.04321862348178 219.04321862348178 0.25047861700861906 0 0 299,243.83333333333331 L299,255.70833333333331 A230.91821862348178 230.91821862348178 0.25047861700861906 0 1 241.76283945139124,248.50227607926593 L55.29373198083955,200.7938181379762 A219.04321862348178 219.04321862348178 0.25047861700861906 0 0 1,193.95833333333331 Z\" style=\"fill: rgb(254, 227, 214);\"/><title>Sleeping → Manager\nManager\n7.50</title></g><g class=\"link\" style=\"opacity: 0.8;\"><path d=\"M1,281.04166666666663 A87.50844776714516 87.50844776714516 0.7776470253815808 0 0 62.39633932687606,255.88879561784125 L228.71666764958778,92.12703039855549 A100.17511443381181 100.17511443381181 0.7776470253815808 0 1 299,63.333333333333336 L299,76 A87.50844776714516 87.50844776714516 0.7776470253815808 0 0 237.60366067312393,101.15287104882538 L71.28333235041221,264.9146362681111 A100.17511443381181 100.17511443381181 0.7776470253815808 0 1 1,293.70833333333326 Z\" style=\"fill: rgb(252, 160, 130);\"/><title>Working out → Student\nStudent\n8.00</title></g><g class=\"link\" style=\"opacity: 0.8;\"><path d=\"M1,145.66666666666666 A146.07237201610585 146.07237201610585 0.38454220615286583 0 0 55.79683222195954,134.99903993243797 L239.45146012405448,60.676003387540405 A158.73903868277253 158.73903868277253 0.38454220615286583 0 1 299,49.083333333333336 L299,61.75000000000001 A146.07237201610585 146.07237201610585 0.38454220615286583 0 0 244.20316777804047,72.41762673422868 L60.54853987594554,146.74066327912627 A158.73903868277253 158.73903868277253 0.38454220615286583 0 1 1,158.33333333333334 Z\" style=\"fill: rgb(255, 236, 227);\"/><title>Sleeping → Student\nStudent\n8.00</title></g><g class=\"link\" style=\"opacity: 0.8;\"><path d=\"M1,102.91666666666667 A102.71546558704452 102.71546558704452 0.749798360425687 0 1 70.99968679870085,130.4622531873783 L235.7118034238813,283.8454529333746 A92.86722376593657 92.86722376593657 0.749798360425687 0 0 299,308.75 L299,323 A107.11722376593657 107.11722376593657 0.749798360425687 0 1 226.0005536994065,294.273977699078 L61.288437074226046,140.89077795308165 A88.46546558704452 88.46546558704452 0.749798360425687 0 0 1,117.16666666666667 Z\" style=\"fill: rgb(253, 212, 194);\"/><title>Swimming → Pensioner\nPensioner\n9.00</title></g><g class=\"link\" style=\"opacity: 0.8;\"><path d=\"M1,167.83333333333331 A1007.125 1007.125 0.05130214743428074 0 1 52.64501410235097,169.15837402563477 L248.08572086198663,179.19370755629262 A992.875 992.875 0.05130214743428074 0 0 299,180.5 L299,194.75 A1007.125 1007.125 0.05130214743428074 0 1 247.35498589764902,193.42495930769854 L51.91427913801337,183.3896257770407 A992.875 992.875 0.05130214743428074 0 0 1,182.08333333333331 Z\" style=\"fill: rgb(254, 227, 214);\"/><title>Sleeping → Administrator\nAdministrator\n9.00</title></g><g class=\"link\" style=\"opacity: 0.8;\"><path d=\"M1,193.95833333333331 A129.7083730222796 129.7083730222796 0.5018898969664565 0 1 63.40052202094814,209.95462747390397 L243.4549138933222,308.7610881023165 A115.45837302227962 115.45837302227962 0.5018898969664565 0 0 299,323 L299,337.25 A129.7083730222796 129.7083730222796 0.5018898969664565 0 1 236.59947797905187,321.2537058594293 L56.54508610667779,222.44724523101686 A115.45837302227962 115.45837302227962 0.5018898969664565 0 0 1,208.20833333333331 Z\" style=\"fill: rgb(253, 212, 194);\"/><title>Sleeping → Pensioner\nPensioner\n9.00</title></g><g class=\"link\" style=\"opacity: 0.8;\"><path d=\"M1,324.5833333333333 A201.5764411027569 201.5764411027569 0.2691792787460652 0 0 54.607311251117835,317.32446165773604 L240.76089415101535,265.96938816415627 A218.99310776942357 218.99310776942357 0.2691792787460652 0 1 299,258.0833333333333 L299,275.49999999999994 A201.5764411027569 201.5764411027569 0.2691792787460652 0 0 245.39268874888216,282.7588716755972 L59.23910584898465,334.113945169177 A218.99310776942357 218.99310776942357 0.2691792787460652 0 1 1,341.99999999999994 Z\" style=\"fill: rgb(240, 64, 47);\"/><title>Working out → Manager\nManager\n11.0</title></g><g class=\"link\" style=\"opacity: 0.8;\"><path d=\"M1,293.7083333333333 A100.17511443381181 100.17511443381181 0.6437838207137793 0 0 61.12772281719544,273.6563148247652 L230.99929173870166,146.17758359645282 A113.29181303549572 113.29181303549572 0.6437838207137793 0 1 299,123.5 L299,142.5 A94.29181303549572 94.29181303549572 0.6437838207137793 0 0 242.40358850425756,161.3743600731643 L72.53201958275136,288.85309130147664 A119.17511443381181 119.17511443381181 0.6437838207137793 0 1 1,312.7083333333333 Z\" style=\"fill: rgb(251, 105, 74);\"/><title>Working out → Trainee\nTrainee\n12.0</title></g></g><g class=\"nodes\"><g class=\"node\" transform=\"translate(299,171)\"><title>Administrator</title><text dy=\".35em\" text-anchor=\"start\" transform=\"translate(4,19)\" style=\"display: inline;\">Administrator</text><line x1=\"0\" x2=\"0\" y1=\"0\" y2=\"38\" style=\"display: inline; stroke: rgb(0, 0, 0);\"/><rect x=\"-5\" y=\"-5\" width=\"10\" style=\"fill: none; visibility: hidden; pointer-events: all;\" height=\"43\"/></g><g class=\"node\" transform=\"translate(299,104.5)\"><title>Trainee</title><text dy=\".35em\" text-anchor=\"start\" transform=\"translate(4,19)\" style=\"display: inline;\">Trainee</text><line x1=\"0\" x2=\"0\" y1=\"0\" y2=\"38\" style=\"display: inline; stroke: rgb(0, 0, 0);\"/><rect x=\"-5\" y=\"-5\" width=\"10\" style=\"fill: none; visibility: hidden; pointer-events: all;\" height=\"43\"/></g><g class=\"node\" transform=\"translate(0,281.04166666666663)\"><title>Working out</title><text dy=\".35em\" text-anchor=\"end\" transform=\"translate(-4,30.479166666666657)\" style=\"display: inline;\">Working out</text><line x1=\"0\" x2=\"0\" y1=\"0\" y2=\"60.958333333333314\" style=\"display: inline; stroke: rgb(0, 0, 0);\"/><rect x=\"-5\" y=\"-5\" width=\"10\" style=\"fill: none; visibility: hidden; pointer-events: all;\" height=\"65.95833333333331\"/></g><g class=\"node\" transform=\"translate(299,237.5)\"><title>Manager</title><text dy=\".35em\" text-anchor=\"start\" transform=\"translate(4,19)\" style=\"display: inline;\">Manager</text><line x1=\"0\" x2=\"0\" y1=\"0\" y2=\"38\" style=\"display: inline; stroke: rgb(0, 0, 0);\"/><rect x=\"-5\" y=\"-5\" width=\"10\" style=\"fill: none; visibility: hidden; pointer-events: all;\" height=\"43\"/></g><g class=\"node\" transform=\"translate(0,38)\"><title>Reading</title><text dy=\".35em\" text-anchor=\"end\" transform=\"translate(-4,7.916666666666664)\" style=\"display: inline;\">Reading</text><line x1=\"0\" x2=\"0\" y1=\"0\" y2=\"15.833333333333329\" style=\"display: inline; stroke: rgb(0, 0, 0);\"/><rect x=\"-5\" y=\"-5\" width=\"10\" style=\"fill: none; visibility: hidden; pointer-events: all;\" height=\"20.83333333333333\"/></g><g class=\"node\" transform=\"translate(0,82.33333333333333)\"><title>Swimming</title><text dy=\".35em\" text-anchor=\"end\" transform=\"translate(-4,17.416666666666664)\" style=\"display: inline;\">Swimming</text><line x1=\"0\" x2=\"0\" y1=\"0\" y2=\"34.83333333333333\" style=\"display: inline; stroke: rgb(0, 0, 0);\"/><rect x=\"-5\" y=\"-5\" width=\"10\" style=\"fill: none; visibility: hidden; pointer-events: all;\" height=\"39.83333333333333\"/></g><g class=\"node\" transform=\"translate(0,236.70833333333331)\"><title>Travelling</title><text dy=\".35em\" text-anchor=\"end\" transform=\"translate(-4,7.916666666666671)\" style=\"display: inline;\">Travelling</text><line x1=\"0\" x2=\"0\" y1=\"0\" y2=\"15.833333333333343\" style=\"display: inline; stroke: rgb(0, 0, 0);\"/><rect x=\"-5\" y=\"-5\" width=\"10\" style=\"fill: none; visibility: hidden; pointer-events: all;\" height=\"20.833333333333343\"/></g><g class=\"node\" transform=\"translate(299,38)\"><title>Student</title><text dy=\".35em\" text-anchor=\"start\" transform=\"translate(4,19)\" style=\"display: inline;\">Student</text><line x1=\"0\" x2=\"0\" y1=\"0\" y2=\"38\" style=\"display: inline; stroke: rgb(0, 0, 0);\"/><rect x=\"-5\" y=\"-5\" width=\"10\" style=\"fill: none; visibility: hidden; pointer-events: all;\" height=\"43\"/></g><g class=\"node\" transform=\"translate(0,145.66666666666666)\"><title>Sleeping</title><text dy=\".35em\" text-anchor=\"end\" transform=\"translate(-4,31.27083333333333)\" style=\"display: inline;\">Sleeping</text><line x1=\"0\" x2=\"0\" y1=\"0\" y2=\"62.54166666666666\" style=\"display: inline; stroke: rgb(0, 0, 0);\"/><rect x=\"-5\" y=\"-5\" width=\"10\" style=\"fill: none; visibility: hidden; pointer-events: all;\" height=\"67.54166666666666\"/></g><g class=\"node\" transform=\"translate(299,304)\"><title>Pensioner</title><text dy=\".35em\" text-anchor=\"start\" transform=\"translate(4,19)\" style=\"display: inline;\">Pensioner</text><line x1=\"0\" x2=\"0\" y1=\"0\" y2=\"38\" style=\"display: inline; stroke: rgb(0, 0, 0);\"/><rect x=\"-5\" y=\"-5\" width=\"10\" style=\"fill: none; visibility: hidden; pointer-events: all;\" height=\"43\"/></g></g><g class=\"slice-titles\"/></g></svg>"
      }
     },
     "c816efa6acce4e50aad5b0cc841a1cbc": {
      "model_module": "@jupyter-widgets/base",
      "model_module_version": "1.0.0",
      "model_name": "LayoutModel",
      "state": {
       "height": "400",
       "width": "500"
      }
     },
     "d67925afd38c4f10ab34b61aa2babf3d": {
      "model_module": "jupyter-sankey-widget",
      "model_module_version": "^0.2.3",
      "model_name": "SankeyModel",
      "state": {
       "_model_module_version": "^0.2.3",
       "_view_module_version": "^0.2.3",
       "groups": [
        {
         "id": "Activity",
         "nodes": [
          "Activity^Reading",
          "Activity^Swimming",
          "Activity^Sleeping",
          "Activity^Travelling",
          "Activity^Working out"
         ],
         "rect": {
          "bottom": 341.99999999999994,
          "left": 0,
          "right": 1,
          "top": 38
         },
         "title": "",
         "type": "process"
        },
        {
         "id": "Job",
         "nodes": [
          "Job^Student",
          "Job^Trainee",
          "Job^Administrator",
          "Job^Manager",
          "Job^Pensioner"
         ],
         "rect": {
          "bottom": 342,
          "left": 299,
          "right": 300,
          "top": 38
         },
         "title": "",
         "type": "process"
        }
       ],
       "layout": "IPY_MODEL_5f7dd436011740f9a5ce83d72906a4f6",
       "links": [
        {
         "color": "#fee9df",
         "opacity": 1,
         "source": "Activity^Working out",
         "target": "Job^Administrator",
         "time": "*",
         "title": "Administrator",
         "type": "Administrator",
         "value": 7.5
        },
        {
         "color": "#ffece3",
         "opacity": 1,
         "source": "Activity^Working out",
         "target": "Job^Manager",
         "time": "*",
         "title": "Manager",
         "type": "Manager",
         "value": 11
        },
        {
         "color": "#ffeee7",
         "opacity": 1,
         "source": "Activity^Working out",
         "target": "Job^Student",
         "time": "*",
         "title": "Student",
         "type": "Student",
         "value": 8
        },
        {
         "color": "#fff5f0",
         "opacity": 1,
         "source": "Activity^Working out",
         "target": "Job^Pensioner",
         "time": "*",
         "title": "Pensioner",
         "type": "Pensioner",
         "value": 0
        },
        {
         "color": "#ffeee7",
         "opacity": 1,
         "source": "Activity^Working out",
         "target": "Job^Trainee",
         "time": "*",
         "title": "Trainee",
         "type": "Trainee",
         "value": 12
        },
        {
         "color": "#fcb89e",
         "opacity": 1,
         "source": "Activity^Reading",
         "target": "Job^Administrator",
         "time": "*",
         "title": "Administrator",
         "type": "Administrator",
         "value": 1.5
        },
        {
         "color": "#fcbba1",
         "opacity": 1,
         "source": "Activity^Reading",
         "target": "Job^Manager",
         "time": "*",
         "title": "Manager",
         "type": "Manager",
         "value": 2
        },
        {
         "color": "#fed8c7",
         "opacity": 1,
         "source": "Activity^Reading",
         "target": "Job^Student",
         "time": "*",
         "title": "Student",
         "type": "Student",
         "value": 2.5
        },
        {
         "color": "#fedfd0",
         "opacity": 1,
         "source": "Activity^Reading",
         "target": "Job^Pensioner",
         "time": "*",
         "title": "Pensioner",
         "type": "Pensioner",
         "value": 3
        },
        {
         "color": "#fc8e6e",
         "opacity": 1,
         "source": "Activity^Reading",
         "target": "Job^Trainee",
         "time": "*",
         "title": "Trainee",
         "type": "Trainee",
         "value": 1
        },
        {
         "color": "#ffede5",
         "opacity": 1,
         "source": "Activity^Swimming",
         "target": "Job^Administrator",
         "time": "*",
         "title": "Administrator",
         "type": "Administrator",
         "value": 4.5
        },
        {
         "color": "#fcc4ad",
         "opacity": 1,
         "source": "Activity^Swimming",
         "target": "Job^Manager",
         "time": "*",
         "title": "Manager",
         "type": "Manager",
         "value": 2
        },
        {
         "color": "#ffede5",
         "opacity": 1,
         "source": "Activity^Swimming",
         "target": "Job^Student",
         "time": "*",
         "title": "Student",
         "type": "Student",
         "value": 4.5
        },
        {
         "color": "#fff2ec",
         "opacity": 1,
         "source": "Activity^Swimming",
         "target": "Job^Pensioner",
         "time": "*",
         "title": "Pensioner",
         "type": "Pensioner",
         "value": 9
        },
        {
         "color": "#fcc4ad",
         "opacity": 1,
         "source": "Activity^Swimming",
         "target": "Job^Trainee",
         "time": "*",
         "title": "Trainee",
         "type": "Trainee",
         "value": 2
        },
        {
         "color": "#fc9474",
         "opacity": 1,
         "source": "Activity^Travelling",
         "target": "Job^Administrator",
         "time": "*",
         "title": "Administrator",
         "type": "Administrator",
         "value": 1.5
        },
        {
         "color": "#e32f27",
         "opacity": 1,
         "source": "Activity^Travelling",
         "target": "Job^Manager",
         "time": "*",
         "title": "Manager",
         "type": "Manager",
         "value": 1.5
        },
        {
         "color": "#ffece3",
         "opacity": 1,
         "source": "Activity^Travelling",
         "target": "Job^Student",
         "time": "*",
         "title": "Student",
         "type": "Student",
         "value": 1
        },
        {
         "color": "#fcc4ad",
         "opacity": 1,
         "source": "Activity^Travelling",
         "target": "Job^Pensioner",
         "time": "*",
         "title": "Pensioner",
         "type": "Pensioner",
         "value": 3
        },
        {
         "color": "#fedaca",
         "opacity": 1,
         "source": "Activity^Travelling",
         "target": "Job^Trainee",
         "time": "*",
         "title": "Trainee",
         "type": "Trainee",
         "value": 3
        },
        {
         "color": "#fff3ed",
         "opacity": 1,
         "source": "Activity^Sleeping",
         "target": "Job^Administrator",
         "time": "*",
         "title": "Administrator",
         "type": "Administrator",
         "value": 9
        },
        {
         "color": "#fff3ed",
         "opacity": 1,
         "source": "Activity^Sleeping",
         "target": "Job^Manager",
         "time": "*",
         "title": "Manager",
         "type": "Manager",
         "value": 7.5
        },
        {
         "color": "#fff4ef",
         "opacity": 1,
         "source": "Activity^Sleeping",
         "target": "Job^Student",
         "time": "*",
         "title": "Student",
         "type": "Student",
         "value": 8
        },
        {
         "color": "#fff2ec",
         "opacity": 1,
         "source": "Activity^Sleeping",
         "target": "Job^Pensioner",
         "time": "*",
         "title": "Pensioner",
         "type": "Pensioner",
         "value": 9
        },
        {
         "color": "#fff4ee",
         "opacity": 1,
         "source": "Activity^Sleeping",
         "target": "Job^Trainee",
         "time": "*",
         "title": "Trainee",
         "type": "Trainee",
         "value": 6
        }
       ],
       "margins": {
        "left": 100,
        "right": 100
       },
       "nodes": [
        {
         "id": "Job^Administrator",
         "style": {
          "direction": "r",
          "hidden": false,
          "type": "process"
         },
         "title": "Administrator"
        },
        {
         "id": "Job^Trainee",
         "style": {
          "direction": "r",
          "hidden": false,
          "type": "process"
         },
         "title": "Trainee"
        },
        {
         "id": "Activity^Working out",
         "style": {
          "direction": "r",
          "hidden": false,
          "type": "process"
         },
         "title": "Working out"
        },
        {
         "id": "Job^Manager",
         "style": {
          "direction": "r",
          "hidden": false,
          "type": "process"
         },
         "title": "Manager"
        },
        {
         "id": "Activity^Reading",
         "style": {
          "direction": "r",
          "hidden": false,
          "type": "process"
         },
         "title": "Reading"
        },
        {
         "id": "Activity^Swimming",
         "style": {
          "direction": "r",
          "hidden": false,
          "type": "process"
         },
         "title": "Swimming"
        },
        {
         "id": "Activity^Travelling",
         "style": {
          "direction": "r",
          "hidden": false,
          "type": "process"
         },
         "title": "Travelling"
        },
        {
         "id": "Job^Student",
         "style": {
          "direction": "r",
          "hidden": false,
          "type": "process"
         },
         "title": "Student"
        },
        {
         "id": "Activity^Sleeping",
         "style": {
          "direction": "r",
          "hidden": false,
          "type": "process"
         },
         "title": "Sleeping"
        },
        {
         "id": "Job^Pensioner",
         "style": {
          "direction": "r",
          "hidden": false,
          "type": "process"
         },
         "title": "Pensioner"
        }
       ],
       "order": [
        [
         [
          "Activity^Reading",
          "Activity^Swimming",
          "Activity^Sleeping",
          "Activity^Travelling",
          "Activity^Working out"
         ]
        ],
        [
         [
          "Job^Student",
          "Job^Trainee",
          "Job^Administrator",
          "Job^Manager",
          "Job^Pensioner"
         ]
        ]
       ],
       "scale": 1.5833333333333333,
       "svg": "<?xml version=\"1.0\" standalone=\"no\"?><!DOCTYPE svg PUBLIC \"-//W3C//DTD SVG 1.1//EN\" \"http://www.w3.org/Graphics/SVG/1.1/DTD/svg11.dtd\"><svg xmlns=\"http://www.w3.org/2000/svg\" width=\"500\" height=\"400\" viewBox=\"0 0 500 400\"><g class=\"sankey\" transform=\"translate(100,10)\"><g class=\"groups\"><g class=\"group\" style=\"display: none;\" transform=\"translate(0,38)\"><rect x=\"-10\" y=\"-20\" width=\"21\" height=\"333.99999999999994\" style=\"fill: rgb(238, 238, 238); stroke: rgb(187, 187, 187); stroke-width: 0.5;\"/><text x=\"-10\" y=\"-25\" style=\"fill: rgb(153, 153, 153);\"/></g><g class=\"group\" style=\"display: none;\" transform=\"translate(299,38)\"><rect x=\"-10\" y=\"-20\" width=\"21\" height=\"334\" style=\"fill: rgb(238, 238, 238); stroke: rgb(187, 187, 187); stroke-width: 0.5;\"/><text x=\"-10\" y=\"-25\" style=\"fill: rgb(153, 153, 153);\"/></g></g><g class=\"links\"><g class=\"link\" style=\"opacity: 0.8;\"><path d=\"M1,342 A0 0 0 0 0 1,342 L299,342 A0 0 0 0 0 299,342 L299,342 A0 0 0 0 0 299,342 L1,342 A0 0 0 0 0 1,342 Z\" style=\"fill: rgb(255, 245, 240);\"/><title>Working out → Pensioner\nPensioner\n0.00</title></g><g class=\"link\" style=\"opacity: 0.8;\"><path d=\"M1,41.75 A223.3688582611592 223.3688582611592 0.2536034822873814 0 1 57.041862582052104,48.8945384466938 L243.4599250262861,97.21109898565894 A221.3688582611592 221.3688582611592 0.2536034822873814 0 0 299,104.29166666666667 L299,106.29166666666667 A223.3688582611592 223.3688582611592 0.2536034822873814 0 1 242.9581374179479,99.14712821997287 L56.540074973713885,50.830567681007736 A221.3688582611592 221.3688582611592 0.2536034822873814 0 0 1,43.75 Z\" style=\"fill: rgb(252, 142, 110);\"/><title>Reading → Trainee\nTrainee\n1.00</title></g><g class=\"link\" style=\"opacity: 0.8;\"><path d=\"M1,236.49999999999997 A101.37959186711122 101.37959186711122 0.6531509188857365 0 0 62.6075459381297,215.6333383405472 L236.17707047620968,82.81998241300518 A103.37959186711122 103.37959186711122 0.6531509188857365 0 1 299,61.541666666666664 L299,63.541666666666664 A101.37959186711122 101.37959186711122 0.6531509188857365 0 0 237.3924540618703,84.40832832611942 L63.822929523790314,217.22168425366146 A103.37959186711122 103.37959186711122 0.6531509188857365 0 1 1,238.49999999999997 Z\" style=\"fill: rgb(255, 236, 227);\"/><title>Travelling → Student\nStudent\n1.00</title></g><g class=\"link\" style=\"opacity: 0.8;\"><path d=\"M1,43.54166666666667 A124.81569753187316 124.81569753187316 0.4963571053807381 0 1 60.44040844580046,58.60402167921398 L240.69062693556836,156.22425231218975 A122.44069753187316 122.44069753187316 0.4963571053807381 0 0 299,171 L299,173.375 A124.81569753187316 124.81569753187316 0.4963571053807381 0 1 239.55959155419956,158.31264498745267 L59.309373064431654,60.69241435447692 A122.44069753187316 122.44069753187316 0.4963571053807381 0 0 1,45.91666666666667 Z\" style=\"fill: rgb(252, 184, 158);\"/><title>Reading → Administrator\nAdministrator\n1.50</title></g><g class=\"link\" style=\"opacity: 0.8;\"><path d=\"M1,243.04166666666666 A281.89266069887833 281.89266069887833 0.19690139360043046 0 0 56.14709570419668,237.59478725461702 L243.38827938512722,200.24277042095903 A284.26766069887833 284.26766069887833 0.19690139360043046 0 1 299,194.75 L299,197.125 A281.89266069887833 281.89266069887833 0.19690139360043046 0 0 243.8529042958033,202.57187941204964 L56.61172061487279,239.92389624570762 A284.26766069887833 284.26766069887833 0.19690139360043046 0 1 1,245.41666666666666 Z\" style=\"fill: rgb(252, 148, 116);\"/><title>Travelling → Administrator\nAdministrator\n1.50</title></g><g class=\"link\" style=\"opacity: 0.8;\"><path d=\"M1,245.41666666666666 A1001.1875 1001.1875 0.03984611530249538 0 1 40.88287684947496,246.2113606697124 L259.2117326342806,254.91552448991771 A998.8125 998.8125 0.03984611530249538 0 0 299,255.70833333333331 L299,258.0833333333333 A1001.1875 1001.1875 0.03984611530249538 0 1 259.11712315052506,257.28863933028754 L40.78826736571941,248.58447551008226 A998.8125 998.8125 0.03984611530249538 0 0 1,247.79166666666666 Z\" style=\"fill: rgb(227, 47, 39);\"/><title>Travelling → Manager\nManager\n1.50</title></g><g class=\"link\" style=\"opacity: 0.8;\"><path d=\"M1,45.91666666666667 A99.84984594751342 99.84984594751342 0.7034332835054028 0 1 65.58685491304226,69.61843379282182 L236.46147113710987,214.54991751779457 A96.68317928084676 96.68317928084676 0.7034332835054028 0 0 299,237.5 L299,240.66666666666669 A99.84984594751342 99.84984594751342 0.7034332835054028 0 1 234.41314508695774,216.96489954051154 L63.53852886289014,72.03341581553876 A96.68317928084676 96.68317928084676 0.7034332835054028 0 0 1,49.08333333333334 Z\" style=\"fill: rgb(252, 187, 161);\"/><title>Reading → Manager\nManager\n2.00</title></g><g class=\"link\" style=\"opacity: 0.8;\"><path d=\"M1,99.75 A117.24904149418488 117.24904149418488 0.5427269338733045 0 1 61.55596327095664,116.59827932759751 L240.07953453707907,224.27342632154168 A114.08237482751822 114.08237482751822 0.5427269338733045 0 0 299,240.66666666666666 L299,243.83333333333334 A117.24904149418488 117.24904149418488 0.5427269338733045 0 1 238.44403672904335,226.9850540057358 L59.920465462920916,119.30990701179167 A114.08237482751822 114.08237482751822 0.5427269338733045 0 0 1,102.91666666666666 Z\" style=\"fill: rgb(252, 196, 173);\"/><title>Swimming → Manager\nManager\n2.00</title></g><g class=\"link\" style=\"opacity: 0.8;\"><path d=\"M1,89.45833333333333 A805.3161810776943 805.3161810776943 0.06828159954388568 0 1 55.945557597656475,91.33494779394576 L244.2704994862743,104.21409810164766 A802.1495144110276 802.1495144110276 0.06828159954388568 0 0 299,106.08333333333333 L299,109.24999999999999 A805.3161810776943 805.3161810776943 0.06828159954388568 0 1 244.05444240234354,107.37338553938756 L55.7295005137257,94.49423523168565 A802.1495144110276 802.1495144110276 0.06828159954388568 0 0 1,92.62499999999999 Z\" style=\"fill: rgb(252, 196, 173);\"/><title>Swimming → Trainee\nTrainee\n2.00</title></g><g class=\"link\" style=\"opacity: 0.8;\"><path d=\"M1,38 A0 0 0 0 0 1,38 L299,38 A0 0 0 0 0 299,38 L299,41.95833333333333 A0 0 0 0 0 299,41.95833333333333 L1,41.95833333333333 A0 0 0 0 0 1,41.95833333333333 Z\" style=\"fill: rgb(254, 216, 199);\"/><title>Reading → Student\nStudent\n2.50</title></g><g class=\"link\" style=\"opacity: 0.8;\"><path d=\"M1,49.083333333333336 A92.86722376593657 92.86722376593657 0.8735752043601149 0 1 72.19474718758069,82.32145998310517 L231.44674262365075,272.4619468011622 A88.11722376593657 88.11722376593657 0.8735752043601149 0 0 299,304 L299,308.75 A92.86722376593657 92.86722376593657 0.8735752043601149 0 1 227.8052528124193,275.51187335022814 L68.55325737634924,85.37138653217116 A88.11722376593657 88.11722376593657 0.8735752043601149 0 0 1,53.833333333333336 Z\" style=\"fill: rgb(254, 223, 208);\"/><title>Reading → Pensioner\nPensioner\n3.00</title></g><g class=\"link\" style=\"opacity: 0.8;\"><path d=\"M1,247.79166666666666 A164.69659117373078 164.69659117373078 0.3577430758609035 0 1 58.67033784264986,258.2186909214434 L242.99292733363802,327.12370064096774 A159.94659117373078 159.94659117373078 0.3577430758609035 0 0 299,337.25 L299,342 A164.69659117373078 164.69659117373078 0.3577430758609035 0 1 241.32966215735013,331.5729757452233 L57.00707266636199,262.66796602569895 A159.94659117373078 159.94659117373078 0.3577430758609035 0 0 1,252.54166666666666 Z\" style=\"fill: rgb(252, 196, 173);\"/><title>Travelling → Pensioner\nPensioner\n3.00</title></g><g class=\"link\" style=\"opacity: 0.8;\"><path d=\"M1,238.29166666666666 A126.98685299756013 126.98685299756013 0.46838954931873333 0 0 58.3281985251829,224.61473595343767 L239.52741458305084,132.93852242019952 A131.73685299756013 131.73685299756013 0.46838954931873333 0 1 299,118.75 L299,123.5 A126.98685299756013 126.98685299756013 0.46838954931873333 0 0 241.6718014748171,137.17693071322898 L60.47258541694917,228.85314424646714 A131.73685299756013 131.73685299756013 0.46838954931873333 0 1 1,243.04166666666666 Z\" style=\"fill: rgb(254, 218, 202);\"/><title>Travelling → Trainee\nTrainee\n3.00</title></g><g class=\"link\" style=\"opacity: 0.8;\"><path d=\"M1,92.625 A180.63599071207432 180.63599071207432 0.3245292430331461 0 1 58.59806839165175,102.05402923537731 L243.67382789918577,164.31788907966737 A173.51099071207432 173.51099071207432 0.3245292430331461 0 0 299,173.375 L299,180.5 A180.63599071207432 180.63599071207432 0.3245292430331461 0 1 241.40193160834826,171.07097076462267 L56.32617210081425,108.80711092033262 A173.51099071207432 173.51099071207432 0.3245292430331461 0 0 1,99.75 Z\" style=\"fill: rgb(255, 237, 229);\"/><title>Swimming → Administrator\nAdministrator\n4.50</title></g><g class=\"link\" style=\"opacity: 0.8;\"><path d=\"M1,82.33333333333333 A332.41573142414865 332.41573142414865 0.16503007490878074 0 0 55.60992031166275,77.81693875176748 L243.21957045715973,46.571532332836306 A339.54073142414865 339.54073142414865 0.16503007490878074 0 1 299,41.958333333333336 L299,49.083333333333336 A332.41573142414865 332.41573142414865 0.16503007490878074 0 0 244.39007968833724,53.599727914899184 L56.78042954284028,84.84513433383037 A339.54073142414865 339.54073142414865 0.16503007490878074 0 1 1,89.45833333333333 Z\" style=\"fill: rgb(255, 237, 229);\"/><title>Swimming → Student\nStudent\n4.50</title></g><g class=\"link\" style=\"opacity: 0.8;\"><path d=\"M1,158.33333333333331 A273.9999363327675 273.9999363327675 0.20007514059571307 0 0 55.455561954238924,152.86748586566446 L242.65637980206503,114.9053568217141 A283.4999363327675 283.4999363327675 0.20007514059571307 0 1 299,109.25 L299,118.75 A273.9999363327675 273.9999363327675 0.20007514059571307 0 0 244.54443804576107,124.21584746766888 L57.34362019793496,162.17797651161922 A283.4999363327675 283.4999363327675 0.20007514059571307 0 1 1,167.83333333333331 Z\" style=\"fill: rgb(255, 244, 238);\"/><title>Sleeping → Trainee\nTrainee\n6.00</title></g><g class=\"link\" style=\"opacity: 0.8;\"><path d=\"M1,312.7083333333333 A126.64671953857246 126.64671953857246 0.45421899231175056 0 0 56.56759458870806,299.8668597261625 L238.22212291724017,211.17055137279115 A138.52171953857246 138.52171953857246 0.45421899231175056 0 1 299,197.125 L299,209 A126.64671953857246 126.64671953857246 0.45421899231175056 0 0 243.43240541129197,221.8414736071708 L61.77787708275983,310.53778196054213 A138.52171953857246 138.52171953857246 0.45421899231175056 0 1 1,324.5833333333333 Z\" style=\"fill: rgb(254, 233, 223);\"/><title>Working out → Administrator\nAdministrator\n7.50</title></g><g class=\"link\" style=\"opacity: 0.8;\"><path d=\"M1,182.08333333333331 A230.91821862348178 230.91821862348178 0.25047861700861906 0 1 58.23716054860874,189.2893905874007 L244.70626801916046,236.99784852869044 A219.04321862348178 219.04321862348178 0.25047861700861906 0 0 299,243.83333333333331 L299,255.70833333333331 A230.91821862348178 230.91821862348178 0.25047861700861906 0 1 241.76283945139124,248.50227607926593 L55.29373198083955,200.7938181379762 A219.04321862348178 219.04321862348178 0.25047861700861906 0 0 1,193.95833333333331 Z\" style=\"fill: rgb(255, 243, 237);\"/><title>Sleeping → Manager\nManager\n7.50</title></g><g class=\"link\" style=\"opacity: 0.8;\"><path d=\"M1,281.04166666666663 A87.50844776714516 87.50844776714516 0.7776470253815808 0 0 62.39633932687606,255.88879561784125 L228.71666764958778,92.12703039855549 A100.17511443381181 100.17511443381181 0.7776470253815808 0 1 299,63.333333333333336 L299,76 A87.50844776714516 87.50844776714516 0.7776470253815808 0 0 237.60366067312393,101.15287104882538 L71.28333235041221,264.9146362681111 A100.17511443381181 100.17511443381181 0.7776470253815808 0 1 1,293.70833333333326 Z\" style=\"fill: rgb(255, 238, 231);\"/><title>Working out → Student\nStudent\n8.00</title></g><g class=\"link\" style=\"opacity: 0.8;\"><path d=\"M1,145.66666666666666 A146.07237201610585 146.07237201610585 0.38454220615286583 0 0 55.79683222195954,134.99903993243797 L239.45146012405448,60.676003387540405 A158.73903868277253 158.73903868277253 0.38454220615286583 0 1 299,49.083333333333336 L299,61.75000000000001 A146.07237201610585 146.07237201610585 0.38454220615286583 0 0 244.20316777804047,72.41762673422868 L60.54853987594554,146.74066327912627 A158.73903868277253 158.73903868277253 0.38454220615286583 0 1 1,158.33333333333334 Z\" style=\"fill: rgb(255, 244, 239);\"/><title>Sleeping → Student\nStudent\n8.00</title></g><g class=\"link\" style=\"opacity: 0.8;\"><path d=\"M1,102.91666666666667 A102.71546558704452 102.71546558704452 0.749798360425687 0 1 70.99968679870085,130.4622531873783 L235.7118034238813,283.8454529333746 A92.86722376593657 92.86722376593657 0.749798360425687 0 0 299,308.75 L299,323 A107.11722376593657 107.11722376593657 0.749798360425687 0 1 226.0005536994065,294.273977699078 L61.288437074226046,140.89077795308165 A88.46546558704452 88.46546558704452 0.749798360425687 0 0 1,117.16666666666667 Z\" style=\"fill: rgb(255, 242, 236);\"/><title>Swimming → Pensioner\nPensioner\n9.00</title></g><g class=\"link\" style=\"opacity: 0.8;\"><path d=\"M1,167.83333333333331 A1007.125 1007.125 0.05130214743428074 0 1 52.64501410235097,169.15837402563477 L248.08572086198663,179.19370755629262 A992.875 992.875 0.05130214743428074 0 0 299,180.5 L299,194.75 A1007.125 1007.125 0.05130214743428074 0 1 247.35498589764902,193.42495930769854 L51.91427913801337,183.3896257770407 A992.875 992.875 0.05130214743428074 0 0 1,182.08333333333331 Z\" style=\"fill: rgb(255, 243, 237);\"/><title>Sleeping → Administrator\nAdministrator\n9.00</title></g><g class=\"link\" style=\"opacity: 0.8;\"><path d=\"M1,193.95833333333331 A129.7083730222796 129.7083730222796 0.5018898969664565 0 1 63.40052202094814,209.95462747390397 L243.4549138933222,308.7610881023165 A115.45837302227962 115.45837302227962 0.5018898969664565 0 0 299,323 L299,337.25 A129.7083730222796 129.7083730222796 0.5018898969664565 0 1 236.59947797905187,321.2537058594293 L56.54508610667779,222.44724523101686 A115.45837302227962 115.45837302227962 0.5018898969664565 0 0 1,208.20833333333331 Z\" style=\"fill: rgb(255, 242, 236);\"/><title>Sleeping → Pensioner\nPensioner\n9.00</title></g><g class=\"link\" style=\"opacity: 0.8;\"><path d=\"M1,324.5833333333333 A201.5764411027569 201.5764411027569 0.2691792787460652 0 0 54.607311251117835,317.32446165773604 L240.76089415101535,265.96938816415627 A218.99310776942357 218.99310776942357 0.2691792787460652 0 1 299,258.0833333333333 L299,275.49999999999994 A201.5764411027569 201.5764411027569 0.2691792787460652 0 0 245.39268874888216,282.7588716755972 L59.23910584898465,334.113945169177 A218.99310776942357 218.99310776942357 0.2691792787460652 0 1 1,341.99999999999994 Z\" style=\"fill: rgb(255, 236, 227);\"/><title>Working out → Manager\nManager\n11.0</title></g><g class=\"link\" style=\"opacity: 0.8;\"><path d=\"M1,293.7083333333333 A100.17511443381181 100.17511443381181 0.6437838207137793 0 0 61.12772281719544,273.6563148247652 L230.99929173870166,146.17758359645282 A113.29181303549572 113.29181303549572 0.6437838207137793 0 1 299,123.5 L299,142.5 A94.29181303549572 94.29181303549572 0.6437838207137793 0 0 242.40358850425756,161.3743600731643 L72.53201958275136,288.85309130147664 A119.17511443381181 119.17511443381181 0.6437838207137793 0 1 1,312.7083333333333 Z\" style=\"fill: rgb(255, 238, 231);\"/><title>Working out → Trainee\nTrainee\n12.0</title></g></g><g class=\"nodes\"><g class=\"node\" transform=\"translate(299,171)\"><title>Administrator</title><text dy=\".35em\" text-anchor=\"start\" transform=\"translate(4,19)\" style=\"display: inline;\">Administrator</text><line x1=\"0\" x2=\"0\" y1=\"0\" y2=\"38\" style=\"display: inline; stroke: rgb(0, 0, 0);\"/><rect x=\"-5\" y=\"-5\" width=\"10\" style=\"fill: none; visibility: hidden; pointer-events: all;\" height=\"43\"/></g><g class=\"node\" transform=\"translate(299,104.5)\"><title>Trainee</title><text dy=\".35em\" text-anchor=\"start\" transform=\"translate(4,19)\" style=\"display: inline;\">Trainee</text><line x1=\"0\" x2=\"0\" y1=\"0\" y2=\"38\" style=\"display: inline; stroke: rgb(0, 0, 0);\"/><rect x=\"-5\" y=\"-5\" width=\"10\" style=\"fill: none; visibility: hidden; pointer-events: all;\" height=\"43\"/></g><g class=\"node\" transform=\"translate(0,281.04166666666663)\"><title>Working out</title><text dy=\".35em\" text-anchor=\"end\" transform=\"translate(-4,30.479166666666657)\" style=\"display: inline;\">Working out</text><line x1=\"0\" x2=\"0\" y1=\"0\" y2=\"60.958333333333314\" style=\"display: inline; stroke: rgb(0, 0, 0);\"/><rect x=\"-5\" y=\"-5\" width=\"10\" style=\"fill: none; visibility: hidden; pointer-events: all;\" height=\"65.95833333333331\"/></g><g class=\"node\" transform=\"translate(299,237.5)\"><title>Manager</title><text dy=\".35em\" text-anchor=\"start\" transform=\"translate(4,19)\" style=\"display: inline;\">Manager</text><line x1=\"0\" x2=\"0\" y1=\"0\" y2=\"38\" style=\"display: inline; stroke: rgb(0, 0, 0);\"/><rect x=\"-5\" y=\"-5\" width=\"10\" style=\"fill: none; visibility: hidden; pointer-events: all;\" height=\"43\"/></g><g class=\"node\" transform=\"translate(0,38)\"><title>Reading</title><text dy=\".35em\" text-anchor=\"end\" transform=\"translate(-4,7.916666666666664)\" style=\"display: inline;\">Reading</text><line x1=\"0\" x2=\"0\" y1=\"0\" y2=\"15.833333333333329\" style=\"display: inline; stroke: rgb(0, 0, 0);\"/><rect x=\"-5\" y=\"-5\" width=\"10\" style=\"fill: none; visibility: hidden; pointer-events: all;\" height=\"20.83333333333333\"/></g><g class=\"node\" transform=\"translate(0,82.33333333333333)\"><title>Swimming</title><text dy=\".35em\" text-anchor=\"end\" transform=\"translate(-4,17.416666666666664)\" style=\"display: inline;\">Swimming</text><line x1=\"0\" x2=\"0\" y1=\"0\" y2=\"34.83333333333333\" style=\"display: inline; stroke: rgb(0, 0, 0);\"/><rect x=\"-5\" y=\"-5\" width=\"10\" style=\"fill: none; visibility: hidden; pointer-events: all;\" height=\"39.83333333333333\"/></g><g class=\"node\" transform=\"translate(0,236.70833333333331)\"><title>Travelling</title><text dy=\".35em\" text-anchor=\"end\" transform=\"translate(-4,7.916666666666671)\" style=\"display: inline;\">Travelling</text><line x1=\"0\" x2=\"0\" y1=\"0\" y2=\"15.833333333333343\" style=\"display: inline; stroke: rgb(0, 0, 0);\"/><rect x=\"-5\" y=\"-5\" width=\"10\" style=\"fill: none; visibility: hidden; pointer-events: all;\" height=\"20.833333333333343\"/></g><g class=\"node\" transform=\"translate(299,38)\"><title>Student</title><text dy=\".35em\" text-anchor=\"start\" transform=\"translate(4,19)\" style=\"display: inline;\">Student</text><line x1=\"0\" x2=\"0\" y1=\"0\" y2=\"38\" style=\"display: inline; stroke: rgb(0, 0, 0);\"/><rect x=\"-5\" y=\"-5\" width=\"10\" style=\"fill: none; visibility: hidden; pointer-events: all;\" height=\"43\"/></g><g class=\"node\" transform=\"translate(0,145.66666666666666)\"><title>Sleeping</title><text dy=\".35em\" text-anchor=\"end\" transform=\"translate(-4,31.27083333333333)\" style=\"display: inline;\">Sleeping</text><line x1=\"0\" x2=\"0\" y1=\"0\" y2=\"62.54166666666666\" style=\"display: inline; stroke: rgb(0, 0, 0);\"/><rect x=\"-5\" y=\"-5\" width=\"10\" style=\"fill: none; visibility: hidden; pointer-events: all;\" height=\"67.54166666666666\"/></g><g class=\"node\" transform=\"translate(299,304)\"><title>Pensioner</title><text dy=\".35em\" text-anchor=\"start\" transform=\"translate(4,19)\" style=\"display: inline;\">Pensioner</text><line x1=\"0\" x2=\"0\" y1=\"0\" y2=\"38\" style=\"display: inline; stroke: rgb(0, 0, 0);\"/><rect x=\"-5\" y=\"-5\" width=\"10\" style=\"fill: none; visibility: hidden; pointer-events: all;\" height=\"43\"/></g></g><g class=\"slice-titles\"/></g></svg>"
      }
     }
    },
    "version_major": 2,
    "version_minor": 0
   }
  }
 },
 "nbformat": 4,
 "nbformat_minor": 2
}
