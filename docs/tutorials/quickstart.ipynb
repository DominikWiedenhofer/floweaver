{
 "cells": [
  {
   "cell_type": "markdown",
   "metadata": {},
   "source": [
    "# Quickstart tutorial\n",
    "\n",
    "This tutorial will go through the basic ways to use `floweaver` to process and transform data into many different Sankey diagrams.\n",
    "\n",
    ">  If you are reading the static documentation, you can also try an interactive version of this tutorial online [using MyBinder](https://mybinder.org/v2/gh/ricklupton/floweaver/master?filepath=docs%2Ftutorials%2Fquickstart.ipynb)\n",
    "\n",
    "Let's start by making a really simple dataset. Imagine we have some farms, which grow apples and bananas to sell to a few different customers. We can describe the *flow* of fruit from the farms (the *source* of the flow) to the customers (the *target* of the flow):"
   ]
  },
  {
   "cell_type": "code",
   "execution_count": 1,
   "metadata": {},
   "outputs": [
    {
     "data": {
      "text/html": [
       "<div>\n",
       "<table border=\"1\" class=\"dataframe\">\n",
       "  <thead>\n",
       "    <tr style=\"text-align: right;\">\n",
       "      <th></th>\n",
       "      <th>source</th>\n",
       "      <th>target</th>\n",
       "      <th>type</th>\n",
       "      <th>value</th>\n",
       "    </tr>\n",
       "  </thead>\n",
       "  <tbody>\n",
       "    <tr>\n",
       "      <th>0</th>\n",
       "      <td>farm1</td>\n",
       "      <td>Mary</td>\n",
       "      <td>apples</td>\n",
       "      <td>5</td>\n",
       "    </tr>\n",
       "    <tr>\n",
       "      <th>1</th>\n",
       "      <td>farm1</td>\n",
       "      <td>James</td>\n",
       "      <td>apples</td>\n",
       "      <td>3</td>\n",
       "    </tr>\n",
       "    <tr>\n",
       "      <th>2</th>\n",
       "      <td>farm2</td>\n",
       "      <td>Fred</td>\n",
       "      <td>apples</td>\n",
       "      <td>10</td>\n",
       "    </tr>\n",
       "    <tr>\n",
       "      <th>3</th>\n",
       "      <td>farm2</td>\n",
       "      <td>Fred</td>\n",
       "      <td>bananas</td>\n",
       "      <td>10</td>\n",
       "    </tr>\n",
       "    <tr>\n",
       "      <th>4</th>\n",
       "      <td>farm2</td>\n",
       "      <td>Susan</td>\n",
       "      <td>bananas</td>\n",
       "      <td>5</td>\n",
       "    </tr>\n",
       "    <tr>\n",
       "      <th>5</th>\n",
       "      <td>farm3</td>\n",
       "      <td>Susan</td>\n",
       "      <td>apples</td>\n",
       "      <td>10</td>\n",
       "    </tr>\n",
       "    <tr>\n",
       "      <th>6</th>\n",
       "      <td>farm4</td>\n",
       "      <td>Susan</td>\n",
       "      <td>bananas</td>\n",
       "      <td>1</td>\n",
       "    </tr>\n",
       "    <tr>\n",
       "      <th>7</th>\n",
       "      <td>farm5</td>\n",
       "      <td>Susan</td>\n",
       "      <td>bananas</td>\n",
       "      <td>1</td>\n",
       "    </tr>\n",
       "    <tr>\n",
       "      <th>8</th>\n",
       "      <td>farm6</td>\n",
       "      <td>Susan</td>\n",
       "      <td>bananas</td>\n",
       "      <td>1</td>\n",
       "    </tr>\n",
       "  </tbody>\n",
       "</table>\n",
       "</div>"
      ],
      "text/plain": [
       "  source target     type  value\n",
       "0  farm1   Mary   apples      5\n",
       "1  farm1  James   apples      3\n",
       "2  farm2   Fred   apples     10\n",
       "3  farm2   Fred  bananas     10\n",
       "4  farm2  Susan  bananas      5\n",
       "5  farm3  Susan   apples     10\n",
       "6  farm4  Susan  bananas      1\n",
       "7  farm5  Susan  bananas      1\n",
       "8  farm6  Susan  bananas      1"
      ]
     },
     "execution_count": 1,
     "metadata": {},
     "output_type": "execute_result"
    }
   ],
   "source": [
    "import pandas as pd\n",
    "flows = pd.read_csv('simple_fruit_sales.csv')\n",
    "flows"
   ]
  },
  {
   "cell_type": "markdown",
   "metadata": {},
   "source": [
    "Drawn directly as a Sankey diagram, this data would look something like this:"
   ]
  },
  {
   "cell_type": "code",
   "execution_count": 2,
   "metadata": {},
   "outputs": [
    {
     "data": {
      "application/vnd.jupyter.widget-view+json": {
       "model_id": "4eaa9f3ae21c46f1956bc1fb9dd22aca",
       "version_major": 2,
       "version_minor": 0
      },
      "text/html": [
       "<p>Failed to display Jupyter Widget of type <code>SankeyWidget</code>.</p>\n",
       "<p>\n",
       "  If you're reading this message in the Jupyter Notebook or JupyterLab Notebook, it may mean\n",
       "  that the widgets JavaScript is still loading. If this message persists, it\n",
       "  likely means that the widgets JavaScript library is either not installed or\n",
       "  not enabled. See the <a href=\"https://ipywidgets.readthedocs.io/en/stable/user_install.html\">Jupyter\n",
       "  Widgets Documentation</a> for setup instructions.\n",
       "</p>\n",
       "<p>\n",
       "  If you're reading this message in another frontend (for example, a static\n",
       "  rendering on GitHub or <a href=\"https://nbviewer.jupyter.org/\">NBViewer</a>),\n",
       "  it may mean that your frontend doesn't currently support widgets.\n",
       "</p>\n"
      ],
      "text/plain": [
       "SankeyWidget(links=[{'target': 'Mary', 'value': 5, 'type': 'apples', 'source': 'farm1'}, {'target': 'James', 'value': 3, 'type': 'apples', 'source': 'farm1'}, {'target': 'Fred', 'value': 10, 'type': 'apples', 'source': 'farm2'}, {'target': 'Fred', 'value': 10, 'type': 'bananas', 'source': 'farm2'}, {'target': 'Susan', 'value': 5, 'type': 'bananas', 'source': 'farm2'}, {'target': 'Susan', 'value': 10, 'type': 'apples', 'source': 'farm3'}, {'target': 'Susan', 'value': 1, 'type': 'bananas', 'source': 'farm4'}, {'target': 'Susan', 'value': 1, 'type': 'bananas', 'source': 'farm5'}, {'target': 'Susan', 'value': 1, 'type': 'bananas', 'source': 'farm6'}], nodes=[{'id': 'farm2'}, {'id': 'farm3'}, {'id': 'farm1'}, {'id': 'farm4'}, {'id': 'farm6'}, {'id': 'James'}, {'id': 'Fred'}, {'id': 'farm5'}, {'id': 'Mary'}, {'id': 'Susan'}])"
      ]
     },
     "metadata": {},
     "output_type": "display_data"
    }
   ],
   "source": [
    "from ipysankeywidget import SankeyWidget\n",
    "SankeyWidget(links=flows.to_dict('records'))"
   ]
  },
  {
   "cell_type": "markdown",
   "metadata": {},
   "source": [
    "But you don't always want a direct correspondence between the flows in your data and the links that you see in the Sankey diagram. For example:\n",
    "\n",
    "* Farms 4, 5 and 6 are all pretty small, and to make the diagram clearer we might want to group them in an \"other\" category.\n",
    "* The flows of apples are mixed in with the flows of bananas -- we might want to group the kinds of fruit together to make them easier to compare\n",
    "* We might want to group farms or customers based on some other attributes -- to see difference between genders, locations, or organic/non-organic farms, say.\n",
    "\n",
    "This introduction shows how to use `floweaver` to do some of these for this simple example, in the simplest possible way. Later tutorials will show how to use it on real data, and more efficient ways to do the same things.\n",
    "\n",
    "## Basic diagram\n",
    "\n",
    "Let's start with the first example: grouping farms 4, 5 and 6 into an \"other\" category. `floweaver` works by setting up a \"Sankey diagram definition\" which describes the structure of the diagram we want to see. In this case, we need to set up some groups:"
   ]
  },
  {
   "cell_type": "code",
   "execution_count": 3,
   "metadata": {
    "collapsed": true
   },
   "outputs": [],
   "source": [
    "from floweaver import *\n",
    "\n",
    "# Set the default size to fit the documentation better.\n",
    "size = dict(width=570, height=300)\n",
    "\n",
    "nodes = {\n",
    "    'farms': ProcessGroup(['farm1', 'farm2', 'farm3', \n",
    "                           'farm4', 'farm5', 'farm6']),\n",
    "    'customers': ProcessGroup(['James', 'Mary', 'Fred', 'Susan']),\n",
    "}"
   ]
  },
  {
   "cell_type": "markdown",
   "metadata": {},
   "source": [
    "We need to describe roughly how these groups should be placed in the final diagram by defining an \"ordering\" -- a list of vertical slices, each containing a list of node ids:"
   ]
  },
  {
   "cell_type": "code",
   "execution_count": 4,
   "metadata": {
    "collapsed": true
   },
   "outputs": [],
   "source": [
    "ordering = [\n",
    "    ['farms'],       # put \"farms\" on the left...\n",
    "    ['customers'],   # ... and \"customers\" on the right.\n",
    "]"
   ]
  },
  {
   "cell_type": "markdown",
   "metadata": {},
   "source": [
    "And we also need to say which connections should appear in the diagram (sometimes you don't want to actually see all the connections). This is called a \"bundle\" because it bundles up multiple flows -- in this case all of them."
   ]
  },
  {
   "cell_type": "code",
   "execution_count": 5,
   "metadata": {
    "collapsed": true
   },
   "outputs": [],
   "source": [
    "bundles = [\n",
    "    Bundle('farms', 'customers'),\n",
    "]"
   ]
  },
  {
   "cell_type": "markdown",
   "metadata": {},
   "source": [
    "Putting that together into a Sankey diagram definition (SDD) and applying it to the data gives this result:"
   ]
  },
  {
   "cell_type": "code",
   "execution_count": 6,
   "metadata": {},
   "outputs": [
    {
     "data": {
      "application/vnd.jupyter.widget-view+json": {
       "model_id": "931f8e0c9aa14fe49903830e6c05b194",
       "version_major": 2,
       "version_minor": 0
      },
      "text/html": [
       "<p>Failed to display Jupyter Widget of type <code>SankeyWidget</code>.</p>\n",
       "<p>\n",
       "  If you're reading this message in the Jupyter Notebook or JupyterLab Notebook, it may mean\n",
       "  that the widgets JavaScript is still loading. If this message persists, it\n",
       "  likely means that the widgets JavaScript library is either not installed or\n",
       "  not enabled. See the <a href=\"https://ipywidgets.readthedocs.io/en/stable/user_install.html\">Jupyter\n",
       "  Widgets Documentation</a> for setup instructions.\n",
       "</p>\n",
       "<p>\n",
       "  If you're reading this message in another frontend (for example, a static\n",
       "  rendering on GitHub or <a href=\"https://nbviewer.jupyter.org/\">NBViewer</a>),\n",
       "  it may mean that your frontend doesn't currently support widgets.\n",
       "</p>\n"
      ],
      "text/plain": [
       "SankeyWidget(layout=Layout(height='300', width='570'), links=[{'color': '#FBB4AE', 'opacity': 1.0, 'type': '*', 'time': '*', 'target': 'customers^*', 'value': 46.0, 'title': '*', 'source': 'farms^*'}], margins={'top': 25, 'bottom': 10, 'right': 130, 'left': 130}, nodes=[{'id': 'customers^*', 'title': 'customers', 'style': {'direction': 'r', 'type': 'process', 'hidden': False}}, {'id': 'farms^*', 'title': 'farms', 'style': {'direction': 'r', 'type': 'process', 'hidden': False}}], order=[(('farms^*',),), (('customers^*',),)])"
      ]
     },
     "metadata": {},
     "output_type": "display_data"
    }
   ],
   "source": [
    "sdd = SankeyDefinition(nodes, bundles, ordering)\n",
    "weave(sdd, flows).to_widget(**size)"
   ]
  },
  {
   "cell_type": "markdown",
   "metadata": {},
   "source": [
    "That's not very useful. What's happened? Every farm and every customer has been lumped together into one group. To get the picture we want -- like the first one, but with an \"other\" group containing farms 4, 5 and 6 -- we need to *partition* the groups:"
   ]
  },
  {
   "cell_type": "code",
   "execution_count": 7,
   "metadata": {},
   "outputs": [
    {
     "data": {
      "application/vnd.jupyter.widget-view+json": {
       "model_id": "0749c7f49bc2439d8ec29e56e7201ccf",
       "version_major": 2,
       "version_minor": 0
      },
      "text/html": [
       "<p>Failed to display Jupyter Widget of type <code>SankeyWidget</code>.</p>\n",
       "<p>\n",
       "  If you're reading this message in the Jupyter Notebook or JupyterLab Notebook, it may mean\n",
       "  that the widgets JavaScript is still loading. If this message persists, it\n",
       "  likely means that the widgets JavaScript library is either not installed or\n",
       "  not enabled. See the <a href=\"https://ipywidgets.readthedocs.io/en/stable/user_install.html\">Jupyter\n",
       "  Widgets Documentation</a> for setup instructions.\n",
       "</p>\n",
       "<p>\n",
       "  If you're reading this message in another frontend (for example, a static\n",
       "  rendering on GitHub or <a href=\"https://nbviewer.jupyter.org/\">NBViewer</a>),\n",
       "  it may mean that your frontend doesn't currently support widgets.\n",
       "</p>\n"
      ],
      "text/plain": [
       "SankeyWidget(groups=[{'id': 'farms', 'title': '', 'type': 'process', 'nodes': ['farms^farm1', 'farms^farm2', 'farms^farm3', 'farms^other']}, {'id': 'customers', 'title': '', 'type': 'process', 'nodes': ['customers^James', 'customers^Mary', 'customers^Fred', 'customers^Susan']}], layout=Layout(height='300', width='570'), links=[{'color': '#FBB4AE', 'opacity': 1.0, 'type': '*', 'time': '*', 'target': 'customers^Susan', 'value': 10.0, 'title': '*', 'source': 'farms^farm3'}, {'color': '#FBB4AE', 'opacity': 1.0, 'type': '*', 'time': '*', 'target': 'customers^Mary', 'value': 5.0, 'title': '*', 'source': 'farms^farm1'}, {'color': '#FBB4AE', 'opacity': 1.0, 'type': '*', 'time': '*', 'target': 'customers^James', 'value': 3.0, 'title': '*', 'source': 'farms^farm1'}, {'color': '#FBB4AE', 'opacity': 1.0, 'type': '*', 'time': '*', 'target': 'customers^Fred', 'value': 20.0, 'title': '*', 'source': 'farms^farm2'}, {'color': '#FBB4AE', 'opacity': 1.0, 'type': '*', 'time': '*', 'target': 'customers^Susan', 'value': 5.0, 'title': '*', 'source': 'farms^farm2'}, {'color': '#FBB4AE', 'opacity': 1.0, 'type': '*', 'time': '*', 'target': 'customers^Susan', 'value': 3.0, 'title': '*', 'source': 'farms^other'}], margins={'top': 25, 'bottom': 10, 'right': 130, 'left': 130}, nodes=[{'id': 'farms^farm3', 'title': 'farm3', 'style': {'direction': 'r', 'type': 'process', 'hidden': False}}, {'id': 'customers^Mary', 'title': 'Mary', 'style': {'direction': 'r', 'type': 'process', 'hidden': False}}, {'id': 'farms^farm1', 'title': 'farm1', 'style': {'direction': 'r', 'type': 'process', 'hidden': False}}, {'id': 'farms^farm2', 'title': 'farm2', 'style': {'direction': 'r', 'type': 'process', 'hidden': False}}, {'id': 'farms^other', 'title': 'other', 'style': {'direction': 'r', 'type': 'process', 'hidden': False}}, {'id': 'customers^Fred', 'title': 'Fred', 'style': {'direction': 'r', 'type': 'process', 'hidden': False}}, {'id': 'customers^James', 'title': 'James', 'style': {'direction': 'r', 'type': 'process', 'hidden': False}}, {'id': 'customers^Susan', 'title': 'Susan', 'style': {'direction': 'r', 'type': 'process', 'hidden': False}}], order=[(('farms^farm1', 'farms^farm2', 'farms^farm3', 'farms^other'),), (('customers^James', 'customers^Mary', 'customers^Fred', 'customers^Susan'),)])"
      ]
     },
     "metadata": {},
     "output_type": "display_data"
    }
   ],
   "source": [
    "# The first argument is the dimension name -- for now we're using\n",
    "# \"process\" to group by process ids. The second argument is a list\n",
    "# of groups.\n",
    "farms_with_other = Partition.Simple('process', [\n",
    "    'farm1',  # the groups within the partition can be a single id...\n",
    "    'farm2',\n",
    "    'farm3',\n",
    "    ('other', ['farm4', 'farm5', 'farm6']),   # ... or a group\n",
    "])\n",
    "\n",
    "# This is another partition.\n",
    "customers_by_name = Partition.Simple('process', [\n",
    "    'James', 'Mary', 'Fred', 'Susan'\n",
    "])\n",
    "\n",
    "# Update the ProcessGroup nodes to use the partitions\n",
    "nodes['farms'].partition = farms_with_other\n",
    "nodes['customers'].partition = customers_by_name\n",
    "\n",
    "# New Sankey!\n",
    "weave(sdd, flows).to_widget(**size)"
   ]
  },
  {
   "cell_type": "markdown",
   "metadata": {},
   "source": [
    "That's better: now the farms are split up appropriately with an \"other\" category, and the customers are shown separately as well. We don't have to stop there -- what about showing sales to men and women?"
   ]
  },
  {
   "cell_type": "code",
   "execution_count": 8,
   "metadata": {},
   "outputs": [
    {
     "data": {
      "application/vnd.jupyter.widget-view+json": {
       "model_id": "4b8c2080f9a448aeacca2bc47aa23989",
       "version_major": 2,
       "version_minor": 0
      },
      "text/html": [
       "<p>Failed to display Jupyter Widget of type <code>SankeyWidget</code>.</p>\n",
       "<p>\n",
       "  If you're reading this message in the Jupyter Notebook or JupyterLab Notebook, it may mean\n",
       "  that the widgets JavaScript is still loading. If this message persists, it\n",
       "  likely means that the widgets JavaScript library is either not installed or\n",
       "  not enabled. See the <a href=\"https://ipywidgets.readthedocs.io/en/stable/user_install.html\">Jupyter\n",
       "  Widgets Documentation</a> for setup instructions.\n",
       "</p>\n",
       "<p>\n",
       "  If you're reading this message in another frontend (for example, a static\n",
       "  rendering on GitHub or <a href=\"https://nbviewer.jupyter.org/\">NBViewer</a>),\n",
       "  it may mean that your frontend doesn't currently support widgets.\n",
       "</p>\n"
      ],
      "text/plain": [
       "SankeyWidget(groups=[{'id': 'farms', 'title': '', 'type': 'process', 'nodes': ['farms^farm1', 'farms^farm2', 'farms^farm3', 'farms^other']}, {'id': 'customers', 'title': '', 'type': 'process', 'nodes': ['customers^Men', 'customers^Women']}], layout=Layout(height='300', width='570'), links=[{'color': '#FBB4AE', 'opacity': 1.0, 'type': '*', 'time': '*', 'target': 'customers^Men', 'value': 3.0, 'title': '*', 'source': 'farms^farm1'}, {'color': '#FBB4AE', 'opacity': 1.0, 'type': '*', 'time': '*', 'target': 'customers^Women', 'value': 5.0, 'title': '*', 'source': 'farms^farm1'}, {'color': '#FBB4AE', 'opacity': 1.0, 'type': '*', 'time': '*', 'target': 'customers^Women', 'value': 10.0, 'title': '*', 'source': 'farms^farm3'}, {'color': '#FBB4AE', 'opacity': 1.0, 'type': '*', 'time': '*', 'target': 'customers^Men', 'value': 20.0, 'title': '*', 'source': 'farms^farm2'}, {'color': '#FBB4AE', 'opacity': 1.0, 'type': '*', 'time': '*', 'target': 'customers^Women', 'value': 5.0, 'title': '*', 'source': 'farms^farm2'}, {'color': '#FBB4AE', 'opacity': 1.0, 'type': '*', 'time': '*', 'target': 'customers^Women', 'value': 3.0, 'title': '*', 'source': 'farms^other'}], margins={'top': 25, 'bottom': 10, 'right': 130, 'left': 130}, nodes=[{'id': 'farms^farm1', 'title': 'farm1', 'style': {'direction': 'r', 'type': 'process', 'hidden': False}}, {'id': 'farms^farm3', 'title': 'farm3', 'style': {'direction': 'r', 'type': 'process', 'hidden': False}}, {'id': 'farms^farm2', 'title': 'farm2', 'style': {'direction': 'r', 'type': 'process', 'hidden': False}}, {'id': 'customers^Men', 'title': 'Men', 'style': {'direction': 'r', 'type': 'process', 'hidden': False}}, {'id': 'farms^other', 'title': 'other', 'style': {'direction': 'r', 'type': 'process', 'hidden': False}}, {'id': 'customers^Women', 'title': 'Women', 'style': {'direction': 'r', 'type': 'process', 'hidden': False}}], order=[(('farms^farm1', 'farms^farm2', 'farms^farm3', 'farms^other'),), (('customers^Men', 'customers^Women'),)])"
      ]
     },
     "metadata": {},
     "output_type": "display_data"
    }
   ],
   "source": [
    "customers_by_gender = Partition.Simple('process', [\n",
    "    ('Men', ['Fred', 'James']),\n",
    "    ('Women', ['Susan', 'Mary']),\n",
    "])\n",
    "\n",
    "nodes['customers'].partition = customers_by_gender\n",
    "\n",
    "weave(sdd, flows).to_widget(**size).auto_save_png('quickstart_example1.png')"
   ]
  },
  {
   "cell_type": "markdown",
   "metadata": {},
   "source": [
    "> There is a better way of specifying this type of partition that doesn't involve hard-coding who's a man and who's a woman into the code -- see the later tutorial on using *dimension tables*.\n",
    "\n",
    "## Distinguishing flow types\n",
    "\n",
    "These diagrams have lost sight of the kind of fruit that is actually being sold -- are the men buying apples, bananas or both from farm1? To show this we need to split up the flows in the diagram based on their *type*. Just like we split up the `ProcessGroups` by defining a partition of processes, we split up flows by defining a partition of flows.\n",
    "\n",
    "(While we're at it let's choose some colours that look vaguely like apples and bananas)"
   ]
  },
  {
   "cell_type": "code",
   "execution_count": 9,
   "metadata": {},
   "outputs": [
    {
     "data": {
      "application/vnd.jupyter.widget-view+json": {
       "model_id": "09cee9f681fd4c79adf1d67d9ff15c13",
       "version_major": 2,
       "version_minor": 0
      },
      "text/html": [
       "<p>Failed to display Jupyter Widget of type <code>SankeyWidget</code>.</p>\n",
       "<p>\n",
       "  If you're reading this message in the Jupyter Notebook or JupyterLab Notebook, it may mean\n",
       "  that the widgets JavaScript is still loading. If this message persists, it\n",
       "  likely means that the widgets JavaScript library is either not installed or\n",
       "  not enabled. See the <a href=\"https://ipywidgets.readthedocs.io/en/stable/user_install.html\">Jupyter\n",
       "  Widgets Documentation</a> for setup instructions.\n",
       "</p>\n",
       "<p>\n",
       "  If you're reading this message in another frontend (for example, a static\n",
       "  rendering on GitHub or <a href=\"https://nbviewer.jupyter.org/\">NBViewer</a>),\n",
       "  it may mean that your frontend doesn't currently support widgets.\n",
       "</p>\n"
      ],
      "text/plain": [
       "SankeyWidget(groups=[{'id': 'farms', 'title': '', 'type': 'process', 'nodes': ['farms^farm1', 'farms^farm2', 'farms^farm3', 'farms^other']}, {'id': 'customers', 'title': '', 'type': 'process', 'nodes': ['customers^Men', 'customers^Women']}], layout=Layout(height='300', width='570'), links=[{'color': 'yellowgreen', 'opacity': 1.0, 'type': 'apples', 'time': '*', 'target': 'customers^Men', 'value': 3.0, 'title': 'apples', 'source': 'farms^farm1'}, {'color': 'yellowgreen', 'opacity': 1.0, 'type': 'apples', 'time': '*', 'target': 'customers^Women', 'value': 5.0, 'title': 'apples', 'source': 'farms^farm1'}, {'color': 'yellowgreen', 'opacity': 1.0, 'type': 'apples', 'time': '*', 'target': 'customers^Women', 'value': 10.0, 'title': 'apples', 'source': 'farms^farm3'}, {'color': 'yellowgreen', 'opacity': 1.0, 'type': 'apples', 'time': '*', 'target': 'customers^Men', 'value': 10.0, 'title': 'apples', 'source': 'farms^farm2'}, {'color': 'gold', 'opacity': 1.0, 'type': 'bananas', 'time': '*', 'target': 'customers^Men', 'value': 10.0, 'title': 'bananas', 'source': 'farms^farm2'}, {'color': 'gold', 'opacity': 1.0, 'type': 'bananas', 'time': '*', 'target': 'customers^Women', 'value': 5.0, 'title': 'bananas', 'source': 'farms^farm2'}, {'color': 'gold', 'opacity': 1.0, 'type': 'bananas', 'time': '*', 'target': 'customers^Women', 'value': 3.0, 'title': 'bananas', 'source': 'farms^other'}], margins={'top': 25, 'bottom': 10, 'right': 130, 'left': 130}, nodes=[{'id': 'farms^farm1', 'title': 'farm1', 'style': {'direction': 'r', 'type': 'process', 'hidden': False}}, {'id': 'farms^farm3', 'title': 'farm3', 'style': {'direction': 'r', 'type': 'process', 'hidden': False}}, {'id': 'farms^farm2', 'title': 'farm2', 'style': {'direction': 'r', 'type': 'process', 'hidden': False}}, {'id': 'customers^Men', 'title': 'Men', 'style': {'direction': 'r', 'type': 'process', 'hidden': False}}, {'id': 'farms^other', 'title': 'other', 'style': {'direction': 'r', 'type': 'process', 'hidden': False}}, {'id': 'customers^Women', 'title': 'Women', 'style': {'direction': 'r', 'type': 'process', 'hidden': False}}], order=[(('farms^farm1', 'farms^farm2', 'farms^farm3', 'farms^other'),), (('customers^Men', 'customers^Women'),)])"
      ]
     },
     "metadata": {},
     "output_type": "display_data"
    }
   ],
   "source": [
    "# Another partition -- but this time the dimension is the \"type\"\n",
    "# column of the flows table\n",
    "fruits_by_type = Partition.Simple('type', ['apples', 'bananas'])\n",
    "\n",
    "# Set the colours for the labels in the partition.\n",
    "palette = {'apples': 'yellowgreen', 'bananas': 'gold'}\n",
    "\n",
    "# New SDD with the flow_partition set\n",
    "sdd = SankeyDefinition(nodes, bundles, ordering, \n",
    "                       flow_partition=fruits_by_type)\n",
    "\n",
    "weave(sdd, flows, palette=palette).to_widget(**size)"
   ]
  },
  {
   "cell_type": "markdown",
   "metadata": {},
   "source": [
    "As a last step, it would be nice to label which flows are apples and which are bananas. One way to do this would be to use a legend next to the diagram, or to put labels on every flow. Here, we'll add a new layer in the middle of the diagram which temporarily groups together the different fruit types on their way from the farms to the customers. This temporary/additional grouping point is called a *waypoint*.\n",
    "\n",
    "To add a waypoint, we need to do three things:\n",
    "\n",
    "1. Define it as a node\n",
    "2. Position it in the ordering (between `farms` and `customers`)\n",
    "3. Add it to the bundle"
   ]
  },
  {
   "cell_type": "code",
   "execution_count": 10,
   "metadata": {},
   "outputs": [
    {
     "data": {
      "application/vnd.jupyter.widget-view+json": {
       "model_id": "12cb840d46094c85a5954665f1add06c",
       "version_major": 2,
       "version_minor": 0
      },
      "text/html": [
       "<p>Failed to display Jupyter Widget of type <code>SankeyWidget</code>.</p>\n",
       "<p>\n",
       "  If you're reading this message in the Jupyter Notebook or JupyterLab Notebook, it may mean\n",
       "  that the widgets JavaScript is still loading. If this message persists, it\n",
       "  likely means that the widgets JavaScript library is either not installed or\n",
       "  not enabled. See the <a href=\"https://ipywidgets.readthedocs.io/en/stable/user_install.html\">Jupyter\n",
       "  Widgets Documentation</a> for setup instructions.\n",
       "</p>\n",
       "<p>\n",
       "  If you're reading this message in another frontend (for example, a static\n",
       "  rendering on GitHub or <a href=\"https://nbviewer.jupyter.org/\">NBViewer</a>),\n",
       "  it may mean that your frontend doesn't currently support widgets.\n",
       "</p>\n"
      ],
      "text/plain": [
       "SankeyWidget(groups=[{'id': 'farms', 'title': '', 'type': 'process', 'nodes': ['farms^farm1', 'farms^farm2', 'farms^farm3', 'farms^other']}, {'id': 'customers', 'title': '', 'type': 'process', 'nodes': ['customers^Men', 'customers^Women']}], layout=Layout(height='300', width='570'), links=[{'color': 'yellowgreen', 'opacity': 1.0, 'type': 'apples', 'time': '*', 'target': 'waypoint^*', 'value': 8.0, 'title': 'apples', 'source': 'farms^farm1'}, {'color': 'yellowgreen', 'opacity': 1.0, 'type': 'apples', 'time': '*', 'target': 'waypoint^*', 'value': 10.0, 'title': 'apples', 'source': 'farms^farm3'}, {'color': 'yellowgreen', 'opacity': 1.0, 'type': 'apples', 'time': '*', 'target': 'waypoint^*', 'value': 10.0, 'title': 'apples', 'source': 'farms^farm2'}, {'color': 'gold', 'opacity': 1.0, 'type': 'bananas', 'time': '*', 'target': 'waypoint^*', 'value': 15.0, 'title': 'bananas', 'source': 'farms^farm2'}, {'color': 'gold', 'opacity': 1.0, 'type': 'bananas', 'time': '*', 'target': 'waypoint^*', 'value': 3.0, 'title': 'bananas', 'source': 'farms^other'}, {'color': 'yellowgreen', 'opacity': 1.0, 'type': 'apples', 'time': '*', 'target': 'customers^Men', 'value': 13.0, 'title': 'apples', 'source': 'waypoint^*'}, {'color': 'gold', 'opacity': 1.0, 'type': 'bananas', 'time': '*', 'target': 'customers^Men', 'value': 10.0, 'title': 'bananas', 'source': 'waypoint^*'}, {'color': 'yellowgreen', 'opacity': 1.0, 'type': 'apples', 'time': '*', 'target': 'customers^Women', 'value': 15.0, 'title': 'apples', 'source': 'waypoint^*'}, {'color': 'gold', 'opacity': 1.0, 'type': 'bananas', 'time': '*', 'target': 'customers^Women', 'value': 8.0, 'title': 'bananas', 'source': 'waypoint^*'}], margins={'top': 25, 'bottom': 10, 'right': 130, 'left': 130}, nodes=[{'id': 'farms^farm1', 'title': 'farm1', 'style': {'direction': 'r', 'type': 'process', 'hidden': False}}, {'id': 'farms^farm3', 'title': 'farm3', 'style': {'direction': 'r', 'type': 'process', 'hidden': False}}, {'id': 'farms^farm2', 'title': 'farm2', 'style': {'direction': 'r', 'type': 'process', 'hidden': False}}, {'id': 'customers^Men', 'title': 'Men', 'style': {'direction': 'r', 'type': 'process', 'hidden': False}}, {'id': 'farms^other', 'title': 'other', 'style': {'direction': 'r', 'type': 'process', 'hidden': False}}, {'id': 'waypoint^*', 'title': 'waypoint', 'style': {'direction': 'r', 'type': 'group', 'hidden': False}}, {'id': 'customers^Women', 'title': 'Women', 'style': {'direction': 'r', 'type': 'process', 'hidden': False}}], order=[(('farms^farm1', 'farms^farm2', 'farms^farm3', 'farms^other'),), (('waypoint^*',),), (('customers^Men', 'customers^Women'),)])"
      ]
     },
     "metadata": {},
     "output_type": "display_data"
    }
   ],
   "source": [
    "# 1. Define a new waypoint node\n",
    "nodes['waypoint'] = Waypoint()\n",
    "\n",
    "# 2. Update the ordering to show where the waypoint goes: in the middle\n",
    "ordering = [\n",
    "    ['farms'],\n",
    "    ['waypoint'],\n",
    "    ['customers'],\n",
    "]\n",
    "\n",
    "# 3. Update the bundle definition to send the flows via the waypoint\n",
    "bundles = [\n",
    "    Bundle('farms', 'customers', waypoints=['waypoint']),\n",
    "]\n",
    "\n",
    "# Update the SDD with the new nodes, ordering & bundles.\n",
    "sdd = SankeyDefinition(nodes, bundles, ordering, \n",
    "                       flow_partition=fruits_by_type)\n",
    "\n",
    "weave(sdd, flows, palette=palette).to_widget(**size)"
   ]
  },
  {
   "cell_type": "markdown",
   "metadata": {},
   "source": [
    "That's not yet very useful. Just like above, the default for Waypoints is to group everything togeter. We need to set a partition on the waypoint to split apart apples and bananas:"
   ]
  },
  {
   "cell_type": "code",
   "execution_count": 11,
   "metadata": {},
   "outputs": [
    {
     "data": {
      "application/vnd.jupyter.widget-view+json": {
       "model_id": "7f42aac9e8634d1da119f53fce91dbab",
       "version_major": 2,
       "version_minor": 0
      },
      "text/html": [
       "<p>Failed to display Jupyter Widget of type <code>SankeyWidget</code>.</p>\n",
       "<p>\n",
       "  If you're reading this message in the Jupyter Notebook or JupyterLab Notebook, it may mean\n",
       "  that the widgets JavaScript is still loading. If this message persists, it\n",
       "  likely means that the widgets JavaScript library is either not installed or\n",
       "  not enabled. See the <a href=\"https://ipywidgets.readthedocs.io/en/stable/user_install.html\">Jupyter\n",
       "  Widgets Documentation</a> for setup instructions.\n",
       "</p>\n",
       "<p>\n",
       "  If you're reading this message in another frontend (for example, a static\n",
       "  rendering on GitHub or <a href=\"https://nbviewer.jupyter.org/\">NBViewer</a>),\n",
       "  it may mean that your frontend doesn't currently support widgets.\n",
       "</p>\n"
      ],
      "text/plain": [
       "SankeyWidget(groups=[{'id': 'farms', 'title': '', 'type': 'process', 'nodes': ['farms^farm1', 'farms^farm2', 'farms^farm3', 'farms^other']}, {'id': 'waypoint', 'title': '', 'type': 'group', 'nodes': ['waypoint^apples', 'waypoint^bananas']}, {'id': 'customers', 'title': '', 'type': 'process', 'nodes': ['customers^Men', 'customers^Women']}], layout=Layout(height='300', width='570'), links=[{'color': 'yellowgreen', 'opacity': 1.0, 'type': 'apples', 'time': '*', 'target': 'waypoint^apples', 'value': 10.0, 'title': 'apples', 'source': 'farms^farm3'}, {'color': 'yellowgreen', 'opacity': 1.0, 'type': 'apples', 'time': '*', 'target': 'customers^Men', 'value': 13.0, 'title': 'apples', 'source': 'waypoint^apples'}, {'color': 'yellowgreen', 'opacity': 1.0, 'type': 'apples', 'time': '*', 'target': 'customers^Women', 'value': 15.0, 'title': 'apples', 'source': 'waypoint^apples'}, {'color': 'yellowgreen', 'opacity': 1.0, 'type': 'apples', 'time': '*', 'target': 'waypoint^apples', 'value': 8.0, 'title': 'apples', 'source': 'farms^farm1'}, {'color': 'yellowgreen', 'opacity': 1.0, 'type': 'apples', 'time': '*', 'target': 'waypoint^apples', 'value': 10.0, 'title': 'apples', 'source': 'farms^farm2'}, {'color': 'gold', 'opacity': 1.0, 'type': 'bananas', 'time': '*', 'target': 'waypoint^bananas', 'value': 15.0, 'title': 'bananas', 'source': 'farms^farm2'}, {'color': 'gold', 'opacity': 1.0, 'type': 'bananas', 'time': '*', 'target': 'customers^Men', 'value': 10.0, 'title': 'bananas', 'source': 'waypoint^bananas'}, {'color': 'gold', 'opacity': 1.0, 'type': 'bananas', 'time': '*', 'target': 'customers^Women', 'value': 8.0, 'title': 'bananas', 'source': 'waypoint^bananas'}, {'color': 'gold', 'opacity': 1.0, 'type': 'bananas', 'time': '*', 'target': 'waypoint^bananas', 'value': 3.0, 'title': 'bananas', 'source': 'farms^other'}], margins={'top': 25, 'bottom': 10, 'right': 130, 'left': 130}, nodes=[{'id': 'farms^farm3', 'title': 'farm3', 'style': {'direction': 'r', 'type': 'process', 'hidden': False}}, {'id': 'waypoint^apples', 'title': 'apples', 'style': {'direction': 'r', 'type': 'group', 'hidden': False}}, {'id': 'farms^farm1', 'title': 'farm1', 'style': {'direction': 'r', 'type': 'process', 'hidden': False}}, {'id': 'farms^farm2', 'title': 'farm2', 'style': {'direction': 'r', 'type': 'process', 'hidden': False}}, {'id': 'customers^Men', 'title': 'Men', 'style': {'direction': 'r', 'type': 'process', 'hidden': False}}, {'id': 'waypoint^bananas', 'title': 'bananas', 'style': {'direction': 'r', 'type': 'group', 'hidden': False}}, {'id': 'farms^other', 'title': 'other', 'style': {'direction': 'r', 'type': 'process', 'hidden': False}}, {'id': 'customers^Women', 'title': 'Women', 'style': {'direction': 'r', 'type': 'process', 'hidden': False}}], order=[(('farms^farm1', 'farms^farm2', 'farms^farm3', 'farms^other'),), (('waypoint^apples', 'waypoint^bananas'),), (('customers^Men', 'customers^Women'),)])"
      ]
     },
     "metadata": {},
     "output_type": "display_data"
    }
   ],
   "source": [
    "# Redefine the waypoint with a partition (same one defined above)\n",
    "nodes['waypoint'] = Waypoint(fruits_by_type)\n",
    "\n",
    "weave(sdd, flows, palette=palette).to_widget(**size)"
   ]
  },
  {
   "cell_type": "markdown",
   "metadata": {},
   "source": [
    "## Summary\n",
    "\n",
    "This has demonstrated the basic usage of `floweaver`: defining `ProcessGroup`s, `Waypoint`s, `Partition`s, and `Bundle`s. If you are reading the interactive version, why not go back and try out some different ways to present the data? Here are some suggestions:\n",
    "\n",
    "1. Farms 1, 3 and 5 are organic. Can you change the farm Partition to show two groups, organic and non-organic?\n",
    "2. What happens if you remove `\"farm1\"` from the original definition of the `farms` `ProcessGroup`? (Hint: those apples that James and Mary are eating have to come from somewhere -- so they are shown as coming from \"elsewhere\". See [later tutorial on moving the system boundary](/tutorials/system-boundary.ipynb))\n",
    "\n",
    "If you are reading the static documentation, you can easily experiment with editing and rerunning this tutorial online [using MyBinder](https://mybinder.org/v2/gh/ricklupton/floweaver/master?filepath=docs%2Ftutorials%2Fquickstart.ipynb), or download it to run on your computer from [GitHub](https://github.com/ricklupton/floweaver/archive/master.zip)."
   ]
  }
 ],
 "metadata": {
  "kernelspec": {
   "display_name": "Python 3",
   "language": "python",
   "name": "python3"
  },
  "language_info": {
   "codemirror_mode": {
    "name": "ipython",
    "version": 3
   },
   "file_extension": ".py",
   "mimetype": "text/x-python",
   "name": "python",
   "nbconvert_exporter": "python",
   "pygments_lexer": "ipython3",
   "version": "3.6.3"
  },
  "widgets": {
   "application/vnd.jupyter.widget-state+json": {
    "state": {
     "0749c7f49bc2439d8ec29e56e7201ccf": {
      "model_module": "jupyter-sankey-widget",
      "model_module_version": "^0.2.3",
      "model_name": "SankeyModel",
      "state": {
       "_model_module_version": "^0.2.3",
       "_view_module_version": "^0.2.3",
       "groups": [
        {
         "id": "farms",
         "nodes": [
          "farms^farm1",
          "farms^farm2",
          "farms^farm3",
          "farms^other"
         ],
         "rect": {
          "bottom": 238.49999999999997,
          "left": 0,
          "right": 1,
          "top": 26.5
         },
         "title": "",
         "type": "process"
        },
        {
         "id": "customers",
         "nodes": [
          "customers^James",
          "customers^Mary",
          "customers^Fred",
          "customers^Susan"
         ],
         "rect": {
          "bottom": 238.5,
          "left": 309,
          "right": 310,
          "top": 26.5
         },
         "title": "",
         "type": "process"
        }
       ],
       "layout": "IPY_MODEL_7daeaae6b1ca4af8a22763c50722e8d8",
       "links": [
        {
         "color": "#FBB4AE",
         "opacity": 1,
         "source": "farms^farm3",
         "target": "customers^Susan",
         "time": "*",
         "title": "*",
         "type": "*",
         "value": 10
        },
        {
         "color": "#FBB4AE",
         "opacity": 1,
         "source": "farms^farm1",
         "target": "customers^Mary",
         "time": "*",
         "title": "*",
         "type": "*",
         "value": 5
        },
        {
         "color": "#FBB4AE",
         "opacity": 1,
         "source": "farms^farm1",
         "target": "customers^James",
         "time": "*",
         "title": "*",
         "type": "*",
         "value": 3
        },
        {
         "color": "#FBB4AE",
         "opacity": 1,
         "source": "farms^farm2",
         "target": "customers^Fred",
         "time": "*",
         "title": "*",
         "type": "*",
         "value": 20
        },
        {
         "color": "#FBB4AE",
         "opacity": 1,
         "source": "farms^farm2",
         "target": "customers^Susan",
         "time": "*",
         "title": "*",
         "type": "*",
         "value": 5
        },
        {
         "color": "#FBB4AE",
         "opacity": 1,
         "source": "farms^other",
         "target": "customers^Susan",
         "time": "*",
         "title": "*",
         "type": "*",
         "value": 3
        }
       ],
       "margins": {
        "bottom": 10,
        "left": 130,
        "right": 130,
        "top": 25
       },
       "nodes": [
        {
         "id": "farms^farm3",
         "style": {
          "direction": "r",
          "hidden": false,
          "type": "process"
         },
         "title": "farm3"
        },
        {
         "id": "customers^Mary",
         "style": {
          "direction": "r",
          "hidden": false,
          "type": "process"
         },
         "title": "Mary"
        },
        {
         "id": "farms^farm1",
         "style": {
          "direction": "r",
          "hidden": false,
          "type": "process"
         },
         "title": "farm1"
        },
        {
         "id": "farms^farm2",
         "style": {
          "direction": "r",
          "hidden": false,
          "type": "process"
         },
         "title": "farm2"
        },
        {
         "id": "farms^other",
         "style": {
          "direction": "r",
          "hidden": false,
          "type": "process"
         },
         "title": "other"
        },
        {
         "id": "customers^Fred",
         "style": {
          "direction": "r",
          "hidden": false,
          "type": "process"
         },
         "title": "Fred"
        },
        {
         "id": "customers^James",
         "style": {
          "direction": "r",
          "hidden": false,
          "type": "process"
         },
         "title": "James"
        },
        {
         "id": "customers^Susan",
         "style": {
          "direction": "r",
          "hidden": false,
          "type": "process"
         },
         "title": "Susan"
        }
       ],
       "order": [
        [
         [
          "farms^farm1",
          "farms^farm2",
          "farms^farm3",
          "farms^other"
         ]
        ],
        [
         [
          "customers^James",
          "customers^Mary",
          "customers^Fred",
          "customers^Susan"
         ]
        ]
       ],
       "png": "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",
       "scale": 2.880434782608696,
       "svg": "<?xml version=\"1.0\" standalone=\"no\"?><!DOCTYPE svg PUBLIC \"-//W3C//DTD SVG 1.1//EN\" \"http://www.w3.org/Graphics/SVG/1.1/DTD/svg11.dtd\"><svg xmlns=\"http://www.w3.org/2000/svg\" width=\"570\" height=\"300\" viewBox=\"0 0 570 300\"><g class=\"sankey\" transform=\"translate(130,25)\"><g class=\"groups\"><g class=\"group\" style=\"display: none;\" transform=\"translate(0,26.5)\"><rect x=\"-10\" y=\"-20\" width=\"21\" height=\"241.99999999999997\" style=\"fill: rgb(238, 238, 238); stroke: rgb(187, 187, 187); stroke-width: 0.5;\"/><text x=\"-10\" y=\"-25\" style=\"fill: rgb(153, 153, 153);\"/></g><g class=\"group\" style=\"display: none;\" transform=\"translate(309,26.5)\"><rect x=\"-10\" y=\"-20\" width=\"21\" height=\"242\" style=\"fill: rgb(238, 238, 238); stroke: rgb(187, 187, 187); stroke-width: 0.5;\"/><text x=\"-10\" y=\"-25\" style=\"fill: rgb(153, 153, 153);\"/></g></g><g class=\"links\"><g class=\"link\" style=\"opacity: 0.8;\"><path d=\"M1,26.5 A0 0 0 0 0 1,26.5 L309,26.5 A0 0 0 0 0 309,26.5 L309,35.141304347826086 A0 0 0 0 0 309,35.141304347826086 L1,35.141304347826086 A0 0 0 0 0 1,35.141304347826086 Z\" style=\"fill: rgb(251, 180, 174);\"/><title>farm1 → James\n*\n3.00</title></g><g class=\"link\" style=\"opacity: 0.8;\"><path d=\"M1,229.85869565217388 A0 0 0 0 1 1,229.85869565217388 L309,229.8586956521739 A0 0 0 0 0 309,229.8586956521739 L309,238.49999999999997 A0 0 0 0 1 309,238.49999999999997 L1,238.49999999999994 A0 0 0 0 0 1,238.49999999999994 Z\" style=\"fill: rgb(251, 180, 174);\"/><title>other → Susan\n*\n3.00</title></g><g class=\"link\" style=\"opacity: 0.8;\"><path d=\"M1,35.141304347826086 A548.1421246923708 548.1421246923708 0.10516279089720904 0 1 58.53796454885263,38.16952213830768 L252.9738181343341,58.692651541133266 A533.7399507793273 533.7399507793273 0.10516279089720904 0 0 309,61.641304347826086 L309,76.04347826086956 A548.1421246923708 548.1421246923708 0.10516279089720904 0 1 251.4620354511474,73.01526047038797 L57.026181865665905,52.49213106756239 A533.7399507793273 533.7399507793273 0.10516279089720904 0 0 1,49.54347826086957 Z\" style=\"fill: rgb(251, 180, 174);\"/><title>farm1 → Mary\n*\n5.00</title></g><g class=\"link\" style=\"opacity: 0.8;\"><path d=\"M1,133.65217391304347 A283.63410582444624 283.63410582444624 0.20886468334819597 0 1 59.811359096658734,139.8164074485563 L253.17492289263342,180.80094350936847 A269.23193191140274 269.23193191140274 0.20886468334819597 0 0 309,186.65217391304347 L309,201.05434782608697 A283.63410582444624 283.63410582444624 0.20886468334819597 0 1 250.18864090334128,194.89011429057413 L56.82507710736657,153.90557822976197 A269.23193191140274 269.23193191140274 0.20886468334819597 0 0 1,148.05434782608697 Z\" style=\"fill: rgb(251, 180, 174);\"/><title>farm2 → Susan\n*\n5.00</title></g><g class=\"link\" style=\"opacity: 0.8;\"><path d=\"M1,174.55434782608694 A555.3432116488925 555.3432116488925 0.10516279089720904 0 1 59.293855890446,177.62234810846292 L253.72970947592748,198.1454775112885 A526.5388638228055 526.5388638228055 0.10516279089720904 0 0 309,201.05434782608694 L309,229.85869565217388 A555.3432116488925 555.3432116488925 0.10516279089720904 0 1 250.706144109554,226.7906953697979 L56.270290524072536,206.2675659669723 A526.5388638228055 526.5388638228055 0.10516279089720904 0 0 1,203.35869565217388 Z\" style=\"fill: rgb(251, 180, 174);\"/><title>farm3 → Susan\n*\n10.0</title></g><g class=\"link\" style=\"opacity: 0.8;\"><path d=\"M1,76.04347826086956 A569.7453855619358 569.7453855619358 0.10516279089720904 0 1 60.8056385736327,79.1910435270343 L255.2414921591142,99.7141729298599 A512.1366899097618 512.1366899097618 0.10516279089720904 0 0 309,102.54347826086958 L309,160.1521739130435 A569.7453855619358 569.7453855619358 0.10516279089720904 0 1 249.1943614263673,157.00460864687875 L54.75850784088579,136.48147924405316 A512.1366899097618 512.1366899097618 0.10516279089720904 0 0 1,133.65217391304347 Z\" style=\"fill: rgb(251, 180, 174);\"/><title>farm2 → Fred\n*\n20.0</title></g></g><g class=\"nodes\"><g class=\"node\" transform=\"translate(0,174.55434782608694)\"><title>farm3</title><text dy=\".35em\" text-anchor=\"end\" transform=\"translate(-4,14.402173913043484)\" style=\"display: inline;\">farm3</text><line x1=\"0\" x2=\"0\" y1=\"0\" y2=\"28.804347826086968\" style=\"display: inline; stroke: rgb(0, 0, 0);\"/><rect x=\"-5\" y=\"-5\" width=\"10\" style=\"fill: none; visibility: hidden; pointer-events: all;\" height=\"33.80434782608697\"/></g><g class=\"node\" transform=\"translate(309,61.641304347826086)\"><title>Mary</title><text dy=\".35em\" text-anchor=\"start\" transform=\"translate(4,7.201086956521738)\" style=\"display: inline;\">Mary</text><line x1=\"0\" x2=\"0\" y1=\"0\" y2=\"14.402173913043477\" style=\"display: inline; stroke: rgb(0, 0, 0);\"/><rect x=\"-5\" y=\"-5\" width=\"10\" style=\"fill: none; visibility: hidden; pointer-events: all;\" height=\"19.402173913043477\"/></g><g class=\"node\" transform=\"translate(0,26.5)\"><title>farm1</title><text dy=\".35em\" text-anchor=\"end\" transform=\"translate(-4,11.521739130434781)\" style=\"display: inline;\">farm1</text><line x1=\"0\" x2=\"0\" y1=\"0\" y2=\"23.043478260869563\" style=\"display: inline; stroke: rgb(0, 0, 0);\"/><rect x=\"-5\" y=\"-5\" width=\"10\" style=\"fill: none; visibility: hidden; pointer-events: all;\" height=\"28.043478260869563\"/></g><g class=\"node\" transform=\"translate(0,76.04347826086956)\"><title>farm2</title><text dy=\".35em\" text-anchor=\"end\" transform=\"translate(-4,36.00543478260869)\" style=\"display: inline;\">farm2</text><line x1=\"0\" x2=\"0\" y1=\"0\" y2=\"72.01086956521738\" style=\"display: inline; stroke: rgb(0, 0, 0);\"/><rect x=\"-5\" y=\"-5\" width=\"10\" style=\"fill: none; visibility: hidden; pointer-events: all;\" height=\"77.01086956521738\"/></g><g class=\"node\" transform=\"translate(0,229.85869565217388)\"><title>other</title><text dy=\".35em\" text-anchor=\"end\" transform=\"translate(-4,4.320652173913047)\" style=\"display: inline;\">other</text><line x1=\"0\" x2=\"0\" y1=\"0\" y2=\"8.641304347826093\" style=\"display: inline; stroke: rgb(0, 0, 0);\"/><rect x=\"-5\" y=\"-5\" width=\"10\" style=\"fill: none; visibility: hidden; pointer-events: all;\" height=\"13.641304347826093\"/></g><g class=\"node\" transform=\"translate(309,102.54347826086956)\"><title>Fred</title><text dy=\".35em\" text-anchor=\"start\" transform=\"translate(4,28.804347826086953)\" style=\"display: inline;\">Fred</text><line x1=\"0\" x2=\"0\" y1=\"0\" y2=\"57.60869565217391\" style=\"display: inline; stroke: rgb(0, 0, 0);\"/><rect x=\"-5\" y=\"-5\" width=\"10\" style=\"fill: none; visibility: hidden; pointer-events: all;\" height=\"62.60869565217391\"/></g><g class=\"node\" transform=\"translate(309,26.5)\"><title>James</title><text dy=\".35em\" text-anchor=\"start\" transform=\"translate(4,4.320652173913043)\" style=\"display: inline;\">James</text><line x1=\"0\" x2=\"0\" y1=\"0\" y2=\"8.641304347826086\" style=\"display: inline; stroke: rgb(0, 0, 0);\"/><rect x=\"-5\" y=\"-5\" width=\"10\" style=\"fill: none; visibility: hidden; pointer-events: all;\" height=\"13.641304347826086\"/></g><g class=\"node\" transform=\"translate(309,186.65217391304347)\"><title>Susan</title><text dy=\".35em\" text-anchor=\"start\" transform=\"translate(4,25.923913043478265)\" style=\"display: inline;\">Susan</text><line x1=\"0\" x2=\"0\" y1=\"0\" y2=\"51.84782608695653\" style=\"display: inline; stroke: rgb(0, 0, 0);\"/><rect x=\"-5\" y=\"-5\" width=\"10\" style=\"fill: none; visibility: hidden; pointer-events: all;\" height=\"56.84782608695653\"/></g></g><g class=\"slice-titles\"/></g></svg>"
      }
     },
     "09cee9f681fd4c79adf1d67d9ff15c13": {
      "model_module": "jupyter-sankey-widget",
      "model_module_version": "^0.2.3",
      "model_name": "SankeyModel",
      "state": {
       "_model_module_version": "^0.2.3",
       "_view_module_version": "^0.2.3",
       "groups": [
        {
         "id": "farms",
         "nodes": [
          "farms^farm1",
          "farms^farm2",
          "farms^farm3",
          "farms^other"
         ],
         "rect": {
          "bottom": 238.49999999999997,
          "left": 0,
          "right": 1,
          "top": 26.5
         },
         "title": "",
         "type": "process"
        },
        {
         "id": "customers",
         "nodes": [
          "customers^Men",
          "customers^Women"
         ],
         "rect": {
          "bottom": 238.5,
          "left": 309,
          "right": 310,
          "top": 26.5
         },
         "title": "",
         "type": "process"
        }
       ],
       "layout": "IPY_MODEL_156686a6c318402a949a99638d1055e3",
       "links": [
        {
         "color": "yellowgreen",
         "opacity": 1,
         "source": "farms^farm1",
         "target": "customers^Men",
         "time": "*",
         "title": "apples",
         "type": "apples",
         "value": 3
        },
        {
         "color": "yellowgreen",
         "opacity": 1,
         "source": "farms^farm1",
         "target": "customers^Women",
         "time": "*",
         "title": "apples",
         "type": "apples",
         "value": 5
        },
        {
         "color": "yellowgreen",
         "opacity": 1,
         "source": "farms^farm3",
         "target": "customers^Women",
         "time": "*",
         "title": "apples",
         "type": "apples",
         "value": 10
        },
        {
         "color": "yellowgreen",
         "opacity": 1,
         "source": "farms^farm2",
         "target": "customers^Men",
         "time": "*",
         "title": "apples",
         "type": "apples",
         "value": 10
        },
        {
         "color": "gold",
         "opacity": 1,
         "source": "farms^farm2",
         "target": "customers^Men",
         "time": "*",
         "title": "bananas",
         "type": "bananas",
         "value": 10
        },
        {
         "color": "gold",
         "opacity": 1,
         "source": "farms^farm2",
         "target": "customers^Women",
         "time": "*",
         "title": "bananas",
         "type": "bananas",
         "value": 5
        },
        {
         "color": "gold",
         "opacity": 1,
         "source": "farms^other",
         "target": "customers^Women",
         "time": "*",
         "title": "bananas",
         "type": "bananas",
         "value": 3
        }
       ],
       "margins": {
        "bottom": 10,
        "left": 130,
        "right": 130,
        "top": 25
       },
       "nodes": [
        {
         "id": "farms^farm1",
         "style": {
          "direction": "r",
          "hidden": false,
          "type": "process"
         },
         "title": "farm1"
        },
        {
         "id": "farms^farm3",
         "style": {
          "direction": "r",
          "hidden": false,
          "type": "process"
         },
         "title": "farm3"
        },
        {
         "id": "farms^farm2",
         "style": {
          "direction": "r",
          "hidden": false,
          "type": "process"
         },
         "title": "farm2"
        },
        {
         "id": "customers^Men",
         "style": {
          "direction": "r",
          "hidden": false,
          "type": "process"
         },
         "title": "Men"
        },
        {
         "id": "farms^other",
         "style": {
          "direction": "r",
          "hidden": false,
          "type": "process"
         },
         "title": "other"
        },
        {
         "id": "customers^Women",
         "style": {
          "direction": "r",
          "hidden": false,
          "type": "process"
         },
         "title": "Women"
        }
       ],
       "order": [
        [
         [
          "farms^farm1",
          "farms^farm2",
          "farms^farm3",
          "farms^other"
         ]
        ],
        [
         [
          "customers^Men",
          "customers^Women"
         ]
        ]
       ],
       "png": "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",
       "scale": 2.880434782608696,
       "svg": "<?xml version=\"1.0\" standalone=\"no\"?><!DOCTYPE svg PUBLIC \"-//W3C//DTD SVG 1.1//EN\" \"http://www.w3.org/Graphics/SVG/1.1/DTD/svg11.dtd\"><svg xmlns=\"http://www.w3.org/2000/svg\" width=\"570\" height=\"300\" viewBox=\"0 0 570 300\"><g class=\"sankey\" transform=\"translate(130,25)\"><g class=\"groups\"><g class=\"group\" style=\"display: none;\" transform=\"translate(0,26.5)\"><rect x=\"-10\" y=\"-20\" width=\"21\" height=\"241.99999999999997\" style=\"fill: rgb(238, 238, 238); stroke: rgb(187, 187, 187); stroke-width: 0.5;\"/><text x=\"-10\" y=\"-25\" style=\"fill: rgb(153, 153, 153);\"/></g><g class=\"group\" style=\"display: none;\" transform=\"translate(309,26.5)\"><rect x=\"-10\" y=\"-20\" width=\"21\" height=\"242\" style=\"fill: rgb(238, 238, 238); stroke: rgb(187, 187, 187); stroke-width: 0.5;\"/><text x=\"-10\" y=\"-25\" style=\"fill: rgb(153, 153, 153);\"/></g></g><g class=\"links\"><g class=\"link\" style=\"opacity: 0.8;\"><path d=\"M1,26.5 A0 0 0 0 0 1,26.5 L309,26.5 A0 0 0 0 0 309,26.5 L309,35.141304347826086 A0 0 0 0 0 309,35.141304347826086 L1,35.141304347826086 A0 0 0 0 0 1,35.141304347826086 Z\" style=\"fill: rgb(154, 205, 50);\"/><title>farm1 → Men\napples\n3.00</title></g><g class=\"link\" style=\"opacity: 0.8;\"><path d=\"M1,229.85869565217388 A0 0 0 0 1 1,229.85869565217388 L309,229.8586956521739 A0 0 0 0 0 309,229.8586956521739 L309,238.49999999999997 A0 0 0 0 1 309,238.49999999999997 L1,238.49999999999994 A0 0 0 0 0 1,238.49999999999994 Z\" style=\"fill: rgb(255, 215, 0);\"/><title>other → Women\nbananas\n3.00</title></g><g class=\"link\" style=\"opacity: 0.8;\"><path d=\"M1,35.141304347826086 A131.55074313564637 131.55074313564637 0.5144467791165561 0 1 65.72997853773688,52.16856562038496 L251.35665880133752,157.08688310446954 A117.14856922260289 117.14856922260289 0.5144467791165561 0 0 309,172.25 L309,186.6521739130435 A131.55074313564637 131.55074313564637 0.5144467791165561 0 1 244.27002146226312,169.6249126404846 L58.64334119866247,64.70659515640004 A117.14856922260289 117.14856922260289 0.5144467791165561 0 0 1,49.54347826086957 Z\" style=\"fill: rgb(154, 205, 50);\"/><title>farm1 → Women\napples\n5.00</title></g><g class=\"link\" style=\"opacity: 0.8;\"><path d=\"M1,133.65217391304347 A283.63410582444624 283.63410582444624 0.20886468334819597 0 1 59.811359096658734,139.8164074485563 L253.17492289263342,180.80094350936847 A269.23193191140274 269.23193191140274 0.20886468334819597 0 0 309,186.65217391304347 L309,201.05434782608697 A283.63410582444624 283.63410582444624 0.20886468334819597 0 1 250.18864090334128,194.89011429057413 L56.82507710736657,153.90557822976197 A269.23193191140274 269.23193191140274 0.20886468334819597 0 0 1,148.05434782608697 Z\" style=\"fill: rgb(255, 215, 0);\"/><title>farm2 → Women\nbananas\n5.00</title></g><g class=\"link\" style=\"opacity: 0.8;\"><path d=\"M1,174.55434782608694 A555.3432116488925 555.3432116488925 0.10516279089720904 0 1 59.293855890446,177.62234810846292 L253.72970947592748,198.1454775112885 A526.5388638228055 526.5388638228055 0.10516279089720904 0 0 309,201.05434782608694 L309,229.85869565217388 A555.3432116488925 555.3432116488925 0.10516279089720904 0 1 250.706144109554,226.7906953697979 L56.270290524072536,206.2675659669723 A526.5388638228055 526.5388638228055 0.10516279089720904 0 0 1,203.35869565217388 Z\" style=\"fill: rgb(154, 205, 50);\"/><title>farm3 → Women\napples\n10.0</title></g><g class=\"link\" style=\"opacity: 0.8;\"><path d=\"M1,76.04347826086956 A339.6266414112236 339.6266414112236 0.16376150249127308 0 0 56.369510894863616,71.49962187378213 L244.23851299779167,40.45590604100381 A397.23533706339776 397.23533706339776 0.16376150249127308 0 1 309,35.141304347826086 L309,63.94565217391304 A368.43098923731077 368.43098923731077 0.16376150249127308 0 0 248.93450105146403,68.87488121404563 L61.065498948535954,99.91859704682395 A368.4309892373106 368.4309892373106 0.16376150249127308 0 1 1,104.84782608695653 Z\" style=\"fill: rgb(154, 205, 50);\"/><title>farm2 → Men\napples\n10.0</title></g><g class=\"link\" style=\"opacity: 0.8;\"><path d=\"M1,104.84782608695652 A368.4309892373106 368.4309892373106 0.16376150249127308 0 0 61.065498948535954,99.91859704682395 L248.93450105146403,68.87488121404563 A368.43098923731077 368.43098923731077 0.16376150249127308 0 1 309,63.945652173913054 L309,92.75000000000001 A339.6266414112238 339.6266414112238 0.16376150249127308 0 0 253.63048910513638,97.29385638708744 L65.76148700220828,128.33757221986576 A397.2353370633976 397.2353370633976 0.16376150249127308 0 1 1,133.65217391304347 Z\" style=\"fill: rgb(255, 215, 0);\"/><title>farm2 → Men\nbananas\n10.0</title></g></g><g class=\"nodes\"><g class=\"node\" transform=\"translate(0,26.5)\"><title>farm1</title><text dy=\".35em\" text-anchor=\"end\" transform=\"translate(-4,11.521739130434781)\" style=\"display: inline;\">farm1</text><line x1=\"0\" x2=\"0\" y1=\"0\" y2=\"23.043478260869563\" style=\"display: inline; stroke: rgb(0, 0, 0);\"/><rect x=\"-5\" y=\"-5\" width=\"10\" style=\"fill: none; visibility: hidden; pointer-events: all;\" height=\"28.043478260869563\"/></g><g class=\"node\" transform=\"translate(0,174.55434782608694)\"><title>farm3</title><text dy=\".35em\" text-anchor=\"end\" transform=\"translate(-4,14.402173913043484)\" style=\"display: inline;\">farm3</text><line x1=\"0\" x2=\"0\" y1=\"0\" y2=\"28.804347826086968\" style=\"display: inline; stroke: rgb(0, 0, 0);\"/><rect x=\"-5\" y=\"-5\" width=\"10\" style=\"fill: none; visibility: hidden; pointer-events: all;\" height=\"33.80434782608697\"/></g><g class=\"node\" transform=\"translate(0,76.04347826086956)\"><title>farm2</title><text dy=\".35em\" text-anchor=\"end\" transform=\"translate(-4,36.00543478260869)\" style=\"display: inline;\">farm2</text><line x1=\"0\" x2=\"0\" y1=\"0\" y2=\"72.01086956521738\" style=\"display: inline; stroke: rgb(0, 0, 0);\"/><rect x=\"-5\" y=\"-5\" width=\"10\" style=\"fill: none; visibility: hidden; pointer-events: all;\" height=\"77.01086956521738\"/></g><g class=\"node\" transform=\"translate(309,26.5)\"><title>Men</title><text dy=\".35em\" text-anchor=\"start\" transform=\"translate(4,33.125)\" style=\"display: inline;\">Men</text><line x1=\"0\" x2=\"0\" y1=\"0\" y2=\"66.25\" style=\"display: inline; stroke: rgb(0, 0, 0);\"/><rect x=\"-5\" y=\"-5\" width=\"10\" style=\"fill: none; visibility: hidden; pointer-events: all;\" height=\"71.25\"/></g><g class=\"node\" transform=\"translate(0,229.85869565217388)\"><title>other</title><text dy=\".35em\" text-anchor=\"end\" transform=\"translate(-4,4.320652173913047)\" style=\"display: inline;\">other</text><line x1=\"0\" x2=\"0\" y1=\"0\" y2=\"8.641304347826093\" style=\"display: inline; stroke: rgb(0, 0, 0);\"/><rect x=\"-5\" y=\"-5\" width=\"10\" style=\"fill: none; visibility: hidden; pointer-events: all;\" height=\"13.641304347826093\"/></g><g class=\"node\" transform=\"translate(309,172.25)\"><title>Women</title><text dy=\".35em\" text-anchor=\"start\" transform=\"translate(4,33.125)\" style=\"display: inline;\">Women</text><line x1=\"0\" x2=\"0\" y1=\"0\" y2=\"66.25\" style=\"display: inline; stroke: rgb(0, 0, 0);\"/><rect x=\"-5\" y=\"-5\" width=\"10\" style=\"fill: none; visibility: hidden; pointer-events: all;\" height=\"71.25\"/></g></g><g class=\"slice-titles\"/></g></svg>"
      }
     },
     "12cb840d46094c85a5954665f1add06c": {
      "model_module": "jupyter-sankey-widget",
      "model_module_version": "^0.2.3",
      "model_name": "SankeyModel",
      "state": {
       "_model_module_version": "^0.2.3",
       "_view_module_version": "^0.2.3",
       "groups": [
        {
         "id": "farms",
         "nodes": [
          "farms^farm1",
          "farms^farm2",
          "farms^farm3",
          "farms^other"
         ],
         "rect": {
          "bottom": 238.49999999999997,
          "left": 0,
          "right": 1,
          "top": 26.5
         },
         "title": "",
         "type": "process"
        },
        {
         "id": "customers",
         "nodes": [
          "customers^Men",
          "customers^Women"
         ],
         "rect": {
          "bottom": 238.5,
          "left": 309,
          "right": 310,
          "top": 26.5
         },
         "title": "",
         "type": "process"
        }
       ],
       "layout": "IPY_MODEL_52f1e2130c904500a85adc9b140cb88a",
       "links": [
        {
         "color": "yellowgreen",
         "opacity": 1,
         "source": "farms^farm1",
         "target": "waypoint^*",
         "time": "*",
         "title": "apples",
         "type": "apples",
         "value": 8
        },
        {
         "color": "yellowgreen",
         "opacity": 1,
         "source": "farms^farm3",
         "target": "waypoint^*",
         "time": "*",
         "title": "apples",
         "type": "apples",
         "value": 10
        },
        {
         "color": "yellowgreen",
         "opacity": 1,
         "source": "farms^farm2",
         "target": "waypoint^*",
         "time": "*",
         "title": "apples",
         "type": "apples",
         "value": 10
        },
        {
         "color": "gold",
         "opacity": 1,
         "source": "farms^farm2",
         "target": "waypoint^*",
         "time": "*",
         "title": "bananas",
         "type": "bananas",
         "value": 15
        },
        {
         "color": "gold",
         "opacity": 1,
         "source": "farms^other",
         "target": "waypoint^*",
         "time": "*",
         "title": "bananas",
         "type": "bananas",
         "value": 3
        },
        {
         "color": "yellowgreen",
         "opacity": 1,
         "source": "waypoint^*",
         "target": "customers^Men",
         "time": "*",
         "title": "apples",
         "type": "apples",
         "value": 13
        },
        {
         "color": "gold",
         "opacity": 1,
         "source": "waypoint^*",
         "target": "customers^Men",
         "time": "*",
         "title": "bananas",
         "type": "bananas",
         "value": 10
        },
        {
         "color": "yellowgreen",
         "opacity": 1,
         "source": "waypoint^*",
         "target": "customers^Women",
         "time": "*",
         "title": "apples",
         "type": "apples",
         "value": 15
        },
        {
         "color": "gold",
         "opacity": 1,
         "source": "waypoint^*",
         "target": "customers^Women",
         "time": "*",
         "title": "bananas",
         "type": "bananas",
         "value": 8
        }
       ],
       "margins": {
        "bottom": 10,
        "left": 130,
        "right": 130,
        "top": 25
       },
       "nodes": [
        {
         "id": "farms^farm1",
         "style": {
          "direction": "r",
          "hidden": false,
          "type": "process"
         },
         "title": "farm1"
        },
        {
         "id": "farms^farm3",
         "style": {
          "direction": "r",
          "hidden": false,
          "type": "process"
         },
         "title": "farm3"
        },
        {
         "id": "farms^farm2",
         "style": {
          "direction": "r",
          "hidden": false,
          "type": "process"
         },
         "title": "farm2"
        },
        {
         "id": "customers^Men",
         "style": {
          "direction": "r",
          "hidden": false,
          "type": "process"
         },
         "title": "Men"
        },
        {
         "id": "farms^other",
         "style": {
          "direction": "r",
          "hidden": false,
          "type": "process"
         },
         "title": "other"
        },
        {
         "id": "waypoint^*",
         "style": {
          "direction": "r",
          "hidden": false,
          "type": "group"
         },
         "title": "waypoint"
        },
        {
         "id": "customers^Women",
         "style": {
          "direction": "r",
          "hidden": false,
          "type": "process"
         },
         "title": "Women"
        }
       ],
       "order": [
        [
         [
          "farms^farm1",
          "farms^farm2",
          "farms^farm3",
          "farms^other"
         ]
        ],
        [
         [
          "waypoint^*"
         ]
        ],
        [
         [
          "customers^Men",
          "customers^Women"
         ]
        ]
       ],
       "png": "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",
       "scale": 2.880434782608696,
       "svg": "<?xml version=\"1.0\" standalone=\"no\"?><!DOCTYPE svg PUBLIC \"-//W3C//DTD SVG 1.1//EN\" \"http://www.w3.org/Graphics/SVG/1.1/DTD/svg11.dtd\"><svg xmlns=\"http://www.w3.org/2000/svg\" width=\"570\" height=\"300\" viewBox=\"0 0 570 300\"><g class=\"sankey\" transform=\"translate(130,25)\"><g class=\"groups\"><g class=\"group\" style=\"display: none;\" transform=\"translate(0,26.5)\"><rect x=\"-10\" y=\"-20\" width=\"21\" height=\"241.99999999999997\" style=\"fill: rgb(238, 238, 238); stroke: rgb(187, 187, 187); stroke-width: 0.5;\"/><text x=\"-10\" y=\"-25\" style=\"fill: rgb(153, 153, 153);\"/></g><g class=\"group\" style=\"display: none;\" transform=\"translate(309,26.5)\"><rect x=\"-10\" y=\"-20\" width=\"21\" height=\"242\" style=\"fill: rgb(238, 238, 238); stroke: rgb(187, 187, 187); stroke-width: 0.5;\"/><text x=\"-10\" y=\"-25\" style=\"fill: rgb(153, 153, 153);\"/></g></g><g class=\"links\"><g class=\"link\" style=\"opacity: 0.8;\"><path d=\"M1,229.85869565217388 A90.55599876948322 90.55599876948322 0.3107336164759398 0 0 28.688148797930932,225.52192518637173 L124.1697101640151,194.85930235180805 A99.19730311730932 99.19730311730932 0.3107336164759398 0 1 154.5,190.1086956521739 L154.5,198.74999999999997 A90.55599876948322 90.55599876948322 0.3107336164759398 0 0 126.81185120206908,203.08677046580212 L31.330289835984896,233.7493933003658 A99.19730311730932 99.19730311730932 0.3107336164759398 0 1 1,238.49999999999994 Z\" style=\"fill: rgb(255, 215, 0);\"/><title>other → waypoint\nbananas\n3.00</title></g><g class=\"link\" style=\"opacity: 0.8;\"><path d=\"M1,26.5 A106.39839007383101 106.39839007383101 0.31073361647594 0 1 33.53207403436321,31.595470227827487 L129.01363540044738,62.258093062391225 A83.35491181296145 83.35491181296145 0.31073361647594 0 0 154.5,66.25 L154.5,89.29347826086956 A106.39839007383101 106.39839007383101 0.31073361647594 0 1 121.9679259656368,84.19800803304207 L26.486364599552626,53.53538519847834 A83.35491181296145 83.35491181296145 0.31073361647594 0 0 1,49.54347826086956 Z\" style=\"fill: rgb(154, 205, 50);\"/><title>farm1 → waypoint\napples\n8.00</title></g><g class=\"link\" style=\"opacity: 0.8;\"><path d=\"M155.5,175.70652173913044 A106.398390073831 106.398390073831 0.32872781251657024 0 1 189.8495736081693,181.40374894360795 L271.39571574423235,209.21946757040234 A116.47991181296146 116.47991181296146 0.32872781251657024 0 0 309,215.45652173913044 L309,238.5 A139.52339007383102 139.52339007383102 0.32872781251657024 0 1 263.95637712115047,231.02905562727057 L182.41023498508736,203.21333700047617 A83.35491181296143 83.35491181296143 0.32872781251657024 0 0 155.5,198.75 Z\" style=\"fill: rgb(255, 215, 0);\"/><title>waypoint → Women\nbananas\n8.00</title></g><g class=\"link\" style=\"opacity: 0.8;\"><path d=\"M1,174.55434782608694 A254.3277789171452 254.3277789171452 0.10550372623542836 0 0 27.78277708386732,173.1401944426487 L124.68389155863441,162.87866368217925 A283.13212674323216 283.13212674323216 0.10550372623542836 0 1 154.5,161.30434782608694 L154.5,190.10869565217388 A254.3277789171452 254.3277789171452 0.10550372623542836 0 0 127.71722291613268,191.52284903561213 L30.816108441365596,201.78437979608157 A283.13212674323216 283.13212674323216 0.10550372623542836 0 1 1,203.35869565217388 Z\" style=\"fill: rgb(154, 205, 50);\"/><title>farm3 → waypoint\napples\n10.0</title></g><g class=\"link\" style=\"opacity: 0.8;\"><path d=\"M1,76.04347826086956 A319.1375615258406 319.1375615258406 0.10765565203673644 0 1 35.29063601570423,77.89105340469686 L127.17303399250866,87.82110477883407 A254.32777891714514 254.32777891714514 0.10765565203673644 0 0 154.5,89.29347826086956 L154.5,118.09782608695653 A283.1321267432321 283.1321267432321 0.10765565203673644 0 1 124.07806954441403,116.45869631079134 L32.1956715676096,106.52864493665413 A290.3332136997536 290.3332136997536 0.10765565203673644 0 0 1,104.84782608695653 Z\" style=\"fill: rgb(154, 205, 50);\"/><title>farm2 → waypoint\napples\n10.0</title></g><g class=\"link\" style=\"opacity: 0.8;\"><path d=\"M155.5,103.69565217391305 A113.5994770303527 113.5994770303527 0.32872781251657024 0 0 192.17436692788237,97.61283428068514 L273.7205090639455,69.79711565389073 A109.27882485643971 109.27882485643971 0.32872781251657024 0 1 309,63.945652173913054 L309,92.75000000000001 A80.47447703035274 80.47447703035274 0.32872781251657024 0 0 283.0196823427979,97.05910072497602 L201.4735402067348,124.87481935177043 A142.40382485643966 142.40382485643966 0.32872781251657024 0 1 155.5,132.5 Z\" style=\"fill: rgb(255, 215, 0);\"/><title>waypoint → Men\nbananas\n10.0</title></g><g class=\"link\" style=\"opacity: 0.8;\"><path d=\"M155.5,66.25 A76.15382485643966 76.15382485643966 0.32872781251657024 0 0 180.08544166537422,62.17225368827424 L261.63158380143733,34.35653506147983 A146.72447703035277 146.72447703035277 0.32872781251657024 0 1 309,26.5 L309,63.94565217391305 A109.27882485643971 109.27882485643971 0.32872781251657024 0 0 273.7205090639455,69.79711565389071 L192.17436692788237,97.61283428068514 A113.59947703035272 113.59947703035272 0.32872781251657024 0 1 155.5,103.69565217391306 Z\" style=\"fill: rgb(154, 205, 50);\"/><title>waypoint → Men\napples\n13.0</title></g><g class=\"link\" style=\"opacity: 0.8;\"><path d=\"M1,104.84782608695652 A290.3332136997536 290.3332136997536 0.10765565203673644 0 1 32.195671567609594,106.5286449366541 L124.07806954441403,116.45869631079134 A283.1321267432321 283.1321267432321 0.10765565203673644 0 0 154.5,118.09782608695653 L154.5,161.30434782608697 A326.3386484823626 326.3386484823626 0.10765565203673644 0 1 119.43562287227209,159.41508360872726 L27.55322489546765,149.48503223459002 A247.12669196062316 247.12669196062316 0.10765565203673644 0 0 1,148.05434782608694 Z\" style=\"fill: rgb(255, 215, 0);\"/><title>farm2 → waypoint\nbananas\n15.0</title></g><g class=\"link\" style=\"opacity: 0.8;\"><path d=\"M155.5,132.5 A149.60491181296143 149.60491181296143 0.32872781251657024 0 1 203.7983335264479,140.51077133697999 L285.344475662511,168.3264899637744 A73.27339007383101 73.27339007383101 0.32872781251657024 0 0 309,172.25 L309,215.45652173913044 A116.47991181296145 116.47991181296145 0.32872781251657024 0 1 271.3957157442324,209.21946757040234 L189.8495736081693,181.40374894360792 A106.398390073831 106.398390073831 0.32872781251657024 0 0 155.5,175.70652173913044 Z\" style=\"fill: rgb(154, 205, 50);\"/><title>waypoint → Women\napples\n15.0</title></g></g><g class=\"nodes\"><g class=\"node\" transform=\"translate(0,26.5)\"><title>farm1</title><text dy=\".35em\" text-anchor=\"end\" transform=\"translate(-4,11.521739130434781)\" style=\"display: inline;\">farm1</text><line x1=\"0\" x2=\"0\" y1=\"0\" y2=\"23.043478260869563\" style=\"display: inline; stroke: rgb(0, 0, 0);\"/><rect x=\"-5\" y=\"-5\" width=\"10\" style=\"fill: none; visibility: hidden; pointer-events: all;\" height=\"28.043478260869563\"/></g><g class=\"node\" transform=\"translate(0,174.55434782608694)\"><title>farm3</title><text dy=\".35em\" text-anchor=\"end\" transform=\"translate(-4,14.402173913043484)\" style=\"display: inline;\">farm3</text><line x1=\"0\" x2=\"0\" y1=\"0\" y2=\"28.804347826086968\" style=\"display: inline; stroke: rgb(0, 0, 0);\"/><rect x=\"-5\" y=\"-5\" width=\"10\" style=\"fill: none; visibility: hidden; pointer-events: all;\" height=\"33.80434782608697\"/></g><g class=\"node\" transform=\"translate(0,76.04347826086956)\"><title>farm2</title><text dy=\".35em\" text-anchor=\"end\" transform=\"translate(-4,36.00543478260869)\" style=\"display: inline;\">farm2</text><line x1=\"0\" x2=\"0\" y1=\"0\" y2=\"72.01086956521738\" style=\"display: inline; stroke: rgb(0, 0, 0);\"/><rect x=\"-5\" y=\"-5\" width=\"10\" style=\"fill: none; visibility: hidden; pointer-events: all;\" height=\"77.01086956521738\"/></g><g class=\"node\" transform=\"translate(309,26.5)\"><title>Men</title><text dy=\".35em\" text-anchor=\"start\" transform=\"translate(4,33.125)\" style=\"display: inline;\">Men</text><line x1=\"0\" x2=\"0\" y1=\"0\" y2=\"66.25\" style=\"display: inline; stroke: rgb(0, 0, 0);\"/><rect x=\"-5\" y=\"-5\" width=\"10\" style=\"fill: none; visibility: hidden; pointer-events: all;\" height=\"71.25\"/></g><g class=\"node\" transform=\"translate(0,229.85869565217388)\"><title>other</title><text dy=\".35em\" text-anchor=\"end\" transform=\"translate(-4,4.320652173913047)\" style=\"display: inline;\">other</text><line x1=\"0\" x2=\"0\" y1=\"0\" y2=\"8.641304347826093\" style=\"display: inline; stroke: rgb(0, 0, 0);\"/><rect x=\"-5\" y=\"-5\" width=\"10\" style=\"fill: none; visibility: hidden; pointer-events: all;\" height=\"13.641304347826093\"/></g><g class=\"node\" transform=\"translate(154.5,66.25)\"><title>waypoint</title><text dy=\".35em\" text-anchor=\"start\" transform=\"translate(-4,-10)\" style=\"display: inline;\">waypoint</text><line x1=\"0\" x2=\"0\" y1=\"-5\" y2=\"132.5\" style=\"display: inline; stroke: rgb(0, 0, 0);\"/><rect x=\"-5\" y=\"-5\" width=\"10\" style=\"fill: none; visibility: hidden; pointer-events: all;\" height=\"137.5\"/></g><g class=\"node\" transform=\"translate(309,172.25)\"><title>Women</title><text dy=\".35em\" text-anchor=\"start\" transform=\"translate(4,33.125)\" style=\"display: inline;\">Women</text><line x1=\"0\" x2=\"0\" y1=\"0\" y2=\"66.25\" style=\"display: inline; stroke: rgb(0, 0, 0);\"/><rect x=\"-5\" y=\"-5\" width=\"10\" style=\"fill: none; visibility: hidden; pointer-events: all;\" height=\"71.25\"/></g></g><g class=\"slice-titles\"/></g></svg>"
      }
     },
     "156686a6c318402a949a99638d1055e3": {
      "model_module": "@jupyter-widgets/base",
      "model_module_version": "1.0.0",
      "model_name": "LayoutModel",
      "state": {
       "height": "300",
       "width": "570"
      }
     },
     "4b8c2080f9a448aeacca2bc47aa23989": {
      "model_module": "jupyter-sankey-widget",
      "model_module_version": "^0.2.3",
      "model_name": "SankeyModel",
      "state": {
       "_model_module_version": "^0.2.3",
       "_view_module_version": "^0.2.3",
       "groups": [
        {
         "id": "farms",
         "nodes": [
          "farms^farm1",
          "farms^farm2",
          "farms^farm3",
          "farms^other"
         ],
         "rect": {
          "bottom": 238.49999999999997,
          "left": 0,
          "right": 1,
          "top": 26.5
         },
         "title": "",
         "type": "process"
        },
        {
         "id": "customers",
         "nodes": [
          "customers^Men",
          "customers^Women"
         ],
         "rect": {
          "bottom": 238.5,
          "left": 309,
          "right": 310,
          "top": 26.5
         },
         "title": "",
         "type": "process"
        }
       ],
       "layout": "IPY_MODEL_76d03ad6ba044b988b8688daa6ce8f20",
       "links": [
        {
         "color": "#FBB4AE",
         "opacity": 1,
         "source": "farms^farm1",
         "target": "customers^Men",
         "time": "*",
         "title": "*",
         "type": "*",
         "value": 3
        },
        {
         "color": "#FBB4AE",
         "opacity": 1,
         "source": "farms^farm1",
         "target": "customers^Women",
         "time": "*",
         "title": "*",
         "type": "*",
         "value": 5
        },
        {
         "color": "#FBB4AE",
         "opacity": 1,
         "source": "farms^farm3",
         "target": "customers^Women",
         "time": "*",
         "title": "*",
         "type": "*",
         "value": 10
        },
        {
         "color": "#FBB4AE",
         "opacity": 1,
         "source": "farms^farm2",
         "target": "customers^Men",
         "time": "*",
         "title": "*",
         "type": "*",
         "value": 20
        },
        {
         "color": "#FBB4AE",
         "opacity": 1,
         "source": "farms^farm2",
         "target": "customers^Women",
         "time": "*",
         "title": "*",
         "type": "*",
         "value": 5
        },
        {
         "color": "#FBB4AE",
         "opacity": 1,
         "source": "farms^other",
         "target": "customers^Women",
         "time": "*",
         "title": "*",
         "type": "*",
         "value": 3
        }
       ],
       "margins": {
        "bottom": 10,
        "left": 130,
        "right": 130,
        "top": 25
       },
       "nodes": [
        {
         "id": "farms^farm1",
         "style": {
          "direction": "r",
          "hidden": false,
          "type": "process"
         },
         "title": "farm1"
        },
        {
         "id": "farms^farm3",
         "style": {
          "direction": "r",
          "hidden": false,
          "type": "process"
         },
         "title": "farm3"
        },
        {
         "id": "farms^farm2",
         "style": {
          "direction": "r",
          "hidden": false,
          "type": "process"
         },
         "title": "farm2"
        },
        {
         "id": "customers^Men",
         "style": {
          "direction": "r",
          "hidden": false,
          "type": "process"
         },
         "title": "Men"
        },
        {
         "id": "farms^other",
         "style": {
          "direction": "r",
          "hidden": false,
          "type": "process"
         },
         "title": "other"
        },
        {
         "id": "customers^Women",
         "style": {
          "direction": "r",
          "hidden": false,
          "type": "process"
         },
         "title": "Women"
        }
       ],
       "order": [
        [
         [
          "farms^farm1",
          "farms^farm2",
          "farms^farm3",
          "farms^other"
         ]
        ],
        [
         [
          "customers^Men",
          "customers^Women"
         ]
        ]
       ],
       "png": "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",
       "scale": 2.880434782608696,
       "svg": "<?xml version=\"1.0\" standalone=\"no\"?><!DOCTYPE svg PUBLIC \"-//W3C//DTD SVG 1.1//EN\" \"http://www.w3.org/Graphics/SVG/1.1/DTD/svg11.dtd\"><svg xmlns=\"http://www.w3.org/2000/svg\" width=\"570\" height=\"300\" viewBox=\"0 0 570 300\"><g class=\"sankey\" transform=\"translate(130,25)\"><g class=\"groups\"><g class=\"group\" style=\"display: none;\" transform=\"translate(0,26.5)\"><rect x=\"-10\" y=\"-20\" width=\"21\" height=\"241.99999999999997\" style=\"fill: rgb(238, 238, 238); stroke: rgb(187, 187, 187); stroke-width: 0.5;\"/><text x=\"-10\" y=\"-25\" style=\"fill: rgb(153, 153, 153);\"/></g><g class=\"group\" style=\"display: none;\" transform=\"translate(309,26.5)\"><rect x=\"-10\" y=\"-20\" width=\"21\" height=\"242\" style=\"fill: rgb(238, 238, 238); stroke: rgb(187, 187, 187); stroke-width: 0.5;\"/><text x=\"-10\" y=\"-25\" style=\"fill: rgb(153, 153, 153);\"/></g></g><g class=\"links\"><g class=\"link\" style=\"opacity: 0.8;\"><path d=\"M1,26.5 A0 0 0 0 0 1,26.5 L309,26.5 A0 0 0 0 0 309,26.5 L309,35.141304347826086 A0 0 0 0 0 309,35.141304347826086 L1,35.141304347826086 A0 0 0 0 0 1,35.141304347826086 Z\" style=\"fill: rgb(251, 180, 174);\"/><title>farm1 → Men\n*\n3.00</title></g><g class=\"link\" style=\"opacity: 0.8;\"><path d=\"M1,229.85869565217388 A0 0 0 0 1 1,229.85869565217388 L309,229.8586956521739 A0 0 0 0 0 309,229.8586956521739 L309,238.49999999999997 A0 0 0 0 1 309,238.49999999999997 L1,238.49999999999994 A0 0 0 0 0 1,238.49999999999994 Z\" style=\"fill: rgb(251, 180, 174);\"/><title>other → Women\n*\n3.00</title></g><g class=\"link\" style=\"opacity: 0.8;\"><path d=\"M1,35.141304347826086 A131.55074313564637 131.55074313564637 0.5144467791165561 0 1 65.72997853773688,52.16856562038496 L251.35665880133752,157.08688310446954 A117.14856922260289 117.14856922260289 0.5144467791165561 0 0 309,172.25 L309,186.6521739130435 A131.55074313564637 131.55074313564637 0.5144467791165561 0 1 244.27002146226312,169.6249126404846 L58.64334119866247,64.70659515640004 A117.14856922260289 117.14856922260289 0.5144467791165561 0 0 1,49.54347826086957 Z\" style=\"fill: rgb(251, 180, 174);\"/><title>farm1 → Women\n*\n5.00</title></g><g class=\"link\" style=\"opacity: 0.8;\"><path d=\"M1,133.65217391304347 A283.63410582444624 283.63410582444624 0.20886468334819597 0 1 59.811359096658734,139.8164074485563 L253.17492289263342,180.80094350936847 A269.23193191140274 269.23193191140274 0.20886468334819597 0 0 309,186.65217391304347 L309,201.05434782608697 A283.63410582444624 283.63410582444624 0.20886468334819597 0 1 250.18864090334128,194.89011429057413 L56.82507710736657,153.90557822976197 A269.23193191140274 269.23193191140274 0.20886468334819597 0 0 1,148.05434782608697 Z\" style=\"fill: rgb(251, 180, 174);\"/><title>farm2 → Women\n*\n5.00</title></g><g class=\"link\" style=\"opacity: 0.8;\"><path d=\"M1,174.55434782608694 A555.3432116488925 555.3432116488925 0.10516279089720904 0 1 59.293855890446,177.62234810846292 L253.72970947592748,198.1454775112885 A526.5388638228055 526.5388638228055 0.10516279089720904 0 0 309,201.05434782608694 L309,229.85869565217388 A555.3432116488925 555.3432116488925 0.10516279089720904 0 1 250.706144109554,226.7906953697979 L56.270290524072536,206.2675659669723 A526.5388638228055 526.5388638228055 0.10516279089720904 0 0 1,203.35869565217388 Z\" style=\"fill: rgb(251, 180, 174);\"/><title>farm3 → Women\n*\n10.0</title></g><g class=\"link\" style=\"opacity: 0.8;\"><path d=\"M1,76.04347826086956 A325.22446749818033 325.22446749818033 0.16179340347433158 0 0 53.389904167358324,71.79603829084422 L247.3300005567818,40.141115375344015 A382.8331631503542 382.8331631503542 0.16179340347433158 0 1 309,35.14130434782609 L309,92.75 A325.22446749818033 325.22446749818033 0.16179340347433158 0 0 256.61009583264166,96.99743997002534 L62.66999944321819,128.65236288552555 A382.8331631503542 382.8331631503542 0.16179340347433158 0 1 1,133.65217391304347 Z\" style=\"fill: rgb(251, 180, 174);\"/><title>farm2 → Men\n*\n20.0</title></g></g><g class=\"nodes\"><g class=\"node\" transform=\"translate(0,26.5)\"><title>farm1</title><text dy=\".35em\" text-anchor=\"end\" transform=\"translate(-4,11.521739130434781)\" style=\"display: inline;\">farm1</text><line x1=\"0\" x2=\"0\" y1=\"0\" y2=\"23.043478260869563\" style=\"display: inline; stroke: rgb(0, 0, 0);\"/><rect x=\"-5\" y=\"-5\" width=\"10\" style=\"fill: none; visibility: hidden; pointer-events: all;\" height=\"28.043478260869563\"/></g><g class=\"node\" transform=\"translate(0,174.55434782608694)\"><title>farm3</title><text dy=\".35em\" text-anchor=\"end\" transform=\"translate(-4,14.402173913043484)\" style=\"display: inline;\">farm3</text><line x1=\"0\" x2=\"0\" y1=\"0\" y2=\"28.804347826086968\" style=\"display: inline; stroke: rgb(0, 0, 0);\"/><rect x=\"-5\" y=\"-5\" width=\"10\" style=\"fill: none; visibility: hidden; pointer-events: all;\" height=\"33.80434782608697\"/></g><g class=\"node\" transform=\"translate(0,76.04347826086956)\"><title>farm2</title><text dy=\".35em\" text-anchor=\"end\" transform=\"translate(-4,36.00543478260869)\" style=\"display: inline;\">farm2</text><line x1=\"0\" x2=\"0\" y1=\"0\" y2=\"72.01086956521738\" style=\"display: inline; stroke: rgb(0, 0, 0);\"/><rect x=\"-5\" y=\"-5\" width=\"10\" style=\"fill: none; visibility: hidden; pointer-events: all;\" height=\"77.01086956521738\"/></g><g class=\"node\" transform=\"translate(309,26.5)\"><title>Men</title><text dy=\".35em\" text-anchor=\"start\" transform=\"translate(4,33.125)\" style=\"display: inline;\">Men</text><line x1=\"0\" x2=\"0\" y1=\"0\" y2=\"66.25\" style=\"display: inline; stroke: rgb(0, 0, 0);\"/><rect x=\"-5\" y=\"-5\" width=\"10\" style=\"fill: none; visibility: hidden; pointer-events: all;\" height=\"71.25\"/></g><g class=\"node\" transform=\"translate(0,229.85869565217388)\"><title>other</title><text dy=\".35em\" text-anchor=\"end\" transform=\"translate(-4,4.320652173913047)\" style=\"display: inline;\">other</text><line x1=\"0\" x2=\"0\" y1=\"0\" y2=\"8.641304347826093\" style=\"display: inline; stroke: rgb(0, 0, 0);\"/><rect x=\"-5\" y=\"-5\" width=\"10\" style=\"fill: none; visibility: hidden; pointer-events: all;\" height=\"13.641304347826093\"/></g><g class=\"node\" transform=\"translate(309,172.25)\"><title>Women</title><text dy=\".35em\" text-anchor=\"start\" transform=\"translate(4,33.125)\" style=\"display: inline;\">Women</text><line x1=\"0\" x2=\"0\" y1=\"0\" y2=\"66.25\" style=\"display: inline; stroke: rgb(0, 0, 0);\"/><rect x=\"-5\" y=\"-5\" width=\"10\" style=\"fill: none; visibility: hidden; pointer-events: all;\" height=\"71.25\"/></g></g><g class=\"slice-titles\"/></g></svg>"
      }
     },
     "4eaa9f3ae21c46f1956bc1fb9dd22aca": {
      "model_module": "jupyter-sankey-widget",
      "model_module_version": "^0.2.3",
      "model_name": "SankeyModel",
      "state": {
       "_model_module_version": "^0.2.3",
       "_view_module_version": "^0.2.3",
       "layout": "IPY_MODEL_67c3a21cc1664e58a7bf3c642bfeac7b",
       "links": [
        {
         "source": "farm1",
         "target": "Mary",
         "type": "apples",
         "value": 5
        },
        {
         "source": "farm1",
         "target": "James",
         "type": "apples",
         "value": 3
        },
        {
         "source": "farm2",
         "target": "Fred",
         "type": "apples",
         "value": 10
        },
        {
         "source": "farm2",
         "target": "Fred",
         "type": "bananas",
         "value": 10
        },
        {
         "source": "farm2",
         "target": "Susan",
         "type": "bananas",
         "value": 5
        },
        {
         "source": "farm3",
         "target": "Susan",
         "type": "apples",
         "value": 10
        },
        {
         "source": "farm4",
         "target": "Susan",
         "type": "bananas",
         "value": 1
        },
        {
         "source": "farm5",
         "target": "Susan",
         "type": "bananas",
         "value": 1
        },
        {
         "source": "farm6",
         "target": "Susan",
         "type": "bananas",
         "value": 1
        }
       ],
       "nodes": [
        {
         "id": "farm2"
        },
        {
         "id": "farm3"
        },
        {
         "id": "farm1"
        },
        {
         "id": "farm4"
        },
        {
         "id": "farm6"
        },
        {
         "id": "James"
        },
        {
         "id": "Fred"
        },
        {
         "id": "farm5"
        },
        {
         "id": "Mary"
        },
        {
         "id": "Susan"
        }
       ],
       "order": [],
       "png": "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",
       "scale": 4.130434782608695,
       "svg": "<?xml version=\"1.0\" standalone=\"no\"?><!DOCTYPE svg PUBLIC \"-//W3C//DTD SVG 1.1//EN\" \"http://www.w3.org/Graphics/SVG/1.1/DTD/svg11.dtd\"><svg xmlns=\"http://www.w3.org/2000/svg\" width=\"600\" height=\"400\" viewBox=\"0 0 600 400\"><g class=\"sankey\" transform=\"translate(100,10)\"><g class=\"groups\"/><g class=\"links\"><g class=\"link\" style=\"opacity: 0.8;\"><path d=\"M1,228.16521739130434 A997.9347826086956 997.9347826086956 0.02010894152125209 0 0 21.066059771176423,227.96345698119475 L378.8508871549422,220.76781288425715 A1002.0652173913044 1002.0652173913044 0.02010894152125209 0 1 399,220.56521739130432 L399,224.695652173913 A997.9347826086956 997.9347826086956 0.02010894152125209 0 0 378.9339402288236,224.8974125840226 L21.149112845057775,232.0930566809602 A1002.0652173913044 1002.0652173913044 0.02010894152125209 0 1 1,232.29565217391303 Z\" style=\"fill: rgb(174, 199, 232);\"/><title>farm4 → Susan\nbananas\n1.00</title></g><g class=\"link\" style=\"opacity: 0.8;\"><path d=\"M1,255.09565217391307 A784.0934668192203 784.0934668192203 0.09340570439544305 0 0 74.1323521722411,251.67767733221027 L325.48240241515316,228.13163216776877 A788.2239016018291 788.2239016018291 0.09340570439544305 0 1 399,224.695652173913 L399,228.8260869565217 A784.0934668192203 784.0934668192203 0.09340570439544305 0 0 325.8676478277589,232.2440617982245 L74.51759758484681,255.790106962666 A788.2239016018291 788.2239016018291 0.09340570439544305 0 1 1,259.2260869565218 Z\" style=\"fill: rgb(174, 199, 232);\"/><title>farm5 → Susan\nbananas\n1.00</title></g><g class=\"link\" style=\"opacity: 0.8;\"><path d=\"M1,282.02608695652174 A452.5426021575673 452.5426021575673 0.16284038178196814 0 0 74.366959042529,276.03929999834713 L324.96340800340494,234.86751635713208 A456.673036940176 456.673036940176 0.16284038178196814 0 1 399,228.8260869565217 L399,232.95652173913038 A452.5426021575673 452.5426021575673 0.16284038178196814 0 0 325.633040957471,238.943308697305 L75.036591996595,280.11509233852007 A456.673036940176 456.673036940176 0.16284038178196814 0 1 1,286.1565217391305 Z\" style=\"fill: rgb(174, 199, 232);\"/><title>farm6 → Susan\nbananas\n1.00</title></g><g class=\"link\" style=\"opacity: 0.8;\"><path d=\"M1,308.95652173913044 A624.783295194508 624.783295194508 0.11663581569440629 0 0 73.70699730384612,304.71158837019584 L324.8510074655867,275.2856447170308 A637.174599542334 637.174599542334 0.11663581569440629 0 1 399,270.95652173913044 L399,283.34782608695656 A624.783295194508 624.783295194508 0.11663581569440629 0 0 326.29300269615385,287.59275945589116 L75.14899253441331,317.0187031090562 A637.174599542334 637.174599542334 0.11663581569440629 0 1 1,321.34782608695656 Z\" style=\"fill: rgb(31, 119, 180);\"/><title>farm1 → James\napples\n3.00</title></g><g class=\"link\" style=\"opacity: 0.8;\"><path d=\"M1,321.3478260869565 A0 0 0 0 0 1,321.3478260869565 L399,321.3478260869565 A0 0 0 0 0 399,321.3478260869565 L399,342 A0 0 0 0 0 399,342 L1,342 A0 0 0 0 0 1,342 Z\" style=\"fill: rgb(31, 119, 180);\"/><title>farm1 → Mary\napples\n5.00</title></g><g class=\"link\" style=\"opacity: 0.8;\"><path d=\"M1,120.60869565217392 A641.3050343249428 641.3050343249428 0.11663581569440629 0 1 75.62965761126904,124.96588183306278 L326.7736677730096,154.39182548622784 A620.6528604118993 620.6528604118993 0.11663581569440629 0 0 399,158.6086956521739 L399,179.2608695652174 A641.3050343249428 641.3050343249428 0.11663581569440629 0 1 324.37034238873093,174.90368338432853 L73.2263322269904,145.47773973116347 A620.6528604118993 620.6528604118993 0.11663581569440629 0 0 1,141.2608695652174 Z\" style=\"fill: rgb(174, 199, 232);\"/><title>farm2 → Susan\nbananas\n5.00</title></g><g class=\"link\" style=\"opacity: 0.8;\"><path d=\"M1,38 A0 0 0 0 0 1,38 L399,38 A0 0 0 0 0 399,38 L399,79.30434782608695 A0 0 0 0 0 399,79.30434782608695 L1,79.30434782608695 A0 0 0 0 0 1,79.30434782608695 Z\" style=\"fill: rgb(31, 119, 180);\"/><title>farm2 → Fred\napples\n10.0</title></g><g class=\"link\" style=\"opacity: 0.8;\"><path d=\"M1,79.30434782608697 A0 0 0 0 0 1,79.30434782608697 L399,79.30434782608697 A0 0 0 0 0 399,79.30434782608697 L399,120.6086956521739 A0 0 0 0 0 399,120.6086956521739 L1,120.6086956521739 A0 0 0 0 0 1,120.6086956521739 Z\" style=\"fill: rgb(174, 199, 232);\"/><title>farm2 → Fred\nbananas\n10.0</title></g><g class=\"link\" style=\"opacity: 0.8;\"><path d=\"M1,164.0608695652174 A1020.6521739130435 1020.6521739130435 0.04276303988265773 0 1 44.63288836753982,164.99394923410225 L357.1328728230529,178.36555030891785 A979.3478260869565 979.3478260869565 0.04276303988265773 0 0 399,179.26086956521738 L399,220.56521739130432 A1020.6521739130435 1020.6521739130435 0.04276303988265773 0 1 355.3671116324602,219.63213772241946 L42.86712717694715,206.26053664760386 A979.3478260869565 979.3478260869565 0.04276303988265773 0 0 1,205.36521739130433 Z\" style=\"fill: rgb(31, 119, 180);\"/><title>farm3 → Susan\napples\n10.0</title></g></g><g class=\"nodes\"><g class=\"node\" transform=\"translate(0,38)\"><title>farm2</title><text dy=\".35em\" text-anchor=\"end\" transform=\"translate(-4,51.63043478260869)\" style=\"display: inline;\">farm2</text><line x1=\"0\" x2=\"0\" y1=\"0\" y2=\"103.26086956521738\" style=\"display: inline; stroke: rgb(0, 0, 0);\"/><rect x=\"-5\" y=\"-5\" width=\"10\" style=\"fill: none; visibility: hidden; pointer-events: all;\" height=\"108.26086956521738\"/></g><g class=\"node\" transform=\"translate(0,164.0608695652174)\"><title>farm3</title><text dy=\".35em\" text-anchor=\"end\" transform=\"translate(-4,20.65217391304347)\" style=\"display: inline;\">farm3</text><line x1=\"0\" x2=\"0\" y1=\"0\" y2=\"41.30434782608694\" style=\"display: inline; stroke: rgb(0, 0, 0);\"/><rect x=\"-5\" y=\"-5\" width=\"10\" style=\"fill: none; visibility: hidden; pointer-events: all;\" height=\"46.30434782608694\"/></g><g class=\"node\" transform=\"translate(0,308.95652173913044)\"><title>farm1</title><text dy=\".35em\" text-anchor=\"end\" transform=\"translate(-4,16.52173913043478)\" style=\"display: inline;\">farm1</text><line x1=\"0\" x2=\"0\" y1=\"0\" y2=\"33.04347826086956\" style=\"display: inline; stroke: rgb(0, 0, 0);\"/><rect x=\"-5\" y=\"-5\" width=\"10\" style=\"fill: none; visibility: hidden; pointer-events: all;\" height=\"38.04347826086956\"/></g><g class=\"node\" transform=\"translate(0,228.16521739130434)\"><title>farm4</title><text dy=\".35em\" text-anchor=\"end\" transform=\"translate(-4,2.065217391304344)\" style=\"display: inline;\">farm4</text><line x1=\"0\" x2=\"0\" y1=\"0\" y2=\"4.130434782608688\" style=\"display: inline; stroke: rgb(0, 0, 0);\"/><rect x=\"-5\" y=\"-5\" width=\"10\" style=\"fill: none; visibility: hidden; pointer-events: all;\" height=\"9.130434782608688\"/></g><g class=\"node\" transform=\"translate(0,282.02608695652174)\"><title>farm6</title><text dy=\".35em\" text-anchor=\"end\" transform=\"translate(-4,2.065217391304344)\" style=\"display: inline;\">farm6</text><line x1=\"0\" x2=\"0\" y1=\"0\" y2=\"4.130434782608688\" style=\"display: inline; stroke: rgb(0, 0, 0);\"/><rect x=\"-5\" y=\"-5\" width=\"10\" style=\"fill: none; visibility: hidden; pointer-events: all;\" height=\"9.130434782608688\"/></g><g class=\"node\" transform=\"translate(399,270.95652173913044)\"><title>James</title><text dy=\".35em\" text-anchor=\"start\" transform=\"translate(4,6.195652173913032)\" style=\"display: inline;\">James</text><line x1=\"0\" x2=\"0\" y1=\"0\" y2=\"12.391304347826065\" style=\"display: inline; stroke: rgb(0, 0, 0);\"/><rect x=\"-5\" y=\"-5\" width=\"10\" style=\"fill: none; visibility: hidden; pointer-events: all;\" height=\"17.391304347826065\"/></g><g class=\"node\" transform=\"translate(399,38)\"><title>Fred</title><text dy=\".35em\" text-anchor=\"start\" transform=\"translate(4,41.30434782608695)\" style=\"display: inline;\">Fred</text><line x1=\"0\" x2=\"0\" y1=\"0\" y2=\"82.6086956521739\" style=\"display: inline; stroke: rgb(0, 0, 0);\"/><rect x=\"-5\" y=\"-5\" width=\"10\" style=\"fill: none; visibility: hidden; pointer-events: all;\" height=\"87.6086956521739\"/></g><g class=\"node\" transform=\"translate(0,255.09565217391304)\"><title>farm5</title><text dy=\".35em\" text-anchor=\"end\" transform=\"translate(-4,2.065217391304344)\" style=\"display: inline;\">farm5</text><line x1=\"0\" x2=\"0\" y1=\"0\" y2=\"4.130434782608688\" style=\"display: inline; stroke: rgb(0, 0, 0);\"/><rect x=\"-5\" y=\"-5\" width=\"10\" style=\"fill: none; visibility: hidden; pointer-events: all;\" height=\"9.130434782608688\"/></g><g class=\"node\" transform=\"translate(399,321.3478260869565)\"><title>Mary</title><text dy=\".35em\" text-anchor=\"start\" transform=\"translate(4,10.326086956521749)\" style=\"display: inline;\">Mary</text><line x1=\"0\" x2=\"0\" y1=\"0\" y2=\"20.652173913043498\" style=\"display: inline; stroke: rgb(0, 0, 0);\"/><rect x=\"-5\" y=\"-5\" width=\"10\" style=\"fill: none; visibility: hidden; pointer-events: all;\" height=\"25.652173913043498\"/></g><g class=\"node\" transform=\"translate(399,158.6086956521739)\"><title>Susan</title><text dy=\".35em\" text-anchor=\"start\" transform=\"translate(4,37.173913043478265)\" style=\"display: inline;\">Susan</text><line x1=\"0\" x2=\"0\" y1=\"0\" y2=\"74.34782608695653\" style=\"display: inline; stroke: rgb(0, 0, 0);\"/><rect x=\"-5\" y=\"-5\" width=\"10\" style=\"fill: none; visibility: hidden; pointer-events: all;\" height=\"79.34782608695653\"/></g></g><g class=\"slice-titles\"/></g></svg>"
      }
     },
     "52f1e2130c904500a85adc9b140cb88a": {
      "model_module": "@jupyter-widgets/base",
      "model_module_version": "1.0.0",
      "model_name": "LayoutModel",
      "state": {
       "height": "300",
       "width": "570"
      }
     },
     "67c3a21cc1664e58a7bf3c642bfeac7b": {
      "model_module": "@jupyter-widgets/base",
      "model_module_version": "1.0.0",
      "model_name": "LayoutModel",
      "state": {}
     },
     "76d03ad6ba044b988b8688daa6ce8f20": {
      "model_module": "@jupyter-widgets/base",
      "model_module_version": "1.0.0",
      "model_name": "LayoutModel",
      "state": {
       "height": "300",
       "width": "570"
      }
     },
     "7daeaae6b1ca4af8a22763c50722e8d8": {
      "model_module": "@jupyter-widgets/base",
      "model_module_version": "1.0.0",
      "model_name": "LayoutModel",
      "state": {
       "height": "300",
       "width": "570"
      }
     },
     "7f42aac9e8634d1da119f53fce91dbab": {
      "model_module": "jupyter-sankey-widget",
      "model_module_version": "^0.2.3",
      "model_name": "SankeyModel",
      "state": {
       "_model_module_version": "^0.2.3",
       "_view_module_version": "^0.2.3",
       "groups": [
        {
         "id": "farms",
         "nodes": [
          "farms^farm1",
          "farms^farm2",
          "farms^farm3",
          "farms^other"
         ],
         "rect": {
          "bottom": 238.49999999999997,
          "left": 0,
          "right": 1,
          "top": 26.5
         },
         "title": "",
         "type": "process"
        },
        {
         "id": "waypoint",
         "nodes": [
          "waypoint^apples",
          "waypoint^bananas"
         ],
         "rect": {
          "bottom": 238.50000000000003,
          "left": 154.5,
          "right": 155.5,
          "top": 26.5
         },
         "title": "",
         "type": "group"
        },
        {
         "id": "customers",
         "nodes": [
          "customers^Men",
          "customers^Women"
         ],
         "rect": {
          "bottom": 238.5,
          "left": 309,
          "right": 310,
          "top": 26.5
         },
         "title": "",
         "type": "process"
        }
       ],
       "layout": "IPY_MODEL_e8b7773bfbcc47a4b9e142233114ef26",
       "links": [
        {
         "color": "yellowgreen",
         "opacity": 1,
         "source": "farms^farm3",
         "target": "waypoint^apples",
         "time": "*",
         "title": "apples",
         "type": "apples",
         "value": 10
        },
        {
         "color": "yellowgreen",
         "opacity": 1,
         "source": "waypoint^apples",
         "target": "customers^Men",
         "time": "*",
         "title": "apples",
         "type": "apples",
         "value": 13
        },
        {
         "color": "yellowgreen",
         "opacity": 1,
         "source": "waypoint^apples",
         "target": "customers^Women",
         "time": "*",
         "title": "apples",
         "type": "apples",
         "value": 15
        },
        {
         "color": "yellowgreen",
         "opacity": 1,
         "source": "farms^farm1",
         "target": "waypoint^apples",
         "time": "*",
         "title": "apples",
         "type": "apples",
         "value": 8
        },
        {
         "color": "yellowgreen",
         "opacity": 1,
         "source": "farms^farm2",
         "target": "waypoint^apples",
         "time": "*",
         "title": "apples",
         "type": "apples",
         "value": 10
        },
        {
         "color": "gold",
         "opacity": 1,
         "source": "farms^farm2",
         "target": "waypoint^bananas",
         "time": "*",
         "title": "bananas",
         "type": "bananas",
         "value": 15
        },
        {
         "color": "gold",
         "opacity": 1,
         "source": "waypoint^bananas",
         "target": "customers^Men",
         "time": "*",
         "title": "bananas",
         "type": "bananas",
         "value": 10
        },
        {
         "color": "gold",
         "opacity": 1,
         "source": "waypoint^bananas",
         "target": "customers^Women",
         "time": "*",
         "title": "bananas",
         "type": "bananas",
         "value": 8
        },
        {
         "color": "gold",
         "opacity": 1,
         "source": "farms^other",
         "target": "waypoint^bananas",
         "time": "*",
         "title": "bananas",
         "type": "bananas",
         "value": 3
        }
       ],
       "margins": {
        "bottom": 10,
        "left": 130,
        "right": 130,
        "top": 25
       },
       "nodes": [
        {
         "id": "farms^farm3",
         "style": {
          "direction": "r",
          "hidden": false,
          "type": "process"
         },
         "title": "farm3"
        },
        {
         "id": "waypoint^apples",
         "style": {
          "direction": "r",
          "hidden": false,
          "type": "group"
         },
         "title": "apples"
        },
        {
         "id": "farms^farm1",
         "style": {
          "direction": "r",
          "hidden": false,
          "type": "process"
         },
         "title": "farm1"
        },
        {
         "id": "farms^farm2",
         "style": {
          "direction": "r",
          "hidden": false,
          "type": "process"
         },
         "title": "farm2"
        },
        {
         "id": "customers^Men",
         "style": {
          "direction": "r",
          "hidden": false,
          "type": "process"
         },
         "title": "Men"
        },
        {
         "id": "waypoint^bananas",
         "style": {
          "direction": "r",
          "hidden": false,
          "type": "group"
         },
         "title": "bananas"
        },
        {
         "id": "farms^other",
         "style": {
          "direction": "r",
          "hidden": false,
          "type": "process"
         },
         "title": "other"
        },
        {
         "id": "customers^Women",
         "style": {
          "direction": "r",
          "hidden": false,
          "type": "process"
         },
         "title": "Women"
        }
       ],
       "order": [
        [
         [
          "farms^farm1",
          "farms^farm2",
          "farms^farm3",
          "farms^other"
         ]
        ],
        [
         [
          "waypoint^apples",
          "waypoint^bananas"
         ]
        ],
        [
         [
          "customers^Men",
          "customers^Women"
         ]
        ]
       ],
       "png": "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",
       "scale": 2.880434782608696,
       "svg": "<?xml version=\"1.0\" standalone=\"no\"?><!DOCTYPE svg PUBLIC \"-//W3C//DTD SVG 1.1//EN\" \"http://www.w3.org/Graphics/SVG/1.1/DTD/svg11.dtd\"><svg xmlns=\"http://www.w3.org/2000/svg\" width=\"570\" height=\"300\" viewBox=\"0 0 570 300\"><g class=\"sankey\" transform=\"translate(130,25)\"><g class=\"groups\"><g class=\"group\" style=\"display: none;\" transform=\"translate(0,26.5)\"><rect x=\"-10\" y=\"-20\" width=\"21\" height=\"241.99999999999997\" style=\"fill: rgb(238, 238, 238); stroke: rgb(187, 187, 187); stroke-width: 0.5;\"/><text x=\"-10\" y=\"-25\" style=\"fill: rgb(153, 153, 153);\"/></g><g class=\"group\" style=\"display: none;\" transform=\"translate(154.5,26.5)\"><rect x=\"-10\" y=\"-20\" width=\"21\" height=\"242.00000000000003\" style=\"fill: rgb(238, 238, 238); stroke: rgb(187, 187, 187); stroke-width: 0.5;\"/><text x=\"-10\" y=\"-25\" style=\"fill: rgb(153, 153, 153);\"/></g><g class=\"group\" style=\"display: none;\" transform=\"translate(309,26.5)\"><rect x=\"-10\" y=\"-20\" width=\"21\" height=\"242\" style=\"fill: rgb(238, 238, 238); stroke: rgb(187, 187, 187); stroke-width: 0.5;\"/><text x=\"-10\" y=\"-25\" style=\"fill: rgb(153, 153, 153);\"/></g></g><g class=\"links\"><g class=\"link\" style=\"opacity: 0.8;\"><path d=\"M1,229.85869565217388 A0 0 0 0 1 1,229.85869565217388 L154.5,229.85869565217394 A0 0 0 0 0 154.5,229.85869565217394 L154.5,238.5 A0 0 0 0 1 154.5,238.5 L1,238.49999999999994 A0 0 0 0 0 1,238.49999999999994 Z\" style=\"fill: rgb(255, 215, 0);\"/><title>other → bananas\nbananas\n3.00</title></g><g class=\"link\" style=\"opacity: 0.8;\"><path d=\"M1,26.5 A0 0 0 0 0 1,26.5 L154.5,26.5 A0 0 0 0 0 154.5,26.5 L154.5,49.54347826086956 A0 0 0 0 0 154.5,49.54347826086956 L1,49.54347826086956 A0 0 0 0 0 1,49.54347826086956 Z\" style=\"fill: rgb(154, 205, 50);\"/><title>farm1 → apples\napples\n8.00</title></g><g class=\"link\" style=\"opacity: 0.8;\"><path d=\"M155.5,215.45652173913047 A0 0 0 0 0 155.5,215.45652173913047 L309,215.45652173913044 A0 0 0 0 1 309,215.45652173913044 L309,238.5 A0 0 0 0 0 309,238.5 L155.5,238.50000000000003 A0 0 0 0 1 155.5,238.50000000000003 Z\" style=\"fill: rgb(255, 215, 0);\"/><title>bananas → Women\nbananas\n8.00</title></g><g class=\"link\" style=\"opacity: 0.8;\"><path d=\"M1,174.55434782608694 A36.76578886934909 36.76578886934909 0.6891285182992767 0 0 24.37807149360012,166.16441144482488 L112.80625723934926,93.31090160643755 A65.57013669543605 65.57013669543605 0.6891285182992767 0 1 154.5,78.34782608695652 L154.5,107.15217391304348 A36.76578886934909 36.76578886934909 0.6891285182992767 0 0 131.12192850639988,115.54211029430554 L42.693742760650736,188.39562013269287 A65.57013669543605 65.57013669543605 0.6891285182992767 0 1 1,203.35869565217388 Z\" style=\"fill: rgb(154, 205, 50);\"/><title>farm3 → apples\napples\n10.0</title></g><g class=\"link\" style=\"opacity: 0.8;\"><path d=\"M1,76.04347826086956 A122.94405250205081 122.94405250205081 0.2095324358554187 0 0 26.572680717080036,73.35447990029469 L122.9359404790697,52.86247736166311 A151.74840032813776 151.74840032813776 0.2095324358554187 0 1 154.5,49.54347826086956 L154.5,78.34782608695652 A122.94405250205081 122.94405250205081 0.2095324358554187 0 0 128.92731928291997,81.03682444753139 L32.56405952093029,101.52882698616297 A151.74840032813776 151.74840032813776 0.2095324358554187 0 1 1,104.84782608695653 Z\" style=\"fill: rgb(154, 205, 50);\"/><title>farm2 → apples\napples\n10.0</title></g><g class=\"link\" style=\"opacity: 0.8;\"><path d=\"M155.5,186.6521739130435 A32.80698000554599 32.80698000554599 0.8319044477804922 0 0 179.75142149364535,175.9396840039412 L263.455963951101,84.06364924560894 A61.61132783163294 61.61132783163294 0.8319044477804922 0 1 309,63.945652173913054 L309,92.75000000000001 A32.80698000554599 32.80698000554599 0.8319044477804922 0 0 284.74857850635465,103.46248990910227 L201.044036048899,195.33852466743454 A61.61132783163294 61.61132783163294 0.8319044477804922 0 1 155.5,215.45652173913044 Z\" style=\"fill: rgb(255, 215, 0);\"/><title>bananas → Men\nbananas\n10.0</title></g><g class=\"link\" style=\"opacity: 0.8;\"><path d=\"M155.5,26.5 A0 0 0 0 0 155.5,26.5 L309,26.5 A0 0 0 0 0 309,26.5 L309,63.94565217391305 A0 0 0 0 0 309,63.94565217391305 L155.5,63.94565217391305 A0 0 0 0 0 155.5,63.94565217391305 Z\" style=\"fill: rgb(154, 205, 50);\"/><title>apples → Men\napples\n13.0</title></g><g class=\"link\" style=\"opacity: 0.8;\"><path d=\"M155.5,63.94565217391305 A70.48229823015028 70.48229823015028 0.7570755441758941 0 1 203.9071544104528,83.19805907403585 L290.2670307663011,164.7995569709263 A27.27577649101984 27.27577649101984 0.7570755441758941 0 0 309,172.25 L309,215.45652173913044 A70.48229823015028 70.48229823015028 0.7570755441758941 0 1 260.5928455895472,196.20411483900762 L174.2329692336989,114.60261694211721 A27.27577649101984 27.27577649101984 0.7570755441758941 0 0 155.5,107.15217391304348 Z\" style=\"fill: rgb(154, 205, 50);\"/><title>apples → Women\napples\n15.0</title></g><g class=\"link\" style=\"opacity: 0.8;\"><path d=\"M1,104.84782608695652 A77.07867653005812 77.07867653005812 0.6020212622211646 0 1 44.6503897365504,118.39882477914159 L135.31787565119677,180.69719977574945 A33.872154790927674 33.872154790927674 0.6020212622211646 0 0 154.5,186.6521739130435 L154.5,229.85869565217394 A77.07867653005812 77.07867653005812 0.6020212622211646 0 1 110.84961026344959,216.30769695998887 L20.182124348803235,154.009321963381 A33.872154790927674 33.872154790927674 0.6020212622211646 0 0 1,148.05434782608694 Z\" style=\"fill: rgb(255, 215, 0);\"/><title>farm2 → bananas\nbananas\n15.0</title></g></g><g class=\"nodes\"><g class=\"node\" transform=\"translate(0,174.55434782608694)\"><title>farm3</title><text dy=\".35em\" text-anchor=\"end\" transform=\"translate(-4,14.402173913043484)\" style=\"display: inline;\">farm3</text><line x1=\"0\" x2=\"0\" y1=\"0\" y2=\"28.804347826086968\" style=\"display: inline; stroke: rgb(0, 0, 0);\"/><rect x=\"-5\" y=\"-5\" width=\"10\" style=\"fill: none; visibility: hidden; pointer-events: all;\" height=\"33.80434782608697\"/></g><g class=\"node\" transform=\"translate(154.5,26.5)\"><title>apples</title><text dy=\".35em\" text-anchor=\"start\" transform=\"translate(-4,-10)\" style=\"display: inline;\">apples</text><line x1=\"0\" x2=\"0\" y1=\"-5\" y2=\"80.65217391304348\" style=\"display: inline; stroke: rgb(0, 0, 0);\"/><rect x=\"-5\" y=\"-5\" width=\"10\" style=\"fill: none; visibility: hidden; pointer-events: all;\" height=\"85.65217391304348\"/></g><g class=\"node\" transform=\"translate(0,26.5)\"><title>farm1</title><text dy=\".35em\" text-anchor=\"end\" transform=\"translate(-4,11.521739130434781)\" style=\"display: inline;\">farm1</text><line x1=\"0\" x2=\"0\" y1=\"0\" y2=\"23.043478260869563\" style=\"display: inline; stroke: rgb(0, 0, 0);\"/><rect x=\"-5\" y=\"-5\" width=\"10\" style=\"fill: none; visibility: hidden; pointer-events: all;\" height=\"28.043478260869563\"/></g><g class=\"node\" transform=\"translate(0,76.04347826086956)\"><title>farm2</title><text dy=\".35em\" text-anchor=\"end\" transform=\"translate(-4,36.00543478260869)\" style=\"display: inline;\">farm2</text><line x1=\"0\" x2=\"0\" y1=\"0\" y2=\"72.01086956521738\" style=\"display: inline; stroke: rgb(0, 0, 0);\"/><rect x=\"-5\" y=\"-5\" width=\"10\" style=\"fill: none; visibility: hidden; pointer-events: all;\" height=\"77.01086956521738\"/></g><g class=\"node\" transform=\"translate(309,26.5)\"><title>Men</title><text dy=\".35em\" text-anchor=\"start\" transform=\"translate(4,33.125)\" style=\"display: inline;\">Men</text><line x1=\"0\" x2=\"0\" y1=\"0\" y2=\"66.25\" style=\"display: inline; stroke: rgb(0, 0, 0);\"/><rect x=\"-5\" y=\"-5\" width=\"10\" style=\"fill: none; visibility: hidden; pointer-events: all;\" height=\"71.25\"/></g><g class=\"node\" transform=\"translate(154.5,186.6521739130435)\"><title>bananas</title><text dy=\".35em\" text-anchor=\"start\" transform=\"translate(-4,-10)\" style=\"display: inline;\">bananas</text><line x1=\"0\" x2=\"0\" y1=\"-5\" y2=\"51.84782608695653\" style=\"display: inline; stroke: rgb(0, 0, 0);\"/><rect x=\"-5\" y=\"-5\" width=\"10\" style=\"fill: none; visibility: hidden; pointer-events: all;\" height=\"56.84782608695653\"/></g><g class=\"node\" transform=\"translate(0,229.85869565217388)\"><title>other</title><text dy=\".35em\" text-anchor=\"end\" transform=\"translate(-4,4.320652173913047)\" style=\"display: inline;\">other</text><line x1=\"0\" x2=\"0\" y1=\"0\" y2=\"8.641304347826093\" style=\"display: inline; stroke: rgb(0, 0, 0);\"/><rect x=\"-5\" y=\"-5\" width=\"10\" style=\"fill: none; visibility: hidden; pointer-events: all;\" height=\"13.641304347826093\"/></g><g class=\"node\" transform=\"translate(309,172.25)\"><title>Women</title><text dy=\".35em\" text-anchor=\"start\" transform=\"translate(4,33.125)\" style=\"display: inline;\">Women</text><line x1=\"0\" x2=\"0\" y1=\"0\" y2=\"66.25\" style=\"display: inline; stroke: rgb(0, 0, 0);\"/><rect x=\"-5\" y=\"-5\" width=\"10\" style=\"fill: none; visibility: hidden; pointer-events: all;\" height=\"71.25\"/></g></g><g class=\"slice-titles\"/></g></svg>"
      }
     },
     "931f8e0c9aa14fe49903830e6c05b194": {
      "model_module": "jupyter-sankey-widget",
      "model_module_version": "^0.2.3",
      "model_name": "SankeyModel",
      "state": {
       "_model_module_version": "^0.2.3",
       "_view_module_version": "^0.2.3",
       "layout": "IPY_MODEL_c73aa58aa07b4173b4838499d783ef11",
       "links": [
        {
         "color": "#FBB4AE",
         "opacity": 1,
         "source": "farms^*",
         "target": "customers^*",
         "time": "*",
         "title": "*",
         "type": "*",
         "value": 46
        }
       ],
       "margins": {
        "bottom": 10,
        "left": 130,
        "right": 130,
        "top": 25
       },
       "nodes": [
        {
         "id": "customers^*",
         "style": {
          "direction": "r",
          "hidden": false,
          "type": "process"
         },
         "title": "customers"
        },
        {
         "id": "farms^*",
         "style": {
          "direction": "r",
          "hidden": false,
          "type": "process"
         },
         "title": "farms"
        }
       ],
       "order": [
        [
         [
          "farms^*"
         ]
        ],
        [
         [
          "customers^*"
         ]
        ]
       ],
       "png": "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",
       "scale": 2.880434782608696,
       "svg": "<?xml version=\"1.0\" standalone=\"no\"?><!DOCTYPE svg PUBLIC \"-//W3C//DTD SVG 1.1//EN\" \"http://www.w3.org/Graphics/SVG/1.1/DTD/svg11.dtd\"><svg xmlns=\"http://www.w3.org/2000/svg\" width=\"570\" height=\"300\" viewBox=\"0 0 570 300\"><g class=\"sankey\" transform=\"translate(130,25)\"><g class=\"groups\"/><g class=\"links\"><g class=\"link\" style=\"opacity: 0.8;\"><path d=\"M1,66.25 A0 0 0 0 0 1,66.25 L309,66.25 A0 0 0 0 0 309,66.25 L309,198.75 A0 0 0 0 0 309,198.75 L1,198.75 A0 0 0 0 0 1,198.75 Z\" style=\"fill: rgb(251, 180, 174);\"/><title>farms → customers\n*\n46.0</title></g></g><g class=\"nodes\"><g class=\"node\" transform=\"translate(309,66.25)\"><title>customers</title><text dy=\".35em\" text-anchor=\"start\" transform=\"translate(4,66.25)\" style=\"display: inline;\">customers</text><line x1=\"0\" x2=\"0\" y1=\"0\" y2=\"132.5\" style=\"display: inline; stroke: rgb(0, 0, 0);\"/><rect x=\"-5\" y=\"-5\" width=\"10\" style=\"fill: none; visibility: hidden; pointer-events: all;\" height=\"137.5\"/></g><g class=\"node\" transform=\"translate(0,66.25)\"><title>farms</title><text dy=\".35em\" text-anchor=\"end\" transform=\"translate(-4,66.25)\" style=\"display: inline;\">farms</text><line x1=\"0\" x2=\"0\" y1=\"0\" y2=\"132.5\" style=\"display: inline; stroke: rgb(0, 0, 0);\"/><rect x=\"-5\" y=\"-5\" width=\"10\" style=\"fill: none; visibility: hidden; pointer-events: all;\" height=\"137.5\"/></g></g><g class=\"slice-titles\"/></g></svg>"
      }
     },
     "c73aa58aa07b4173b4838499d783ef11": {
      "model_module": "@jupyter-widgets/base",
      "model_module_version": "1.0.0",
      "model_name": "LayoutModel",
      "state": {
       "height": "300",
       "width": "570"
      }
     },
     "e8b7773bfbcc47a4b9e142233114ef26": {
      "model_module": "@jupyter-widgets/base",
      "model_module_version": "1.0.0",
      "model_name": "LayoutModel",
      "state": {
       "height": "300",
       "width": "570"
      }
     }
    },
    "version_major": 2,
    "version_minor": 0
   }
  }
 },
 "nbformat": 4,
 "nbformat_minor": 2
}
